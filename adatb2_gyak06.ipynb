{
    "metadata": {
        "kernelspec": {
            "name": "SQL",
            "display_name": "SQL",
            "language": "sql"
        },
        "language_info": {
            "name": "sql",
            "version": ""
        },
        "extensions": {
            "azuredatastudio": {
                "version": 1,
                "views": []
            }
        }
    },
    "nbformat_minor": 2,
    "nbformat": 4,
    "cells": [
        {
            "cell_type": "code",
            "source": [
                "drop table if exists #Szervezet;\r\n",
                "\r\n",
                "create table #Szervezet\r\n",
                "(\r\n",
                "    Szint HIERARCHYID,\r\n",
                "    Beosztas NVARCHAR(100)\r\n",
                ");\r\n",
                "\r\n",
                "insert into #Szervezet values('/1/', 'vezerigazgato');\r\n",
                "insert into #Szervezet values('/1/1/', 'marketing igazgato');\r\n",
                "insert into #Szervezet values('/1/2/', 'penzugyi igazgato');\r\n",
                "insert into #Szervezet values('/1/3/', 'ugyvezeto igazgato');\r\n",
                "insert into #Szervezet values('/1/1/1/', 'marketing osztaly');\r\n",
                "insert into #Szervezet values('/1/2/1/', 'penzugyi osztaly');\r\n",
                "insert into #Szervezet values('/1/3/1/', 'termelesi osztaly');\r\n",
                "\r\n",
                "select cast(Szint as nvarchar(100)), Beosztas \r\n",
                "from #Szervezet;"
            ],
            "metadata": {
                "azdata_cell_guid": "78b51491-4513-4408-9d60-a988d90ef597"
            },
            "outputs": [
                {
                    "output_type": "display_data",
                    "data": {
                        "text/html": "(1 row affected)"
                    },
                    "metadata": {}
                },
                {
                    "output_type": "display_data",
                    "data": {
                        "text/html": "(1 row affected)"
                    },
                    "metadata": {}
                },
                {
                    "output_type": "display_data",
                    "data": {
                        "text/html": "(1 row affected)"
                    },
                    "metadata": {}
                },
                {
                    "output_type": "display_data",
                    "data": {
                        "text/html": "(1 row affected)"
                    },
                    "metadata": {}
                },
                {
                    "output_type": "display_data",
                    "data": {
                        "text/html": "(1 row affected)"
                    },
                    "metadata": {}
                },
                {
                    "output_type": "display_data",
                    "data": {
                        "text/html": "(1 row affected)"
                    },
                    "metadata": {}
                },
                {
                    "output_type": "display_data",
                    "data": {
                        "text/html": "(1 row affected)"
                    },
                    "metadata": {}
                },
                {
                    "output_type": "display_data",
                    "data": {
                        "text/html": "(7 rows affected)"
                    },
                    "metadata": {}
                },
                {
                    "output_type": "display_data",
                    "data": {
                        "text/html": "Total execution time: 00:00:00.080"
                    },
                    "metadata": {}
                },
                {
                    "output_type": "execute_result",
                    "metadata": {},
                    "execution_count": 2,
                    "data": {
                        "application/vnd.dataresource+json": {
                            "schema": {
                                "fields": [
                                    {
                                        "name": "(No column name)"
                                    },
                                    {
                                        "name": "Beosztas"
                                    }
                                ]
                            },
                            "data": [
                                {
                                    "0": "/1/",
                                    "1": "vezerigazgato"
                                },
                                {
                                    "0": "/1/1/",
                                    "1": "marketing igazgato"
                                },
                                {
                                    "0": "/1/2/",
                                    "1": "penzugyi igazgato"
                                },
                                {
                                    "0": "/1/3/",
                                    "1": "ugyvezeto igazgato"
                                },
                                {
                                    "0": "/1/1/1/",
                                    "1": "marketing osztaly"
                                },
                                {
                                    "0": "/1/2/1/",
                                    "1": "penzugyi osztaly"
                                },
                                {
                                    "0": "/1/3/1/",
                                    "1": "termelesi osztaly"
                                }
                            ]
                        },
                        "text/html": [
                            "<table>",
                            "<tr><th>(No column name)</th><th>Beosztas</th></tr>",
                            "<tr><td>/1/</td><td>vezerigazgato</td></tr>",
                            "<tr><td>/1/1/</td><td>marketing igazgato</td></tr>",
                            "<tr><td>/1/2/</td><td>penzugyi igazgato</td></tr>",
                            "<tr><td>/1/3/</td><td>ugyvezeto igazgato</td></tr>",
                            "<tr><td>/1/1/1/</td><td>marketing osztaly</td></tr>",
                            "<tr><td>/1/2/1/</td><td>penzugyi osztaly</td></tr>",
                            "<tr><td>/1/3/1/</td><td>termelesi osztaly</td></tr>",
                            "</table>"
                        ]
                    }
                }
            ],
            "execution_count": 2
        },
        {
            "cell_type": "code",
            "source": [
                "declare @k GEOGRAPHY;\r\n",
                "set @k = geography::STGeomFromText('Point(46.90616 19.69128)', 4236);\r\n",
                "\r\n",
                "declare @sz GEOGRAPHY;\r\n",
                "set @sz = geography::STGeomFromText('Point(47.186 18.4221)', 4236);\r\n",
                "\r\n",
                "select @k.STDistance(@sz);"
            ],
            "metadata": {
                "azdata_cell_guid": "3852cda3-eed7-4818-898d-422eaa772f8f"
            },
            "outputs": [
                {
                    "output_type": "display_data",
                    "data": {
                        "text/html": "(1 row affected)"
                    },
                    "metadata": {}
                },
                {
                    "output_type": "display_data",
                    "data": {
                        "text/html": "Total execution time: 00:00:00.048"
                    },
                    "metadata": {}
                },
                {
                    "output_type": "execute_result",
                    "metadata": {},
                    "execution_count": 3,
                    "data": {
                        "application/vnd.dataresource+json": {
                            "schema": {
                                "fields": [
                                    {
                                        "name": "(No column name)"
                                    }
                                ]
                            },
                            "data": [
                                {
                                    "0": "143545.81627163012"
                                }
                            ]
                        },
                        "text/html": [
                            "<table>",
                            "<tr><th>(No column name)</th></tr>",
                            "<tr><td>143545.81627163012</td></tr>",
                            "</table>"
                        ]
                    }
                }
            ],
            "execution_count": 3
        },
        {
            "cell_type": "code",
            "source": [
                "declare @js nvarchar(1000)=\r\n",
                "N'[\r\n",
                "    {\"name\":\"Shyam\", \"email\":\"shyamjaiswal@gmail.com\"},\r\n",
                "    {\"name\":\"Bob\", \"email\":\"bob32@gmail.com\"},  \r\n",
                "    {\"name\":\"Jai\", \"email\":\"jai87@gmail.com\"}  \r\n",
                "  ]'\r\n",
                "\r\n",
                "\r\n",
                "select * from openjson(@js)\r\n",
                "with\r\n",
                "(\r\n",
                "    name varchar(100) '$.name',\r\n",
                "    email varchar(100) '$.email'\r\n",
                ")"
            ],
            "metadata": {
                "azdata_cell_guid": "419087b0-3f6d-47eb-91a5-24169fd96755"
            },
            "outputs": [
                {
                    "output_type": "display_data",
                    "data": {
                        "text/html": "(3 rows affected)"
                    },
                    "metadata": {}
                },
                {
                    "output_type": "display_data",
                    "data": {
                        "text/html": "Total execution time: 00:00:00.041"
                    },
                    "metadata": {}
                },
                {
                    "output_type": "execute_result",
                    "metadata": {},
                    "execution_count": 5,
                    "data": {
                        "application/vnd.dataresource+json": {
                            "schema": {
                                "fields": [
                                    {
                                        "name": "name"
                                    },
                                    {
                                        "name": "email"
                                    }
                                ]
                            },
                            "data": [
                                {
                                    "0": "Shyam",
                                    "1": "shyamjaiswal@gmail.com"
                                },
                                {
                                    "0": "Bob",
                                    "1": "bob32@gmail.com"
                                },
                                {
                                    "0": "Jai",
                                    "1": "jai87@gmail.com"
                                }
                            ]
                        },
                        "text/html": [
                            "<table>",
                            "<tr><th>name</th><th>email</th></tr>",
                            "<tr><td>Shyam</td><td>shyamjaiswal@gmail.com</td></tr>",
                            "<tr><td>Bob</td><td>bob32@gmail.com</td></tr>",
                            "<tr><td>Jai</td><td>jai87@gmail.com</td></tr>",
                            "</table>"
                        ]
                    }
                }
            ],
            "execution_count": 5
        },
        {
            "cell_type": "code",
            "source": [
                ""
            ],
            "metadata": {
                "azdata_cell_guid": "704c4049-030f-4c9c-9ea2-0e752644217f"
            },
            "outputs": [],
            "execution_count": null
        }
    ]
}