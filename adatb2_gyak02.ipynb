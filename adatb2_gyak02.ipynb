{
    "metadata": {
        "kernelspec": {
            "name": "SQL",
            "display_name": "SQL",
            "language": "sql"
        },
        "language_info": {
            "name": "sql",
            "version": ""
        },
        "extensions": {
            "azuredatastudio": {
                "version": 1,
                "views": []
            }
        }
    },
    "nbformat_minor": 2,
    "nbformat": 4,
    "cells": [
        {
            "cell_type": "markdown",
            "source": [
                "<span style=\"color: #09885a;\">1. </span> Készítsünk listát arról, hogy melyik ügyfél (<span style=\"color: rgb(0, 0, 255);\">LOGIN</span>) hányszor rendelt  \n",
                "összesen. A lista tartalmazza a végösszeget <span style=\"color: rgb(0, 0, 255);\">is</span>. A listát rendezzük  \n",
                "a rendelések száma szerint növekvő sorrendbe!"
            ],
            "metadata": {
                "azdata_cell_guid": "25ef83ae-5fe7-48db-9faf-792af8dce555"
            },
            "attachments": {}
        },
        {
            "cell_type": "code",
            "source": [
                "select [login], count(1) from Rendeles\r\n",
                "group by rollup([login])\r\n",
                "order by count(1)"
            ],
            "metadata": {
                "azdata_cell_guid": "0204549b-7a8b-46a5-9862-70e57a3de34f"
            },
            "outputs": [],
            "execution_count": null
        },
        {
            "cell_type": "markdown",
            "source": [
                "2\\. Átlagosan hány termék van készleten kategóriánként (KAT\\_ID),  \n",
                "raktáranként (RAKTAR\\_KOD), illetve mennyiségi egységenként?  \n",
                "(szempontonként külön-külön) Az átlagot kerekítsük egészre!  \n",
                "A feladatot egy lekérdezéssel oldja meg!"
            ],
            "metadata": {
                "azdata_cell_guid": "453ffb66-ac5a-48c8-968c-465e7e64ca1b"
            },
            "attachments": {}
        },
        {
            "cell_type": "code",
            "source": [
                "select kat_id, raktar_kod, megys, round(avg(keszlet),0) as 'Atlagos keszlet'\r\n",
                "from termek t \r\n",
                "group by grouping sets(kat_id, raktar_kod, megys)"
            ],
            "metadata": {
                "azdata_cell_guid": "649f0fe8-fd7d-4e62-bc90-91076e6a80db"
            },
            "outputs": [],
            "execution_count": null
        },
        {
            "cell_type": "markdown",
            "source": [
                "3\\. Készítsünk listát a megrendelt termékek legkisebb és  \n",
                "legnagyobb egységáráról szállítási dátum, azon belül szállítási  \n",
                "mód szerinti bontásban ! A lista csak a 2015 májusi szállításokat  \n",
                "tartalmazza! Jelenítsük meg a részösszegeket és a végösszeget is!"
            ],
            "metadata": {
                "azdata_cell_guid": "3a3c4e41-b621-4e08-b879-78f1f8564bfa"
            },
            "attachments": {}
        },
        {
            "cell_type": "code",
            "source": [
                ""
            ],
            "metadata": {
                "azdata_cell_guid": "bb359042-df26-49da-a385-ca96b966b8c3"
            },
            "outputs": [],
            "execution_count": null
        },
        {
            "cell_type": "markdown",
            "source": [
                "4 .Készítsünk csoportot a termékek listaára alapján a következők szerint:  \n",
                "Az \"olcsó\" termékek legyenek azok, amelyek listaára 3000 alatt van.  \n",
                "A \"drága\" termékek legyenek az 5000 felettiek, a többi legyen \"közepes\".  \n",
                "Listázzuk az egyes csoportokat, és a csoportokba tartozó termékek  \n",
                "darabszámát! A lista jelenítse meg a végösszeget is!"
            ],
            "metadata": {
                "azdata_cell_guid": "16c0ca87-c668-4216-9a70-fba531289769"
            },
            "attachments": {}
        },
        {
            "cell_type": "code",
            "source": [
                "select case\r\n",
                "        when listaar > 5000 then 'draga'\r\n",
                "        when listaar < 3000 then 'olcso'\r\n",
                "        else 'kozepes'\r\n",
                "        end,\r\n",
                "        count(1) as 'darab'\r\n",
                "from termek\r\n",
                "group by rollup(case\r\n",
                "         when listaar > 5000 then 'draga'\r\n",
                "         when listaar < 3000 then 'olcso'\r\n",
                "         else 'kozepes'\r\n",
                "         end)"
            ],
            "metadata": {
                "azdata_cell_guid": "d2e08d04-329e-4555-9a7b-1fec9d5a75fb"
            },
            "outputs": [],
            "execution_count": null
        },
        {
            "cell_type": "markdown",
            "source": [
                "5\\. Listázzuk a rendelési tételek számát raktáranként éves bontásban!  \n",
                "A listában a raktár neve, az év és a darabszám jelenjen meg!  \n",
                "A lista jelenítse meg a részösszegeket és a végösszeget is!  \n",
                "A végösszeget megfelelően jelöljük!  \n",
                "Az oszlopokat nevezzük el értelemszerűen!"
            ],
            "metadata": {
                "azdata_cell_guid": "6d0f8d0b-d9b2-4167-a6f5-c046499fe3f6"
            },
            "attachments": {}
        },
        {
            "cell_type": "code",
            "source": [
                ""
            ],
            "metadata": {
                "azdata_cell_guid": "9a15b997-51d0-4814-a8fd-c55543458de0"
            },
            "outputs": [],
            "execution_count": null
        },
        {
            "cell_type": "markdown",
            "source": [
                "6\\. Készítsünk listát az ügyfelek adatairól név szerinti sorrendben.  \n",
                "Minden sorban jelenjen meg a sorrend szerint előző, illetve következő ügyfél neve is.  \n",
                "Ha nincs előző vagy következő ügyfél, akkor a 'Nincs' jelenjen meg!"
            ],
            "metadata": {
                "azdata_cell_guid": "39f58487-beb9-4d7d-94d2-0762cf76a319"
            },
            "attachments": {}
        },
        {
            "cell_type": "code",
            "source": [
                "select *, lag(nev, 1, 'Nincs') over(order by nev) as elozo_nev, lead(nev, 1, 'Nincs') over(order by nev) as kovetkezo_nev\r\n",
                "from ugyfel\r\n",
                "order by nev asc"
            ],
            "metadata": {
                "azdata_cell_guid": "f863100a-50d1-437f-96c1-3b4eee9b4959",
                "tags": []
            },
            "outputs": [],
            "execution_count": null
        },
        {
            "cell_type": "markdown",
            "source": [
                "7\\. Készítsünk lekérdezést, amely megmutatja, hogy melyik  \n",
                "termékkategóriába hány termék tartozik. A lista a kategória nevét  \n",
                "és a darabszámot jelenítse meg. A lista ne tartalmazzon duplikált sorokat.  \n",
                "A feladatot partíciók segítségével oldjuk meg!"
            ],
            "metadata": {
                "azdata_cell_guid": "9593632a-54ea-4c03-825e-9a6ba69a1528"
            },
            "attachments": {}
        },
        {
            "cell_type": "code",
            "source": [
                ""
            ],
            "metadata": {
                "azdata_cell_guid": "5416cc87-dab6-4017-a305-5cb178345dd9"
            },
            "outputs": [],
            "execution_count": null
        },
        {
            "cell_type": "markdown",
            "source": [
                "8\\. Készítsünk listát a rendelési tételekről.  \n",
                "Az egyes rendelési tételeket termékenként soroljuk be 4 osztályba a rendelés mennyisége alapján.\n",
                "\n",
                "Jelenítsük meg ezt az információt is egy új oszlopban, az oszlop neve legyen 'Mennyiségi kategória'.  \n",
                "A lista csak a 100 Ft feletti egységárú rendelési tételeket vegye figyelembe!"
            ],
            "metadata": {
                "azdata_cell_guid": "6b2be7f7-0e1b-4fc4-92de-90b6715d7647"
            },
            "attachments": {}
        },
        {
            "cell_type": "code",
            "source": [
                "select rt.*, ntile(4) over(partition by rt.termekkod order by rt.mennyiseg) as 'Mennyiségi kategória'\r\n",
                "from rendeles_tetel rt\r\n",
                "where rt.egysegar > 100"
            ],
            "metadata": {
                "azdata_cell_guid": "567aef4c-a7e5-4dec-a264-7f326e1ee820",
                "tags": []
            },
            "outputs": [],
            "execution_count": null
        },
        {
            "cell_type": "markdown",
            "source": [
                "9\\. Listázzuk a termékek kódját, megnevezését, kategóriájának nevét, és listaárát.  \n",
                "A listát egészítsük ki két új oszloppal, amelyek a kategória legolcsóbb, illetve legdrágább termékének árát tartalmazzák.  \n",
                "A két új oszlop létrehozásánál partíciókkal dolgozzunk!"
            ],
            "metadata": {
                "azdata_cell_guid": "5d826aeb-b0f8-4665-93a1-92c7c827d465"
            },
            "attachments": {}
        },
        {
            "cell_type": "code",
            "source": [
                ""
            ],
            "metadata": {
                "azdata_cell_guid": "f8c3b11e-200c-4252-a2cf-0bd6042f3fb1"
            },
            "outputs": [],
            "execution_count": null
        },
        {
            "cell_type": "markdown",
            "source": [
                "10\\. Készítsünk listát a rendelésekről. A lista legyen rendezve ügyfelenként (LOGIN), azon belül a rendelés dátuma szerint.  \n",
                "A listához készítsünk sorszámozást is.  \n",
                "A sorszám a következő formában jelenjen meg: sorszám\\_év\\_login. Pl: 1\\_2015\\_adam1  \n",
                "A számozás login-onként, azon belül rendelési évenként kezdődjön újra.  \n",
                "A sorszám oszlop neve legyen Azonosító."
            ],
            "metadata": {
                "azdata_cell_guid": "2f42a573-1384-422a-8040-1306b38f2657"
            },
            "attachments": {}
        },
        {
            "cell_type": "code",
            "source": [
                ""
            ],
            "metadata": {
                "azdata_cell_guid": "29db0d43-7709-44df-a749-ecaca8047f63"
            },
            "outputs": [],
            "execution_count": null
        },
        {
            "cell_type": "markdown",
            "source": [
                "11.Készítsünk listát a termékek adatairól listaár szerint növekvő  sorrenben!  \n",
                "A lista jelenítse meg két új oszlopban a sorrend szerint előző, illetve következő termék listaárát is a termék saját   \n",
                " kategóriájában és raktárában! Ahol nincs előző vagy következő  érték, ott 0 jelenjen meg!  \n",
                " Az oszlopokat nevezzük el értelemszerűen!"
            ],
            "metadata": {
                "azdata_cell_guid": "357279eb-71ee-473e-9763-eb0b238ff906"
            },
            "attachments": {}
        },
        {
            "cell_type": "code",
            "source": [
                ""
            ],
            "metadata": {
                "azdata_cell_guid": "f79d14ed-9aa1-4434-a9c3-8a9cf40b4d9c"
            },
            "outputs": [],
            "execution_count": null
        },
        {
            "cell_type": "markdown",
            "source": [
                "12\\. Listázzuk a termékek kódját, nevét és listaárát listaár szerinti sorrendben!  \n",
                "Vegyünk fel egy új oszlopot Mozgóátlag néven, amely minden esetben az aktuális termék,  \n",
                "az előző, és a következő termék átlagárát tartalmazza!  \n",
                "A mozgóátlagot kerekítsük két tizedesre!"
            ],
            "metadata": {
                "azdata_cell_guid": "f974b17a-0c4a-47f7-8f00-550e9847550f"
            },
            "attachments": {}
        },
        {
            "cell_type": "code",
            "source": [
                "select \r\n",
                "t.termekkod, \r\n",
                "t.megnevezes, \r\n",
                "t.listaar, \r\n",
                "avg(t.listaar) over(order by t.listaar rows between 1 preceding and 1 following) as 'harmas_atlag'\r\n",
                "from termek t\r\n",
                "order by t.listaar asc"
            ],
            "metadata": {
                "azdata_cell_guid": "d6acc00d-7046-4f2c-810d-f82a18cca1a4"
            },
            "outputs": [
                {
                    "output_type": "display_data",
                    "data": {
                        "text/html": "(551 rows affected)"
                    },
                    "metadata": {}
                },
                {
                    "output_type": "display_data",
                    "data": {
                        "text/html": "Total execution time: 00:00:00.112"
                    },
                    "metadata": {}
                },
                {
                    "output_type": "execute_result",
                    "metadata": {},
                    "execution_count": 12,
                    "data": {
                        "application/vnd.dataresource+json": {
                            "schema": {
                                "fields": [
                                    {
                                        "name": "termekkod"
                                    },
                                    {
                                        "name": "megnevezes"
                                    },
                                    {
                                        "name": "listaar"
                                    },
                                    {
                                        "name": "harmas_atlag"
                                    }
                                ]
                            },
                            "data": [
                                {
                                    "0": "07030108T",
                                    "1": "Filctoll CD író",
                                    "2": "0",
                                    "3": "1.5"
                                },
                                {
                                    "0": "01090498T",
                                    "1": "Műnyomó 300g 17,5*20",
                                    "2": "3",
                                    "3": "2"
                                },
                                {
                                    "0": "02030042T",
                                    "1": "Boríték LC 6",
                                    "2": "3",
                                    "3": "3"
                                },
                                {
                                    "0": "04030288T",
                                    "1": "Műanyag pohár 1 dl-es",
                                    "2": "3",
                                    "3": "3.3333333333333335"
                                },
                                {
                                    "0": "01090501T",
                                    "1": "Kreatív A/4 300g ",
                                    "2": "4",
                                    "3": "3.6666666666666665"
                                },
                                {
                                    "0": "01090517T",
                                    "1": "Színes ofszet B/4",
                                    "2": "4",
                                    "3": "4.333333333333333"
                                },
                                {
                                    "0": "06040089T",
                                    "1": "Ellenőrzőborító",
                                    "2": "5",
                                    "3": "5"
                                },
                                {
                                    "0": "02030040T",
                                    "1": "Boríték LA 4 francia",
                                    "2": "6",
                                    "3": "5.666666666666667"
                                },
                                {
                                    "0": "02030041T",
                                    "1": "Boríték LC 5",
                                    "2": "6",
                                    "3": "6.666666666666667"
                                },
                                {
                                    "0": "02040147T",
                                    "1": "Genotherm lefűzhető A/5",
                                    "2": "8",
                                    "3": "7.333333333333333"
                                },
                                {
                                    "0": "06010377T",
                                    "1": "Szögmérő színes",
                                    "2": "8",
                                    "3": "8"
                                },
                                {
                                    "0": "06080425T",
                                    "1": "Miliméterpapír",
                                    "2": "8",
                                    "3": "8"
                                },
                                {
                                    "0": "06040181T",
                                    "1": "Gyűjtőlap A/4",
                                    "2": "8",
                                    "3": "8"
                                },
                                {
                                    "0": "06040353T",
                                    "1": "Sorvezető",
                                    "2": "8",
                                    "3": "8"
                                },
                                {
                                    "0": "06080118T",
                                    "1": "Füzetborító átlátszó A5",
                                    "2": "8",
                                    "3": "8.333333333333334"
                                },
                                {
                                    "0": "07040388T",
                                    "1": "Tintapatron /kék/",
                                    "2": "9",
                                    "3": "8.666666666666666"
                                },
                                {
                                    "0": "06010305T",
                                    "1": "Papírcenti 100 cm-es",
                                    "2": "9",
                                    "3": "9"
                                },
                                {
                                    "0": "01100072T",
                                    "1": "Dipa A/4 keretezett",
                                    "2": "9",
                                    "3": "9.333333333333334"
                                },
                                {
                                    "0": "01100503T",
                                    "1": "Color Copy A4 120 g",
                                    "2": "10",
                                    "3": "9.666666666666666"
                                },
                                {
                                    "0": "06080117T",
                                    "1": "Füzetborító A/4 átlátszó",
                                    "2": "10",
                                    "3": "10.333333333333334"
                                },
                                {
                                    "0": "07040058T",
                                    "1": "Ceruza radíros kínai",
                                    "2": "11",
                                    "3": "10.666666666666666"
                                },
                                {
                                    "0": "07040390T",
                                    "1": "Tintapatron színes",
                                    "2": "11",
                                    "3": "11"
                                },
                                {
                                    "0": "07080065T",
                                    "1": "Ceruza kínai",
                                    "2": "11",
                                    "3": "11"
                                },
                                {
                                    "0": "01090515T",
                                    "1": "Színes A/3 160 gr IQ",
                                    "2": "11",
                                    "3": "11"
                                },
                                {
                                    "0": "06010376T",
                                    "1": "Szögmérő papír",
                                    "2": "11",
                                    "3": "11"
                                },
                                {
                                    "0": "04030285T",
                                    "1": "Mikulás zacskó",
                                    "2": "11",
                                    "3": "11"
                                },
                                {
                                    "0": "04050269T",
                                    "1": "Lufi hullámos",
                                    "2": "11",
                                    "3": "11.333333333333334"
                                },
                                {
                                    "0": "06040206T",
                                    "1": "kék indigó",
                                    "2": "12",
                                    "3": "12"
                                },
                                {
                                    "0": "01100510T",
                                    "1": "Kreatív A/4 120g ",
                                    "2": "13",
                                    "3": "13"
                                },
                                {
                                    "0": "01090500T",
                                    "1": "Color Copy A4 200 g",
                                    "2": "14",
                                    "3": "13.666666666666666"
                                },
                                {
                                    "0": "01100497T",
                                    "1": "Color Copy 160 g-os ",
                                    "2": "14",
                                    "3": "14"
                                },
                                {
                                    "0": "04030240T",
                                    "1": "Képeslap virágos",
                                    "2": "14",
                                    "3": "14.333333333333334"
                                },
                                {
                                    "0": "04030236T",
                                    "1": "Képeslap karácsonyi WD",
                                    "2": "15",
                                    "3": "14.666666666666666"
                                },
                                {
                                    "0": "04030289T",
                                    "1": "Műanyag pohár 5 cl-es",
                                    "2": "15",
                                    "3": "15"
                                },
                                {
                                    "0": "04030260T",
                                    "1": "Levélpapír A/4",
                                    "2": "15",
                                    "3": "15"
                                },
                                {
                                    "0": "04050268T",
                                    "1": "Lufi formázható",
                                    "2": "15",
                                    "3": "15"
                                },
                                {
                                    "0": "01090499T",
                                    "1": "Color Copy A/4 250 g",
                                    "2": "15",
                                    "3": "15"
                                },
                                {
                                    "0": "01040307T",
                                    "1": "Pausz papír A/4",
                                    "2": "15",
                                    "3": "15"
                                },
                                {
                                    "0": "02040291T",
                                    "1": "Naptárhát kicsi",
                                    "2": "15",
                                    "3": "15"
                                },
                                {
                                    "0": "02030044T",
                                    "1": "Boríték mintás",
                                    "2": "15",
                                    "3": "15"
                                },
                                {
                                    "0": "02050460T",
                                    "1": "Boríték C/4-es",
                                    "2": "15",
                                    "3": "15"
                                },
                                {
                                    "0": "03010342T",
                                    "1": "Ragasztószalag  TIXO",
                                    "2": "15",
                                    "3": "15"
                                },
                                {
                                    "0": "03050078T",
                                    "1": "Díszkötöző szalag metál kicsi",
                                    "2": "15",
                                    "3": "15"
                                },
                                {
                                    "0": "03050079T",
                                    "1": "Díszkötöző szalag vékony",
                                    "2": "15",
                                    "3": "15"
                                },
                                {
                                    "0": "06040205T",
                                    "1": "Indigó Pelikán",
                                    "2": "15",
                                    "3": "15"
                                },
                                {
                                    "0": "07010141T",
                                    "1": "G.toll betét X20",
                                    "2": "15",
                                    "3": "16"
                                },
                                {
                                    "0": "02050461T",
                                    "1": "Boríték B/4-es",
                                    "2": "18",
                                    "3": "17"
                                },
                                {
                                    "0": "02040176T",
                                    "1": "Gyorsfűző dosszié fehér",
                                    "2": "18",
                                    "3": "18.333333333333332"
                                },
                                {
                                    "0": "02040207T",
                                    "1": "Iratgyűjtő ESSELTE ablakos",
                                    "2": "19",
                                    "3": "18.666666666666668"
                                },
                                {
                                    "0": "02040208T",
                                    "1": "Iratgyűjtő fehér",
                                    "2": "19",
                                    "3": "19"
                                },
                                {
                                    "0": "03080004T",
                                    "1": "Ajándék cs. tasak italos, fólia",
                                    "2": "19",
                                    "3": "19"
                                },
                                {
                                    "0": "05050170T",
                                    "1": "Gumigyűrű",
                                    "2": "19",
                                    "3": "19"
                                },
                                {
                                    "0": "06040326T",
                                    "1": "Radír KOH-I-NOR 80",
                                    "2": "19",
                                    "3": "19"
                                },
                                {
                                    "0": "06080122T",
                                    "1": "Füzetborító öntapadós nagy",
                                    "2": "19",
                                    "3": "19"
                                },
                                {
                                    "0": "06080119T",
                                    "1": "Füzetborító mesefig.",
                                    "2": "19",
                                    "3": "19"
                                },
                                {
                                    "0": "06040383T",
                                    "1": "Taffet papír",
                                    "2": "19",
                                    "3": "19.333333333333332"
                                },
                                {
                                    "0": "06080417T",
                                    "1": "Zászló papír",
                                    "2": "20",
                                    "3": "19.666666666666668"
                                },
                                {
                                    "0": "04110068T",
                                    "1": "Címke egyszínű",
                                    "2": "20",
                                    "3": "20"
                                },
                                {
                                    "0": "05010306T",
                                    "1": "Papízsebkendő,10db Szindy",
                                    "2": "20",
                                    "3": "21"
                                },
                                {
                                    "0": "06010202T",
                                    "1": "Hurkapálca 10 db-os",
                                    "2": "23",
                                    "3": "22"
                                },
                                {
                                    "0": "03080021T",
                                    "1": "Ajándék csom. vékony",
                                    "2": "23",
                                    "3": "23"
                                },
                                {
                                    "0": "04030287T",
                                    "1": "Műanyag foszforeszkáló állat",
                                    "2": "23",
                                    "3": "23"
                                },
                                {
                                    "0": "06080190T",
                                    "1": "Hegyező műanyag egyes",
                                    "2": "23",
                                    "3": "23"
                                },
                                {
                                    "0": "07010140T",
                                    "1": "G.toll betét Stabilo",
                                    "2": "23",
                                    "3": "23"
                                },
                                {
                                    "0": "07040053T",
                                    "1": "Ceruza HB radiros",
                                    "2": "23",
                                    "3": "23"
                                },
                                {
                                    "0": "06080120T",
                                    "1": "Füzetborító öntapadó kicsi",
                                    "2": "23",
                                    "3": "23"
                                },
                                {
                                    "0": "07040218T",
                                    "1": "Ironbél HB 0,5",
                                    "2": "23",
                                    "3": "23"
                                },
                                {
                                    "0": "07080156T",
                                    "1": "Golyóstoll kupakos piros",
                                    "2": "23",
                                    "3": "23.333333333333332"
                                },
                                {
                                    "0": "06080424T",
                                    "1": "Füzetborító A/4 mintás",
                                    "2": "24",
                                    "3": "23.666666666666668"
                                },
                                {
                                    "0": "04050203T",
                                    "1": "Hűtőmágnes",
                                    "2": "24",
                                    "3": "24"
                                },
                                {
                                    "0": "04050035T",
                                    "1": "Bérlet tok",
                                    "2": "24",
                                    "3": "24"
                                },
                                {
                                    "0": "06010375T",
                                    "1": "Szögmérő 180 fokos műa.",
                                    "2": "24",
                                    "3": "24.333333333333332"
                                },
                                {
                                    "0": "01040502T",
                                    "1": "Előlap spirálhoz",
                                    "2": "25",
                                    "3": "24.666666666666668"
                                },
                                {
                                    "0": "01090516T",
                                    "1": "Színes karton A4",
                                    "2": "25",
                                    "3": "25.333333333333332"
                                },
                                {
                                    "0": "01030091T",
                                    "1": "Emléklap A/5",
                                    "2": "26",
                                    "3": "25.666666666666668"
                                },
                                {
                                    "0": "03080006T",
                                    "1": "Ajándék cs. tasak mintás kicsi",
                                    "2": "26",
                                    "3": "26"
                                },
                                {
                                    "0": "03050457T",
                                    "1": "Ajándék cs. tasak kicsi",
                                    "2": "26",
                                    "3": "26"
                                },
                                {
                                    "0": "03050076T",
                                    "1": "Díszkötöző szalag metál nagy",
                                    "2": "26",
                                    "3": "26"
                                },
                                {
                                    "0": "04110066T",
                                    "1": "Címke 8 db-os",
                                    "2": "26",
                                    "3": "26"
                                },
                                {
                                    "0": "07040097T",
                                    "1": "Filctoll ",
                                    "2": "26",
                                    "3": "26.666666666666668"
                                },
                                {
                                    "0": "06040347T",
                                    "1": "Rajzlap A/4 10db ffam.",
                                    "2": "28",
                                    "3": "27.666666666666668"
                                },
                                {
                                    "0": "06040212T",
                                    "1": "Írólap 10-50 ffam.",
                                    "2": "29",
                                    "3": "29"
                                },
                                {
                                    "0": "06040247T",
                                    "1": "Körzőhegy grafit",
                                    "2": "30",
                                    "3": "29.666666666666668"
                                },
                                {
                                    "0": "06080189T",
                                    "1": "Hegyező műanyag dupla",
                                    "2": "30",
                                    "3": "30"
                                },
                                {
                                    "0": "07040050T",
                                    "1": "Ceruza Cseh",
                                    "2": "30",
                                    "3": "30"
                                },
                                {
                                    "0": "06080191T",
                                    "1": "Hegyező tartályos egyes",
                                    "2": "30",
                                    "3": "30"
                                },
                                {
                                    "0": "06080412T",
                                    "1": "Vonalzó 16 cm-es LIZZY",
                                    "2": "30",
                                    "3": "30"
                                },
                                {
                                    "0": "06080413T",
                                    "1": "Vonalzó 30 cm",
                                    "2": "30",
                                    "3": "30"
                                },
                                {
                                    "0": "06080414T",
                                    "1": "Vonalzó 20 cm-es ",
                                    "2": "30",
                                    "3": "30"
                                },
                                {
                                    "0": "06080415T",
                                    "1": "Vonalzó 45 fokos",
                                    "2": "30",
                                    "3": "30"
                                },
                                {
                                    "0": "07040127T",
                                    "1": "G. toll betét mini",
                                    "2": "30",
                                    "3": "30"
                                },
                                {
                                    "0": "07040129T",
                                    "1": "G. toll betét réz",
                                    "2": "30",
                                    "3": "30"
                                },
                                {
                                    "0": "04030234T",
                                    "1": "Képeslap karácsonyi",
                                    "2": "30",
                                    "3": "30"
                                },
                                {
                                    "0": "06010114T",
                                    "1": "Füzet A/5 hangjegy 36/16",
                                    "2": "30",
                                    "3": "30"
                                },
                                {
                                    "0": "02080069T",
                                    "1": "CD tartó tok",
                                    "2": "30",
                                    "3": "30"
                                },
                                {
                                    "0": "01010110T",
                                    "1": "Fotópapír A/4 fényes",
                                    "2": "30",
                                    "3": "30"
                                },
                                {
                                    "0": "02040177T",
                                    "1": "Gyorsfűző műa.",
                                    "2": "30",
                                    "3": "30"
                                },
                                {
                                    "0": "02040145T",
                                    "1": "Gemkapocs 28 mm",
                                    "2": "30",
                                    "3": "30.333333333333332"
                                },
                                {
                                    "0": "04110067T",
                                    "1": "Címke WD. állat",
                                    "2": "31",
                                    "3": "31.333333333333332"
                                },
                                {
                                    "0": "06010083T",
                                    "1": "Ecset Centrum 7,8,9",
                                    "2": "33",
                                    "3": "32.333333333333336"
                                },
                                {
                                    "0": "06010036T",
                                    "1": "Betűtartó sin",
                                    "2": "33",
                                    "3": "33"
                                },
                                {
                                    "0": "04110227T",
                                    "1": "Képeslap  borítékos",
                                    "2": "33",
                                    "3": "33"
                                },
                                {
                                    "0": "04110229T",
                                    "1": "Képeslap \"Részvét\"",
                                    "2": "33",
                                    "3": "33"
                                },
                                {
                                    "0": "07080155T",
                                    "1": "Golyóstoll",
                                    "2": "33",
                                    "3": "33"
                                },
                                {
                                    "0": "06080416T",
                                    "1": "Vonalzó 60 fokos",
                                    "2": "33",
                                    "3": "33"
                                },
                                {
                                    "0": "07010138T",
                                    "1": "G.toll betét jumbo",
                                    "2": "33",
                                    "3": "33.333333333333336"
                                },
                                {
                                    "0": "06080116T",
                                    "1": "Füzet A5 1-8 osz.-ig",
                                    "2": "34",
                                    "3": "33.666666666666664"
                                },
                                {
                                    "0": "06040213T",
                                    "1": "Írólap 20-50 ",
                                    "2": "34",
                                    "3": "34"
                                },
                                {
                                    "0": "06010113T",
                                    "1": "Füzet 31-32 szótár",
                                    "2": "34",
                                    "3": "34"
                                },
                                {
                                    "0": "02040406T",
                                    "1": "Tűzőkapocs 24/6",
                                    "2": "34",
                                    "3": "34.333333333333336"
                                },
                                {
                                    "0": "02040178T",
                                    "1": "Gyorsfűző műa.",
                                    "2": "35",
                                    "3": "34.666666666666664"
                                },
                                {
                                    "0": "06010367T",
                                    "1": "Számolókorong",
                                    "2": "35",
                                    "3": "35"
                                },
                                {
                                    "0": "07080063T",
                                    "1": "Ceruza szorzótáblás",
                                    "2": "35",
                                    "3": "35.333333333333336"
                                },
                                {
                                    "0": "07050463T",
                                    "1": "Ceruzafogó",
                                    "2": "36",
                                    "3": "35.666666666666664"
                                },
                                {
                                    "0": "07040216T",
                                    "1": "Ironbél B 0,5",
                                    "2": "36",
                                    "3": "36"
                                },
                                {
                                    "0": "06040327T",
                                    "1": "Radír Koh-i-nor 40",
                                    "2": "36",
                                    "3": "36"
                                },
                                {
                                    "0": "06040323T",
                                    "1": "Post-it 51×38 100 lapos",
                                    "2": "36",
                                    "3": "36"
                                },
                                {
                                    "0": "07040060T",
                                    "1": "Ceruza stabilo swano",
                                    "2": "36",
                                    "3": "36"
                                },
                                {
                                    "0": "06010365T",
                                    "1": "Számegyenes",
                                    "2": "36",
                                    "3": "36"
                                },
                                {
                                    "0": "06010201T",
                                    "1": "Hőmérő, műa.",
                                    "2": "36",
                                    "3": "36"
                                },
                                {
                                    "0": "06010086T",
                                    "1": "Ecset Nebulo 4-es",
                                    "2": "36",
                                    "3": "36"
                                },
                                {
                                    "0": "04050255T",
                                    "1": "Kulcstartó mesefigurás",
                                    "2": "36",
                                    "3": "36"
                                },
                                {
                                    "0": "04030237T",
                                    "1": "Képeslap kerek",
                                    "2": "36",
                                    "3": "36.666666666666664"
                                },
                                {
                                    "0": "01080513T",
                                    "1": "Selyemfényű karton A/4",
                                    "2": "38",
                                    "3": "37.666666666666664"
                                },
                                {
                                    "0": "02030043T",
                                    "1": "Boríték légp. kicsi",
                                    "2": "39",
                                    "3": "38.666666666666664"
                                },
                                {
                                    "0": "07040051T",
                                    "1": "Ceruza háromszög ",
                                    "2": "39",
                                    "3": "39"
                                },
                                {
                                    "0": "07040047T",
                                    "1": "Ceruza 2H-4B",
                                    "2": "39",
                                    "3": "39"
                                },
                                {
                                    "0": "07040133T",
                                    "1": "G.toll betét görbe hegyű",
                                    "2": "39",
                                    "3": "39.333333333333336"
                                },
                                {
                                    "0": "07080064T",
                                    "1": "Ceruza zöld színű",
                                    "2": "40",
                                    "3": "39.666666666666664"
                                },
                                {
                                    "0": "07040049T",
                                    "1": "Ceruza Conté zöld",
                                    "2": "40",
                                    "3": "40"
                                },
                                {
                                    "0": "07040056T",
                                    "1": "Ceruza piros-kék vékony",
                                    "2": "40",
                                    "3": "40"
                                },
                                {
                                    "0": "06040325T",
                                    "1": "Radír gyümölcsös",
                                    "2": "40",
                                    "3": "40"
                                },
                                {
                                    "0": "01100509T",
                                    "1": "Márványos A/4",
                                    "2": "40",
                                    "3": "40"
                                },
                                {
                                    "0": "02040507T",
                                    "1": "Fólia tasakos A4 80 mik.",
                                    "2": "40",
                                    "3": "40"
                                },
                                {
                                    "0": "03050459T",
                                    "1": "Talpas tasak",
                                    "2": "40",
                                    "3": "40"
                                },
                                {
                                    "0": "06010082T",
                                    "1": "Ecset Centrum 10,11,12",
                                    "2": "40",
                                    "3": "40"
                                },
                                {
                                    "0": "05050465T",
                                    "1": "Tapétavágó kés",
                                    "2": "40",
                                    "3": "40.333333333333336"
                                },
                                {
                                    "0": "07080153T",
                                    "1": "Golyóstoll illatos ICO",
                                    "2": "41",
                                    "3": "41.333333333333336"
                                },
                                {
                                    "0": "06010373T",
                                    "1": "Színes papír I.II-IV.V-VIII-ig",
                                    "2": "43",
                                    "3": "42.666666666666664"
                                },
                                {
                                    "0": "04030241T",
                                    "1": "Képeslap virágos +boríték",
                                    "2": "44",
                                    "3": "43.666666666666664"
                                },
                                {
                                    "0": "03080020T",
                                    "1": "Ajándék csom. nagy  ",
                                    "2": "44",
                                    "3": "44"
                                },
                                {
                                    "0": "04030286T",
                                    "1": "Műanyag állatok",
                                    "2": "44",
                                    "3": "44"
                                },
                                {
                                    "0": "04050075T",
                                    "1": "Díszdoboz tollnak 2 db-os keskeny",
                                    "2": "44",
                                    "3": "44"
                                },
                                {
                                    "0": "03050077T",
                                    "1": "Diszkötöző szalag arany",
                                    "2": "44",
                                    "3": "44"
                                },
                                {
                                    "0": "02080450T",
                                    "1": "Gémkapocs 28-as színes",
                                    "2": "44",
                                    "3": "44"
                                },
                                {
                                    "0": "02040508T",
                                    "1": "Fólia tasakos A4100 mik.",
                                    "2": "44",
                                    "3": "44"
                                },
                                {
                                    "0": "02040506T",
                                    "1": "Fólia tasakos A4 125 mik.",
                                    "2": "44",
                                    "3": "44"
                                },
                                {
                                    "0": "02040405T",
                                    "1": "Tűzőkapocs 10-es",
                                    "2": "44",
                                    "3": "44"
                                },
                                {
                                    "0": "02040298T",
                                    "1": "Notesz mintás",
                                    "2": "44",
                                    "3": "44"
                                },
                                {
                                    "0": "02040209T",
                                    "1": "Iratsín fehér",
                                    "2": "44",
                                    "3": "44"
                                },
                                {
                                    "0": "07040134T",
                                    "1": "G.toll betét illatos",
                                    "2": "44",
                                    "3": "44"
                                },
                                {
                                    "0": "07080161T",
                                    "1": "Golyóstoll kétszínű",
                                    "2": "44",
                                    "3": "44"
                                },
                                {
                                    "0": "06040328T",
                                    "1": "Radír Maped",
                                    "2": "44",
                                    "3": "44"
                                },
                                {
                                    "0": "06040329T",
                                    "1": "Radír stabilo",
                                    "2": "44",
                                    "3": "44"
                                },
                                {
                                    "0": "07040061T",
                                    "1": "Ceruza stabilo opera",
                                    "2": "44",
                                    "3": "44.333333333333336"
                                },
                                {
                                    "0": "02080514T",
                                    "1": "Spirál 1/4 ",
                                    "2": "45",
                                    "3": "44.666666666666664"
                                },
                                {
                                    "0": "06010374T",
                                    "1": "Szorzótábla műanyag",
                                    "2": "45",
                                    "3": "45.333333333333336"
                                },
                                {
                                    "0": "05050045T",
                                    "1": "Celofán",
                                    "2": "46",
                                    "3": "45.666666666666664"
                                },
                                {
                                    "0": "07040102T",
                                    "1": "Filctoll supra fine",
                                    "2": "46",
                                    "3": "46.666666666666664"
                                },
                                {
                                    "0": "07010137T",
                                    "1": "G.toll betét PAX tip.",
                                    "2": "48",
                                    "3": "47.333333333333336"
                                },
                                {
                                    "0": "06040386T",
                                    "1": "Tempera szóló színes",
                                    "2": "48",
                                    "3": "48"
                                },
                                {
                                    "0": "06010115T",
                                    "1": "Füzet A/5, mintás",
                                    "2": "48",
                                    "3": "48"
                                },
                                {
                                    "0": "04050224T",
                                    "1": "Jelzőkréta",
                                    "2": "48",
                                    "3": "48"
                                },
                                {
                                    "0": "04030239T",
                                    "1": "Képeslap stancolt szív",
                                    "2": "48",
                                    "3": "48"
                                },
                                {
                                    "0": "02040146T",
                                    "1": "Gemkapocs ICO",
                                    "2": "48",
                                    "3": "48"
                                },
                                {
                                    "0": "01020299T",
                                    "1": "Oklevél A/4 egyszínű",
                                    "2": "48",
                                    "3": "48.333333333333336"
                                },
                                {
                                    "0": "04110274T",
                                    "1": "Matrica autóra H",
                                    "2": "49",
                                    "3": "48.666666666666664"
                                },
                                {
                                    "0": "04110275T",
                                    "1": "Matrica motoros kicsi",
                                    "2": "49",
                                    "3": "49"
                                },
                                {
                                    "0": "06040331T",
                                    "1": "Radír Tikky 40 ",
                                    "2": "49",
                                    "3": "49.333333333333336"
                                },
                                {
                                    "0": "06040330T",
                                    "1": "Radír Tikky 30 ",
                                    "2": "50",
                                    "3": "50"
                                },
                                {
                                    "0": "07080150T",
                                    "1": "Golyóstoll",
                                    "2": "51",
                                    "3": "50.666666666666664"
                                },
                                {
                                    "0": "04110232T",
                                    "1": "Képeslap humoros kaparós",
                                    "2": "51",
                                    "3": "51"
                                },
                                {
                                    "0": "06040088T",
                                    "1": "Egészségügyi könyv",
                                    "2": "51",
                                    "3": "51"
                                },
                                {
                                    "0": "02080109T",
                                    "1": "Floppy lemez",
                                    "2": "51",
                                    "3": "51.666666666666664"
                                },
                                {
                                    "0": "07030103T",
                                    "1": "Filctoll TINTEN PEN",
                                    "2": "53",
                                    "3": "52.333333333333336"
                                },
                                {
                                    "0": "07040052T",
                                    "1": "Ceruza 2H-3B Koh-i-nor",
                                    "2": "53",
                                    "3": "53.666666666666664"
                                },
                                {
                                    "0": "07040054T",
                                    "1": "Ceruza kártyás",
                                    "2": "55",
                                    "3": "54.333333333333336"
                                },
                                {
                                    "0": "07040048T",
                                    "1": "Ceruza arany, ezüst",
                                    "2": "55",
                                    "3": "55"
                                },
                                {
                                    "0": "07040132T",
                                    "1": "G.toll betét csavaros",
                                    "2": "55",
                                    "3": "55"
                                },
                                {
                                    "0": "07040128T",
                                    "1": "G. toll betét mini fém",
                                    "2": "55",
                                    "3": "55"
                                },
                                {
                                    "0": "02080433T",
                                    "1": "Ragasztószalag 19 mm-es",
                                    "2": "55",
                                    "3": "55"
                                },
                                {
                                    "0": "01020300T",
                                    "1": "Oklevél A/4 színes",
                                    "2": "55",
                                    "3": "55"
                                },
                                {
                                    "0": "04110230T",
                                    "1": "Képeslap humoros ",
                                    "2": "55",
                                    "3": "55"
                                },
                                {
                                    "0": "04110273T",
                                    "1": "Matrica állatos",
                                    "2": "55",
                                    "3": "55.333333333333336"
                                },
                                {
                                    "0": "04110282T",
                                    "1": "Matrica WD kicsi",
                                    "2": "56",
                                    "3": "55.666666666666664"
                                },
                                {
                                    "0": "04030262T",
                                    "1": "Levélpapír sima",
                                    "2": "56",
                                    "3": "56"
                                },
                                {
                                    "0": "03080019T",
                                    "1": "Ajándék csom. Krepp",
                                    "2": "56",
                                    "3": "56"
                                },
                                {
                                    "0": "02040296T",
                                    "1": "Notesz A/6 College",
                                    "2": "56",
                                    "3": "56.666666666666664"
                                },
                                {
                                    "0": "07040059T",
                                    "1": "Ceruza smaragd",
                                    "2": "58",
                                    "3": "57.333333333333336"
                                },
                                {
                                    "0": "06080411T",
                                    "1": "Vonalzó 15 cm-es ESSELTE",
                                    "2": "58",
                                    "3": "58"
                                },
                                {
                                    "0": "06040384T",
                                    "1": "Technika cs. I-II-III-IV",
                                    "2": "58",
                                    "3": "58.333333333333336"
                                },
                                {
                                    "0": "07040055T",
                                    "1": "Ceruza piros-kék",
                                    "2": "59",
                                    "3": "58.666666666666664"
                                },
                                {
                                    "0": "07040217T",
                                    "1": "Ironbél H 0,5",
                                    "2": "59",
                                    "3": "59"
                                },
                                {
                                    "0": "07080313T",
                                    "1": "Pixiron Centrum",
                                    "2": "59",
                                    "3": "59"
                                },
                                {
                                    "0": "07080317T",
                                    "1": "Pixiron mini ",
                                    "2": "59",
                                    "3": "59"
                                },
                                {
                                    "0": "01010304T",
                                    "1": "Öntapadós hologramos papír A/4",
                                    "2": "59",
                                    "3": "59"
                                },
                                {
                                    "0": "01030092T",
                                    "1": "Esküvői meghívó",
                                    "2": "59",
                                    "3": "59"
                                },
                                {
                                    "0": "02040214T",
                                    "1": "Iromány fedél feles",
                                    "2": "59",
                                    "3": "59"
                                },
                                {
                                    "0": "04030238T",
                                    "1": "Képeslap stancolt",
                                    "2": "59",
                                    "3": "59.333333333333336"
                                },
                                {
                                    "0": "06010084T",
                                    "1": "Ecset Deák 2-es",
                                    "2": "60",
                                    "3": "60"
                                },
                                {
                                    "0": "06010368T",
                                    "1": "Számolópálca",
                                    "2": "61",
                                    "3": "60.666666666666664"
                                },
                                {
                                    "0": "04050073T",
                                    "1": "Díszdoboz kar.",
                                    "2": "61",
                                    "3": "61.666666666666664"
                                },
                                {
                                    "0": "05040349T",
                                    "1": "Rajzszeg",
                                    "2": "63",
                                    "3": "62.333333333333336"
                                },
                                {
                                    "0": "02040148T",
                                    "1": "Genotherm lefűzhető A4 10db-os",
                                    "2": "63",
                                    "3": "63"
                                },
                                {
                                    "0": "03010344T",
                                    "1": "Ragasztószalag nagy 12 mm",
                                    "2": "63",
                                    "3": "63"
                                },
                                {
                                    "0": "07080159T",
                                    "1": "Golyóstoll Pax tip.",
                                    "2": "63",
                                    "3": "63"
                                },
                                {
                                    "0": "06080429T",
                                    "1": "Meghívó ballagási",
                                    "2": "63",
                                    "3": "63.333333333333336"
                                },
                                {
                                    "0": "03080013T",
                                    "1": "Ajándék csom. 50x70 húsvéti",
                                    "2": "64",
                                    "3": "64"
                                },
                                {
                                    "0": "06010085T",
                                    "1": "Ecset Lizzy 10-es",
                                    "2": "65",
                                    "3": "64.66666666666667"
                                },
                                {
                                    "0": "04050220T",
                                    "1": "Játék autó",
                                    "2": "65",
                                    "3": "65.33333333333333"
                                },
                                {
                                    "0": "04050074T",
                                    "1": "Díszdoboz tollnak 2 db-os",
                                    "2": "66",
                                    "3": "65.66666666666667"
                                },
                                {
                                    "0": "04050187T",
                                    "1": "Hajgumi macis",
                                    "2": "66",
                                    "3": "66"
                                },
                                {
                                    "0": "02080436T",
                                    "1": "Irattartó müa. boríték A/4",
                                    "2": "66",
                                    "3": "66"
                                },
                                {
                                    "0": "07080419T",
                                    "1": "Zselés toll MICRO",
                                    "2": "66",
                                    "3": "66.66666666666667"
                                },
                                {
                                    "0": "06010111T",
                                    "1": "Füzet  A/4 ",
                                    "2": "68",
                                    "3": "68"
                                },
                                {
                                    "0": "06080192T",
                                    "1": "Hegyző fém 1 lyukú",
                                    "2": "70",
                                    "3": "70.33333333333333"
                                },
                                {
                                    "0": "06050249T",
                                    "1": "Krepp papír",
                                    "2": "73",
                                    "3": "72"
                                },
                                {
                                    "0": "05050046T",
                                    "1": "Celofán 50 db-os",
                                    "2": "73",
                                    "3": "73"
                                },
                                {
                                    "0": "04110258T",
                                    "1": "Lampion",
                                    "2": "73",
                                    "3": "73"
                                },
                                {
                                    "0": "04050223T",
                                    "1": "Játékautó mini",
                                    "2": "73",
                                    "3": "73"
                                },
                                {
                                    "0": "04030235T",
                                    "1": "Képeslap karácsonyi borítékos",
                                    "2": "73",
                                    "3": "73"
                                },
                                {
                                    "0": "01100070T",
                                    "1": "Dekorációs karton",
                                    "2": "73",
                                    "3": "73.33333333333333"
                                },
                                {
                                    "0": "04030264T",
                                    "1": "Levélpapír szett ",
                                    "2": "74",
                                    "3": "73.66666666666667"
                                },
                                {
                                    "0": "06080332T",
                                    "1": "Radírtoll betét ER100",
                                    "2": "74",
                                    "3": "74"
                                },
                                {
                                    "0": "06080430T",
                                    "1": "Öntapadős betűk",
                                    "2": "74",
                                    "3": "74"
                                },
                                {
                                    "0": "07010244T",
                                    "1": "Kerámiatoll",
                                    "2": "74",
                                    "3": "74"
                                },
                                {
                                    "0": "07040215T",
                                    "1": "Ironbél  2B ICO",
                                    "2": "74",
                                    "3": "74.66666666666667"
                                },
                                {
                                    "0": "07030104T",
                                    "1": "Filctoll vastag ARTIP",
                                    "2": "76",
                                    "3": "76"
                                },
                                {
                                    "0": "07010143T",
                                    "1": "G.toll betét Zebra H-0,7",
                                    "2": "78",
                                    "3": "77.33333333333333"
                                },
                                {
                                    "0": "06040380T",
                                    "1": "Szövegkiemelő",
                                    "2": "78",
                                    "3": "78"
                                },
                                {
                                    "0": "07040219T",
                                    "1": "Ironbél HI-POLIMER HB 0,7",
                                    "2": "78",
                                    "3": "78"
                                },
                                {
                                    "0": "06010112T",
                                    "1": "Füzet  A4 mintás",
                                    "2": "78",
                                    "3": "78"
                                },
                                {
                                    "0": "02040292T",
                                    "1": "Naptárhát nagy",
                                    "2": "78",
                                    "3": "78.33333333333333"
                                },
                                {
                                    "0": "06040087T",
                                    "1": "Ecset Nebuló 10-es",
                                    "2": "79",
                                    "3": "79"
                                },
                                {
                                    "0": "07040130T",
                                    "1": "G. toll betét S7S",
                                    "2": "80",
                                    "3": "79.66666666666667"
                                },
                                {
                                    "0": "07040391T",
                                    "1": "Toll Centropen roller",
                                    "2": "80",
                                    "3": "80.33333333333333"
                                },
                                {
                                    "0": "07080466T",
                                    "1": "Golyóstoll Stabiló 308",
                                    "2": "81",
                                    "3": "80.66666666666667"
                                },
                                {
                                    "0": "06080336T",
                                    "1": "Ragasztó 8 g Pritt",
                                    "2": "81",
                                    "3": "81"
                                },
                                {
                                    "0": "04110231T",
                                    "1": "Képeslap humoros borítékos",
                                    "2": "81",
                                    "3": "81"
                                },
                                {
                                    "0": "04040387T",
                                    "1": "Tenisz labda",
                                    "2": "81",
                                    "3": "81"
                                },
                                {
                                    "0": "02040197T",
                                    "1": "Hibajavító lap ",
                                    "2": "81",
                                    "3": "81"
                                },
                                {
                                    "0": "02040206T",
                                    "1": "Írásvetítő fólia",
                                    "2": "81",
                                    "3": "81"
                                },
                                {
                                    "0": "03050080T",
                                    "1": "Diszkötöző széles szalag",
                                    "2": "81",
                                    "3": "81"
                                },
                                {
                                    "0": "03080014T",
                                    "1": "Ajándék csom. 70x50 metál",
                                    "2": "81",
                                    "3": "81"
                                },
                                {
                                    "0": "02040308T",
                                    "1": "Pénztárgépsz. 2 pl. nem öníró",
                                    "2": "81",
                                    "3": "82.33333333333333"
                                },
                                {
                                    "0": "07040131T",
                                    "1": "G. toll betét UNI lachnok Fine SA-7C",
                                    "2": "85",
                                    "3": "85"
                                },
                                {
                                    "0": "06080339T",
                                    "1": "Ragasztó kores",
                                    "2": "89",
                                    "3": "87.66666666666667"
                                },
                                {
                                    "0": "07010144T",
                                    "1": "G.toll betét Zebra K-0,7",
                                    "2": "89",
                                    "3": "89"
                                },
                                {
                                    "0": "06040357T",
                                    "1": "Sp.Füzet A/5 70-es",
                                    "2": "89",
                                    "3": "89"
                                },
                                {
                                    "0": "06040378T",
                                    "1": "Szövegkiemelő vékony",
                                    "2": "89",
                                    "3": "89"
                                },
                                {
                                    "0": "06040324T",
                                    "1": "Post-it 75×75 100 lapos",
                                    "2": "89",
                                    "3": "89"
                                },
                                {
                                    "0": "02040295T",
                                    "1": "Notesz A/5 sima spirál",
                                    "2": "89",
                                    "3": "89"
                                },
                                {
                                    "0": "02080456T",
                                    "1": "Genoterm HERLITZ 10-es",
                                    "2": "89",
                                    "3": "89"
                                },
                                {
                                    "0": "02040290T",
                                    "1": "Naptár 24-es",
                                    "2": "89",
                                    "3": "89"
                                },
                                {
                                    "0": "02040210T",
                                    "1": "Iratsín kék",
                                    "2": "89",
                                    "3": "89"
                                },
                                {
                                    "0": "01100071T",
                                    "1": "Dekorációs karton arany, ezüst",
                                    "2": "89",
                                    "3": "89"
                                },
                                {
                                    "0": "04050022T",
                                    "1": "Álarc",
                                    "2": "89",
                                    "3": "89"
                                },
                                {
                                    "0": "04030263T",
                                    "1": "Levélpapír szett",
                                    "2": "89",
                                    "3": "89"
                                },
                                {
                                    "0": "04110233T",
                                    "1": "Képeslap humoros",
                                    "2": "89",
                                    "3": "89"
                                },
                                {
                                    "0": "05010370T",
                                    "1": "Szilvia csomagoló",
                                    "2": "89",
                                    "3": "89"
                                },
                                {
                                    "0": "05050346T",
                                    "1": "Rágógumi Orbit",
                                    "2": "89",
                                    "3": "89.66666666666667"
                                },
                                {
                                    "0": "07010139T",
                                    "1": "G.toll betét S7L ",
                                    "2": "91",
                                    "3": "91"
                                },
                                {
                                    "0": "06040379T",
                                    "1": "Szövegkiemelő ",
                                    "2": "93",
                                    "3": "92.33333333333333"
                                },
                                {
                                    "0": "07080157T",
                                    "1": "Golyóstoll Montex Hytone",
                                    "2": "93",
                                    "3": "93"
                                },
                                {
                                    "0": "04110277T",
                                    "1": "Matrica Stickers szíves",
                                    "2": "93",
                                    "3": "93"
                                },
                                {
                                    "0": "02040309T",
                                    "1": "Pénztárgépszalag 2pl SC 57.5/60",
                                    "2": "93",
                                    "3": "93.33333333333333"
                                },
                                {
                                    "0": "07080315T",
                                    "1": "Pixiron Handy műanyag",
                                    "2": "94",
                                    "3": "93.66666666666667"
                                },
                                {
                                    "0": "07040169T",
                                    "1": "Golyóstoll Zodiák",
                                    "2": "94",
                                    "3": "94.33333333333333"
                                },
                                {
                                    "0": "07080418T",
                                    "1": "Zselés toll ",
                                    "2": "95",
                                    "3": "94.66666666666667"
                                },
                                {
                                    "0": "06040183T",
                                    "1": "Gyűrűskönyv bet. A/5",
                                    "2": "95",
                                    "3": "95.33333333333333"
                                },
                                {
                                    "0": "06040385T",
                                    "1": "Tempera szóló ezüst",
                                    "2": "96",
                                    "3": "96.66666666666667"
                                },
                                {
                                    "0": "07010371T",
                                    "1": "Színes ceruza 6-os",
                                    "2": "99",
                                    "3": "98.66666666666667"
                                },
                                {
                                    "0": "06080338T",
                                    "1": "Ragasztó kenőfejes Nebuló",
                                    "2": "101",
                                    "3": "100.33333333333333"
                                },
                                {
                                    "0": "07080162T",
                                    "1": "Golyóstoll Stabilo piros",
                                    "2": "101",
                                    "3": "101.66666666666667"
                                },
                                {
                                    "0": "07030106T",
                                    "1": "Filctoll, alkoholosOHP F-M-C",
                                    "2": "103",
                                    "3": "102.33333333333333"
                                },
                                {
                                    "0": "06040381T",
                                    "1": "Szövegkiemelő Videotip",
                                    "2": "103",
                                    "3": "103"
                                },
                                {
                                    "0": "06040352T",
                                    "1": "Rovatolt papír 20 íves",
                                    "2": "103",
                                    "3": "103"
                                },
                                {
                                    "0": "02040294T",
                                    "1": "Notesz A/5 sima",
                                    "2": "103",
                                    "3": "103"
                                },
                                {
                                    "0": "02040297T",
                                    "1": "Notesz sima spirál College",
                                    "2": "103",
                                    "3": "103"
                                },
                                {
                                    "0": "02080449T",
                                    "1": "Térképtű színes",
                                    "2": "103",
                                    "3": "103"
                                },
                                {
                                    "0": "02080451T",
                                    "1": "Gémkapocs 50-es",
                                    "2": "103",
                                    "3": "103"
                                },
                                {
                                    "0": "03080008T",
                                    "1": "Ajándék cs. tasak kicsi",
                                    "2": "103",
                                    "3": "103"
                                },
                                {
                                    "0": "02020245T",
                                    "1": "Kiadási pénztárbizonylat 2×25",
                                    "2": "103",
                                    "3": "103"
                                },
                                {
                                    "0": "05040310T",
                                    "1": "Pill.ragasztó",
                                    "2": "103",
                                    "3": "103"
                                },
                                {
                                    "0": "04030265T",
                                    "1": "Levélpapír szett natur, mintás",
                                    "2": "103",
                                    "3": "103"
                                },
                                {
                                    "0": "04050253T",
                                    "1": "Kulcstartó figurás",
                                    "2": "103",
                                    "3": "104"
                                },
                                {
                                    "0": "03080031T",
                                    "1": "Ajándék cs. húsvéti",
                                    "2": "106",
                                    "3": "105"
                                },
                                {
                                    "0": "05040348T",
                                    "1": "Rajzszeg színes",
                                    "2": "106",
                                    "3": "106"
                                },
                                {
                                    "0": "02010028T",
                                    "1": "Árazószalag ",
                                    "2": "106",
                                    "3": "106"
                                },
                                {
                                    "0": "02080226T",
                                    "1": "Kapocskiszedő",
                                    "2": "106",
                                    "3": "106"
                                },
                                {
                                    "0": "07040057T",
                                    "1": "Ceruza Progresso",
                                    "2": "106",
                                    "3": "107"
                                },
                                {
                                    "0": "04110276T",
                                    "1": "Matrica Stickers nagy állatos",
                                    "2": "109",
                                    "3": "108.33333333333333"
                                },
                                {
                                    "0": "04050171T",
                                    "1": "Gumilabda közepes",
                                    "2": "110",
                                    "3": "109.66666666666667"
                                },
                                {
                                    "0": "03080016T",
                                    "1": "házt.csom.  5 ív",
                                    "2": "110",
                                    "3": "110"
                                },
                                {
                                    "0": "02040149T",
                                    "1": "Genotherm A4 10db-os",
                                    "2": "110",
                                    "3": "110"
                                },
                                {
                                    "0": "06080335T",
                                    "1": "Ragasztó 9 g Pax",
                                    "2": "110",
                                    "3": "110"
                                },
                                {
                                    "0": "07080468T",
                                    "1": "Golyóstoll háromfunkciós",
                                    "2": "110",
                                    "3": "111.33333333333333"
                                },
                                {
                                    "0": "07030105T",
                                    "1": "Filctoll, alkoholos Centropen",
                                    "2": "114",
                                    "3": "112.66666666666667"
                                },
                                {
                                    "0": "03080439T",
                                    "1": "Italtartó doboz",
                                    "2": "114",
                                    "3": "114.33333333333333"
                                },
                                {
                                    "0": "04050250T",
                                    "1": "Kulcstartó autós",
                                    "2": "115",
                                    "3": "114.66666666666667"
                                },
                                {
                                    "0": "02020029T",
                                    "1": "Átírótömb A/6",
                                    "2": "115",
                                    "3": "116"
                                },
                                {
                                    "0": "04030242T",
                                    "1": "Képeslap WD +boríték",
                                    "2": "118",
                                    "3": "117"
                                },
                                {
                                    "0": "05010026T",
                                    "1": "Alufólia 10 m-es",
                                    "2": "118",
                                    "3": "118"
                                },
                                {
                                    "0": "05110360T",
                                    "1": "Szalvéta egyszínű",
                                    "2": "118",
                                    "3": "118.33333333333333"
                                },
                                {
                                    "0": "06080333T",
                                    "1": "Radírtoll betét vastag",
                                    "2": "119",
                                    "3": "119.33333333333333"
                                },
                                {
                                    "0": "06080441T",
                                    "1": "Gyurmakés",
                                    "2": "121",
                                    "3": "120.33333333333333"
                                },
                                {
                                    "0": "03080018T",
                                    "1": "Ajándék csom. gyűrt 50x70 ",
                                    "2": "121",
                                    "3": "121.66666666666667"
                                },
                                {
                                    "0": "07010136T",
                                    "1": "G.toll betét PAX",
                                    "2": "123",
                                    "3": "122.66666666666667"
                                },
                                {
                                    "0": "04050252T",
                                    "1": "Kulcstartó Csőrikés",
                                    "2": "124",
                                    "3": "124"
                                },
                                {
                                    "0": "03080012T",
                                    "1": "Ajándék csom. 200x70",
                                    "2": "125",
                                    "3": "124.66666666666667"
                                },
                                {
                                    "0": "06040399T",
                                    "1": "Tombola tömb",
                                    "2": "125",
                                    "3": "125"
                                },
                                {
                                    "0": "07080312T",
                                    "1": "Pixiron 0,7 Handy",
                                    "2": "125",
                                    "3": "126.33333333333333"
                                },
                                {
                                    "0": "04050256T",
                                    "1": "Kulcstartó nagyítós",
                                    "2": "129",
                                    "3": "127.66666666666667"
                                },
                                {
                                    "0": "04050267T",
                                    "1": "Logikai készlet",
                                    "2": "129",
                                    "3": "129"
                                },
                                {
                                    "0": "05010369T",
                                    "1": "Szemetes zsák 60 literes",
                                    "2": "129",
                                    "3": "129.66666666666666"
                                },
                                {
                                    "0": "04050225T",
                                    "1": "Kártya mini Magyar",
                                    "2": "131",
                                    "3": "131"
                                },
                                {
                                    "0": "04050221T",
                                    "1": "Játékautó Blisteres",
                                    "2": "133",
                                    "3": "132.33333333333334"
                                },
                                {
                                    "0": "05110363T",
                                    "1": "Szalvéta dekor",
                                    "2": "133",
                                    "3": "133"
                                },
                                {
                                    "0": "02080081T",
                                    "1": "Dvd",
                                    "2": "133",
                                    "3": "133"
                                },
                                {
                                    "0": "02020032T",
                                    "1": "Beírókönyv A5 ",
                                    "2": "133",
                                    "3": "133"
                                },
                                {
                                    "0": "02040198T",
                                    "1": "Hibajavító roller 5 mm",
                                    "2": "133",
                                    "3": "133"
                                },
                                {
                                    "0": "02040025T",
                                    "1": "Álló irattartó karton",
                                    "2": "133",
                                    "3": "133"
                                },
                                {
                                    "0": "07080314T",
                                    "1": "Pixiron Handy fém",
                                    "2": "133",
                                    "3": "133"
                                },
                                {
                                    "0": "06050301T",
                                    "1": "Olló gyerek ",
                                    "2": "133",
                                    "3": "133"
                                },
                                {
                                    "0": "06080334T",
                                    "1": "Ragasztó szalag KORES ",
                                    "2": "133",
                                    "3": "135.33333333333334"
                                },
                                {
                                    "0": "07040101T",
                                    "1": "Filctoll permanent vastag",
                                    "2": "140",
                                    "3": "137.66666666666666"
                                },
                                {
                                    "0": "07050464T",
                                    "1": "Szövegkiemelő Staedtler",
                                    "2": "140",
                                    "3": "140"
                                },
                                {
                                    "0": "04030261T",
                                    "1": "Levélpapír állatos",
                                    "2": "140",
                                    "3": "141.33333333333334"
                                },
                                {
                                    "0": "04050023T",
                                    "1": "Álarc fejdísz",
                                    "2": "144",
                                    "3": "142.66666666666666"
                                },
                                {
                                    "0": "04050024T",
                                    "1": "Álarc szemüveg",
                                    "2": "144",
                                    "3": "144"
                                },
                                {
                                    "0": "05080340T",
                                    "1": "Ragasztó, Technokol 35g kék",
                                    "2": "144",
                                    "3": "144"
                                },
                                {
                                    "0": "05080341T",
                                    "1": "Ragasztó, Technokol 35g piros",
                                    "2": "144",
                                    "3": "144"
                                },
                                {
                                    "0": "02020037T",
                                    "1": "Bevételi pénztárbizonylat 3×25",
                                    "2": "144",
                                    "3": "144"
                                },
                                {
                                    "0": "06040356T",
                                    "1": "Sp.Füzet A/4  70es",
                                    "2": "144",
                                    "3": "144.66666666666666"
                                },
                                {
                                    "0": "07080062T",
                                    "1": "Ceruza szén",
                                    "2": "146",
                                    "3": "146"
                                },
                                {
                                    "0": "06040174T",
                                    "1": "Gumis mappa ",
                                    "2": "148",
                                    "3": "147.33333333333334"
                                },
                                {
                                    "0": "03080011T",
                                    "1": "Ajándék cs. tasak közepes",
                                    "2": "148",
                                    "3": "148"
                                },
                                {
                                    "0": "03080009T",
                                    "1": "Ajándék csom. 100x70 metál",
                                    "2": "148",
                                    "3": "148"
                                },
                                {
                                    "0": "03080017T",
                                    "1": "iskolai csomagoló papír",
                                    "2": "148",
                                    "3": "148"
                                },
                                {
                                    "0": "03050458T",
                                    "1": "Ajándék cs. 2×100×70",
                                    "2": "148",
                                    "3": "148"
                                },
                                {
                                    "0": "04110280T",
                                    "1": "Matrica tetoválós kicsi",
                                    "2": "148",
                                    "3": "148"
                                },
                                {
                                    "0": "04050251T",
                                    "1": "Kulcstartó billiárd golyós",
                                    "2": "148",
                                    "3": "150.33333333333334"
                                },
                                {
                                    "0": "04050254T",
                                    "1": "Kulcstartó intarziás állatos",
                                    "2": "155",
                                    "3": "152.66666666666666"
                                },
                                {
                                    "0": "04110283T",
                                    "1": "Meghívó állatos",
                                    "2": "155",
                                    "3": "155"
                                },
                                {
                                    "0": "06040355T",
                                    "1": "Sp.Füzet A/4 70-as",
                                    "2": "155",
                                    "3": "157"
                                },
                                {
                                    "0": "06040246T",
                                    "1": "Körző",
                                    "2": "161",
                                    "3": "159"
                                },
                                {
                                    "0": "06050303T",
                                    "1": "Olló, iskolai",
                                    "2": "161",
                                    "3": "161"
                                },
                                {
                                    "0": "07010372T",
                                    "1": "Színes ceruza 12 szín",
                                    "2": "161",
                                    "3": "161"
                                },
                                {
                                    "0": "06080259T",
                                    "1": "Leckefüzet",
                                    "2": "161",
                                    "3": "161"
                                },
                                {
                                    "0": "06080440T",
                                    "1": "Gyurma 12 szinű",
                                    "2": "161",
                                    "3": "161"
                                },
                                {
                                    "0": "06080426T",
                                    "1": "Szótárfüzet Lizzy",
                                    "2": "161",
                                    "3": "161"
                                },
                                {
                                    "0": "06080427T",
                                    "1": "Ablakkréta",
                                    "2": "161",
                                    "3": "161"
                                },
                                {
                                    "0": "07080420T",
                                    "1": "Zselés toll Muhnwa",
                                    "2": "161",
                                    "3": "161"
                                },
                                {
                                    "0": "04110278T",
                                    "1": "Matrica Test ékszer tattoo",
                                    "2": "161",
                                    "3": "161"
                                },
                                {
                                    "0": "05110364T",
                                    "1": "Szalvéta kicsi virágos",
                                    "2": "161",
                                    "3": "161"
                                },
                                {
                                    "0": "04050321T",
                                    "1": "Plüss kicsi",
                                    "2": "161",
                                    "3": "161"
                                },
                                {
                                    "0": "01080093T",
                                    "1": "Fax papír 15 m",
                                    "2": "161",
                                    "3": "162.33333333333334"
                                },
                                {
                                    "0": "04050222T",
                                    "1": "Játékautó elemes",
                                    "2": "165",
                                    "3": "164"
                                },
                                {
                                    "0": "03010345T",
                                    "1": "Ragasztószalag széles barna",
                                    "2": "166",
                                    "3": "166.33333333333334"
                                },
                                {
                                    "0": "04110279T",
                                    "1": "Matrica tetoválás",
                                    "2": "168",
                                    "3": "167.66666666666666"
                                },
                                {
                                    "0": "04110284T",
                                    "1": "Meghívó borítékos",
                                    "2": "169",
                                    "3": "168.66666666666666"
                                },
                                {
                                    "0": "04050204T",
                                    "1": "Hűtőmágnes WD",
                                    "2": "169",
                                    "3": "169"
                                },
                                {
                                    "0": "04030266T",
                                    "1": "Levélpapír szett virágos",
                                    "2": "169",
                                    "3": "169"
                                },
                                {
                                    "0": "03080015T",
                                    "1": "Ajándék csom. gyűrt",
                                    "2": "169",
                                    "3": "170.33333333333334"
                                },
                                {
                                    "0": "04050320T",
                                    "1": "Plüss  QX állatok",
                                    "2": "173",
                                    "3": "172.33333333333334"
                                },
                                {
                                    "0": "04110281T",
                                    "1": "Matrica világítós ",
                                    "2": "175",
                                    "3": "174.33333333333334"
                                },
                                {
                                    "0": "05110361T",
                                    "1": "Szalvéta Goma húsvéti",
                                    "2": "175",
                                    "3": "175.33333333333334"
                                },
                                {
                                    "0": "05110359T",
                                    "1": "Szalvéta ",
                                    "2": "176",
                                    "3": "175.66666666666666"
                                },
                                {
                                    "0": "06080410T",
                                    "1": "Vízfesték 12db-os kínai",
                                    "2": "176",
                                    "3": "176"
                                },
                                {
                                    "0": "06050302T",
                                    "1": "Olló Tagit 18 cm-es",
                                    "2": "176",
                                    "3": "177.33333333333334"
                                },
                                {
                                    "0": "06040179T",
                                    "1": "Gyurma színes 200 g-os",
                                    "2": "180",
                                    "3": "178.66666666666666"
                                },
                                {
                                    "0": "06080409T",
                                    "1": "Vízfesték 12 színű kerek",
                                    "2": "180",
                                    "3": "180"
                                },
                                {
                                    "0": "06080193T",
                                    "1": "Hegyző fém 2 lyukú",
                                    "2": "180",
                                    "3": "180"
                                },
                                {
                                    "0": "06080428T",
                                    "1": "Ecsetkészlet",
                                    "2": "180",
                                    "3": "181"
                                },
                                {
                                    "0": "04110362T",
                                    "1": "Szalvéta gyűjtőknek",
                                    "2": "183",
                                    "3": "182.33333333333334"
                                },
                                {
                                    "0": "04110228T",
                                    "1": "Képeslap \"Nászajándék\"",
                                    "2": "184",
                                    "3": "183.66666666666666"
                                },
                                {
                                    "0": "02080435T",
                                    "1": "Mappa bemutató",
                                    "2": "184",
                                    "3": "184"
                                },
                                {
                                    "0": "06040182T",
                                    "1": "Gyűrűskönyv bet. A/4",
                                    "2": "184",
                                    "3": "184.33333333333334"
                                },
                                {
                                    "0": "03080003T",
                                    "1": "Ajándék cs. tasak italos",
                                    "2": "185",
                                    "3": "184.66666666666666"
                                },
                                {
                                    "0": "02040195T",
                                    "1": "Hibajavító ecsetes Aqua",
                                    "2": "185",
                                    "3": "185"
                                },
                                {
                                    "0": "03080437T",
                                    "1": "Ajándék csomagoló tasak",
                                    "2": "185",
                                    "3": "186"
                                },
                                {
                                    "0": "07080470T",
                                    "1": "Golyóstoll háromszög",
                                    "2": "188",
                                    "3": "187.33333333333334"
                                },
                                {
                                    "0": "07040168T",
                                    "1": "Golyóstoll Zebra new hard",
                                    "2": "189",
                                    "3": "189"
                                },
                                {
                                    "0": "08070482T",
                                    "1": "Fizika munkafüzet 14 év.",
                                    "2": "190",
                                    "3": "190"
                                },
                                {
                                    "0": "06040175T",
                                    "1": "Gumis mappa Köbüki",
                                    "2": "191",
                                    "3": "192"
                                },
                                {
                                    "0": "06080121T",
                                    "1": "Füzetborító öntapadó tekercses",
                                    "2": "195",
                                    "3": "193.66666666666666"
                                },
                                {
                                    "0": "04030243T",
                                    "1": "Képkirakó Dirib-darab",
                                    "2": "195",
                                    "3": "195"
                                },
                                {
                                    "0": "06040172T",
                                    "1": "Gumis mappa csomagolt",
                                    "2": "195",
                                    "3": "196"
                                },
                                {
                                    "0": "08070481T",
                                    "1": "Fizika munkafüzet 13 év.",
                                    "2": "198",
                                    "3": "198.66666666666666"
                                },
                                {
                                    "0": "06080126T",
                                    "1": "Füzettartó A/5  ",
                                    "2": "203",
                                    "3": "201.33333333333334"
                                },
                                {
                                    "0": "06040351T",
                                    "1": "Regiszteres füzet A5 Hightech",
                                    "2": "203",
                                    "3": "204"
                                },
                                {
                                    "0": "06040354T",
                                    "1": "Sp.Füzet A/4  perforált, lyuk.",
                                    "2": "206",
                                    "3": "205"
                                },
                                {
                                    "0": "03080007T",
                                    "1": "Ajándék cs. tasak mintás nagy",
                                    "2": "206",
                                    "3": "206"
                                },
                                {
                                    "0": "03080010T",
                                    "1": "Ajándék csom. 150x70",
                                    "2": "206",
                                    "3": "207.33333333333334"
                                },
                                {
                                    "0": "02080434T",
                                    "1": "Mappa müa A/4",
                                    "2": "210",
                                    "3": "208.66666666666666"
                                },
                                {
                                    "0": "06080408T",
                                    "1": "Vízfesték 12 db-os ",
                                    "2": "210",
                                    "3": "210.33333333333334"
                                },
                                {
                                    "0": "06040173T",
                                    "1": "Gumis mappa fóliázott állatos",
                                    "2": "211",
                                    "3": "211.66666666666666"
                                },
                                {
                                    "0": "05010027T",
                                    "1": "Alufólia 20 m-es",
                                    "2": "214",
                                    "3": "213"
                                },
                                {
                                    "0": "03080438T",
                                    "1": "Ajándék csomagoló tasak lézeres",
                                    "2": "214",
                                    "3": "214"
                                },
                                {
                                    "0": "02080431T",
                                    "1": "Álló irattartó",
                                    "2": "214",
                                    "3": "214"
                                },
                                {
                                    "0": "08070491T",
                                    "1": "Szám.tech. kicsiknek",
                                    "2": "214",
                                    "3": "215.33333333333334"
                                },
                                {
                                    "0": "07040165T",
                                    "1": "Golyóstoll UNI laknock",
                                    "2": "218",
                                    "3": "216.66666666666666"
                                },
                                {
                                    "0": "06040184T",
                                    "1": "Gyűrűskönyv betét A/5",
                                    "2": "218",
                                    "3": "218.66666666666666"
                                },
                                {
                                    "0": "03080030T",
                                    "1": "Ajándék cs. húsvéti 200x70",
                                    "2": "220",
                                    "3": "222"
                                },
                                {
                                    "0": "06040180T",
                                    "1": "Gyurma színes natúr",
                                    "2": "228",
                                    "3": "225.33333333333334"
                                },
                                {
                                    "0": "06080423T",
                                    "1": "Beíró A/5 kockás",
                                    "2": "228",
                                    "3": "228"
                                },
                                {
                                    "0": "07010142T",
                                    "1": "G.toll betét Zebra F-0.7",
                                    "2": "228",
                                    "3": "228"
                                },
                                {
                                    "0": "07080421T",
                                    "1": "Zseléstoll Lizzy Card",
                                    "2": "228",
                                    "3": "228.66666666666666"
                                },
                                {
                                    "0": "07080163T",
                                    "1": "Golyóstoll UNI átlátszó",
                                    "2": "230",
                                    "3": "229.66666666666666"
                                },
                                {
                                    "0": "07080164T",
                                    "1": "Golyóstoll UNI gumis",
                                    "2": "231",
                                    "3": "232"
                                },
                                {
                                    "0": "07080318T",
                                    "1": "Pixiron Penac",
                                    "2": "235",
                                    "3": "235"
                                },
                                {
                                    "0": "07080160T",
                                    "1": "Golyóstoll penac",
                                    "2": "239",
                                    "3": "238"
                                },
                                {
                                    "0": "G029-FE307",
                                    "1": "fiú zokni",
                                    "2": "240",
                                    "3": "239.66666666666666"
                                },
                                {
                                    "0": "L029-FE307",
                                    "1": "lány zokni",
                                    "2": "240",
                                    "3": "241"
                                },
                                {
                                    "0": "06040248T",
                                    "1": "Körző maped",
                                    "2": "243",
                                    "3": "242"
                                },
                                {
                                    "0": "02040211T",
                                    "1": "Iratrendező ESSELTE",
                                    "2": "243",
                                    "3": "245"
                                },
                                {
                                    "0": "06080407T",
                                    "1": "Vízfesték  12 színű nagy",
                                    "2": "249",
                                    "3": "249.33333333333334"
                                },
                                {
                                    "0": "06040350T",
                                    "1": "Regiszteres füzet A4",
                                    "2": "256",
                                    "3": "254.66666666666666"
                                },
                                {
                                    "0": "02080432T",
                                    "1": "Tokos iratrendező",
                                    "2": "259",
                                    "3": "259.6666666666667"
                                },
                                {
                                    "0": "04080271T",
                                    "1": "Mappa PVC villámzáras",
                                    "2": "264",
                                    "3": "265.3333333333333"
                                },
                                {
                                    "0": "02040196T",
                                    "1": "Hibajavító készlet Blanco",
                                    "2": "273",
                                    "3": "270"
                                },
                                {
                                    "0": "07080467T",
                                    "1": "Golyóstoll kétfunkciós ICO",
                                    "2": "273",
                                    "3": "274"
                                },
                                {
                                    "0": "07080311T",
                                    "1": "Pixiron  UNI",
                                    "2": "276",
                                    "3": "275"
                                },
                                {
                                    "0": "07030107T",
                                    "1": "Filctoll, textil Edding 4500",
                                    "2": "276",
                                    "3": "276.6666666666667"
                                },
                                {
                                    "0": "07040098T",
                                    "1": "Filctoll document pen",
                                    "2": "278",
                                    "3": "277.3333333333333"
                                },
                                {
                                    "0": "02040200T",
                                    "1": "Hibajavító Kores mini pen",
                                    "2": "278",
                                    "3": "280.6666666666667"
                                },
                                {
                                    "0": "02040199T",
                                    "1": "Hibajavító roller Pax",
                                    "2": "286",
                                    "3": "283.3333333333333"
                                },
                                {
                                    "0": "02040402T",
                                    "1": "Tűzőgép Boxer ",
                                    "2": "286",
                                    "3": "287.3333333333333"
                                },
                                {
                                    "0": "03080005T",
                                    "1": "Ajándék cs. tasak virágos nagy",
                                    "2": "290",
                                    "3": "289"
                                },
                                {
                                    "0": "08070485T",
                                    "1": "Jól felkészültem-e - Fizika",
                                    "2": "291",
                                    "3": "291.3333333333333"
                                },
                                {
                                    "0": "08070476T",
                                    "1": "Anyanyelvi gyakorló 2",
                                    "2": "293",
                                    "3": "292.3333333333333"
                                },
                                {
                                    "0": "06080337T",
                                    "1": "Ragasztó Gyurma",
                                    "2": "293",
                                    "3": "293.3333333333333"
                                },
                                {
                                    "0": "07080471T",
                                    "1": "Golyóstoll levélbontós",
                                    "2": "294",
                                    "3": "294.6666666666667"
                                },
                                {
                                    "0": "02060034T",
                                    "1": "Bélyegzőfesték ",
                                    "2": "297",
                                    "3": "296.6666666666667"
                                },
                                {
                                    "0": "07080319T",
                                    "1": "Pixiron Pentel színes",
                                    "2": "299",
                                    "3": "301.3333333333333"
                                },
                                {
                                    "0": "08070480T",
                                    "1": "Fizika 13 éveseknek",
                                    "2": "308",
                                    "3": "305.6666666666667"
                                },
                                {
                                    "0": "02040293T",
                                    "1": "Névjegytartó kicsi",
                                    "2": "310",
                                    "3": "310.6666666666667"
                                },
                                {
                                    "0": "04050322T",
                                    "1": "Plüss sárkány",
                                    "2": "314",
                                    "3": "313.3333333333333"
                                },
                                {
                                    "0": "04080442T",
                                    "1": "Emlékkönyv",
                                    "2": "316",
                                    "3": "318"
                                },
                                {
                                    "0": "08070483T",
                                    "1": "Fizikai feladatok és tévedések",
                                    "2": "324",
                                    "3": "321.3333333333333"
                                },
                                {
                                    "0": "06080422T",
                                    "1": "Füzettartó A/4",
                                    "2": "324",
                                    "3": "324"
                                },
                                {
                                    "0": "06040394T",
                                    "1": "Tolltartó zipzáras",
                                    "2": "324",
                                    "3": "325.3333333333333"
                                },
                                {
                                    "0": "02020033T",
                                    "1": "Beírókönyv A4",
                                    "2": "328",
                                    "3": "330.3333333333333"
                                },
                                {
                                    "0": "02040401T",
                                    "1": "Tűzőgép Boxer 10",
                                    "2": "339",
                                    "3": "336.3333333333333"
                                },
                                {
                                    "0": "01010001T",
                                    "1": "félfamentes rajzlap A4 (10 lap)",
                                    "2": "342",
                                    "3": "342"
                                },
                                {
                                    "0": "08070484T",
                                    "1": "Fogalmazás lépésről lépésre",
                                    "2": "345",
                                    "3": "346.6666666666667"
                                },
                                {
                                    "0": "08070477T",
                                    "1": "Anyanyelvi gyakorló 3",
                                    "2": "353",
                                    "3": "351.3333333333333"
                                },
                                {
                                    "0": "04050358T",
                                    "1": "Strandlabda ",
                                    "2": "356",
                                    "3": "356.3333333333333"
                                },
                                {
                                    "0": "04080272T",
                                    "1": "Mappa PVC villámzáras  képes",
                                    "2": "360",
                                    "3": "358.6666666666667"
                                },
                                {
                                    "0": "07040389T",
                                    "1": "Tintapatron 30 db-os kék",
                                    "2": "360",
                                    "3": "361.3333333333333"
                                },
                                {
                                    "0": "07080469T",
                                    "1": "Golyóstoll UNIBALL 07",
                                    "2": "364",
                                    "3": "371.3333333333333"
                                },
                                {
                                    "0": "07080151T",
                                    "1": "Golyóstoll + ceruza Twister 2in1",
                                    "2": "390",
                                    "3": "381.3333333333333"
                                },
                                {
                                    "0": "G023-FE301",
                                    "1": "fiú alsó",
                                    "2": "390",
                                    "3": "390"
                                },
                                {
                                    "0": "L023-FE301",
                                    "1": "lány alsó",
                                    "2": "390",
                                    "3": "390"
                                },
                                {
                                    "0": "07040100T",
                                    "1": "Filctoll Marvy alkoholos",
                                    "2": "390",
                                    "3": "393.6666666666667"
                                },
                                {
                                    "0": "07080154T",
                                    "1": "Golyóstoll INOXCROM",
                                    "2": "401",
                                    "3": "398"
                                },
                                {
                                    "0": "08070486T",
                                    "1": "Matematika gyakorló 2",
                                    "2": "403",
                                    "3": "402.3333333333333"
                                },
                                {
                                    "0": "08070487T",
                                    "1": "Matematika gyakorló 3",
                                    "2": "403",
                                    "3": "403"
                                },
                                {
                                    "0": "08070488T",
                                    "1": "Matematika gyakorló 4",
                                    "2": "403",
                                    "3": "403.6666666666667"
                                },
                                {
                                    "0": "02040404T",
                                    "1": "Tűzőgép EAGLE",
                                    "2": "405",
                                    "3": "406"
                                },
                                {
                                    "0": "06040396T",
                                    "1": "Tolltartó Garfield",
                                    "2": "410",
                                    "3": "408.6666666666667"
                                },
                                {
                                    "0": "06040398T",
                                    "1": "Tolltartó hengeres ",
                                    "2": "411",
                                    "3": "410.6666666666667"
                                },
                                {
                                    "0": "06080125T",
                                    "1": "Füzettartó A/5 vastag",
                                    "2": "411",
                                    "3": "416"
                                },
                                {
                                    "0": "06010343T",
                                    "1": "Ragasztószalag 19 mm-es SCOTCH+ tépő",
                                    "2": "426",
                                    "3": "423.6666666666667"
                                },
                                {
                                    "0": "07040099T",
                                    "1": "Filctoll Edding 750",
                                    "2": "434",
                                    "3": "431.3333333333333"
                                },
                                {
                                    "0": "07040257T",
                                    "1": "Lakk filc Edding 750",
                                    "2": "434",
                                    "3": "435.3333333333333"
                                },
                                {
                                    "0": "02080452T",
                                    "1": "Tűzőgép mini",
                                    "2": "438",
                                    "3": "437.3333333333333"
                                },
                                {
                                    "0": "08070475T",
                                    "1": "A föld amelyen élünk - munkafüzet",
                                    "2": "440",
                                    "3": "439.3333333333333"
                                },
                                {
                                    "0": "08070494T",
                                    "1": "Érettségi felv. fel. Fizika",
                                    "2": "440",
                                    "3": "440"
                                },
                                {
                                    "0": "08070495T",
                                    "1": "Érettségi felv. fel. Biológia",
                                    "2": "440",
                                    "3": "443"
                                },
                                {
                                    "0": "04080443T",
                                    "1": "Emlékkönyv lakatos",
                                    "2": "449",
                                    "3": "448"
                                },
                                {
                                    "0": "07040166T",
                                    "1": "Golyóstoll Zebra 301",
                                    "2": "455",
                                    "3": "456"
                                },
                                {
                                    "0": "02020444T",
                                    "1": "Határidő napló A/6",
                                    "2": "464",
                                    "3": "462.3333333333333"
                                },
                                {
                                    "0": "07080316T",
                                    "1": "Pixiron KOH-I-NOOR",
                                    "2": "468",
                                    "3": "475"
                                },
                                {
                                    "0": "07050462T",
                                    "1": "Töltőtoll tinta ",
                                    "2": "493",
                                    "3": "489.6666666666667"
                                },
                                {
                                    "0": "06080124T",
                                    "1": "Füzettartó A/4 keménytáblás",
                                    "2": "508",
                                    "3": "503"
                                },
                                {
                                    "0": "06010366T",
                                    "1": "Számológép Roxin",
                                    "2": "508",
                                    "3": "509"
                                },
                                {
                                    "0": "06040400T",
                                    "1": "Tornazsák",
                                    "2": "511",
                                    "3": "515"
                                },
                                {
                                    "0": "04040090T",
                                    "1": "Emlékkönyv",
                                    "2": "526",
                                    "3": "521"
                                },
                                {
                                    "0": "02080453T",
                                    "1": "Lyukasztó EAGLE",
                                    "2": "526",
                                    "3": "534.3333333333334"
                                },
                                {
                                    "0": "06080123T",
                                    "1": "Füzettartó A/4 keménytáblás",
                                    "2": "551",
                                    "3": "552.6666666666666"
                                },
                                {
                                    "0": "06040185T",
                                    "1": "Gyűrűskönyv",
                                    "2": "581",
                                    "3": "585.6666666666666"
                                },
                                {
                                    "0": "02080455T",
                                    "1": "Festékpatron BCI-3BK",
                                    "2": "625",
                                    "3": "613"
                                },
                                {
                                    "0": "06040382T",
                                    "1": "Táblafilc",
                                    "2": "633",
                                    "3": "636"
                                },
                                {
                                    "0": "02060039T",
                                    "1": "Bélyegző párna",
                                    "2": "650",
                                    "3": "646"
                                },
                                {
                                    "0": "06040397T",
                                    "1": "Tolltartó asztali",
                                    "2": "655",
                                    "3": "653.3333333333334"
                                },
                                {
                                    "0": "07040167T",
                                    "1": "Golyóstoll Zebra mini",
                                    "2": "655",
                                    "3": "661.3333333333334"
                                },
                                {
                                    "0": "08070479T",
                                    "1": "Fizika",
                                    "2": "674",
                                    "3": "671"
                                },
                                {
                                    "0": "07040135T",
                                    "1": "G.toll betét Parker ",
                                    "2": "684",
                                    "3": "681.3333333333334"
                                },
                                {
                                    "0": "01100505T",
                                    "1": "Fehér másoló A/4",
                                    "2": "686",
                                    "3": "686.6666666666666"
                                },
                                {
                                    "0": "N019-FE301",
                                    "1": "női alsó",
                                    "2": "690",
                                    "3": "689"
                                },
                                {
                                    "0": "08070490T",
                                    "1": "Szövegszerkesztés",
                                    "2": "691",
                                    "3": "693.3333333333334"
                                },
                                {
                                    "0": "06040186T",
                                    "1": "Gyűrűskönyv színes",
                                    "2": "699",
                                    "3": "703.3333333333334"
                                },
                                {
                                    "0": "08070493T",
                                    "1": "Érettségi felv. fel. Matematika",
                                    "2": "720",
                                    "3": "715.6666666666666"
                                },
                                {
                                    "0": "06040395T",
                                    "1": "Tolltartó 2 zipzáros töltött",
                                    "2": "728",
                                    "3": "725.3333333333334"
                                },
                                {
                                    "0": "06040392T",
                                    "1": "Tolltartó 1 zipzáros",
                                    "2": "728",
                                    "3": "728"
                                },
                                {
                                    "0": "01100095T",
                                    "1": "Fénymásoló papír GetCopy",
                                    "2": "728",
                                    "3": "728"
                                },
                                {
                                    "0": "01100096T",
                                    "1": "Fénymásoló papír Qconnect",
                                    "2": "728",
                                    "3": "728"
                                },
                                {
                                    "0": "04020445T",
                                    "1": "Határidő napló 2010-s",
                                    "2": "728",
                                    "3": "730.3333333333334"
                                },
                                {
                                    "0": "08070492T",
                                    "1": "Informatika",
                                    "2": "735",
                                    "3": "742.6666666666666"
                                },
                                {
                                    "0": "06040393T",
                                    "1": "Tolltartó 2 részes NG.",
                                    "2": "765",
                                    "3": "755"
                                },
                                {
                                    "0": "02080454T",
                                    "1": "Lyukasztó BOXER",
                                    "2": "765",
                                    "3": "767.6666666666666"
                                },
                                {
                                    "0": "07080158T",
                                    "1": "Golyóstoll Parker tokban",
                                    "2": "773",
                                    "3": "772.6666666666666"
                                },
                                {
                                    "0": "02060038T",
                                    "1": "Bélyegző IDEAL 50",
                                    "2": "780",
                                    "3": "779.3333333333334"
                                },
                                {
                                    "0": "08070478T",
                                    "1": "Összefoglaló feladatgyüjtemény számtech.",
                                    "2": "785",
                                    "3": "786.3333333333334"
                                },
                                {
                                    "0": "02040194T",
                                    "1": "Hibajav.roll.Pritt 4,2mm",
                                    "2": "794",
                                    "3": "808"
                                },
                                {
                                    "0": "01100094T",
                                    "1": "Fénymásoló papír DataCopy",
                                    "2": "845",
                                    "3": "835.6666666666666"
                                },
                                {
                                    "0": "08070489T",
                                    "1": "RAMba zárt világ",
                                    "2": "868",
                                    "3": "862.6666666666666"
                                },
                                {
                                    "0": "06080188T",
                                    "1": "Hegyező gép",
                                    "2": "875",
                                    "3": "911"
                                },
                                {
                                    "0": "G038-FE316",
                                    "1": "fiú harisnya",
                                    "2": "990",
                                    "3": "951.6666666666666"
                                },
                                {
                                    "0": "L033-FE311",
                                    "1": "lány harisnya",
                                    "2": "990",
                                    "3": "999.6666666666666"
                                },
                                {
                                    "0": "07080152T",
                                    "1": "Golyóstoll 3 funkciós ",
                                    "2": "1019",
                                    "3": "1032.6666666666667"
                                },
                                {
                                    "0": "08070472T",
                                    "1": "A föld amelyen élünk - Európa földrajza",
                                    "2": "1089",
                                    "3": "1065.6666666666667"
                                },
                                {
                                    "0": "08070473T",
                                    "1": "A föld amelyen élünk - Távoli földrészek",
                                    "2": "1089",
                                    "3": "1089"
                                },
                                {
                                    "0": "08070474T",
                                    "1": "A föld amelyen élünk - Hazánk földrajza",
                                    "2": "1089",
                                    "3": "1108.3333333333333"
                                },
                                {
                                    "0": "02060448T",
                                    "1": "Bélyegző RP 18-47",
                                    "2": "1147",
                                    "3": "1136.3333333333333"
                                },
                                {
                                    "0": "06040446T",
                                    "1": "Számológép tudományos",
                                    "2": "1173",
                                    "3": "1203.3333333333333"
                                },
                                {
                                    "0": "G019-NA207",
                                    "1": "gyermek pamut nadrág (fiú)",
                                    "2": "1290",
                                    "3": "1251"
                                },
                                {
                                    "0": "L019-NA207",
                                    "1": "gyermek pamut nadrág (lány)",
                                    "2": "1290",
                                    "3": "1310.3333333333333"
                                },
                                {
                                    "0": "02040403T",
                                    "1": "Tűzőgép SAX 239",
                                    "2": "1351",
                                    "3": "1339.3333333333333"
                                },
                                {
                                    "0": "02060447T",
                                    "1": "Bélyegző pocket",
                                    "2": "1377",
                                    "3": "1405.3333333333333"
                                },
                                {
                                    "0": "01100504T",
                                    "1": "Fehér másoló A/3",
                                    "2": "1488",
                                    "3": "1455"
                                },
                                {
                                    "0": "01100496T",
                                    "1": "Színes másoló a/4 80g",
                                    "2": "1500",
                                    "3": "1584.3333333333333"
                                },
                                {
                                    "0": "04080270T",
                                    "1": "Mappa bőr A5",
                                    "2": "1765",
                                    "3": "1751.6666666666667"
                                },
                                {
                                    "0": "U001-KI501",
                                    "1": "sál",
                                    "2": "1990",
                                    "3": "1951.6666666666667"
                                },
                                {
                                    "0": "02040002T",
                                    "1": "irodai tűzőgép",
                                    "2": "2100",
                                    "3": "2663.3333333333335"
                                },
                                {
                                    "0": "L048-PO218",
                                    "1": "gyermek póló (lány)",
                                    "2": "3900",
                                    "3": "3300"
                                },
                                {
                                    "0": "G048-PO218",
                                    "1": "gyermek póló (fiú)",
                                    "2": "3900",
                                    "3": "4125"
                                },
                                {
                                    "0": "01080512T",
                                    "1": "Öntapadó A/4",
                                    "2": "4575",
                                    "3": "4488.333333333333"
                                },
                                {
                                    "0": "G013-NA201",
                                    "1": "gyermek farmer nadrág (fiú)",
                                    "2": "4990",
                                    "3": "4851.666666666667"
                                },
                                {
                                    "0": "L013-NA201",
                                    "1": "gyermek farmer nadrág (lány)",
                                    "2": "4990",
                                    "3": "5490"
                                },
                                {
                                    "0": "F021-IN215",
                                    "1": "férfi ing",
                                    "2": "6490",
                                    "3": "6126.666666666667"
                                },
                                {
                                    "0": "L064-CI401",
                                    "1": "gyermek szandál (lány)",
                                    "2": "6900",
                                    "3": "6763.333333333333"
                                },
                                {
                                    "0": "G064-CI401",
                                    "1": "gyermek szandál (fiú)",
                                    "2": "6900",
                                    "3": "7230"
                                },
                                {
                                    "0": "F007-NA201",
                                    "1": "férfi farmer nadrág",
                                    "2": "7890",
                                    "3": "7563.333333333333"
                                },
                                {
                                    "0": "G073-CI410",
                                    "1": "gyermek cipő (fiú)",
                                    "2": "7900",
                                    "3": "7896.666666666667"
                                },
                                {
                                    "0": "L073-CI410",
                                    "1": "gyermek cipő (lány)",
                                    "2": "7900",
                                    "3": "7933.333333333333"
                                },
                                {
                                    "0": "L082-CI419",
                                    "1": "gyermek csizma (lány)",
                                    "2": "8000",
                                    "3": "7966.666666666667"
                                },
                                {
                                    "0": "G082-CI419",
                                    "1": "gyermek csizma (fiú)",
                                    "2": "8000",
                                    "3": "8096.666666666667"
                                },
                                {
                                    "0": "N008-NA201",
                                    "1": "női farmer nadrág",
                                    "2": "8290",
                                    "3": "8396.666666666666"
                                },
                                {
                                    "0": "L001-KB101",
                                    "1": "gyermek kabát (lány)",
                                    "2": "8900",
                                    "3": "8696.666666666666"
                                },
                                {
                                    "0": "G001-KB101",
                                    "1": "gyermek kabát (fiú)",
                                    "2": "8900",
                                    "3": "9900"
                                },
                                {
                                    "0": "F013-NA207",
                                    "1": "férfi szövet nadrág",
                                    "2": "11900",
                                    "3": "11683.333333333334"
                                },
                                {
                                    "0": "02080511T",
                                    "1": "Oki toner C",
                                    "2": "14250",
                                    "3": "14350"
                                },
                                {
                                    "0": "G041-AL211",
                                    "1": "fiú ünneplős ruha",
                                    "2": "16900",
                                    "3": "16016.666666666666"
                                },
                                {
                                    "0": "L041-AL211",
                                    "1": "lány ünneplős ruha",
                                    "2": "16900",
                                    "3": "18600"
                                },
                                {
                                    "0": "F001-KB101",
                                    "1": "férfi szövet kabát",
                                    "2": "22000",
                                    "3": "20966.666666666668"
                                },
                                {
                                    "0": "N001-KB101",
                                    "1": "női szövet kabát",
                                    "2": "24000",
                                    "3": "26000"
                                },
                                {
                                    "0": "N029-AL212",
                                    "1": "női koktélruha",
                                    "2": "32000",
                                    "3": "31666.666666666668"
                                },
                                {
                                    "0": "N035-AL218",
                                    "1": "kosztüm (rövid)",
                                    "2": "39000",
                                    "3": "39000"
                                },
                                {
                                    "0": "N039-AL222",
                                    "1": "kosztüm (hosszú)",
                                    "2": "46000",
                                    "3": "42500"
                                }
                            ]
                        },
                        "text/html": [
                            "<table>",
                            "<tr><th>termekkod</th><th>megnevezes</th><th>listaar</th><th>harmas_atlag</th></tr>",
                            "<tr><td>07030108T</td><td>Filctoll CD író</td><td>0</td><td>1.5</td></tr>",
                            "<tr><td>01090498T</td><td>Műnyomó 300g 17,5*20</td><td>3</td><td>2</td></tr>",
                            "<tr><td>02030042T</td><td>Boríték LC 6</td><td>3</td><td>3</td></tr>",
                            "<tr><td>04030288T</td><td>Műanyag pohár 1 dl-es</td><td>3</td><td>3.3333333333333335</td></tr>",
                            "<tr><td>01090501T</td><td>Kreatív A/4 300g </td><td>4</td><td>3.6666666666666665</td></tr>",
                            "<tr><td>01090517T</td><td>Színes ofszet B/4</td><td>4</td><td>4.333333333333333</td></tr>",
                            "<tr><td>06040089T</td><td>Ellenőrzőborító</td><td>5</td><td>5</td></tr>",
                            "<tr><td>02030040T</td><td>Boríték LA 4 francia</td><td>6</td><td>5.666666666666667</td></tr>",
                            "<tr><td>02030041T</td><td>Boríték LC 5</td><td>6</td><td>6.666666666666667</td></tr>",
                            "<tr><td>02040147T</td><td>Genotherm lefűzhető A/5</td><td>8</td><td>7.333333333333333</td></tr>",
                            "<tr><td>06010377T</td><td>Szögmérő színes</td><td>8</td><td>8</td></tr>",
                            "<tr><td>06080425T</td><td>Miliméterpapír</td><td>8</td><td>8</td></tr>",
                            "<tr><td>06040181T</td><td>Gyűjtőlap A/4</td><td>8</td><td>8</td></tr>",
                            "<tr><td>06040353T</td><td>Sorvezető</td><td>8</td><td>8</td></tr>",
                            "<tr><td>06080118T</td><td>Füzetborító átlátszó A5</td><td>8</td><td>8.333333333333334</td></tr>",
                            "<tr><td>07040388T</td><td>Tintapatron /kék/</td><td>9</td><td>8.666666666666666</td></tr>",
                            "<tr><td>06010305T</td><td>Papírcenti 100 cm-es</td><td>9</td><td>9</td></tr>",
                            "<tr><td>01100072T</td><td>Dipa A/4 keretezett</td><td>9</td><td>9.333333333333334</td></tr>",
                            "<tr><td>01100503T</td><td>Color Copy A4 120 g</td><td>10</td><td>9.666666666666666</td></tr>",
                            "<tr><td>06080117T</td><td>Füzetborító A/4 átlátszó</td><td>10</td><td>10.333333333333334</td></tr>",
                            "<tr><td>07040058T</td><td>Ceruza radíros kínai</td><td>11</td><td>10.666666666666666</td></tr>",
                            "<tr><td>07040390T</td><td>Tintapatron színes</td><td>11</td><td>11</td></tr>",
                            "<tr><td>07080065T</td><td>Ceruza kínai</td><td>11</td><td>11</td></tr>",
                            "<tr><td>01090515T</td><td>Színes A/3 160 gr IQ</td><td>11</td><td>11</td></tr>",
                            "<tr><td>06010376T</td><td>Szögmérő papír</td><td>11</td><td>11</td></tr>",
                            "<tr><td>04030285T</td><td>Mikulás zacskó</td><td>11</td><td>11</td></tr>",
                            "<tr><td>04050269T</td><td>Lufi hullámos</td><td>11</td><td>11.333333333333334</td></tr>",
                            "<tr><td>06040206T</td><td>kék indigó</td><td>12</td><td>12</td></tr>",
                            "<tr><td>01100510T</td><td>Kreatív A/4 120g </td><td>13</td><td>13</td></tr>",
                            "<tr><td>01090500T</td><td>Color Copy A4 200 g</td><td>14</td><td>13.666666666666666</td></tr>",
                            "<tr><td>01100497T</td><td>Color Copy 160 g-os </td><td>14</td><td>14</td></tr>",
                            "<tr><td>04030240T</td><td>Képeslap virágos</td><td>14</td><td>14.333333333333334</td></tr>",
                            "<tr><td>04030236T</td><td>Képeslap karácsonyi WD</td><td>15</td><td>14.666666666666666</td></tr>",
                            "<tr><td>04030289T</td><td>Műanyag pohár 5 cl-es</td><td>15</td><td>15</td></tr>",
                            "<tr><td>04030260T</td><td>Levélpapír A/4</td><td>15</td><td>15</td></tr>",
                            "<tr><td>04050268T</td><td>Lufi formázható</td><td>15</td><td>15</td></tr>",
                            "<tr><td>01090499T</td><td>Color Copy A/4 250 g</td><td>15</td><td>15</td></tr>",
                            "<tr><td>01040307T</td><td>Pausz papír A/4</td><td>15</td><td>15</td></tr>",
                            "<tr><td>02040291T</td><td>Naptárhát kicsi</td><td>15</td><td>15</td></tr>",
                            "<tr><td>02030044T</td><td>Boríték mintás</td><td>15</td><td>15</td></tr>",
                            "<tr><td>02050460T</td><td>Boríték C/4-es</td><td>15</td><td>15</td></tr>",
                            "<tr><td>03010342T</td><td>Ragasztószalag  TIXO</td><td>15</td><td>15</td></tr>",
                            "<tr><td>03050078T</td><td>Díszkötöző szalag metál kicsi</td><td>15</td><td>15</td></tr>",
                            "<tr><td>03050079T</td><td>Díszkötöző szalag vékony</td><td>15</td><td>15</td></tr>",
                            "<tr><td>06040205T</td><td>Indigó Pelikán</td><td>15</td><td>15</td></tr>",
                            "<tr><td>07010141T</td><td>G.toll betét X20</td><td>15</td><td>16</td></tr>",
                            "<tr><td>02050461T</td><td>Boríték B/4-es</td><td>18</td><td>17</td></tr>",
                            "<tr><td>02040176T</td><td>Gyorsfűző dosszié fehér</td><td>18</td><td>18.333333333333332</td></tr>",
                            "<tr><td>02040207T</td><td>Iratgyűjtő ESSELTE ablakos</td><td>19</td><td>18.666666666666668</td></tr>",
                            "<tr><td>02040208T</td><td>Iratgyűjtő fehér</td><td>19</td><td>19</td></tr>",
                            "<tr><td>03080004T</td><td>Ajándék cs. tasak italos, fólia</td><td>19</td><td>19</td></tr>",
                            "<tr><td>05050170T</td><td>Gumigyűrű</td><td>19</td><td>19</td></tr>",
                            "<tr><td>06040326T</td><td>Radír KOH-I-NOR 80</td><td>19</td><td>19</td></tr>",
                            "<tr><td>06080122T</td><td>Füzetborító öntapadós nagy</td><td>19</td><td>19</td></tr>",
                            "<tr><td>06080119T</td><td>Füzetborító mesefig.</td><td>19</td><td>19</td></tr>",
                            "<tr><td>06040383T</td><td>Taffet papír</td><td>19</td><td>19.333333333333332</td></tr>",
                            "<tr><td>06080417T</td><td>Zászló papír</td><td>20</td><td>19.666666666666668</td></tr>",
                            "<tr><td>04110068T</td><td>Címke egyszínű</td><td>20</td><td>20</td></tr>",
                            "<tr><td>05010306T</td><td>Papízsebkendő,10db Szindy</td><td>20</td><td>21</td></tr>",
                            "<tr><td>06010202T</td><td>Hurkapálca 10 db-os</td><td>23</td><td>22</td></tr>",
                            "<tr><td>03080021T</td><td>Ajándék csom. vékony</td><td>23</td><td>23</td></tr>",
                            "<tr><td>04030287T</td><td>Műanyag foszforeszkáló állat</td><td>23</td><td>23</td></tr>",
                            "<tr><td>06080190T</td><td>Hegyező műanyag egyes</td><td>23</td><td>23</td></tr>",
                            "<tr><td>07010140T</td><td>G.toll betét Stabilo</td><td>23</td><td>23</td></tr>",
                            "<tr><td>07040053T</td><td>Ceruza HB radiros</td><td>23</td><td>23</td></tr>",
                            "<tr><td>06080120T</td><td>Füzetborító öntapadó kicsi</td><td>23</td><td>23</td></tr>",
                            "<tr><td>07040218T</td><td>Ironbél HB 0,5</td><td>23</td><td>23</td></tr>",
                            "<tr><td>07080156T</td><td>Golyóstoll kupakos piros</td><td>23</td><td>23.333333333333332</td></tr>",
                            "<tr><td>06080424T</td><td>Füzetborító A/4 mintás</td><td>24</td><td>23.666666666666668</td></tr>",
                            "<tr><td>04050203T</td><td>Hűtőmágnes</td><td>24</td><td>24</td></tr>",
                            "<tr><td>04050035T</td><td>Bérlet tok</td><td>24</td><td>24</td></tr>",
                            "<tr><td>06010375T</td><td>Szögmérő 180 fokos műa.</td><td>24</td><td>24.333333333333332</td></tr>",
                            "<tr><td>01040502T</td><td>Előlap spirálhoz</td><td>25</td><td>24.666666666666668</td></tr>",
                            "<tr><td>01090516T</td><td>Színes karton A4</td><td>25</td><td>25.333333333333332</td></tr>",
                            "<tr><td>01030091T</td><td>Emléklap A/5</td><td>26</td><td>25.666666666666668</td></tr>",
                            "<tr><td>03080006T</td><td>Ajándék cs. tasak mintás kicsi</td><td>26</td><td>26</td></tr>",
                            "<tr><td>03050457T</td><td>Ajándék cs. tasak kicsi</td><td>26</td><td>26</td></tr>",
                            "<tr><td>03050076T</td><td>Díszkötöző szalag metál nagy</td><td>26</td><td>26</td></tr>",
                            "<tr><td>04110066T</td><td>Címke 8 db-os</td><td>26</td><td>26</td></tr>",
                            "<tr><td>07040097T</td><td>Filctoll </td><td>26</td><td>26.666666666666668</td></tr>",
                            "<tr><td>06040347T</td><td>Rajzlap A/4 10db ffam.</td><td>28</td><td>27.666666666666668</td></tr>",
                            "<tr><td>06040212T</td><td>Írólap 10-50 ffam.</td><td>29</td><td>29</td></tr>",
                            "<tr><td>06040247T</td><td>Körzőhegy grafit</td><td>30</td><td>29.666666666666668</td></tr>",
                            "<tr><td>06080189T</td><td>Hegyező műanyag dupla</td><td>30</td><td>30</td></tr>",
                            "<tr><td>07040050T</td><td>Ceruza Cseh</td><td>30</td><td>30</td></tr>",
                            "<tr><td>06080191T</td><td>Hegyező tartályos egyes</td><td>30</td><td>30</td></tr>",
                            "<tr><td>06080412T</td><td>Vonalzó 16 cm-es LIZZY</td><td>30</td><td>30</td></tr>",
                            "<tr><td>06080413T</td><td>Vonalzó 30 cm</td><td>30</td><td>30</td></tr>",
                            "<tr><td>06080414T</td><td>Vonalzó 20 cm-es </td><td>30</td><td>30</td></tr>",
                            "<tr><td>06080415T</td><td>Vonalzó 45 fokos</td><td>30</td><td>30</td></tr>",
                            "<tr><td>07040127T</td><td>G. toll betét mini</td><td>30</td><td>30</td></tr>",
                            "<tr><td>07040129T</td><td>G. toll betét réz</td><td>30</td><td>30</td></tr>",
                            "<tr><td>04030234T</td><td>Képeslap karácsonyi</td><td>30</td><td>30</td></tr>",
                            "<tr><td>06010114T</td><td>Füzet A/5 hangjegy 36/16</td><td>30</td><td>30</td></tr>",
                            "<tr><td>02080069T</td><td>CD tartó tok</td><td>30</td><td>30</td></tr>",
                            "<tr><td>01010110T</td><td>Fotópapír A/4 fényes</td><td>30</td><td>30</td></tr>",
                            "<tr><td>02040177T</td><td>Gyorsfűző műa.</td><td>30</td><td>30</td></tr>",
                            "<tr><td>02040145T</td><td>Gemkapocs 28 mm</td><td>30</td><td>30.333333333333332</td></tr>",
                            "<tr><td>04110067T</td><td>Címke WD. állat</td><td>31</td><td>31.333333333333332</td></tr>",
                            "<tr><td>06010083T</td><td>Ecset Centrum 7,8,9</td><td>33</td><td>32.333333333333336</td></tr>",
                            "<tr><td>06010036T</td><td>Betűtartó sin</td><td>33</td><td>33</td></tr>",
                            "<tr><td>04110227T</td><td>Képeslap  borítékos</td><td>33</td><td>33</td></tr>",
                            "<tr><td>04110229T</td><td>Képeslap &quot;Részvét&quot;</td><td>33</td><td>33</td></tr>",
                            "<tr><td>07080155T</td><td>Golyóstoll</td><td>33</td><td>33</td></tr>",
                            "<tr><td>06080416T</td><td>Vonalzó 60 fokos</td><td>33</td><td>33</td></tr>",
                            "<tr><td>07010138T</td><td>G.toll betét jumbo</td><td>33</td><td>33.333333333333336</td></tr>",
                            "<tr><td>06080116T</td><td>Füzet A5 1-8 osz.-ig</td><td>34</td><td>33.666666666666664</td></tr>",
                            "<tr><td>06040213T</td><td>Írólap 20-50 </td><td>34</td><td>34</td></tr>",
                            "<tr><td>06010113T</td><td>Füzet 31-32 szótár</td><td>34</td><td>34</td></tr>",
                            "<tr><td>02040406T</td><td>Tűzőkapocs 24/6</td><td>34</td><td>34.333333333333336</td></tr>",
                            "<tr><td>02040178T</td><td>Gyorsfűző műa.</td><td>35</td><td>34.666666666666664</td></tr>",
                            "<tr><td>06010367T</td><td>Számolókorong</td><td>35</td><td>35</td></tr>",
                            "<tr><td>07080063T</td><td>Ceruza szorzótáblás</td><td>35</td><td>35.333333333333336</td></tr>",
                            "<tr><td>07050463T</td><td>Ceruzafogó</td><td>36</td><td>35.666666666666664</td></tr>",
                            "<tr><td>07040216T</td><td>Ironbél B 0,5</td><td>36</td><td>36</td></tr>",
                            "<tr><td>06040327T</td><td>Radír Koh-i-nor 40</td><td>36</td><td>36</td></tr>",
                            "<tr><td>06040323T</td><td>Post-it 51×38 100 lapos</td><td>36</td><td>36</td></tr>",
                            "<tr><td>07040060T</td><td>Ceruza stabilo swano</td><td>36</td><td>36</td></tr>",
                            "<tr><td>06010365T</td><td>Számegyenes</td><td>36</td><td>36</td></tr>",
                            "<tr><td>06010201T</td><td>Hőmérő, műa.</td><td>36</td><td>36</td></tr>",
                            "<tr><td>06010086T</td><td>Ecset Nebulo 4-es</td><td>36</td><td>36</td></tr>",
                            "<tr><td>04050255T</td><td>Kulcstartó mesefigurás</td><td>36</td><td>36</td></tr>",
                            "<tr><td>04030237T</td><td>Képeslap kerek</td><td>36</td><td>36.666666666666664</td></tr>",
                            "<tr><td>01080513T</td><td>Selyemfényű karton A/4</td><td>38</td><td>37.666666666666664</td></tr>",
                            "<tr><td>02030043T</td><td>Boríték légp. kicsi</td><td>39</td><td>38.666666666666664</td></tr>",
                            "<tr><td>07040051T</td><td>Ceruza háromszög </td><td>39</td><td>39</td></tr>",
                            "<tr><td>07040047T</td><td>Ceruza 2H-4B</td><td>39</td><td>39</td></tr>",
                            "<tr><td>07040133T</td><td>G.toll betét görbe hegyű</td><td>39</td><td>39.333333333333336</td></tr>",
                            "<tr><td>07080064T</td><td>Ceruza zöld színű</td><td>40</td><td>39.666666666666664</td></tr>",
                            "<tr><td>07040049T</td><td>Ceruza Conté zöld</td><td>40</td><td>40</td></tr>",
                            "<tr><td>07040056T</td><td>Ceruza piros-kék vékony</td><td>40</td><td>40</td></tr>",
                            "<tr><td>06040325T</td><td>Radír gyümölcsös</td><td>40</td><td>40</td></tr>",
                            "<tr><td>01100509T</td><td>Márványos A/4</td><td>40</td><td>40</td></tr>",
                            "<tr><td>02040507T</td><td>Fólia tasakos A4 80 mik.</td><td>40</td><td>40</td></tr>",
                            "<tr><td>03050459T</td><td>Talpas tasak</td><td>40</td><td>40</td></tr>",
                            "<tr><td>06010082T</td><td>Ecset Centrum 10,11,12</td><td>40</td><td>40</td></tr>",
                            "<tr><td>05050465T</td><td>Tapétavágó kés</td><td>40</td><td>40.333333333333336</td></tr>",
                            "<tr><td>07080153T</td><td>Golyóstoll illatos ICO</td><td>41</td><td>41.333333333333336</td></tr>",
                            "<tr><td>06010373T</td><td>Színes papír I.II-IV.V-VIII-ig</td><td>43</td><td>42.666666666666664</td></tr>",
                            "<tr><td>04030241T</td><td>Képeslap virágos +boríték</td><td>44</td><td>43.666666666666664</td></tr>",
                            "<tr><td>03080020T</td><td>Ajándék csom. nagy  </td><td>44</td><td>44</td></tr>",
                            "<tr><td>04030286T</td><td>Műanyag állatok</td><td>44</td><td>44</td></tr>",
                            "<tr><td>04050075T</td><td>Díszdoboz tollnak 2 db-os keskeny</td><td>44</td><td>44</td></tr>",
                            "<tr><td>03050077T</td><td>Diszkötöző szalag arany</td><td>44</td><td>44</td></tr>",
                            "<tr><td>02080450T</td><td>Gémkapocs 28-as színes</td><td>44</td><td>44</td></tr>",
                            "<tr><td>02040508T</td><td>Fólia tasakos A4100 mik.</td><td>44</td><td>44</td></tr>",
                            "<tr><td>02040506T</td><td>Fólia tasakos A4 125 mik.</td><td>44</td><td>44</td></tr>",
                            "<tr><td>02040405T</td><td>Tűzőkapocs 10-es</td><td>44</td><td>44</td></tr>",
                            "<tr><td>02040298T</td><td>Notesz mintás</td><td>44</td><td>44</td></tr>",
                            "<tr><td>02040209T</td><td>Iratsín fehér</td><td>44</td><td>44</td></tr>",
                            "<tr><td>07040134T</td><td>G.toll betét illatos</td><td>44</td><td>44</td></tr>",
                            "<tr><td>07080161T</td><td>Golyóstoll kétszínű</td><td>44</td><td>44</td></tr>",
                            "<tr><td>06040328T</td><td>Radír Maped</td><td>44</td><td>44</td></tr>",
                            "<tr><td>06040329T</td><td>Radír stabilo</td><td>44</td><td>44</td></tr>",
                            "<tr><td>07040061T</td><td>Ceruza stabilo opera</td><td>44</td><td>44.333333333333336</td></tr>",
                            "<tr><td>02080514T</td><td>Spirál 1/4 </td><td>45</td><td>44.666666666666664</td></tr>",
                            "<tr><td>06010374T</td><td>Szorzótábla műanyag</td><td>45</td><td>45.333333333333336</td></tr>",
                            "<tr><td>05050045T</td><td>Celofán</td><td>46</td><td>45.666666666666664</td></tr>",
                            "<tr><td>07040102T</td><td>Filctoll supra fine</td><td>46</td><td>46.666666666666664</td></tr>",
                            "<tr><td>07010137T</td><td>G.toll betét PAX tip.</td><td>48</td><td>47.333333333333336</td></tr>",
                            "<tr><td>06040386T</td><td>Tempera szóló színes</td><td>48</td><td>48</td></tr>",
                            "<tr><td>06010115T</td><td>Füzet A/5, mintás</td><td>48</td><td>48</td></tr>",
                            "<tr><td>04050224T</td><td>Jelzőkréta</td><td>48</td><td>48</td></tr>",
                            "<tr><td>04030239T</td><td>Képeslap stancolt szív</td><td>48</td><td>48</td></tr>",
                            "<tr><td>02040146T</td><td>Gemkapocs ICO</td><td>48</td><td>48</td></tr>",
                            "<tr><td>01020299T</td><td>Oklevél A/4 egyszínű</td><td>48</td><td>48.333333333333336</td></tr>",
                            "<tr><td>04110274T</td><td>Matrica autóra H</td><td>49</td><td>48.666666666666664</td></tr>",
                            "<tr><td>04110275T</td><td>Matrica motoros kicsi</td><td>49</td><td>49</td></tr>",
                            "<tr><td>06040331T</td><td>Radír Tikky 40 </td><td>49</td><td>49.333333333333336</td></tr>",
                            "<tr><td>06040330T</td><td>Radír Tikky 30 </td><td>50</td><td>50</td></tr>",
                            "<tr><td>07080150T</td><td>Golyóstoll</td><td>51</td><td>50.666666666666664</td></tr>",
                            "<tr><td>04110232T</td><td>Képeslap humoros kaparós</td><td>51</td><td>51</td></tr>",
                            "<tr><td>06040088T</td><td>Egészségügyi könyv</td><td>51</td><td>51</td></tr>",
                            "<tr><td>02080109T</td><td>Floppy lemez</td><td>51</td><td>51.666666666666664</td></tr>",
                            "<tr><td>07030103T</td><td>Filctoll TINTEN PEN</td><td>53</td><td>52.333333333333336</td></tr>",
                            "<tr><td>07040052T</td><td>Ceruza 2H-3B Koh-i-nor</td><td>53</td><td>53.666666666666664</td></tr>",
                            "<tr><td>07040054T</td><td>Ceruza kártyás</td><td>55</td><td>54.333333333333336</td></tr>",
                            "<tr><td>07040048T</td><td>Ceruza arany, ezüst</td><td>55</td><td>55</td></tr>",
                            "<tr><td>07040132T</td><td>G.toll betét csavaros</td><td>55</td><td>55</td></tr>",
                            "<tr><td>07040128T</td><td>G. toll betét mini fém</td><td>55</td><td>55</td></tr>",
                            "<tr><td>02080433T</td><td>Ragasztószalag 19 mm-es</td><td>55</td><td>55</td></tr>",
                            "<tr><td>01020300T</td><td>Oklevél A/4 színes</td><td>55</td><td>55</td></tr>",
                            "<tr><td>04110230T</td><td>Képeslap humoros </td><td>55</td><td>55</td></tr>",
                            "<tr><td>04110273T</td><td>Matrica állatos</td><td>55</td><td>55.333333333333336</td></tr>",
                            "<tr><td>04110282T</td><td>Matrica WD kicsi</td><td>56</td><td>55.666666666666664</td></tr>",
                            "<tr><td>04030262T</td><td>Levélpapír sima</td><td>56</td><td>56</td></tr>",
                            "<tr><td>03080019T</td><td>Ajándék csom. Krepp</td><td>56</td><td>56</td></tr>",
                            "<tr><td>02040296T</td><td>Notesz A/6 College</td><td>56</td><td>56.666666666666664</td></tr>",
                            "<tr><td>07040059T</td><td>Ceruza smaragd</td><td>58</td><td>57.333333333333336</td></tr>",
                            "<tr><td>06080411T</td><td>Vonalzó 15 cm-es ESSELTE</td><td>58</td><td>58</td></tr>",
                            "<tr><td>06040384T</td><td>Technika cs. I-II-III-IV</td><td>58</td><td>58.333333333333336</td></tr>",
                            "<tr><td>07040055T</td><td>Ceruza piros-kék</td><td>59</td><td>58.666666666666664</td></tr>",
                            "<tr><td>07040217T</td><td>Ironbél H 0,5</td><td>59</td><td>59</td></tr>",
                            "<tr><td>07080313T</td><td>Pixiron Centrum</td><td>59</td><td>59</td></tr>",
                            "<tr><td>07080317T</td><td>Pixiron mini </td><td>59</td><td>59</td></tr>",
                            "<tr><td>01010304T</td><td>Öntapadós hologramos papír A/4</td><td>59</td><td>59</td></tr>",
                            "<tr><td>01030092T</td><td>Esküvői meghívó</td><td>59</td><td>59</td></tr>",
                            "<tr><td>02040214T</td><td>Iromány fedél feles</td><td>59</td><td>59</td></tr>",
                            "<tr><td>04030238T</td><td>Képeslap stancolt</td><td>59</td><td>59.333333333333336</td></tr>",
                            "<tr><td>06010084T</td><td>Ecset Deák 2-es</td><td>60</td><td>60</td></tr>",
                            "<tr><td>06010368T</td><td>Számolópálca</td><td>61</td><td>60.666666666666664</td></tr>",
                            "<tr><td>04050073T</td><td>Díszdoboz kar.</td><td>61</td><td>61.666666666666664</td></tr>",
                            "<tr><td>05040349T</td><td>Rajzszeg</td><td>63</td><td>62.333333333333336</td></tr>",
                            "<tr><td>02040148T</td><td>Genotherm lefűzhető A4 10db-os</td><td>63</td><td>63</td></tr>",
                            "<tr><td>03010344T</td><td>Ragasztószalag nagy 12 mm</td><td>63</td><td>63</td></tr>",
                            "<tr><td>07080159T</td><td>Golyóstoll Pax tip.</td><td>63</td><td>63</td></tr>",
                            "<tr><td>06080429T</td><td>Meghívó ballagási</td><td>63</td><td>63.333333333333336</td></tr>",
                            "<tr><td>03080013T</td><td>Ajándék csom. 50x70 húsvéti</td><td>64</td><td>64</td></tr>",
                            "<tr><td>06010085T</td><td>Ecset Lizzy 10-es</td><td>65</td><td>64.66666666666667</td></tr>",
                            "<tr><td>04050220T</td><td>Játék autó</td><td>65</td><td>65.33333333333333</td></tr>",
                            "<tr><td>04050074T</td><td>Díszdoboz tollnak 2 db-os</td><td>66</td><td>65.66666666666667</td></tr>",
                            "<tr><td>04050187T</td><td>Hajgumi macis</td><td>66</td><td>66</td></tr>",
                            "<tr><td>02080436T</td><td>Irattartó müa. boríték A/4</td><td>66</td><td>66</td></tr>",
                            "<tr><td>07080419T</td><td>Zselés toll MICRO</td><td>66</td><td>66.66666666666667</td></tr>",
                            "<tr><td>06010111T</td><td>Füzet  A/4 </td><td>68</td><td>68</td></tr>",
                            "<tr><td>06080192T</td><td>Hegyző fém 1 lyukú</td><td>70</td><td>70.33333333333333</td></tr>",
                            "<tr><td>06050249T</td><td>Krepp papír</td><td>73</td><td>72</td></tr>",
                            "<tr><td>05050046T</td><td>Celofán 50 db-os</td><td>73</td><td>73</td></tr>",
                            "<tr><td>04110258T</td><td>Lampion</td><td>73</td><td>73</td></tr>",
                            "<tr><td>04050223T</td><td>Játékautó mini</td><td>73</td><td>73</td></tr>",
                            "<tr><td>04030235T</td><td>Képeslap karácsonyi borítékos</td><td>73</td><td>73</td></tr>",
                            "<tr><td>01100070T</td><td>Dekorációs karton</td><td>73</td><td>73.33333333333333</td></tr>",
                            "<tr><td>04030264T</td><td>Levélpapír szett </td><td>74</td><td>73.66666666666667</td></tr>",
                            "<tr><td>06080332T</td><td>Radírtoll betét ER100</td><td>74</td><td>74</td></tr>",
                            "<tr><td>06080430T</td><td>Öntapadős betűk</td><td>74</td><td>74</td></tr>",
                            "<tr><td>07010244T</td><td>Kerámiatoll</td><td>74</td><td>74</td></tr>",
                            "<tr><td>07040215T</td><td>Ironbél  2B ICO</td><td>74</td><td>74.66666666666667</td></tr>",
                            "<tr><td>07030104T</td><td>Filctoll vastag ARTIP</td><td>76</td><td>76</td></tr>",
                            "<tr><td>07010143T</td><td>G.toll betét Zebra H-0,7</td><td>78</td><td>77.33333333333333</td></tr>",
                            "<tr><td>06040380T</td><td>Szövegkiemelő</td><td>78</td><td>78</td></tr>",
                            "<tr><td>07040219T</td><td>Ironbél HI-POLIMER HB 0,7</td><td>78</td><td>78</td></tr>",
                            "<tr><td>06010112T</td><td>Füzet  A4 mintás</td><td>78</td><td>78</td></tr>",
                            "<tr><td>02040292T</td><td>Naptárhát nagy</td><td>78</td><td>78.33333333333333</td></tr>",
                            "<tr><td>06040087T</td><td>Ecset Nebuló 10-es</td><td>79</td><td>79</td></tr>",
                            "<tr><td>07040130T</td><td>G. toll betét S7S</td><td>80</td><td>79.66666666666667</td></tr>",
                            "<tr><td>07040391T</td><td>Toll Centropen roller</td><td>80</td><td>80.33333333333333</td></tr>",
                            "<tr><td>07080466T</td><td>Golyóstoll Stabiló 308</td><td>81</td><td>80.66666666666667</td></tr>",
                            "<tr><td>06080336T</td><td>Ragasztó 8 g Pritt</td><td>81</td><td>81</td></tr>",
                            "<tr><td>04110231T</td><td>Képeslap humoros borítékos</td><td>81</td><td>81</td></tr>",
                            "<tr><td>04040387T</td><td>Tenisz labda</td><td>81</td><td>81</td></tr>",
                            "<tr><td>02040197T</td><td>Hibajavító lap </td><td>81</td><td>81</td></tr>",
                            "<tr><td>02040206T</td><td>Írásvetítő fólia</td><td>81</td><td>81</td></tr>",
                            "<tr><td>03050080T</td><td>Diszkötöző széles szalag</td><td>81</td><td>81</td></tr>",
                            "<tr><td>03080014T</td><td>Ajándék csom. 70x50 metál</td><td>81</td><td>81</td></tr>",
                            "<tr><td>02040308T</td><td>Pénztárgépsz. 2 pl. nem öníró</td><td>81</td><td>82.33333333333333</td></tr>",
                            "<tr><td>07040131T</td><td>G. toll betét UNI lachnok Fine SA-7C</td><td>85</td><td>85</td></tr>",
                            "<tr><td>06080339T</td><td>Ragasztó kores</td><td>89</td><td>87.66666666666667</td></tr>",
                            "<tr><td>07010144T</td><td>G.toll betét Zebra K-0,7</td><td>89</td><td>89</td></tr>",
                            "<tr><td>06040357T</td><td>Sp.Füzet A/5 70-es</td><td>89</td><td>89</td></tr>",
                            "<tr><td>06040378T</td><td>Szövegkiemelő vékony</td><td>89</td><td>89</td></tr>",
                            "<tr><td>06040324T</td><td>Post-it 75×75 100 lapos</td><td>89</td><td>89</td></tr>",
                            "<tr><td>02040295T</td><td>Notesz A/5 sima spirál</td><td>89</td><td>89</td></tr>",
                            "<tr><td>02080456T</td><td>Genoterm HERLITZ 10-es</td><td>89</td><td>89</td></tr>",
                            "<tr><td>02040290T</td><td>Naptár 24-es</td><td>89</td><td>89</td></tr>",
                            "<tr><td>02040210T</td><td>Iratsín kék</td><td>89</td><td>89</td></tr>",
                            "<tr><td>01100071T</td><td>Dekorációs karton arany, ezüst</td><td>89</td><td>89</td></tr>",
                            "<tr><td>04050022T</td><td>Álarc</td><td>89</td><td>89</td></tr>",
                            "<tr><td>04030263T</td><td>Levélpapír szett</td><td>89</td><td>89</td></tr>",
                            "<tr><td>04110233T</td><td>Képeslap humoros</td><td>89</td><td>89</td></tr>",
                            "<tr><td>05010370T</td><td>Szilvia csomagoló</td><td>89</td><td>89</td></tr>",
                            "<tr><td>05050346T</td><td>Rágógumi Orbit</td><td>89</td><td>89.66666666666667</td></tr>",
                            "<tr><td>07010139T</td><td>G.toll betét S7L </td><td>91</td><td>91</td></tr>",
                            "<tr><td>06040379T</td><td>Szövegkiemelő </td><td>93</td><td>92.33333333333333</td></tr>",
                            "<tr><td>07080157T</td><td>Golyóstoll Montex Hytone</td><td>93</td><td>93</td></tr>",
                            "<tr><td>04110277T</td><td>Matrica Stickers szíves</td><td>93</td><td>93</td></tr>",
                            "<tr><td>02040309T</td><td>Pénztárgépszalag 2pl SC 57.5/60</td><td>93</td><td>93.33333333333333</td></tr>",
                            "<tr><td>07080315T</td><td>Pixiron Handy műanyag</td><td>94</td><td>93.66666666666667</td></tr>",
                            "<tr><td>07040169T</td><td>Golyóstoll Zodiák</td><td>94</td><td>94.33333333333333</td></tr>",
                            "<tr><td>07080418T</td><td>Zselés toll </td><td>95</td><td>94.66666666666667</td></tr>",
                            "<tr><td>06040183T</td><td>Gyűrűskönyv bet. A/5</td><td>95</td><td>95.33333333333333</td></tr>",
                            "<tr><td>06040385T</td><td>Tempera szóló ezüst</td><td>96</td><td>96.66666666666667</td></tr>",
                            "<tr><td>07010371T</td><td>Színes ceruza 6-os</td><td>99</td><td>98.66666666666667</td></tr>",
                            "<tr><td>06080338T</td><td>Ragasztó kenőfejes Nebuló</td><td>101</td><td>100.33333333333333</td></tr>",
                            "<tr><td>07080162T</td><td>Golyóstoll Stabilo piros</td><td>101</td><td>101.66666666666667</td></tr>",
                            "<tr><td>07030106T</td><td>Filctoll, alkoholosOHP F-M-C</td><td>103</td><td>102.33333333333333</td></tr>",
                            "<tr><td>06040381T</td><td>Szövegkiemelő Videotip</td><td>103</td><td>103</td></tr>",
                            "<tr><td>06040352T</td><td>Rovatolt papír 20 íves</td><td>103</td><td>103</td></tr>",
                            "<tr><td>02040294T</td><td>Notesz A/5 sima</td><td>103</td><td>103</td></tr>",
                            "<tr><td>02040297T</td><td>Notesz sima spirál College</td><td>103</td><td>103</td></tr>",
                            "<tr><td>02080449T</td><td>Térképtű színes</td><td>103</td><td>103</td></tr>",
                            "<tr><td>02080451T</td><td>Gémkapocs 50-es</td><td>103</td><td>103</td></tr>",
                            "<tr><td>03080008T</td><td>Ajándék cs. tasak kicsi</td><td>103</td><td>103</td></tr>",
                            "<tr><td>02020245T</td><td>Kiadási pénztárbizonylat 2×25</td><td>103</td><td>103</td></tr>",
                            "<tr><td>05040310T</td><td>Pill.ragasztó</td><td>103</td><td>103</td></tr>",
                            "<tr><td>04030265T</td><td>Levélpapír szett natur, mintás</td><td>103</td><td>103</td></tr>",
                            "<tr><td>04050253T</td><td>Kulcstartó figurás</td><td>103</td><td>104</td></tr>",
                            "<tr><td>03080031T</td><td>Ajándék cs. húsvéti</td><td>106</td><td>105</td></tr>",
                            "<tr><td>05040348T</td><td>Rajzszeg színes</td><td>106</td><td>106</td></tr>",
                            "<tr><td>02010028T</td><td>Árazószalag </td><td>106</td><td>106</td></tr>",
                            "<tr><td>02080226T</td><td>Kapocskiszedő</td><td>106</td><td>106</td></tr>",
                            "<tr><td>07040057T</td><td>Ceruza Progresso</td><td>106</td><td>107</td></tr>",
                            "<tr><td>04110276T</td><td>Matrica Stickers nagy állatos</td><td>109</td><td>108.33333333333333</td></tr>",
                            "<tr><td>04050171T</td><td>Gumilabda közepes</td><td>110</td><td>109.66666666666667</td></tr>",
                            "<tr><td>03080016T</td><td>házt.csom.  5 ív</td><td>110</td><td>110</td></tr>",
                            "<tr><td>02040149T</td><td>Genotherm A4 10db-os</td><td>110</td><td>110</td></tr>",
                            "<tr><td>06080335T</td><td>Ragasztó 9 g Pax</td><td>110</td><td>110</td></tr>",
                            "<tr><td>07080468T</td><td>Golyóstoll háromfunkciós</td><td>110</td><td>111.33333333333333</td></tr>",
                            "<tr><td>07030105T</td><td>Filctoll, alkoholos Centropen</td><td>114</td><td>112.66666666666667</td></tr>",
                            "<tr><td>03080439T</td><td>Italtartó doboz</td><td>114</td><td>114.33333333333333</td></tr>",
                            "<tr><td>04050250T</td><td>Kulcstartó autós</td><td>115</td><td>114.66666666666667</td></tr>",
                            "<tr><td>02020029T</td><td>Átírótömb A/6</td><td>115</td><td>116</td></tr>",
                            "<tr><td>04030242T</td><td>Képeslap WD +boríték</td><td>118</td><td>117</td></tr>",
                            "<tr><td>05010026T</td><td>Alufólia 10 m-es</td><td>118</td><td>118</td></tr>",
                            "<tr><td>05110360T</td><td>Szalvéta egyszínű</td><td>118</td><td>118.33333333333333</td></tr>",
                            "<tr><td>06080333T</td><td>Radírtoll betét vastag</td><td>119</td><td>119.33333333333333</td></tr>",
                            "<tr><td>06080441T</td><td>Gyurmakés</td><td>121</td><td>120.33333333333333</td></tr>",
                            "<tr><td>03080018T</td><td>Ajándék csom. gyűrt 50x70 </td><td>121</td><td>121.66666666666667</td></tr>",
                            "<tr><td>07010136T</td><td>G.toll betét PAX</td><td>123</td><td>122.66666666666667</td></tr>",
                            "<tr><td>04050252T</td><td>Kulcstartó Csőrikés</td><td>124</td><td>124</td></tr>",
                            "<tr><td>03080012T</td><td>Ajándék csom. 200x70</td><td>125</td><td>124.66666666666667</td></tr>",
                            "<tr><td>06040399T</td><td>Tombola tömb</td><td>125</td><td>125</td></tr>",
                            "<tr><td>07080312T</td><td>Pixiron 0,7 Handy</td><td>125</td><td>126.33333333333333</td></tr>",
                            "<tr><td>04050256T</td><td>Kulcstartó nagyítós</td><td>129</td><td>127.66666666666667</td></tr>",
                            "<tr><td>04050267T</td><td>Logikai készlet</td><td>129</td><td>129</td></tr>",
                            "<tr><td>05010369T</td><td>Szemetes zsák 60 literes</td><td>129</td><td>129.66666666666666</td></tr>",
                            "<tr><td>04050225T</td><td>Kártya mini Magyar</td><td>131</td><td>131</td></tr>",
                            "<tr><td>04050221T</td><td>Játékautó Blisteres</td><td>133</td><td>132.33333333333334</td></tr>",
                            "<tr><td>05110363T</td><td>Szalvéta dekor</td><td>133</td><td>133</td></tr>",
                            "<tr><td>02080081T</td><td>Dvd</td><td>133</td><td>133</td></tr>",
                            "<tr><td>02020032T</td><td>Beírókönyv A5 </td><td>133</td><td>133</td></tr>",
                            "<tr><td>02040198T</td><td>Hibajavító roller 5 mm</td><td>133</td><td>133</td></tr>",
                            "<tr><td>02040025T</td><td>Álló irattartó karton</td><td>133</td><td>133</td></tr>",
                            "<tr><td>07080314T</td><td>Pixiron Handy fém</td><td>133</td><td>133</td></tr>",
                            "<tr><td>06050301T</td><td>Olló gyerek </td><td>133</td><td>133</td></tr>",
                            "<tr><td>06080334T</td><td>Ragasztó szalag KORES </td><td>133</td><td>135.33333333333334</td></tr>",
                            "<tr><td>07040101T</td><td>Filctoll permanent vastag</td><td>140</td><td>137.66666666666666</td></tr>",
                            "<tr><td>07050464T</td><td>Szövegkiemelő Staedtler</td><td>140</td><td>140</td></tr>",
                            "<tr><td>04030261T</td><td>Levélpapír állatos</td><td>140</td><td>141.33333333333334</td></tr>",
                            "<tr><td>04050023T</td><td>Álarc fejdísz</td><td>144</td><td>142.66666666666666</td></tr>",
                            "<tr><td>04050024T</td><td>Álarc szemüveg</td><td>144</td><td>144</td></tr>",
                            "<tr><td>05080340T</td><td>Ragasztó, Technokol 35g kék</td><td>144</td><td>144</td></tr>",
                            "<tr><td>05080341T</td><td>Ragasztó, Technokol 35g piros</td><td>144</td><td>144</td></tr>",
                            "<tr><td>02020037T</td><td>Bevételi pénztárbizonylat 3×25</td><td>144</td><td>144</td></tr>",
                            "<tr><td>06040356T</td><td>Sp.Füzet A/4  70es</td><td>144</td><td>144.66666666666666</td></tr>",
                            "<tr><td>07080062T</td><td>Ceruza szén</td><td>146</td><td>146</td></tr>",
                            "<tr><td>06040174T</td><td>Gumis mappa </td><td>148</td><td>147.33333333333334</td></tr>",
                            "<tr><td>03080011T</td><td>Ajándék cs. tasak közepes</td><td>148</td><td>148</td></tr>",
                            "<tr><td>03080009T</td><td>Ajándék csom. 100x70 metál</td><td>148</td><td>148</td></tr>",
                            "<tr><td>03080017T</td><td>iskolai csomagoló papír</td><td>148</td><td>148</td></tr>",
                            "<tr><td>03050458T</td><td>Ajándék cs. 2×100×70</td><td>148</td><td>148</td></tr>",
                            "<tr><td>04110280T</td><td>Matrica tetoválós kicsi</td><td>148</td><td>148</td></tr>",
                            "<tr><td>04050251T</td><td>Kulcstartó billiárd golyós</td><td>148</td><td>150.33333333333334</td></tr>",
                            "<tr><td>04050254T</td><td>Kulcstartó intarziás állatos</td><td>155</td><td>152.66666666666666</td></tr>",
                            "<tr><td>04110283T</td><td>Meghívó állatos</td><td>155</td><td>155</td></tr>",
                            "<tr><td>06040355T</td><td>Sp.Füzet A/4 70-as</td><td>155</td><td>157</td></tr>",
                            "<tr><td>06040246T</td><td>Körző</td><td>161</td><td>159</td></tr>",
                            "<tr><td>06050303T</td><td>Olló, iskolai</td><td>161</td><td>161</td></tr>",
                            "<tr><td>07010372T</td><td>Színes ceruza 12 szín</td><td>161</td><td>161</td></tr>",
                            "<tr><td>06080259T</td><td>Leckefüzet</td><td>161</td><td>161</td></tr>",
                            "<tr><td>06080440T</td><td>Gyurma 12 szinű</td><td>161</td><td>161</td></tr>",
                            "<tr><td>06080426T</td><td>Szótárfüzet Lizzy</td><td>161</td><td>161</td></tr>",
                            "<tr><td>06080427T</td><td>Ablakkréta</td><td>161</td><td>161</td></tr>",
                            "<tr><td>07080420T</td><td>Zselés toll Muhnwa</td><td>161</td><td>161</td></tr>",
                            "<tr><td>04110278T</td><td>Matrica Test ékszer tattoo</td><td>161</td><td>161</td></tr>",
                            "<tr><td>05110364T</td><td>Szalvéta kicsi virágos</td><td>161</td><td>161</td></tr>",
                            "<tr><td>04050321T</td><td>Plüss kicsi</td><td>161</td><td>161</td></tr>",
                            "<tr><td>01080093T</td><td>Fax papír 15 m</td><td>161</td><td>162.33333333333334</td></tr>",
                            "<tr><td>04050222T</td><td>Játékautó elemes</td><td>165</td><td>164</td></tr>",
                            "<tr><td>03010345T</td><td>Ragasztószalag széles barna</td><td>166</td><td>166.33333333333334</td></tr>",
                            "<tr><td>04110279T</td><td>Matrica tetoválás</td><td>168</td><td>167.66666666666666</td></tr>",
                            "<tr><td>04110284T</td><td>Meghívó borítékos</td><td>169</td><td>168.66666666666666</td></tr>",
                            "<tr><td>04050204T</td><td>Hűtőmágnes WD</td><td>169</td><td>169</td></tr>",
                            "<tr><td>04030266T</td><td>Levélpapír szett virágos</td><td>169</td><td>169</td></tr>",
                            "<tr><td>03080015T</td><td>Ajándék csom. gyűrt</td><td>169</td><td>170.33333333333334</td></tr>",
                            "<tr><td>04050320T</td><td>Plüss  QX állatok</td><td>173</td><td>172.33333333333334</td></tr>",
                            "<tr><td>04110281T</td><td>Matrica világítós </td><td>175</td><td>174.33333333333334</td></tr>",
                            "<tr><td>05110361T</td><td>Szalvéta Goma húsvéti</td><td>175</td><td>175.33333333333334</td></tr>",
                            "<tr><td>05110359T</td><td>Szalvéta </td><td>176</td><td>175.66666666666666</td></tr>",
                            "<tr><td>06080410T</td><td>Vízfesték 12db-os kínai</td><td>176</td><td>176</td></tr>",
                            "<tr><td>06050302T</td><td>Olló Tagit 18 cm-es</td><td>176</td><td>177.33333333333334</td></tr>",
                            "<tr><td>06040179T</td><td>Gyurma színes 200 g-os</td><td>180</td><td>178.66666666666666</td></tr>",
                            "<tr><td>06080409T</td><td>Vízfesték 12 színű kerek</td><td>180</td><td>180</td></tr>",
                            "<tr><td>06080193T</td><td>Hegyző fém 2 lyukú</td><td>180</td><td>180</td></tr>",
                            "<tr><td>06080428T</td><td>Ecsetkészlet</td><td>180</td><td>181</td></tr>",
                            "<tr><td>04110362T</td><td>Szalvéta gyűjtőknek</td><td>183</td><td>182.33333333333334</td></tr>",
                            "<tr><td>04110228T</td><td>Képeslap &quot;Nászajándék&quot;</td><td>184</td><td>183.66666666666666</td></tr>",
                            "<tr><td>02080435T</td><td>Mappa bemutató</td><td>184</td><td>184</td></tr>",
                            "<tr><td>06040182T</td><td>Gyűrűskönyv bet. A/4</td><td>184</td><td>184.33333333333334</td></tr>",
                            "<tr><td>03080003T</td><td>Ajándék cs. tasak italos</td><td>185</td><td>184.66666666666666</td></tr>",
                            "<tr><td>02040195T</td><td>Hibajavító ecsetes Aqua</td><td>185</td><td>185</td></tr>",
                            "<tr><td>03080437T</td><td>Ajándék csomagoló tasak</td><td>185</td><td>186</td></tr>",
                            "<tr><td>07080470T</td><td>Golyóstoll háromszög</td><td>188</td><td>187.33333333333334</td></tr>",
                            "<tr><td>07040168T</td><td>Golyóstoll Zebra new hard</td><td>189</td><td>189</td></tr>",
                            "<tr><td>08070482T</td><td>Fizika munkafüzet 14 év.</td><td>190</td><td>190</td></tr>",
                            "<tr><td>06040175T</td><td>Gumis mappa Köbüki</td><td>191</td><td>192</td></tr>",
                            "<tr><td>06080121T</td><td>Füzetborító öntapadó tekercses</td><td>195</td><td>193.66666666666666</td></tr>",
                            "<tr><td>04030243T</td><td>Képkirakó Dirib-darab</td><td>195</td><td>195</td></tr>",
                            "<tr><td>06040172T</td><td>Gumis mappa csomagolt</td><td>195</td><td>196</td></tr>",
                            "<tr><td>08070481T</td><td>Fizika munkafüzet 13 év.</td><td>198</td><td>198.66666666666666</td></tr>",
                            "<tr><td>06080126T</td><td>Füzettartó A/5  </td><td>203</td><td>201.33333333333334</td></tr>",
                            "<tr><td>06040351T</td><td>Regiszteres füzet A5 Hightech</td><td>203</td><td>204</td></tr>",
                            "<tr><td>06040354T</td><td>Sp.Füzet A/4  perforált, lyuk.</td><td>206</td><td>205</td></tr>",
                            "<tr><td>03080007T</td><td>Ajándék cs. tasak mintás nagy</td><td>206</td><td>206</td></tr>",
                            "<tr><td>03080010T</td><td>Ajándék csom. 150x70</td><td>206</td><td>207.33333333333334</td></tr>",
                            "<tr><td>02080434T</td><td>Mappa müa A/4</td><td>210</td><td>208.66666666666666</td></tr>",
                            "<tr><td>06080408T</td><td>Vízfesték 12 db-os </td><td>210</td><td>210.33333333333334</td></tr>",
                            "<tr><td>06040173T</td><td>Gumis mappa fóliázott állatos</td><td>211</td><td>211.66666666666666</td></tr>",
                            "<tr><td>05010027T</td><td>Alufólia 20 m-es</td><td>214</td><td>213</td></tr>",
                            "<tr><td>03080438T</td><td>Ajándék csomagoló tasak lézeres</td><td>214</td><td>214</td></tr>",
                            "<tr><td>02080431T</td><td>Álló irattartó</td><td>214</td><td>214</td></tr>",
                            "<tr><td>08070491T</td><td>Szám.tech. kicsiknek</td><td>214</td><td>215.33333333333334</td></tr>",
                            "<tr><td>07040165T</td><td>Golyóstoll UNI laknock</td><td>218</td><td>216.66666666666666</td></tr>",
                            "<tr><td>06040184T</td><td>Gyűrűskönyv betét A/5</td><td>218</td><td>218.66666666666666</td></tr>",
                            "<tr><td>03080030T</td><td>Ajándék cs. húsvéti 200x70</td><td>220</td><td>222</td></tr>",
                            "<tr><td>06040180T</td><td>Gyurma színes natúr</td><td>228</td><td>225.33333333333334</td></tr>",
                            "<tr><td>06080423T</td><td>Beíró A/5 kockás</td><td>228</td><td>228</td></tr>",
                            "<tr><td>07010142T</td><td>G.toll betét Zebra F-0.7</td><td>228</td><td>228</td></tr>",
                            "<tr><td>07080421T</td><td>Zseléstoll Lizzy Card</td><td>228</td><td>228.66666666666666</td></tr>",
                            "<tr><td>07080163T</td><td>Golyóstoll UNI átlátszó</td><td>230</td><td>229.66666666666666</td></tr>",
                            "<tr><td>07080164T</td><td>Golyóstoll UNI gumis</td><td>231</td><td>232</td></tr>",
                            "<tr><td>07080318T</td><td>Pixiron Penac</td><td>235</td><td>235</td></tr>",
                            "<tr><td>07080160T</td><td>Golyóstoll penac</td><td>239</td><td>238</td></tr>",
                            "<tr><td>G029-FE307</td><td>fiú zokni</td><td>240</td><td>239.66666666666666</td></tr>",
                            "<tr><td>L029-FE307</td><td>lány zokni</td><td>240</td><td>241</td></tr>",
                            "<tr><td>06040248T</td><td>Körző maped</td><td>243</td><td>242</td></tr>",
                            "<tr><td>02040211T</td><td>Iratrendező ESSELTE</td><td>243</td><td>245</td></tr>",
                            "<tr><td>06080407T</td><td>Vízfesték  12 színű nagy</td><td>249</td><td>249.33333333333334</td></tr>",
                            "<tr><td>06040350T</td><td>Regiszteres füzet A4</td><td>256</td><td>254.66666666666666</td></tr>",
                            "<tr><td>02080432T</td><td>Tokos iratrendező</td><td>259</td><td>259.6666666666667</td></tr>",
                            "<tr><td>04080271T</td><td>Mappa PVC villámzáras</td><td>264</td><td>265.3333333333333</td></tr>",
                            "<tr><td>02040196T</td><td>Hibajavító készlet Blanco</td><td>273</td><td>270</td></tr>",
                            "<tr><td>07080467T</td><td>Golyóstoll kétfunkciós ICO</td><td>273</td><td>274</td></tr>",
                            "<tr><td>07080311T</td><td>Pixiron  UNI</td><td>276</td><td>275</td></tr>",
                            "<tr><td>07030107T</td><td>Filctoll, textil Edding 4500</td><td>276</td><td>276.6666666666667</td></tr>",
                            "<tr><td>07040098T</td><td>Filctoll document pen</td><td>278</td><td>277.3333333333333</td></tr>",
                            "<tr><td>02040200T</td><td>Hibajavító Kores mini pen</td><td>278</td><td>280.6666666666667</td></tr>",
                            "<tr><td>02040199T</td><td>Hibajavító roller Pax</td><td>286</td><td>283.3333333333333</td></tr>",
                            "<tr><td>02040402T</td><td>Tűzőgép Boxer </td><td>286</td><td>287.3333333333333</td></tr>",
                            "<tr><td>03080005T</td><td>Ajándék cs. tasak virágos nagy</td><td>290</td><td>289</td></tr>",
                            "<tr><td>08070485T</td><td>Jól felkészültem-e - Fizika</td><td>291</td><td>291.3333333333333</td></tr>",
                            "<tr><td>08070476T</td><td>Anyanyelvi gyakorló 2</td><td>293</td><td>292.3333333333333</td></tr>",
                            "<tr><td>06080337T</td><td>Ragasztó Gyurma</td><td>293</td><td>293.3333333333333</td></tr>",
                            "<tr><td>07080471T</td><td>Golyóstoll levélbontós</td><td>294</td><td>294.6666666666667</td></tr>",
                            "<tr><td>02060034T</td><td>Bélyegzőfesték </td><td>297</td><td>296.6666666666667</td></tr>",
                            "<tr><td>07080319T</td><td>Pixiron Pentel színes</td><td>299</td><td>301.3333333333333</td></tr>",
                            "<tr><td>08070480T</td><td>Fizika 13 éveseknek</td><td>308</td><td>305.6666666666667</td></tr>",
                            "<tr><td>02040293T</td><td>Névjegytartó kicsi</td><td>310</td><td>310.6666666666667</td></tr>",
                            "<tr><td>04050322T</td><td>Plüss sárkány</td><td>314</td><td>313.3333333333333</td></tr>",
                            "<tr><td>04080442T</td><td>Emlékkönyv</td><td>316</td><td>318</td></tr>",
                            "<tr><td>08070483T</td><td>Fizikai feladatok és tévedések</td><td>324</td><td>321.3333333333333</td></tr>",
                            "<tr><td>06080422T</td><td>Füzettartó A/4</td><td>324</td><td>324</td></tr>",
                            "<tr><td>06040394T</td><td>Tolltartó zipzáras</td><td>324</td><td>325.3333333333333</td></tr>",
                            "<tr><td>02020033T</td><td>Beírókönyv A4</td><td>328</td><td>330.3333333333333</td></tr>",
                            "<tr><td>02040401T</td><td>Tűzőgép Boxer 10</td><td>339</td><td>336.3333333333333</td></tr>",
                            "<tr><td>01010001T</td><td>félfamentes rajzlap A4 (10 lap)</td><td>342</td><td>342</td></tr>",
                            "<tr><td>08070484T</td><td>Fogalmazás lépésről lépésre</td><td>345</td><td>346.6666666666667</td></tr>",
                            "<tr><td>08070477T</td><td>Anyanyelvi gyakorló 3</td><td>353</td><td>351.3333333333333</td></tr>",
                            "<tr><td>04050358T</td><td>Strandlabda </td><td>356</td><td>356.3333333333333</td></tr>",
                            "<tr><td>04080272T</td><td>Mappa PVC villámzáras  képes</td><td>360</td><td>358.6666666666667</td></tr>",
                            "<tr><td>07040389T</td><td>Tintapatron 30 db-os kék</td><td>360</td><td>361.3333333333333</td></tr>",
                            "<tr><td>07080469T</td><td>Golyóstoll UNIBALL 07</td><td>364</td><td>371.3333333333333</td></tr>",
                            "<tr><td>07080151T</td><td>Golyóstoll + ceruza Twister 2in1</td><td>390</td><td>381.3333333333333</td></tr>",
                            "<tr><td>G023-FE301</td><td>fiú alsó</td><td>390</td><td>390</td></tr>",
                            "<tr><td>L023-FE301</td><td>lány alsó</td><td>390</td><td>390</td></tr>",
                            "<tr><td>07040100T</td><td>Filctoll Marvy alkoholos</td><td>390</td><td>393.6666666666667</td></tr>",
                            "<tr><td>07080154T</td><td>Golyóstoll INOXCROM</td><td>401</td><td>398</td></tr>",
                            "<tr><td>08070486T</td><td>Matematika gyakorló 2</td><td>403</td><td>402.3333333333333</td></tr>",
                            "<tr><td>08070487T</td><td>Matematika gyakorló 3</td><td>403</td><td>403</td></tr>",
                            "<tr><td>08070488T</td><td>Matematika gyakorló 4</td><td>403</td><td>403.6666666666667</td></tr>",
                            "<tr><td>02040404T</td><td>Tűzőgép EAGLE</td><td>405</td><td>406</td></tr>",
                            "<tr><td>06040396T</td><td>Tolltartó Garfield</td><td>410</td><td>408.6666666666667</td></tr>",
                            "<tr><td>06040398T</td><td>Tolltartó hengeres </td><td>411</td><td>410.6666666666667</td></tr>",
                            "<tr><td>06080125T</td><td>Füzettartó A/5 vastag</td><td>411</td><td>416</td></tr>",
                            "<tr><td>06010343T</td><td>Ragasztószalag 19 mm-es SCOTCH+ tépő</td><td>426</td><td>423.6666666666667</td></tr>",
                            "<tr><td>07040099T</td><td>Filctoll Edding 750</td><td>434</td><td>431.3333333333333</td></tr>",
                            "<tr><td>07040257T</td><td>Lakk filc Edding 750</td><td>434</td><td>435.3333333333333</td></tr>",
                            "<tr><td>02080452T</td><td>Tűzőgép mini</td><td>438</td><td>437.3333333333333</td></tr>",
                            "<tr><td>08070475T</td><td>A föld amelyen élünk - munkafüzet</td><td>440</td><td>439.3333333333333</td></tr>",
                            "<tr><td>08070494T</td><td>Érettségi felv. fel. Fizika</td><td>440</td><td>440</td></tr>",
                            "<tr><td>08070495T</td><td>Érettségi felv. fel. Biológia</td><td>440</td><td>443</td></tr>",
                            "<tr><td>04080443T</td><td>Emlékkönyv lakatos</td><td>449</td><td>448</td></tr>",
                            "<tr><td>07040166T</td><td>Golyóstoll Zebra 301</td><td>455</td><td>456</td></tr>",
                            "<tr><td>02020444T</td><td>Határidő napló A/6</td><td>464</td><td>462.3333333333333</td></tr>",
                            "<tr><td>07080316T</td><td>Pixiron KOH-I-NOOR</td><td>468</td><td>475</td></tr>",
                            "<tr><td>07050462T</td><td>Töltőtoll tinta </td><td>493</td><td>489.6666666666667</td></tr>",
                            "<tr><td>06080124T</td><td>Füzettartó A/4 keménytáblás</td><td>508</td><td>503</td></tr>",
                            "<tr><td>06010366T</td><td>Számológép Roxin</td><td>508</td><td>509</td></tr>",
                            "<tr><td>06040400T</td><td>Tornazsák</td><td>511</td><td>515</td></tr>",
                            "<tr><td>04040090T</td><td>Emlékkönyv</td><td>526</td><td>521</td></tr>",
                            "<tr><td>02080453T</td><td>Lyukasztó EAGLE</td><td>526</td><td>534.3333333333334</td></tr>",
                            "<tr><td>06080123T</td><td>Füzettartó A/4 keménytáblás</td><td>551</td><td>552.6666666666666</td></tr>",
                            "<tr><td>06040185T</td><td>Gyűrűskönyv</td><td>581</td><td>585.6666666666666</td></tr>",
                            "<tr><td>02080455T</td><td>Festékpatron BCI-3BK</td><td>625</td><td>613</td></tr>",
                            "<tr><td>06040382T</td><td>Táblafilc</td><td>633</td><td>636</td></tr>",
                            "<tr><td>02060039T</td><td>Bélyegző párna</td><td>650</td><td>646</td></tr>",
                            "<tr><td>06040397T</td><td>Tolltartó asztali</td><td>655</td><td>653.3333333333334</td></tr>",
                            "<tr><td>07040167T</td><td>Golyóstoll Zebra mini</td><td>655</td><td>661.3333333333334</td></tr>",
                            "<tr><td>08070479T</td><td>Fizika</td><td>674</td><td>671</td></tr>",
                            "<tr><td>07040135T</td><td>G.toll betét Parker </td><td>684</td><td>681.3333333333334</td></tr>",
                            "<tr><td>01100505T</td><td>Fehér másoló A/4</td><td>686</td><td>686.6666666666666</td></tr>",
                            "<tr><td>N019-FE301</td><td>női alsó</td><td>690</td><td>689</td></tr>",
                            "<tr><td>08070490T</td><td>Szövegszerkesztés</td><td>691</td><td>693.3333333333334</td></tr>",
                            "<tr><td>06040186T</td><td>Gyűrűskönyv színes</td><td>699</td><td>703.3333333333334</td></tr>",
                            "<tr><td>08070493T</td><td>Érettségi felv. fel. Matematika</td><td>720</td><td>715.6666666666666</td></tr>",
                            "<tr><td>06040395T</td><td>Tolltartó 2 zipzáros töltött</td><td>728</td><td>725.3333333333334</td></tr>",
                            "<tr><td>06040392T</td><td>Tolltartó 1 zipzáros</td><td>728</td><td>728</td></tr>",
                            "<tr><td>01100095T</td><td>Fénymásoló papír GetCopy</td><td>728</td><td>728</td></tr>",
                            "<tr><td>01100096T</td><td>Fénymásoló papír Qconnect</td><td>728</td><td>728</td></tr>",
                            "<tr><td>04020445T</td><td>Határidő napló 2010-s</td><td>728</td><td>730.3333333333334</td></tr>",
                            "<tr><td>08070492T</td><td>Informatika</td><td>735</td><td>742.6666666666666</td></tr>",
                            "<tr><td>06040393T</td><td>Tolltartó 2 részes NG.</td><td>765</td><td>755</td></tr>",
                            "<tr><td>02080454T</td><td>Lyukasztó BOXER</td><td>765</td><td>767.6666666666666</td></tr>",
                            "<tr><td>07080158T</td><td>Golyóstoll Parker tokban</td><td>773</td><td>772.6666666666666</td></tr>",
                            "<tr><td>02060038T</td><td>Bélyegző IDEAL 50</td><td>780</td><td>779.3333333333334</td></tr>",
                            "<tr><td>08070478T</td><td>Összefoglaló feladatgyüjtemény számtech.</td><td>785</td><td>786.3333333333334</td></tr>",
                            "<tr><td>02040194T</td><td>Hibajav.roll.Pritt 4,2mm</td><td>794</td><td>808</td></tr>",
                            "<tr><td>01100094T</td><td>Fénymásoló papír DataCopy</td><td>845</td><td>835.6666666666666</td></tr>",
                            "<tr><td>08070489T</td><td>RAMba zárt világ</td><td>868</td><td>862.6666666666666</td></tr>",
                            "<tr><td>06080188T</td><td>Hegyező gép</td><td>875</td><td>911</td></tr>",
                            "<tr><td>G038-FE316</td><td>fiú harisnya</td><td>990</td><td>951.6666666666666</td></tr>",
                            "<tr><td>L033-FE311</td><td>lány harisnya</td><td>990</td><td>999.6666666666666</td></tr>",
                            "<tr><td>07080152T</td><td>Golyóstoll 3 funkciós </td><td>1019</td><td>1032.6666666666667</td></tr>",
                            "<tr><td>08070472T</td><td>A föld amelyen élünk - Európa földrajza</td><td>1089</td><td>1065.6666666666667</td></tr>",
                            "<tr><td>08070473T</td><td>A föld amelyen élünk - Távoli földrészek</td><td>1089</td><td>1089</td></tr>",
                            "<tr><td>08070474T</td><td>A föld amelyen élünk - Hazánk földrajza</td><td>1089</td><td>1108.3333333333333</td></tr>",
                            "<tr><td>02060448T</td><td>Bélyegző RP 18-47</td><td>1147</td><td>1136.3333333333333</td></tr>",
                            "<tr><td>06040446T</td><td>Számológép tudományos</td><td>1173</td><td>1203.3333333333333</td></tr>",
                            "<tr><td>G019-NA207</td><td>gyermek pamut nadrág (fiú)</td><td>1290</td><td>1251</td></tr>",
                            "<tr><td>L019-NA207</td><td>gyermek pamut nadrág (lány)</td><td>1290</td><td>1310.3333333333333</td></tr>",
                            "<tr><td>02040403T</td><td>Tűzőgép SAX 239</td><td>1351</td><td>1339.3333333333333</td></tr>",
                            "<tr><td>02060447T</td><td>Bélyegző pocket</td><td>1377</td><td>1405.3333333333333</td></tr>",
                            "<tr><td>01100504T</td><td>Fehér másoló A/3</td><td>1488</td><td>1455</td></tr>",
                            "<tr><td>01100496T</td><td>Színes másoló a/4 80g</td><td>1500</td><td>1584.3333333333333</td></tr>",
                            "<tr><td>04080270T</td><td>Mappa bőr A5</td><td>1765</td><td>1751.6666666666667</td></tr>",
                            "<tr><td>U001-KI501</td><td>sál</td><td>1990</td><td>1951.6666666666667</td></tr>",
                            "<tr><td>02040002T</td><td>irodai tűzőgép</td><td>2100</td><td>2663.3333333333335</td></tr>",
                            "<tr><td>L048-PO218</td><td>gyermek póló (lány)</td><td>3900</td><td>3300</td></tr>",
                            "<tr><td>G048-PO218</td><td>gyermek póló (fiú)</td><td>3900</td><td>4125</td></tr>",
                            "<tr><td>01080512T</td><td>Öntapadó A/4</td><td>4575</td><td>4488.333333333333</td></tr>",
                            "<tr><td>G013-NA201</td><td>gyermek farmer nadrág (fiú)</td><td>4990</td><td>4851.666666666667</td></tr>",
                            "<tr><td>L013-NA201</td><td>gyermek farmer nadrág (lány)</td><td>4990</td><td>5490</td></tr>",
                            "<tr><td>F021-IN215</td><td>férfi ing</td><td>6490</td><td>6126.666666666667</td></tr>",
                            "<tr><td>L064-CI401</td><td>gyermek szandál (lány)</td><td>6900</td><td>6763.333333333333</td></tr>",
                            "<tr><td>G064-CI401</td><td>gyermek szandál (fiú)</td><td>6900</td><td>7230</td></tr>",
                            "<tr><td>F007-NA201</td><td>férfi farmer nadrág</td><td>7890</td><td>7563.333333333333</td></tr>",
                            "<tr><td>G073-CI410</td><td>gyermek cipő (fiú)</td><td>7900</td><td>7896.666666666667</td></tr>",
                            "<tr><td>L073-CI410</td><td>gyermek cipő (lány)</td><td>7900</td><td>7933.333333333333</td></tr>",
                            "<tr><td>L082-CI419</td><td>gyermek csizma (lány)</td><td>8000</td><td>7966.666666666667</td></tr>",
                            "<tr><td>G082-CI419</td><td>gyermek csizma (fiú)</td><td>8000</td><td>8096.666666666667</td></tr>",
                            "<tr><td>N008-NA201</td><td>női farmer nadrág</td><td>8290</td><td>8396.666666666666</td></tr>",
                            "<tr><td>L001-KB101</td><td>gyermek kabát (lány)</td><td>8900</td><td>8696.666666666666</td></tr>",
                            "<tr><td>G001-KB101</td><td>gyermek kabát (fiú)</td><td>8900</td><td>9900</td></tr>",
                            "<tr><td>F013-NA207</td><td>férfi szövet nadrág</td><td>11900</td><td>11683.333333333334</td></tr>",
                            "<tr><td>02080511T</td><td>Oki toner C</td><td>14250</td><td>14350</td></tr>",
                            "<tr><td>G041-AL211</td><td>fiú ünneplős ruha</td><td>16900</td><td>16016.666666666666</td></tr>",
                            "<tr><td>L041-AL211</td><td>lány ünneplős ruha</td><td>16900</td><td>18600</td></tr>",
                            "<tr><td>F001-KB101</td><td>férfi szövet kabát</td><td>22000</td><td>20966.666666666668</td></tr>",
                            "<tr><td>N001-KB101</td><td>női szövet kabát</td><td>24000</td><td>26000</td></tr>",
                            "<tr><td>N029-AL212</td><td>női koktélruha</td><td>32000</td><td>31666.666666666668</td></tr>",
                            "<tr><td>N035-AL218</td><td>kosztüm (rövid)</td><td>39000</td><td>39000</td></tr>",
                            "<tr><td>N039-AL222</td><td>kosztüm (hosszú)</td><td>46000</td><td>42500</td></tr>",
                            "</table>"
                        ]
                    }
                }
            ],
            "execution_count": 12
        },
        {
            "cell_type": "markdown",
            "source": [
                "13\\. Készítsünk listát, amely a rendelések sorszámát és a rendelés értékét tartalmazza.  \n",
                "A listát egészítsük ki egy új oszloppal, amely minden rendelés esetén addigi rendelések értékének összegét tartalmazza  \n",
                "(az aktuálisat is beleértve)!  \n",
                "A listát rendezzük sorszám szerint növekvő sorrendbe. A lista ne tartalmazzon duplikált sorokat!  \n",
                "Nevezzük el az oszlopokat értelemszerűen!"
            ],
            "metadata": {
                "azdata_cell_guid": "526e07ad-8234-46b8-bdba-af5474604839"
            },
            "attachments": {}
        },
        {
            "cell_type": "code",
            "source": [
                ""
            ],
            "metadata": {
                "azdata_cell_guid": "596c853d-7ae5-4280-95e2-973c81aaea16"
            },
            "outputs": [],
            "execution_count": null
        },
        {
            "cell_type": "markdown",
            "source": [
                "14\\. Készítsünk listát a termékek kódjáról, nevéről, kategória azonosítójáról, raktár azonosítójáról és listaáráról, valamint  \n",
                "a termék adott szempontok szerinti rangsorokban elfogalt helyezéseiről.  \n",
                "(Szempontonként külön oszlopban, a helyezéseknél növekvő sorrendet feltételezve).  \n",
                "A szempontok a következők legyenek: listaár, kategória szerinti listaár, és raktárkód szerinti listaár.  \n",
                "Az oszlopokat nevezzük el értelemszerűen.  \n",
                "A helyezések egyenlőség esetén \"sűrűn\" kövessék egymást.  \n",
                "A lista legyen rendezett kategória azonosító, azon belül listaár szerint!"
            ],
            "metadata": {
                "azdata_cell_guid": "d153dce8-e47b-41b2-8fd9-e13a6313771d"
            },
            "attachments": {}
        },
        {
            "cell_type": "code",
            "source": [
                ""
            ],
            "metadata": {
                "azdata_cell_guid": "7c673b39-c0bd-49a2-a737-8bec0628e2d8"
            },
            "outputs": [],
            "execution_count": null
        },
        {
            "cell_type": "markdown",
            "source": [
                "15\\. Készítsünk listát a rendelési tételekről, amely minden sor esetén göngyölítve tartalmazza az ügyfél adott rendelési tételig  \n",
                "meglévő rendelési tételeinek összértékét!  \n",
                "Az új oszlop neve legyen Eddigi rendelési tételek összértéke!  \n",
                "Az ügyfél neve is jelenjen meg!"
            ],
            "metadata": {
                "azdata_cell_guid": "5ddc59be-70cf-4c6d-a8be-21b2df1f4e31"
            },
            "attachments": {}
        },
        {
            "cell_type": "code",
            "source": [
                ""
            ],
            "metadata": {
                "azdata_cell_guid": "f1fe1994-34cd-444b-b078-1313521bbcc1"
            },
            "outputs": [],
            "execution_count": null
        }
    ]
}