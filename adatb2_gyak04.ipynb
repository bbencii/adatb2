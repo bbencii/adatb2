{
    "metadata": {
        "kernelspec": {
            "name": "SQL",
            "display_name": "SQL",
            "language": "sql"
        },
        "language_info": {
            "name": "sql",
            "version": ""
        },
        "extensions": {
            "azuredatastudio": {
                "version": 1,
                "views": []
            }
        }
    },
    "nbformat_minor": 2,
    "nbformat": 4,
    "cells": [
        {
            "cell_type": "markdown",
            "source": [
                "<span style=\"color: rgb(18, 38, 44); font-family: Arial; font-size: 15px; background-color: rgb(239, 249, 252);\">1. Számítsa ki, hogy átlagosan hány napig tartottak a foglalások&nbsp;</span> <span style=\"box-sizing: border-box; color: rgb(18, 38, 44); font-family: Arial; font-size: 0.9375rem; background-color: rgb(239, 249, 252);\">szállásonként, illetve ügyfelenként (külön-külön)!<br style=\"box-sizing: border-box;\">&nbsp; &nbsp; A szállás,&nbsp;</span> <span style=\"box-sizing: border-box; color: rgb(18, 38, 44); font-family: Arial; font-size: 0.9375rem; background-color: rgb(239, 249, 252);\">illetve az ügyfél esetén elég az azonosítójukat megadni.&nbsp;</span>"
            ],
            "metadata": {
                "azdata_cell_guid": "e063e1b1-2e89-4dc2-b826-6ce5c318470c"
            },
            "attachments": {}
        },
        {
            "cell_type": "code",
            "source": [
                "select sz.szallas_fk, f.ugyfel_fk, avg(datediff(day,mettol,meddig)) \r\n",
                "from Foglalas f inner join Szoba sz on f.szoba_fk = sz.SZOBA_ID\r\n",
                "group by GROUPING SETS(sz.szallas_fk, f.ugyfel_fk)"
            ],
            "metadata": {
                "azdata_cell_guid": "15dd0d73-acb6-4695-82a9-ad58d47a40b9"
            },
            "outputs": [
                {
                    "output_type": "display_data",
                    "data": {
                        "text/html": "(207 rows affected)"
                    },
                    "metadata": {}
                },
                {
                    "output_type": "display_data",
                    "data": {
                        "text/html": "Total execution time: 00:00:00.058"
                    },
                    "metadata": {}
                },
                {
                    "output_type": "execute_result",
                    "metadata": {},
                    "execution_count": 13,
                    "data": {
                        "application/vnd.dataresource+json": {
                            "schema": {
                                "fields": [
                                    {
                                        "name": "szallas_fk"
                                    },
                                    {
                                        "name": "ugyfel_fk"
                                    },
                                    {
                                        "name": "(No column name)"
                                    }
                                ]
                            },
                            "data": [
                                {
                                    "0": "NULL",
                                    "1": "adam1",
                                    "2": "5"
                                },
                                {
                                    "0": "NULL",
                                    "1": "adam3",
                                    "2": "4"
                                },
                                {
                                    "0": "NULL",
                                    "1": "adam4",
                                    "2": "4"
                                },
                                {
                                    "0": "NULL",
                                    "1": "agnes",
                                    "2": "5"
                                },
                                {
                                    "0": "NULL",
                                    "1": "agnes3",
                                    "2": "4"
                                },
                                {
                                    "0": "NULL",
                                    "1": "AGNESH",
                                    "2": "4"
                                },
                                {
                                    "0": "NULL",
                                    "1": "AGNESK",
                                    "2": "2"
                                },
                                {
                                    "0": "NULL",
                                    "1": "akos",
                                    "2": "4"
                                },
                                {
                                    "0": "NULL",
                                    "1": "aladar",
                                    "2": "4"
                                },
                                {
                                    "0": "NULL",
                                    "1": "alexandra",
                                    "2": "4"
                                },
                                {
                                    "0": "NULL",
                                    "1": "andi",
                                    "2": "3"
                                },
                                {
                                    "0": "NULL",
                                    "1": "andras2",
                                    "2": "3"
                                },
                                {
                                    "0": "NULL",
                                    "1": "andras21",
                                    "2": "3"
                                },
                                {
                                    "0": "NULL",
                                    "1": "andras3",
                                    "2": "3"
                                },
                                {
                                    "0": "NULL",
                                    "1": "andras4",
                                    "2": "2"
                                },
                                {
                                    "0": "NULL",
                                    "1": "andras41",
                                    "2": "4"
                                },
                                {
                                    "0": "NULL",
                                    "1": "ANDRASE",
                                    "2": "4"
                                },
                                {
                                    "0": "NULL",
                                    "1": "ANDRASN",
                                    "2": "6"
                                },
                                {
                                    "0": "NULL",
                                    "1": "andrea",
                                    "2": "3"
                                },
                                {
                                    "0": "NULL",
                                    "1": "andrea3",
                                    "2": "2"
                                },
                                {
                                    "0": "NULL",
                                    "1": "andrea4",
                                    "2": "5"
                                },
                                {
                                    "0": "NULL",
                                    "1": "ANDREAT",
                                    "2": "3"
                                },
                                {
                                    "0": "NULL",
                                    "1": "anett3",
                                    "2": "5"
                                },
                                {
                                    "0": "NULL",
                                    "1": "aniko",
                                    "2": "2"
                                },
                                {
                                    "0": "NULL",
                                    "1": "aniko4",
                                    "2": "3"
                                },
                                {
                                    "0": "NULL",
                                    "1": "ANIKOS",
                                    "2": "5"
                                },
                                {
                                    "0": "NULL",
                                    "1": "anita",
                                    "2": "3"
                                },
                                {
                                    "0": "NULL",
                                    "1": "annamaria1",
                                    "2": "1"
                                },
                                {
                                    "0": "NULL",
                                    "1": "ANNAMARIAR",
                                    "2": "2"
                                },
                                {
                                    "0": "NULL",
                                    "1": "aron2",
                                    "2": "2"
                                },
                                {
                                    "0": "NULL",
                                    "1": "ARONK",
                                    "2": "4"
                                },
                                {
                                    "0": "NULL",
                                    "1": "arpad2",
                                    "2": "2"
                                },
                                {
                                    "0": "NULL",
                                    "1": "ARPADH",
                                    "2": "4"
                                },
                                {
                                    "0": "NULL",
                                    "1": "ARPADM",
                                    "2": "3"
                                },
                                {
                                    "0": "NULL",
                                    "1": "attila",
                                    "2": "5"
                                },
                                {
                                    "0": "NULL",
                                    "1": "attila1",
                                    "2": "4"
                                },
                                {
                                    "0": "NULL",
                                    "1": "attila4",
                                    "2": "4"
                                },
                                {
                                    "0": "NULL",
                                    "1": "ATTILAO",
                                    "2": "4"
                                },
                                {
                                    "0": "NULL",
                                    "1": "balazs1",
                                    "2": "3"
                                },
                                {
                                    "0": "NULL",
                                    "1": "balazs2",
                                    "2": "4"
                                },
                                {
                                    "0": "NULL",
                                    "1": "balazs3",
                                    "2": "3"
                                },
                                {
                                    "0": "NULL",
                                    "1": "balint",
                                    "2": "4"
                                },
                                {
                                    "0": "NULL",
                                    "1": "balint1",
                                    "2": "3"
                                },
                                {
                                    "0": "NULL",
                                    "1": "balint2",
                                    "2": "3"
                                },
                                {
                                    "0": "NULL",
                                    "1": "balu",
                                    "2": "2"
                                },
                                {
                                    "0": "NULL",
                                    "1": "beata4",
                                    "2": "2"
                                },
                                {
                                    "0": "NULL",
                                    "1": "BEATRIXK",
                                    "2": "3"
                                },
                                {
                                    "0": "NULL",
                                    "1": "BEATRIXS",
                                    "2": "3"
                                },
                                {
                                    "0": "NULL",
                                    "1": "BELAF",
                                    "2": "3"
                                },
                                {
                                    "0": "NULL",
                                    "1": "bence",
                                    "2": "3"
                                },
                                {
                                    "0": "NULL",
                                    "1": "BENCEB",
                                    "2": "4"
                                },
                                {
                                    "0": "NULL",
                                    "1": "bernadett1",
                                    "2": "4"
                                },
                                {
                                    "0": "NULL",
                                    "1": "bernadett2",
                                    "2": "4"
                                },
                                {
                                    "0": "NULL",
                                    "1": "BERNADETTO",
                                    "2": "4"
                                },
                                {
                                    "0": "NULL",
                                    "1": "bertalan",
                                    "2": "4"
                                },
                                {
                                    "0": "NULL",
                                    "1": "brigitta",
                                    "2": "5"
                                },
                                {
                                    "0": "NULL",
                                    "1": "brigitta3",
                                    "2": "5"
                                },
                                {
                                    "0": "NULL",
                                    "1": "csongor3",
                                    "2": "4"
                                },
                                {
                                    "0": "NULL",
                                    "1": "dani",
                                    "2": "3"
                                },
                                {
                                    "0": "NULL",
                                    "1": "daniel",
                                    "2": "2"
                                },
                                {
                                    "0": "NULL",
                                    "1": "daniel1",
                                    "2": "3"
                                },
                                {
                                    "0": "NULL",
                                    "1": "david",
                                    "2": "4"
                                },
                                {
                                    "0": "NULL",
                                    "1": "david1",
                                    "2": "2"
                                },
                                {
                                    "0": "NULL",
                                    "1": "david4",
                                    "2": "3"
                                },
                                {
                                    "0": "NULL",
                                    "1": "debora",
                                    "2": "3"
                                },
                                {
                                    "0": "NULL",
                                    "1": "denes",
                                    "2": "5"
                                },
                                {
                                    "0": "NULL",
                                    "1": "dora3",
                                    "2": "4"
                                },
                                {
                                    "0": "NULL",
                                    "1": "edit",
                                    "2": "4"
                                },
                                {
                                    "0": "NULL",
                                    "1": "emese",
                                    "2": "2"
                                },
                                {
                                    "0": "NULL",
                                    "1": "eszter",
                                    "2": "5"
                                },
                                {
                                    "0": "NULL",
                                    "1": "eszter2",
                                    "2": "8"
                                },
                                {
                                    "0": "NULL",
                                    "1": "eszter4",
                                    "2": "4"
                                },
                                {
                                    "0": "NULL",
                                    "1": "ESZTERE",
                                    "2": "4"
                                },
                                {
                                    "0": "NULL",
                                    "1": "eva",
                                    "2": "2"
                                },
                                {
                                    "0": "NULL",
                                    "1": "eva2",
                                    "2": "4"
                                },
                                {
                                    "0": "NULL",
                                    "1": "EVAV",
                                    "2": "5"
                                },
                                {
                                    "0": "NULL",
                                    "1": "ferenc1",
                                    "2": "2"
                                },
                                {
                                    "0": "NULL",
                                    "1": "fruzsina4",
                                    "2": "3"
                                },
                                {
                                    "0": "NULL",
                                    "1": "gabor1",
                                    "2": "2"
                                },
                                {
                                    "0": "NULL",
                                    "1": "gabor4",
                                    "2": "5"
                                },
                                {
                                    "0": "NULL",
                                    "1": "gabriella1",
                                    "2": "4"
                                },
                                {
                                    "0": "NULL",
                                    "1": "gabriella10",
                                    "2": "5"
                                },
                                {
                                    "0": "NULL",
                                    "1": "georgij",
                                    "2": "5"
                                },
                                {
                                    "0": "NULL",
                                    "1": "gusztav",
                                    "2": "5"
                                },
                                {
                                    "0": "NULL",
                                    "1": "GYONGYIK",
                                    "2": "5"
                                },
                                {
                                    "0": "NULL",
                                    "1": "GYORGYO",
                                    "2": "3"
                                },
                                {
                                    "0": "NULL",
                                    "1": "henrik3",
                                    "2": "3"
                                },
                                {
                                    "0": "NULL",
                                    "1": "IBOLYAA",
                                    "2": "4"
                                },
                                {
                                    "0": "NULL",
                                    "1": "ilona3",
                                    "2": "4"
                                },
                                {
                                    "0": "NULL",
                                    "1": "imre",
                                    "2": "1"
                                },
                                {
                                    "0": "NULL",
                                    "1": "imre1",
                                    "2": "2"
                                },
                                {
                                    "0": "NULL",
                                    "1": "istvan",
                                    "2": "2"
                                },
                                {
                                    "0": "NULL",
                                    "1": "istvan1",
                                    "2": "4"
                                },
                                {
                                    "0": "NULL",
                                    "1": "ISTVANV",
                                    "2": "2"
                                },
                                {
                                    "0": "NULL",
                                    "1": "janos3",
                                    "2": "2"
                                },
                                {
                                    "0": "NULL",
                                    "1": "JANOSG",
                                    "2": "5"
                                },
                                {
                                    "0": "NULL",
                                    "1": "JANOSP",
                                    "2": "4"
                                },
                                {
                                    "0": "NULL",
                                    "1": "jozsef",
                                    "2": "3"
                                },
                                {
                                    "0": "NULL",
                                    "1": "jozsef2",
                                    "2": "5"
                                },
                                {
                                    "0": "NULL",
                                    "1": "JOZSEFG",
                                    "2": "4"
                                },
                                {
                                    "0": "NULL",
                                    "1": "JUDITH",
                                    "2": "4"
                                },
                                {
                                    "0": "NULL",
                                    "1": "julia",
                                    "2": "4"
                                },
                                {
                                    "0": "NULL",
                                    "1": "julia4",
                                    "2": "6"
                                },
                                {
                                    "0": "NULL",
                                    "1": "julianna4",
                                    "2": "4"
                                },
                                {
                                    "0": "NULL",
                                    "1": "kata",
                                    "2": "3"
                                },
                                {
                                    "0": "NULL",
                                    "1": "katalin",
                                    "2": "4"
                                },
                                {
                                    "0": "NULL",
                                    "1": "katalin4",
                                    "2": "4"
                                },
                                {
                                    "0": "NULL",
                                    "1": "kati",
                                    "2": "4"
                                },
                                {
                                    "0": "NULL",
                                    "1": "katka",
                                    "2": "3"
                                },
                                {
                                    "0": "NULL",
                                    "1": "klaudia2",
                                    "2": "2"
                                },
                                {
                                    "0": "NULL",
                                    "1": "kornel4",
                                    "2": "4"
                                },
                                {
                                    "0": "NULL",
                                    "1": "kristof4",
                                    "2": "5"
                                },
                                {
                                    "0": "NULL",
                                    "1": "kriszti",
                                    "2": "3"
                                },
                                {
                                    "0": "NULL",
                                    "1": "krisztian4",
                                    "2": "4"
                                },
                                {
                                    "0": "NULL",
                                    "1": "KRISZTIANM",
                                    "2": "5"
                                },
                                {
                                    "0": "NULL",
                                    "1": "krisztina",
                                    "2": "4"
                                },
                                {
                                    "0": "NULL",
                                    "1": "krisztina1",
                                    "2": "3"
                                },
                                {
                                    "0": "NULL",
                                    "1": "KRISZTINAG",
                                    "2": "4"
                                },
                                {
                                    "0": "NULL",
                                    "1": "lajos",
                                    "2": "2"
                                },
                                {
                                    "0": "NULL",
                                    "1": "lala",
                                    "2": "2"
                                },
                                {
                                    "0": "NULL",
                                    "1": "laszlo1",
                                    "2": "7"
                                },
                                {
                                    "0": "NULL",
                                    "1": "laszlo2",
                                    "2": "2"
                                },
                                {
                                    "0": "NULL",
                                    "1": "LASZLOA",
                                    "2": "4"
                                },
                                {
                                    "0": "NULL",
                                    "1": "LASZLON",
                                    "2": "4"
                                },
                                {
                                    "0": "NULL",
                                    "1": "maria1",
                                    "2": "4"
                                },
                                {
                                    "0": "NULL",
                                    "1": "mark",
                                    "2": "5"
                                },
                                {
                                    "0": "NULL",
                                    "1": "MARKH",
                                    "2": "5"
                                },
                                {
                                    "0": "NULL",
                                    "1": "marton",
                                    "2": "4"
                                },
                                {
                                    "0": "NULL",
                                    "1": "MATEK",
                                    "2": "4"
                                },
                                {
                                    "0": "NULL",
                                    "1": "matyas2",
                                    "2": "3"
                                },
                                {
                                    "0": "NULL",
                                    "1": "MATYASS",
                                    "2": "5"
                                },
                                {
                                    "0": "NULL",
                                    "1": "MIHALYJ",
                                    "2": "4"
                                },
                                {
                                    "0": "NULL",
                                    "1": "miklos2",
                                    "2": "1"
                                },
                                {
                                    "0": "NULL",
                                    "1": "MIKLOSB",
                                    "2": "4"
                                },
                                {
                                    "0": "NULL",
                                    "1": "MONIKAM",
                                    "2": "4"
                                },
                                {
                                    "0": "NULL",
                                    "1": "NANDORF",
                                    "2": "2"
                                },
                                {
                                    "0": "NULL",
                                    "1": "nikolett3",
                                    "2": "5"
                                },
                                {
                                    "0": "NULL",
                                    "1": "nikoletta4",
                                    "2": "4"
                                },
                                {
                                    "0": "NULL",
                                    "1": "NIKOLETTAT",
                                    "2": "2"
                                },
                                {
                                    "0": "NULL",
                                    "1": "norbert",
                                    "2": "4"
                                },
                                {
                                    "0": "NULL",
                                    "1": "norbert2",
                                    "2": "4"
                                },
                                {
                                    "0": "NULL",
                                    "1": "norbert4",
                                    "2": "3"
                                },
                                {
                                    "0": "NULL",
                                    "1": "norbert5",
                                    "2": "2"
                                },
                                {
                                    "0": "NULL",
                                    "1": "pal",
                                    "2": "4"
                                },
                                {
                                    "0": "NULL",
                                    "1": "peter1",
                                    "2": "4"
                                },
                                {
                                    "0": "NULL",
                                    "1": "peter2",
                                    "2": "4"
                                },
                                {
                                    "0": "NULL",
                                    "1": "peter3",
                                    "2": "4"
                                },
                                {
                                    "0": "NULL",
                                    "1": "peter4",
                                    "2": "4"
                                },
                                {
                                    "0": "NULL",
                                    "1": "PETERB",
                                    "2": "3"
                                },
                                {
                                    "0": "NULL",
                                    "1": "polla",
                                    "2": "4"
                                },
                                {
                                    "0": "NULL",
                                    "1": "rajmond4",
                                    "2": "2"
                                },
                                {
                                    "0": "NULL",
                                    "1": "reka4",
                                    "2": "4"
                                },
                                {
                                    "0": "NULL",
                                    "1": "RENATAK",
                                    "2": "3"
                                },
                                {
                                    "0": "NULL",
                                    "1": "RENATAS",
                                    "2": "5"
                                },
                                {
                                    "0": "NULL",
                                    "1": "robert2",
                                    "2": "5"
                                },
                                {
                                    "0": "NULL",
                                    "1": "ROBERTI",
                                    "2": "4"
                                },
                                {
                                    "0": "NULL",
                                    "1": "ROBERTP",
                                    "2": "4"
                                },
                                {
                                    "0": "NULL",
                                    "1": "roland",
                                    "2": "2"
                                },
                                {
                                    "0": "NULL",
                                    "1": "roland1",
                                    "2": "4"
                                },
                                {
                                    "0": "NULL",
                                    "1": "roza2",
                                    "2": "4"
                                },
                                {
                                    "0": "NULL",
                                    "1": "sandor",
                                    "2": "5"
                                },
                                {
                                    "0": "NULL",
                                    "1": "sandor3",
                                    "2": "4"
                                },
                                {
                                    "0": "NULL",
                                    "1": "sandor4",
                                    "2": "4"
                                },
                                {
                                    "0": "NULL",
                                    "1": "sara",
                                    "2": "3"
                                },
                                {
                                    "0": "NULL",
                                    "1": "SEBASTIANF",
                                    "2": "4"
                                },
                                {
                                    "0": "NULL",
                                    "1": "sebestyen",
                                    "2": "5"
                                },
                                {
                                    "0": "NULL",
                                    "1": "szabolcs",
                                    "2": "2"
                                },
                                {
                                    "0": "NULL",
                                    "1": "SZABOLCSM",
                                    "2": "2"
                                },
                                {
                                    "0": "NULL",
                                    "1": "SZILARDS",
                                    "2": "5"
                                },
                                {
                                    "0": "NULL",
                                    "1": "szilvia1",
                                    "2": "4"
                                },
                                {
                                    "0": "NULL",
                                    "1": "tamara2",
                                    "2": "3"
                                },
                                {
                                    "0": "NULL",
                                    "1": "tamas",
                                    "2": "5"
                                },
                                {
                                    "0": "NULL",
                                    "1": "TAMASF",
                                    "2": "4"
                                },
                                {
                                    "0": "NULL",
                                    "1": "tibor",
                                    "2": "4"
                                },
                                {
                                    "0": "NULL",
                                    "1": "tibor2",
                                    "2": "5"
                                },
                                {
                                    "0": "NULL",
                                    "1": "tihamer",
                                    "2": "4"
                                },
                                {
                                    "0": "NULL",
                                    "1": "timea",
                                    "2": "1"
                                },
                                {
                                    "0": "NULL",
                                    "1": "timea2",
                                    "2": "2"
                                },
                                {
                                    "0": "NULL",
                                    "1": "tunde",
                                    "2": "4"
                                },
                                {
                                    "0": "NULL",
                                    "1": "valentin",
                                    "2": "5"
                                },
                                {
                                    "0": "NULL",
                                    "1": "veronika4",
                                    "2": "5"
                                },
                                {
                                    "0": "NULL",
                                    "1": "VIKTORIAU",
                                    "2": "3"
                                },
                                {
                                    "0": "NULL",
                                    "1": "VIKTORK",
                                    "2": "1"
                                },
                                {
                                    "0": "NULL",
                                    "1": "vivien3",
                                    "2": "3"
                                },
                                {
                                    "0": "NULL",
                                    "1": "zoltan",
                                    "2": "5"
                                },
                                {
                                    "0": "NULL",
                                    "1": "zoltan4",
                                    "2": "4"
                                },
                                {
                                    "0": "NULL",
                                    "1": "ZOLTANP",
                                    "2": "3"
                                },
                                {
                                    "0": "NULL",
                                    "1": "ZOLTANT",
                                    "2": "2"
                                },
                                {
                                    "0": "NULL",
                                    "1": "zsofi1",
                                    "2": "1"
                                },
                                {
                                    "0": "NULL",
                                    "1": "zsolt1",
                                    "2": "2"
                                },
                                {
                                    "0": "NULL",
                                    "1": "ZSOLTJ",
                                    "2": "3"
                                },
                                {
                                    "0": "NULL",
                                    "1": "zsuzsa",
                                    "2": "3"
                                },
                                {
                                    "0": "NULL",
                                    "1": "zsuzsa3",
                                    "2": "4"
                                },
                                {
                                    "0": "NULL",
                                    "1": "zsuzsanna",
                                    "2": "5"
                                },
                                {
                                    "0": "NULL",
                                    "1": "ZSUZSAV",
                                    "2": "3"
                                },
                                {
                                    "0": "9",
                                    "1": "NULL",
                                    "2": "4"
                                },
                                {
                                    "0": "3",
                                    "1": "NULL",
                                    "2": "3"
                                },
                                {
                                    "0": "12",
                                    "1": "NULL",
                                    "2": "4"
                                },
                                {
                                    "0": "6",
                                    "1": "NULL",
                                    "2": "4"
                                },
                                {
                                    "0": "7",
                                    "1": "NULL",
                                    "2": "3"
                                },
                                {
                                    "0": "1",
                                    "1": "NULL",
                                    "2": "4"
                                },
                                {
                                    "0": "10",
                                    "1": "NULL",
                                    "2": "3"
                                },
                                {
                                    "0": "4",
                                    "1": "NULL",
                                    "2": "4"
                                },
                                {
                                    "0": "5",
                                    "1": "NULL",
                                    "2": "4"
                                },
                                {
                                    "0": "2",
                                    "1": "NULL",
                                    "2": "3"
                                },
                                {
                                    "0": "11",
                                    "1": "NULL",
                                    "2": "3"
                                },
                                {
                                    "0": "8",
                                    "1": "NULL",
                                    "2": "3"
                                }
                            ]
                        },
                        "text/html": [
                            "<table>",
                            "<tr><th>szallas_fk</th><th>ugyfel_fk</th><th>(No column name)</th></tr>",
                            "<tr><td>NULL</td><td>adam1</td><td>5</td></tr>",
                            "<tr><td>NULL</td><td>adam3</td><td>4</td></tr>",
                            "<tr><td>NULL</td><td>adam4</td><td>4</td></tr>",
                            "<tr><td>NULL</td><td>agnes</td><td>5</td></tr>",
                            "<tr><td>NULL</td><td>agnes3</td><td>4</td></tr>",
                            "<tr><td>NULL</td><td>AGNESH</td><td>4</td></tr>",
                            "<tr><td>NULL</td><td>AGNESK</td><td>2</td></tr>",
                            "<tr><td>NULL</td><td>akos</td><td>4</td></tr>",
                            "<tr><td>NULL</td><td>aladar</td><td>4</td></tr>",
                            "<tr><td>NULL</td><td>alexandra</td><td>4</td></tr>",
                            "<tr><td>NULL</td><td>andi</td><td>3</td></tr>",
                            "<tr><td>NULL</td><td>andras2</td><td>3</td></tr>",
                            "<tr><td>NULL</td><td>andras21</td><td>3</td></tr>",
                            "<tr><td>NULL</td><td>andras3</td><td>3</td></tr>",
                            "<tr><td>NULL</td><td>andras4</td><td>2</td></tr>",
                            "<tr><td>NULL</td><td>andras41</td><td>4</td></tr>",
                            "<tr><td>NULL</td><td>ANDRASE</td><td>4</td></tr>",
                            "<tr><td>NULL</td><td>ANDRASN</td><td>6</td></tr>",
                            "<tr><td>NULL</td><td>andrea</td><td>3</td></tr>",
                            "<tr><td>NULL</td><td>andrea3</td><td>2</td></tr>",
                            "<tr><td>NULL</td><td>andrea4</td><td>5</td></tr>",
                            "<tr><td>NULL</td><td>ANDREAT</td><td>3</td></tr>",
                            "<tr><td>NULL</td><td>anett3</td><td>5</td></tr>",
                            "<tr><td>NULL</td><td>aniko</td><td>2</td></tr>",
                            "<tr><td>NULL</td><td>aniko4</td><td>3</td></tr>",
                            "<tr><td>NULL</td><td>ANIKOS</td><td>5</td></tr>",
                            "<tr><td>NULL</td><td>anita</td><td>3</td></tr>",
                            "<tr><td>NULL</td><td>annamaria1</td><td>1</td></tr>",
                            "<tr><td>NULL</td><td>ANNAMARIAR</td><td>2</td></tr>",
                            "<tr><td>NULL</td><td>aron2</td><td>2</td></tr>",
                            "<tr><td>NULL</td><td>ARONK</td><td>4</td></tr>",
                            "<tr><td>NULL</td><td>arpad2</td><td>2</td></tr>",
                            "<tr><td>NULL</td><td>ARPADH</td><td>4</td></tr>",
                            "<tr><td>NULL</td><td>ARPADM</td><td>3</td></tr>",
                            "<tr><td>NULL</td><td>attila</td><td>5</td></tr>",
                            "<tr><td>NULL</td><td>attila1</td><td>4</td></tr>",
                            "<tr><td>NULL</td><td>attila4</td><td>4</td></tr>",
                            "<tr><td>NULL</td><td>ATTILAO</td><td>4</td></tr>",
                            "<tr><td>NULL</td><td>balazs1</td><td>3</td></tr>",
                            "<tr><td>NULL</td><td>balazs2</td><td>4</td></tr>",
                            "<tr><td>NULL</td><td>balazs3</td><td>3</td></tr>",
                            "<tr><td>NULL</td><td>balint</td><td>4</td></tr>",
                            "<tr><td>NULL</td><td>balint1</td><td>3</td></tr>",
                            "<tr><td>NULL</td><td>balint2</td><td>3</td></tr>",
                            "<tr><td>NULL</td><td>balu</td><td>2</td></tr>",
                            "<tr><td>NULL</td><td>beata4</td><td>2</td></tr>",
                            "<tr><td>NULL</td><td>BEATRIXK</td><td>3</td></tr>",
                            "<tr><td>NULL</td><td>BEATRIXS</td><td>3</td></tr>",
                            "<tr><td>NULL</td><td>BELAF</td><td>3</td></tr>",
                            "<tr><td>NULL</td><td>bence</td><td>3</td></tr>",
                            "<tr><td>NULL</td><td>BENCEB</td><td>4</td></tr>",
                            "<tr><td>NULL</td><td>bernadett1</td><td>4</td></tr>",
                            "<tr><td>NULL</td><td>bernadett2</td><td>4</td></tr>",
                            "<tr><td>NULL</td><td>BERNADETTO</td><td>4</td></tr>",
                            "<tr><td>NULL</td><td>bertalan</td><td>4</td></tr>",
                            "<tr><td>NULL</td><td>brigitta</td><td>5</td></tr>",
                            "<tr><td>NULL</td><td>brigitta3</td><td>5</td></tr>",
                            "<tr><td>NULL</td><td>csongor3</td><td>4</td></tr>",
                            "<tr><td>NULL</td><td>dani</td><td>3</td></tr>",
                            "<tr><td>NULL</td><td>daniel</td><td>2</td></tr>",
                            "<tr><td>NULL</td><td>daniel1</td><td>3</td></tr>",
                            "<tr><td>NULL</td><td>david</td><td>4</td></tr>",
                            "<tr><td>NULL</td><td>david1</td><td>2</td></tr>",
                            "<tr><td>NULL</td><td>david4</td><td>3</td></tr>",
                            "<tr><td>NULL</td><td>debora</td><td>3</td></tr>",
                            "<tr><td>NULL</td><td>denes</td><td>5</td></tr>",
                            "<tr><td>NULL</td><td>dora3</td><td>4</td></tr>",
                            "<tr><td>NULL</td><td>edit</td><td>4</td></tr>",
                            "<tr><td>NULL</td><td>emese</td><td>2</td></tr>",
                            "<tr><td>NULL</td><td>eszter</td><td>5</td></tr>",
                            "<tr><td>NULL</td><td>eszter2</td><td>8</td></tr>",
                            "<tr><td>NULL</td><td>eszter4</td><td>4</td></tr>",
                            "<tr><td>NULL</td><td>ESZTERE</td><td>4</td></tr>",
                            "<tr><td>NULL</td><td>eva</td><td>2</td></tr>",
                            "<tr><td>NULL</td><td>eva2</td><td>4</td></tr>",
                            "<tr><td>NULL</td><td>EVAV</td><td>5</td></tr>",
                            "<tr><td>NULL</td><td>ferenc1</td><td>2</td></tr>",
                            "<tr><td>NULL</td><td>fruzsina4</td><td>3</td></tr>",
                            "<tr><td>NULL</td><td>gabor1</td><td>2</td></tr>",
                            "<tr><td>NULL</td><td>gabor4</td><td>5</td></tr>",
                            "<tr><td>NULL</td><td>gabriella1</td><td>4</td></tr>",
                            "<tr><td>NULL</td><td>gabriella10</td><td>5</td></tr>",
                            "<tr><td>NULL</td><td>georgij</td><td>5</td></tr>",
                            "<tr><td>NULL</td><td>gusztav</td><td>5</td></tr>",
                            "<tr><td>NULL</td><td>GYONGYIK</td><td>5</td></tr>",
                            "<tr><td>NULL</td><td>GYORGYO</td><td>3</td></tr>",
                            "<tr><td>NULL</td><td>henrik3</td><td>3</td></tr>",
                            "<tr><td>NULL</td><td>IBOLYAA</td><td>4</td></tr>",
                            "<tr><td>NULL</td><td>ilona3</td><td>4</td></tr>",
                            "<tr><td>NULL</td><td>imre</td><td>1</td></tr>",
                            "<tr><td>NULL</td><td>imre1</td><td>2</td></tr>",
                            "<tr><td>NULL</td><td>istvan</td><td>2</td></tr>",
                            "<tr><td>NULL</td><td>istvan1</td><td>4</td></tr>",
                            "<tr><td>NULL</td><td>ISTVANV</td><td>2</td></tr>",
                            "<tr><td>NULL</td><td>janos3</td><td>2</td></tr>",
                            "<tr><td>NULL</td><td>JANOSG</td><td>5</td></tr>",
                            "<tr><td>NULL</td><td>JANOSP</td><td>4</td></tr>",
                            "<tr><td>NULL</td><td>jozsef</td><td>3</td></tr>",
                            "<tr><td>NULL</td><td>jozsef2</td><td>5</td></tr>",
                            "<tr><td>NULL</td><td>JOZSEFG</td><td>4</td></tr>",
                            "<tr><td>NULL</td><td>JUDITH</td><td>4</td></tr>",
                            "<tr><td>NULL</td><td>julia</td><td>4</td></tr>",
                            "<tr><td>NULL</td><td>julia4</td><td>6</td></tr>",
                            "<tr><td>NULL</td><td>julianna4</td><td>4</td></tr>",
                            "<tr><td>NULL</td><td>kata</td><td>3</td></tr>",
                            "<tr><td>NULL</td><td>katalin</td><td>4</td></tr>",
                            "<tr><td>NULL</td><td>katalin4</td><td>4</td></tr>",
                            "<tr><td>NULL</td><td>kati</td><td>4</td></tr>",
                            "<tr><td>NULL</td><td>katka</td><td>3</td></tr>",
                            "<tr><td>NULL</td><td>klaudia2</td><td>2</td></tr>",
                            "<tr><td>NULL</td><td>kornel4</td><td>4</td></tr>",
                            "<tr><td>NULL</td><td>kristof4</td><td>5</td></tr>",
                            "<tr><td>NULL</td><td>kriszti</td><td>3</td></tr>",
                            "<tr><td>NULL</td><td>krisztian4</td><td>4</td></tr>",
                            "<tr><td>NULL</td><td>KRISZTIANM</td><td>5</td></tr>",
                            "<tr><td>NULL</td><td>krisztina</td><td>4</td></tr>",
                            "<tr><td>NULL</td><td>krisztina1</td><td>3</td></tr>",
                            "<tr><td>NULL</td><td>KRISZTINAG</td><td>4</td></tr>",
                            "<tr><td>NULL</td><td>lajos</td><td>2</td></tr>",
                            "<tr><td>NULL</td><td>lala</td><td>2</td></tr>",
                            "<tr><td>NULL</td><td>laszlo1</td><td>7</td></tr>",
                            "<tr><td>NULL</td><td>laszlo2</td><td>2</td></tr>",
                            "<tr><td>NULL</td><td>LASZLOA</td><td>4</td></tr>",
                            "<tr><td>NULL</td><td>LASZLON</td><td>4</td></tr>",
                            "<tr><td>NULL</td><td>maria1</td><td>4</td></tr>",
                            "<tr><td>NULL</td><td>mark</td><td>5</td></tr>",
                            "<tr><td>NULL</td><td>MARKH</td><td>5</td></tr>",
                            "<tr><td>NULL</td><td>marton</td><td>4</td></tr>",
                            "<tr><td>NULL</td><td>MATEK</td><td>4</td></tr>",
                            "<tr><td>NULL</td><td>matyas2</td><td>3</td></tr>",
                            "<tr><td>NULL</td><td>MATYASS</td><td>5</td></tr>",
                            "<tr><td>NULL</td><td>MIHALYJ</td><td>4</td></tr>",
                            "<tr><td>NULL</td><td>miklos2</td><td>1</td></tr>",
                            "<tr><td>NULL</td><td>MIKLOSB</td><td>4</td></tr>",
                            "<tr><td>NULL</td><td>MONIKAM</td><td>4</td></tr>",
                            "<tr><td>NULL</td><td>NANDORF</td><td>2</td></tr>",
                            "<tr><td>NULL</td><td>nikolett3</td><td>5</td></tr>",
                            "<tr><td>NULL</td><td>nikoletta4</td><td>4</td></tr>",
                            "<tr><td>NULL</td><td>NIKOLETTAT</td><td>2</td></tr>",
                            "<tr><td>NULL</td><td>norbert</td><td>4</td></tr>",
                            "<tr><td>NULL</td><td>norbert2</td><td>4</td></tr>",
                            "<tr><td>NULL</td><td>norbert4</td><td>3</td></tr>",
                            "<tr><td>NULL</td><td>norbert5</td><td>2</td></tr>",
                            "<tr><td>NULL</td><td>pal</td><td>4</td></tr>",
                            "<tr><td>NULL</td><td>peter1</td><td>4</td></tr>",
                            "<tr><td>NULL</td><td>peter2</td><td>4</td></tr>",
                            "<tr><td>NULL</td><td>peter3</td><td>4</td></tr>",
                            "<tr><td>NULL</td><td>peter4</td><td>4</td></tr>",
                            "<tr><td>NULL</td><td>PETERB</td><td>3</td></tr>",
                            "<tr><td>NULL</td><td>polla</td><td>4</td></tr>",
                            "<tr><td>NULL</td><td>rajmond4</td><td>2</td></tr>",
                            "<tr><td>NULL</td><td>reka4</td><td>4</td></tr>",
                            "<tr><td>NULL</td><td>RENATAK</td><td>3</td></tr>",
                            "<tr><td>NULL</td><td>RENATAS</td><td>5</td></tr>",
                            "<tr><td>NULL</td><td>robert2</td><td>5</td></tr>",
                            "<tr><td>NULL</td><td>ROBERTI</td><td>4</td></tr>",
                            "<tr><td>NULL</td><td>ROBERTP</td><td>4</td></tr>",
                            "<tr><td>NULL</td><td>roland</td><td>2</td></tr>",
                            "<tr><td>NULL</td><td>roland1</td><td>4</td></tr>",
                            "<tr><td>NULL</td><td>roza2</td><td>4</td></tr>",
                            "<tr><td>NULL</td><td>sandor</td><td>5</td></tr>",
                            "<tr><td>NULL</td><td>sandor3</td><td>4</td></tr>",
                            "<tr><td>NULL</td><td>sandor4</td><td>4</td></tr>",
                            "<tr><td>NULL</td><td>sara</td><td>3</td></tr>",
                            "<tr><td>NULL</td><td>SEBASTIANF</td><td>4</td></tr>",
                            "<tr><td>NULL</td><td>sebestyen</td><td>5</td></tr>",
                            "<tr><td>NULL</td><td>szabolcs</td><td>2</td></tr>",
                            "<tr><td>NULL</td><td>SZABOLCSM</td><td>2</td></tr>",
                            "<tr><td>NULL</td><td>SZILARDS</td><td>5</td></tr>",
                            "<tr><td>NULL</td><td>szilvia1</td><td>4</td></tr>",
                            "<tr><td>NULL</td><td>tamara2</td><td>3</td></tr>",
                            "<tr><td>NULL</td><td>tamas</td><td>5</td></tr>",
                            "<tr><td>NULL</td><td>TAMASF</td><td>4</td></tr>",
                            "<tr><td>NULL</td><td>tibor</td><td>4</td></tr>",
                            "<tr><td>NULL</td><td>tibor2</td><td>5</td></tr>",
                            "<tr><td>NULL</td><td>tihamer</td><td>4</td></tr>",
                            "<tr><td>NULL</td><td>timea</td><td>1</td></tr>",
                            "<tr><td>NULL</td><td>timea2</td><td>2</td></tr>",
                            "<tr><td>NULL</td><td>tunde</td><td>4</td></tr>",
                            "<tr><td>NULL</td><td>valentin</td><td>5</td></tr>",
                            "<tr><td>NULL</td><td>veronika4</td><td>5</td></tr>",
                            "<tr><td>NULL</td><td>VIKTORIAU</td><td>3</td></tr>",
                            "<tr><td>NULL</td><td>VIKTORK</td><td>1</td></tr>",
                            "<tr><td>NULL</td><td>vivien3</td><td>3</td></tr>",
                            "<tr><td>NULL</td><td>zoltan</td><td>5</td></tr>",
                            "<tr><td>NULL</td><td>zoltan4</td><td>4</td></tr>",
                            "<tr><td>NULL</td><td>ZOLTANP</td><td>3</td></tr>",
                            "<tr><td>NULL</td><td>ZOLTANT</td><td>2</td></tr>",
                            "<tr><td>NULL</td><td>zsofi1</td><td>1</td></tr>",
                            "<tr><td>NULL</td><td>zsolt1</td><td>2</td></tr>",
                            "<tr><td>NULL</td><td>ZSOLTJ</td><td>3</td></tr>",
                            "<tr><td>NULL</td><td>zsuzsa</td><td>3</td></tr>",
                            "<tr><td>NULL</td><td>zsuzsa3</td><td>4</td></tr>",
                            "<tr><td>NULL</td><td>zsuzsanna</td><td>5</td></tr>",
                            "<tr><td>NULL</td><td>ZSUZSAV</td><td>3</td></tr>",
                            "<tr><td>9</td><td>NULL</td><td>4</td></tr>",
                            "<tr><td>3</td><td>NULL</td><td>3</td></tr>",
                            "<tr><td>12</td><td>NULL</td><td>4</td></tr>",
                            "<tr><td>6</td><td>NULL</td><td>4</td></tr>",
                            "<tr><td>7</td><td>NULL</td><td>3</td></tr>",
                            "<tr><td>1</td><td>NULL</td><td>4</td></tr>",
                            "<tr><td>10</td><td>NULL</td><td>3</td></tr>",
                            "<tr><td>4</td><td>NULL</td><td>4</td></tr>",
                            "<tr><td>5</td><td>NULL</td><td>4</td></tr>",
                            "<tr><td>2</td><td>NULL</td><td>3</td></tr>",
                            "<tr><td>11</td><td>NULL</td><td>3</td></tr>",
                            "<tr><td>8</td><td>NULL</td><td>3</td></tr>",
                            "</table>"
                        ]
                    }
                }
            ],
            "execution_count": 13
        },
        {
            "cell_type": "markdown",
            "source": [
                "2\\. Készítsünk lekérdezést, amely megadja, hogy szállás típusonként, <span style=\"box-sizing: border-box; font-size: 0.9375rem;\">azon belül szálláshely kategóriánként (csillagok_szama) hány&nbsp;</span> <span style=\"box-sizing: border-box; font-size: 0.9375rem;\">db szálláshely van!&nbsp;</span> \n",
                "\n",
                " <span style=\"box-sizing: border-box; font-size: 0.9375rem;\">&nbsp; &nbsp; a. A lista jelenítse&nbsp; meg a részösszegeket és&nbsp;</span> <span style=\"box-sizing: border-box; font-size: 0.9375rem;\">a végösszeget is (csak a végösszeget kell külön elnevezni)</span>"
            ],
            "metadata": {
                "azdata_cell_guid": "1e20e375-bef9-49f1-9293-1d541e0fcf8a"
            },
            "attachments": {}
        },
        {
            "cell_type": "code",
            "source": [
                "select sz.tipus, sz.csillagok_szama, count(1) \r\n",
                "from Szallashely sz\r\n",
                "group by rollup(sz.tipus, sz.csillagok_szama) "
            ],
            "metadata": {
                "azdata_cell_guid": "21a8b410-3ecd-49f8-80e6-23636a6b3940"
            },
            "outputs": [
                {
                    "output_type": "display_data",
                    "data": {
                        "text/html": "(12 rows affected)"
                    },
                    "metadata": {}
                },
                {
                    "output_type": "display_data",
                    "data": {
                        "text/html": "Total execution time: 00:00:00.048"
                    },
                    "metadata": {}
                },
                {
                    "output_type": "execute_result",
                    "metadata": {},
                    "execution_count": 14,
                    "data": {
                        "application/vnd.dataresource+json": {
                            "schema": {
                                "fields": [
                                    {
                                        "name": "tipus"
                                    },
                                    {
                                        "name": "csillagok_szama"
                                    },
                                    {
                                        "name": "(No column name)"
                                    }
                                ]
                            },
                            "data": [
                                {
                                    "0": "Apartman",
                                    "1": "0",
                                    "2": "3"
                                },
                                {
                                    "0": "Apartman",
                                    "1": "NULL",
                                    "2": "3"
                                },
                                {
                                    "0": "Diákszálló",
                                    "1": "0",
                                    "2": "1"
                                },
                                {
                                    "0": "Diákszálló",
                                    "1": "NULL",
                                    "2": "1"
                                },
                                {
                                    "0": "Hotel",
                                    "1": "3",
                                    "2": "3"
                                },
                                {
                                    "0": "Hotel",
                                    "1": "4",
                                    "2": "3"
                                },
                                {
                                    "0": "Hotel",
                                    "1": "NULL",
                                    "2": "6"
                                },
                                {
                                    "0": "panzió",
                                    "1": "3",
                                    "2": "5"
                                },
                                {
                                    "0": "panzió",
                                    "1": "NULL",
                                    "2": "5"
                                },
                                {
                                    "0": "vendégház",
                                    "1": "0",
                                    "2": "6"
                                },
                                {
                                    "0": "vendégház",
                                    "1": "NULL",
                                    "2": "6"
                                },
                                {
                                    "0": "NULL",
                                    "1": "NULL",
                                    "2": "21"
                                }
                            ]
                        },
                        "text/html": [
                            "<table>",
                            "<tr><th>tipus</th><th>csillagok_szama</th><th>(No column name)</th></tr>",
                            "<tr><td>Apartman</td><td>0</td><td>3</td></tr>",
                            "<tr><td>Apartman</td><td>NULL</td><td>3</td></tr>",
                            "<tr><td>Diákszálló</td><td>0</td><td>1</td></tr>",
                            "<tr><td>Diákszálló</td><td>NULL</td><td>1</td></tr>",
                            "<tr><td>Hotel</td><td>3</td><td>3</td></tr>",
                            "<tr><td>Hotel</td><td>4</td><td>3</td></tr>",
                            "<tr><td>Hotel</td><td>NULL</td><td>6</td></tr>",
                            "<tr><td>panzió</td><td>3</td><td>5</td></tr>",
                            "<tr><td>panzió</td><td>NULL</td><td>5</td></tr>",
                            "<tr><td>vendégház</td><td>0</td><td>6</td></tr>",
                            "<tr><td>vendégház</td><td>NULL</td><td>6</td></tr>",
                            "<tr><td>NULL</td><td>NULL</td><td>21</td></tr>",
                            "</table>"
                        ]
                    }
                }
            ],
            "execution_count": 14
        },
        {
            "cell_type": "markdown",
            "source": [
                ""
            ],
            "metadata": {
                "azdata_cell_guid": "8d6d1126-0370-47fd-bf0c-d4d115683aa1"
            }
        }
    ]
}