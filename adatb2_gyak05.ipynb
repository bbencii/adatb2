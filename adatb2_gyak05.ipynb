{
    "metadata": {
        "kernelspec": {
            "name": "SQL",
            "display_name": "SQL",
            "language": "sql"
        },
        "language_info": {
            "name": "sql",
            "version": ""
        },
        "extensions": {
            "azuredatastudio": {
                "version": 1,
                "views": []
            }
        }
    },
    "nbformat_minor": 2,
    "nbformat": 4,
    "cells": [
        {
            "cell_type": "code",
            "source": [
                "select * from Szallashely for xml auto"
            ],
            "metadata": {
                "azdata_cell_guid": "8d06e6ca-cddd-4c05-afd0-c7e13ce3829c"
            },
            "outputs": [
                {
                    "output_type": "display_data",
                    "data": {
                        "text/html": "(21 rows affected)"
                    },
                    "metadata": {}
                },
                {
                    "output_type": "display_data",
                    "data": {
                        "text/html": "Total execution time: 00:00:00.100"
                    },
                    "metadata": {}
                },
                {
                    "output_type": "execute_result",
                    "metadata": {},
                    "execution_count": 2,
                    "data": {
                        "application/vnd.dataresource+json": {
                            "schema": {
                                "fields": [
                                    {
                                        "name": "XML_F52E2B61-18A1-11d1-B105-00805F49916B"
                                    }
                                ]
                            },
                            "data": [
                                {
                                    "0": "<Szallashely SZALLAS_ID=\"1\" SZALLAS_NEV=\"Sába-Ház\" HELY=\"Balaton-dél\" CSILLAGOK_SZAMA=\"0\" TIPUS=\"vendégház\" ROGZITETTE=\"Béla\" ROGZ_IDO=\"2016-02-28\" CIM=\"8630 Balatonboglár, Radnóti Miklós utca 8\"/><Szallashely SZALLAS_ID=\"2\" SZALLAS_NEV=\"Családi Ház\" HELY=\"Balaton-dél\" CSILLAGOK_SZAMA=\"0\" TIPUS=\"vendégház\" ROGZITETTE=\"Béla\" ROGZ_IDO=\"2016-03-02\" CIM=\"8630 Balatonboglár, József Attila utca 25\"/><Szallashely SZALLAS_ID=\"3\" SZALLAS_NEV=\"Fortuna Apartman\" HELY=\"Hajdúbihar megye\" CSILLAGOK_SZAMA=\"0\" TIPUS=\"Apartman\" ROGZITETTE=\"Sára\" ROGZ_IDO=\"2016-03-06\" CIM=\"4200 Hajdúszoboszló, Wesselényi utca 56.\"/><Szallashely SZALLAS_ID=\"4\" SZALLAS_NEV=\"Fortuna panzió\" HELY=\"Budapest\" CSILLAGOK_SZAMA=\"3\" TIPUS=\"panzió\" ROGZITETTE=\"Béla\" ROGZ_IDO=\"2016-03-07\" CIM=\"1019 Budapest XIV. Cinkotai út 86.\"/><Szallashely SZALLAS_ID=\"5\" SZALLAS_NEV=\"Fortuna Panzió\" HELY=\"Békés megye\" CSILLAGOK_SZAMA=\"3\" TIPUS=\"panzió\" ROGZITETTE=\"Sára\" ROGZ_IDO=\"2016-03-08\" CIM=\"5900 Orosháza, Gyopárosfürdő Tópart utca 3.\"/><Szallashely SZALLAS_ID=\"6\" SZALLAS_NEV=\"Kentaur Hotel\" HELY=\"Balaton-dél\" CSILLAGOK_SZAMA=\"3\" TIPUS=\"Hotel\" ROGZITETTE=\"Béla\" ROGZ_IDO=\"2016-03-08\" CIM=\"8600 Siófok (Széplak), Akácfa utca 1\"/><Szallashely SZALLAS_ID=\"7\" SZALLAS_NEV=\"Szieszta Apartmanház\" HELY=\"Balaton-dél\" CSILLAGOK_SZAMA=\"0\" TIPUS=\"Apartman\" ROGZITETTE=\"Mari\" ROGZ_IDO=\"2016-03-11\" CIM=\"8630 Balatonboglár, Dózsa György utca 108\"/><Szallashely SZALLAS_ID=\"8\" SZALLAS_NEV=\"Hotel Három Hattyú\" HELY=\"Balaton-dél\" CSILLAGOK_SZAMA=\"4\" TIPUS=\"Hotel\" ROGZITETTE=\"Béla\" ROGZ_IDO=\"2016-03-13\" CIM=\"8623 Balatonföldvár, Rákóczi Ferenc út 45.\"/><Szallashely SZALLAS_ID=\"9\" SZALLAS_NEV=\"Jáde panzió\" HELY=\"Balaton-dél\" CSILLAGOK_SZAMA=\"3\" TIPUS=\"panzió\" ROGZITETTE=\"Mari\" ROGZ_IDO=\"2016-03-16\" CIM=\"8624 Balatonföldvár, Kiss u.2.\"/><Szallashely SZALLAS_ID=\"10\" SZALLAS_NEV=\"Lagúna Hotel\" HELY=\"Budapest\" CSILLAGOK_SZAMA=\"4\" TIPUS=\"Hotel\" ROGZITETTE=\"Sára\" ROGZ_IDO=\"2016-03-20\" CIM=\"1097 Budapest, Albert Flórián út 3\"/><Szallashely SZALLAS_ID=\"11\" SZALLAS_NEV=\"Partiszél Vendégház\" HELY=\"Balaton-észak\" CSILLAGOK_SZAMA=\"0\" TIPUS=\"vendégház\" ROGZITETTE=\"Béla\" ROGZ_IDO=\"2016-03-22\" CIM=\"8220 Balatonalmádi Neptun u. 23.\"/><Szallashely SZALLAS_ID=\"12\" SZALLAS_NEV=\"Gold Hotel\" HELY=\"Budapest\" CSILLAGOK_SZAMA=\"3\" TIPUS=\"Hotel\" ROGZITETTE=\"Béla\" ROGZ_IDO=\"2016-03-24\" CIM=\"1016 Budapest, Hegyalja út 12\"/><Szallashely SZALLAS_ID=\"13\" SZALLAS_NEV=\"Riviéra Panzió\" HELY=\"Csongrád megye\" CSILLAGOK_SZAMA=\"3\" TIPUS=\"panzió\" ROGZITETTE=\"Sára\" ROGZ_IDO=\"2016-03-27\" CIM=\"6722 Szeged, Petőfi Sándor út 3.\"/><Szallashely SZALLAS_ID=\"14\" SZALLAS_NEV=\"Nyárfás Vendégház\" HELY=\"Csongrád megye\" CSILLAGOK_SZAMA=\"0\" TIPUS=\"vendégház\" ROGZITETTE=\"Béla\" ROGZ_IDO=\"2016-03-27\" CIM=\"6723 Szeged, Nagy u. 12.\"/><Szallashely SZALLAS_ID=\"15\" SZALLAS_NEV=\"Tímárház Panzió\" HELY=\"Balaton-dél\" CSILLAGOK_SZAMA=\"3\" TIPUS=\"panzió\" ROGZITETTE=\"Béla\" ROGZ_IDO=\"2016-03-29\" CIM=\"8600 Siófok, Virág utca 1\"/><Szallashely SZALLAS_ID=\"16\" SZALLAS_NEV=\"Bagoly Hotel\" HELY=\"Pest megye\" CSILLAGOK_SZAMA=\"3\" TIPUS=\"Hotel\" ROGZITETTE=\"Mari\" ROGZ_IDO=\"2016-04-01\" CIM=\"2230 Gyömrő, Bergszász u. 5.\"/><Szallashely SZALLAS_ID=\"17\" SZALLAS_NEV=\"Szarvas Hotel\" HELY=\"Tolna megye\" CSILLAGOK_SZAMA=\"4\" TIPUS=\"Hotel\" ROGZITETTE=\"Béla\" ROGZ_IDO=\"2016-04-04\" CIM=\"7121 Szálka, Petőfi Sándor u.\"/><Szallashely SZALLAS_ID=\"18\" SZALLAS_NEV=\"Fortuna Apartman\" HELY=\"Dél-Somogy\" CSILLAGOK_SZAMA=\"0\" TIPUS=\"Apartman\" ROGZITETTE=\"Béla\" ROGZ_IDO=\"2016-04-07\" CIM=\"7570 Barcs, Kossuth u. 13.\"/><Szallashely SZALLAS_ID=\"19\" SZALLAS_NEV=\"Nyárfás Vendégház\" HELY=\"Dél-Somogy\" CSILLAGOK_SZAMA=\"0\" TIPUS=\"vendégház\" ROGZITETTE=\"Sára\" ROGZ_IDO=\"2016-04-07\" CIM=\"7570 Barcs, Bajcsy-Zs. u. 53\"/><Szallashely SZALLAS_ID=\"20\" SZALLAS_NEV=\"Kollégium\" HELY=\"Budapest\" CSILLAGOK_SZAMA=\"0\" TIPUS=\"Diákszálló\" ROGZITETTE=\"Sára\" ROGZ_IDO=\"2016-04-07\" CIM=\"1146 Budapest, Ajtósi Dürer sor 23.\"/><Szallashely SZALLAS_ID=\"21\" SZALLAS_NEV=\"Müller Vendégház\" HELY=\"Dél-Somogy\" CSILLAGOK_SZAMA=\"0\" TIPUS=\"vendégház\" ROGZITETTE=\"Béla\" ROGZ_IDO=\"2016-04-07\" CIM=\"7570 Barcs, Magyar u. 10.\"/>"
                                }
                            ]
                        },
                        "text/html": [
                            "<table>",
                            "<tr><th>XML_F52E2B61-18A1-11d1-B105-00805F49916B</th></tr>",
                            "<tr><td>&lt;Szallashely SZALLAS_ID=&quot;1&quot; SZALLAS_NEV=&quot;Sába-Ház&quot; HELY=&quot;Balaton-dél&quot; CSILLAGOK_SZAMA=&quot;0&quot; TIPUS=&quot;vendégház&quot; ROGZITETTE=&quot;Béla&quot; ROGZ_IDO=&quot;2016-02-28&quot; CIM=&quot;8630 Balatonboglár, Radnóti Miklós utca 8&quot;/&gt;&lt;Szallashely SZALLAS_ID=&quot;2&quot; SZALLAS_NEV=&quot;Családi Ház&quot; HELY=&quot;Balaton-dél&quot; CSILLAGOK_SZAMA=&quot;0&quot; TIPUS=&quot;vendégház&quot; ROGZITETTE=&quot;Béla&quot; ROGZ_IDO=&quot;2016-03-02&quot; CIM=&quot;8630 Balatonboglár, József Attila utca 25&quot;/&gt;&lt;Szallashely SZALLAS_ID=&quot;3&quot; SZALLAS_NEV=&quot;Fortuna Apartman&quot; HELY=&quot;Hajdúbihar megye&quot; CSILLAGOK_SZAMA=&quot;0&quot; TIPUS=&quot;Apartman&quot; ROGZITETTE=&quot;Sára&quot; ROGZ_IDO=&quot;2016-03-06&quot; CIM=&quot;4200 Hajdúszoboszló, Wesselényi utca 56.&quot;/&gt;&lt;Szallashely SZALLAS_ID=&quot;4&quot; SZALLAS_NEV=&quot;Fortuna panzió&quot; HELY=&quot;Budapest&quot; CSILLAGOK_SZAMA=&quot;3&quot; TIPUS=&quot;panzió&quot; ROGZITETTE=&quot;Béla&quot; ROGZ_IDO=&quot;2016-03-07&quot; CIM=&quot;1019 Budapest XIV. Cinkotai út 86.&quot;/&gt;&lt;Szallashely SZALLAS_ID=&quot;5&quot; SZALLAS_NEV=&quot;Fortuna Panzió&quot; HELY=&quot;Békés megye&quot; CSILLAGOK_SZAMA=&quot;3&quot; TIPUS=&quot;panzió&quot; ROGZITETTE=&quot;Sára&quot; ROGZ_IDO=&quot;2016-03-08&quot; CIM=&quot;5900 Orosháza, Gyopárosfürdő Tópart utca 3.&quot;/&gt;&lt;Szallashely SZALLAS_ID=&quot;6&quot; SZALLAS_NEV=&quot;Kentaur Hotel&quot; HELY=&quot;Balaton-dél&quot; CSILLAGOK_SZAMA=&quot;3&quot; TIPUS=&quot;Hotel&quot; ROGZITETTE=&quot;Béla&quot; ROGZ_IDO=&quot;2016-03-08&quot; CIM=&quot;8600 Siófok (Széplak), Akácfa utca 1&quot;/&gt;&lt;Szallashely SZALLAS_ID=&quot;7&quot; SZALLAS_NEV=&quot;Szieszta Apartmanház&quot; HELY=&quot;Balaton-dél&quot; CSILLAGOK_SZAMA=&quot;0&quot; TIPUS=&quot;Apartman&quot; ROGZITETTE=&quot;Mari&quot; ROGZ_IDO=&quot;2016-03-11&quot; CIM=&quot;8630 Balatonboglár, Dózsa György utca 108&quot;/&gt;&lt;Szallashely SZALLAS_ID=&quot;8&quot; SZALLAS_NEV=&quot;Hotel Három Hattyú&quot; HELY=&quot;Balaton-dél&quot; CSILLAGOK_SZAMA=&quot;4&quot; TIPUS=&quot;Hotel&quot; ROGZITETTE=&quot;Béla&quot; ROGZ_IDO=&quot;2016-03-13&quot; CIM=&quot;8623 Balatonföldvár, Rákóczi Ferenc út 45.&quot;/&gt;&lt;Szallashely SZALLAS_ID=&quot;9&quot; SZALLAS_NEV=&quot;Jáde panzió&quot; HELY=&quot;Balaton-dél&quot; CSILLAGOK_SZAMA=&quot;3&quot; TIPUS=&quot;panzió&quot; ROGZITETTE=&quot;Mari&quot; ROGZ_IDO=&quot;2016-03-16&quot; CIM=&quot;8624 Balatonföldvár, Kiss u.2.&quot;/&gt;&lt;Szallashely SZALLAS_ID=&quot;10&quot; SZALLAS_NEV=&quot;Lagúna Hotel&quot; HELY=&quot;Budapest&quot; CSILLAGOK_SZAMA=&quot;4&quot; TIPUS=&quot;Hotel&quot; ROGZITETTE=&quot;Sára&quot; ROGZ_IDO=&quot;2016-03-20&quot; CIM=&quot;1097 Budapest, Albert Flórián út 3&quot;/&gt;&lt;Szallashely SZALLAS_ID=&quot;11&quot; SZALLAS_NEV=&quot;Partiszél Vendégház&quot; HELY=&quot;Balaton-észak&quot; CSILLAGOK_SZAMA=&quot;0&quot; TIPUS=&quot;vendégház&quot; ROGZITETTE=&quot;Béla&quot; ROGZ_IDO=&quot;2016-03-22&quot; CIM=&quot;8220 Balatonalmádi Neptun u. 23.&quot;/&gt;&lt;Szallashely SZALLAS_ID=&quot;12&quot; SZALLAS_NEV=&quot;Gold Hotel&quot; HELY=&quot;Budapest&quot; CSILLAGOK_SZAMA=&quot;3&quot; TIPUS=&quot;Hotel&quot; ROGZITETTE=&quot;Béla&quot; ROGZ_IDO=&quot;2016-03-24&quot; CIM=&quot;1016 Budapest, Hegyalja út 12&quot;/&gt;&lt;Szallashely SZALLAS_ID=&quot;13&quot; SZALLAS_NEV=&quot;Riviéra Panzió&quot; HELY=&quot;Csongrád megye&quot; CSILLAGOK_SZAMA=&quot;3&quot; TIPUS=&quot;panzió&quot; ROGZITETTE=&quot;Sára&quot; ROGZ_IDO=&quot;2016-03-27&quot; CIM=&quot;6722 Szeged, Petőfi Sándor út 3.&quot;/&gt;&lt;Szallashely SZALLAS_ID=&quot;14&quot; SZALLAS_NEV=&quot;Nyárfás Vendégház&quot; HELY=&quot;Csongrád megye&quot; CSILLAGOK_SZAMA=&quot;0&quot; TIPUS=&quot;vendégház&quot; ROGZITETTE=&quot;Béla&quot; ROGZ_IDO=&quot;2016-03-27&quot; CIM=&quot;6723 Szeged, Nagy u. 12.&quot;/&gt;&lt;Szallashely SZALLAS_ID=&quot;15&quot; SZALLAS_NEV=&quot;Tímárház Panzió&quot; HELY=&quot;Balaton-dél&quot; CSILLAGOK_SZAMA=&quot;3&quot; TIPUS=&quot;panzió&quot; ROGZITETTE=&quot;Béla&quot; ROGZ_IDO=&quot;2016-03-29&quot; CIM=&quot;8600 Siófok, Virág utca 1&quot;/&gt;&lt;Szallashely SZALLAS_ID=&quot;16&quot; SZALLAS_NEV=&quot;Bagoly Hotel&quot; HELY=&quot;Pest megye&quot; CSILLAGOK_SZAMA=&quot;3&quot; TIPUS=&quot;Hotel&quot; ROGZITETTE=&quot;Mari&quot; ROGZ_IDO=&quot;2016-04-01&quot; CIM=&quot;2230 Gyömrő, Bergszász u. 5.&quot;/&gt;&lt;Szallashely SZALLAS_ID=&quot;17&quot; SZALLAS_NEV=&quot;Szarvas Hotel&quot; HELY=&quot;Tolna megye&quot; CSILLAGOK_SZAMA=&quot;4&quot; TIPUS=&quot;Hotel&quot; ROGZITETTE=&quot;Béla&quot; ROGZ_IDO=&quot;2016-04-04&quot; CIM=&quot;7121 Szálka, Petőfi Sándor u.&quot;/&gt;&lt;Szallashely SZALLAS_ID=&quot;18&quot; SZALLAS_NEV=&quot;Fortuna Apartman&quot; HELY=&quot;Dél-Somogy&quot; CSILLAGOK_SZAMA=&quot;0&quot; TIPUS=&quot;Apartman&quot; ROGZITETTE=&quot;Béla&quot; ROGZ_IDO=&quot;2016-04-07&quot; CIM=&quot;7570 Barcs, Kossuth u. 13.&quot;/&gt;&lt;Szallashely SZALLAS_ID=&quot;19&quot; SZALLAS_NEV=&quot;Nyárfás Vendégház&quot; HELY=&quot;Dél-Somogy&quot; CSILLAGOK_SZAMA=&quot;0&quot; TIPUS=&quot;vendégház&quot; ROGZITETTE=&quot;Sára&quot; ROGZ_IDO=&quot;2016-04-07&quot; CIM=&quot;7570 Barcs, Bajcsy-Zs. u. 53&quot;/&gt;&lt;Szallashely SZALLAS_ID=&quot;20&quot; SZALLAS_NEV=&quot;Kollégium&quot; HELY=&quot;Budapest&quot; CSILLAGOK_SZAMA=&quot;0&quot; TIPUS=&quot;Diákszálló&quot; ROGZITETTE=&quot;Sára&quot; ROGZ_IDO=&quot;2016-04-07&quot; CIM=&quot;1146 Budapest, Ajtósi Dürer sor 23.&quot;/&gt;&lt;Szallashely SZALLAS_ID=&quot;21&quot; SZALLAS_NEV=&quot;Müller Vendégház&quot; HELY=&quot;Dél-Somogy&quot; CSILLAGOK_SZAMA=&quot;0&quot; TIPUS=&quot;vendégház&quot; ROGZITETTE=&quot;Béla&quot; ROGZ_IDO=&quot;2016-04-07&quot; CIM=&quot;7570 Barcs, Magyar u. 10.&quot;/&gt;</td></tr>",
                            "</table>"
                        ]
                    }
                }
            ],
            "execution_count": 2
        }
    ]
}