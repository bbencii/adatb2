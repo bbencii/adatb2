{
    "metadata": {
        "kernelspec": {
            "name": "SQL",
            "display_name": "SQL",
            "language": "sql"
        },
        "language_info": {
            "name": "sql",
            "version": ""
        },
        "extensions": {
            "azuredatastudio": {
                "version": 1,
                "views": []
            }
        }
    },
    "nbformat_minor": 2,
    "nbformat": 4,
    "cells": [
        {
            "cell_type": "markdown",
            "source": [
                "1\\. Melyek azok a termékek, amelyek neve az átlagosnál hosszabb?\n",
                "\n",
                "Csak a termékek kódja és megnevezése jelenjen meg!"
            ],
            "metadata": {
                "azdata_cell_guid": "f004310c-ceaa-4ddf-907b-7834e35ab5da"
            },
            "attachments": {}
        },
        {
            "cell_type": "code",
            "source": [
                "select termekkod, megnevezes from Termek\r\n",
                "where len(megnevezes) > (select avg(len(megnevezes)) from Termek)"
            ],
            "metadata": {
                "azdata_cell_guid": "746d20da-a635-45a1-b7aa-d76bed204160"
            },
            "outputs": [
                {
                    "output_type": "display_data",
                    "data": {
                        "text/html": "(266 rows affected)"
                    },
                    "metadata": {}
                },
                {
                    "output_type": "display_data",
                    "data": {
                        "text/html": "Total execution time: 00:00:00.056"
                    },
                    "metadata": {}
                },
                {
                    "output_type": "execute_result",
                    "execution_count": 12,
                    "data": {
                        "application/vnd.dataresource+json": {
                            "schema": {
                                "fields": [
                                    {
                                        "name": "termekkod"
                                    },
                                    {
                                        "name": "megnevezes"
                                    }
                                ]
                            },
                            "data": [
                                {
                                    "0": "01010001T",
                                    "1": "félfamentes rajzlap A4 (10 lap)"
                                },
                                {
                                    "0": "01010110T",
                                    "1": "Fotópapír A/4 fényes"
                                },
                                {
                                    "0": "01010304T",
                                    "1": "Öntapadós hologramos papír A/4"
                                },
                                {
                                    "0": "01020299T",
                                    "1": "Oklevél A/4 egyszínű"
                                },
                                {
                                    "0": "01080513T",
                                    "1": "Selyemfényű karton A/4"
                                },
                                {
                                    "0": "01090498T",
                                    "1": "Műnyomó 300g 17,5*20"
                                },
                                {
                                    "0": "01090499T",
                                    "1": "Color Copy A/4 250 g"
                                },
                                {
                                    "0": "01090500T",
                                    "1": "Color Copy A4 200 g"
                                },
                                {
                                    "0": "01090515T",
                                    "1": "Színes A/3 160 gr IQ"
                                },
                                {
                                    "0": "01100071T",
                                    "1": "Dekorációs karton arany, ezüst"
                                },
                                {
                                    "0": "01100072T",
                                    "1": "Dipa A/4 keretezett"
                                },
                                {
                                    "0": "01100094T",
                                    "1": "Fénymásoló papír DataCopy"
                                },
                                {
                                    "0": "01100095T",
                                    "1": "Fénymásoló papír GetCopy"
                                },
                                {
                                    "0": "01100096T",
                                    "1": "Fénymásoló papír Qconnect"
                                },
                                {
                                    "0": "01100496T",
                                    "1": "Színes másoló a/4 80g"
                                },
                                {
                                    "0": "01100497T",
                                    "1": "Color Copy 160 g-os "
                                },
                                {
                                    "0": "01100503T",
                                    "1": "Color Copy A4 120 g"
                                },
                                {
                                    "0": "02020037T",
                                    "1": "Bevételi pénztárbizonylat 3×25"
                                },
                                {
                                    "0": "02020245T",
                                    "1": "Kiadási pénztárbizonylat 2×25"
                                },
                                {
                                    "0": "02030040T",
                                    "1": "Boríték LA 4 francia"
                                },
                                {
                                    "0": "02030043T",
                                    "1": "Boríték légp. kicsi"
                                },
                                {
                                    "0": "02040025T",
                                    "1": "Álló irattartó karton"
                                },
                                {
                                    "0": "02040147T",
                                    "1": "Genotherm lefűzhető A/5"
                                },
                                {
                                    "0": "02040148T",
                                    "1": "Genotherm lefűzhető A4 10db-os"
                                },
                                {
                                    "0": "02040149T",
                                    "1": "Genotherm A4 10db-os"
                                },
                                {
                                    "0": "02040176T",
                                    "1": "Gyorsfűző dosszié fehér"
                                },
                                {
                                    "0": "02040194T",
                                    "1": "Hibajav.roll.Pritt 4,2mm"
                                },
                                {
                                    "0": "02040195T",
                                    "1": "Hibajavító ecsetes Aqua"
                                },
                                {
                                    "0": "02040196T",
                                    "1": "Hibajavító készlet Blanco"
                                },
                                {
                                    "0": "02040198T",
                                    "1": "Hibajavító roller 5 mm"
                                },
                                {
                                    "0": "02040199T",
                                    "1": "Hibajavító roller Pax"
                                },
                                {
                                    "0": "02040200T",
                                    "1": "Hibajavító Kores mini pen"
                                },
                                {
                                    "0": "02040207T",
                                    "1": "Iratgyűjtő ESSELTE ablakos"
                                },
                                {
                                    "0": "02040211T",
                                    "1": "Iratrendező ESSELTE"
                                },
                                {
                                    "0": "02040214T",
                                    "1": "Iromány fedél feles"
                                },
                                {
                                    "0": "02040295T",
                                    "1": "Notesz A/5 sima spirál"
                                },
                                {
                                    "0": "02040297T",
                                    "1": "Notesz sima spirál College"
                                },
                                {
                                    "0": "02040308T",
                                    "1": "Pénztárgépsz. 2 pl. nem öníró"
                                },
                                {
                                    "0": "02040309T",
                                    "1": "Pénztárgépszalag 2pl SC 57.5/60"
                                },
                                {
                                    "0": "02040506T",
                                    "1": "Fólia tasakos A4 125 mik."
                                },
                                {
                                    "0": "02040507T",
                                    "1": "Fólia tasakos A4 80 mik."
                                },
                                {
                                    "0": "02040508T",
                                    "1": "Fólia tasakos A4100 mik."
                                },
                                {
                                    "0": "02080433T",
                                    "1": "Ragasztószalag 19 mm-es"
                                },
                                {
                                    "0": "02080436T",
                                    "1": "Irattartó müa. boríték A/4"
                                },
                                {
                                    "0": "02080450T",
                                    "1": "Gémkapocs 28-as színes"
                                },
                                {
                                    "0": "02080455T",
                                    "1": "Festékpatron BCI-3BK"
                                },
                                {
                                    "0": "02080456T",
                                    "1": "Genoterm HERLITZ 10-es"
                                },
                                {
                                    "0": "03010342T",
                                    "1": "Ragasztószalag  TIXO"
                                },
                                {
                                    "0": "03010344T",
                                    "1": "Ragasztószalag nagy 12 mm"
                                },
                                {
                                    "0": "03010345T",
                                    "1": "Ragasztószalag széles barna"
                                },
                                {
                                    "0": "03050076T",
                                    "1": "Díszkötöző szalag metál nagy"
                                },
                                {
                                    "0": "03050077T",
                                    "1": "Diszkötöző szalag arany"
                                },
                                {
                                    "0": "03050078T",
                                    "1": "Díszkötöző szalag metál kicsi"
                                },
                                {
                                    "0": "03050079T",
                                    "1": "Díszkötöző szalag vékony"
                                },
                                {
                                    "0": "03050080T",
                                    "1": "Diszkötöző széles szalag"
                                },
                                {
                                    "0": "03050457T",
                                    "1": "Ajándék cs. tasak kicsi"
                                },
                                {
                                    "0": "03050458T",
                                    "1": "Ajándék cs. 2×100×70"
                                },
                                {
                                    "0": "03080003T",
                                    "1": "Ajándék cs. tasak italos"
                                },
                                {
                                    "0": "03080004T",
                                    "1": "Ajándék cs. tasak italos, fólia"
                                },
                                {
                                    "0": "03080005T",
                                    "1": "Ajándék cs. tasak virágos nagy"
                                },
                                {
                                    "0": "03080006T",
                                    "1": "Ajándék cs. tasak mintás kicsi"
                                },
                                {
                                    "0": "03080007T",
                                    "1": "Ajándék cs. tasak mintás nagy"
                                },
                                {
                                    "0": "03080008T",
                                    "1": "Ajándék cs. tasak kicsi"
                                },
                                {
                                    "0": "03080009T",
                                    "1": "Ajándék csom. 100x70 metál"
                                },
                                {
                                    "0": "03080010T",
                                    "1": "Ajándék csom. 150x70"
                                },
                                {
                                    "0": "03080011T",
                                    "1": "Ajándék cs. tasak közepes"
                                },
                                {
                                    "0": "03080012T",
                                    "1": "Ajándék csom. 200x70"
                                },
                                {
                                    "0": "03080013T",
                                    "1": "Ajándék csom. 50x70 húsvéti"
                                },
                                {
                                    "0": "03080014T",
                                    "1": "Ajándék csom. 70x50 metál"
                                },
                                {
                                    "0": "03080015T",
                                    "1": "Ajándék csom. gyűrt"
                                },
                                {
                                    "0": "03080017T",
                                    "1": "iskolai csomagoló papír"
                                },
                                {
                                    "0": "03080018T",
                                    "1": "Ajándék csom. gyűrt 50x70 "
                                },
                                {
                                    "0": "03080019T",
                                    "1": "Ajándék csom. Krepp"
                                },
                                {
                                    "0": "03080021T",
                                    "1": "Ajándék csom. vékony"
                                },
                                {
                                    "0": "03080030T",
                                    "1": "Ajándék cs. húsvéti 200x70"
                                },
                                {
                                    "0": "03080031T",
                                    "1": "Ajándék cs. húsvéti"
                                },
                                {
                                    "0": "03080437T",
                                    "1": "Ajándék csomagoló tasak"
                                },
                                {
                                    "0": "03080438T",
                                    "1": "Ajándék csomagoló tasak lézeres"
                                },
                                {
                                    "0": "04020445T",
                                    "1": "Határidő napló 2010-s"
                                },
                                {
                                    "0": "04030234T",
                                    "1": "Képeslap karácsonyi"
                                },
                                {
                                    "0": "04030235T",
                                    "1": "Képeslap karácsonyi borítékos"
                                },
                                {
                                    "0": "04030236T",
                                    "1": "Képeslap karácsonyi WD"
                                },
                                {
                                    "0": "04030239T",
                                    "1": "Képeslap stancolt szív"
                                },
                                {
                                    "0": "04030241T",
                                    "1": "Képeslap virágos +boríték"
                                },
                                {
                                    "0": "04030242T",
                                    "1": "Képeslap WD +boríték"
                                },
                                {
                                    "0": "04030243T",
                                    "1": "Képkirakó Dirib-darab"
                                },
                                {
                                    "0": "04030265T",
                                    "1": "Levélpapír szett natur, mintás"
                                },
                                {
                                    "0": "04030266T",
                                    "1": "Levélpapír szett virágos"
                                },
                                {
                                    "0": "04030287T",
                                    "1": "Műanyag foszforeszkáló állat"
                                },
                                {
                                    "0": "04030288T",
                                    "1": "Műanyag pohár 1 dl-es"
                                },
                                {
                                    "0": "04030289T",
                                    "1": "Műanyag pohár 5 cl-es"
                                },
                                {
                                    "0": "04050074T",
                                    "1": "Díszdoboz tollnak 2 db-os"
                                },
                                {
                                    "0": "04050075T",
                                    "1": "Díszdoboz tollnak 2 db-os keskeny"
                                },
                                {
                                    "0": "04050221T",
                                    "1": "Játékautó Blisteres"
                                },
                                {
                                    "0": "04050251T",
                                    "1": "Kulcstartó billiárd golyós"
                                },
                                {
                                    "0": "04050252T",
                                    "1": "Kulcstartó Csőrikés"
                                },
                                {
                                    "0": "04050254T",
                                    "1": "Kulcstartó intarziás állatos"
                                },
                                {
                                    "0": "04050255T",
                                    "1": "Kulcstartó mesefigurás"
                                },
                                {
                                    "0": "04050256T",
                                    "1": "Kulcstartó nagyítós"
                                },
                                {
                                    "0": "04080271T",
                                    "1": "Mappa PVC villámzáras"
                                },
                                {
                                    "0": "04080272T",
                                    "1": "Mappa PVC villámzáras  képes"
                                },
                                {
                                    "0": "04110227T",
                                    "1": "Képeslap  borítékos"
                                },
                                {
                                    "0": "04110228T",
                                    "1": "Képeslap \"Nászajándék\""
                                },
                                {
                                    "0": "04110231T",
                                    "1": "Képeslap humoros borítékos"
                                },
                                {
                                    "0": "04110232T",
                                    "1": "Képeslap humoros kaparós"
                                },
                                {
                                    "0": "04110275T",
                                    "1": "Matrica motoros kicsi"
                                },
                                {
                                    "0": "04110276T",
                                    "1": "Matrica Stickers nagy állatos"
                                },
                                {
                                    "0": "04110277T",
                                    "1": "Matrica Stickers szíves"
                                },
                                {
                                    "0": "04110278T",
                                    "1": "Matrica Test ékszer tattoo"
                                },
                                {
                                    "0": "04110280T",
                                    "1": "Matrica tetoválós kicsi"
                                },
                                {
                                    "0": "04110362T",
                                    "1": "Szalvéta gyűjtőknek"
                                },
                                {
                                    "0": "05010306T",
                                    "1": "Papízsebkendő,10db Szindy"
                                },
                                {
                                    "0": "05010369T",
                                    "1": "Szemetes zsák 60 literes"
                                },
                                {
                                    "0": "05080340T",
                                    "1": "Ragasztó, Technokol 35g kék"
                                },
                                {
                                    "0": "05080341T",
                                    "1": "Ragasztó, Technokol 35g piros"
                                },
                                {
                                    "0": "05110361T",
                                    "1": "Szalvéta Goma húsvéti"
                                },
                                {
                                    "0": "05110364T",
                                    "1": "Szalvéta kicsi virágos"
                                },
                                {
                                    "0": "06010082T",
                                    "1": "Ecset Centrum 10,11,12"
                                },
                                {
                                    "0": "06010083T",
                                    "1": "Ecset Centrum 7,8,9"
                                },
                                {
                                    "0": "06010114T",
                                    "1": "Füzet A/5 hangjegy 36/16"
                                },
                                {
                                    "0": "06010202T",
                                    "1": "Hurkapálca 10 db-os"
                                },
                                {
                                    "0": "06010305T",
                                    "1": "Papírcenti 100 cm-es"
                                },
                                {
                                    "0": "06010343T",
                                    "1": "Ragasztószalag 19 mm-es SCOTCH+ tépő"
                                },
                                {
                                    "0": "06010373T",
                                    "1": "Színes papír I.II-IV.V-VIII-ig"
                                },
                                {
                                    "0": "06010374T",
                                    "1": "Szorzótábla műanyag"
                                },
                                {
                                    "0": "06010375T",
                                    "1": "Szögmérő 180 fokos műa."
                                },
                                {
                                    "0": "06040172T",
                                    "1": "Gumis mappa csomagolt"
                                },
                                {
                                    "0": "06040173T",
                                    "1": "Gumis mappa fóliázott állatos"
                                },
                                {
                                    "0": "06040179T",
                                    "1": "Gyurma színes 200 g-os"
                                },
                                {
                                    "0": "06040180T",
                                    "1": "Gyurma színes natúr"
                                },
                                {
                                    "0": "06040182T",
                                    "1": "Gyűrűskönyv bet. A/4"
                                },
                                {
                                    "0": "06040183T",
                                    "1": "Gyűrűskönyv bet. A/5"
                                },
                                {
                                    "0": "06040184T",
                                    "1": "Gyűrűskönyv betét A/5"
                                },
                                {
                                    "0": "06040323T",
                                    "1": "Post-it 51×38 100 lapos"
                                },
                                {
                                    "0": "06040324T",
                                    "1": "Post-it 75×75 100 lapos"
                                },
                                {
                                    "0": "06040347T",
                                    "1": "Rajzlap A/4 10db ffam."
                                },
                                {
                                    "0": "06040350T",
                                    "1": "Regiszteres füzet A4"
                                },
                                {
                                    "0": "06040351T",
                                    "1": "Regiszteres füzet A5 Hightech"
                                },
                                {
                                    "0": "06040352T",
                                    "1": "Rovatolt papír 20 íves"
                                },
                                {
                                    "0": "06040354T",
                                    "1": "Sp.Füzet A/4  perforált, lyuk."
                                },
                                {
                                    "0": "06040378T",
                                    "1": "Szövegkiemelő vékony"
                                },
                                {
                                    "0": "06040381T",
                                    "1": "Szövegkiemelő Videotip"
                                },
                                {
                                    "0": "06040384T",
                                    "1": "Technika cs. I-II-III-IV"
                                },
                                {
                                    "0": "06040385T",
                                    "1": "Tempera szóló ezüst"
                                },
                                {
                                    "0": "06040386T",
                                    "1": "Tempera szóló színes"
                                },
                                {
                                    "0": "06040392T",
                                    "1": "Tolltartó 1 zipzáros"
                                },
                                {
                                    "0": "06040393T",
                                    "1": "Tolltartó 2 részes NG."
                                },
                                {
                                    "0": "06040395T",
                                    "1": "Tolltartó 2 zipzáros töltött"
                                },
                                {
                                    "0": "06040446T",
                                    "1": "Számológép tudományos"
                                },
                                {
                                    "0": "06050302T",
                                    "1": "Olló Tagit 18 cm-es"
                                },
                                {
                                    "0": "06080116T",
                                    "1": "Füzet A5 1-8 osz.-ig"
                                },
                                {
                                    "0": "06080117T",
                                    "1": "Füzetborító A/4 átlátszó"
                                },
                                {
                                    "0": "06080118T",
                                    "1": "Füzetborító átlátszó A5"
                                },
                                {
                                    "0": "06080119T",
                                    "1": "Füzetborító mesefig."
                                },
                                {
                                    "0": "06080120T",
                                    "1": "Füzetborító öntapadó kicsi"
                                },
                                {
                                    "0": "06080121T",
                                    "1": "Füzetborító öntapadó tekercses"
                                },
                                {
                                    "0": "06080122T",
                                    "1": "Füzetborító öntapadós nagy"
                                },
                                {
                                    "0": "06080123T",
                                    "1": "Füzettartó A/4 keménytáblás"
                                },
                                {
                                    "0": "06080124T",
                                    "1": "Füzettartó A/4 keménytáblás"
                                },
                                {
                                    "0": "06080125T",
                                    "1": "Füzettartó A/5 vastag"
                                },
                                {
                                    "0": "06080189T",
                                    "1": "Hegyező műanyag dupla"
                                },
                                {
                                    "0": "06080190T",
                                    "1": "Hegyező műanyag egyes"
                                },
                                {
                                    "0": "06080191T",
                                    "1": "Hegyező tartályos egyes"
                                },
                                {
                                    "0": "06080332T",
                                    "1": "Radírtoll betét ER100"
                                },
                                {
                                    "0": "06080333T",
                                    "1": "Radírtoll betét vastag"
                                },
                                {
                                    "0": "06080334T",
                                    "1": "Ragasztó szalag KORES "
                                },
                                {
                                    "0": "06080338T",
                                    "1": "Ragasztó kenőfejes Nebuló"
                                },
                                {
                                    "0": "06080407T",
                                    "1": "Vízfesték  12 színű nagy"
                                },
                                {
                                    "0": "06080409T",
                                    "1": "Vízfesték 12 színű kerek"
                                },
                                {
                                    "0": "06080410T",
                                    "1": "Vízfesték 12db-os kínai"
                                },
                                {
                                    "0": "06080411T",
                                    "1": "Vonalzó 15 cm-es ESSELTE"
                                },
                                {
                                    "0": "06080412T",
                                    "1": "Vonalzó 16 cm-es LIZZY"
                                },
                                {
                                    "0": "06080424T",
                                    "1": "Füzetborító A/4 mintás"
                                },
                                {
                                    "0": "07010137T",
                                    "1": "G.toll betét PAX tip."
                                },
                                {
                                    "0": "07010140T",
                                    "1": "G.toll betét Stabilo"
                                },
                                {
                                    "0": "07010142T",
                                    "1": "G.toll betét Zebra F-0.7"
                                },
                                {
                                    "0": "07010143T",
                                    "1": "G.toll betét Zebra H-0,7"
                                },
                                {
                                    "0": "07010144T",
                                    "1": "G.toll betét Zebra K-0,7"
                                },
                                {
                                    "0": "07010372T",
                                    "1": "Színes ceruza 12 szín"
                                },
                                {
                                    "0": "07030103T",
                                    "1": "Filctoll TINTEN PEN"
                                },
                                {
                                    "0": "07030104T",
                                    "1": "Filctoll vastag ARTIP"
                                },
                                {
                                    "0": "07030105T",
                                    "1": "Filctoll, alkoholos Centropen"
                                },
                                {
                                    "0": "07030106T",
                                    "1": "Filctoll, alkoholosOHP F-M-C"
                                },
                                {
                                    "0": "07030107T",
                                    "1": "Filctoll, textil Edding 4500"
                                },
                                {
                                    "0": "07040048T",
                                    "1": "Ceruza arany, ezüst"
                                },
                                {
                                    "0": "07040052T",
                                    "1": "Ceruza 2H-3B Koh-i-nor"
                                },
                                {
                                    "0": "07040056T",
                                    "1": "Ceruza piros-kék vékony"
                                },
                                {
                                    "0": "07040058T",
                                    "1": "Ceruza radíros kínai"
                                },
                                {
                                    "0": "07040060T",
                                    "1": "Ceruza stabilo swano"
                                },
                                {
                                    "0": "07040061T",
                                    "1": "Ceruza stabilo opera"
                                },
                                {
                                    "0": "07040098T",
                                    "1": "Filctoll document pen"
                                },
                                {
                                    "0": "07040099T",
                                    "1": "Filctoll Edding 750"
                                },
                                {
                                    "0": "07040100T",
                                    "1": "Filctoll Marvy alkoholos"
                                },
                                {
                                    "0": "07040101T",
                                    "1": "Filctoll permanent vastag"
                                },
                                {
                                    "0": "07040102T",
                                    "1": "Filctoll supra fine"
                                },
                                {
                                    "0": "07040128T",
                                    "1": "G. toll betét mini fém"
                                },
                                {
                                    "0": "07040131T",
                                    "1": "G. toll betét UNI lachnok Fine SA-7C"
                                },
                                {
                                    "0": "07040132T",
                                    "1": "G.toll betét csavaros"
                                },
                                {
                                    "0": "07040133T",
                                    "1": "G.toll betét görbe hegyű"
                                },
                                {
                                    "0": "07040134T",
                                    "1": "G.toll betét illatos"
                                },
                                {
                                    "0": "07040135T",
                                    "1": "G.toll betét Parker "
                                },
                                {
                                    "0": "07040165T",
                                    "1": "Golyóstoll UNI laknock"
                                },
                                {
                                    "0": "07040166T",
                                    "1": "Golyóstoll Zebra 301"
                                },
                                {
                                    "0": "07040167T",
                                    "1": "Golyóstoll Zebra mini"
                                },
                                {
                                    "0": "07040168T",
                                    "1": "Golyóstoll Zebra new hard"
                                },
                                {
                                    "0": "07040219T",
                                    "1": "Ironbél HI-POLIMER HB 0,7"
                                },
                                {
                                    "0": "07040257T",
                                    "1": "Lakk filc Edding 750"
                                },
                                {
                                    "0": "07040389T",
                                    "1": "Tintapatron 30 db-os kék"
                                },
                                {
                                    "0": "07040391T",
                                    "1": "Toll Centropen roller"
                                },
                                {
                                    "0": "07050464T",
                                    "1": "Szövegkiemelő Staedtler"
                                },
                                {
                                    "0": "07080063T",
                                    "1": "Ceruza szorzótáblás"
                                },
                                {
                                    "0": "07080151T",
                                    "1": "Golyóstoll + ceruza Twister 2in1"
                                },
                                {
                                    "0": "07080152T",
                                    "1": "Golyóstoll 3 funkciós "
                                },
                                {
                                    "0": "07080153T",
                                    "1": "Golyóstoll illatos ICO"
                                },
                                {
                                    "0": "07080154T",
                                    "1": "Golyóstoll INOXCROM"
                                },
                                {
                                    "0": "07080156T",
                                    "1": "Golyóstoll kupakos piros"
                                },
                                {
                                    "0": "07080157T",
                                    "1": "Golyóstoll Montex Hytone"
                                },
                                {
                                    "0": "07080158T",
                                    "1": "Golyóstoll Parker tokban"
                                },
                                {
                                    "0": "07080159T",
                                    "1": "Golyóstoll Pax tip."
                                },
                                {
                                    "0": "07080161T",
                                    "1": "Golyóstoll kétszínű"
                                },
                                {
                                    "0": "07080162T",
                                    "1": "Golyóstoll Stabilo piros"
                                },
                                {
                                    "0": "07080163T",
                                    "1": "Golyóstoll UNI átlátszó"
                                },
                                {
                                    "0": "07080164T",
                                    "1": "Golyóstoll UNI gumis"
                                },
                                {
                                    "0": "07080315T",
                                    "1": "Pixiron Handy műanyag"
                                },
                                {
                                    "0": "07080319T",
                                    "1": "Pixiron Pentel színes"
                                },
                                {
                                    "0": "07080421T",
                                    "1": "Zseléstoll Lizzy Card"
                                },
                                {
                                    "0": "07080466T",
                                    "1": "Golyóstoll Stabiló 308"
                                },
                                {
                                    "0": "07080467T",
                                    "1": "Golyóstoll kétfunkciós ICO"
                                },
                                {
                                    "0": "07080468T",
                                    "1": "Golyóstoll háromfunkciós"
                                },
                                {
                                    "0": "07080469T",
                                    "1": "Golyóstoll UNIBALL 07"
                                },
                                {
                                    "0": "07080470T",
                                    "1": "Golyóstoll háromszög"
                                },
                                {
                                    "0": "07080471T",
                                    "1": "Golyóstoll levélbontós"
                                },
                                {
                                    "0": "08070472T",
                                    "1": "A föld amelyen élünk - Európa földrajza"
                                },
                                {
                                    "0": "08070473T",
                                    "1": "A föld amelyen élünk - Távoli földrészek"
                                },
                                {
                                    "0": "08070474T",
                                    "1": "A föld amelyen élünk - Hazánk földrajza"
                                },
                                {
                                    "0": "08070475T",
                                    "1": "A föld amelyen élünk - munkafüzet"
                                },
                                {
                                    "0": "08070476T",
                                    "1": "Anyanyelvi gyakorló 2"
                                },
                                {
                                    "0": "08070477T",
                                    "1": "Anyanyelvi gyakorló 3"
                                },
                                {
                                    "0": "08070478T",
                                    "1": "Összefoglaló feladatgyüjtemény számtech."
                                },
                                {
                                    "0": "08070480T",
                                    "1": "Fizika 13 éveseknek"
                                },
                                {
                                    "0": "08070481T",
                                    "1": "Fizika munkafüzet 13 év."
                                },
                                {
                                    "0": "08070482T",
                                    "1": "Fizika munkafüzet 14 év."
                                },
                                {
                                    "0": "08070483T",
                                    "1": "Fizikai feladatok és tévedések"
                                },
                                {
                                    "0": "08070484T",
                                    "1": "Fogalmazás lépésről lépésre"
                                },
                                {
                                    "0": "08070485T",
                                    "1": "Jól felkészültem-e - Fizika"
                                },
                                {
                                    "0": "08070486T",
                                    "1": "Matematika gyakorló 2"
                                },
                                {
                                    "0": "08070487T",
                                    "1": "Matematika gyakorló 3"
                                },
                                {
                                    "0": "08070488T",
                                    "1": "Matematika gyakorló 4"
                                },
                                {
                                    "0": "08070491T",
                                    "1": "Szám.tech. kicsiknek"
                                },
                                {
                                    "0": "08070493T",
                                    "1": "Érettségi felv. fel. Matematika"
                                },
                                {
                                    "0": "08070494T",
                                    "1": "Érettségi felv. fel. Fizika"
                                },
                                {
                                    "0": "08070495T",
                                    "1": "Érettségi felv. fel. Biológia"
                                },
                                {
                                    "0": "F007-NA201",
                                    "1": "férfi farmer nadrág"
                                },
                                {
                                    "0": "F013-NA207",
                                    "1": "férfi szövet nadrág"
                                },
                                {
                                    "0": "G001-KB101",
                                    "1": "gyermek kabát (fiú)"
                                },
                                {
                                    "0": "G013-NA201",
                                    "1": "gyermek farmer nadrág (fiú)"
                                },
                                {
                                    "0": "G019-NA207",
                                    "1": "gyermek pamut nadrág (fiú)"
                                },
                                {
                                    "0": "G064-CI401",
                                    "1": "gyermek szandál (fiú)"
                                },
                                {
                                    "0": "G082-CI419",
                                    "1": "gyermek csizma (fiú)"
                                },
                                {
                                    "0": "L001-KB101",
                                    "1": "gyermek kabát (lány)"
                                },
                                {
                                    "0": "L013-NA201",
                                    "1": "gyermek farmer nadrág (lány)"
                                },
                                {
                                    "0": "L019-NA207",
                                    "1": "gyermek pamut nadrág (lány)"
                                },
                                {
                                    "0": "L048-PO218",
                                    "1": "gyermek póló (lány)"
                                },
                                {
                                    "0": "L064-CI401",
                                    "1": "gyermek szandál (lány)"
                                },
                                {
                                    "0": "L073-CI410",
                                    "1": "gyermek cipő (lány)"
                                },
                                {
                                    "0": "L082-CI419",
                                    "1": "gyermek csizma (lány)"
                                }
                            ]
                        },
                        "text/html": "<table><tr><th>termekkod</th><th>megnevezes</th></tr><tr><td>01010001T</td><td>félfamentes rajzlap A4 (10 lap)</td></tr><tr><td>01010110T</td><td>Fotópapír A/4 fényes</td></tr><tr><td>01010304T</td><td>Öntapadós hologramos papír A/4</td></tr><tr><td>01020299T</td><td>Oklevél A/4 egyszínű</td></tr><tr><td>01080513T</td><td>Selyemfényű karton A/4</td></tr><tr><td>01090498T</td><td>Műnyomó 300g 17,5*20</td></tr><tr><td>01090499T</td><td>Color Copy A/4 250 g</td></tr><tr><td>01090500T</td><td>Color Copy A4 200 g</td></tr><tr><td>01090515T</td><td>Színes A/3 160 gr IQ</td></tr><tr><td>01100071T</td><td>Dekorációs karton arany, ezüst</td></tr><tr><td>01100072T</td><td>Dipa A/4 keretezett</td></tr><tr><td>01100094T</td><td>Fénymásoló papír DataCopy</td></tr><tr><td>01100095T</td><td>Fénymásoló papír GetCopy</td></tr><tr><td>01100096T</td><td>Fénymásoló papír Qconnect</td></tr><tr><td>01100496T</td><td>Színes másoló a/4 80g</td></tr><tr><td>01100497T</td><td>Color Copy 160 g-os </td></tr><tr><td>01100503T</td><td>Color Copy A4 120 g</td></tr><tr><td>02020037T</td><td>Bevételi pénztárbizonylat 3×25</td></tr><tr><td>02020245T</td><td>Kiadási pénztárbizonylat 2×25</td></tr><tr><td>02030040T</td><td>Boríték LA 4 francia</td></tr><tr><td>02030043T</td><td>Boríték légp. kicsi</td></tr><tr><td>02040025T</td><td>Álló irattartó karton</td></tr><tr><td>02040147T</td><td>Genotherm lefűzhető A/5</td></tr><tr><td>02040148T</td><td>Genotherm lefűzhető A4 10db-os</td></tr><tr><td>02040149T</td><td>Genotherm A4 10db-os</td></tr><tr><td>02040176T</td><td>Gyorsfűző dosszié fehér</td></tr><tr><td>02040194T</td><td>Hibajav.roll.Pritt 4,2mm</td></tr><tr><td>02040195T</td><td>Hibajavító ecsetes Aqua</td></tr><tr><td>02040196T</td><td>Hibajavító készlet Blanco</td></tr><tr><td>02040198T</td><td>Hibajavító roller 5 mm</td></tr><tr><td>02040199T</td><td>Hibajavító roller Pax</td></tr><tr><td>02040200T</td><td>Hibajavító Kores mini pen</td></tr><tr><td>02040207T</td><td>Iratgyűjtő ESSELTE ablakos</td></tr><tr><td>02040211T</td><td>Iratrendező ESSELTE</td></tr><tr><td>02040214T</td><td>Iromány fedél feles</td></tr><tr><td>02040295T</td><td>Notesz A/5 sima spirál</td></tr><tr><td>02040297T</td><td>Notesz sima spirál College</td></tr><tr><td>02040308T</td><td>Pénztárgépsz. 2 pl. nem öníró</td></tr><tr><td>02040309T</td><td>Pénztárgépszalag 2pl SC 57.5/60</td></tr><tr><td>02040506T</td><td>Fólia tasakos A4 125 mik.</td></tr><tr><td>02040507T</td><td>Fólia tasakos A4 80 mik.</td></tr><tr><td>02040508T</td><td>Fólia tasakos A4100 mik.</td></tr><tr><td>02080433T</td><td>Ragasztószalag 19 mm-es</td></tr><tr><td>02080436T</td><td>Irattartó müa. boríték A/4</td></tr><tr><td>02080450T</td><td>Gémkapocs 28-as színes</td></tr><tr><td>02080455T</td><td>Festékpatron BCI-3BK</td></tr><tr><td>02080456T</td><td>Genoterm HERLITZ 10-es</td></tr><tr><td>03010342T</td><td>Ragasztószalag  TIXO</td></tr><tr><td>03010344T</td><td>Ragasztószalag nagy 12 mm</td></tr><tr><td>03010345T</td><td>Ragasztószalag széles barna</td></tr><tr><td>03050076T</td><td>Díszkötöző szalag metál nagy</td></tr><tr><td>03050077T</td><td>Diszkötöző szalag arany</td></tr><tr><td>03050078T</td><td>Díszkötöző szalag metál kicsi</td></tr><tr><td>03050079T</td><td>Díszkötöző szalag vékony</td></tr><tr><td>03050080T</td><td>Diszkötöző széles szalag</td></tr><tr><td>03050457T</td><td>Ajándék cs. tasak kicsi</td></tr><tr><td>03050458T</td><td>Ajándék cs. 2×100×70</td></tr><tr><td>03080003T</td><td>Ajándék cs. tasak italos</td></tr><tr><td>03080004T</td><td>Ajándék cs. tasak italos, fólia</td></tr><tr><td>03080005T</td><td>Ajándék cs. tasak virágos nagy</td></tr><tr><td>03080006T</td><td>Ajándék cs. tasak mintás kicsi</td></tr><tr><td>03080007T</td><td>Ajándék cs. tasak mintás nagy</td></tr><tr><td>03080008T</td><td>Ajándék cs. tasak kicsi</td></tr><tr><td>03080009T</td><td>Ajándék csom. 100x70 metál</td></tr><tr><td>03080010T</td><td>Ajándék csom. 150x70</td></tr><tr><td>03080011T</td><td>Ajándék cs. tasak közepes</td></tr><tr><td>03080012T</td><td>Ajándék csom. 200x70</td></tr><tr><td>03080013T</td><td>Ajándék csom. 50x70 húsvéti</td></tr><tr><td>03080014T</td><td>Ajándék csom. 70x50 metál</td></tr><tr><td>03080015T</td><td>Ajándék csom. gyűrt</td></tr><tr><td>03080017T</td><td>iskolai csomagoló papír</td></tr><tr><td>03080018T</td><td>Ajándék csom. gyűrt 50x70 </td></tr><tr><td>03080019T</td><td>Ajándék csom. Krepp</td></tr><tr><td>03080021T</td><td>Ajándék csom. vékony</td></tr><tr><td>03080030T</td><td>Ajándék cs. húsvéti 200x70</td></tr><tr><td>03080031T</td><td>Ajándék cs. húsvéti</td></tr><tr><td>03080437T</td><td>Ajándék csomagoló tasak</td></tr><tr><td>03080438T</td><td>Ajándék csomagoló tasak lézeres</td></tr><tr><td>04020445T</td><td>Határidő napló 2010-s</td></tr><tr><td>04030234T</td><td>Képeslap karácsonyi</td></tr><tr><td>04030235T</td><td>Képeslap karácsonyi borítékos</td></tr><tr><td>04030236T</td><td>Képeslap karácsonyi WD</td></tr><tr><td>04030239T</td><td>Képeslap stancolt szív</td></tr><tr><td>04030241T</td><td>Képeslap virágos +boríték</td></tr><tr><td>04030242T</td><td>Képeslap WD +boríték</td></tr><tr><td>04030243T</td><td>Képkirakó Dirib-darab</td></tr><tr><td>04030265T</td><td>Levélpapír szett natur, mintás</td></tr><tr><td>04030266T</td><td>Levélpapír szett virágos</td></tr><tr><td>04030287T</td><td>Műanyag foszforeszkáló állat</td></tr><tr><td>04030288T</td><td>Műanyag pohár 1 dl-es</td></tr><tr><td>04030289T</td><td>Műanyag pohár 5 cl-es</td></tr><tr><td>04050074T</td><td>Díszdoboz tollnak 2 db-os</td></tr><tr><td>04050075T</td><td>Díszdoboz tollnak 2 db-os keskeny</td></tr><tr><td>04050221T</td><td>Játékautó Blisteres</td></tr><tr><td>04050251T</td><td>Kulcstartó billiárd golyós</td></tr><tr><td>04050252T</td><td>Kulcstartó Csőrikés</td></tr><tr><td>04050254T</td><td>Kulcstartó intarziás állatos</td></tr><tr><td>04050255T</td><td>Kulcstartó mesefigurás</td></tr><tr><td>04050256T</td><td>Kulcstartó nagyítós</td></tr><tr><td>04080271T</td><td>Mappa PVC villámzáras</td></tr><tr><td>04080272T</td><td>Mappa PVC villámzáras  képes</td></tr><tr><td>04110227T</td><td>Képeslap  borítékos</td></tr><tr><td>04110228T</td><td>Képeslap &quot;Nászajándék&quot;</td></tr><tr><td>04110231T</td><td>Képeslap humoros borítékos</td></tr><tr><td>04110232T</td><td>Képeslap humoros kaparós</td></tr><tr><td>04110275T</td><td>Matrica motoros kicsi</td></tr><tr><td>04110276T</td><td>Matrica Stickers nagy állatos</td></tr><tr><td>04110277T</td><td>Matrica Stickers szíves</td></tr><tr><td>04110278T</td><td>Matrica Test ékszer tattoo</td></tr><tr><td>04110280T</td><td>Matrica tetoválós kicsi</td></tr><tr><td>04110362T</td><td>Szalvéta gyűjtőknek</td></tr><tr><td>05010306T</td><td>Papízsebkendő,10db Szindy</td></tr><tr><td>05010369T</td><td>Szemetes zsák 60 literes</td></tr><tr><td>05080340T</td><td>Ragasztó, Technokol 35g kék</td></tr><tr><td>05080341T</td><td>Ragasztó, Technokol 35g piros</td></tr><tr><td>05110361T</td><td>Szalvéta Goma húsvéti</td></tr><tr><td>05110364T</td><td>Szalvéta kicsi virágos</td></tr><tr><td>06010082T</td><td>Ecset Centrum 10,11,12</td></tr><tr><td>06010083T</td><td>Ecset Centrum 7,8,9</td></tr><tr><td>06010114T</td><td>Füzet A/5 hangjegy 36/16</td></tr><tr><td>06010202T</td><td>Hurkapálca 10 db-os</td></tr><tr><td>06010305T</td><td>Papírcenti 100 cm-es</td></tr><tr><td>06010343T</td><td>Ragasztószalag 19 mm-es SCOTCH+ tépő</td></tr><tr><td>06010373T</td><td>Színes papír I.II-IV.V-VIII-ig</td></tr><tr><td>06010374T</td><td>Szorzótábla műanyag</td></tr><tr><td>06010375T</td><td>Szögmérő 180 fokos műa.</td></tr><tr><td>06040172T</td><td>Gumis mappa csomagolt</td></tr><tr><td>06040173T</td><td>Gumis mappa fóliázott állatos</td></tr><tr><td>06040179T</td><td>Gyurma színes 200 g-os</td></tr><tr><td>06040180T</td><td>Gyurma színes natúr</td></tr><tr><td>06040182T</td><td>Gyűrűskönyv bet. A/4</td></tr><tr><td>06040183T</td><td>Gyűrűskönyv bet. A/5</td></tr><tr><td>06040184T</td><td>Gyűrűskönyv betét A/5</td></tr><tr><td>06040323T</td><td>Post-it 51×38 100 lapos</td></tr><tr><td>06040324T</td><td>Post-it 75×75 100 lapos</td></tr><tr><td>06040347T</td><td>Rajzlap A/4 10db ffam.</td></tr><tr><td>06040350T</td><td>Regiszteres füzet A4</td></tr><tr><td>06040351T</td><td>Regiszteres füzet A5 Hightech</td></tr><tr><td>06040352T</td><td>Rovatolt papír 20 íves</td></tr><tr><td>06040354T</td><td>Sp.Füzet A/4  perforált, lyuk.</td></tr><tr><td>06040378T</td><td>Szövegkiemelő vékony</td></tr><tr><td>06040381T</td><td>Szövegkiemelő Videotip</td></tr><tr><td>06040384T</td><td>Technika cs. I-II-III-IV</td></tr><tr><td>06040385T</td><td>Tempera szóló ezüst</td></tr><tr><td>06040386T</td><td>Tempera szóló színes</td></tr><tr><td>06040392T</td><td>Tolltartó 1 zipzáros</td></tr><tr><td>06040393T</td><td>Tolltartó 2 részes NG.</td></tr><tr><td>06040395T</td><td>Tolltartó 2 zipzáros töltött</td></tr><tr><td>06040446T</td><td>Számológép tudományos</td></tr><tr><td>06050302T</td><td>Olló Tagit 18 cm-es</td></tr><tr><td>06080116T</td><td>Füzet A5 1-8 osz.-ig</td></tr><tr><td>06080117T</td><td>Füzetborító A/4 átlátszó</td></tr><tr><td>06080118T</td><td>Füzetborító átlátszó A5</td></tr><tr><td>06080119T</td><td>Füzetborító mesefig.</td></tr><tr><td>06080120T</td><td>Füzetborító öntapadó kicsi</td></tr><tr><td>06080121T</td><td>Füzetborító öntapadó tekercses</td></tr><tr><td>06080122T</td><td>Füzetborító öntapadós nagy</td></tr><tr><td>06080123T</td><td>Füzettartó A/4 keménytáblás</td></tr><tr><td>06080124T</td><td>Füzettartó A/4 keménytáblás</td></tr><tr><td>06080125T</td><td>Füzettartó A/5 vastag</td></tr><tr><td>06080189T</td><td>Hegyező műanyag dupla</td></tr><tr><td>06080190T</td><td>Hegyező műanyag egyes</td></tr><tr><td>06080191T</td><td>Hegyező tartályos egyes</td></tr><tr><td>06080332T</td><td>Radírtoll betét ER100</td></tr><tr><td>06080333T</td><td>Radírtoll betét vastag</td></tr><tr><td>06080334T</td><td>Ragasztó szalag KORES </td></tr><tr><td>06080338T</td><td>Ragasztó kenőfejes Nebuló</td></tr><tr><td>06080407T</td><td>Vízfesték  12 színű nagy</td></tr><tr><td>06080409T</td><td>Vízfesték 12 színű kerek</td></tr><tr><td>06080410T</td><td>Vízfesték 12db-os kínai</td></tr><tr><td>06080411T</td><td>Vonalzó 15 cm-es ESSELTE</td></tr><tr><td>06080412T</td><td>Vonalzó 16 cm-es LIZZY</td></tr><tr><td>06080424T</td><td>Füzetborító A/4 mintás</td></tr><tr><td>07010137T</td><td>G.toll betét PAX tip.</td></tr><tr><td>07010140T</td><td>G.toll betét Stabilo</td></tr><tr><td>07010142T</td><td>G.toll betét Zebra F-0.7</td></tr><tr><td>07010143T</td><td>G.toll betét Zebra H-0,7</td></tr><tr><td>07010144T</td><td>G.toll betét Zebra K-0,7</td></tr><tr><td>07010372T</td><td>Színes ceruza 12 szín</td></tr><tr><td>07030103T</td><td>Filctoll TINTEN PEN</td></tr><tr><td>07030104T</td><td>Filctoll vastag ARTIP</td></tr><tr><td>07030105T</td><td>Filctoll, alkoholos Centropen</td></tr><tr><td>07030106T</td><td>Filctoll, alkoholosOHP F-M-C</td></tr><tr><td>07030107T</td><td>Filctoll, textil Edding 4500</td></tr><tr><td>07040048T</td><td>Ceruza arany, ezüst</td></tr><tr><td>07040052T</td><td>Ceruza 2H-3B Koh-i-nor</td></tr><tr><td>07040056T</td><td>Ceruza piros-kék vékony</td></tr><tr><td>07040058T</td><td>Ceruza radíros kínai</td></tr><tr><td>07040060T</td><td>Ceruza stabilo swano</td></tr><tr><td>07040061T</td><td>Ceruza stabilo opera</td></tr><tr><td>07040098T</td><td>Filctoll document pen</td></tr><tr><td>07040099T</td><td>Filctoll Edding 750</td></tr><tr><td>07040100T</td><td>Filctoll Marvy alkoholos</td></tr><tr><td>07040101T</td><td>Filctoll permanent vastag</td></tr><tr><td>07040102T</td><td>Filctoll supra fine</td></tr><tr><td>07040128T</td><td>G. toll betét mini fém</td></tr><tr><td>07040131T</td><td>G. toll betét UNI lachnok Fine SA-7C</td></tr><tr><td>07040132T</td><td>G.toll betét csavaros</td></tr><tr><td>07040133T</td><td>G.toll betét görbe hegyű</td></tr><tr><td>07040134T</td><td>G.toll betét illatos</td></tr><tr><td>07040135T</td><td>G.toll betét Parker </td></tr><tr><td>07040165T</td><td>Golyóstoll UNI laknock</td></tr><tr><td>07040166T</td><td>Golyóstoll Zebra 301</td></tr><tr><td>07040167T</td><td>Golyóstoll Zebra mini</td></tr><tr><td>07040168T</td><td>Golyóstoll Zebra new hard</td></tr><tr><td>07040219T</td><td>Ironbél HI-POLIMER HB 0,7</td></tr><tr><td>07040257T</td><td>Lakk filc Edding 750</td></tr><tr><td>07040389T</td><td>Tintapatron 30 db-os kék</td></tr><tr><td>07040391T</td><td>Toll Centropen roller</td></tr><tr><td>07050464T</td><td>Szövegkiemelő Staedtler</td></tr><tr><td>07080063T</td><td>Ceruza szorzótáblás</td></tr><tr><td>07080151T</td><td>Golyóstoll + ceruza Twister 2in1</td></tr><tr><td>07080152T</td><td>Golyóstoll 3 funkciós </td></tr><tr><td>07080153T</td><td>Golyóstoll illatos ICO</td></tr><tr><td>07080154T</td><td>Golyóstoll INOXCROM</td></tr><tr><td>07080156T</td><td>Golyóstoll kupakos piros</td></tr><tr><td>07080157T</td><td>Golyóstoll Montex Hytone</td></tr><tr><td>07080158T</td><td>Golyóstoll Parker tokban</td></tr><tr><td>07080159T</td><td>Golyóstoll Pax tip.</td></tr><tr><td>07080161T</td><td>Golyóstoll kétszínű</td></tr><tr><td>07080162T</td><td>Golyóstoll Stabilo piros</td></tr><tr><td>07080163T</td><td>Golyóstoll UNI átlátszó</td></tr><tr><td>07080164T</td><td>Golyóstoll UNI gumis</td></tr><tr><td>07080315T</td><td>Pixiron Handy műanyag</td></tr><tr><td>07080319T</td><td>Pixiron Pentel színes</td></tr><tr><td>07080421T</td><td>Zseléstoll Lizzy Card</td></tr><tr><td>07080466T</td><td>Golyóstoll Stabiló 308</td></tr><tr><td>07080467T</td><td>Golyóstoll kétfunkciós ICO</td></tr><tr><td>07080468T</td><td>Golyóstoll háromfunkciós</td></tr><tr><td>07080469T</td><td>Golyóstoll UNIBALL 07</td></tr><tr><td>07080470T</td><td>Golyóstoll háromszög</td></tr><tr><td>07080471T</td><td>Golyóstoll levélbontós</td></tr><tr><td>08070472T</td><td>A föld amelyen élünk - Európa földrajza</td></tr><tr><td>08070473T</td><td>A föld amelyen élünk - Távoli földrészek</td></tr><tr><td>08070474T</td><td>A föld amelyen élünk - Hazánk földrajza</td></tr><tr><td>08070475T</td><td>A föld amelyen élünk - munkafüzet</td></tr><tr><td>08070476T</td><td>Anyanyelvi gyakorló 2</td></tr><tr><td>08070477T</td><td>Anyanyelvi gyakorló 3</td></tr><tr><td>08070478T</td><td>Összefoglaló feladatgyüjtemény számtech.</td></tr><tr><td>08070480T</td><td>Fizika 13 éveseknek</td></tr><tr><td>08070481T</td><td>Fizika munkafüzet 13 év.</td></tr><tr><td>08070482T</td><td>Fizika munkafüzet 14 év.</td></tr><tr><td>08070483T</td><td>Fizikai feladatok és tévedések</td></tr><tr><td>08070484T</td><td>Fogalmazás lépésről lépésre</td></tr><tr><td>08070485T</td><td>Jól felkészültem-e - Fizika</td></tr><tr><td>08070486T</td><td>Matematika gyakorló 2</td></tr><tr><td>08070487T</td><td>Matematika gyakorló 3</td></tr><tr><td>08070488T</td><td>Matematika gyakorló 4</td></tr><tr><td>08070491T</td><td>Szám.tech. kicsiknek</td></tr><tr><td>08070493T</td><td>Érettségi felv. fel. Matematika</td></tr><tr><td>08070494T</td><td>Érettségi felv. fel. Fizika</td></tr><tr><td>08070495T</td><td>Érettségi felv. fel. Biológia</td></tr><tr><td>F007-NA201</td><td>férfi farmer nadrág</td></tr><tr><td>F013-NA207</td><td>férfi szövet nadrág</td></tr><tr><td>G001-KB101</td><td>gyermek kabát (fiú)</td></tr><tr><td>G013-NA201</td><td>gyermek farmer nadrág (fiú)</td></tr><tr><td>G019-NA207</td><td>gyermek pamut nadrág (fiú)</td></tr><tr><td>G064-CI401</td><td>gyermek szandál (fiú)</td></tr><tr><td>G082-CI419</td><td>gyermek csizma (fiú)</td></tr><tr><td>L001-KB101</td><td>gyermek kabát (lány)</td></tr><tr><td>L013-NA201</td><td>gyermek farmer nadrág (lány)</td></tr><tr><td>L019-NA207</td><td>gyermek pamut nadrág (lány)</td></tr><tr><td>L048-PO218</td><td>gyermek póló (lány)</td></tr><tr><td>L064-CI401</td><td>gyermek szandál (lány)</td></tr><tr><td>L073-CI410</td><td>gyermek cipő (lány)</td></tr><tr><td>L082-CI419</td><td>gyermek csizma (lány)</td></tr></table>"
                    },
                    "metadata": {}
                }
            ],
            "execution_count": 12
        },
        {
            "cell_type": "markdown",
            "source": [
                "2\\. Melyek azok a termékek, amelyekből ugyanannyi van készleten, mint dvd-ből?\n",
                "\n",
                "Csak a termékek kódja és megnevezése jelenjen meg!\n",
                "\n",
                "A Dvd ne szerepeljen a listában!"
            ],
            "metadata": {
                "azdata_cell_guid": "f6494534-2b52-4288-a52a-568d3c793b99"
            },
            "attachments": {}
        },
        {
            "cell_type": "code",
            "source": [
                "select termekkod, megnevezes from Termek\r\n",
                "where keszlet = (select keszlet from Termek where megnevezes = 'Dvd')\r\n",
                "and megnevezes <> 'Dvd'"
            ],
            "metadata": {
                "azdata_cell_guid": "344b7c13-f29e-46f3-82a3-2e6e70f48342"
            },
            "outputs": [
                {
                    "output_type": "display_data",
                    "data": {
                        "text/html": "(5 rows affected)"
                    },
                    "metadata": {}
                },
                {
                    "output_type": "display_data",
                    "data": {
                        "text/html": "Total execution time: 00:00:00.044"
                    },
                    "metadata": {}
                },
                {
                    "output_type": "execute_result",
                    "execution_count": 11,
                    "data": {
                        "application/vnd.dataresource+json": {
                            "schema": {
                                "fields": [
                                    {
                                        "name": "termekkod"
                                    },
                                    {
                                        "name": "megnevezes"
                                    }
                                ]
                            },
                            "data": [
                                {
                                    "0": "02080226T",
                                    "1": "Kapocskiszedő"
                                },
                                {
                                    "0": "03080015T",
                                    "1": "Ajándék csom. gyűrt"
                                },
                                {
                                    "0": "04030263T",
                                    "1": "Levélpapír szett"
                                },
                                {
                                    "0": "04050269T",
                                    "1": "Lufi hullámos"
                                },
                                {
                                    "0": "08070491T",
                                    "1": "Szám.tech. kicsiknek"
                                }
                            ]
                        },
                        "text/html": "<table><tr><th>termekkod</th><th>megnevezes</th></tr><tr><td>02080226T</td><td>Kapocskiszedő</td></tr><tr><td>03080015T</td><td>Ajándék csom. gyűrt</td></tr><tr><td>04030263T</td><td>Levélpapír szett</td></tr><tr><td>04050269T</td><td>Lufi hullámos</td></tr><tr><td>08070491T</td><td>Szám.tech. kicsiknek</td></tr></table>"
                    },
                    "metadata": {}
                }
            ],
            "execution_count": 11
        },
        {
            "cell_type": "markdown",
            "source": [
                "3\\. Melyek azok a raktárak, amelyekben nincs olyan termék, amelynek nevében a \n",
                "\n",
                "matrica szó benne van? A listában a raktárak minden adata jelenjen meg!"
            ],
            "metadata": {
                "azdata_cell_guid": "189fb98f-63c9-43d8-bfb6-b26744b06195"
            },
            "attachments": {}
        },
        {
            "cell_type": "code",
            "source": [
                "select * from Raktar where raktar_kod \r\n",
                "not in(select raktar_kod from termek where megnevezes like '%matrica%')"
            ],
            "metadata": {
                "azdata_cell_guid": "6a0c3400-7129-41f2-8332-b541455a5725"
            },
            "outputs": [
                {
                    "output_type": "display_data",
                    "data": {
                        "text/html": "(4 rows affected)"
                    },
                    "metadata": {}
                },
                {
                    "output_type": "display_data",
                    "data": {
                        "text/html": "Total execution time: 00:00:00.057"
                    },
                    "metadata": {}
                },
                {
                    "output_type": "execute_result",
                    "execution_count": 37,
                    "data": {
                        "application/vnd.dataresource+json": {
                            "schema": {
                                "fields": [
                                    {
                                        "name": "RAKTAR_KOD"
                                    },
                                    {
                                        "name": "RAKTAR_NEV"
                                    },
                                    {
                                        "name": "RAKTAR_CIM"
                                    }
                                ]
                            },
                            "data": [
                                {
                                    "0": "1",
                                    "1": "Kisfaludy",
                                    "2": "2135 Csörög Kisfaludy u. 55."
                                },
                                {
                                    "0": "2",
                                    "1": "Nagyszeben",
                                    "2": "1182 Budapest Nagyszeben u. 12."
                                },
                                {
                                    "0": "3",
                                    "1": "Toldy",
                                    "2": "1015 Budapest Toldy F. u. 58."
                                },
                                {
                                    "0": "4",
                                    "1": "KIS",
                                    "2": "1039 Budapest Madzsar J. u. 23."
                                }
                            ]
                        },
                        "text/html": "<table><tr><th>RAKTAR_KOD</th><th>RAKTAR_NEV</th><th>RAKTAR_CIM</th></tr><tr><td>1</td><td>Kisfaludy</td><td>2135 Csörög Kisfaludy u. 55.</td></tr><tr><td>2</td><td>Nagyszeben</td><td>1182 Budapest Nagyszeben u. 12.</td></tr><tr><td>3</td><td>Toldy</td><td>1015 Budapest Toldy F. u. 58.</td></tr><tr><td>4</td><td>KIS</td><td>1039 Budapest Madzsar J. u. 23.</td></tr></table>"
                    },
                    "metadata": {}
                }
            ],
            "execution_count": 37
        },
        {
            "cell_type": "markdown",
            "source": [
                "4. Mely nap(ok)on történt a legkevesebb megrendelés?"
            ],
            "metadata": {
                "azdata_cell_guid": "2ad2ab6b-37ef-4c49-b3d0-b0c30e88c7fe"
            },
            "attachments": {}
        },
        {
            "cell_type": "code",
            "source": [
                "select rend_datum\r\n",
                "from rendeles\r\n",
                "group by rend_datum\r\n",
                "order by count(1) asc\r\n",
                "offset 0 rows\r\n",
                "fetch next 1 rows only"
            ],
            "metadata": {
                "azdata_cell_guid": "70db8806-d4de-4ec2-b554-78efdc029c2b",
                "tags": []
            },
            "outputs": [
                {
                    "output_type": "display_data",
                    "data": {
                        "text/html": "(1 row affected)"
                    },
                    "metadata": {}
                },
                {
                    "output_type": "display_data",
                    "data": {
                        "text/html": "Total execution time: 00:00:00.060"
                    },
                    "metadata": {}
                },
                {
                    "output_type": "execute_result",
                    "execution_count": 34,
                    "data": {
                        "application/vnd.dataresource+json": {
                            "schema": {
                                "fields": [
                                    {
                                        "name": "rend_datum"
                                    }
                                ]
                            },
                            "data": [
                                {
                                    "0": "2017-01-27"
                                }
                            ]
                        },
                        "text/html": "<table><tr><th>rend_datum</th></tr><tr><td>2017-01-27</td></tr></table>"
                    },
                    "metadata": {}
                }
            ],
            "execution_count": 34
        },
        {
            "cell_type": "markdown",
            "source": [
                "5\\. Listázzuk azon termékek adatait, amelyek listaára saját raktárukban\n",
                "\n",
                "  a legkisebb!"
            ],
            "metadata": {
                "azdata_cell_guid": "a906538f-8a7d-43d5-b248-9a827c64c48a"
            },
            "attachments": {}
        },
        {
            "cell_type": "code",
            "source": [
                "select * from termek"
            ],
            "metadata": {
                "azdata_cell_guid": "85355aab-2aa3-4e21-91ab-0cb991d08145"
            },
            "outputs": [
                {
                    "output_type": "display_data",
                    "data": {
                        "text/html": "(551 rows affected)"
                    },
                    "metadata": {}
                },
                {
                    "output_type": "display_data",
                    "data": {
                        "text/html": "(9 rows affected)"
                    },
                    "metadata": {}
                },
                {
                    "output_type": "display_data",
                    "data": {
                        "text/html": "Total execution time: 00:00:00.348"
                    },
                    "metadata": {}
                },
                {
                    "output_type": "execute_result",
                    "execution_count": 41,
                    "data": {
                        "application/vnd.dataresource+json": {
                            "schema": {
                                "fields": [
                                    {
                                        "name": "TERMEKKOD"
                                    },
                                    {
                                        "name": "MEGNEVEZES"
                                    },
                                    {
                                        "name": "KAT_ID"
                                    },
                                    {
                                        "name": "LISTAAR"
                                    },
                                    {
                                        "name": "LEIRAS"
                                    },
                                    {
                                        "name": "RAKTAR_KOD"
                                    },
                                    {
                                        "name": "KESZLET"
                                    },
                                    {
                                        "name": "MEGYS"
                                    },
                                    {
                                        "name": "FELVITTE"
                                    },
                                    {
                                        "name": "FELVITEL"
                                    }
                                ]
                            },
                            "data": [
                                {
                                    "0": "01010001T",
                                    "1": "félfamentes rajzlap A4 (10 lap)",
                                    "2": "127",
                                    "3": "342",
                                    "4": "NULL",
                                    "5": "9",
                                    "6": "3000",
                                    "7": "csomag",
                                    "8": "Béla",
                                    "9": "2016-07-12"
                                },
                                {
                                    "0": "01010110T",
                                    "1": "Fotópapír A/4 fényes",
                                    "2": "44",
                                    "3": "30",
                                    "4": "NULL",
                                    "5": "9",
                                    "6": "200",
                                    "7": "db",
                                    "8": "Béla",
                                    "9": "2016-07-12"
                                },
                                {
                                    "0": "01010304T",
                                    "1": "Öntapadós hologramos papír A/4",
                                    "2": "112",
                                    "3": "59",
                                    "4": "NULL",
                                    "5": "8",
                                    "6": "1100",
                                    "7": "db",
                                    "8": "Sára",
                                    "9": "2016-07-11"
                                },
                                {
                                    "0": "01020299T",
                                    "1": "Oklevél A/4 egyszínű",
                                    "2": "110",
                                    "3": "48",
                                    "4": "NULL",
                                    "5": "9",
                                    "6": "6600",
                                    "7": "db",
                                    "8": "Béla",
                                    "9": "2016-07-07"
                                },
                                {
                                    "0": "01020300T",
                                    "1": "Oklevél A/4 színes",
                                    "2": "110",
                                    "3": "55",
                                    "4": "NULL",
                                    "5": "9",
                                    "6": "200",
                                    "7": "db",
                                    "8": "Béla",
                                    "9": "2016-07-12"
                                },
                                {
                                    "0": "01030091T",
                                    "1": "Emléklap A/5",
                                    "2": "33",
                                    "3": "26",
                                    "4": "NULL",
                                    "5": "7",
                                    "6": "200",
                                    "7": "db",
                                    "8": "Béla",
                                    "9": "2016-07-12"
                                },
                                {
                                    "0": "01030092T",
                                    "1": "Esküvői meghívó",
                                    "2": "98",
                                    "3": "59",
                                    "4": "NULL",
                                    "5": "9",
                                    "6": "100",
                                    "7": "db",
                                    "8": "Sára",
                                    "9": "2016-07-13"
                                },
                                {
                                    "0": "01040307T",
                                    "1": "Pausz papír A/4",
                                    "2": "115",
                                    "3": "15",
                                    "4": "NULL",
                                    "5": "8",
                                    "6": "200",
                                    "7": "ív",
                                    "8": "Sára",
                                    "9": "2016-07-13"
                                },
                                {
                                    "0": "01040502T",
                                    "1": "Előlap spirálhoz",
                                    "2": "31",
                                    "3": "25",
                                    "4": "NULL",
                                    "5": "5",
                                    "6": "100",
                                    "7": "db",
                                    "8": "Sára",
                                    "9": "2016-07-13"
                                },
                                {
                                    "0": "01080093T",
                                    "1": "Fax papír 15 m",
                                    "2": "34",
                                    "3": "161",
                                    "4": "NULL",
                                    "5": "9",
                                    "6": "300",
                                    "7": "db",
                                    "8": "Sára",
                                    "9": "2016-07-13"
                                },
                                {
                                    "0": "01080512T",
                                    "1": "Öntapadó A/4",
                                    "2": "112",
                                    "3": "4575",
                                    "4": "NULL",
                                    "5": "5",
                                    "6": "100",
                                    "7": "doboz",
                                    "8": "Sára",
                                    "9": "2016-07-13"
                                },
                                {
                                    "0": "01080513T",
                                    "1": "Selyemfényű karton A/4",
                                    "2": "83",
                                    "3": "38",
                                    "4": "NULL",
                                    "5": "8",
                                    "6": "100",
                                    "7": "ív",
                                    "8": "Sára",
                                    "9": "2016-07-11"
                                },
                                {
                                    "0": "01090498T",
                                    "1": "Műnyomó 300g 17,5*20",
                                    "2": "101",
                                    "3": "3",
                                    "4": "NULL",
                                    "5": "8",
                                    "6": "1800",
                                    "7": "ív",
                                    "8": "Mari",
                                    "9": "2016-07-06"
                                },
                                {
                                    "0": "01090499T",
                                    "1": "Color Copy A/4 250 g",
                                    "2": "21",
                                    "3": "15",
                                    "4": "NULL",
                                    "5": "6",
                                    "6": "1500",
                                    "7": "Ív",
                                    "8": "Sára",
                                    "9": "2016-07-09"
                                },
                                {
                                    "0": "01090500T",
                                    "1": "Color Copy A4 200 g",
                                    "2": "21",
                                    "3": "14",
                                    "4": "NULL",
                                    "5": "9",
                                    "6": "100",
                                    "7": "Ív",
                                    "8": "Béla",
                                    "9": "2016-07-04"
                                },
                                {
                                    "0": "01090501T",
                                    "1": "Kreatív A/4 300g ",
                                    "2": "90",
                                    "3": "4",
                                    "4": "NULL",
                                    "5": "8",
                                    "6": "100",
                                    "7": "Ív",
                                    "8": "Béla",
                                    "9": "2016-07-01"
                                },
                                {
                                    "0": "01090515T",
                                    "1": "Színes A/3 160 gr IQ",
                                    "2": "83",
                                    "3": "11",
                                    "4": "NULL",
                                    "5": "5",
                                    "6": "400",
                                    "7": "ív",
                                    "8": "Béla",
                                    "9": "2016-07-01"
                                },
                                {
                                    "0": "01090516T",
                                    "1": "Színes karton A4",
                                    "2": "83",
                                    "3": "25",
                                    "4": "NULL",
                                    "5": "9",
                                    "6": "1000",
                                    "7": "ív",
                                    "8": "Béla",
                                    "9": "2016-07-01"
                                },
                                {
                                    "0": "01090517T",
                                    "1": "Színes ofszet B/4",
                                    "2": "109",
                                    "3": "4",
                                    "4": "NULL",
                                    "5": "7",
                                    "6": "1000",
                                    "7": "ív",
                                    "8": "Béla",
                                    "9": "2016-07-01"
                                },
                                {
                                    "0": "01100070T",
                                    "1": "Dekorációs karton",
                                    "2": "83",
                                    "3": "73",
                                    "4": "NULL",
                                    "5": "5",
                                    "6": "600",
                                    "7": "ív",
                                    "8": "Béla",
                                    "9": "2016-07-05"
                                },
                                {
                                    "0": "01100071T",
                                    "1": "Dekorációs karton arany, ezüst",
                                    "2": "83",
                                    "3": "89",
                                    "4": "NULL",
                                    "5": "7",
                                    "6": "3100",
                                    "7": "ív",
                                    "8": "Sára",
                                    "9": "2016-07-06"
                                },
                                {
                                    "0": "01100072T",
                                    "1": "Dipa A/4 keretezett",
                                    "2": "26",
                                    "3": "9",
                                    "4": "NULL",
                                    "5": "9",
                                    "6": "400",
                                    "7": "ív",
                                    "8": "Sára",
                                    "9": "2016-07-06"
                                },
                                {
                                    "0": "01100094T",
                                    "1": "Fénymásoló papír DataCopy",
                                    "2": "36",
                                    "3": "845",
                                    "4": "NULL",
                                    "5": "9",
                                    "6": "300",
                                    "7": "csomag",
                                    "8": "Sára",
                                    "9": "2016-07-02"
                                },
                                {
                                    "0": "01100095T",
                                    "1": "Fénymásoló papír GetCopy",
                                    "2": "36",
                                    "3": "728",
                                    "4": "NULL",
                                    "5": "9",
                                    "6": "200",
                                    "7": "csomag",
                                    "8": "Sára",
                                    "9": "2016-07-01"
                                },
                                {
                                    "0": "01100096T",
                                    "1": "Fénymásoló papír Qconnect",
                                    "2": "36",
                                    "3": "728",
                                    "4": "NULL",
                                    "5": "5",
                                    "6": "500",
                                    "7": "csomag",
                                    "8": "Sára",
                                    "9": "2016-07-01"
                                },
                                {
                                    "0": "01100496T",
                                    "1": "Színes másoló a/4 80g",
                                    "2": "21",
                                    "3": "1500",
                                    "4": "NULL",
                                    "5": "5",
                                    "6": "300",
                                    "7": "csomag",
                                    "8": "Sára",
                                    "9": "2016-07-01"
                                },
                                {
                                    "0": "01100497T",
                                    "1": "Color Copy 160 g-os ",
                                    "2": "21",
                                    "3": "14",
                                    "4": "NULL",
                                    "5": "5",
                                    "6": "100",
                                    "7": "ív",
                                    "8": "Béla",
                                    "9": "2016-07-05"
                                },
                                {
                                    "0": "01100503T",
                                    "1": "Color Copy A4 120 g",
                                    "2": "21",
                                    "3": "10",
                                    "4": "NULL",
                                    "5": "6",
                                    "6": "900",
                                    "7": "ív",
                                    "8": "Béla",
                                    "9": "2016-07-05"
                                },
                                {
                                    "0": "01100504T",
                                    "1": "Fehér másoló A/3",
                                    "2": "36",
                                    "3": "1488",
                                    "4": "NULL",
                                    "5": "6",
                                    "6": "1000",
                                    "7": "csomag",
                                    "8": "Sára",
                                    "9": "2016-07-10"
                                },
                                {
                                    "0": "01100505T",
                                    "1": "Fehér másoló A/4",
                                    "2": "36",
                                    "3": "686",
                                    "4": "NULL",
                                    "5": "6",
                                    "6": "200",
                                    "7": "csomag",
                                    "8": "Sára",
                                    "9": "2016-07-10"
                                },
                                {
                                    "0": "01100509T",
                                    "1": "Márványos A/4",
                                    "2": "83",
                                    "3": "40",
                                    "4": "NULL",
                                    "5": "6",
                                    "6": "100",
                                    "7": "ív",
                                    "8": "Sára",
                                    "9": "2016-07-12"
                                },
                                {
                                    "0": "01100510T",
                                    "1": "Kreatív A/4 120g ",
                                    "2": "90",
                                    "3": "13",
                                    "4": "NULL",
                                    "5": "5",
                                    "6": "200",
                                    "7": "ív",
                                    "8": "Sára",
                                    "9": "2016-07-12"
                                },
                                {
                                    "0": "02010028T",
                                    "1": "Árazószalag ",
                                    "2": "10",
                                    "3": "106",
                                    "4": "NULL",
                                    "5": "9",
                                    "6": "100",
                                    "7": "db",
                                    "8": "Sára",
                                    "9": "2016-07-16"
                                },
                                {
                                    "0": "02020029T",
                                    "1": "Átírótömb A/6",
                                    "2": "11",
                                    "3": "115",
                                    "4": "NULL",
                                    "5": "8",
                                    "6": "200",
                                    "7": "db",
                                    "8": "Sára",
                                    "9": "2016-07-19"
                                },
                                {
                                    "0": "02020032T",
                                    "1": "Beírókönyv A5 ",
                                    "2": "13",
                                    "3": "133",
                                    "4": "NULL",
                                    "5": "8",
                                    "6": "200",
                                    "7": "db",
                                    "8": "Sára",
                                    "9": "2016-07-16"
                                },
                                {
                                    "0": "02020033T",
                                    "1": "Beírókönyv A4",
                                    "2": "13",
                                    "3": "328",
                                    "4": "NULL",
                                    "5": "5",
                                    "6": "100",
                                    "7": "db",
                                    "8": "Sára",
                                    "9": "2016-07-11"
                                },
                                {
                                    "0": "02020037T",
                                    "1": "Bevételi pénztárbizonylat 3×25",
                                    "2": "116",
                                    "3": "144",
                                    "4": "NULL",
                                    "5": "6",
                                    "6": "300",
                                    "7": "db",
                                    "8": "Sára",
                                    "9": "2016-07-11"
                                },
                                {
                                    "0": "02020245T",
                                    "1": "Kiadási pénztárbizonylat 2×25",
                                    "2": "116",
                                    "3": "103",
                                    "4": "NULL",
                                    "5": "7",
                                    "6": "400",
                                    "7": "db",
                                    "8": "Sára",
                                    "9": "2016-07-11"
                                },
                                {
                                    "0": "02020444T",
                                    "1": "Határidő napló A/6",
                                    "2": "62",
                                    "3": "464",
                                    "4": "NULL",
                                    "5": "9",
                                    "6": "2700",
                                    "7": "db",
                                    "8": "Sára",
                                    "9": "2016-07-11"
                                },
                                {
                                    "0": "02030040T",
                                    "1": "Boríték LA 4 francia",
                                    "2": "16",
                                    "3": "6",
                                    "4": "NULL",
                                    "5": "6",
                                    "6": "100",
                                    "7": "db",
                                    "8": "Sára",
                                    "9": "2016-07-11"
                                },
                                {
                                    "0": "02030041T",
                                    "1": "Boríték LC 5",
                                    "2": "16",
                                    "3": "6",
                                    "4": "NULL",
                                    "5": "9",
                                    "6": "2000",
                                    "7": "db",
                                    "8": "Mari",
                                    "9": "2016-07-12"
                                },
                                {
                                    "0": "02030042T",
                                    "1": "Boríték LC 6",
                                    "2": "16",
                                    "3": "3",
                                    "4": "NULL",
                                    "5": "6",
                                    "6": "2000",
                                    "7": "db",
                                    "8": "Mari",
                                    "9": "2016-07-15"
                                },
                                {
                                    "0": "02030043T",
                                    "1": "Boríték légp. kicsi",
                                    "2": "16",
                                    "3": "39",
                                    "4": "NULL",
                                    "5": "7",
                                    "6": "2500",
                                    "7": "db",
                                    "8": "Sára",
                                    "9": "2016-07-20"
                                },
                                {
                                    "0": "02030044T",
                                    "1": "Boríték mintás",
                                    "2": "16",
                                    "3": "15",
                                    "4": "NULL",
                                    "5": "6",
                                    "6": "10000",
                                    "7": "db",
                                    "8": "Béla",
                                    "9": "2016-07-23"
                                },
                                {
                                    "0": "02040002T",
                                    "1": "irodai tűzőgép",
                                    "2": "149",
                                    "3": "2100",
                                    "4": "NULL",
                                    "5": "6",
                                    "6": "10000",
                                    "7": "db",
                                    "8": "Béla",
                                    "9": "2016-07-23"
                                },
                                {
                                    "0": "02040025T",
                                    "1": "Álló irattartó karton",
                                    "2": "70",
                                    "3": "133",
                                    "4": "NULL",
                                    "5": "8",
                                    "6": "200",
                                    "7": "db",
                                    "8": "Béla",
                                    "9": "2016-07-23"
                                },
                                {
                                    "0": "02040145T",
                                    "1": "Gemkapocs 28 mm",
                                    "2": "48",
                                    "3": "30",
                                    "4": "NULL",
                                    "5": "8",
                                    "6": "400",
                                    "7": "db",
                                    "8": "Béla",
                                    "9": "2016-07-23"
                                },
                                {
                                    "0": "02040146T",
                                    "1": "Gemkapocs ICO",
                                    "2": "48",
                                    "3": "48",
                                    "4": "NULL",
                                    "5": "7",
                                    "6": "3200",
                                    "7": "db",
                                    "8": "Béla",
                                    "9": "2016-07-23"
                                },
                                {
                                    "0": "02040147T",
                                    "1": "Genotherm lefűzhető A/5",
                                    "2": "51",
                                    "3": "8",
                                    "4": "NULL",
                                    "5": "8",
                                    "6": "1500",
                                    "7": "db",
                                    "8": "Béla",
                                    "9": "2016-07-23"
                                },
                                {
                                    "0": "02040148T",
                                    "1": "Genotherm lefűzhető A4 10db-os",
                                    "2": "51",
                                    "3": "63",
                                    "4": "NULL",
                                    "5": "9",
                                    "6": "200",
                                    "7": "csomag",
                                    "8": "Béla",
                                    "9": "2016-07-18"
                                },
                                {
                                    "0": "02040149T",
                                    "1": "Genotherm A4 10db-os",
                                    "2": "51",
                                    "3": "110",
                                    "4": "NULL",
                                    "5": "7",
                                    "6": "4700",
                                    "7": "csomag",
                                    "8": "Béla",
                                    "9": "2016-07-18"
                                },
                                {
                                    "0": "02040176T",
                                    "1": "Gyorsfűző dosszié fehér",
                                    "2": "58",
                                    "3": "18",
                                    "4": "NULL",
                                    "5": "7",
                                    "6": "1200",
                                    "7": "db",
                                    "8": "Sára",
                                    "9": "2016-07-23"
                                },
                                {
                                    "0": "02040177T",
                                    "1": "Gyorsfűző műa.",
                                    "2": "58",
                                    "3": "30",
                                    "4": "NULL",
                                    "5": "5",
                                    "6": "200",
                                    "7": "db",
                                    "8": "Béla",
                                    "9": "2016-07-21"
                                },
                                {
                                    "0": "02040178T",
                                    "1": "Gyorsfűző műa.",
                                    "2": "58",
                                    "3": "35",
                                    "4": "NULL",
                                    "5": "8",
                                    "6": "1000",
                                    "7": "db",
                                    "8": "Béla",
                                    "9": "2016-07-21"
                                },
                                {
                                    "0": "02040194T",
                                    "1": "Hibajav.roll.Pritt 4,2mm",
                                    "2": "66",
                                    "3": "794",
                                    "4": "NULL",
                                    "5": "8",
                                    "6": "500",
                                    "7": "db",
                                    "8": "Béla",
                                    "9": "2016-07-21"
                                },
                                {
                                    "0": "02040195T",
                                    "1": "Hibajavító ecsetes Aqua",
                                    "2": "66",
                                    "3": "185",
                                    "4": "NULL",
                                    "5": "5",
                                    "6": "400",
                                    "7": "db",
                                    "8": "Béla",
                                    "9": "2016-07-19"
                                },
                                {
                                    "0": "02040196T",
                                    "1": "Hibajavító készlet Blanco",
                                    "2": "66",
                                    "3": "273",
                                    "4": "NULL",
                                    "5": "7",
                                    "6": "100",
                                    "7": "db",
                                    "8": "Béla",
                                    "9": "2016-07-19"
                                },
                                {
                                    "0": "02040197T",
                                    "1": "Hibajavító lap ",
                                    "2": "66",
                                    "3": "81",
                                    "4": "NULL",
                                    "5": "9",
                                    "6": "100",
                                    "7": "db",
                                    "8": "Béla",
                                    "9": "2016-07-19"
                                },
                                {
                                    "0": "02040198T",
                                    "1": "Hibajavító roller 5 mm",
                                    "2": "66",
                                    "3": "133",
                                    "4": "NULL",
                                    "5": "7",
                                    "6": "200",
                                    "7": "db",
                                    "8": "Béla",
                                    "9": "2016-07-19"
                                },
                                {
                                    "0": "02040199T",
                                    "1": "Hibajavító roller Pax",
                                    "2": "66",
                                    "3": "286",
                                    "4": "NULL",
                                    "5": "7",
                                    "6": "300",
                                    "7": "db",
                                    "8": "Béla",
                                    "9": "2016-07-19"
                                },
                                {
                                    "0": "02040200T",
                                    "1": "Hibajavító Kores mini pen",
                                    "2": "66",
                                    "3": "278",
                                    "4": "NULL",
                                    "5": "6",
                                    "6": "300",
                                    "7": "db",
                                    "8": "Mari",
                                    "9": "2016-07-14"
                                },
                                {
                                    "0": "02040206T",
                                    "1": "Írásvetítő fólia",
                                    "2": "155",
                                    "3": "81",
                                    "4": "NULL",
                                    "5": "8",
                                    "6": "100",
                                    "7": "db",
                                    "8": "Mari",
                                    "9": "2016-07-14"
                                },
                                {
                                    "0": "02040207T",
                                    "1": "Iratgyűjtő ESSELTE ablakos",
                                    "2": "70",
                                    "3": "19",
                                    "4": "NULL",
                                    "5": "6",
                                    "6": "1500",
                                    "7": "db",
                                    "8": "Mari",
                                    "9": "2016-07-14"
                                },
                                {
                                    "0": "02040208T",
                                    "1": "Iratgyűjtő fehér",
                                    "2": "70",
                                    "3": "19",
                                    "4": "NULL",
                                    "5": "8",
                                    "6": "400",
                                    "7": "db",
                                    "8": "Mari",
                                    "9": "2016-07-19"
                                },
                                {
                                    "0": "02040209T",
                                    "1": "Iratsín fehér",
                                    "2": "72",
                                    "3": "44",
                                    "4": "NULL",
                                    "5": "7",
                                    "6": "600",
                                    "7": "db",
                                    "8": "Mari",
                                    "9": "2016-07-19"
                                },
                                {
                                    "0": "02040210T",
                                    "1": "Iratsín kék",
                                    "2": "72",
                                    "3": "89",
                                    "4": "NULL",
                                    "5": "6",
                                    "6": "2500",
                                    "7": "db",
                                    "8": "Mari",
                                    "9": "2016-07-19"
                                },
                                {
                                    "0": "02040211T",
                                    "1": "Iratrendező ESSELTE",
                                    "2": "71",
                                    "3": "243",
                                    "4": "NULL",
                                    "5": "9",
                                    "6": "700",
                                    "7": "db",
                                    "8": "Béla",
                                    "9": "2016-07-14"
                                },
                                {
                                    "0": "02040214T",
                                    "1": "Iromány fedél feles",
                                    "2": "74",
                                    "3": "59",
                                    "4": "NULL",
                                    "5": "5",
                                    "6": "300",
                                    "7": "db",
                                    "8": "Mari",
                                    "9": "2016-07-11"
                                },
                                {
                                    "0": "02040290T",
                                    "1": "Naptár 24-es",
                                    "2": "103",
                                    "3": "89",
                                    "4": "NULL",
                                    "5": "8",
                                    "6": "300",
                                    "7": "db",
                                    "8": "Mari",
                                    "9": "2016-07-10"
                                },
                                {
                                    "0": "02040291T",
                                    "1": "Naptárhát kicsi",
                                    "2": "104",
                                    "3": "15",
                                    "4": "NULL",
                                    "5": "8",
                                    "6": "1400",
                                    "7": "db",
                                    "8": "Mari",
                                    "9": "2016-07-10"
                                },
                                {
                                    "0": "02040292T",
                                    "1": "Naptárhát nagy",
                                    "2": "104",
                                    "3": "78",
                                    "4": "NULL",
                                    "5": "9",
                                    "6": "6900",
                                    "7": "db",
                                    "8": "Sára",
                                    "9": "2016-07-09"
                                },
                                {
                                    "0": "02040293T",
                                    "1": "Névjegytartó kicsi",
                                    "2": "105",
                                    "3": "310",
                                    "4": "NULL",
                                    "5": "9",
                                    "6": "9000",
                                    "7": "db",
                                    "8": "Sára",
                                    "9": "2016-07-09"
                                },
                                {
                                    "0": "02040294T",
                                    "1": "Notesz A/5 sima",
                                    "2": "106",
                                    "3": "103",
                                    "4": "NULL",
                                    "5": "5",
                                    "6": "300",
                                    "7": "db",
                                    "8": "Béla",
                                    "9": "2016-07-07"
                                },
                                {
                                    "0": "02040295T",
                                    "1": "Notesz A/5 sima spirál",
                                    "2": "106",
                                    "3": "89",
                                    "4": "NULL",
                                    "5": "9",
                                    "6": "4100",
                                    "7": "db",
                                    "8": "Mari",
                                    "9": "2016-07-11"
                                },
                                {
                                    "0": "02040296T",
                                    "1": "Notesz A/6 College",
                                    "2": "106",
                                    "3": "56",
                                    "4": "NULL",
                                    "5": "6",
                                    "6": "2000",
                                    "7": "db",
                                    "8": "Mari",
                                    "9": "2016-07-14"
                                },
                                {
                                    "0": "02040297T",
                                    "1": "Notesz sima spirál College",
                                    "2": "106",
                                    "3": "103",
                                    "4": "NULL",
                                    "5": "9",
                                    "6": "1900",
                                    "7": "db",
                                    "8": "Mari",
                                    "9": "2016-07-14"
                                },
                                {
                                    "0": "02040298T",
                                    "1": "Notesz mintás",
                                    "2": "106",
                                    "3": "44",
                                    "4": "NULL",
                                    "5": "6",
                                    "6": "300",
                                    "7": "db",
                                    "8": "Mari",
                                    "9": "2016-07-14"
                                },
                                {
                                    "0": "02040308T",
                                    "1": "Pénztárgépsz. 2 pl. nem öníró",
                                    "2": "117",
                                    "3": "81",
                                    "4": "NULL",
                                    "5": "9",
                                    "6": "300",
                                    "7": "db",
                                    "8": "Mari",
                                    "9": "2016-07-16"
                                },
                                {
                                    "0": "02040309T",
                                    "1": "Pénztárgépszalag 2pl SC 57.5/60",
                                    "2": "117",
                                    "3": "93",
                                    "4": "NULL",
                                    "5": "6",
                                    "6": "100",
                                    "7": "db",
                                    "8": "Mari",
                                    "9": "2016-07-16"
                                },
                                {
                                    "0": "02040401T",
                                    "1": "Tűzőgép Boxer 10",
                                    "2": "149",
                                    "3": "339",
                                    "4": "NULL",
                                    "5": "8",
                                    "6": "300",
                                    "7": "db",
                                    "8": "Mari",
                                    "9": "2016-07-21"
                                },
                                {
                                    "0": "02040402T",
                                    "1": "Tűzőgép Boxer ",
                                    "2": "149",
                                    "3": "286",
                                    "4": "NULL",
                                    "5": "5",
                                    "6": "900",
                                    "7": "db",
                                    "8": "Mari",
                                    "9": "2016-07-21"
                                },
                                {
                                    "0": "02040403T",
                                    "1": "Tűzőgép SAX 239",
                                    "2": "149",
                                    "3": "1351",
                                    "4": "NULL",
                                    "5": "5",
                                    "6": "1100",
                                    "7": "db",
                                    "8": "Mari",
                                    "9": "2016-07-21"
                                },
                                {
                                    "0": "02040404T",
                                    "1": "Tűzőgép EAGLE",
                                    "2": "149",
                                    "3": "405",
                                    "4": "NULL",
                                    "5": "8",
                                    "6": "300",
                                    "7": "db",
                                    "8": "Mari",
                                    "9": "2016-07-21"
                                },
                                {
                                    "0": "02040405T",
                                    "1": "Tűzőkapocs 10-es",
                                    "2": "150",
                                    "3": "44",
                                    "4": "NULL",
                                    "5": "7",
                                    "6": "300",
                                    "7": "csomag",
                                    "8": "Mari",
                                    "9": "2016-07-22"
                                },
                                {
                                    "0": "02040406T",
                                    "1": "Tűzőkapocs 24/6",
                                    "2": "150",
                                    "3": "34",
                                    "4": "NULL",
                                    "5": "9",
                                    "6": "4200",
                                    "7": "csomag",
                                    "8": "Mari",
                                    "9": "2016-07-21"
                                },
                                {
                                    "0": "02040506T",
                                    "1": "Fólia tasakos A4 125 mik.",
                                    "2": "43",
                                    "3": "44",
                                    "4": "NULL",
                                    "5": "9",
                                    "6": "100",
                                    "7": "ív",
                                    "8": "Mari",
                                    "9": "2016-07-24"
                                },
                                {
                                    "0": "02040507T",
                                    "1": "Fólia tasakos A4 80 mik.",
                                    "2": "43",
                                    "3": "40",
                                    "4": "NULL",
                                    "5": "8",
                                    "6": "100",
                                    "7": "ív",
                                    "8": "Mari",
                                    "9": "2016-07-23"
                                },
                                {
                                    "0": "02040508T",
                                    "1": "Fólia tasakos A4100 mik.",
                                    "2": "43",
                                    "3": "44",
                                    "4": "NULL",
                                    "5": "8",
                                    "6": "100",
                                    "7": "ív",
                                    "8": "Sára",
                                    "9": "2016-07-28"
                                },
                                {
                                    "0": "02050460T",
                                    "1": "Boríték C/4-es",
                                    "2": "16",
                                    "3": "15",
                                    "4": "NULL",
                                    "5": "5",
                                    "6": "200",
                                    "7": "db",
                                    "8": "Mari",
                                    "9": "2016-07-26"
                                },
                                {
                                    "0": "02050461T",
                                    "1": "Boríték B/4-es",
                                    "2": "16",
                                    "3": "18",
                                    "4": "NULL",
                                    "5": "8",
                                    "6": "100",
                                    "7": "db",
                                    "8": "Béla",
                                    "9": "2016-07-23"
                                },
                                {
                                    "0": "02060034T",
                                    "1": "Bélyegzőfesték ",
                                    "2": "15",
                                    "3": "297",
                                    "4": "NULL",
                                    "5": "9",
                                    "6": "700",
                                    "7": "db",
                                    "8": "Béla",
                                    "9": "2016-07-23"
                                },
                                {
                                    "0": "02060038T",
                                    "1": "Bélyegző IDEAL 50",
                                    "2": "14",
                                    "3": "780",
                                    "4": "NULL",
                                    "5": "8",
                                    "6": "100",
                                    "7": "db",
                                    "8": "Béla",
                                    "9": "2016-07-23"
                                },
                                {
                                    "0": "02060039T",
                                    "1": "Bélyegző párna",
                                    "2": "14",
                                    "3": "650",
                                    "4": "NULL",
                                    "5": "6",
                                    "6": "100",
                                    "7": "db",
                                    "8": "Béla",
                                    "9": "2016-07-26"
                                },
                                {
                                    "0": "02060447T",
                                    "1": "Bélyegző pocket",
                                    "2": "14",
                                    "3": "1377",
                                    "4": "NULL",
                                    "5": "6",
                                    "6": "900",
                                    "7": "db",
                                    "8": "Mari",
                                    "9": "2016-07-27"
                                },
                                {
                                    "0": "02060448T",
                                    "1": "Bélyegző RP 18-47",
                                    "2": "14",
                                    "3": "1147",
                                    "4": "NULL",
                                    "5": "7",
                                    "6": "1200",
                                    "7": "db",
                                    "8": "Sára",
                                    "9": "2016-07-29"
                                },
                                {
                                    "0": "02080069T",
                                    "1": "CD tartó tok",
                                    "2": "17",
                                    "3": "30",
                                    "4": "NULL",
                                    "5": "8",
                                    "6": "400",
                                    "7": "db",
                                    "8": "Sára",
                                    "9": "2016-07-29"
                                },
                                {
                                    "0": "02080081T",
                                    "1": "Dvd",
                                    "2": "29",
                                    "3": "133",
                                    "4": "NULL",
                                    "5": "9",
                                    "6": "1300",
                                    "7": "db",
                                    "8": "Sára",
                                    "9": "2016-07-24"
                                },
                                {
                                    "0": "02080109T",
                                    "1": "Floppy lemez",
                                    "2": "42",
                                    "3": "51",
                                    "4": "NULL",
                                    "5": "7",
                                    "6": "500",
                                    "7": "db",
                                    "8": "Mari",
                                    "9": "2016-07-27"
                                },
                                {
                                    "0": "02080226T",
                                    "1": "Kapocskiszedő",
                                    "2": "82",
                                    "3": "106",
                                    "4": "NULL",
                                    "5": "8",
                                    "6": "1300",
                                    "7": "db",
                                    "8": "Béla",
                                    "9": "2016-07-29"
                                },
                                {
                                    "0": "02080431T",
                                    "1": "Álló irattartó",
                                    "2": "73",
                                    "3": "214",
                                    "4": "NULL",
                                    "5": "8",
                                    "6": "200",
                                    "7": "db",
                                    "8": "Sára",
                                    "9": "2016-07-28"
                                },
                                {
                                    "0": "02080432T",
                                    "1": "Tokos iratrendező",
                                    "2": "71",
                                    "3": "259",
                                    "4": "NULL",
                                    "5": "5",
                                    "6": "1100",
                                    "7": "db",
                                    "8": "Sára",
                                    "9": "2016-07-28"
                                },
                                {
                                    "0": "02080433T",
                                    "1": "Ragasztószalag 19 mm-es",
                                    "2": "125",
                                    "3": "55",
                                    "4": "NULL",
                                    "5": "9",
                                    "6": "200",
                                    "7": "db",
                                    "8": "Sára",
                                    "9": "2016-07-28"
                                },
                                {
                                    "0": "02080434T",
                                    "1": "Mappa müa A/4",
                                    "2": "96",
                                    "3": "210",
                                    "4": "NULL",
                                    "5": "8",
                                    "6": "600",
                                    "7": "db",
                                    "8": "Mari",
                                    "9": "2016-07-26"
                                },
                                {
                                    "0": "02080435T",
                                    "1": "Mappa bemutató",
                                    "2": "96",
                                    "3": "184",
                                    "4": "NULL",
                                    "5": "9",
                                    "6": "10000",
                                    "7": "db",
                                    "8": "Sára",
                                    "9": "2016-07-28"
                                },
                                {
                                    "0": "02080436T",
                                    "1": "Irattartó müa. boríték A/4",
                                    "2": "73",
                                    "3": "66",
                                    "4": "NULL",
                                    "5": "7",
                                    "6": "800",
                                    "7": "db",
                                    "8": "Mari",
                                    "9": "2016-07-25"
                                },
                                {
                                    "0": "02080449T",
                                    "1": "Térképtű színes",
                                    "2": "142",
                                    "3": "103",
                                    "4": "NULL",
                                    "5": "6",
                                    "6": "100",
                                    "7": "csomag",
                                    "8": "Mari",
                                    "9": "2016-07-23"
                                },
                                {
                                    "0": "02080450T",
                                    "1": "Gémkapocs 28-as színes",
                                    "2": "49",
                                    "3": "44",
                                    "4": "NULL",
                                    "5": "8",
                                    "6": "200",
                                    "7": "csomag",
                                    "8": "Mari",
                                    "9": "2016-07-23"
                                },
                                {
                                    "0": "02080451T",
                                    "1": "Gémkapocs 50-es",
                                    "2": "49",
                                    "3": "103",
                                    "4": "NULL",
                                    "5": "5",
                                    "6": "100",
                                    "7": "csomag",
                                    "8": "Mari",
                                    "9": "2016-07-23"
                                },
                                {
                                    "0": "02080452T",
                                    "1": "Tűzőgép mini",
                                    "2": "149",
                                    "3": "438",
                                    "4": "NULL",
                                    "5": "6",
                                    "6": "200",
                                    "7": "db",
                                    "8": "Mari",
                                    "9": "2016-07-18"
                                },
                                {
                                    "0": "02080453T",
                                    "1": "Lyukasztó EAGLE",
                                    "2": "95",
                                    "3": "526",
                                    "4": "NULL",
                                    "5": "7",
                                    "6": "600",
                                    "7": "db",
                                    "8": "Mari",
                                    "9": "2016-07-19"
                                },
                                {
                                    "0": "02080454T",
                                    "1": "Lyukasztó BOXER",
                                    "2": "95",
                                    "3": "765",
                                    "4": "NULL",
                                    "5": "9",
                                    "6": "400",
                                    "7": "db",
                                    "8": "Sára",
                                    "9": "2016-07-24"
                                },
                                {
                                    "0": "02080455T",
                                    "1": "Festékpatron BCI-3BK",
                                    "2": "40",
                                    "3": "625",
                                    "4": "NULL",
                                    "5": "6",
                                    "6": "900",
                                    "7": "db",
                                    "8": "Mari",
                                    "9": "2016-07-22"
                                },
                                {
                                    "0": "02080456T",
                                    "1": "Genoterm HERLITZ 10-es",
                                    "2": "50",
                                    "3": "89",
                                    "4": "NULL",
                                    "5": "7",
                                    "6": "500",
                                    "7": "csomag",
                                    "8": "Béla",
                                    "9": "2016-07-21"
                                },
                                {
                                    "0": "02080511T",
                                    "1": "Oki toner C",
                                    "2": "147",
                                    "3": "14250",
                                    "4": "NULL",
                                    "5": "8",
                                    "6": "100",
                                    "7": "db",
                                    "8": "Béla",
                                    "9": "2016-07-20"
                                },
                                {
                                    "0": "02080514T",
                                    "1": "Spirál 1/4 ",
                                    "2": "131",
                                    "3": "45",
                                    "4": "NULL",
                                    "5": "9",
                                    "6": "300",
                                    "7": "db",
                                    "8": "Béla",
                                    "9": "2016-07-20"
                                },
                                {
                                    "0": "03010342T",
                                    "1": "Ragasztószalag  TIXO",
                                    "2": "125",
                                    "3": "15",
                                    "4": "NULL",
                                    "5": "9",
                                    "6": "100",
                                    "7": "db",
                                    "8": "Béla",
                                    "9": "2016-07-25"
                                },
                                {
                                    "0": "03010344T",
                                    "1": "Ragasztószalag nagy 12 mm",
                                    "2": "125",
                                    "3": "63",
                                    "4": "NULL",
                                    "5": "7",
                                    "6": "1100",
                                    "7": "db",
                                    "8": "Béla",
                                    "9": "2016-07-25"
                                },
                                {
                                    "0": "03010345T",
                                    "1": "Ragasztószalag széles barna",
                                    "2": "125",
                                    "3": "166",
                                    "4": "NULL",
                                    "5": "6",
                                    "6": "500",
                                    "7": "db",
                                    "8": "Béla",
                                    "9": "2016-07-25"
                                },
                                {
                                    "0": "03050076T",
                                    "1": "Díszkötöző szalag metál nagy",
                                    "2": "28",
                                    "3": "26",
                                    "4": "NULL",
                                    "5": "8",
                                    "6": "800",
                                    "7": "db",
                                    "8": "Béla",
                                    "9": "2016-07-25"
                                },
                                {
                                    "0": "03050077T",
                                    "1": "Diszkötöző szalag arany",
                                    "2": "28",
                                    "3": "44",
                                    "4": "NULL",
                                    "5": "8",
                                    "6": "100",
                                    "7": "db",
                                    "8": "Mari",
                                    "9": "2016-07-24"
                                },
                                {
                                    "0": "03050078T",
                                    "1": "Díszkötöző szalag metál kicsi",
                                    "2": "28",
                                    "3": "15",
                                    "4": "NULL",
                                    "5": "8",
                                    "6": "100",
                                    "7": "db",
                                    "8": "Mari",
                                    "9": "2016-07-21"
                                },
                                {
                                    "0": "03050079T",
                                    "1": "Díszkötöző szalag vékony",
                                    "2": "28",
                                    "3": "15",
                                    "4": "NULL",
                                    "5": "8",
                                    "6": "40000",
                                    "7": "db",
                                    "8": "Mari",
                                    "9": "2016-07-20"
                                },
                                {
                                    "0": "03050080T",
                                    "1": "Diszkötöző széles szalag",
                                    "2": "28",
                                    "3": "81",
                                    "4": "NULL",
                                    "5": "6",
                                    "6": "26000",
                                    "7": "db",
                                    "8": "Béla",
                                    "9": "2016-07-17"
                                },
                                {
                                    "0": "03050457T",
                                    "1": "Ajándék cs. tasak kicsi",
                                    "2": "6",
                                    "3": "26",
                                    "4": "NULL",
                                    "5": "6",
                                    "6": "50000",
                                    "7": "db",
                                    "8": "Béla",
                                    "9": "2016-07-17"
                                },
                                {
                                    "0": "03050458T",
                                    "1": "Ajándék cs. 2×100×70",
                                    "2": "6",
                                    "3": "148",
                                    "4": "NULL",
                                    "5": "7",
                                    "6": "8000",
                                    "7": "tekercs",
                                    "8": "Sára",
                                    "9": "2016-07-22"
                                },
                                {
                                    "0": "03050459T",
                                    "1": "Talpas tasak",
                                    "2": "6",
                                    "3": "40",
                                    "4": "NULL",
                                    "5": "8",
                                    "6": "2600",
                                    "7": "db",
                                    "8": "Sára",
                                    "9": "2016-07-22"
                                },
                                {
                                    "0": "03080003T",
                                    "1": "Ajándék cs. tasak italos",
                                    "2": "6",
                                    "3": "185",
                                    "4": "NULL",
                                    "5": "6",
                                    "6": "400",
                                    "7": "db",
                                    "8": "Sára",
                                    "9": "2016-07-22"
                                },
                                {
                                    "0": "03080004T",
                                    "1": "Ajándék cs. tasak italos, fólia",
                                    "2": "6",
                                    "3": "19",
                                    "4": "NULL",
                                    "5": "6",
                                    "6": "200",
                                    "7": "db",
                                    "8": "Sára",
                                    "9": "2016-07-22"
                                },
                                {
                                    "0": "03080005T",
                                    "1": "Ajándék cs. tasak virágos nagy",
                                    "2": "6",
                                    "3": "290",
                                    "4": "NULL",
                                    "5": "8",
                                    "6": "2500",
                                    "7": "db",
                                    "8": "Sára",
                                    "9": "2016-07-27"
                                },
                                {
                                    "0": "03080006T",
                                    "1": "Ajándék cs. tasak mintás kicsi",
                                    "2": "6",
                                    "3": "26",
                                    "4": "NULL",
                                    "5": "8",
                                    "6": "100",
                                    "7": "db",
                                    "8": "Mari",
                                    "9": "2016-07-31"
                                },
                                {
                                    "0": "03080007T",
                                    "1": "Ajándék cs. tasak mintás nagy",
                                    "2": "6",
                                    "3": "206",
                                    "4": "NULL",
                                    "5": "9",
                                    "6": "2000",
                                    "7": "db",
                                    "8": "Mari",
                                    "9": "2016-07-27"
                                },
                                {
                                    "0": "03080008T",
                                    "1": "Ajándék cs. tasak kicsi",
                                    "2": "6",
                                    "3": "103",
                                    "4": "NULL",
                                    "5": "7",
                                    "6": "2200",
                                    "7": "db",
                                    "8": "Mari",
                                    "9": "2016-07-27"
                                },
                                {
                                    "0": "03080009T",
                                    "1": "Ajándék csom. 100x70 metál",
                                    "2": "6",
                                    "3": "148",
                                    "4": "NULL",
                                    "5": "8",
                                    "6": "700",
                                    "7": "db",
                                    "8": "Mari",
                                    "9": "2016-07-27"
                                },
                                {
                                    "0": "03080010T",
                                    "1": "Ajándék csom. 150x70",
                                    "2": "6",
                                    "3": "206",
                                    "4": "NULL",
                                    "5": "9",
                                    "6": "1900",
                                    "7": "db",
                                    "8": "Mari",
                                    "9": "2016-07-30"
                                },
                                {
                                    "0": "03080011T",
                                    "1": "Ajándék cs. tasak közepes",
                                    "2": "6",
                                    "3": "148",
                                    "4": "NULL",
                                    "5": "6",
                                    "6": "2300",
                                    "7": "db",
                                    "8": "Mari",
                                    "9": "2016-07-28"
                                },
                                {
                                    "0": "03080012T",
                                    "1": "Ajándék csom. 200x70",
                                    "2": "6",
                                    "3": "125",
                                    "4": "NULL",
                                    "5": "8",
                                    "6": "300",
                                    "7": "db",
                                    "8": "Mari",
                                    "9": "2016-07-28"
                                },
                                {
                                    "0": "03080013T",
                                    "1": "Ajándék csom. 50x70 húsvéti",
                                    "2": "6",
                                    "3": "64",
                                    "4": "NULL",
                                    "5": "6",
                                    "6": "600",
                                    "7": "db",
                                    "8": "Béla",
                                    "9": "2016-07-23"
                                },
                                {
                                    "0": "03080014T",
                                    "1": "Ajándék csom. 70x50 metál",
                                    "2": "6",
                                    "3": "81",
                                    "4": "NULL",
                                    "5": "8",
                                    "6": "1000",
                                    "7": "db",
                                    "8": "Béla",
                                    "9": "2016-07-23"
                                },
                                {
                                    "0": "03080015T",
                                    "1": "Ajándék csom. gyűrt",
                                    "2": "6",
                                    "3": "169",
                                    "4": "NULL",
                                    "5": "9",
                                    "6": "1300",
                                    "7": "db",
                                    "8": "Béla",
                                    "9": "2016-07-24"
                                },
                                {
                                    "0": "03080016T",
                                    "1": "házt.csom.  5 ív",
                                    "2": "22",
                                    "3": "110",
                                    "4": "NULL",
                                    "5": "8",
                                    "6": "200",
                                    "7": "csomag",
                                    "8": "Béla",
                                    "9": "2016-07-24"
                                },
                                {
                                    "0": "03080017T",
                                    "1": "iskolai csomagoló papír",
                                    "2": "24",
                                    "3": "148",
                                    "4": "NULL",
                                    "5": "9",
                                    "6": "100",
                                    "7": "db",
                                    "8": "Sára",
                                    "9": "2016-07-29"
                                },
                                {
                                    "0": "03080018T",
                                    "1": "Ajándék csom. gyűrt 50x70 ",
                                    "2": "24",
                                    "3": "121",
                                    "4": "NULL",
                                    "5": "5",
                                    "6": "2600",
                                    "7": "ív",
                                    "8": "Sára",
                                    "9": "2016-07-29"
                                },
                                {
                                    "0": "03080019T",
                                    "1": "Ajándék csom. Krepp",
                                    "2": "24",
                                    "3": "56",
                                    "4": "NULL",
                                    "5": "5",
                                    "6": "600",
                                    "7": "db",
                                    "8": "Béla",
                                    "9": "2016-07-27"
                                },
                                {
                                    "0": "03080020T",
                                    "1": "Ajándék csom. nagy  ",
                                    "2": "24",
                                    "3": "44",
                                    "4": "NULL",
                                    "5": "9",
                                    "6": "800",
                                    "7": "ív",
                                    "8": "Sára",
                                    "9": "2016-07-22"
                                },
                                {
                                    "0": "03080021T",
                                    "1": "Ajándék csom. vékony",
                                    "2": "24",
                                    "3": "23",
                                    "4": "NULL",
                                    "5": "7",
                                    "6": "200",
                                    "7": "db",
                                    "8": "Béla",
                                    "9": "2016-07-26"
                                },
                                {
                                    "0": "03080030T",
                                    "1": "Ajándék cs. húsvéti 200x70",
                                    "2": "24",
                                    "3": "220",
                                    "4": "NULL",
                                    "5": "7",
                                    "6": "800",
                                    "7": "db",
                                    "8": "Mari",
                                    "9": "2016-07-22"
                                },
                                {
                                    "0": "03080031T",
                                    "1": "Ajándék cs. húsvéti",
                                    "2": "24",
                                    "3": "106",
                                    "4": "NULL",
                                    "5": "6",
                                    "6": "2100",
                                    "7": "db",
                                    "8": "Sára",
                                    "9": "2016-07-27"
                                },
                                {
                                    "0": "03080437T",
                                    "1": "Ajándék csomagoló tasak",
                                    "2": "6",
                                    "3": "185",
                                    "4": "NULL",
                                    "5": "7",
                                    "6": "3600",
                                    "7": "db",
                                    "8": "Sára",
                                    "9": "2016-07-27"
                                },
                                {
                                    "0": "03080438T",
                                    "1": "Ajándék csomagoló tasak lézeres",
                                    "2": "6",
                                    "3": "214",
                                    "4": "NULL",
                                    "5": "7",
                                    "6": "3900",
                                    "7": "db",
                                    "8": "Sára",
                                    "9": "2016-07-28"
                                },
                                {
                                    "0": "03080439T",
                                    "1": "Italtartó doboz",
                                    "2": "6",
                                    "3": "114",
                                    "4": "NULL",
                                    "5": "8",
                                    "6": "1100",
                                    "7": "db",
                                    "8": "Sára",
                                    "9": "2016-07-28"
                                },
                                {
                                    "0": "04020445T",
                                    "1": "Határidő napló 2010-s",
                                    "2": "62",
                                    "3": "728",
                                    "4": "NULL",
                                    "5": "9",
                                    "6": "600",
                                    "7": "db",
                                    "8": "Sára",
                                    "9": "2016-07-24"
                                },
                                {
                                    "0": "04030234T",
                                    "1": "Képeslap karácsonyi",
                                    "2": "85",
                                    "3": "30",
                                    "4": "NULL",
                                    "5": "5",
                                    "6": "2100",
                                    "7": "db",
                                    "8": "Béla",
                                    "9": "2016-07-22"
                                },
                                {
                                    "0": "04030235T",
                                    "1": "Képeslap karácsonyi borítékos",
                                    "2": "85",
                                    "3": "73",
                                    "4": "NULL",
                                    "5": "7",
                                    "6": "900",
                                    "7": "db",
                                    "8": "Béla",
                                    "9": "2016-07-22"
                                },
                                {
                                    "0": "04030236T",
                                    "1": "Képeslap karácsonyi WD",
                                    "2": "85",
                                    "3": "15",
                                    "4": "NULL",
                                    "5": "6",
                                    "6": "10000",
                                    "7": "db",
                                    "8": "Béla",
                                    "9": "2016-07-22"
                                },
                                {
                                    "0": "04030237T",
                                    "1": "Képeslap kerek",
                                    "2": "85",
                                    "3": "36",
                                    "4": "NULL",
                                    "5": "9",
                                    "6": "100",
                                    "7": "db",
                                    "8": "Béla",
                                    "9": "2016-07-17"
                                },
                                {
                                    "0": "04030238T",
                                    "1": "Képeslap stancolt",
                                    "2": "85",
                                    "3": "59",
                                    "4": "NULL",
                                    "5": "9",
                                    "6": "300",
                                    "7": "db",
                                    "8": "Sára",
                                    "9": "2016-07-18"
                                },
                                {
                                    "0": "04030239T",
                                    "1": "Képeslap stancolt szív",
                                    "2": "85",
                                    "3": "48",
                                    "4": "NULL",
                                    "5": "9",
                                    "6": "400",
                                    "7": "db",
                                    "8": "Béla",
                                    "9": "2016-07-21"
                                },
                                {
                                    "0": "04030240T",
                                    "1": "Képeslap virágos",
                                    "2": "85",
                                    "3": "14",
                                    "4": "NULL",
                                    "5": "7",
                                    "6": "1600",
                                    "7": "db",
                                    "8": "Sára",
                                    "9": "2016-07-20"
                                },
                                {
                                    "0": "04030241T",
                                    "1": "Képeslap virágos +boríték",
                                    "2": "85",
                                    "3": "44",
                                    "4": "NULL",
                                    "5": "8",
                                    "6": "2300",
                                    "7": "db",
                                    "8": "Mari",
                                    "9": "2016-07-25"
                                },
                                {
                                    "0": "04030242T",
                                    "1": "Képeslap WD +boríték",
                                    "2": "85",
                                    "3": "118",
                                    "4": "NULL",
                                    "5": "8",
                                    "6": "2300",
                                    "7": "db",
                                    "8": "Mari",
                                    "9": "2016-07-25"
                                },
                                {
                                    "0": "04030243T",
                                    "1": "Képkirakó Dirib-darab",
                                    "2": "86",
                                    "3": "195",
                                    "4": "NULL",
                                    "5": "7",
                                    "6": "1000",
                                    "7": "db",
                                    "8": "Mari",
                                    "9": "2016-07-25"
                                },
                                {
                                    "0": "04030260T",
                                    "1": "Levélpapír A/4",
                                    "2": "93",
                                    "3": "15",
                                    "4": "NULL",
                                    "5": "6",
                                    "6": "1600",
                                    "7": "db",
                                    "8": "Béla",
                                    "9": "2016-07-26"
                                },
                                {
                                    "0": "04030261T",
                                    "1": "Levélpapír állatos",
                                    "2": "93",
                                    "3": "140",
                                    "4": "NULL",
                                    "5": "6",
                                    "6": "1000",
                                    "7": "csomag",
                                    "8": "Béla",
                                    "9": "2016-07-26"
                                },
                                {
                                    "0": "04030262T",
                                    "1": "Levélpapír sima",
                                    "2": "93",
                                    "3": "56",
                                    "4": "NULL",
                                    "5": "6",
                                    "6": "600",
                                    "7": "csomag",
                                    "8": "Sára",
                                    "9": "2016-07-29"
                                },
                                {
                                    "0": "04030263T",
                                    "1": "Levélpapír szett",
                                    "2": "93",
                                    "3": "89",
                                    "4": "NULL",
                                    "5": "7",
                                    "6": "1300",
                                    "7": "db",
                                    "8": "Sára",
                                    "9": "2016-07-29"
                                },
                                {
                                    "0": "04030264T",
                                    "1": "Levélpapír szett ",
                                    "2": "93",
                                    "3": "74",
                                    "4": "NULL",
                                    "5": "6",
                                    "6": "300",
                                    "7": "db",
                                    "8": "Mari",
                                    "9": "2016-07-30"
                                },
                                {
                                    "0": "04030265T",
                                    "1": "Levélpapír szett natur, mintás",
                                    "2": "93",
                                    "3": "103",
                                    "4": "NULL",
                                    "5": "6",
                                    "6": "200",
                                    "7": "db",
                                    "8": "Mari",
                                    "9": "2016-07-30"
                                },
                                {
                                    "0": "04030266T",
                                    "1": "Levélpapír szett virágos",
                                    "2": "93",
                                    "3": "169",
                                    "4": "NULL",
                                    "5": "7",
                                    "6": "500",
                                    "7": "db",
                                    "8": "Mari",
                                    "9": "2016-07-30"
                                },
                                {
                                    "0": "04030285T",
                                    "1": "Mikulás zacskó",
                                    "2": "6",
                                    "3": "11",
                                    "4": "NULL",
                                    "5": "8",
                                    "6": "300",
                                    "7": "db",
                                    "8": "Mari",
                                    "9": "2016-07-30"
                                },
                                {
                                    "0": "04030286T",
                                    "1": "Műanyag állatok",
                                    "2": "25",
                                    "3": "44",
                                    "4": "NULL",
                                    "5": "5",
                                    "6": "300",
                                    "7": "db",
                                    "8": "Mari",
                                    "9": "2016-07-30"
                                },
                                {
                                    "0": "04030287T",
                                    "1": "Műanyag foszforeszkáló állat",
                                    "2": "25",
                                    "3": "23",
                                    "4": "NULL",
                                    "5": "8",
                                    "6": "5100",
                                    "7": "db",
                                    "8": "Béla",
                                    "9": "2016-07-26"
                                },
                                {
                                    "0": "04030288T",
                                    "1": "Műanyag pohár 1 dl-es",
                                    "2": "25",
                                    "3": "3",
                                    "4": "NULL",
                                    "5": "7",
                                    "6": "100",
                                    "7": "db",
                                    "8": "Béla",
                                    "9": "2016-07-26"
                                },
                                {
                                    "0": "04030289T",
                                    "1": "Műanyag pohár 5 cl-es",
                                    "2": "25",
                                    "3": "15",
                                    "4": "NULL",
                                    "5": "6",
                                    "6": "2400",
                                    "7": "db",
                                    "8": "Béla",
                                    "9": "2016-07-23"
                                },
                                {
                                    "0": "04040090T",
                                    "1": "Emlékkönyv",
                                    "2": "32",
                                    "3": "526",
                                    "4": "NULL",
                                    "5": "6",
                                    "6": "7700",
                                    "7": "db",
                                    "8": "Béla",
                                    "9": "2016-07-23"
                                },
                                {
                                    "0": "04040387T",
                                    "1": "Tenisz labda",
                                    "2": "92",
                                    "3": "81",
                                    "4": "NULL",
                                    "5": "8",
                                    "6": "600",
                                    "7": "db",
                                    "8": "Béla",
                                    "9": "2016-07-22"
                                },
                                {
                                    "0": "04050022T",
                                    "1": "Álarc",
                                    "2": "7",
                                    "3": "89",
                                    "4": "NULL",
                                    "5": "8",
                                    "6": "500",
                                    "7": "db",
                                    "8": "Béla",
                                    "9": "2016-07-22"
                                },
                                {
                                    "0": "04050023T",
                                    "1": "Álarc fejdísz",
                                    "2": "7",
                                    "3": "144",
                                    "4": "NULL",
                                    "5": "8",
                                    "6": "1000",
                                    "7": "db",
                                    "8": "Sára",
                                    "9": "2016-07-27"
                                },
                                {
                                    "0": "04050024T",
                                    "1": "Álarc szemüveg",
                                    "2": "7",
                                    "3": "144",
                                    "4": "NULL",
                                    "5": "7",
                                    "6": "1000",
                                    "7": "db",
                                    "8": "Sára",
                                    "9": "2016-07-27"
                                },
                                {
                                    "0": "04050035T",
                                    "1": "Bérlet tok",
                                    "2": "5",
                                    "3": "24",
                                    "4": "NULL",
                                    "5": "5",
                                    "6": "1500",
                                    "7": "db",
                                    "8": "Sára",
                                    "9": "2016-07-27"
                                },
                                {
                                    "0": "04050073T",
                                    "1": "Díszdoboz kar.",
                                    "2": "27",
                                    "3": "61",
                                    "4": "NULL",
                                    "5": "9",
                                    "6": "300",
                                    "7": "db",
                                    "8": "Béla",
                                    "9": "2016-08-01"
                                },
                                {
                                    "0": "04050074T",
                                    "1": "Díszdoboz tollnak 2 db-os",
                                    "2": "27",
                                    "3": "66",
                                    "4": "NULL",
                                    "5": "7",
                                    "6": "100",
                                    "7": "db",
                                    "8": "Mari",
                                    "9": "2016-07-28"
                                },
                                {
                                    "0": "04050075T",
                                    "1": "Díszdoboz tollnak 2 db-os keskeny",
                                    "2": "27",
                                    "3": "44",
                                    "4": "NULL",
                                    "5": "5",
                                    "6": "100",
                                    "7": "db",
                                    "8": "Béla",
                                    "9": "2016-07-23"
                                },
                                {
                                    "0": "04050171T",
                                    "1": "Gumilabda közepes",
                                    "2": "92",
                                    "3": "110",
                                    "4": "NULL",
                                    "5": "7",
                                    "6": "500",
                                    "7": "db",
                                    "8": "Béla",
                                    "9": "2016-07-23"
                                },
                                {
                                    "0": "04050187T",
                                    "1": "Hajgumi macis",
                                    "2": "61",
                                    "3": "66",
                                    "4": "NULL",
                                    "5": "8",
                                    "6": "700",
                                    "7": "db",
                                    "8": "Béla",
                                    "9": "2016-07-23"
                                },
                                {
                                    "0": "04050203T",
                                    "1": "Hűtőmágnes",
                                    "2": "67",
                                    "3": "24",
                                    "4": "NULL",
                                    "5": "7",
                                    "6": "300",
                                    "7": "db",
                                    "8": "Mari",
                                    "9": "2016-07-22"
                                },
                                {
                                    "0": "04050204T",
                                    "1": "Hűtőmágnes WD",
                                    "2": "67",
                                    "3": "169",
                                    "4": "NULL",
                                    "5": "8",
                                    "6": "300",
                                    "7": "db",
                                    "8": "Mari",
                                    "9": "2016-07-22"
                                },
                                {
                                    "0": "04050220T",
                                    "1": "Játék autó",
                                    "2": "79",
                                    "3": "65",
                                    "4": "NULL",
                                    "5": "7",
                                    "6": "400",
                                    "7": "db",
                                    "8": "Mari",
                                    "9": "2016-07-27"
                                },
                                {
                                    "0": "04050221T",
                                    "1": "Játékautó Blisteres",
                                    "2": "79",
                                    "3": "133",
                                    "4": "NULL",
                                    "5": "7",
                                    "6": "500",
                                    "7": "db",
                                    "8": "Mari",
                                    "9": "2016-07-27"
                                },
                                {
                                    "0": "04050222T",
                                    "1": "Játékautó elemes",
                                    "2": "79",
                                    "3": "165",
                                    "4": "NULL",
                                    "5": "7",
                                    "6": "100",
                                    "7": "db",
                                    "8": "Mari",
                                    "9": "2016-07-27"
                                },
                                {
                                    "0": "04050223T",
                                    "1": "Játékautó mini",
                                    "2": "79",
                                    "3": "73",
                                    "4": "NULL",
                                    "5": "7",
                                    "6": "400",
                                    "7": "db",
                                    "8": "Sára",
                                    "9": "2016-08-01"
                                },
                                {
                                    "0": "04050224T",
                                    "1": "Jelzőkréta",
                                    "2": "80",
                                    "3": "48",
                                    "4": "NULL",
                                    "5": "5",
                                    "6": "800",
                                    "7": "db",
                                    "8": "Sára",
                                    "9": "2016-08-01"
                                },
                                {
                                    "0": "04050225T",
                                    "1": "Kártya mini Magyar",
                                    "2": "84",
                                    "3": "131",
                                    "4": "NULL",
                                    "5": "6",
                                    "6": "2800",
                                    "7": "db",
                                    "8": "Sára",
                                    "9": "2016-08-01"
                                },
                                {
                                    "0": "04050250T",
                                    "1": "Kulcstartó autós",
                                    "2": "91",
                                    "3": "115",
                                    "4": "NULL",
                                    "5": "8",
                                    "6": "3700",
                                    "7": "db",
                                    "8": "Béla",
                                    "9": "2016-08-05"
                                },
                                {
                                    "0": "04050251T",
                                    "1": "Kulcstartó billiárd golyós",
                                    "2": "91",
                                    "3": "148",
                                    "4": "NULL",
                                    "5": "8",
                                    "6": "3500",
                                    "7": "db",
                                    "8": "Béla",
                                    "9": "2016-08-09"
                                },
                                {
                                    "0": "04050252T",
                                    "1": "Kulcstartó Csőrikés",
                                    "2": "91",
                                    "3": "124",
                                    "4": "NULL",
                                    "5": "8",
                                    "6": "1000",
                                    "7": "db",
                                    "8": "Béla",
                                    "9": "2016-08-05"
                                },
                                {
                                    "0": "04050253T",
                                    "1": "Kulcstartó figurás",
                                    "2": "91",
                                    "3": "103",
                                    "4": "NULL",
                                    "5": "8",
                                    "6": "1200",
                                    "7": "db",
                                    "8": "Mari",
                                    "9": "2016-08-06"
                                },
                                {
                                    "0": "04050254T",
                                    "1": "Kulcstartó intarziás állatos",
                                    "2": "91",
                                    "3": "155",
                                    "4": "NULL",
                                    "5": "9",
                                    "6": "800",
                                    "7": "db",
                                    "8": "Mari",
                                    "9": "2016-08-06"
                                },
                                {
                                    "0": "04050255T",
                                    "1": "Kulcstartó mesefigurás",
                                    "2": "91",
                                    "3": "36",
                                    "4": "NULL",
                                    "5": "9",
                                    "6": "2010",
                                    "7": "db",
                                    "8": "Mari",
                                    "9": "2016-08-09"
                                },
                                {
                                    "0": "04050256T",
                                    "1": "Kulcstartó nagyítós",
                                    "2": "91",
                                    "3": "129",
                                    "4": "NULL",
                                    "5": "9",
                                    "6": "2500",
                                    "7": "db",
                                    "8": "Mari",
                                    "9": "2016-08-09"
                                },
                                {
                                    "0": "04050267T",
                                    "1": "Logikai készlet",
                                    "2": "5",
                                    "3": "129",
                                    "4": "NULL",
                                    "5": "5",
                                    "6": "2000",
                                    "7": "db",
                                    "8": "Mari",
                                    "9": "2016-08-09"
                                },
                                {
                                    "0": "04050268T",
                                    "1": "Lufi formázható",
                                    "2": "94",
                                    "3": "15",
                                    "4": "NULL",
                                    "5": "7",
                                    "6": "3000",
                                    "7": "db",
                                    "8": "Béla",
                                    "9": "2016-08-13"
                                },
                                {
                                    "0": "04050269T",
                                    "1": "Lufi hullámos",
                                    "2": "94",
                                    "3": "11",
                                    "4": "NULL",
                                    "5": "6",
                                    "6": "1300",
                                    "7": "db",
                                    "8": "Béla",
                                    "9": "2016-08-13"
                                },
                                {
                                    "0": "04050320T",
                                    "1": "Plüss  QX állatok",
                                    "2": "119",
                                    "3": "173",
                                    "4": "NULL",
                                    "5": "9",
                                    "6": "500",
                                    "7": "db",
                                    "8": "Sára",
                                    "9": "2016-08-12"
                                },
                                {
                                    "0": "04050321T",
                                    "1": "Plüss kicsi",
                                    "2": "119",
                                    "3": "161",
                                    "4": "NULL",
                                    "5": "7",
                                    "6": "2000",
                                    "7": "db",
                                    "8": "Sára",
                                    "9": "2016-08-12"
                                },
                                {
                                    "0": "04050322T",
                                    "1": "Plüss sárkány",
                                    "2": "119",
                                    "3": "314",
                                    "4": "NULL",
                                    "5": "5",
                                    "6": "100",
                                    "7": "db",
                                    "8": "Sára",
                                    "9": "2016-08-12"
                                },
                                {
                                    "0": "04050358T",
                                    "1": "Strandlabda ",
                                    "2": "132",
                                    "3": "356",
                                    "4": "NULL",
                                    "5": "8",
                                    "6": "100",
                                    "7": "db",
                                    "8": "Sára",
                                    "9": "2016-08-08"
                                },
                                {
                                    "0": "04080270T",
                                    "1": "Mappa bőr A5",
                                    "2": "96",
                                    "3": "1765",
                                    "4": "NULL",
                                    "5": "6",
                                    "6": "200",
                                    "7": "db",
                                    "8": "Sára",
                                    "9": "2016-08-08"
                                },
                                {
                                    "0": "04080271T",
                                    "1": "Mappa PVC villámzáras",
                                    "2": "96",
                                    "3": "264",
                                    "4": "NULL",
                                    "5": "8",
                                    "6": "100",
                                    "7": "db",
                                    "8": "Sára",
                                    "9": "2016-08-07"
                                },
                                {
                                    "0": "04080272T",
                                    "1": "Mappa PVC villámzáras  képes",
                                    "2": "96",
                                    "3": "360",
                                    "4": "NULL",
                                    "5": "9",
                                    "6": "1000",
                                    "7": "db",
                                    "8": "Mari",
                                    "9": "2016-08-11"
                                },
                                {
                                    "0": "04080442T",
                                    "1": "Emlékkönyv",
                                    "2": "32",
                                    "3": "316",
                                    "4": "NULL",
                                    "5": "7",
                                    "6": "3000",
                                    "7": "db",
                                    "8": "Mari",
                                    "9": "2016-08-11"
                                },
                                {
                                    "0": "04080443T",
                                    "1": "Emlékkönyv lakatos",
                                    "2": "32",
                                    "3": "449",
                                    "4": "NULL",
                                    "5": "7",
                                    "6": "1000",
                                    "7": "db",
                                    "8": "Sára",
                                    "9": "2016-08-06"
                                },
                                {
                                    "0": "04110066T",
                                    "1": "Címke 8 db-os",
                                    "2": "20",
                                    "3": "26",
                                    "4": "NULL",
                                    "5": "7",
                                    "6": "700",
                                    "7": "db",
                                    "8": "Sára",
                                    "9": "2016-08-06"
                                },
                                {
                                    "0": "04110067T",
                                    "1": "Címke WD. állat",
                                    "2": "20",
                                    "3": "31",
                                    "4": "NULL",
                                    "5": "7",
                                    "6": "300",
                                    "7": "db",
                                    "8": "Sára",
                                    "9": "2016-08-09"
                                },
                                {
                                    "0": "04110068T",
                                    "1": "Címke egyszínű",
                                    "2": "20",
                                    "3": "20",
                                    "4": "NULL",
                                    "5": "9",
                                    "6": "200",
                                    "7": "db",
                                    "8": "Béla",
                                    "9": "2016-08-05"
                                },
                                {
                                    "0": "04110227T",
                                    "1": "Képeslap  borítékos",
                                    "2": "85",
                                    "3": "33",
                                    "4": "NULL",
                                    "5": "6",
                                    "6": "100",
                                    "7": "db",
                                    "8": "Mari",
                                    "9": "2016-08-10"
                                },
                                {
                                    "0": "04110228T",
                                    "1": "Képeslap \"Nászajándék\"",
                                    "2": "85",
                                    "3": "184",
                                    "4": "NULL",
                                    "5": "9",
                                    "6": "600",
                                    "7": "db",
                                    "8": "Béla",
                                    "9": "2016-08-10"
                                },
                                {
                                    "0": "04110229T",
                                    "1": "Képeslap \"Részvét\"",
                                    "2": "85",
                                    "3": "33",
                                    "4": "NULL",
                                    "5": "5",
                                    "6": "200",
                                    "7": "db",
                                    "8": "Béla",
                                    "9": "2016-08-10"
                                },
                                {
                                    "0": "04110230T",
                                    "1": "Képeslap humoros ",
                                    "2": "85",
                                    "3": "55",
                                    "4": "NULL",
                                    "5": "6",
                                    "6": "1000",
                                    "7": "db",
                                    "8": "Mari",
                                    "9": "2016-08-13"
                                },
                                {
                                    "0": "04110231T",
                                    "1": "Képeslap humoros borítékos",
                                    "2": "85",
                                    "3": "81",
                                    "4": "NULL",
                                    "5": "5",
                                    "6": "1000",
                                    "7": "db",
                                    "8": "Mari",
                                    "9": "2016-08-13"
                                },
                                {
                                    "0": "04110232T",
                                    "1": "Képeslap humoros kaparós",
                                    "2": "85",
                                    "3": "51",
                                    "4": "NULL",
                                    "5": "8",
                                    "6": "900",
                                    "7": "db",
                                    "8": "Mari",
                                    "9": "2016-08-12"
                                },
                                {
                                    "0": "04110233T",
                                    "1": "Képeslap humoros",
                                    "2": "85",
                                    "3": "89",
                                    "4": "NULL",
                                    "5": "5",
                                    "6": "700",
                                    "7": "db",
                                    "8": "Béla",
                                    "9": "2016-08-07"
                                },
                                {
                                    "0": "04110258T",
                                    "1": "Lampion",
                                    "2": "5",
                                    "3": "73",
                                    "4": "NULL",
                                    "5": "9",
                                    "6": "1000",
                                    "7": "db",
                                    "8": "Mari",
                                    "9": "2016-08-03"
                                },
                                {
                                    "0": "04110273T",
                                    "1": "Matrica állatos",
                                    "2": "97",
                                    "3": "55",
                                    "4": "NULL",
                                    "5": "5",
                                    "6": "6200",
                                    "7": "db",
                                    "8": "Mari",
                                    "9": "2016-07-29"
                                },
                                {
                                    "0": "04110274T",
                                    "1": "Matrica autóra H",
                                    "2": "97",
                                    "3": "49",
                                    "4": "NULL",
                                    "5": "5",
                                    "6": "300",
                                    "7": "db",
                                    "8": "Béla",
                                    "9": "2016-07-24"
                                },
                                {
                                    "0": "04110275T",
                                    "1": "Matrica motoros kicsi",
                                    "2": "97",
                                    "3": "49",
                                    "4": "NULL",
                                    "5": "9",
                                    "6": "200",
                                    "7": "db",
                                    "8": "Mari",
                                    "9": "2016-07-22"
                                },
                                {
                                    "0": "04110276T",
                                    "1": "Matrica Stickers nagy állatos",
                                    "2": "97",
                                    "3": "109",
                                    "4": "NULL",
                                    "5": "9",
                                    "6": "400",
                                    "7": "db",
                                    "8": "Mari",
                                    "9": "2016-07-22"
                                },
                                {
                                    "0": "04110277T",
                                    "1": "Matrica Stickers szíves",
                                    "2": "97",
                                    "3": "93",
                                    "4": "NULL",
                                    "5": "6",
                                    "6": "900",
                                    "7": "db",
                                    "8": "Béla",
                                    "9": "2016-07-21"
                                },
                                {
                                    "0": "04110278T",
                                    "1": "Matrica Test ékszer tattoo",
                                    "2": "97",
                                    "3": "161",
                                    "4": "NULL",
                                    "5": "8",
                                    "6": "500",
                                    "7": "db",
                                    "8": "Béla",
                                    "9": "2016-07-21"
                                },
                                {
                                    "0": "04110279T",
                                    "1": "Matrica tetoválás",
                                    "2": "97",
                                    "3": "168",
                                    "4": "NULL",
                                    "5": "7",
                                    "6": "700",
                                    "7": "db",
                                    "8": "Béla",
                                    "9": "2016-07-21"
                                },
                                {
                                    "0": "04110280T",
                                    "1": "Matrica tetoválós kicsi",
                                    "2": "97",
                                    "3": "148",
                                    "4": "NULL",
                                    "5": "9",
                                    "6": "300",
                                    "7": "db",
                                    "8": "Mari",
                                    "9": "2016-07-23"
                                },
                                {
                                    "0": "04110281T",
                                    "1": "Matrica világítós ",
                                    "2": "97",
                                    "3": "175",
                                    "4": "NULL",
                                    "5": "9",
                                    "6": "100",
                                    "7": "db",
                                    "8": "Sára",
                                    "9": "2016-07-25"
                                },
                                {
                                    "0": "04110282T",
                                    "1": "Matrica WD kicsi",
                                    "2": "97",
                                    "3": "56",
                                    "4": "NULL",
                                    "5": "5",
                                    "6": "300",
                                    "7": "db",
                                    "8": "Sára",
                                    "9": "2016-07-25"
                                },
                                {
                                    "0": "04110283T",
                                    "1": "Meghívó állatos",
                                    "2": "98",
                                    "3": "155",
                                    "4": "NULL",
                                    "5": "5",
                                    "6": "100",
                                    "7": "db",
                                    "8": "Sára",
                                    "9": "2016-07-23"
                                },
                                {
                                    "0": "04110284T",
                                    "1": "Meghívó borítékos",
                                    "2": "98",
                                    "3": "169",
                                    "4": "NULL",
                                    "5": "5",
                                    "6": "100",
                                    "7": "db",
                                    "8": "Sára",
                                    "9": "2016-07-26"
                                },
                                {
                                    "0": "04110362T",
                                    "1": "Szalvéta gyűjtőknek",
                                    "2": "133",
                                    "3": "183",
                                    "4": "NULL",
                                    "5": "5",
                                    "6": "1200",
                                    "7": "csomag",
                                    "8": "Sára",
                                    "9": "2016-07-26"
                                },
                                {
                                    "0": "05010026T",
                                    "1": "Alufólia 10 m-es",
                                    "2": "9",
                                    "3": "118",
                                    "4": "NULL",
                                    "5": "9",
                                    "6": "100",
                                    "7": "db",
                                    "8": "Sára",
                                    "9": "2016-07-26"
                                },
                                {
                                    "0": "05010027T",
                                    "1": "Alufólia 20 m-es",
                                    "2": "9",
                                    "3": "214",
                                    "4": "NULL",
                                    "5": "6",
                                    "6": "5900",
                                    "7": "db",
                                    "8": "Mari",
                                    "9": "2016-07-29"
                                },
                                {
                                    "0": "05010306T",
                                    "1": "Papízsebkendő,10db Szindy",
                                    "2": "114",
                                    "3": "20",
                                    "4": "NULL",
                                    "5": "8",
                                    "6": "5000",
                                    "7": "csomag",
                                    "8": "Sára",
                                    "9": "2016-08-03"
                                },
                                {
                                    "0": "05010369T",
                                    "1": "Szemetes zsák 60 literes",
                                    "2": "135",
                                    "3": "129",
                                    "4": "NULL",
                                    "5": "7",
                                    "6": "300",
                                    "7": "csomag",
                                    "8": "Sára",
                                    "9": "2016-08-03"
                                },
                                {
                                    "0": "05010370T",
                                    "1": "Szilvia csomagoló",
                                    "2": "22",
                                    "3": "89",
                                    "4": "NULL",
                                    "5": "7",
                                    "6": "100",
                                    "7": "db",
                                    "8": "Sára",
                                    "9": "2016-08-03"
                                },
                                {
                                    "0": "05040310T",
                                    "1": "Pill.ragasztó",
                                    "2": "124",
                                    "3": "103",
                                    "4": "NULL",
                                    "5": "8",
                                    "6": "300",
                                    "7": "db",
                                    "8": "Béla",
                                    "9": "2016-07-30"
                                },
                                {
                                    "0": "05040348T",
                                    "1": "Rajzszeg színes",
                                    "2": "128",
                                    "3": "106",
                                    "4": "NULL",
                                    "5": "8",
                                    "6": "200",
                                    "7": "csomag",
                                    "8": "Béla",
                                    "9": "2016-07-30"
                                },
                                {
                                    "0": "05040349T",
                                    "1": "Rajzszeg",
                                    "2": "128",
                                    "3": "63",
                                    "4": "NULL",
                                    "5": "6",
                                    "6": "600",
                                    "7": "db",
                                    "8": "Béla",
                                    "9": "2016-07-30"
                                },
                                {
                                    "0": "05050045T",
                                    "1": "Celofán",
                                    "2": "18",
                                    "3": "46",
                                    "4": "NULL",
                                    "5": "8",
                                    "6": "200",
                                    "7": "csomag",
                                    "8": "Béla",
                                    "9": "2016-07-30"
                                },
                                {
                                    "0": "05050046T",
                                    "1": "Celofán 50 db-os",
                                    "2": "18",
                                    "3": "73",
                                    "4": "NULL",
                                    "5": "8",
                                    "6": "100",
                                    "7": "db",
                                    "8": "Béla",
                                    "9": "2016-08-03"
                                },
                                {
                                    "0": "05050170T",
                                    "1": "Gumigyűrű",
                                    "2": "53",
                                    "3": "19",
                                    "4": "NULL",
                                    "5": "9",
                                    "6": "400",
                                    "7": "csomag",
                                    "8": "Béla",
                                    "9": "2016-08-08"
                                },
                                {
                                    "0": "05050346T",
                                    "1": "Rágógumi Orbit",
                                    "2": "126",
                                    "3": "89",
                                    "4": "NULL",
                                    "5": "9",
                                    "6": "400",
                                    "7": "csomag",
                                    "8": "Béla",
                                    "9": "2016-08-08"
                                },
                                {
                                    "0": "05050465T",
                                    "1": "Tapétavágó kés",
                                    "2": "140",
                                    "3": "40",
                                    "4": "NULL",
                                    "5": "6",
                                    "6": "1600",
                                    "7": "db",
                                    "8": "Mari",
                                    "9": "2016-08-09"
                                },
                                {
                                    "0": "05080340T",
                                    "1": "Ragasztó, Technokol 35g kék",
                                    "2": "124",
                                    "3": "144",
                                    "4": "NULL",
                                    "5": "8",
                                    "6": "200",
                                    "7": "db",
                                    "8": "Mari",
                                    "9": "2016-08-09"
                                },
                                {
                                    "0": "05080341T",
                                    "1": "Ragasztó, Technokol 35g piros",
                                    "2": "124",
                                    "3": "144",
                                    "4": "NULL",
                                    "5": "6",
                                    "6": "1100",
                                    "7": "db",
                                    "8": "Mari",
                                    "9": "2016-08-09"
                                },
                                {
                                    "0": "05110359T",
                                    "1": "Szalvéta ",
                                    "2": "133",
                                    "3": "176",
                                    "4": "NULL",
                                    "5": "8",
                                    "6": "100",
                                    "7": "csomag",
                                    "8": "Mari",
                                    "9": "2016-08-09"
                                },
                                {
                                    "0": "05110360T",
                                    "1": "Szalvéta egyszínű",
                                    "2": "133",
                                    "3": "118",
                                    "4": "NULL",
                                    "5": "6",
                                    "6": "1000",
                                    "7": "csomag",
                                    "8": "Béla",
                                    "9": "2016-08-06"
                                },
                                {
                                    "0": "05110361T",
                                    "1": "Szalvéta Goma húsvéti",
                                    "2": "133",
                                    "3": "175",
                                    "4": "NULL",
                                    "5": "7",
                                    "6": "1500",
                                    "7": "csomag",
                                    "8": "Béla",
                                    "9": "2016-08-06"
                                },
                                {
                                    "0": "05110363T",
                                    "1": "Szalvéta dekor",
                                    "2": "133",
                                    "3": "133",
                                    "4": "NULL",
                                    "5": "9",
                                    "6": "100",
                                    "7": "csomag",
                                    "8": "Béla",
                                    "9": "2016-08-06"
                                },
                                {
                                    "0": "05110364T",
                                    "1": "Szalvéta kicsi virágos",
                                    "2": "133",
                                    "3": "161",
                                    "4": "NULL",
                                    "5": "8",
                                    "6": "300",
                                    "7": "csomag",
                                    "8": "Mari",
                                    "9": "2016-08-11"
                                },
                                {
                                    "0": "06010036T",
                                    "1": "Betűtartó sin",
                                    "2": "78",
                                    "3": "33",
                                    "4": "NULL",
                                    "5": "7",
                                    "6": "300",
                                    "7": "db",
                                    "8": "Béla",
                                    "9": "2016-08-08"
                                },
                                {
                                    "0": "06010082T",
                                    "1": "Ecset Centrum 10,11,12",
                                    "2": "30",
                                    "3": "40",
                                    "4": "NULL",
                                    "5": "8",
                                    "6": "200",
                                    "7": "db",
                                    "8": "Béla",
                                    "9": "2016-08-08"
                                },
                                {
                                    "0": "06010083T",
                                    "1": "Ecset Centrum 7,8,9",
                                    "2": "30",
                                    "3": "33",
                                    "4": "NULL",
                                    "5": "6",
                                    "6": "900",
                                    "7": "db",
                                    "8": "Sára",
                                    "9": "2016-08-09"
                                },
                                {
                                    "0": "06010084T",
                                    "1": "Ecset Deák 2-es",
                                    "2": "30",
                                    "3": "60",
                                    "4": "NULL",
                                    "5": "9",
                                    "6": "200",
                                    "7": "db",
                                    "8": "Sára",
                                    "9": "2016-08-09"
                                },
                                {
                                    "0": "06010085T",
                                    "1": "Ecset Lizzy 10-es",
                                    "2": "30",
                                    "3": "65",
                                    "4": "NULL",
                                    "5": "5",
                                    "6": "200",
                                    "7": "db",
                                    "8": "Sára",
                                    "9": "2016-08-09"
                                },
                                {
                                    "0": "06010086T",
                                    "1": "Ecset Nebulo 4-es",
                                    "2": "30",
                                    "3": "36",
                                    "4": "NULL",
                                    "5": "8",
                                    "6": "3600",
                                    "7": "db",
                                    "8": "Mari",
                                    "9": "2016-08-08"
                                },
                                {
                                    "0": "06010111T",
                                    "1": "Füzet  A/4 ",
                                    "2": "45",
                                    "3": "68",
                                    "4": "NULL",
                                    "5": "9",
                                    "6": "600",
                                    "7": "db",
                                    "8": "Mari",
                                    "9": "2016-08-08"
                                },
                                {
                                    "0": "06010112T",
                                    "1": "Füzet  A4 mintás",
                                    "2": "45",
                                    "3": "78",
                                    "4": "NULL",
                                    "5": "9",
                                    "6": "1500",
                                    "7": "db",
                                    "8": "Mari",
                                    "9": "2016-08-06"
                                },
                                {
                                    "0": "06010113T",
                                    "1": "Füzet 31-32 szótár",
                                    "2": "45",
                                    "3": "34",
                                    "4": "NULL",
                                    "5": "8",
                                    "6": "4500",
                                    "7": "db",
                                    "8": "Sára",
                                    "9": "2016-08-11"
                                },
                                {
                                    "0": "06010114T",
                                    "1": "Füzet A/5 hangjegy 36/16",
                                    "2": "45",
                                    "3": "30",
                                    "4": "NULL",
                                    "5": "6",
                                    "6": "800",
                                    "7": "db",
                                    "8": "Béla",
                                    "9": "2016-08-11"
                                },
                                {
                                    "0": "06010115T",
                                    "1": "Füzet A/5, mintás",
                                    "2": "45",
                                    "3": "48",
                                    "4": "NULL",
                                    "5": "9",
                                    "6": "100",
                                    "7": "db",
                                    "8": "Béla",
                                    "9": "2016-08-08"
                                },
                                {
                                    "0": "06010201T",
                                    "1": "Hőmérő, műa.",
                                    "2": "78",
                                    "3": "36",
                                    "4": "NULL",
                                    "5": "6",
                                    "6": "1400",
                                    "7": "db",
                                    "8": "Mari",
                                    "9": "2016-08-10"
                                },
                                {
                                    "0": "06010202T",
                                    "1": "Hurkapálca 10 db-os",
                                    "2": "78",
                                    "3": "23",
                                    "4": "NULL",
                                    "5": "6",
                                    "6": "150",
                                    "7": "csomag",
                                    "8": "Béla",
                                    "9": "2016-08-12"
                                },
                                {
                                    "0": "06010305T",
                                    "1": "Papírcenti 100 cm-es",
                                    "2": "78",
                                    "3": "9",
                                    "4": "NULL",
                                    "5": "6",
                                    "6": "100",
                                    "7": "db",
                                    "8": "Béla",
                                    "9": "2016-08-12"
                                },
                                {
                                    "0": "06010343T",
                                    "1": "Ragasztószalag 19 mm-es SCOTCH+ tépő",
                                    "2": "124",
                                    "3": "426",
                                    "4": "NULL",
                                    "5": "6",
                                    "6": "1600",
                                    "7": "db",
                                    "8": "Béla",
                                    "9": "2016-08-12"
                                },
                                {
                                    "0": "06010365T",
                                    "1": "Számegyenes",
                                    "2": "78",
                                    "3": "36",
                                    "4": "NULL",
                                    "5": "8",
                                    "6": "900",
                                    "7": "db",
                                    "8": "Béla",
                                    "9": "2016-08-10"
                                },
                                {
                                    "0": "06010366T",
                                    "1": "Számológép Roxin",
                                    "2": "134",
                                    "3": "508",
                                    "4": "NULL",
                                    "5": "6",
                                    "6": "300",
                                    "7": "db",
                                    "8": "Béla",
                                    "9": "2016-08-11"
                                },
                                {
                                    "0": "06010367T",
                                    "1": "Számolókorong",
                                    "2": "78",
                                    "3": "35",
                                    "4": "NULL",
                                    "5": "6",
                                    "6": "300",
                                    "7": "csomag",
                                    "8": "Béla",
                                    "9": "2016-08-11"
                                },
                                {
                                    "0": "06010368T",
                                    "1": "Számolópálca",
                                    "2": "78",
                                    "3": "61",
                                    "4": "NULL",
                                    "5": "5",
                                    "6": "900",
                                    "7": "csomag",
                                    "8": "Sára",
                                    "9": "2016-08-10"
                                },
                                {
                                    "0": "06010373T",
                                    "1": "Színes papír I.II-IV.V-VIII-ig",
                                    "2": "78",
                                    "3": "43",
                                    "4": "NULL",
                                    "5": "8",
                                    "6": "2200",
                                    "7": "db",
                                    "8": "Sára",
                                    "9": "2016-08-10"
                                },
                                {
                                    "0": "06010374T",
                                    "1": "Szorzótábla műanyag",
                                    "2": "78",
                                    "3": "45",
                                    "4": "NULL",
                                    "5": "8",
                                    "6": "1600",
                                    "7": "db",
                                    "8": "Béla",
                                    "9": "2016-08-08"
                                },
                                {
                                    "0": "06010375T",
                                    "1": "Szögmérő 180 fokos műa.",
                                    "2": "137",
                                    "3": "24",
                                    "4": "NULL",
                                    "5": "6",
                                    "6": "200",
                                    "7": "db",
                                    "8": "Béla",
                                    "9": "2016-08-08"
                                },
                                {
                                    "0": "06010376T",
                                    "1": "Szögmérő papír",
                                    "2": "137",
                                    "3": "11",
                                    "4": "NULL",
                                    "5": "6",
                                    "6": "100",
                                    "7": "db",
                                    "8": "Béla",
                                    "9": "2016-08-03"
                                },
                                {
                                    "0": "06010377T",
                                    "1": "Szögmérő színes",
                                    "2": "137",
                                    "3": "8",
                                    "4": "NULL",
                                    "5": "9",
                                    "6": "200",
                                    "7": "db",
                                    "8": "Mari",
                                    "9": "2016-08-01"
                                },
                                {
                                    "0": "06040087T",
                                    "1": "Ecset Nebuló 10-es",
                                    "2": "30",
                                    "3": "79",
                                    "4": "NULL",
                                    "5": "7",
                                    "6": "4000",
                                    "7": "db",
                                    "8": "Mari",
                                    "9": "2016-08-01"
                                },
                                {
                                    "0": "06040088T",
                                    "1": "Egészségügyi könyv",
                                    "2": "78",
                                    "3": "51",
                                    "4": "NULL",
                                    "5": "7",
                                    "6": "4400",
                                    "7": "db",
                                    "8": "Sára",
                                    "9": "2016-08-01"
                                },
                                {
                                    "0": "06040089T",
                                    "1": "Ellenőrzőborító",
                                    "2": "78",
                                    "3": "5",
                                    "4": "NULL",
                                    "5": "7",
                                    "6": "200",
                                    "7": "db",
                                    "8": "Sára",
                                    "9": "2016-08-01"
                                },
                                {
                                    "0": "06040172T",
                                    "1": "Gumis mappa csomagolt",
                                    "2": "96",
                                    "3": "195",
                                    "4": "NULL",
                                    "5": "7",
                                    "6": "2000",
                                    "7": "db",
                                    "8": "Mari",
                                    "9": "2016-08-06"
                                },
                                {
                                    "0": "06040173T",
                                    "1": "Gumis mappa fóliázott állatos",
                                    "2": "96",
                                    "3": "211",
                                    "4": "NULL",
                                    "5": "7",
                                    "6": "1800",
                                    "7": "db",
                                    "8": "Mari",
                                    "9": "2016-08-06"
                                },
                                {
                                    "0": "06040174T",
                                    "1": "Gumis mappa ",
                                    "2": "96",
                                    "3": "148",
                                    "4": "NULL",
                                    "5": "6",
                                    "6": "7000",
                                    "7": "db",
                                    "8": "Sára",
                                    "9": "2016-08-01"
                                },
                                {
                                    "0": "06040175T",
                                    "1": "Gumis mappa Köbüki",
                                    "2": "96",
                                    "3": "191",
                                    "4": "NULL",
                                    "5": "8",
                                    "6": "400",
                                    "7": "db",
                                    "8": "Sára",
                                    "9": "2016-08-01"
                                },
                                {
                                    "0": "06040179T",
                                    "1": "Gyurma színes 200 g-os",
                                    "2": "59",
                                    "3": "180",
                                    "4": "NULL",
                                    "5": "6",
                                    "6": "100",
                                    "7": "db",
                                    "8": "Sára",
                                    "9": "2016-08-01"
                                },
                                {
                                    "0": "06040180T",
                                    "1": "Gyurma színes natúr",
                                    "2": "59",
                                    "3": "228",
                                    "4": "NULL",
                                    "5": "8",
                                    "6": "400",
                                    "7": "db",
                                    "8": "Mari",
                                    "9": "2016-08-04"
                                },
                                {
                                    "0": "06040181T",
                                    "1": "Gyűjtőlap A/4",
                                    "2": "78",
                                    "3": "8",
                                    "4": "NULL",
                                    "5": "6",
                                    "6": "2600",
                                    "7": "db",
                                    "8": "Mari",
                                    "9": "2016-08-01"
                                },
                                {
                                    "0": "06040182T",
                                    "1": "Gyűrűskönyv bet. A/4",
                                    "2": "60",
                                    "3": "184",
                                    "4": "NULL",
                                    "5": "7",
                                    "6": "2600",
                                    "7": "db",
                                    "8": "Mari",
                                    "9": "2016-08-01"
                                },
                                {
                                    "0": "06040183T",
                                    "1": "Gyűrűskönyv bet. A/5",
                                    "2": "60",
                                    "3": "95",
                                    "4": "NULL",
                                    "5": "9",
                                    "6": "200",
                                    "7": "db",
                                    "8": "Mari",
                                    "9": "2016-08-01"
                                },
                                {
                                    "0": "06040184T",
                                    "1": "Gyűrűskönyv betét A/5",
                                    "2": "60",
                                    "3": "218",
                                    "4": "NULL",
                                    "5": "9",
                                    "6": "100",
                                    "7": "db",
                                    "8": "Mari",
                                    "9": "2016-07-27"
                                },
                                {
                                    "0": "06040185T",
                                    "1": "Gyűrűskönyv",
                                    "2": "60",
                                    "3": "581",
                                    "4": "NULL",
                                    "5": "9",
                                    "6": "1800",
                                    "7": "db",
                                    "8": "Mari",
                                    "9": "2016-07-27"
                                },
                                {
                                    "0": "06040186T",
                                    "1": "Gyűrűskönyv színes",
                                    "2": "60",
                                    "3": "699",
                                    "4": "NULL",
                                    "5": "6",
                                    "6": "700",
                                    "7": "db",
                                    "8": "Sára",
                                    "9": "2016-07-27"
                                },
                                {
                                    "0": "06040205T",
                                    "1": "Indigó Pelikán",
                                    "2": "68",
                                    "3": "15",
                                    "4": "NULL",
                                    "5": "5",
                                    "6": "200",
                                    "7": "db",
                                    "8": "Sára",
                                    "9": "2016-07-28"
                                },
                                {
                                    "0": "06040206T",
                                    "1": "kék indigó",
                                    "2": "68",
                                    "3": "12",
                                    "4": "NULL",
                                    "5": "5",
                                    "6": "100",
                                    "7": "db",
                                    "8": "Sára",
                                    "9": "2016-12-11"
                                },
                                {
                                    "0": "06040212T",
                                    "1": "Írólap 10-50 ffam.",
                                    "2": "75",
                                    "3": "29",
                                    "4": "NULL",
                                    "5": "8",
                                    "6": "400",
                                    "7": "db",
                                    "8": "Sára",
                                    "9": "2016-08-01"
                                },
                                {
                                    "0": "06040213T",
                                    "1": "Írólap 20-50 ",
                                    "2": "75",
                                    "3": "34",
                                    "4": "NULL",
                                    "5": "8",
                                    "6": "100",
                                    "7": "db",
                                    "8": "Sára",
                                    "9": "2016-07-28"
                                },
                                {
                                    "0": "06040246T",
                                    "1": "Körző",
                                    "2": "89",
                                    "3": "161",
                                    "4": "NULL",
                                    "5": "5",
                                    "6": "100",
                                    "7": "db",
                                    "8": "Béla",
                                    "9": "2016-07-24"
                                },
                                {
                                    "0": "06040247T",
                                    "1": "Körzőhegy grafit",
                                    "2": "89",
                                    "3": "30",
                                    "4": "NULL",
                                    "5": "8",
                                    "6": "2200",
                                    "7": "db",
                                    "8": "Béla",
                                    "9": "2016-07-24"
                                },
                                {
                                    "0": "06040248T",
                                    "1": "Körző maped",
                                    "2": "89",
                                    "3": "243",
                                    "4": "NULL",
                                    "5": "6",
                                    "6": "300",
                                    "7": "db",
                                    "8": "Béla",
                                    "9": "2016-07-21"
                                },
                                {
                                    "0": "06040323T",
                                    "1": "Post-it 51×38 100 lapos",
                                    "2": "121",
                                    "3": "36",
                                    "4": "NULL",
                                    "5": "8",
                                    "6": "200",
                                    "7": "db",
                                    "8": "Béla",
                                    "9": "2016-07-23"
                                },
                                {
                                    "0": "06040324T",
                                    "1": "Post-it 75×75 100 lapos",
                                    "2": "121",
                                    "3": "89",
                                    "4": "NULL",
                                    "5": "7",
                                    "6": "1500",
                                    "7": "db",
                                    "8": "Sára",
                                    "9": "2016-07-23"
                                },
                                {
                                    "0": "06040325T",
                                    "1": "Radír gyümölcsös",
                                    "2": "122",
                                    "3": "40",
                                    "4": "NULL",
                                    "5": "9",
                                    "6": "2600",
                                    "7": "db",
                                    "8": "Béla",
                                    "9": "2016-07-20"
                                },
                                {
                                    "0": "06040326T",
                                    "1": "Radír KOH-I-NOR 80",
                                    "2": "122",
                                    "3": "19",
                                    "4": "NULL",
                                    "5": "8",
                                    "6": "100",
                                    "7": "db",
                                    "8": "Béla",
                                    "9": "2016-07-20"
                                },
                                {
                                    "0": "06040327T",
                                    "1": "Radír Koh-i-nor 40",
                                    "2": "122",
                                    "3": "36",
                                    "4": "NULL",
                                    "5": "9",
                                    "6": "2200",
                                    "7": "db",
                                    "8": "Béla",
                                    "9": "2016-07-17"
                                },
                                {
                                    "0": "06040328T",
                                    "1": "Radír Maped",
                                    "2": "122",
                                    "3": "44",
                                    "4": "NULL",
                                    "5": "8",
                                    "6": "2400",
                                    "7": "db",
                                    "8": "Béla",
                                    "9": "2016-07-17"
                                },
                                {
                                    "0": "06040329T",
                                    "1": "Radír stabilo",
                                    "2": "122",
                                    "3": "44",
                                    "4": "NULL",
                                    "5": "6",
                                    "6": "1700",
                                    "7": "db",
                                    "8": "Béla",
                                    "9": "2016-07-17"
                                },
                                {
                                    "0": "06040330T",
                                    "1": "Radír Tikky 30 ",
                                    "2": "122",
                                    "3": "50",
                                    "4": "NULL",
                                    "5": "7",
                                    "6": "1100",
                                    "7": "db",
                                    "8": "Sára",
                                    "9": "2016-07-12"
                                },
                                {
                                    "0": "06040331T",
                                    "1": "Radír Tikky 40 ",
                                    "2": "122",
                                    "3": "49",
                                    "4": "NULL",
                                    "5": "8",
                                    "6": "200",
                                    "7": "db",
                                    "8": "Sára",
                                    "9": "2016-07-12"
                                },
                                {
                                    "0": "06040347T",
                                    "1": "Rajzlap A/4 10db ffam.",
                                    "2": "127",
                                    "3": "28",
                                    "4": "NULL",
                                    "5": "5",
                                    "6": "200",
                                    "7": "csomag",
                                    "8": "Sára",
                                    "9": "2016-07-12"
                                },
                                {
                                    "0": "06040350T",
                                    "1": "Regiszteres füzet A4",
                                    "2": "129",
                                    "3": "256",
                                    "4": "NULL",
                                    "5": "9",
                                    "6": "500",
                                    "7": "db",
                                    "8": "Béla",
                                    "9": "2016-07-12"
                                },
                                {
                                    "0": "06040351T",
                                    "1": "Regiszteres füzet A5 Hightech",
                                    "2": "129",
                                    "3": "203",
                                    "4": "NULL",
                                    "5": "5",
                                    "6": "200",
                                    "7": "db",
                                    "8": "Sára",
                                    "9": "2016-07-11"
                                },
                                {
                                    "0": "06040352T",
                                    "1": "Rovatolt papír 20 íves",
                                    "2": "78",
                                    "3": "103",
                                    "4": "NULL",
                                    "5": "6",
                                    "6": "0",
                                    "7": "db",
                                    "8": "Mari",
                                    "9": "2016-07-16"
                                },
                                {
                                    "0": "06040353T",
                                    "1": "Sorvezető",
                                    "2": "78",
                                    "3": "8",
                                    "4": "NULL",
                                    "5": "5",
                                    "6": "600",
                                    "7": "db",
                                    "8": "Béla",
                                    "9": "2016-07-16"
                                },
                                {
                                    "0": "06040354T",
                                    "1": "Sp.Füzet A/4  perforált, lyuk.",
                                    "2": "45",
                                    "3": "206",
                                    "4": "NULL",
                                    "5": "5",
                                    "6": "800",
                                    "7": "db",
                                    "8": "Sára",
                                    "9": "2016-07-20"
                                },
                                {
                                    "0": "06040355T",
                                    "1": "Sp.Füzet A/4 70-as",
                                    "2": "45",
                                    "3": "155",
                                    "4": "NULL",
                                    "5": "8",
                                    "6": "600",
                                    "7": "db",
                                    "8": "Béla",
                                    "9": "2016-07-21"
                                },
                                {
                                    "0": "06040356T",
                                    "1": "Sp.Füzet A/4  70es",
                                    "2": "45",
                                    "3": "144",
                                    "4": "NULL",
                                    "5": "8",
                                    "6": "100",
                                    "7": "db",
                                    "8": "Mari",
                                    "9": "2016-07-24"
                                },
                                {
                                    "0": "06040357T",
                                    "1": "Sp.Füzet A/5 70-es",
                                    "2": "45",
                                    "3": "89",
                                    "4": "NULL",
                                    "5": "6",
                                    "6": "4400",
                                    "7": "db",
                                    "8": "Mari",
                                    "9": "2016-07-24"
                                },
                                {
                                    "0": "06040378T",
                                    "1": "Szövegkiemelő vékony",
                                    "2": "138",
                                    "3": "89",
                                    "4": "NULL",
                                    "5": "8",
                                    "6": "100",
                                    "7": "db",
                                    "8": "Mari",
                                    "9": "2016-07-24"
                                },
                                {
                                    "0": "06040379T",
                                    "1": "Szövegkiemelő ",
                                    "2": "138",
                                    "3": "93",
                                    "4": "NULL",
                                    "5": "9",
                                    "6": "200",
                                    "7": "db",
                                    "8": "Béla",
                                    "9": "2016-07-23"
                                },
                                {
                                    "0": "06040380T",
                                    "1": "Szövegkiemelő",
                                    "2": "138",
                                    "3": "78",
                                    "4": "NULL",
                                    "5": "5",
                                    "6": "500",
                                    "7": "db",
                                    "8": "Sára",
                                    "9": "2016-07-20"
                                },
                                {
                                    "0": "06040381T",
                                    "1": "Szövegkiemelő Videotip",
                                    "2": "138",
                                    "3": "103",
                                    "4": "NULL",
                                    "5": "6",
                                    "6": "100",
                                    "7": "csomag",
                                    "8": "Béla",
                                    "9": "2016-07-22"
                                },
                                {
                                    "0": "06040382T",
                                    "1": "Táblafilc",
                                    "2": "139",
                                    "3": "633",
                                    "4": "NULL",
                                    "5": "9",
                                    "6": "500",
                                    "7": "csomag",
                                    "8": "Béla",
                                    "9": "2016-07-22"
                                },
                                {
                                    "0": "06040383T",
                                    "1": "Taffet papír",
                                    "2": "78",
                                    "3": "19",
                                    "4": "NULL",
                                    "5": "6",
                                    "6": "300",
                                    "7": "db",
                                    "8": "Béla",
                                    "9": "2016-07-22"
                                },
                                {
                                    "0": "06040384T",
                                    "1": "Technika cs. I-II-III-IV",
                                    "2": "78",
                                    "3": "58",
                                    "4": "NULL",
                                    "5": "5",
                                    "6": "500",
                                    "7": "db",
                                    "8": "Béla",
                                    "9": "2016-07-22"
                                },
                                {
                                    "0": "06040385T",
                                    "1": "Tempera szóló ezüst",
                                    "2": "141",
                                    "3": "96",
                                    "4": "NULL",
                                    "5": "8",
                                    "6": "100",
                                    "7": "db",
                                    "8": "Sára",
                                    "9": "2016-07-24"
                                },
                                {
                                    "0": "06040386T",
                                    "1": "Tempera szóló színes",
                                    "2": "141",
                                    "3": "48",
                                    "4": "NULL",
                                    "5": "8",
                                    "6": "100",
                                    "7": "db",
                                    "8": "Mari",
                                    "9": "2016-07-22"
                                },
                                {
                                    "0": "06040392T",
                                    "1": "Tolltartó 1 zipzáros",
                                    "2": "146",
                                    "3": "728",
                                    "4": "NULL",
                                    "5": "7",
                                    "6": "400",
                                    "7": "db",
                                    "8": "Sára",
                                    "9": "2016-07-17"
                                },
                                {
                                    "0": "06040393T",
                                    "1": "Tolltartó 2 részes NG.",
                                    "2": "146",
                                    "3": "765",
                                    "4": "NULL",
                                    "5": "9",
                                    "6": "1000",
                                    "7": "db",
                                    "8": "Sára",
                                    "9": "2016-07-19"
                                },
                                {
                                    "0": "06040394T",
                                    "1": "Tolltartó zipzáras",
                                    "2": "146",
                                    "3": "324",
                                    "4": "NULL",
                                    "5": "5",
                                    "6": "100",
                                    "7": "db",
                                    "8": "Béla",
                                    "9": "2016-07-18"
                                },
                                {
                                    "0": "06040395T",
                                    "1": "Tolltartó 2 zipzáros töltött",
                                    "2": "146",
                                    "3": "728",
                                    "4": "NULL",
                                    "5": "7",
                                    "6": "700",
                                    "7": "db",
                                    "8": "Béla",
                                    "9": "2016-07-18"
                                },
                                {
                                    "0": "06040396T",
                                    "1": "Tolltartó Garfield",
                                    "2": "146",
                                    "3": "410",
                                    "4": "NULL",
                                    "5": "7",
                                    "6": "2900",
                                    "7": "db",
                                    "8": "Béla",
                                    "9": "2016-07-18"
                                },
                                {
                                    "0": "06040397T",
                                    "1": "Tolltartó asztali",
                                    "2": "146",
                                    "3": "655",
                                    "4": "NULL",
                                    "5": "8",
                                    "6": "700",
                                    "7": "csomag",
                                    "8": "Sára",
                                    "9": "2016-07-17"
                                },
                                {
                                    "0": "06040398T",
                                    "1": "Tolltartó hengeres ",
                                    "2": "146",
                                    "3": "411",
                                    "4": "NULL",
                                    "5": "5",
                                    "6": "100",
                                    "7": "db",
                                    "8": "Sára",
                                    "9": "2016-07-17"
                                },
                                {
                                    "0": "06040399T",
                                    "1": "Tombola tömb",
                                    "2": "78",
                                    "3": "125",
                                    "4": "NULL",
                                    "5": "7",
                                    "6": "100",
                                    "7": "db",
                                    "8": "Sára",
                                    "9": "2016-07-17"
                                },
                                {
                                    "0": "06040400T",
                                    "1": "Tornazsák",
                                    "2": "78",
                                    "3": "511",
                                    "4": "NULL",
                                    "5": "8",
                                    "6": "200",
                                    "7": "db",
                                    "8": "Sára",
                                    "9": "2016-07-17"
                                },
                                {
                                    "0": "06040446T",
                                    "1": "Számológép tudományos",
                                    "2": "134",
                                    "3": "1173",
                                    "4": "NULL",
                                    "5": "5",
                                    "6": "200",
                                    "7": "db",
                                    "8": "Sára",
                                    "9": "2016-07-17"
                                },
                                {
                                    "0": "06050249T",
                                    "1": "Krepp papír",
                                    "2": "78",
                                    "3": "73",
                                    "4": "NULL",
                                    "5": "5",
                                    "6": "500",
                                    "7": "db",
                                    "8": "Mari",
                                    "9": "2016-07-15"
                                },
                                {
                                    "0": "06050301T",
                                    "1": "Olló gyerek ",
                                    "2": "111",
                                    "3": "133",
                                    "4": "NULL",
                                    "5": "8",
                                    "6": "100",
                                    "7": "db",
                                    "8": "Mari",
                                    "9": "2016-07-15"
                                },
                                {
                                    "0": "06050302T",
                                    "1": "Olló Tagit 18 cm-es",
                                    "2": "111",
                                    "3": "176",
                                    "4": "NULL",
                                    "5": "5",
                                    "6": "400",
                                    "7": "db",
                                    "8": "Mari",
                                    "9": "2016-07-15"
                                },
                                {
                                    "0": "06050303T",
                                    "1": "Olló, iskolai",
                                    "2": "111",
                                    "3": "161",
                                    "4": "NULL",
                                    "5": "7",
                                    "6": "100",
                                    "7": "db",
                                    "8": "Sára",
                                    "9": "2016-07-12"
                                },
                                {
                                    "0": "06080116T",
                                    "1": "Füzet A5 1-8 osz.-ig",
                                    "2": "45",
                                    "3": "34",
                                    "4": "NULL",
                                    "5": "7",
                                    "6": "200",
                                    "7": "db",
                                    "8": "Béla",
                                    "9": "2016-07-13"
                                },
                                {
                                    "0": "06080117T",
                                    "1": "Füzetborító A/4 átlátszó",
                                    "2": "46",
                                    "3": "10",
                                    "4": "NULL",
                                    "5": "6",
                                    "6": "600",
                                    "7": "db",
                                    "8": "Mari",
                                    "9": "2016-07-14"
                                },
                                {
                                    "0": "06080118T",
                                    "1": "Füzetborító átlátszó A5",
                                    "2": "46",
                                    "3": "8",
                                    "4": "NULL",
                                    "5": "6",
                                    "6": "300",
                                    "7": "db",
                                    "8": "Mari",
                                    "9": "2016-07-09"
                                },
                                {
                                    "0": "06080119T",
                                    "1": "Füzetborító mesefig.",
                                    "2": "46",
                                    "3": "19",
                                    "4": "NULL",
                                    "5": "2",
                                    "6": "100",
                                    "7": "db",
                                    "8": "Mari",
                                    "9": "2016-07-09"
                                },
                                {
                                    "0": "06080120T",
                                    "1": "Füzetborító öntapadó kicsi",
                                    "2": "46",
                                    "3": "23",
                                    "4": "NULL",
                                    "5": "9",
                                    "6": "100",
                                    "7": "db",
                                    "8": "Béla",
                                    "9": "2016-07-08"
                                },
                                {
                                    "0": "06080121T",
                                    "1": "Füzetborító öntapadó tekercses",
                                    "2": "46",
                                    "3": "195",
                                    "4": "NULL",
                                    "5": "7",
                                    "6": "300",
                                    "7": "csomag",
                                    "8": "Béla",
                                    "9": "2016-07-08"
                                },
                                {
                                    "0": "06080122T",
                                    "1": "Füzetborító öntapadós nagy",
                                    "2": "46",
                                    "3": "19",
                                    "4": "NULL",
                                    "5": "7",
                                    "6": "300",
                                    "7": "db",
                                    "8": "Béla",
                                    "9": "2016-07-05"
                                },
                                {
                                    "0": "06080123T",
                                    "1": "Füzettartó A/4 keménytáblás",
                                    "2": "47",
                                    "3": "551",
                                    "4": "NULL",
                                    "5": "6",
                                    "6": "2000",
                                    "7": "db",
                                    "8": "Sára",
                                    "9": "2016-07-10"
                                },
                                {
                                    "0": "06080124T",
                                    "1": "Füzettartó A/4 keménytáblás",
                                    "2": "47",
                                    "3": "508",
                                    "4": "NULL",
                                    "5": "6",
                                    "6": "900",
                                    "7": "db",
                                    "8": "Mari",
                                    "9": "2016-07-14"
                                },
                                {
                                    "0": "06080125T",
                                    "1": "Füzettartó A/5 vastag",
                                    "2": "47",
                                    "3": "411",
                                    "4": "NULL",
                                    "5": "7",
                                    "6": "400",
                                    "7": "db",
                                    "8": "Mari",
                                    "9": "2016-07-14"
                                },
                                {
                                    "0": "06080126T",
                                    "1": "Füzettartó A/5  ",
                                    "2": "47",
                                    "3": "203",
                                    "4": "NULL",
                                    "5": "9",
                                    "6": "1500",
                                    "7": "db",
                                    "8": "Mari",
                                    "9": "2016-07-09"
                                },
                                {
                                    "0": "06080188T",
                                    "1": "Hegyező gép",
                                    "2": "64",
                                    "3": "875",
                                    "4": "NULL",
                                    "5": "8",
                                    "6": "900",
                                    "7": "db",
                                    "8": "Sára",
                                    "9": "2016-07-14"
                                },
                                {
                                    "0": "06080189T",
                                    "1": "Hegyező műanyag dupla",
                                    "2": "64",
                                    "3": "30",
                                    "4": "NULL",
                                    "5": "6",
                                    "6": "500",
                                    "7": "db",
                                    "8": "Sára",
                                    "9": "2016-07-09"
                                },
                                {
                                    "0": "06080190T",
                                    "1": "Hegyező műanyag egyes",
                                    "2": "64",
                                    "3": "23",
                                    "4": "NULL",
                                    "5": "6",
                                    "6": "1000",
                                    "7": "db",
                                    "8": "Sára",
                                    "9": "2016-07-09"
                                },
                                {
                                    "0": "06080191T",
                                    "1": "Hegyező tartályos egyes",
                                    "2": "64",
                                    "3": "30",
                                    "4": "NULL",
                                    "5": "8",
                                    "6": "300",
                                    "7": "db",
                                    "8": "Sára",
                                    "9": "2016-07-10"
                                },
                                {
                                    "0": "06080192T",
                                    "1": "Hegyző fém 1 lyukú",
                                    "2": "65",
                                    "3": "70",
                                    "4": "NULL",
                                    "5": "9",
                                    "6": "200",
                                    "7": "db",
                                    "8": "Sára",
                                    "9": "2016-07-07"
                                },
                                {
                                    "0": "06080193T",
                                    "1": "Hegyző fém 2 lyukú",
                                    "2": "65",
                                    "3": "180",
                                    "4": "NULL",
                                    "5": "7",
                                    "6": "100",
                                    "7": "db",
                                    "8": "Sára",
                                    "9": "2016-07-07"
                                },
                                {
                                    "0": "06080259T",
                                    "1": "Leckefüzet",
                                    "2": "78",
                                    "3": "161",
                                    "4": "NULL",
                                    "5": "6",
                                    "6": "0",
                                    "7": "db",
                                    "8": "Mari",
                                    "9": "2016-07-02"
                                },
                                {
                                    "0": "06080332T",
                                    "1": "Radírtoll betét ER100",
                                    "2": "123",
                                    "3": "74",
                                    "4": "NULL",
                                    "5": "5",
                                    "6": "1500",
                                    "7": "db",
                                    "8": "Mari",
                                    "9": "2016-07-02"
                                },
                                {
                                    "0": "06080333T",
                                    "1": "Radírtoll betét vastag",
                                    "2": "123",
                                    "3": "119",
                                    "4": "NULL",
                                    "5": "7",
                                    "6": "500",
                                    "7": "db",
                                    "8": "Béla",
                                    "9": "2016-07-01"
                                },
                                {
                                    "0": "06080334T",
                                    "1": "Ragasztó szalag KORES ",
                                    "2": "124",
                                    "3": "133",
                                    "4": "NULL",
                                    "5": "5",
                                    "6": "3000",
                                    "7": "db",
                                    "8": "Mari",
                                    "9": "2016-07-02"
                                },
                                {
                                    "0": "06080335T",
                                    "1": "Ragasztó 9 g Pax",
                                    "2": "124",
                                    "3": "110",
                                    "4": "NULL",
                                    "5": "9",
                                    "6": "200",
                                    "7": "db",
                                    "8": "Mari",
                                    "9": "2016-07-02"
                                },
                                {
                                    "0": "06080336T",
                                    "1": "Ragasztó 8 g Pritt",
                                    "2": "124",
                                    "3": "81",
                                    "4": "NULL",
                                    "5": "9",
                                    "6": "4900",
                                    "7": "db",
                                    "8": "Mari",
                                    "9": "2016-07-02"
                                },
                                {
                                    "0": "06080337T",
                                    "1": "Ragasztó Gyurma",
                                    "2": "124",
                                    "3": "293",
                                    "4": "NULL",
                                    "5": "7",
                                    "6": "100",
                                    "7": "db",
                                    "8": "Sára",
                                    "9": "2016-07-06"
                                },
                                {
                                    "0": "06080338T",
                                    "1": "Ragasztó kenőfejes Nebuló",
                                    "2": "124",
                                    "3": "101",
                                    "4": "NULL",
                                    "5": "8",
                                    "6": "3600",
                                    "7": "db",
                                    "8": "Mari",
                                    "9": "2016-07-08"
                                },
                                {
                                    "0": "06080339T",
                                    "1": "Ragasztó kores",
                                    "2": "124",
                                    "3": "89",
                                    "4": "NULL",
                                    "5": "5",
                                    "6": "900",
                                    "7": "db",
                                    "8": "Mari",
                                    "9": "2016-07-11"
                                },
                                {
                                    "0": "06080407T",
                                    "1": "Vízfesték  12 színű nagy",
                                    "2": "151",
                                    "3": "249",
                                    "4": "NULL",
                                    "5": "7",
                                    "6": "100",
                                    "7": "db",
                                    "8": "Sára",
                                    "9": "2016-07-14"
                                },
                                {
                                    "0": "06080408T",
                                    "1": "Vízfesték 12 db-os ",
                                    "2": "151",
                                    "3": "210",
                                    "4": "NULL",
                                    "5": "7",
                                    "6": "100",
                                    "7": "db",
                                    "8": "Sára",
                                    "9": "2016-07-14"
                                },
                                {
                                    "0": "06080409T",
                                    "1": "Vízfesték 12 színű kerek",
                                    "2": "151",
                                    "3": "180",
                                    "4": "NULL",
                                    "5": "6",
                                    "6": "100",
                                    "7": "db",
                                    "8": "Sára",
                                    "9": "2016-07-14"
                                },
                                {
                                    "0": "06080410T",
                                    "1": "Vízfesték 12db-os kínai",
                                    "2": "151",
                                    "3": "176",
                                    "4": "NULL",
                                    "5": "6",
                                    "6": "100",
                                    "7": "db",
                                    "8": "Béla",
                                    "9": "2016-07-15"
                                },
                                {
                                    "0": "06080411T",
                                    "1": "Vonalzó 15 cm-es ESSELTE",
                                    "2": "152",
                                    "3": "58",
                                    "4": "NULL",
                                    "5": "8",
                                    "6": "100",
                                    "7": "db",
                                    "8": "Sára",
                                    "9": "2016-07-18"
                                },
                                {
                                    "0": "06080412T",
                                    "1": "Vonalzó 16 cm-es LIZZY",
                                    "2": "152",
                                    "3": "30",
                                    "4": "NULL",
                                    "5": "7",
                                    "6": "100",
                                    "7": "db",
                                    "8": "Sára",
                                    "9": "2016-07-15"
                                },
                                {
                                    "0": "06080413T",
                                    "1": "Vonalzó 30 cm",
                                    "2": "152",
                                    "3": "30",
                                    "4": "NULL",
                                    "5": "8",
                                    "6": "100",
                                    "7": "db",
                                    "8": "Sára",
                                    "9": "2016-07-18"
                                },
                                {
                                    "0": "06080414T",
                                    "1": "Vonalzó 20 cm-es ",
                                    "2": "152",
                                    "3": "30",
                                    "4": "NULL",
                                    "5": "8",
                                    "6": "2600",
                                    "7": "db",
                                    "8": "Mari",
                                    "9": "2016-07-22"
                                },
                                {
                                    "0": "06080415T",
                                    "1": "Vonalzó 45 fokos",
                                    "2": "152",
                                    "3": "30",
                                    "4": "NULL",
                                    "5": "9",
                                    "6": "200",
                                    "7": "db",
                                    "8": "Mari",
                                    "9": "2016-07-22"
                                },
                                {
                                    "0": "06080416T",
                                    "1": "Vonalzó 60 fokos",
                                    "2": "152",
                                    "3": "33",
                                    "4": "NULL",
                                    "5": "6",
                                    "6": "100",
                                    "7": "db",
                                    "8": "Mari",
                                    "9": "2016-07-22"
                                },
                                {
                                    "0": "06080417T",
                                    "1": "Zászló papír",
                                    "2": "153",
                                    "3": "20",
                                    "4": "NULL",
                                    "5": "5",
                                    "6": "200",
                                    "7": "db",
                                    "8": "Mari",
                                    "9": "2016-07-22"
                                },
                                {
                                    "0": "06080422T",
                                    "1": "Füzettartó A/4",
                                    "2": "78",
                                    "3": "324",
                                    "4": "NULL",
                                    "5": "7",
                                    "6": "200",
                                    "7": "db",
                                    "8": "Mari",
                                    "9": "2016-07-22"
                                },
                                {
                                    "0": "06080423T",
                                    "1": "Beíró A/5 kockás",
                                    "2": "12",
                                    "3": "228",
                                    "4": "NULL",
                                    "5": "5",
                                    "6": "200",
                                    "7": "db",
                                    "8": "Mari",
                                    "9": "2016-07-22"
                                },
                                {
                                    "0": "06080424T",
                                    "1": "Füzetborító A/4 mintás",
                                    "2": "46",
                                    "3": "24",
                                    "4": "NULL",
                                    "5": "9",
                                    "6": "500",
                                    "7": "db",
                                    "8": "Béla",
                                    "9": "2016-07-26"
                                },
                                {
                                    "0": "06080425T",
                                    "1": "Miliméterpapír",
                                    "2": "99",
                                    "3": "8",
                                    "4": "NULL",
                                    "5": "6",
                                    "6": "400",
                                    "7": "db",
                                    "8": "Sára",
                                    "9": "2016-07-30"
                                },
                                {
                                    "0": "06080426T",
                                    "1": "Szótárfüzet Lizzy",
                                    "2": "45",
                                    "3": "161",
                                    "4": "NULL",
                                    "5": "7",
                                    "6": "300",
                                    "7": "db",
                                    "8": "Mari",
                                    "9": "2016-07-27"
                                },
                                {
                                    "0": "06080427T",
                                    "1": "Ablakkréta",
                                    "2": "78",
                                    "3": "161",
                                    "4": "NULL",
                                    "5": "9",
                                    "6": "200",
                                    "7": "db",
                                    "8": "Sára",
                                    "9": "2016-07-23"
                                },
                                {
                                    "0": "06080428T",
                                    "1": "Ecsetkészlet",
                                    "2": "30",
                                    "3": "180",
                                    "4": "NULL",
                                    "5": "8",
                                    "6": "500",
                                    "7": "db",
                                    "8": "Sára",
                                    "9": "2016-07-23"
                                },
                                {
                                    "0": "06080429T",
                                    "1": "Meghívó ballagási",
                                    "2": "98",
                                    "3": "63",
                                    "4": "NULL",
                                    "5": "6",
                                    "6": "400",
                                    "7": "db",
                                    "8": "Sára",
                                    "9": "2016-07-26"
                                },
                                {
                                    "0": "06080430T",
                                    "1": "Öntapadős betűk",
                                    "2": "78",
                                    "3": "74",
                                    "4": "NULL",
                                    "5": "7",
                                    "6": "900",
                                    "7": "csomag",
                                    "8": "Béla",
                                    "9": "2016-07-22"
                                },
                                {
                                    "0": "06080440T",
                                    "1": "Gyurma 12 szinű",
                                    "2": "59",
                                    "3": "161",
                                    "4": "NULL",
                                    "5": "5",
                                    "6": "1900",
                                    "7": "csomag",
                                    "8": "Béla",
                                    "9": "2016-07-20"
                                },
                                {
                                    "0": "06080441T",
                                    "1": "Gyurmakés",
                                    "2": "59",
                                    "3": "121",
                                    "4": "NULL",
                                    "5": "9",
                                    "6": "300",
                                    "7": "csomag",
                                    "8": "Béla",
                                    "9": "2016-07-21"
                                },
                                {
                                    "0": "07010136T",
                                    "1": "G.toll betét PAX",
                                    "2": "145",
                                    "3": "123",
                                    "4": "NULL",
                                    "5": "6",
                                    "6": "1800",
                                    "7": "db",
                                    "8": "Béla",
                                    "9": "2016-07-26"
                                },
                                {
                                    "0": "07010137T",
                                    "1": "G.toll betét PAX tip.",
                                    "2": "145",
                                    "3": "48",
                                    "4": "NULL",
                                    "5": "6",
                                    "6": "600",
                                    "7": "db",
                                    "8": "Sára",
                                    "9": "2016-07-31"
                                },
                                {
                                    "0": "07010138T",
                                    "1": "G.toll betét jumbo",
                                    "2": "145",
                                    "3": "33",
                                    "4": "NULL",
                                    "5": "8",
                                    "6": "1700",
                                    "7": "db",
                                    "8": "Mari",
                                    "9": "2016-08-02"
                                },
                                {
                                    "0": "07010139T",
                                    "1": "G.toll betét S7L ",
                                    "2": "145",
                                    "3": "91",
                                    "4": "NULL",
                                    "5": "6",
                                    "6": "1000",
                                    "7": "db",
                                    "8": "Mari",
                                    "9": "2016-08-02"
                                },
                                {
                                    "0": "07010140T",
                                    "1": "G.toll betét Stabilo",
                                    "2": "145",
                                    "3": "23",
                                    "4": "NULL",
                                    "5": "5",
                                    "6": "1200",
                                    "7": "db",
                                    "8": "Béla",
                                    "9": "2016-07-28"
                                },
                                {
                                    "0": "07010141T",
                                    "1": "G.toll betét X20",
                                    "2": "145",
                                    "3": "15",
                                    "4": "NULL",
                                    "5": "7",
                                    "6": "600",
                                    "7": "db",
                                    "8": "Béla",
                                    "9": "2016-07-25"
                                },
                                {
                                    "0": "07010142T",
                                    "1": "G.toll betét Zebra F-0.7",
                                    "2": "145",
                                    "3": "228",
                                    "4": "NULL",
                                    "5": "5",
                                    "6": "100",
                                    "7": "db",
                                    "8": "Mari",
                                    "9": "2016-07-28"
                                },
                                {
                                    "0": "07010143T",
                                    "1": "G.toll betét Zebra H-0,7",
                                    "2": "145",
                                    "3": "78",
                                    "4": "NULL",
                                    "5": "7",
                                    "6": "200",
                                    "7": "db",
                                    "8": "Mari",
                                    "9": "2016-07-28"
                                },
                                {
                                    "0": "07010144T",
                                    "1": "G.toll betét Zebra K-0,7",
                                    "2": "145",
                                    "3": "89",
                                    "4": "NULL",
                                    "5": "9",
                                    "6": "200",
                                    "7": "db",
                                    "8": "Béla",
                                    "9": "2016-07-25"
                                },
                                {
                                    "0": "07010244T",
                                    "1": "Kerámiatoll",
                                    "2": "144",
                                    "3": "74",
                                    "4": "NULL",
                                    "5": "5",
                                    "6": "200",
                                    "7": "db",
                                    "8": "Béla",
                                    "9": "2016-07-25"
                                },
                                {
                                    "0": "07010371T",
                                    "1": "Színes ceruza 6-os",
                                    "2": "136",
                                    "3": "99",
                                    "4": "NULL",
                                    "5": "8",
                                    "6": "2200",
                                    "7": "db",
                                    "8": "Sára",
                                    "9": "2016-07-25"
                                },
                                {
                                    "0": "07010372T",
                                    "1": "Színes ceruza 12 szín",
                                    "2": "136",
                                    "3": "161",
                                    "4": "NULL",
                                    "5": "7",
                                    "6": "3000",
                                    "7": "db",
                                    "8": "Sára",
                                    "9": "2016-07-25"
                                },
                                {
                                    "0": "07030103T",
                                    "1": "Filctoll TINTEN PEN",
                                    "2": "41",
                                    "3": "53",
                                    "4": "NULL",
                                    "5": "8",
                                    "6": "300",
                                    "7": "db",
                                    "8": "Béla",
                                    "9": "2016-07-22"
                                },
                                {
                                    "0": "07030104T",
                                    "1": "Filctoll vastag ARTIP",
                                    "2": "41",
                                    "3": "76",
                                    "4": "NULL",
                                    "5": "8",
                                    "6": "400",
                                    "7": "db",
                                    "8": "Sára",
                                    "9": "2016-07-23"
                                },
                                {
                                    "0": "07030105T",
                                    "1": "Filctoll, alkoholos Centropen",
                                    "2": "41",
                                    "3": "114",
                                    "4": "NULL",
                                    "5": "5",
                                    "6": "200",
                                    "7": "db",
                                    "8": "Sára",
                                    "9": "2016-07-23"
                                },
                                {
                                    "0": "07030106T",
                                    "1": "Filctoll, alkoholosOHP F-M-C",
                                    "2": "41",
                                    "3": "103",
                                    "4": "NULL",
                                    "5": "9",
                                    "6": "700",
                                    "7": "db",
                                    "8": "Mari",
                                    "9": "2016-07-21"
                                },
                                {
                                    "0": "07030107T",
                                    "1": "Filctoll, textil Edding 4500",
                                    "2": "41",
                                    "3": "276",
                                    "4": "NULL",
                                    "5": "5",
                                    "6": "1000",
                                    "7": "db",
                                    "8": "Mari",
                                    "9": "2016-07-21"
                                },
                                {
                                    "0": "07030108T",
                                    "1": "Filctoll CD író",
                                    "2": "41",
                                    "3": "0",
                                    "4": "NULL",
                                    "5": "5",
                                    "6": "500",
                                    "7": "db",
                                    "8": "Mari",
                                    "9": "2016-07-21"
                                },
                                {
                                    "0": "07040047T",
                                    "1": "Ceruza 2H-4B",
                                    "2": "19",
                                    "3": "39",
                                    "4": "NULL",
                                    "5": "5",
                                    "6": "200",
                                    "7": "db",
                                    "8": "Mari",
                                    "9": "2016-07-21"
                                },
                                {
                                    "0": "07040048T",
                                    "1": "Ceruza arany, ezüst",
                                    "2": "19",
                                    "3": "55",
                                    "4": "NULL",
                                    "5": "6",
                                    "6": "1900",
                                    "7": "db",
                                    "8": "Mari",
                                    "9": "2016-07-21"
                                },
                                {
                                    "0": "07040049T",
                                    "1": "Ceruza Conté zöld",
                                    "2": "19",
                                    "3": "40",
                                    "4": "NULL",
                                    "5": "9",
                                    "6": "100",
                                    "7": "db",
                                    "8": "Mari",
                                    "9": "2016-07-21"
                                },
                                {
                                    "0": "07040050T",
                                    "1": "Ceruza Cseh",
                                    "2": "19",
                                    "3": "30",
                                    "4": "NULL",
                                    "5": "6",
                                    "6": "200",
                                    "7": "db",
                                    "8": "Mari",
                                    "9": "2016-07-21"
                                },
                                {
                                    "0": "07040051T",
                                    "1": "Ceruza háromszög ",
                                    "2": "19",
                                    "3": "39",
                                    "4": "NULL",
                                    "5": "6",
                                    "6": "500",
                                    "7": "db",
                                    "8": "Mari",
                                    "9": "2016-07-21"
                                },
                                {
                                    "0": "07040052T",
                                    "1": "Ceruza 2H-3B Koh-i-nor",
                                    "2": "19",
                                    "3": "53",
                                    "4": "NULL",
                                    "5": "5",
                                    "6": "100",
                                    "7": "db",
                                    "8": "Sára",
                                    "9": "2016-07-23"
                                },
                                {
                                    "0": "07040053T",
                                    "1": "Ceruza HB radiros",
                                    "2": "19",
                                    "3": "23",
                                    "4": "NULL",
                                    "5": "5",
                                    "6": "200",
                                    "7": "db",
                                    "8": "Sára",
                                    "9": "2016-07-23"
                                },
                                {
                                    "0": "07040054T",
                                    "1": "Ceruza kártyás",
                                    "2": "19",
                                    "3": "55",
                                    "4": "NULL",
                                    "5": "7",
                                    "6": "100",
                                    "7": "db",
                                    "8": "Mari",
                                    "9": "2016-07-28"
                                },
                                {
                                    "0": "07040055T",
                                    "1": "Ceruza piros-kék",
                                    "2": "19",
                                    "3": "59",
                                    "4": "NULL",
                                    "5": "9",
                                    "6": "200",
                                    "7": "db",
                                    "8": "Sára",
                                    "9": "2016-08-02"
                                },
                                {
                                    "0": "07040056T",
                                    "1": "Ceruza piros-kék vékony",
                                    "2": "19",
                                    "3": "40",
                                    "4": "NULL",
                                    "5": "7",
                                    "6": "500",
                                    "7": "db",
                                    "8": "Sára",
                                    "9": "2016-08-02"
                                },
                                {
                                    "0": "07040057T",
                                    "1": "Ceruza Progresso",
                                    "2": "19",
                                    "3": "106",
                                    "4": "NULL",
                                    "5": "7",
                                    "6": "100",
                                    "7": "db",
                                    "8": "Sára",
                                    "9": "2016-08-02"
                                },
                                {
                                    "0": "07040058T",
                                    "1": "Ceruza radíros kínai",
                                    "2": "19",
                                    "3": "11",
                                    "4": "NULL",
                                    "5": "7",
                                    "6": "200",
                                    "7": "db",
                                    "8": "Sára",
                                    "9": "2016-08-02"
                                },
                                {
                                    "0": "07040059T",
                                    "1": "Ceruza smaragd",
                                    "2": "19",
                                    "3": "58",
                                    "4": "NULL",
                                    "5": "9",
                                    "6": "300",
                                    "7": "db",
                                    "8": "Sára",
                                    "9": "2016-08-02"
                                },
                                {
                                    "0": "07040060T",
                                    "1": "Ceruza stabilo swano",
                                    "2": "19",
                                    "3": "36",
                                    "4": "NULL",
                                    "5": "6",
                                    "6": "100",
                                    "7": "db",
                                    "8": "Sára",
                                    "9": "2016-08-02"
                                },
                                {
                                    "0": "07040061T",
                                    "1": "Ceruza stabilo opera",
                                    "2": "19",
                                    "3": "44",
                                    "4": "NULL",
                                    "5": "9",
                                    "6": "300",
                                    "7": "db",
                                    "8": "Sára",
                                    "9": "2016-07-30"
                                },
                                {
                                    "0": "07040097T",
                                    "1": "Filctoll ",
                                    "2": "41",
                                    "3": "26",
                                    "4": "NULL",
                                    "5": "8",
                                    "6": "100",
                                    "7": "db",
                                    "8": "Béla",
                                    "9": "2016-07-29"
                                },
                                {
                                    "0": "07040098T",
                                    "1": "Filctoll document pen",
                                    "2": "41",
                                    "3": "278",
                                    "4": "NULL",
                                    "5": "5",
                                    "6": "100",
                                    "7": "db",
                                    "8": "Béla",
                                    "9": "2016-07-29"
                                },
                                {
                                    "0": "07040099T",
                                    "1": "Filctoll Edding 750",
                                    "2": "41",
                                    "3": "434",
                                    "4": "NULL",
                                    "5": "9",
                                    "6": "200",
                                    "7": "csomag",
                                    "8": "Sára",
                                    "9": "2016-07-29"
                                },
                                {
                                    "0": "07040100T",
                                    "1": "Filctoll Marvy alkoholos",
                                    "2": "41",
                                    "3": "390",
                                    "4": "NULL",
                                    "5": "5",
                                    "6": "200",
                                    "7": "db",
                                    "8": "Sára",
                                    "9": "2016-07-29"
                                },
                                {
                                    "0": "07040101T",
                                    "1": "Filctoll permanent vastag",
                                    "2": "41",
                                    "3": "140",
                                    "4": "NULL",
                                    "5": "9",
                                    "6": "700",
                                    "7": "db",
                                    "8": "Sára",
                                    "9": "2016-07-28"
                                },
                                {
                                    "0": "07040102T",
                                    "1": "Filctoll supra fine",
                                    "2": "41",
                                    "3": "46",
                                    "4": "NULL",
                                    "5": "7",
                                    "6": "100",
                                    "7": "db",
                                    "8": "Sára",
                                    "9": "2016-07-28"
                                },
                                {
                                    "0": "07040127T",
                                    "1": "G. toll betét mini",
                                    "2": "145",
                                    "3": "30",
                                    "4": "NULL",
                                    "5": "9",
                                    "6": "100",
                                    "7": "db",
                                    "8": "Sára",
                                    "9": "2016-07-28"
                                },
                                {
                                    "0": "07040128T",
                                    "1": "G. toll betét mini fém",
                                    "2": "145",
                                    "3": "55",
                                    "4": "NULL",
                                    "5": "6",
                                    "6": "100",
                                    "7": "db",
                                    "8": "Béla",
                                    "9": "2016-07-31"
                                },
                                {
                                    "0": "07040129T",
                                    "1": "G. toll betét réz",
                                    "2": "145",
                                    "3": "30",
                                    "4": "NULL",
                                    "5": "5",
                                    "6": "200",
                                    "7": "db",
                                    "8": "Béla",
                                    "9": "2016-07-31"
                                },
                                {
                                    "0": "07040130T",
                                    "1": "G. toll betét S7S",
                                    "2": "145",
                                    "3": "80",
                                    "4": "NULL",
                                    "5": "6",
                                    "6": "200",
                                    "7": "db",
                                    "8": "Béla",
                                    "9": "2016-07-31"
                                },
                                {
                                    "0": "07040131T",
                                    "1": "G. toll betét UNI lachnok Fine SA-7C",
                                    "2": "145",
                                    "3": "85",
                                    "4": "NULL",
                                    "5": "9",
                                    "6": "1900",
                                    "7": "db",
                                    "8": "Mari",
                                    "9": "2016-08-02"
                                },
                                {
                                    "0": "07040132T",
                                    "1": "G.toll betét csavaros",
                                    "2": "145",
                                    "3": "55",
                                    "4": "NULL",
                                    "5": "8",
                                    "6": "500",
                                    "7": "db",
                                    "8": "Mari",
                                    "9": "2016-08-02"
                                },
                                {
                                    "0": "07040133T",
                                    "1": "G.toll betét görbe hegyű",
                                    "2": "145",
                                    "3": "39",
                                    "4": "NULL",
                                    "5": "5",
                                    "6": "200",
                                    "7": "db",
                                    "8": "Sára",
                                    "9": "2016-08-05"
                                },
                                {
                                    "0": "07040134T",
                                    "1": "G.toll betét illatos",
                                    "2": "145",
                                    "3": "44",
                                    "4": "NULL",
                                    "5": "7",
                                    "6": "3500",
                                    "7": "db",
                                    "8": "Béla",
                                    "9": "2016-08-04"
                                },
                                {
                                    "0": "07040135T",
                                    "1": "G.toll betét Parker ",
                                    "2": "145",
                                    "3": "684",
                                    "4": "NULL",
                                    "5": "6",
                                    "6": "4300",
                                    "7": "db",
                                    "8": "Mari",
                                    "9": "2016-08-08"
                                },
                                {
                                    "0": "07040165T",
                                    "1": "Golyóstoll UNI laknock",
                                    "2": "52",
                                    "3": "218",
                                    "4": "NULL",
                                    "5": "9",
                                    "6": "100",
                                    "7": "db",
                                    "8": "Sára",
                                    "9": "2016-08-12"
                                },
                                {
                                    "0": "07040166T",
                                    "1": "Golyóstoll Zebra 301",
                                    "2": "52",
                                    "3": "455",
                                    "4": "NULL",
                                    "5": "8",
                                    "6": "1400",
                                    "7": "db",
                                    "8": "Béla",
                                    "9": "2016-08-10"
                                },
                                {
                                    "0": "07040167T",
                                    "1": "Golyóstoll Zebra mini",
                                    "2": "52",
                                    "3": "655",
                                    "4": "NULL",
                                    "5": "9",
                                    "6": "400",
                                    "7": "db",
                                    "8": "Béla",
                                    "9": "2016-08-10"
                                },
                                {
                                    "0": "07040168T",
                                    "1": "Golyóstoll Zebra new hard",
                                    "2": "52",
                                    "3": "189",
                                    "4": "NULL",
                                    "5": "8",
                                    "6": "400",
                                    "7": "db",
                                    "8": "Béla",
                                    "9": "2016-08-10"
                                },
                                {
                                    "0": "07040169T",
                                    "1": "Golyóstoll Zodiák",
                                    "2": "52",
                                    "3": "94",
                                    "4": "NULL",
                                    "5": "8",
                                    "6": "1200",
                                    "7": "db",
                                    "8": "Béla",
                                    "9": "2016-08-14"
                                },
                                {
                                    "0": "07040215T",
                                    "1": "Ironbél  2B ICO",
                                    "2": "76",
                                    "3": "74",
                                    "4": "NULL",
                                    "5": "7",
                                    "6": "200",
                                    "7": "db",
                                    "8": "Béla",
                                    "9": "2016-08-14"
                                },
                                {
                                    "0": "07040216T",
                                    "1": "Ironbél B 0,5",
                                    "2": "76",
                                    "3": "36",
                                    "4": "NULL",
                                    "5": "5",
                                    "6": "400",
                                    "7": "db",
                                    "8": "Mari",
                                    "9": "2016-08-10"
                                },
                                {
                                    "0": "07040217T",
                                    "1": "Ironbél H 0,5",
                                    "2": "76",
                                    "3": "59",
                                    "4": "NULL",
                                    "5": "6",
                                    "6": "200",
                                    "7": "db",
                                    "8": "Béla",
                                    "9": "2016-08-09"
                                },
                                {
                                    "0": "07040218T",
                                    "1": "Ironbél HB 0,5",
                                    "2": "76",
                                    "3": "23",
                                    "4": "NULL",
                                    "5": "6",
                                    "6": "200",
                                    "7": "db",
                                    "8": "Béla",
                                    "9": "2016-08-13"
                                },
                                {
                                    "0": "07040219T",
                                    "1": "Ironbél HI-POLIMER HB 0,7",
                                    "2": "76",
                                    "3": "78",
                                    "4": "NULL",
                                    "5": "6",
                                    "6": "100",
                                    "7": "db",
                                    "8": "Béla",
                                    "9": "2016-08-12"
                                },
                                {
                                    "0": "07040257T",
                                    "1": "Lakk filc Edding 750",
                                    "2": "41",
                                    "3": "434",
                                    "4": "NULL",
                                    "5": "8",
                                    "6": "100",
                                    "7": "db",
                                    "8": "Mari",
                                    "9": "2016-08-11"
                                },
                                {
                                    "0": "07040388T",
                                    "1": "Tintapatron /kék/",
                                    "2": "143",
                                    "3": "9",
                                    "4": "NULL",
                                    "5": "7",
                                    "6": "200",
                                    "7": "csomag",
                                    "8": "Mari",
                                    "9": "2016-08-11"
                                },
                                {
                                    "0": "07040389T",
                                    "1": "Tintapatron 30 db-os kék",
                                    "2": "143",
                                    "3": "360",
                                    "4": "NULL",
                                    "5": "7",
                                    "6": "200",
                                    "7": "db",
                                    "8": "Mari",
                                    "9": "2016-08-11"
                                },
                                {
                                    "0": "07040390T",
                                    "1": "Tintapatron színes",
                                    "2": "143",
                                    "3": "11",
                                    "4": "NULL",
                                    "5": "9",
                                    "6": "200",
                                    "7": "db",
                                    "8": "Mari",
                                    "9": "2016-08-11"
                                },
                                {
                                    "0": "07040391T",
                                    "1": "Toll Centropen roller",
                                    "2": "144",
                                    "3": "80",
                                    "4": "NULL",
                                    "5": "9",
                                    "6": "200",
                                    "7": "db",
                                    "8": "Mari",
                                    "9": "2016-08-11"
                                },
                                {
                                    "0": "07050462T",
                                    "1": "Töltőtoll tinta ",
                                    "2": "148",
                                    "3": "493",
                                    "4": "NULL",
                                    "5": "5",
                                    "6": "300",
                                    "7": "üveg",
                                    "8": "Mari",
                                    "9": "2016-08-13"
                                },
                                {
                                    "0": "07050463T",
                                    "1": "Ceruzafogó",
                                    "2": "78",
                                    "3": "36",
                                    "4": "NULL",
                                    "5": "8",
                                    "6": "700",
                                    "7": "db",
                                    "8": "Sára",
                                    "9": "2016-08-13"
                                },
                                {
                                    "0": "07050464T",
                                    "1": "Szövegkiemelő Staedtler",
                                    "2": "138",
                                    "3": "140",
                                    "4": "NULL",
                                    "5": "7",
                                    "6": "900",
                                    "7": "db",
                                    "8": "Sára",
                                    "9": "2016-08-13"
                                },
                                {
                                    "0": "07080062T",
                                    "1": "Ceruza szén",
                                    "2": "19",
                                    "3": "146",
                                    "4": "NULL",
                                    "5": "5",
                                    "6": "200",
                                    "7": "db",
                                    "8": "Sára",
                                    "9": "2016-08-12"
                                },
                                {
                                    "0": "07080063T",
                                    "1": "Ceruza szorzótáblás",
                                    "2": "19",
                                    "3": "35",
                                    "4": "NULL",
                                    "5": "7",
                                    "6": "100",
                                    "7": "db",
                                    "8": "Sára",
                                    "9": "2016-08-12"
                                },
                                {
                                    "0": "07080064T",
                                    "1": "Ceruza zöld színű",
                                    "2": "19",
                                    "3": "40",
                                    "4": "NULL",
                                    "5": "6",
                                    "6": "200",
                                    "7": "db",
                                    "8": "Béla",
                                    "9": "2016-08-17"
                                },
                                {
                                    "0": "07080065T",
                                    "1": "Ceruza kínai",
                                    "2": "19",
                                    "3": "11",
                                    "4": "NULL",
                                    "5": "8",
                                    "6": "100",
                                    "7": "db",
                                    "8": "Béla",
                                    "9": "2016-08-17"
                                },
                                {
                                    "0": "07080150T",
                                    "1": "Golyóstoll",
                                    "2": "52",
                                    "3": "51",
                                    "4": "NULL",
                                    "5": "6",
                                    "6": "100",
                                    "7": "db",
                                    "8": "Béla",
                                    "9": "2016-08-17"
                                },
                                {
                                    "0": "07080151T",
                                    "1": "Golyóstoll + ceruza Twister 2in1",
                                    "2": "52",
                                    "3": "390",
                                    "4": "NULL",
                                    "5": "9",
                                    "6": "200",
                                    "7": "db",
                                    "8": "Béla",
                                    "9": "2016-08-17"
                                },
                                {
                                    "0": "07080152T",
                                    "1": "Golyóstoll 3 funkciós ",
                                    "2": "52",
                                    "3": "1019",
                                    "4": "NULL",
                                    "5": "5",
                                    "6": "400",
                                    "7": "db",
                                    "8": "Béla",
                                    "9": "2016-08-20"
                                },
                                {
                                    "0": "07080153T",
                                    "1": "Golyóstoll illatos ICO",
                                    "2": "52",
                                    "3": "41",
                                    "4": "NULL",
                                    "5": "8",
                                    "6": "100",
                                    "7": "db",
                                    "8": "Béla",
                                    "9": "2016-08-20"
                                },
                                {
                                    "0": "07080154T",
                                    "1": "Golyóstoll INOXCROM",
                                    "2": "52",
                                    "3": "401",
                                    "4": "NULL",
                                    "5": "6",
                                    "6": "300",
                                    "7": "db",
                                    "8": "Béla",
                                    "9": "2016-08-20"
                                },
                                {
                                    "0": "07080155T",
                                    "1": "Golyóstoll",
                                    "2": "52",
                                    "3": "33",
                                    "4": "NULL",
                                    "5": "5",
                                    "6": "100",
                                    "7": "db",
                                    "8": "Béla",
                                    "9": "2016-08-20"
                                },
                                {
                                    "0": "07080156T",
                                    "1": "Golyóstoll kupakos piros",
                                    "2": "52",
                                    "3": "23",
                                    "4": "NULL",
                                    "5": "8",
                                    "6": "900",
                                    "7": "db",
                                    "8": "Béla",
                                    "9": "2016-08-20"
                                },
                                {
                                    "0": "07080157T",
                                    "1": "Golyóstoll Montex Hytone",
                                    "2": "52",
                                    "3": "93",
                                    "4": "NULL",
                                    "5": "7",
                                    "6": "500",
                                    "7": "db",
                                    "8": "Béla",
                                    "9": "2016-08-20"
                                },
                                {
                                    "0": "07080158T",
                                    "1": "Golyóstoll Parker tokban",
                                    "2": "52",
                                    "3": "773",
                                    "4": "NULL",
                                    "5": "5",
                                    "6": "2000",
                                    "7": "db",
                                    "8": "Béla",
                                    "9": "2016-08-20"
                                },
                                {
                                    "0": "07080159T",
                                    "1": "Golyóstoll Pax tip.",
                                    "2": "52",
                                    "3": "63",
                                    "4": "NULL",
                                    "5": "8",
                                    "6": "200",
                                    "7": "db",
                                    "8": "Béla",
                                    "9": "2016-08-20"
                                },
                                {
                                    "0": "07080160T",
                                    "1": "Golyóstoll penac",
                                    "2": "52",
                                    "3": "239",
                                    "4": "NULL",
                                    "5": "7",
                                    "6": "200",
                                    "7": "db",
                                    "8": "Béla",
                                    "9": "2016-08-15"
                                },
                                {
                                    "0": "07080161T",
                                    "1": "Golyóstoll kétszínű",
                                    "2": "52",
                                    "3": "44",
                                    "4": "NULL",
                                    "5": "9",
                                    "6": "100",
                                    "7": "db",
                                    "8": "Béla",
                                    "9": "2016-08-16"
                                },
                                {
                                    "0": "07080162T",
                                    "1": "Golyóstoll Stabilo piros",
                                    "2": "52",
                                    "3": "101",
                                    "4": "NULL",
                                    "5": "6",
                                    "6": "700",
                                    "7": "db",
                                    "8": "Mari",
                                    "9": "2016-08-19"
                                },
                                {
                                    "0": "07080163T",
                                    "1": "Golyóstoll UNI átlátszó",
                                    "2": "52",
                                    "3": "230",
                                    "4": "NULL",
                                    "5": "5",
                                    "6": "6000",
                                    "7": "db",
                                    "8": "Mari",
                                    "9": "2016-08-21"
                                },
                                {
                                    "0": "07080164T",
                                    "1": "Golyóstoll UNI gumis",
                                    "2": "52",
                                    "3": "231",
                                    "4": "NULL",
                                    "5": "6",
                                    "6": "30000",
                                    "7": "db",
                                    "8": "Mari",
                                    "9": "2016-08-21"
                                },
                                {
                                    "0": "07080311T",
                                    "1": "Pixiron  UNI",
                                    "2": "118",
                                    "3": "276",
                                    "4": "NULL",
                                    "5": "8",
                                    "6": "22000",
                                    "7": "db",
                                    "8": "Mari",
                                    "9": "2016-08-21"
                                },
                                {
                                    "0": "07080312T",
                                    "1": "Pixiron 0,7 Handy",
                                    "2": "118",
                                    "3": "125",
                                    "4": "NULL",
                                    "5": "5",
                                    "6": "2000",
                                    "7": "db",
                                    "8": "Mari",
                                    "9": "2016-08-21"
                                },
                                {
                                    "0": "07080313T",
                                    "1": "Pixiron Centrum",
                                    "2": "118",
                                    "3": "59",
                                    "4": "NULL",
                                    "5": "9",
                                    "6": "12500",
                                    "7": "db",
                                    "8": "Mari",
                                    "9": "2016-08-21"
                                },
                                {
                                    "0": "07080314T",
                                    "1": "Pixiron Handy fém",
                                    "2": "118",
                                    "3": "133",
                                    "4": "NULL",
                                    "5": "8",
                                    "6": "12000",
                                    "7": "db",
                                    "8": "Mari",
                                    "9": "2016-08-21"
                                },
                                {
                                    "0": "07080315T",
                                    "1": "Pixiron Handy műanyag",
                                    "2": "118",
                                    "3": "94",
                                    "4": "NULL",
                                    "5": "8",
                                    "6": "25000",
                                    "7": "db",
                                    "8": "Mari",
                                    "9": "2016-08-22"
                                },
                                {
                                    "0": "07080316T",
                                    "1": "Pixiron KOH-I-NOOR",
                                    "2": "118",
                                    "3": "468",
                                    "4": "NULL",
                                    "5": "8",
                                    "6": "700",
                                    "7": "db",
                                    "8": "Sára",
                                    "9": "2016-08-25"
                                },
                                {
                                    "0": "07080317T",
                                    "1": "Pixiron mini ",
                                    "2": "118",
                                    "3": "59",
                                    "4": "NULL",
                                    "5": "5",
                                    "6": "2000",
                                    "7": "db",
                                    "8": "Béla",
                                    "9": "2016-08-26"
                                },
                                {
                                    "0": "07080318T",
                                    "1": "Pixiron Penac",
                                    "2": "118",
                                    "3": "235",
                                    "4": "NULL",
                                    "5": "5",
                                    "6": "8000",
                                    "7": "db",
                                    "8": "Béla",
                                    "9": "2016-08-26"
                                },
                                {
                                    "0": "07080319T",
                                    "1": "Pixiron Pentel színes",
                                    "2": "118",
                                    "3": "299",
                                    "4": "NULL",
                                    "5": "7",
                                    "6": "4000",
                                    "7": "db",
                                    "8": "Béla",
                                    "9": "2016-08-26"
                                },
                                {
                                    "0": "07080418T",
                                    "1": "Zselés toll ",
                                    "2": "154",
                                    "3": "95",
                                    "4": "NULL",
                                    "5": "7",
                                    "6": "4000",
                                    "7": "db",
                                    "8": "Béla",
                                    "9": "2016-08-26"
                                },
                                {
                                    "0": "07080419T",
                                    "1": "Zselés toll MICRO",
                                    "2": "154",
                                    "3": "66",
                                    "4": "NULL",
                                    "5": "9",
                                    "6": "6000",
                                    "7": "db",
                                    "8": "Sára",
                                    "9": "2016-08-22"
                                },
                                {
                                    "0": "07080420T",
                                    "1": "Zselés toll Muhnwa",
                                    "2": "154",
                                    "3": "161",
                                    "4": "NULL",
                                    "5": "7",
                                    "6": "2000",
                                    "7": "db",
                                    "8": "Mari",
                                    "9": "2016-08-21"
                                },
                                {
                                    "0": "07080421T",
                                    "1": "Zseléstoll Lizzy Card",
                                    "2": "154",
                                    "3": "228",
                                    "4": "NULL",
                                    "5": "7",
                                    "6": "100",
                                    "7": "csomag",
                                    "8": "Mari",
                                    "9": "2016-08-21"
                                },
                                {
                                    "0": "07080466T",
                                    "1": "Golyóstoll Stabiló 308",
                                    "2": "52",
                                    "3": "81",
                                    "4": "NULL",
                                    "5": "9",
                                    "6": "1000",
                                    "7": "db",
                                    "8": "Sára",
                                    "9": "2016-08-26"
                                },
                                {
                                    "0": "07080467T",
                                    "1": "Golyóstoll kétfunkciós ICO",
                                    "2": "52",
                                    "3": "273",
                                    "4": "NULL",
                                    "5": "8",
                                    "6": "8000",
                                    "7": "db",
                                    "8": "Sára",
                                    "9": "2016-08-22"
                                },
                                {
                                    "0": "07080468T",
                                    "1": "Golyóstoll háromfunkciós",
                                    "2": "52",
                                    "3": "110",
                                    "4": "NULL",
                                    "5": "6",
                                    "6": "7200",
                                    "7": "db",
                                    "8": "Sára",
                                    "9": "2016-08-22"
                                },
                                {
                                    "0": "07080469T",
                                    "1": "Golyóstoll UNIBALL 07",
                                    "2": "52",
                                    "3": "364",
                                    "4": "NULL",
                                    "5": "8",
                                    "6": "35000",
                                    "7": "db",
                                    "8": "Sára",
                                    "9": "2016-08-22"
                                },
                                {
                                    "0": "07080470T",
                                    "1": "Golyóstoll háromszög",
                                    "2": "52",
                                    "3": "188",
                                    "4": "NULL",
                                    "5": "7",
                                    "6": "15000",
                                    "7": "db",
                                    "8": "Sára",
                                    "9": "2016-08-21"
                                },
                                {
                                    "0": "07080471T",
                                    "1": "Golyóstoll levélbontós",
                                    "2": "52",
                                    "3": "294",
                                    "4": "NULL",
                                    "5": "7",
                                    "6": "50000",
                                    "7": "db",
                                    "8": "Béla",
                                    "9": "2016-08-23"
                                },
                                {
                                    "0": "08070472T",
                                    "1": "A föld amelyen élünk - Európa földrajza",
                                    "2": "4",
                                    "3": "1089",
                                    "4": "NULL",
                                    "5": "8",
                                    "6": "100",
                                    "7": "db",
                                    "8": "Béla",
                                    "9": "2016-08-23"
                                },
                                {
                                    "0": "08070473T",
                                    "1": "A föld amelyen élünk - Távoli földrészek",
                                    "2": "4",
                                    "3": "1089",
                                    "4": "NULL",
                                    "5": "6",
                                    "6": "200",
                                    "7": "db",
                                    "8": "Mari",
                                    "9": "2016-08-27"
                                },
                                {
                                    "0": "08070474T",
                                    "1": "A föld amelyen élünk - Hazánk földrajza",
                                    "2": "4",
                                    "3": "1089",
                                    "4": "NULL",
                                    "5": "5",
                                    "6": "100",
                                    "7": "db",
                                    "8": "Béla",
                                    "9": "2016-08-29"
                                },
                                {
                                    "0": "08070475T",
                                    "1": "A föld amelyen élünk - munkafüzet",
                                    "2": "100",
                                    "3": "440",
                                    "4": "NULL",
                                    "5": "5",
                                    "6": "9000",
                                    "7": "db",
                                    "8": "Béla",
                                    "9": "2016-08-29"
                                },
                                {
                                    "0": "08070476T",
                                    "1": "Anyanyelvi gyakorló 2",
                                    "2": "100",
                                    "3": "293",
                                    "4": "NULL",
                                    "5": "6",
                                    "6": "3900",
                                    "7": "db",
                                    "8": "Béla",
                                    "9": "2016-08-29"
                                },
                                {
                                    "0": "08070477T",
                                    "1": "Anyanyelvi gyakorló 3",
                                    "2": "100",
                                    "3": "353",
                                    "4": "NULL",
                                    "5": "6",
                                    "6": "1400",
                                    "7": "db",
                                    "8": "Sára",
                                    "9": "2016-09-03"
                                },
                                {
                                    "0": "08070478T",
                                    "1": "Összefoglaló feladatgyüjtemény számtech.",
                                    "2": "100",
                                    "3": "785",
                                    "4": "NULL",
                                    "5": "8",
                                    "6": "900",
                                    "7": "db",
                                    "8": "Béla",
                                    "9": "2016-08-29"
                                },
                                {
                                    "0": "08070479T",
                                    "1": "Fizika",
                                    "2": "4",
                                    "3": "674",
                                    "4": "NULL",
                                    "5": "7",
                                    "6": "200",
                                    "7": "db",
                                    "8": "Béla",
                                    "9": "2016-08-29"
                                },
                                {
                                    "0": "08070480T",
                                    "1": "Fizika 13 éveseknek",
                                    "2": "4",
                                    "3": "308",
                                    "4": "NULL",
                                    "5": "8",
                                    "6": "5000",
                                    "7": "db",
                                    "8": "Béla",
                                    "9": "2016-08-29"
                                },
                                {
                                    "0": "08070481T",
                                    "1": "Fizika munkafüzet 13 év.",
                                    "2": "100",
                                    "3": "198",
                                    "4": "NULL",
                                    "5": "7",
                                    "6": "500",
                                    "7": "db",
                                    "8": "Béla",
                                    "9": "2016-08-24"
                                },
                                {
                                    "0": "08070482T",
                                    "1": "Fizika munkafüzet 14 év.",
                                    "2": "100",
                                    "3": "190",
                                    "4": "NULL",
                                    "5": "5",
                                    "6": "500",
                                    "7": "db",
                                    "8": "Mari",
                                    "9": "2016-08-28"
                                },
                                {
                                    "0": "08070483T",
                                    "1": "Fizikai feladatok és tévedések",
                                    "2": "4",
                                    "3": "324",
                                    "4": "NULL",
                                    "5": "5",
                                    "6": "100",
                                    "7": "db",
                                    "8": "Béla",
                                    "9": "2016-08-25"
                                },
                                {
                                    "0": "08070484T",
                                    "1": "Fogalmazás lépésről lépésre",
                                    "2": "4",
                                    "3": "345",
                                    "4": "NULL",
                                    "5": "8",
                                    "6": "100",
                                    "7": "db",
                                    "8": "Béla",
                                    "9": "2016-08-24"
                                },
                                {
                                    "0": "08070485T",
                                    "1": "Jól felkészültem-e - Fizika",
                                    "2": "4",
                                    "3": "291",
                                    "4": "NULL",
                                    "5": "6",
                                    "6": "200",
                                    "7": "db",
                                    "8": "Béla",
                                    "9": "2016-08-22"
                                },
                                {
                                    "0": "08070486T",
                                    "1": "Matematika gyakorló 2",
                                    "2": "100",
                                    "3": "403",
                                    "4": "NULL",
                                    "5": "6",
                                    "6": "100",
                                    "7": "db",
                                    "8": "Béla",
                                    "9": "2016-08-19"
                                },
                                {
                                    "0": "08070487T",
                                    "1": "Matematika gyakorló 3",
                                    "2": "100",
                                    "3": "403",
                                    "4": "NULL",
                                    "5": "6",
                                    "6": "200",
                                    "7": "db",
                                    "8": "Mari",
                                    "9": "2016-08-17"
                                },
                                {
                                    "0": "08070488T",
                                    "1": "Matematika gyakorló 4",
                                    "2": "100",
                                    "3": "403",
                                    "4": "NULL",
                                    "5": "9",
                                    "6": "2000",
                                    "7": "db",
                                    "8": "Mari",
                                    "9": "2016-08-17"
                                },
                                {
                                    "0": "08070489T",
                                    "1": "RAMba zárt világ",
                                    "2": "4",
                                    "3": "868",
                                    "4": "NULL",
                                    "5": "8",
                                    "6": "4400",
                                    "7": "db",
                                    "8": "Mari",
                                    "9": "2016-08-17"
                                },
                                {
                                    "0": "08070490T",
                                    "1": "Szövegszerkesztés",
                                    "2": "4",
                                    "3": "691",
                                    "4": "NULL",
                                    "5": "8",
                                    "6": "100",
                                    "7": "db",
                                    "8": "Sára",
                                    "9": "2016-08-20"
                                },
                                {
                                    "0": "08070491T",
                                    "1": "Szám.tech. kicsiknek",
                                    "2": "4",
                                    "3": "214",
                                    "4": "NULL",
                                    "5": "8",
                                    "6": "1300",
                                    "7": "db",
                                    "8": "Sára",
                                    "9": "2016-08-20"
                                },
                                {
                                    "0": "08070492T",
                                    "1": "Informatika",
                                    "2": "4",
                                    "3": "735",
                                    "4": "NULL",
                                    "5": "9",
                                    "6": "100",
                                    "7": "db",
                                    "8": "Sára",
                                    "9": "2016-08-20"
                                },
                                {
                                    "0": "08070493T",
                                    "1": "Érettségi felv. fel. Matematika",
                                    "2": "4",
                                    "3": "720",
                                    "4": "NULL",
                                    "5": "5",
                                    "6": "100",
                                    "7": "db",
                                    "8": "Sára",
                                    "9": "2016-08-20"
                                },
                                {
                                    "0": "08070494T",
                                    "1": "Érettségi felv. fel. Fizika",
                                    "2": "4",
                                    "3": "440",
                                    "4": "NULL",
                                    "5": "6",
                                    "6": "400",
                                    "7": "db",
                                    "8": "Sára",
                                    "9": "2016-08-20"
                                },
                                {
                                    "0": "08070495T",
                                    "1": "Érettségi felv. fel. Biológia",
                                    "2": "4",
                                    "3": "440",
                                    "4": "NULL",
                                    "5": "9",
                                    "6": "100",
                                    "7": "db",
                                    "8": "Sára",
                                    "9": "2016-08-18"
                                },
                                {
                                    "0": "F001-KB101",
                                    "1": "férfi szövet kabát",
                                    "2": "38",
                                    "3": "22000",
                                    "4": "fekete (szövet) ",
                                    "5": "1",
                                    "6": "173",
                                    "7": "db",
                                    "8": "Sára",
                                    "9": "2016-08-13"
                                },
                                {
                                    "0": "F007-NA201",
                                    "1": "férfi farmer nadrág",
                                    "2": "39",
                                    "3": "7890",
                                    "4": "kék (farmer) ",
                                    "5": "3",
                                    "6": "105",
                                    "7": "db",
                                    "8": "Sára",
                                    "9": "2016-08-13"
                                },
                                {
                                    "0": "F013-NA207",
                                    "1": "férfi szövet nadrág",
                                    "2": "39",
                                    "3": "11900",
                                    "4": "barna (szövet) ",
                                    "5": "1",
                                    "6": "389",
                                    "7": "db",
                                    "8": "Sára",
                                    "9": "2016-08-13"
                                },
                                {
                                    "0": "F021-IN215",
                                    "1": "férfi ing",
                                    "2": "37",
                                    "3": "6490",
                                    "4": "kék (pamut) ",
                                    "5": "1",
                                    "6": "381",
                                    "7": "db",
                                    "8": "Mari",
                                    "9": "2016-08-13"
                                },
                                {
                                    "0": "G001-KB101",
                                    "1": "gyermek kabát (fiú)",
                                    "2": "55",
                                    "3": "8900",
                                    "4": "NULL",
                                    "5": "1",
                                    "6": "396",
                                    "7": "db",
                                    "8": "Sára",
                                    "9": "2016-08-08"
                                },
                                {
                                    "0": "G013-NA201",
                                    "1": "gyermek farmer nadrág (fiú)",
                                    "2": "56",
                                    "3": "4990",
                                    "4": "farmer ",
                                    "5": "3",
                                    "6": "200",
                                    "7": "db",
                                    "8": "Sára",
                                    "9": "2016-08-13"
                                },
                                {
                                    "0": "G019-NA207",
                                    "1": "gyermek pamut nadrág (fiú)",
                                    "2": "56",
                                    "3": "1290",
                                    "4": "pamut ",
                                    "5": "3",
                                    "6": "182",
                                    "7": "db",
                                    "8": "Sára",
                                    "9": "2016-08-13"
                                },
                                {
                                    "0": "G023-FE301",
                                    "1": "fiú alsó",
                                    "2": "35",
                                    "3": "390",
                                    "4": "mintás (pamut) ",
                                    "5": "3",
                                    "6": "328",
                                    "7": "db",
                                    "8": "Sára",
                                    "9": "2016-08-13"
                                },
                                {
                                    "0": "G029-FE307",
                                    "1": "fiú zokni",
                                    "2": "35",
                                    "3": "240",
                                    "4": "mintás (pamut) ",
                                    "5": "4",
                                    "6": "468",
                                    "7": "db",
                                    "8": "Sára",
                                    "9": "2016-08-13"
                                },
                                {
                                    "0": "G038-FE316",
                                    "1": "fiú harisnya",
                                    "2": "35",
                                    "3": "990",
                                    "4": "pókemeberes  ",
                                    "5": "3",
                                    "6": "205",
                                    "7": "db",
                                    "8": "Sára",
                                    "9": "2016-08-13"
                                },
                                {
                                    "0": "G041-AL211",
                                    "1": "fiú ünneplős ruha",
                                    "2": "8",
                                    "3": "16900",
                                    "4": "NULL",
                                    "5": "4",
                                    "6": "297",
                                    "7": "db",
                                    "8": "Mari",
                                    "9": "2016-08-10"
                                },
                                {
                                    "0": "G048-PO218",
                                    "1": "gyermek póló (fiú)",
                                    "2": "57",
                                    "3": "3900",
                                    "4": "pókemeberes (pamut) ",
                                    "5": "3",
                                    "6": "355",
                                    "7": "db",
                                    "8": "Mari",
                                    "9": "2016-08-10"
                                },
                                {
                                    "0": "G064-CI401",
                                    "1": "gyermek szandál (fiú)",
                                    "2": "54",
                                    "3": "6900",
                                    "4": "NULL",
                                    "5": "1",
                                    "6": "376",
                                    "7": "db",
                                    "8": "Sára",
                                    "9": "2016-08-05"
                                },
                                {
                                    "0": "G073-CI410",
                                    "1": "gyermek cipő (fiú)",
                                    "2": "54",
                                    "3": "7900",
                                    "4": "NULL",
                                    "5": "2",
                                    "6": "406",
                                    "7": "db",
                                    "8": "Sára",
                                    "9": "2016-08-03"
                                },
                                {
                                    "0": "G082-CI419",
                                    "1": "gyermek csizma (fiú)",
                                    "2": "54",
                                    "3": "8000",
                                    "4": "NULL",
                                    "5": "3",
                                    "6": "229",
                                    "7": "db",
                                    "8": "Sára",
                                    "9": "2016-08-03"
                                },
                                {
                                    "0": "L001-KB101",
                                    "1": "gyermek kabát (lány)",
                                    "2": "55",
                                    "3": "8900",
                                    "4": "rózsaszín  ",
                                    "5": "1",
                                    "6": "78",
                                    "7": "db",
                                    "8": "Sára",
                                    "9": "2016-08-03"
                                },
                                {
                                    "0": "L013-NA201",
                                    "1": "gyermek farmer nadrág (lány)",
                                    "2": "56",
                                    "3": "4990",
                                    "4": "kék (farmer) ",
                                    "5": "3",
                                    "6": "449",
                                    "7": "db",
                                    "8": "Béla",
                                    "9": "2016-08-02"
                                },
                                {
                                    "0": "L019-NA207",
                                    "1": "gyermek pamut nadrág (lány)",
                                    "2": "56",
                                    "3": "1290",
                                    "4": "rózsaszín (pamut) ",
                                    "5": "1",
                                    "6": "162",
                                    "7": "db",
                                    "8": "Mari",
                                    "9": "2016-07-29"
                                },
                                {
                                    "0": "L023-FE301",
                                    "1": "lány alsó",
                                    "2": "35",
                                    "3": "390",
                                    "4": "pamut ",
                                    "5": "1",
                                    "6": "369",
                                    "7": "db",
                                    "8": "Béla",
                                    "9": "2016-07-26"
                                },
                                {
                                    "0": "L029-FE307",
                                    "1": "lány zokni",
                                    "2": "35",
                                    "3": "240",
                                    "4": "fehér (pamut) ",
                                    "5": "4",
                                    "6": "470",
                                    "7": "db",
                                    "8": "Béla",
                                    "9": "2016-07-27"
                                },
                                {
                                    "0": "L033-FE311",
                                    "1": "lány harisnya",
                                    "2": "35",
                                    "3": "990",
                                    "4": "fehér  ",
                                    "5": "3",
                                    "6": "373",
                                    "7": "db",
                                    "8": "Sára",
                                    "9": "2016-07-23"
                                },
                                {
                                    "0": "L041-AL211",
                                    "1": "lány ünneplős ruha",
                                    "2": "8",
                                    "3": "16900",
                                    "4": "NULL",
                                    "5": "3",
                                    "6": "325",
                                    "7": "db",
                                    "8": "Sára",
                                    "9": "2016-07-20"
                                },
                                {
                                    "0": "L048-PO218",
                                    "1": "gyermek póló (lány)",
                                    "2": "57",
                                    "3": "3900",
                                    "4": "hercegnős (pamut) ",
                                    "5": "3",
                                    "6": "113",
                                    "7": "db",
                                    "8": "Sára",
                                    "9": "2016-07-20"
                                },
                                {
                                    "0": "L064-CI401",
                                    "1": "gyermek szandál (lány)",
                                    "2": "54",
                                    "3": "6900",
                                    "4": "NULL",
                                    "5": "3",
                                    "6": "119",
                                    "7": "db",
                                    "8": "Mari",
                                    "9": "2016-07-17"
                                },
                                {
                                    "0": "L073-CI410",
                                    "1": "gyermek cipő (lány)",
                                    "2": "54",
                                    "3": "7900",
                                    "4": "NULL",
                                    "5": "3",
                                    "6": "323",
                                    "7": "db",
                                    "8": "Sára",
                                    "9": "2016-07-19"
                                },
                                {
                                    "0": "L082-CI419",
                                    "1": "gyermek csizma (lány)",
                                    "2": "54",
                                    "3": "8000",
                                    "4": "NULL",
                                    "5": "1",
                                    "6": "264",
                                    "7": "db",
                                    "8": "Sára",
                                    "9": "2016-07-19"
                                },
                                {
                                    "0": "N001-KB101",
                                    "1": "női szövet kabát",
                                    "2": "107",
                                    "3": "24000",
                                    "4": "piros (szövet) ",
                                    "5": "1",
                                    "6": "77",
                                    "7": "db",
                                    "8": "Béla",
                                    "9": "2016-07-18"
                                },
                                {
                                    "0": "N008-NA201",
                                    "1": "női farmer nadrág",
                                    "2": "108",
                                    "3": "8290",
                                    "4": "kék (farmer) ",
                                    "5": "2",
                                    "6": "289",
                                    "7": "db",
                                    "8": "Mari",
                                    "9": "2016-07-18"
                                },
                                {
                                    "0": "N019-FE301",
                                    "1": "női alsó",
                                    "2": "35",
                                    "3": "690",
                                    "4": "fekete (pamut) ",
                                    "5": "2",
                                    "6": "53",
                                    "7": "db",
                                    "8": "Mari",
                                    "9": "2016-07-18"
                                },
                                {
                                    "0": "N029-AL212",
                                    "1": "női koktélruha",
                                    "2": "8",
                                    "3": "32000",
                                    "4": "fekete  ",
                                    "5": "4",
                                    "6": "283",
                                    "7": "db",
                                    "8": "Mari",
                                    "9": "2016-07-18"
                                },
                                {
                                    "0": "N035-AL218",
                                    "1": "kosztüm (rövid)",
                                    "2": "88",
                                    "3": "39000",
                                    "4": "szürke  ",
                                    "5": "3",
                                    "6": "369",
                                    "7": "db",
                                    "8": "Sára",
                                    "9": "2016-07-15"
                                },
                                {
                                    "0": "N039-AL222",
                                    "1": "kosztüm (hosszú)",
                                    "2": "88",
                                    "3": "46000",
                                    "4": "tört fehér  ",
                                    "5": "2",
                                    "6": "238",
                                    "7": "db",
                                    "8": "Mari",
                                    "9": "2016-07-20"
                                },
                                {
                                    "0": "U001-KI501",
                                    "1": "sál",
                                    "2": "130",
                                    "3": "1990",
                                    "4": "sárga (kötött) ",
                                    "5": "1",
                                    "6": "77",
                                    "7": "db",
                                    "8": "Mari",
                                    "9": "2016-07-15"
                                }
                            ]
                        },
                        "text/html": "<table><tr><th>TERMEKKOD</th><th>MEGNEVEZES</th><th>KAT_ID</th><th>LISTAAR</th><th>LEIRAS</th><th>RAKTAR_KOD</th><th>KESZLET</th><th>MEGYS</th><th>FELVITTE</th><th>FELVITEL</th></tr><tr><td>01010001T</td><td>félfamentes rajzlap A4 (10 lap)</td><td>127</td><td>342</td><td>NULL</td><td>9</td><td>3000</td><td>csomag</td><td>Béla</td><td>2016-07-12</td></tr><tr><td>01010110T</td><td>Fotópapír A/4 fényes</td><td>44</td><td>30</td><td>NULL</td><td>9</td><td>200</td><td>db</td><td>Béla</td><td>2016-07-12</td></tr><tr><td>01010304T</td><td>Öntapadós hologramos papír A/4</td><td>112</td><td>59</td><td>NULL</td><td>8</td><td>1100</td><td>db</td><td>Sára</td><td>2016-07-11</td></tr><tr><td>01020299T</td><td>Oklevél A/4 egyszínű</td><td>110</td><td>48</td><td>NULL</td><td>9</td><td>6600</td><td>db</td><td>Béla</td><td>2016-07-07</td></tr><tr><td>01020300T</td><td>Oklevél A/4 színes</td><td>110</td><td>55</td><td>NULL</td><td>9</td><td>200</td><td>db</td><td>Béla</td><td>2016-07-12</td></tr><tr><td>01030091T</td><td>Emléklap A/5</td><td>33</td><td>26</td><td>NULL</td><td>7</td><td>200</td><td>db</td><td>Béla</td><td>2016-07-12</td></tr><tr><td>01030092T</td><td>Esküvői meghívó</td><td>98</td><td>59</td><td>NULL</td><td>9</td><td>100</td><td>db</td><td>Sára</td><td>2016-07-13</td></tr><tr><td>01040307T</td><td>Pausz papír A/4</td><td>115</td><td>15</td><td>NULL</td><td>8</td><td>200</td><td>ív</td><td>Sára</td><td>2016-07-13</td></tr><tr><td>01040502T</td><td>Előlap spirálhoz</td><td>31</td><td>25</td><td>NULL</td><td>5</td><td>100</td><td>db</td><td>Sára</td><td>2016-07-13</td></tr><tr><td>01080093T</td><td>Fax papír 15 m</td><td>34</td><td>161</td><td>NULL</td><td>9</td><td>300</td><td>db</td><td>Sára</td><td>2016-07-13</td></tr><tr><td>01080512T</td><td>Öntapadó A/4</td><td>112</td><td>4575</td><td>NULL</td><td>5</td><td>100</td><td>doboz</td><td>Sára</td><td>2016-07-13</td></tr><tr><td>01080513T</td><td>Selyemfényű karton A/4</td><td>83</td><td>38</td><td>NULL</td><td>8</td><td>100</td><td>ív</td><td>Sára</td><td>2016-07-11</td></tr><tr><td>01090498T</td><td>Műnyomó 300g 17,5*20</td><td>101</td><td>3</td><td>NULL</td><td>8</td><td>1800</td><td>ív</td><td>Mari</td><td>2016-07-06</td></tr><tr><td>01090499T</td><td>Color Copy A/4 250 g</td><td>21</td><td>15</td><td>NULL</td><td>6</td><td>1500</td><td>Ív</td><td>Sára</td><td>2016-07-09</td></tr><tr><td>01090500T</td><td>Color Copy A4 200 g</td><td>21</td><td>14</td><td>NULL</td><td>9</td><td>100</td><td>Ív</td><td>Béla</td><td>2016-07-04</td></tr><tr><td>01090501T</td><td>Kreatív A/4 300g </td><td>90</td><td>4</td><td>NULL</td><td>8</td><td>100</td><td>Ív</td><td>Béla</td><td>2016-07-01</td></tr><tr><td>01090515T</td><td>Színes A/3 160 gr IQ</td><td>83</td><td>11</td><td>NULL</td><td>5</td><td>400</td><td>ív</td><td>Béla</td><td>2016-07-01</td></tr><tr><td>01090516T</td><td>Színes karton A4</td><td>83</td><td>25</td><td>NULL</td><td>9</td><td>1000</td><td>ív</td><td>Béla</td><td>2016-07-01</td></tr><tr><td>01090517T</td><td>Színes ofszet B/4</td><td>109</td><td>4</td><td>NULL</td><td>7</td><td>1000</td><td>ív</td><td>Béla</td><td>2016-07-01</td></tr><tr><td>01100070T</td><td>Dekorációs karton</td><td>83</td><td>73</td><td>NULL</td><td>5</td><td>600</td><td>ív</td><td>Béla</td><td>2016-07-05</td></tr><tr><td>01100071T</td><td>Dekorációs karton arany, ezüst</td><td>83</td><td>89</td><td>NULL</td><td>7</td><td>3100</td><td>ív</td><td>Sára</td><td>2016-07-06</td></tr><tr><td>01100072T</td><td>Dipa A/4 keretezett</td><td>26</td><td>9</td><td>NULL</td><td>9</td><td>400</td><td>ív</td><td>Sára</td><td>2016-07-06</td></tr><tr><td>01100094T</td><td>Fénymásoló papír DataCopy</td><td>36</td><td>845</td><td>NULL</td><td>9</td><td>300</td><td>csomag</td><td>Sára</td><td>2016-07-02</td></tr><tr><td>01100095T</td><td>Fénymásoló papír GetCopy</td><td>36</td><td>728</td><td>NULL</td><td>9</td><td>200</td><td>csomag</td><td>Sára</td><td>2016-07-01</td></tr><tr><td>01100096T</td><td>Fénymásoló papír Qconnect</td><td>36</td><td>728</td><td>NULL</td><td>5</td><td>500</td><td>csomag</td><td>Sára</td><td>2016-07-01</td></tr><tr><td>01100496T</td><td>Színes másoló a/4 80g</td><td>21</td><td>1500</td><td>NULL</td><td>5</td><td>300</td><td>csomag</td><td>Sára</td><td>2016-07-01</td></tr><tr><td>01100497T</td><td>Color Copy 160 g-os </td><td>21</td><td>14</td><td>NULL</td><td>5</td><td>100</td><td>ív</td><td>Béla</td><td>2016-07-05</td></tr><tr><td>01100503T</td><td>Color Copy A4 120 g</td><td>21</td><td>10</td><td>NULL</td><td>6</td><td>900</td><td>ív</td><td>Béla</td><td>2016-07-05</td></tr><tr><td>01100504T</td><td>Fehér másoló A/3</td><td>36</td><td>1488</td><td>NULL</td><td>6</td><td>1000</td><td>csomag</td><td>Sára</td><td>2016-07-10</td></tr><tr><td>01100505T</td><td>Fehér másoló A/4</td><td>36</td><td>686</td><td>NULL</td><td>6</td><td>200</td><td>csomag</td><td>Sára</td><td>2016-07-10</td></tr><tr><td>01100509T</td><td>Márványos A/4</td><td>83</td><td>40</td><td>NULL</td><td>6</td><td>100</td><td>ív</td><td>Sára</td><td>2016-07-12</td></tr><tr><td>01100510T</td><td>Kreatív A/4 120g </td><td>90</td><td>13</td><td>NULL</td><td>5</td><td>200</td><td>ív</td><td>Sára</td><td>2016-07-12</td></tr><tr><td>02010028T</td><td>Árazószalag </td><td>10</td><td>106</td><td>NULL</td><td>9</td><td>100</td><td>db</td><td>Sára</td><td>2016-07-16</td></tr><tr><td>02020029T</td><td>Átírótömb A/6</td><td>11</td><td>115</td><td>NULL</td><td>8</td><td>200</td><td>db</td><td>Sára</td><td>2016-07-19</td></tr><tr><td>02020032T</td><td>Beírókönyv A5 </td><td>13</td><td>133</td><td>NULL</td><td>8</td><td>200</td><td>db</td><td>Sára</td><td>2016-07-16</td></tr><tr><td>02020033T</td><td>Beírókönyv A4</td><td>13</td><td>328</td><td>NULL</td><td>5</td><td>100</td><td>db</td><td>Sára</td><td>2016-07-11</td></tr><tr><td>02020037T</td><td>Bevételi pénztárbizonylat 3×25</td><td>116</td><td>144</td><td>NULL</td><td>6</td><td>300</td><td>db</td><td>Sára</td><td>2016-07-11</td></tr><tr><td>02020245T</td><td>Kiadási pénztárbizonylat 2×25</td><td>116</td><td>103</td><td>NULL</td><td>7</td><td>400</td><td>db</td><td>Sára</td><td>2016-07-11</td></tr><tr><td>02020444T</td><td>Határidő napló A/6</td><td>62</td><td>464</td><td>NULL</td><td>9</td><td>2700</td><td>db</td><td>Sára</td><td>2016-07-11</td></tr><tr><td>02030040T</td><td>Boríték LA 4 francia</td><td>16</td><td>6</td><td>NULL</td><td>6</td><td>100</td><td>db</td><td>Sára</td><td>2016-07-11</td></tr><tr><td>02030041T</td><td>Boríték LC 5</td><td>16</td><td>6</td><td>NULL</td><td>9</td><td>2000</td><td>db</td><td>Mari</td><td>2016-07-12</td></tr><tr><td>02030042T</td><td>Boríték LC 6</td><td>16</td><td>3</td><td>NULL</td><td>6</td><td>2000</td><td>db</td><td>Mari</td><td>2016-07-15</td></tr><tr><td>02030043T</td><td>Boríték légp. kicsi</td><td>16</td><td>39</td><td>NULL</td><td>7</td><td>2500</td><td>db</td><td>Sára</td><td>2016-07-20</td></tr><tr><td>02030044T</td><td>Boríték mintás</td><td>16</td><td>15</td><td>NULL</td><td>6</td><td>10000</td><td>db</td><td>Béla</td><td>2016-07-23</td></tr><tr><td>02040002T</td><td>irodai tűzőgép</td><td>149</td><td>2100</td><td>NULL</td><td>6</td><td>10000</td><td>db</td><td>Béla</td><td>2016-07-23</td></tr><tr><td>02040025T</td><td>Álló irattartó karton</td><td>70</td><td>133</td><td>NULL</td><td>8</td><td>200</td><td>db</td><td>Béla</td><td>2016-07-23</td></tr><tr><td>02040145T</td><td>Gemkapocs 28 mm</td><td>48</td><td>30</td><td>NULL</td><td>8</td><td>400</td><td>db</td><td>Béla</td><td>2016-07-23</td></tr><tr><td>02040146T</td><td>Gemkapocs ICO</td><td>48</td><td>48</td><td>NULL</td><td>7</td><td>3200</td><td>db</td><td>Béla</td><td>2016-07-23</td></tr><tr><td>02040147T</td><td>Genotherm lefűzhető A/5</td><td>51</td><td>8</td><td>NULL</td><td>8</td><td>1500</td><td>db</td><td>Béla</td><td>2016-07-23</td></tr><tr><td>02040148T</td><td>Genotherm lefűzhető A4 10db-os</td><td>51</td><td>63</td><td>NULL</td><td>9</td><td>200</td><td>csomag</td><td>Béla</td><td>2016-07-18</td></tr><tr><td>02040149T</td><td>Genotherm A4 10db-os</td><td>51</td><td>110</td><td>NULL</td><td>7</td><td>4700</td><td>csomag</td><td>Béla</td><td>2016-07-18</td></tr><tr><td>02040176T</td><td>Gyorsfűző dosszié fehér</td><td>58</td><td>18</td><td>NULL</td><td>7</td><td>1200</td><td>db</td><td>Sára</td><td>2016-07-23</td></tr><tr><td>02040177T</td><td>Gyorsfűző műa.</td><td>58</td><td>30</td><td>NULL</td><td>5</td><td>200</td><td>db</td><td>Béla</td><td>2016-07-21</td></tr><tr><td>02040178T</td><td>Gyorsfűző műa.</td><td>58</td><td>35</td><td>NULL</td><td>8</td><td>1000</td><td>db</td><td>Béla</td><td>2016-07-21</td></tr><tr><td>02040194T</td><td>Hibajav.roll.Pritt 4,2mm</td><td>66</td><td>794</td><td>NULL</td><td>8</td><td>500</td><td>db</td><td>Béla</td><td>2016-07-21</td></tr><tr><td>02040195T</td><td>Hibajavító ecsetes Aqua</td><td>66</td><td>185</td><td>NULL</td><td>5</td><td>400</td><td>db</td><td>Béla</td><td>2016-07-19</td></tr><tr><td>02040196T</td><td>Hibajavító készlet Blanco</td><td>66</td><td>273</td><td>NULL</td><td>7</td><td>100</td><td>db</td><td>Béla</td><td>2016-07-19</td></tr><tr><td>02040197T</td><td>Hibajavító lap </td><td>66</td><td>81</td><td>NULL</td><td>9</td><td>100</td><td>db</td><td>Béla</td><td>2016-07-19</td></tr><tr><td>02040198T</td><td>Hibajavító roller 5 mm</td><td>66</td><td>133</td><td>NULL</td><td>7</td><td>200</td><td>db</td><td>Béla</td><td>2016-07-19</td></tr><tr><td>02040199T</td><td>Hibajavító roller Pax</td><td>66</td><td>286</td><td>NULL</td><td>7</td><td>300</td><td>db</td><td>Béla</td><td>2016-07-19</td></tr><tr><td>02040200T</td><td>Hibajavító Kores mini pen</td><td>66</td><td>278</td><td>NULL</td><td>6</td><td>300</td><td>db</td><td>Mari</td><td>2016-07-14</td></tr><tr><td>02040206T</td><td>Írásvetítő fólia</td><td>155</td><td>81</td><td>NULL</td><td>8</td><td>100</td><td>db</td><td>Mari</td><td>2016-07-14</td></tr><tr><td>02040207T</td><td>Iratgyűjtő ESSELTE ablakos</td><td>70</td><td>19</td><td>NULL</td><td>6</td><td>1500</td><td>db</td><td>Mari</td><td>2016-07-14</td></tr><tr><td>02040208T</td><td>Iratgyűjtő fehér</td><td>70</td><td>19</td><td>NULL</td><td>8</td><td>400</td><td>db</td><td>Mari</td><td>2016-07-19</td></tr><tr><td>02040209T</td><td>Iratsín fehér</td><td>72</td><td>44</td><td>NULL</td><td>7</td><td>600</td><td>db</td><td>Mari</td><td>2016-07-19</td></tr><tr><td>02040210T</td><td>Iratsín kék</td><td>72</td><td>89</td><td>NULL</td><td>6</td><td>2500</td><td>db</td><td>Mari</td><td>2016-07-19</td></tr><tr><td>02040211T</td><td>Iratrendező ESSELTE</td><td>71</td><td>243</td><td>NULL</td><td>9</td><td>700</td><td>db</td><td>Béla</td><td>2016-07-14</td></tr><tr><td>02040214T</td><td>Iromány fedél feles</td><td>74</td><td>59</td><td>NULL</td><td>5</td><td>300</td><td>db</td><td>Mari</td><td>2016-07-11</td></tr><tr><td>02040290T</td><td>Naptár 24-es</td><td>103</td><td>89</td><td>NULL</td><td>8</td><td>300</td><td>db</td><td>Mari</td><td>2016-07-10</td></tr><tr><td>02040291T</td><td>Naptárhát kicsi</td><td>104</td><td>15</td><td>NULL</td><td>8</td><td>1400</td><td>db</td><td>Mari</td><td>2016-07-10</td></tr><tr><td>02040292T</td><td>Naptárhát nagy</td><td>104</td><td>78</td><td>NULL</td><td>9</td><td>6900</td><td>db</td><td>Sára</td><td>2016-07-09</td></tr><tr><td>02040293T</td><td>Névjegytartó kicsi</td><td>105</td><td>310</td><td>NULL</td><td>9</td><td>9000</td><td>db</td><td>Sára</td><td>2016-07-09</td></tr><tr><td>02040294T</td><td>Notesz A/5 sima</td><td>106</td><td>103</td><td>NULL</td><td>5</td><td>300</td><td>db</td><td>Béla</td><td>2016-07-07</td></tr><tr><td>02040295T</td><td>Notesz A/5 sima spirál</td><td>106</td><td>89</td><td>NULL</td><td>9</td><td>4100</td><td>db</td><td>Mari</td><td>2016-07-11</td></tr><tr><td>02040296T</td><td>Notesz A/6 College</td><td>106</td><td>56</td><td>NULL</td><td>6</td><td>2000</td><td>db</td><td>Mari</td><td>2016-07-14</td></tr><tr><td>02040297T</td><td>Notesz sima spirál College</td><td>106</td><td>103</td><td>NULL</td><td>9</td><td>1900</td><td>db</td><td>Mari</td><td>2016-07-14</td></tr><tr><td>02040298T</td><td>Notesz mintás</td><td>106</td><td>44</td><td>NULL</td><td>6</td><td>300</td><td>db</td><td>Mari</td><td>2016-07-14</td></tr><tr><td>02040308T</td><td>Pénztárgépsz. 2 pl. nem öníró</td><td>117</td><td>81</td><td>NULL</td><td>9</td><td>300</td><td>db</td><td>Mari</td><td>2016-07-16</td></tr><tr><td>02040309T</td><td>Pénztárgépszalag 2pl SC 57.5/60</td><td>117</td><td>93</td><td>NULL</td><td>6</td><td>100</td><td>db</td><td>Mari</td><td>2016-07-16</td></tr><tr><td>02040401T</td><td>Tűzőgép Boxer 10</td><td>149</td><td>339</td><td>NULL</td><td>8</td><td>300</td><td>db</td><td>Mari</td><td>2016-07-21</td></tr><tr><td>02040402T</td><td>Tűzőgép Boxer </td><td>149</td><td>286</td><td>NULL</td><td>5</td><td>900</td><td>db</td><td>Mari</td><td>2016-07-21</td></tr><tr><td>02040403T</td><td>Tűzőgép SAX 239</td><td>149</td><td>1351</td><td>NULL</td><td>5</td><td>1100</td><td>db</td><td>Mari</td><td>2016-07-21</td></tr><tr><td>02040404T</td><td>Tűzőgép EAGLE</td><td>149</td><td>405</td><td>NULL</td><td>8</td><td>300</td><td>db</td><td>Mari</td><td>2016-07-21</td></tr><tr><td>02040405T</td><td>Tűzőkapocs 10-es</td><td>150</td><td>44</td><td>NULL</td><td>7</td><td>300</td><td>csomag</td><td>Mari</td><td>2016-07-22</td></tr><tr><td>02040406T</td><td>Tűzőkapocs 24/6</td><td>150</td><td>34</td><td>NULL</td><td>9</td><td>4200</td><td>csomag</td><td>Mari</td><td>2016-07-21</td></tr><tr><td>02040506T</td><td>Fólia tasakos A4 125 mik.</td><td>43</td><td>44</td><td>NULL</td><td>9</td><td>100</td><td>ív</td><td>Mari</td><td>2016-07-24</td></tr><tr><td>02040507T</td><td>Fólia tasakos A4 80 mik.</td><td>43</td><td>40</td><td>NULL</td><td>8</td><td>100</td><td>ív</td><td>Mari</td><td>2016-07-23</td></tr><tr><td>02040508T</td><td>Fólia tasakos A4100 mik.</td><td>43</td><td>44</td><td>NULL</td><td>8</td><td>100</td><td>ív</td><td>Sára</td><td>2016-07-28</td></tr><tr><td>02050460T</td><td>Boríték C/4-es</td><td>16</td><td>15</td><td>NULL</td><td>5</td><td>200</td><td>db</td><td>Mari</td><td>2016-07-26</td></tr><tr><td>02050461T</td><td>Boríték B/4-es</td><td>16</td><td>18</td><td>NULL</td><td>8</td><td>100</td><td>db</td><td>Béla</td><td>2016-07-23</td></tr><tr><td>02060034T</td><td>Bélyegzőfesték </td><td>15</td><td>297</td><td>NULL</td><td>9</td><td>700</td><td>db</td><td>Béla</td><td>2016-07-23</td></tr><tr><td>02060038T</td><td>Bélyegző IDEAL 50</td><td>14</td><td>780</td><td>NULL</td><td>8</td><td>100</td><td>db</td><td>Béla</td><td>2016-07-23</td></tr><tr><td>02060039T</td><td>Bélyegző párna</td><td>14</td><td>650</td><td>NULL</td><td>6</td><td>100</td><td>db</td><td>Béla</td><td>2016-07-26</td></tr><tr><td>02060447T</td><td>Bélyegző pocket</td><td>14</td><td>1377</td><td>NULL</td><td>6</td><td>900</td><td>db</td><td>Mari</td><td>2016-07-27</td></tr><tr><td>02060448T</td><td>Bélyegző RP 18-47</td><td>14</td><td>1147</td><td>NULL</td><td>7</td><td>1200</td><td>db</td><td>Sára</td><td>2016-07-29</td></tr><tr><td>02080069T</td><td>CD tartó tok</td><td>17</td><td>30</td><td>NULL</td><td>8</td><td>400</td><td>db</td><td>Sára</td><td>2016-07-29</td></tr><tr><td>02080081T</td><td>Dvd</td><td>29</td><td>133</td><td>NULL</td><td>9</td><td>1300</td><td>db</td><td>Sára</td><td>2016-07-24</td></tr><tr><td>02080109T</td><td>Floppy lemez</td><td>42</td><td>51</td><td>NULL</td><td>7</td><td>500</td><td>db</td><td>Mari</td><td>2016-07-27</td></tr><tr><td>02080226T</td><td>Kapocskiszedő</td><td>82</td><td>106</td><td>NULL</td><td>8</td><td>1300</td><td>db</td><td>Béla</td><td>2016-07-29</td></tr><tr><td>02080431T</td><td>Álló irattartó</td><td>73</td><td>214</td><td>NULL</td><td>8</td><td>200</td><td>db</td><td>Sára</td><td>2016-07-28</td></tr><tr><td>02080432T</td><td>Tokos iratrendező</td><td>71</td><td>259</td><td>NULL</td><td>5</td><td>1100</td><td>db</td><td>Sára</td><td>2016-07-28</td></tr><tr><td>02080433T</td><td>Ragasztószalag 19 mm-es</td><td>125</td><td>55</td><td>NULL</td><td>9</td><td>200</td><td>db</td><td>Sára</td><td>2016-07-28</td></tr><tr><td>02080434T</td><td>Mappa müa A/4</td><td>96</td><td>210</td><td>NULL</td><td>8</td><td>600</td><td>db</td><td>Mari</td><td>2016-07-26</td></tr><tr><td>02080435T</td><td>Mappa bemutató</td><td>96</td><td>184</td><td>NULL</td><td>9</td><td>10000</td><td>db</td><td>Sára</td><td>2016-07-28</td></tr><tr><td>02080436T</td><td>Irattartó müa. boríték A/4</td><td>73</td><td>66</td><td>NULL</td><td>7</td><td>800</td><td>db</td><td>Mari</td><td>2016-07-25</td></tr><tr><td>02080449T</td><td>Térképtű színes</td><td>142</td><td>103</td><td>NULL</td><td>6</td><td>100</td><td>csomag</td><td>Mari</td><td>2016-07-23</td></tr><tr><td>02080450T</td><td>Gémkapocs 28-as színes</td><td>49</td><td>44</td><td>NULL</td><td>8</td><td>200</td><td>csomag</td><td>Mari</td><td>2016-07-23</td></tr><tr><td>02080451T</td><td>Gémkapocs 50-es</td><td>49</td><td>103</td><td>NULL</td><td>5</td><td>100</td><td>csomag</td><td>Mari</td><td>2016-07-23</td></tr><tr><td>02080452T</td><td>Tűzőgép mini</td><td>149</td><td>438</td><td>NULL</td><td>6</td><td>200</td><td>db</td><td>Mari</td><td>2016-07-18</td></tr><tr><td>02080453T</td><td>Lyukasztó EAGLE</td><td>95</td><td>526</td><td>NULL</td><td>7</td><td>600</td><td>db</td><td>Mari</td><td>2016-07-19</td></tr><tr><td>02080454T</td><td>Lyukasztó BOXER</td><td>95</td><td>765</td><td>NULL</td><td>9</td><td>400</td><td>db</td><td>Sára</td><td>2016-07-24</td></tr><tr><td>02080455T</td><td>Festékpatron BCI-3BK</td><td>40</td><td>625</td><td>NULL</td><td>6</td><td>900</td><td>db</td><td>Mari</td><td>2016-07-22</td></tr><tr><td>02080456T</td><td>Genoterm HERLITZ 10-es</td><td>50</td><td>89</td><td>NULL</td><td>7</td><td>500</td><td>csomag</td><td>Béla</td><td>2016-07-21</td></tr><tr><td>02080511T</td><td>Oki toner C</td><td>147</td><td>14250</td><td>NULL</td><td>8</td><td>100</td><td>db</td><td>Béla</td><td>2016-07-20</td></tr><tr><td>02080514T</td><td>Spirál 1/4 </td><td>131</td><td>45</td><td>NULL</td><td>9</td><td>300</td><td>db</td><td>Béla</td><td>2016-07-20</td></tr><tr><td>03010342T</td><td>Ragasztószalag  TIXO</td><td>125</td><td>15</td><td>NULL</td><td>9</td><td>100</td><td>db</td><td>Béla</td><td>2016-07-25</td></tr><tr><td>03010344T</td><td>Ragasztószalag nagy 12 mm</td><td>125</td><td>63</td><td>NULL</td><td>7</td><td>1100</td><td>db</td><td>Béla</td><td>2016-07-25</td></tr><tr><td>03010345T</td><td>Ragasztószalag széles barna</td><td>125</td><td>166</td><td>NULL</td><td>6</td><td>500</td><td>db</td><td>Béla</td><td>2016-07-25</td></tr><tr><td>03050076T</td><td>Díszkötöző szalag metál nagy</td><td>28</td><td>26</td><td>NULL</td><td>8</td><td>800</td><td>db</td><td>Béla</td><td>2016-07-25</td></tr><tr><td>03050077T</td><td>Diszkötöző szalag arany</td><td>28</td><td>44</td><td>NULL</td><td>8</td><td>100</td><td>db</td><td>Mari</td><td>2016-07-24</td></tr><tr><td>03050078T</td><td>Díszkötöző szalag metál kicsi</td><td>28</td><td>15</td><td>NULL</td><td>8</td><td>100</td><td>db</td><td>Mari</td><td>2016-07-21</td></tr><tr><td>03050079T</td><td>Díszkötöző szalag vékony</td><td>28</td><td>15</td><td>NULL</td><td>8</td><td>40000</td><td>db</td><td>Mari</td><td>2016-07-20</td></tr><tr><td>03050080T</td><td>Diszkötöző széles szalag</td><td>28</td><td>81</td><td>NULL</td><td>6</td><td>26000</td><td>db</td><td>Béla</td><td>2016-07-17</td></tr><tr><td>03050457T</td><td>Ajándék cs. tasak kicsi</td><td>6</td><td>26</td><td>NULL</td><td>6</td><td>50000</td><td>db</td><td>Béla</td><td>2016-07-17</td></tr><tr><td>03050458T</td><td>Ajándék cs. 2×100×70</td><td>6</td><td>148</td><td>NULL</td><td>7</td><td>8000</td><td>tekercs</td><td>Sára</td><td>2016-07-22</td></tr><tr><td>03050459T</td><td>Talpas tasak</td><td>6</td><td>40</td><td>NULL</td><td>8</td><td>2600</td><td>db</td><td>Sára</td><td>2016-07-22</td></tr><tr><td>03080003T</td><td>Ajándék cs. tasak italos</td><td>6</td><td>185</td><td>NULL</td><td>6</td><td>400</td><td>db</td><td>Sára</td><td>2016-07-22</td></tr><tr><td>03080004T</td><td>Ajándék cs. tasak italos, fólia</td><td>6</td><td>19</td><td>NULL</td><td>6</td><td>200</td><td>db</td><td>Sára</td><td>2016-07-22</td></tr><tr><td>03080005T</td><td>Ajándék cs. tasak virágos nagy</td><td>6</td><td>290</td><td>NULL</td><td>8</td><td>2500</td><td>db</td><td>Sára</td><td>2016-07-27</td></tr><tr><td>03080006T</td><td>Ajándék cs. tasak mintás kicsi</td><td>6</td><td>26</td><td>NULL</td><td>8</td><td>100</td><td>db</td><td>Mari</td><td>2016-07-31</td></tr><tr><td>03080007T</td><td>Ajándék cs. tasak mintás nagy</td><td>6</td><td>206</td><td>NULL</td><td>9</td><td>2000</td><td>db</td><td>Mari</td><td>2016-07-27</td></tr><tr><td>03080008T</td><td>Ajándék cs. tasak kicsi</td><td>6</td><td>103</td><td>NULL</td><td>7</td><td>2200</td><td>db</td><td>Mari</td><td>2016-07-27</td></tr><tr><td>03080009T</td><td>Ajándék csom. 100x70 metál</td><td>6</td><td>148</td><td>NULL</td><td>8</td><td>700</td><td>db</td><td>Mari</td><td>2016-07-27</td></tr><tr><td>03080010T</td><td>Ajándék csom. 150x70</td><td>6</td><td>206</td><td>NULL</td><td>9</td><td>1900</td><td>db</td><td>Mari</td><td>2016-07-30</td></tr><tr><td>03080011T</td><td>Ajándék cs. tasak közepes</td><td>6</td><td>148</td><td>NULL</td><td>6</td><td>2300</td><td>db</td><td>Mari</td><td>2016-07-28</td></tr><tr><td>03080012T</td><td>Ajándék csom. 200x70</td><td>6</td><td>125</td><td>NULL</td><td>8</td><td>300</td><td>db</td><td>Mari</td><td>2016-07-28</td></tr><tr><td>03080013T</td><td>Ajándék csom. 50x70 húsvéti</td><td>6</td><td>64</td><td>NULL</td><td>6</td><td>600</td><td>db</td><td>Béla</td><td>2016-07-23</td></tr><tr><td>03080014T</td><td>Ajándék csom. 70x50 metál</td><td>6</td><td>81</td><td>NULL</td><td>8</td><td>1000</td><td>db</td><td>Béla</td><td>2016-07-23</td></tr><tr><td>03080015T</td><td>Ajándék csom. gyűrt</td><td>6</td><td>169</td><td>NULL</td><td>9</td><td>1300</td><td>db</td><td>Béla</td><td>2016-07-24</td></tr><tr><td>03080016T</td><td>házt.csom.  5 ív</td><td>22</td><td>110</td><td>NULL</td><td>8</td><td>200</td><td>csomag</td><td>Béla</td><td>2016-07-24</td></tr><tr><td>03080017T</td><td>iskolai csomagoló papír</td><td>24</td><td>148</td><td>NULL</td><td>9</td><td>100</td><td>db</td><td>Sára</td><td>2016-07-29</td></tr><tr><td>03080018T</td><td>Ajándék csom. gyűrt 50x70 </td><td>24</td><td>121</td><td>NULL</td><td>5</td><td>2600</td><td>ív</td><td>Sára</td><td>2016-07-29</td></tr><tr><td>03080019T</td><td>Ajándék csom. Krepp</td><td>24</td><td>56</td><td>NULL</td><td>5</td><td>600</td><td>db</td><td>Béla</td><td>2016-07-27</td></tr><tr><td>03080020T</td><td>Ajándék csom. nagy  </td><td>24</td><td>44</td><td>NULL</td><td>9</td><td>800</td><td>ív</td><td>Sára</td><td>2016-07-22</td></tr><tr><td>03080021T</td><td>Ajándék csom. vékony</td><td>24</td><td>23</td><td>NULL</td><td>7</td><td>200</td><td>db</td><td>Béla</td><td>2016-07-26</td></tr><tr><td>03080030T</td><td>Ajándék cs. húsvéti 200x70</td><td>24</td><td>220</td><td>NULL</td><td>7</td><td>800</td><td>db</td><td>Mari</td><td>2016-07-22</td></tr><tr><td>03080031T</td><td>Ajándék cs. húsvéti</td><td>24</td><td>106</td><td>NULL</td><td>6</td><td>2100</td><td>db</td><td>Sára</td><td>2016-07-27</td></tr><tr><td>03080437T</td><td>Ajándék csomagoló tasak</td><td>6</td><td>185</td><td>NULL</td><td>7</td><td>3600</td><td>db</td><td>Sára</td><td>2016-07-27</td></tr><tr><td>03080438T</td><td>Ajándék csomagoló tasak lézeres</td><td>6</td><td>214</td><td>NULL</td><td>7</td><td>3900</td><td>db</td><td>Sára</td><td>2016-07-28</td></tr><tr><td>03080439T</td><td>Italtartó doboz</td><td>6</td><td>114</td><td>NULL</td><td>8</td><td>1100</td><td>db</td><td>Sára</td><td>2016-07-28</td></tr><tr><td>04020445T</td><td>Határidő napló 2010-s</td><td>62</td><td>728</td><td>NULL</td><td>9</td><td>600</td><td>db</td><td>Sára</td><td>2016-07-24</td></tr><tr><td>04030234T</td><td>Képeslap karácsonyi</td><td>85</td><td>30</td><td>NULL</td><td>5</td><td>2100</td><td>db</td><td>Béla</td><td>2016-07-22</td></tr><tr><td>04030235T</td><td>Képeslap karácsonyi borítékos</td><td>85</td><td>73</td><td>NULL</td><td>7</td><td>900</td><td>db</td><td>Béla</td><td>2016-07-22</td></tr><tr><td>04030236T</td><td>Képeslap karácsonyi WD</td><td>85</td><td>15</td><td>NULL</td><td>6</td><td>10000</td><td>db</td><td>Béla</td><td>2016-07-22</td></tr><tr><td>04030237T</td><td>Képeslap kerek</td><td>85</td><td>36</td><td>NULL</td><td>9</td><td>100</td><td>db</td><td>Béla</td><td>2016-07-17</td></tr><tr><td>04030238T</td><td>Képeslap stancolt</td><td>85</td><td>59</td><td>NULL</td><td>9</td><td>300</td><td>db</td><td>Sára</td><td>2016-07-18</td></tr><tr><td>04030239T</td><td>Képeslap stancolt szív</td><td>85</td><td>48</td><td>NULL</td><td>9</td><td>400</td><td>db</td><td>Béla</td><td>2016-07-21</td></tr><tr><td>04030240T</td><td>Képeslap virágos</td><td>85</td><td>14</td><td>NULL</td><td>7</td><td>1600</td><td>db</td><td>Sára</td><td>2016-07-20</td></tr><tr><td>04030241T</td><td>Képeslap virágos +boríték</td><td>85</td><td>44</td><td>NULL</td><td>8</td><td>2300</td><td>db</td><td>Mari</td><td>2016-07-25</td></tr><tr><td>04030242T</td><td>Képeslap WD +boríték</td><td>85</td><td>118</td><td>NULL</td><td>8</td><td>2300</td><td>db</td><td>Mari</td><td>2016-07-25</td></tr><tr><td>04030243T</td><td>Képkirakó Dirib-darab</td><td>86</td><td>195</td><td>NULL</td><td>7</td><td>1000</td><td>db</td><td>Mari</td><td>2016-07-25</td></tr><tr><td>04030260T</td><td>Levélpapír A/4</td><td>93</td><td>15</td><td>NULL</td><td>6</td><td>1600</td><td>db</td><td>Béla</td><td>2016-07-26</td></tr><tr><td>04030261T</td><td>Levélpapír állatos</td><td>93</td><td>140</td><td>NULL</td><td>6</td><td>1000</td><td>csomag</td><td>Béla</td><td>2016-07-26</td></tr><tr><td>04030262T</td><td>Levélpapír sima</td><td>93</td><td>56</td><td>NULL</td><td>6</td><td>600</td><td>csomag</td><td>Sára</td><td>2016-07-29</td></tr><tr><td>04030263T</td><td>Levélpapír szett</td><td>93</td><td>89</td><td>NULL</td><td>7</td><td>1300</td><td>db</td><td>Sára</td><td>2016-07-29</td></tr><tr><td>04030264T</td><td>Levélpapír szett </td><td>93</td><td>74</td><td>NULL</td><td>6</td><td>300</td><td>db</td><td>Mari</td><td>2016-07-30</td></tr><tr><td>04030265T</td><td>Levélpapír szett natur, mintás</td><td>93</td><td>103</td><td>NULL</td><td>6</td><td>200</td><td>db</td><td>Mari</td><td>2016-07-30</td></tr><tr><td>04030266T</td><td>Levélpapír szett virágos</td><td>93</td><td>169</td><td>NULL</td><td>7</td><td>500</td><td>db</td><td>Mari</td><td>2016-07-30</td></tr><tr><td>04030285T</td><td>Mikulás zacskó</td><td>6</td><td>11</td><td>NULL</td><td>8</td><td>300</td><td>db</td><td>Mari</td><td>2016-07-30</td></tr><tr><td>04030286T</td><td>Műanyag állatok</td><td>25</td><td>44</td><td>NULL</td><td>5</td><td>300</td><td>db</td><td>Mari</td><td>2016-07-30</td></tr><tr><td>04030287T</td><td>Műanyag foszforeszkáló állat</td><td>25</td><td>23</td><td>NULL</td><td>8</td><td>5100</td><td>db</td><td>Béla</td><td>2016-07-26</td></tr><tr><td>04030288T</td><td>Műanyag pohár 1 dl-es</td><td>25</td><td>3</td><td>NULL</td><td>7</td><td>100</td><td>db</td><td>Béla</td><td>2016-07-26</td></tr><tr><td>04030289T</td><td>Műanyag pohár 5 cl-es</td><td>25</td><td>15</td><td>NULL</td><td>6</td><td>2400</td><td>db</td><td>Béla</td><td>2016-07-23</td></tr><tr><td>04040090T</td><td>Emlékkönyv</td><td>32</td><td>526</td><td>NULL</td><td>6</td><td>7700</td><td>db</td><td>Béla</td><td>2016-07-23</td></tr><tr><td>04040387T</td><td>Tenisz labda</td><td>92</td><td>81</td><td>NULL</td><td>8</td><td>600</td><td>db</td><td>Béla</td><td>2016-07-22</td></tr><tr><td>04050022T</td><td>Álarc</td><td>7</td><td>89</td><td>NULL</td><td>8</td><td>500</td><td>db</td><td>Béla</td><td>2016-07-22</td></tr><tr><td>04050023T</td><td>Álarc fejdísz</td><td>7</td><td>144</td><td>NULL</td><td>8</td><td>1000</td><td>db</td><td>Sára</td><td>2016-07-27</td></tr><tr><td>04050024T</td><td>Álarc szemüveg</td><td>7</td><td>144</td><td>NULL</td><td>7</td><td>1000</td><td>db</td><td>Sára</td><td>2016-07-27</td></tr><tr><td>04050035T</td><td>Bérlet tok</td><td>5</td><td>24</td><td>NULL</td><td>5</td><td>1500</td><td>db</td><td>Sára</td><td>2016-07-27</td></tr><tr><td>04050073T</td><td>Díszdoboz kar.</td><td>27</td><td>61</td><td>NULL</td><td>9</td><td>300</td><td>db</td><td>Béla</td><td>2016-08-01</td></tr><tr><td>04050074T</td><td>Díszdoboz tollnak 2 db-os</td><td>27</td><td>66</td><td>NULL</td><td>7</td><td>100</td><td>db</td><td>Mari</td><td>2016-07-28</td></tr><tr><td>04050075T</td><td>Díszdoboz tollnak 2 db-os keskeny</td><td>27</td><td>44</td><td>NULL</td><td>5</td><td>100</td><td>db</td><td>Béla</td><td>2016-07-23</td></tr><tr><td>04050171T</td><td>Gumilabda közepes</td><td>92</td><td>110</td><td>NULL</td><td>7</td><td>500</td><td>db</td><td>Béla</td><td>2016-07-23</td></tr><tr><td>04050187T</td><td>Hajgumi macis</td><td>61</td><td>66</td><td>NULL</td><td>8</td><td>700</td><td>db</td><td>Béla</td><td>2016-07-23</td></tr><tr><td>04050203T</td><td>Hűtőmágnes</td><td>67</td><td>24</td><td>NULL</td><td>7</td><td>300</td><td>db</td><td>Mari</td><td>2016-07-22</td></tr><tr><td>04050204T</td><td>Hűtőmágnes WD</td><td>67</td><td>169</td><td>NULL</td><td>8</td><td>300</td><td>db</td><td>Mari</td><td>2016-07-22</td></tr><tr><td>04050220T</td><td>Játék autó</td><td>79</td><td>65</td><td>NULL</td><td>7</td><td>400</td><td>db</td><td>Mari</td><td>2016-07-27</td></tr><tr><td>04050221T</td><td>Játékautó Blisteres</td><td>79</td><td>133</td><td>NULL</td><td>7</td><td>500</td><td>db</td><td>Mari</td><td>2016-07-27</td></tr><tr><td>04050222T</td><td>Játékautó elemes</td><td>79</td><td>165</td><td>NULL</td><td>7</td><td>100</td><td>db</td><td>Mari</td><td>2016-07-27</td></tr><tr><td>04050223T</td><td>Játékautó mini</td><td>79</td><td>73</td><td>NULL</td><td>7</td><td>400</td><td>db</td><td>Sára</td><td>2016-08-01</td></tr><tr><td>04050224T</td><td>Jelzőkréta</td><td>80</td><td>48</td><td>NULL</td><td>5</td><td>800</td><td>db</td><td>Sára</td><td>2016-08-01</td></tr><tr><td>04050225T</td><td>Kártya mini Magyar</td><td>84</td><td>131</td><td>NULL</td><td>6</td><td>2800</td><td>db</td><td>Sára</td><td>2016-08-01</td></tr><tr><td>04050250T</td><td>Kulcstartó autós</td><td>91</td><td>115</td><td>NULL</td><td>8</td><td>3700</td><td>db</td><td>Béla</td><td>2016-08-05</td></tr><tr><td>04050251T</td><td>Kulcstartó billiárd golyós</td><td>91</td><td>148</td><td>NULL</td><td>8</td><td>3500</td><td>db</td><td>Béla</td><td>2016-08-09</td></tr><tr><td>04050252T</td><td>Kulcstartó Csőrikés</td><td>91</td><td>124</td><td>NULL</td><td>8</td><td>1000</td><td>db</td><td>Béla</td><td>2016-08-05</td></tr><tr><td>04050253T</td><td>Kulcstartó figurás</td><td>91</td><td>103</td><td>NULL</td><td>8</td><td>1200</td><td>db</td><td>Mari</td><td>2016-08-06</td></tr><tr><td>04050254T</td><td>Kulcstartó intarziás állatos</td><td>91</td><td>155</td><td>NULL</td><td>9</td><td>800</td><td>db</td><td>Mari</td><td>2016-08-06</td></tr><tr><td>04050255T</td><td>Kulcstartó mesefigurás</td><td>91</td><td>36</td><td>NULL</td><td>9</td><td>2010</td><td>db</td><td>Mari</td><td>2016-08-09</td></tr><tr><td>04050256T</td><td>Kulcstartó nagyítós</td><td>91</td><td>129</td><td>NULL</td><td>9</td><td>2500</td><td>db</td><td>Mari</td><td>2016-08-09</td></tr><tr><td>04050267T</td><td>Logikai készlet</td><td>5</td><td>129</td><td>NULL</td><td>5</td><td>2000</td><td>db</td><td>Mari</td><td>2016-08-09</td></tr><tr><td>04050268T</td><td>Lufi formázható</td><td>94</td><td>15</td><td>NULL</td><td>7</td><td>3000</td><td>db</td><td>Béla</td><td>2016-08-13</td></tr><tr><td>04050269T</td><td>Lufi hullámos</td><td>94</td><td>11</td><td>NULL</td><td>6</td><td>1300</td><td>db</td><td>Béla</td><td>2016-08-13</td></tr><tr><td>04050320T</td><td>Plüss  QX állatok</td><td>119</td><td>173</td><td>NULL</td><td>9</td><td>500</td><td>db</td><td>Sára</td><td>2016-08-12</td></tr><tr><td>04050321T</td><td>Plüss kicsi</td><td>119</td><td>161</td><td>NULL</td><td>7</td><td>2000</td><td>db</td><td>Sára</td><td>2016-08-12</td></tr><tr><td>04050322T</td><td>Plüss sárkány</td><td>119</td><td>314</td><td>NULL</td><td>5</td><td>100</td><td>db</td><td>Sára</td><td>2016-08-12</td></tr><tr><td>04050358T</td><td>Strandlabda </td><td>132</td><td>356</td><td>NULL</td><td>8</td><td>100</td><td>db</td><td>Sára</td><td>2016-08-08</td></tr><tr><td>04080270T</td><td>Mappa bőr A5</td><td>96</td><td>1765</td><td>NULL</td><td>6</td><td>200</td><td>db</td><td>Sára</td><td>2016-08-08</td></tr><tr><td>04080271T</td><td>Mappa PVC villámzáras</td><td>96</td><td>264</td><td>NULL</td><td>8</td><td>100</td><td>db</td><td>Sára</td><td>2016-08-07</td></tr><tr><td>04080272T</td><td>Mappa PVC villámzáras  képes</td><td>96</td><td>360</td><td>NULL</td><td>9</td><td>1000</td><td>db</td><td>Mari</td><td>2016-08-11</td></tr><tr><td>04080442T</td><td>Emlékkönyv</td><td>32</td><td>316</td><td>NULL</td><td>7</td><td>3000</td><td>db</td><td>Mari</td><td>2016-08-11</td></tr><tr><td>04080443T</td><td>Emlékkönyv lakatos</td><td>32</td><td>449</td><td>NULL</td><td>7</td><td>1000</td><td>db</td><td>Sára</td><td>2016-08-06</td></tr><tr><td>04110066T</td><td>Címke 8 db-os</td><td>20</td><td>26</td><td>NULL</td><td>7</td><td>700</td><td>db</td><td>Sára</td><td>2016-08-06</td></tr><tr><td>04110067T</td><td>Címke WD. állat</td><td>20</td><td>31</td><td>NULL</td><td>7</td><td>300</td><td>db</td><td>Sára</td><td>2016-08-09</td></tr><tr><td>04110068T</td><td>Címke egyszínű</td><td>20</td><td>20</td><td>NULL</td><td>9</td><td>200</td><td>db</td><td>Béla</td><td>2016-08-05</td></tr><tr><td>04110227T</td><td>Képeslap  borítékos</td><td>85</td><td>33</td><td>NULL</td><td>6</td><td>100</td><td>db</td><td>Mari</td><td>2016-08-10</td></tr><tr><td>04110228T</td><td>Képeslap &quot;Nászajándék&quot;</td><td>85</td><td>184</td><td>NULL</td><td>9</td><td>600</td><td>db</td><td>Béla</td><td>2016-08-10</td></tr><tr><td>04110229T</td><td>Képeslap &quot;Részvét&quot;</td><td>85</td><td>33</td><td>NULL</td><td>5</td><td>200</td><td>db</td><td>Béla</td><td>2016-08-10</td></tr><tr><td>04110230T</td><td>Képeslap humoros </td><td>85</td><td>55</td><td>NULL</td><td>6</td><td>1000</td><td>db</td><td>Mari</td><td>2016-08-13</td></tr><tr><td>04110231T</td><td>Képeslap humoros borítékos</td><td>85</td><td>81</td><td>NULL</td><td>5</td><td>1000</td><td>db</td><td>Mari</td><td>2016-08-13</td></tr><tr><td>04110232T</td><td>Képeslap humoros kaparós</td><td>85</td><td>51</td><td>NULL</td><td>8</td><td>900</td><td>db</td><td>Mari</td><td>2016-08-12</td></tr><tr><td>04110233T</td><td>Képeslap humoros</td><td>85</td><td>89</td><td>NULL</td><td>5</td><td>700</td><td>db</td><td>Béla</td><td>2016-08-07</td></tr><tr><td>04110258T</td><td>Lampion</td><td>5</td><td>73</td><td>NULL</td><td>9</td><td>1000</td><td>db</td><td>Mari</td><td>2016-08-03</td></tr><tr><td>04110273T</td><td>Matrica állatos</td><td>97</td><td>55</td><td>NULL</td><td>5</td><td>6200</td><td>db</td><td>Mari</td><td>2016-07-29</td></tr><tr><td>04110274T</td><td>Matrica autóra H</td><td>97</td><td>49</td><td>NULL</td><td>5</td><td>300</td><td>db</td><td>Béla</td><td>2016-07-24</td></tr><tr><td>04110275T</td><td>Matrica motoros kicsi</td><td>97</td><td>49</td><td>NULL</td><td>9</td><td>200</td><td>db</td><td>Mari</td><td>2016-07-22</td></tr><tr><td>04110276T</td><td>Matrica Stickers nagy állatos</td><td>97</td><td>109</td><td>NULL</td><td>9</td><td>400</td><td>db</td><td>Mari</td><td>2016-07-22</td></tr><tr><td>04110277T</td><td>Matrica Stickers szíves</td><td>97</td><td>93</td><td>NULL</td><td>6</td><td>900</td><td>db</td><td>Béla</td><td>2016-07-21</td></tr><tr><td>04110278T</td><td>Matrica Test ékszer tattoo</td><td>97</td><td>161</td><td>NULL</td><td>8</td><td>500</td><td>db</td><td>Béla</td><td>2016-07-21</td></tr><tr><td>04110279T</td><td>Matrica tetoválás</td><td>97</td><td>168</td><td>NULL</td><td>7</td><td>700</td><td>db</td><td>Béla</td><td>2016-07-21</td></tr><tr><td>04110280T</td><td>Matrica tetoválós kicsi</td><td>97</td><td>148</td><td>NULL</td><td>9</td><td>300</td><td>db</td><td>Mari</td><td>2016-07-23</td></tr><tr><td>04110281T</td><td>Matrica világítós </td><td>97</td><td>175</td><td>NULL</td><td>9</td><td>100</td><td>db</td><td>Sára</td><td>2016-07-25</td></tr><tr><td>04110282T</td><td>Matrica WD kicsi</td><td>97</td><td>56</td><td>NULL</td><td>5</td><td>300</td><td>db</td><td>Sára</td><td>2016-07-25</td></tr><tr><td>04110283T</td><td>Meghívó állatos</td><td>98</td><td>155</td><td>NULL</td><td>5</td><td>100</td><td>db</td><td>Sára</td><td>2016-07-23</td></tr><tr><td>04110284T</td><td>Meghívó borítékos</td><td>98</td><td>169</td><td>NULL</td><td>5</td><td>100</td><td>db</td><td>Sára</td><td>2016-07-26</td></tr><tr><td>04110362T</td><td>Szalvéta gyűjtőknek</td><td>133</td><td>183</td><td>NULL</td><td>5</td><td>1200</td><td>csomag</td><td>Sára</td><td>2016-07-26</td></tr><tr><td>05010026T</td><td>Alufólia 10 m-es</td><td>9</td><td>118</td><td>NULL</td><td>9</td><td>100</td><td>db</td><td>Sára</td><td>2016-07-26</td></tr><tr><td>05010027T</td><td>Alufólia 20 m-es</td><td>9</td><td>214</td><td>NULL</td><td>6</td><td>5900</td><td>db</td><td>Mari</td><td>2016-07-29</td></tr><tr><td>05010306T</td><td>Papízsebkendő,10db Szindy</td><td>114</td><td>20</td><td>NULL</td><td>8</td><td>5000</td><td>csomag</td><td>Sára</td><td>2016-08-03</td></tr><tr><td>05010369T</td><td>Szemetes zsák 60 literes</td><td>135</td><td>129</td><td>NULL</td><td>7</td><td>300</td><td>csomag</td><td>Sára</td><td>2016-08-03</td></tr><tr><td>05010370T</td><td>Szilvia csomagoló</td><td>22</td><td>89</td><td>NULL</td><td>7</td><td>100</td><td>db</td><td>Sára</td><td>2016-08-03</td></tr><tr><td>05040310T</td><td>Pill.ragasztó</td><td>124</td><td>103</td><td>NULL</td><td>8</td><td>300</td><td>db</td><td>Béla</td><td>2016-07-30</td></tr><tr><td>05040348T</td><td>Rajzszeg színes</td><td>128</td><td>106</td><td>NULL</td><td>8</td><td>200</td><td>csomag</td><td>Béla</td><td>2016-07-30</td></tr><tr><td>05040349T</td><td>Rajzszeg</td><td>128</td><td>63</td><td>NULL</td><td>6</td><td>600</td><td>db</td><td>Béla</td><td>2016-07-30</td></tr><tr><td>05050045T</td><td>Celofán</td><td>18</td><td>46</td><td>NULL</td><td>8</td><td>200</td><td>csomag</td><td>Béla</td><td>2016-07-30</td></tr><tr><td>05050046T</td><td>Celofán 50 db-os</td><td>18</td><td>73</td><td>NULL</td><td>8</td><td>100</td><td>db</td><td>Béla</td><td>2016-08-03</td></tr><tr><td>05050170T</td><td>Gumigyűrű</td><td>53</td><td>19</td><td>NULL</td><td>9</td><td>400</td><td>csomag</td><td>Béla</td><td>2016-08-08</td></tr><tr><td>05050346T</td><td>Rágógumi Orbit</td><td>126</td><td>89</td><td>NULL</td><td>9</td><td>400</td><td>csomag</td><td>Béla</td><td>2016-08-08</td></tr><tr><td>05050465T</td><td>Tapétavágó kés</td><td>140</td><td>40</td><td>NULL</td><td>6</td><td>1600</td><td>db</td><td>Mari</td><td>2016-08-09</td></tr><tr><td>05080340T</td><td>Ragasztó, Technokol 35g kék</td><td>124</td><td>144</td><td>NULL</td><td>8</td><td>200</td><td>db</td><td>Mari</td><td>2016-08-09</td></tr><tr><td>05080341T</td><td>Ragasztó, Technokol 35g piros</td><td>124</td><td>144</td><td>NULL</td><td>6</td><td>1100</td><td>db</td><td>Mari</td><td>2016-08-09</td></tr><tr><td>05110359T</td><td>Szalvéta </td><td>133</td><td>176</td><td>NULL</td><td>8</td><td>100</td><td>csomag</td><td>Mari</td><td>2016-08-09</td></tr><tr><td>05110360T</td><td>Szalvéta egyszínű</td><td>133</td><td>118</td><td>NULL</td><td>6</td><td>1000</td><td>csomag</td><td>Béla</td><td>2016-08-06</td></tr><tr><td>05110361T</td><td>Szalvéta Goma húsvéti</td><td>133</td><td>175</td><td>NULL</td><td>7</td><td>1500</td><td>csomag</td><td>Béla</td><td>2016-08-06</td></tr><tr><td>05110363T</td><td>Szalvéta dekor</td><td>133</td><td>133</td><td>NULL</td><td>9</td><td>100</td><td>csomag</td><td>Béla</td><td>2016-08-06</td></tr><tr><td>05110364T</td><td>Szalvéta kicsi virágos</td><td>133</td><td>161</td><td>NULL</td><td>8</td><td>300</td><td>csomag</td><td>Mari</td><td>2016-08-11</td></tr><tr><td>06010036T</td><td>Betűtartó sin</td><td>78</td><td>33</td><td>NULL</td><td>7</td><td>300</td><td>db</td><td>Béla</td><td>2016-08-08</td></tr><tr><td>06010082T</td><td>Ecset Centrum 10,11,12</td><td>30</td><td>40</td><td>NULL</td><td>8</td><td>200</td><td>db</td><td>Béla</td><td>2016-08-08</td></tr><tr><td>06010083T</td><td>Ecset Centrum 7,8,9</td><td>30</td><td>33</td><td>NULL</td><td>6</td><td>900</td><td>db</td><td>Sára</td><td>2016-08-09</td></tr><tr><td>06010084T</td><td>Ecset Deák 2-es</td><td>30</td><td>60</td><td>NULL</td><td>9</td><td>200</td><td>db</td><td>Sára</td><td>2016-08-09</td></tr><tr><td>06010085T</td><td>Ecset Lizzy 10-es</td><td>30</td><td>65</td><td>NULL</td><td>5</td><td>200</td><td>db</td><td>Sára</td><td>2016-08-09</td></tr><tr><td>06010086T</td><td>Ecset Nebulo 4-es</td><td>30</td><td>36</td><td>NULL</td><td>8</td><td>3600</td><td>db</td><td>Mari</td><td>2016-08-08</td></tr><tr><td>06010111T</td><td>Füzet  A/4 </td><td>45</td><td>68</td><td>NULL</td><td>9</td><td>600</td><td>db</td><td>Mari</td><td>2016-08-08</td></tr><tr><td>06010112T</td><td>Füzet  A4 mintás</td><td>45</td><td>78</td><td>NULL</td><td>9</td><td>1500</td><td>db</td><td>Mari</td><td>2016-08-06</td></tr><tr><td>06010113T</td><td>Füzet 31-32 szótár</td><td>45</td><td>34</td><td>NULL</td><td>8</td><td>4500</td><td>db</td><td>Sára</td><td>2016-08-11</td></tr><tr><td>06010114T</td><td>Füzet A/5 hangjegy 36/16</td><td>45</td><td>30</td><td>NULL</td><td>6</td><td>800</td><td>db</td><td>Béla</td><td>2016-08-11</td></tr><tr><td>06010115T</td><td>Füzet A/5, mintás</td><td>45</td><td>48</td><td>NULL</td><td>9</td><td>100</td><td>db</td><td>Béla</td><td>2016-08-08</td></tr><tr><td>06010201T</td><td>Hőmérő, műa.</td><td>78</td><td>36</td><td>NULL</td><td>6</td><td>1400</td><td>db</td><td>Mari</td><td>2016-08-10</td></tr><tr><td>06010202T</td><td>Hurkapálca 10 db-os</td><td>78</td><td>23</td><td>NULL</td><td>6</td><td>150</td><td>csomag</td><td>Béla</td><td>2016-08-12</td></tr><tr><td>06010305T</td><td>Papírcenti 100 cm-es</td><td>78</td><td>9</td><td>NULL</td><td>6</td><td>100</td><td>db</td><td>Béla</td><td>2016-08-12</td></tr><tr><td>06010343T</td><td>Ragasztószalag 19 mm-es SCOTCH+ tépő</td><td>124</td><td>426</td><td>NULL</td><td>6</td><td>1600</td><td>db</td><td>Béla</td><td>2016-08-12</td></tr><tr><td>06010365T</td><td>Számegyenes</td><td>78</td><td>36</td><td>NULL</td><td>8</td><td>900</td><td>db</td><td>Béla</td><td>2016-08-10</td></tr><tr><td>06010366T</td><td>Számológép Roxin</td><td>134</td><td>508</td><td>NULL</td><td>6</td><td>300</td><td>db</td><td>Béla</td><td>2016-08-11</td></tr><tr><td>06010367T</td><td>Számolókorong</td><td>78</td><td>35</td><td>NULL</td><td>6</td><td>300</td><td>csomag</td><td>Béla</td><td>2016-08-11</td></tr><tr><td>06010368T</td><td>Számolópálca</td><td>78</td><td>61</td><td>NULL</td><td>5</td><td>900</td><td>csomag</td><td>Sára</td><td>2016-08-10</td></tr><tr><td>06010373T</td><td>Színes papír I.II-IV.V-VIII-ig</td><td>78</td><td>43</td><td>NULL</td><td>8</td><td>2200</td><td>db</td><td>Sára</td><td>2016-08-10</td></tr><tr><td>06010374T</td><td>Szorzótábla műanyag</td><td>78</td><td>45</td><td>NULL</td><td>8</td><td>1600</td><td>db</td><td>Béla</td><td>2016-08-08</td></tr><tr><td>06010375T</td><td>Szögmérő 180 fokos műa.</td><td>137</td><td>24</td><td>NULL</td><td>6</td><td>200</td><td>db</td><td>Béla</td><td>2016-08-08</td></tr><tr><td>06010376T</td><td>Szögmérő papír</td><td>137</td><td>11</td><td>NULL</td><td>6</td><td>100</td><td>db</td><td>Béla</td><td>2016-08-03</td></tr><tr><td>06010377T</td><td>Szögmérő színes</td><td>137</td><td>8</td><td>NULL</td><td>9</td><td>200</td><td>db</td><td>Mari</td><td>2016-08-01</td></tr><tr><td>06040087T</td><td>Ecset Nebuló 10-es</td><td>30</td><td>79</td><td>NULL</td><td>7</td><td>4000</td><td>db</td><td>Mari</td><td>2016-08-01</td></tr><tr><td>06040088T</td><td>Egészségügyi könyv</td><td>78</td><td>51</td><td>NULL</td><td>7</td><td>4400</td><td>db</td><td>Sára</td><td>2016-08-01</td></tr><tr><td>06040089T</td><td>Ellenőrzőborító</td><td>78</td><td>5</td><td>NULL</td><td>7</td><td>200</td><td>db</td><td>Sára</td><td>2016-08-01</td></tr><tr><td>06040172T</td><td>Gumis mappa csomagolt</td><td>96</td><td>195</td><td>NULL</td><td>7</td><td>2000</td><td>db</td><td>Mari</td><td>2016-08-06</td></tr><tr><td>06040173T</td><td>Gumis mappa fóliázott állatos</td><td>96</td><td>211</td><td>NULL</td><td>7</td><td>1800</td><td>db</td><td>Mari</td><td>2016-08-06</td></tr><tr><td>06040174T</td><td>Gumis mappa </td><td>96</td><td>148</td><td>NULL</td><td>6</td><td>7000</td><td>db</td><td>Sára</td><td>2016-08-01</td></tr><tr><td>06040175T</td><td>Gumis mappa Köbüki</td><td>96</td><td>191</td><td>NULL</td><td>8</td><td>400</td><td>db</td><td>Sára</td><td>2016-08-01</td></tr><tr><td>06040179T</td><td>Gyurma színes 200 g-os</td><td>59</td><td>180</td><td>NULL</td><td>6</td><td>100</td><td>db</td><td>Sára</td><td>2016-08-01</td></tr><tr><td>06040180T</td><td>Gyurma színes natúr</td><td>59</td><td>228</td><td>NULL</td><td>8</td><td>400</td><td>db</td><td>Mari</td><td>2016-08-04</td></tr><tr><td>06040181T</td><td>Gyűjtőlap A/4</td><td>78</td><td>8</td><td>NULL</td><td>6</td><td>2600</td><td>db</td><td>Mari</td><td>2016-08-01</td></tr><tr><td>06040182T</td><td>Gyűrűskönyv bet. A/4</td><td>60</td><td>184</td><td>NULL</td><td>7</td><td>2600</td><td>db</td><td>Mari</td><td>2016-08-01</td></tr><tr><td>06040183T</td><td>Gyűrűskönyv bet. A/5</td><td>60</td><td>95</td><td>NULL</td><td>9</td><td>200</td><td>db</td><td>Mari</td><td>2016-08-01</td></tr><tr><td>06040184T</td><td>Gyűrűskönyv betét A/5</td><td>60</td><td>218</td><td>NULL</td><td>9</td><td>100</td><td>db</td><td>Mari</td><td>2016-07-27</td></tr><tr><td>06040185T</td><td>Gyűrűskönyv</td><td>60</td><td>581</td><td>NULL</td><td>9</td><td>1800</td><td>db</td><td>Mari</td><td>2016-07-27</td></tr><tr><td>06040186T</td><td>Gyűrűskönyv színes</td><td>60</td><td>699</td><td>NULL</td><td>6</td><td>700</td><td>db</td><td>Sára</td><td>2016-07-27</td></tr><tr><td>06040205T</td><td>Indigó Pelikán</td><td>68</td><td>15</td><td>NULL</td><td>5</td><td>200</td><td>db</td><td>Sára</td><td>2016-07-28</td></tr><tr><td>06040206T</td><td>kék indigó</td><td>68</td><td>12</td><td>NULL</td><td>5</td><td>100</td><td>db</td><td>Sára</td><td>2016-12-11</td></tr><tr><td>06040212T</td><td>Írólap 10-50 ffam.</td><td>75</td><td>29</td><td>NULL</td><td>8</td><td>400</td><td>db</td><td>Sára</td><td>2016-08-01</td></tr><tr><td>06040213T</td><td>Írólap 20-50 </td><td>75</td><td>34</td><td>NULL</td><td>8</td><td>100</td><td>db</td><td>Sára</td><td>2016-07-28</td></tr><tr><td>06040246T</td><td>Körző</td><td>89</td><td>161</td><td>NULL</td><td>5</td><td>100</td><td>db</td><td>Béla</td><td>2016-07-24</td></tr><tr><td>06040247T</td><td>Körzőhegy grafit</td><td>89</td><td>30</td><td>NULL</td><td>8</td><td>2200</td><td>db</td><td>Béla</td><td>2016-07-24</td></tr><tr><td>06040248T</td><td>Körző maped</td><td>89</td><td>243</td><td>NULL</td><td>6</td><td>300</td><td>db</td><td>Béla</td><td>2016-07-21</td></tr><tr><td>06040323T</td><td>Post-it 51×38 100 lapos</td><td>121</td><td>36</td><td>NULL</td><td>8</td><td>200</td><td>db</td><td>Béla</td><td>2016-07-23</td></tr><tr><td>06040324T</td><td>Post-it 75×75 100 lapos</td><td>121</td><td>89</td><td>NULL</td><td>7</td><td>1500</td><td>db</td><td>Sára</td><td>2016-07-23</td></tr><tr><td>06040325T</td><td>Radír gyümölcsös</td><td>122</td><td>40</td><td>NULL</td><td>9</td><td>2600</td><td>db</td><td>Béla</td><td>2016-07-20</td></tr><tr><td>06040326T</td><td>Radír KOH-I-NOR 80</td><td>122</td><td>19</td><td>NULL</td><td>8</td><td>100</td><td>db</td><td>Béla</td><td>2016-07-20</td></tr><tr><td>06040327T</td><td>Radír Koh-i-nor 40</td><td>122</td><td>36</td><td>NULL</td><td>9</td><td>2200</td><td>db</td><td>Béla</td><td>2016-07-17</td></tr><tr><td>06040328T</td><td>Radír Maped</td><td>122</td><td>44</td><td>NULL</td><td>8</td><td>2400</td><td>db</td><td>Béla</td><td>2016-07-17</td></tr><tr><td>06040329T</td><td>Radír stabilo</td><td>122</td><td>44</td><td>NULL</td><td>6</td><td>1700</td><td>db</td><td>Béla</td><td>2016-07-17</td></tr><tr><td>06040330T</td><td>Radír Tikky 30 </td><td>122</td><td>50</td><td>NULL</td><td>7</td><td>1100</td><td>db</td><td>Sára</td><td>2016-07-12</td></tr><tr><td>06040331T</td><td>Radír Tikky 40 </td><td>122</td><td>49</td><td>NULL</td><td>8</td><td>200</td><td>db</td><td>Sára</td><td>2016-07-12</td></tr><tr><td>06040347T</td><td>Rajzlap A/4 10db ffam.</td><td>127</td><td>28</td><td>NULL</td><td>5</td><td>200</td><td>csomag</td><td>Sára</td><td>2016-07-12</td></tr><tr><td>06040350T</td><td>Regiszteres füzet A4</td><td>129</td><td>256</td><td>NULL</td><td>9</td><td>500</td><td>db</td><td>Béla</td><td>2016-07-12</td></tr><tr><td>06040351T</td><td>Regiszteres füzet A5 Hightech</td><td>129</td><td>203</td><td>NULL</td><td>5</td><td>200</td><td>db</td><td>Sára</td><td>2016-07-11</td></tr><tr><td>06040352T</td><td>Rovatolt papír 20 íves</td><td>78</td><td>103</td><td>NULL</td><td>6</td><td>0</td><td>db</td><td>Mari</td><td>2016-07-16</td></tr><tr><td>06040353T</td><td>Sorvezető</td><td>78</td><td>8</td><td>NULL</td><td>5</td><td>600</td><td>db</td><td>Béla</td><td>2016-07-16</td></tr><tr><td>06040354T</td><td>Sp.Füzet A/4  perforált, lyuk.</td><td>45</td><td>206</td><td>NULL</td><td>5</td><td>800</td><td>db</td><td>Sára</td><td>2016-07-20</td></tr><tr><td>06040355T</td><td>Sp.Füzet A/4 70-as</td><td>45</td><td>155</td><td>NULL</td><td>8</td><td>600</td><td>db</td><td>Béla</td><td>2016-07-21</td></tr><tr><td>06040356T</td><td>Sp.Füzet A/4  70es</td><td>45</td><td>144</td><td>NULL</td><td>8</td><td>100</td><td>db</td><td>Mari</td><td>2016-07-24</td></tr><tr><td>06040357T</td><td>Sp.Füzet A/5 70-es</td><td>45</td><td>89</td><td>NULL</td><td>6</td><td>4400</td><td>db</td><td>Mari</td><td>2016-07-24</td></tr><tr><td>06040378T</td><td>Szövegkiemelő vékony</td><td>138</td><td>89</td><td>NULL</td><td>8</td><td>100</td><td>db</td><td>Mari</td><td>2016-07-24</td></tr><tr><td>06040379T</td><td>Szövegkiemelő </td><td>138</td><td>93</td><td>NULL</td><td>9</td><td>200</td><td>db</td><td>Béla</td><td>2016-07-23</td></tr><tr><td>06040380T</td><td>Szövegkiemelő</td><td>138</td><td>78</td><td>NULL</td><td>5</td><td>500</td><td>db</td><td>Sára</td><td>2016-07-20</td></tr><tr><td>06040381T</td><td>Szövegkiemelő Videotip</td><td>138</td><td>103</td><td>NULL</td><td>6</td><td>100</td><td>csomag</td><td>Béla</td><td>2016-07-22</td></tr><tr><td>06040382T</td><td>Táblafilc</td><td>139</td><td>633</td><td>NULL</td><td>9</td><td>500</td><td>csomag</td><td>Béla</td><td>2016-07-22</td></tr><tr><td>06040383T</td><td>Taffet papír</td><td>78</td><td>19</td><td>NULL</td><td>6</td><td>300</td><td>db</td><td>Béla</td><td>2016-07-22</td></tr><tr><td>06040384T</td><td>Technika cs. I-II-III-IV</td><td>78</td><td>58</td><td>NULL</td><td>5</td><td>500</td><td>db</td><td>Béla</td><td>2016-07-22</td></tr><tr><td>06040385T</td><td>Tempera szóló ezüst</td><td>141</td><td>96</td><td>NULL</td><td>8</td><td>100</td><td>db</td><td>Sára</td><td>2016-07-24</td></tr><tr><td>06040386T</td><td>Tempera szóló színes</td><td>141</td><td>48</td><td>NULL</td><td>8</td><td>100</td><td>db</td><td>Mari</td><td>2016-07-22</td></tr><tr><td>06040392T</td><td>Tolltartó 1 zipzáros</td><td>146</td><td>728</td><td>NULL</td><td>7</td><td>400</td><td>db</td><td>Sára</td><td>2016-07-17</td></tr><tr><td>06040393T</td><td>Tolltartó 2 részes NG.</td><td>146</td><td>765</td><td>NULL</td><td>9</td><td>1000</td><td>db</td><td>Sára</td><td>2016-07-19</td></tr><tr><td>06040394T</td><td>Tolltartó zipzáras</td><td>146</td><td>324</td><td>NULL</td><td>5</td><td>100</td><td>db</td><td>Béla</td><td>2016-07-18</td></tr><tr><td>06040395T</td><td>Tolltartó 2 zipzáros töltött</td><td>146</td><td>728</td><td>NULL</td><td>7</td><td>700</td><td>db</td><td>Béla</td><td>2016-07-18</td></tr><tr><td>06040396T</td><td>Tolltartó Garfield</td><td>146</td><td>410</td><td>NULL</td><td>7</td><td>2900</td><td>db</td><td>Béla</td><td>2016-07-18</td></tr><tr><td>06040397T</td><td>Tolltartó asztali</td><td>146</td><td>655</td><td>NULL</td><td>8</td><td>700</td><td>csomag</td><td>Sára</td><td>2016-07-17</td></tr><tr><td>06040398T</td><td>Tolltartó hengeres </td><td>146</td><td>411</td><td>NULL</td><td>5</td><td>100</td><td>db</td><td>Sára</td><td>2016-07-17</td></tr><tr><td>06040399T</td><td>Tombola tömb</td><td>78</td><td>125</td><td>NULL</td><td>7</td><td>100</td><td>db</td><td>Sára</td><td>2016-07-17</td></tr><tr><td>06040400T</td><td>Tornazsák</td><td>78</td><td>511</td><td>NULL</td><td>8</td><td>200</td><td>db</td><td>Sára</td><td>2016-07-17</td></tr><tr><td>06040446T</td><td>Számológép tudományos</td><td>134</td><td>1173</td><td>NULL</td><td>5</td><td>200</td><td>db</td><td>Sára</td><td>2016-07-17</td></tr><tr><td>06050249T</td><td>Krepp papír</td><td>78</td><td>73</td><td>NULL</td><td>5</td><td>500</td><td>db</td><td>Mari</td><td>2016-07-15</td></tr><tr><td>06050301T</td><td>Olló gyerek </td><td>111</td><td>133</td><td>NULL</td><td>8</td><td>100</td><td>db</td><td>Mari</td><td>2016-07-15</td></tr><tr><td>06050302T</td><td>Olló Tagit 18 cm-es</td><td>111</td><td>176</td><td>NULL</td><td>5</td><td>400</td><td>db</td><td>Mari</td><td>2016-07-15</td></tr><tr><td>06050303T</td><td>Olló, iskolai</td><td>111</td><td>161</td><td>NULL</td><td>7</td><td>100</td><td>db</td><td>Sára</td><td>2016-07-12</td></tr><tr><td>06080116T</td><td>Füzet A5 1-8 osz.-ig</td><td>45</td><td>34</td><td>NULL</td><td>7</td><td>200</td><td>db</td><td>Béla</td><td>2016-07-13</td></tr><tr><td>06080117T</td><td>Füzetborító A/4 átlátszó</td><td>46</td><td>10</td><td>NULL</td><td>6</td><td>600</td><td>db</td><td>Mari</td><td>2016-07-14</td></tr><tr><td>06080118T</td><td>Füzetborító átlátszó A5</td><td>46</td><td>8</td><td>NULL</td><td>6</td><td>300</td><td>db</td><td>Mari</td><td>2016-07-09</td></tr><tr><td>06080119T</td><td>Füzetborító mesefig.</td><td>46</td><td>19</td><td>NULL</td><td>2</td><td>100</td><td>db</td><td>Mari</td><td>2016-07-09</td></tr><tr><td>06080120T</td><td>Füzetborító öntapadó kicsi</td><td>46</td><td>23</td><td>NULL</td><td>9</td><td>100</td><td>db</td><td>Béla</td><td>2016-07-08</td></tr><tr><td>06080121T</td><td>Füzetborító öntapadó tekercses</td><td>46</td><td>195</td><td>NULL</td><td>7</td><td>300</td><td>csomag</td><td>Béla</td><td>2016-07-08</td></tr><tr><td>06080122T</td><td>Füzetborító öntapadós nagy</td><td>46</td><td>19</td><td>NULL</td><td>7</td><td>300</td><td>db</td><td>Béla</td><td>2016-07-05</td></tr><tr><td>06080123T</td><td>Füzettartó A/4 keménytáblás</td><td>47</td><td>551</td><td>NULL</td><td>6</td><td>2000</td><td>db</td><td>Sára</td><td>2016-07-10</td></tr><tr><td>06080124T</td><td>Füzettartó A/4 keménytáblás</td><td>47</td><td>508</td><td>NULL</td><td>6</td><td>900</td><td>db</td><td>Mari</td><td>2016-07-14</td></tr><tr><td>06080125T</td><td>Füzettartó A/5 vastag</td><td>47</td><td>411</td><td>NULL</td><td>7</td><td>400</td><td>db</td><td>Mari</td><td>2016-07-14</td></tr><tr><td>06080126T</td><td>Füzettartó A/5  </td><td>47</td><td>203</td><td>NULL</td><td>9</td><td>1500</td><td>db</td><td>Mari</td><td>2016-07-09</td></tr><tr><td>06080188T</td><td>Hegyező gép</td><td>64</td><td>875</td><td>NULL</td><td>8</td><td>900</td><td>db</td><td>Sára</td><td>2016-07-14</td></tr><tr><td>06080189T</td><td>Hegyező műanyag dupla</td><td>64</td><td>30</td><td>NULL</td><td>6</td><td>500</td><td>db</td><td>Sára</td><td>2016-07-09</td></tr><tr><td>06080190T</td><td>Hegyező műanyag egyes</td><td>64</td><td>23</td><td>NULL</td><td>6</td><td>1000</td><td>db</td><td>Sára</td><td>2016-07-09</td></tr><tr><td>06080191T</td><td>Hegyező tartályos egyes</td><td>64</td><td>30</td><td>NULL</td><td>8</td><td>300</td><td>db</td><td>Sára</td><td>2016-07-10</td></tr><tr><td>06080192T</td><td>Hegyző fém 1 lyukú</td><td>65</td><td>70</td><td>NULL</td><td>9</td><td>200</td><td>db</td><td>Sára</td><td>2016-07-07</td></tr><tr><td>06080193T</td><td>Hegyző fém 2 lyukú</td><td>65</td><td>180</td><td>NULL</td><td>7</td><td>100</td><td>db</td><td>Sára</td><td>2016-07-07</td></tr><tr><td>06080259T</td><td>Leckefüzet</td><td>78</td><td>161</td><td>NULL</td><td>6</td><td>0</td><td>db</td><td>Mari</td><td>2016-07-02</td></tr><tr><td>06080332T</td><td>Radírtoll betét ER100</td><td>123</td><td>74</td><td>NULL</td><td>5</td><td>1500</td><td>db</td><td>Mari</td><td>2016-07-02</td></tr><tr><td>06080333T</td><td>Radírtoll betét vastag</td><td>123</td><td>119</td><td>NULL</td><td>7</td><td>500</td><td>db</td><td>Béla</td><td>2016-07-01</td></tr><tr><td>06080334T</td><td>Ragasztó szalag KORES </td><td>124</td><td>133</td><td>NULL</td><td>5</td><td>3000</td><td>db</td><td>Mari</td><td>2016-07-02</td></tr><tr><td>06080335T</td><td>Ragasztó 9 g Pax</td><td>124</td><td>110</td><td>NULL</td><td>9</td><td>200</td><td>db</td><td>Mari</td><td>2016-07-02</td></tr><tr><td>06080336T</td><td>Ragasztó 8 g Pritt</td><td>124</td><td>81</td><td>NULL</td><td>9</td><td>4900</td><td>db</td><td>Mari</td><td>2016-07-02</td></tr><tr><td>06080337T</td><td>Ragasztó Gyurma</td><td>124</td><td>293</td><td>NULL</td><td>7</td><td>100</td><td>db</td><td>Sára</td><td>2016-07-06</td></tr><tr><td>06080338T</td><td>Ragasztó kenőfejes Nebuló</td><td>124</td><td>101</td><td>NULL</td><td>8</td><td>3600</td><td>db</td><td>Mari</td><td>2016-07-08</td></tr><tr><td>06080339T</td><td>Ragasztó kores</td><td>124</td><td>89</td><td>NULL</td><td>5</td><td>900</td><td>db</td><td>Mari</td><td>2016-07-11</td></tr><tr><td>06080407T</td><td>Vízfesték  12 színű nagy</td><td>151</td><td>249</td><td>NULL</td><td>7</td><td>100</td><td>db</td><td>Sára</td><td>2016-07-14</td></tr><tr><td>06080408T</td><td>Vízfesték 12 db-os </td><td>151</td><td>210</td><td>NULL</td><td>7</td><td>100</td><td>db</td><td>Sára</td><td>2016-07-14</td></tr><tr><td>06080409T</td><td>Vízfesték 12 színű kerek</td><td>151</td><td>180</td><td>NULL</td><td>6</td><td>100</td><td>db</td><td>Sára</td><td>2016-07-14</td></tr><tr><td>06080410T</td><td>Vízfesték 12db-os kínai</td><td>151</td><td>176</td><td>NULL</td><td>6</td><td>100</td><td>db</td><td>Béla</td><td>2016-07-15</td></tr><tr><td>06080411T</td><td>Vonalzó 15 cm-es ESSELTE</td><td>152</td><td>58</td><td>NULL</td><td>8</td><td>100</td><td>db</td><td>Sára</td><td>2016-07-18</td></tr><tr><td>06080412T</td><td>Vonalzó 16 cm-es LIZZY</td><td>152</td><td>30</td><td>NULL</td><td>7</td><td>100</td><td>db</td><td>Sára</td><td>2016-07-15</td></tr><tr><td>06080413T</td><td>Vonalzó 30 cm</td><td>152</td><td>30</td><td>NULL</td><td>8</td><td>100</td><td>db</td><td>Sára</td><td>2016-07-18</td></tr><tr><td>06080414T</td><td>Vonalzó 20 cm-es </td><td>152</td><td>30</td><td>NULL</td><td>8</td><td>2600</td><td>db</td><td>Mari</td><td>2016-07-22</td></tr><tr><td>06080415T</td><td>Vonalzó 45 fokos</td><td>152</td><td>30</td><td>NULL</td><td>9</td><td>200</td><td>db</td><td>Mari</td><td>2016-07-22</td></tr><tr><td>06080416T</td><td>Vonalzó 60 fokos</td><td>152</td><td>33</td><td>NULL</td><td>6</td><td>100</td><td>db</td><td>Mari</td><td>2016-07-22</td></tr><tr><td>06080417T</td><td>Zászló papír</td><td>153</td><td>20</td><td>NULL</td><td>5</td><td>200</td><td>db</td><td>Mari</td><td>2016-07-22</td></tr><tr><td>06080422T</td><td>Füzettartó A/4</td><td>78</td><td>324</td><td>NULL</td><td>7</td><td>200</td><td>db</td><td>Mari</td><td>2016-07-22</td></tr><tr><td>06080423T</td><td>Beíró A/5 kockás</td><td>12</td><td>228</td><td>NULL</td><td>5</td><td>200</td><td>db</td><td>Mari</td><td>2016-07-22</td></tr><tr><td>06080424T</td><td>Füzetborító A/4 mintás</td><td>46</td><td>24</td><td>NULL</td><td>9</td><td>500</td><td>db</td><td>Béla</td><td>2016-07-26</td></tr><tr><td>06080425T</td><td>Miliméterpapír</td><td>99</td><td>8</td><td>NULL</td><td>6</td><td>400</td><td>db</td><td>Sára</td><td>2016-07-30</td></tr><tr><td>06080426T</td><td>Szótárfüzet Lizzy</td><td>45</td><td>161</td><td>NULL</td><td>7</td><td>300</td><td>db</td><td>Mari</td><td>2016-07-27</td></tr><tr><td>06080427T</td><td>Ablakkréta</td><td>78</td><td>161</td><td>NULL</td><td>9</td><td>200</td><td>db</td><td>Sára</td><td>2016-07-23</td></tr><tr><td>06080428T</td><td>Ecsetkészlet</td><td>30</td><td>180</td><td>NULL</td><td>8</td><td>500</td><td>db</td><td>Sára</td><td>2016-07-23</td></tr><tr><td>06080429T</td><td>Meghívó ballagási</td><td>98</td><td>63</td><td>NULL</td><td>6</td><td>400</td><td>db</td><td>Sára</td><td>2016-07-26</td></tr><tr><td>06080430T</td><td>Öntapadős betűk</td><td>78</td><td>74</td><td>NULL</td><td>7</td><td>900</td><td>csomag</td><td>Béla</td><td>2016-07-22</td></tr><tr><td>06080440T</td><td>Gyurma 12 szinű</td><td>59</td><td>161</td><td>NULL</td><td>5</td><td>1900</td><td>csomag</td><td>Béla</td><td>2016-07-20</td></tr><tr><td>06080441T</td><td>Gyurmakés</td><td>59</td><td>121</td><td>NULL</td><td>9</td><td>300</td><td>csomag</td><td>Béla</td><td>2016-07-21</td></tr><tr><td>07010136T</td><td>G.toll betét PAX</td><td>145</td><td>123</td><td>NULL</td><td>6</td><td>1800</td><td>db</td><td>Béla</td><td>2016-07-26</td></tr><tr><td>07010137T</td><td>G.toll betét PAX tip.</td><td>145</td><td>48</td><td>NULL</td><td>6</td><td>600</td><td>db</td><td>Sára</td><td>2016-07-31</td></tr><tr><td>07010138T</td><td>G.toll betét jumbo</td><td>145</td><td>33</td><td>NULL</td><td>8</td><td>1700</td><td>db</td><td>Mari</td><td>2016-08-02</td></tr><tr><td>07010139T</td><td>G.toll betét S7L </td><td>145</td><td>91</td><td>NULL</td><td>6</td><td>1000</td><td>db</td><td>Mari</td><td>2016-08-02</td></tr><tr><td>07010140T</td><td>G.toll betét Stabilo</td><td>145</td><td>23</td><td>NULL</td><td>5</td><td>1200</td><td>db</td><td>Béla</td><td>2016-07-28</td></tr><tr><td>07010141T</td><td>G.toll betét X20</td><td>145</td><td>15</td><td>NULL</td><td>7</td><td>600</td><td>db</td><td>Béla</td><td>2016-07-25</td></tr><tr><td>07010142T</td><td>G.toll betét Zebra F-0.7</td><td>145</td><td>228</td><td>NULL</td><td>5</td><td>100</td><td>db</td><td>Mari</td><td>2016-07-28</td></tr><tr><td>07010143T</td><td>G.toll betét Zebra H-0,7</td><td>145</td><td>78</td><td>NULL</td><td>7</td><td>200</td><td>db</td><td>Mari</td><td>2016-07-28</td></tr><tr><td>07010144T</td><td>G.toll betét Zebra K-0,7</td><td>145</td><td>89</td><td>NULL</td><td>9</td><td>200</td><td>db</td><td>Béla</td><td>2016-07-25</td></tr><tr><td>07010244T</td><td>Kerámiatoll</td><td>144</td><td>74</td><td>NULL</td><td>5</td><td>200</td><td>db</td><td>Béla</td><td>2016-07-25</td></tr><tr><td>07010371T</td><td>Színes ceruza 6-os</td><td>136</td><td>99</td><td>NULL</td><td>8</td><td>2200</td><td>db</td><td>Sára</td><td>2016-07-25</td></tr><tr><td>07010372T</td><td>Színes ceruza 12 szín</td><td>136</td><td>161</td><td>NULL</td><td>7</td><td>3000</td><td>db</td><td>Sára</td><td>2016-07-25</td></tr><tr><td>07030103T</td><td>Filctoll TINTEN PEN</td><td>41</td><td>53</td><td>NULL</td><td>8</td><td>300</td><td>db</td><td>Béla</td><td>2016-07-22</td></tr><tr><td>07030104T</td><td>Filctoll vastag ARTIP</td><td>41</td><td>76</td><td>NULL</td><td>8</td><td>400</td><td>db</td><td>Sára</td><td>2016-07-23</td></tr><tr><td>07030105T</td><td>Filctoll, alkoholos Centropen</td><td>41</td><td>114</td><td>NULL</td><td>5</td><td>200</td><td>db</td><td>Sára</td><td>2016-07-23</td></tr><tr><td>07030106T</td><td>Filctoll, alkoholosOHP F-M-C</td><td>41</td><td>103</td><td>NULL</td><td>9</td><td>700</td><td>db</td><td>Mari</td><td>2016-07-21</td></tr><tr><td>07030107T</td><td>Filctoll, textil Edding 4500</td><td>41</td><td>276</td><td>NULL</td><td>5</td><td>1000</td><td>db</td><td>Mari</td><td>2016-07-21</td></tr><tr><td>07030108T</td><td>Filctoll CD író</td><td>41</td><td>0</td><td>NULL</td><td>5</td><td>500</td><td>db</td><td>Mari</td><td>2016-07-21</td></tr><tr><td>07040047T</td><td>Ceruza 2H-4B</td><td>19</td><td>39</td><td>NULL</td><td>5</td><td>200</td><td>db</td><td>Mari</td><td>2016-07-21</td></tr><tr><td>07040048T</td><td>Ceruza arany, ezüst</td><td>19</td><td>55</td><td>NULL</td><td>6</td><td>1900</td><td>db</td><td>Mari</td><td>2016-07-21</td></tr><tr><td>07040049T</td><td>Ceruza Conté zöld</td><td>19</td><td>40</td><td>NULL</td><td>9</td><td>100</td><td>db</td><td>Mari</td><td>2016-07-21</td></tr><tr><td>07040050T</td><td>Ceruza Cseh</td><td>19</td><td>30</td><td>NULL</td><td>6</td><td>200</td><td>db</td><td>Mari</td><td>2016-07-21</td></tr><tr><td>07040051T</td><td>Ceruza háromszög </td><td>19</td><td>39</td><td>NULL</td><td>6</td><td>500</td><td>db</td><td>Mari</td><td>2016-07-21</td></tr><tr><td>07040052T</td><td>Ceruza 2H-3B Koh-i-nor</td><td>19</td><td>53</td><td>NULL</td><td>5</td><td>100</td><td>db</td><td>Sára</td><td>2016-07-23</td></tr><tr><td>07040053T</td><td>Ceruza HB radiros</td><td>19</td><td>23</td><td>NULL</td><td>5</td><td>200</td><td>db</td><td>Sára</td><td>2016-07-23</td></tr><tr><td>07040054T</td><td>Ceruza kártyás</td><td>19</td><td>55</td><td>NULL</td><td>7</td><td>100</td><td>db</td><td>Mari</td><td>2016-07-28</td></tr><tr><td>07040055T</td><td>Ceruza piros-kék</td><td>19</td><td>59</td><td>NULL</td><td>9</td><td>200</td><td>db</td><td>Sára</td><td>2016-08-02</td></tr><tr><td>07040056T</td><td>Ceruza piros-kék vékony</td><td>19</td><td>40</td><td>NULL</td><td>7</td><td>500</td><td>db</td><td>Sára</td><td>2016-08-02</td></tr><tr><td>07040057T</td><td>Ceruza Progresso</td><td>19</td><td>106</td><td>NULL</td><td>7</td><td>100</td><td>db</td><td>Sára</td><td>2016-08-02</td></tr><tr><td>07040058T</td><td>Ceruza radíros kínai</td><td>19</td><td>11</td><td>NULL</td><td>7</td><td>200</td><td>db</td><td>Sára</td><td>2016-08-02</td></tr><tr><td>07040059T</td><td>Ceruza smaragd</td><td>19</td><td>58</td><td>NULL</td><td>9</td><td>300</td><td>db</td><td>Sára</td><td>2016-08-02</td></tr><tr><td>07040060T</td><td>Ceruza stabilo swano</td><td>19</td><td>36</td><td>NULL</td><td>6</td><td>100</td><td>db</td><td>Sára</td><td>2016-08-02</td></tr><tr><td>07040061T</td><td>Ceruza stabilo opera</td><td>19</td><td>44</td><td>NULL</td><td>9</td><td>300</td><td>db</td><td>Sára</td><td>2016-07-30</td></tr><tr><td>07040097T</td><td>Filctoll </td><td>41</td><td>26</td><td>NULL</td><td>8</td><td>100</td><td>db</td><td>Béla</td><td>2016-07-29</td></tr><tr><td>07040098T</td><td>Filctoll document pen</td><td>41</td><td>278</td><td>NULL</td><td>5</td><td>100</td><td>db</td><td>Béla</td><td>2016-07-29</td></tr><tr><td>07040099T</td><td>Filctoll Edding 750</td><td>41</td><td>434</td><td>NULL</td><td>9</td><td>200</td><td>csomag</td><td>Sára</td><td>2016-07-29</td></tr><tr><td>07040100T</td><td>Filctoll Marvy alkoholos</td><td>41</td><td>390</td><td>NULL</td><td>5</td><td>200</td><td>db</td><td>Sára</td><td>2016-07-29</td></tr><tr><td>07040101T</td><td>Filctoll permanent vastag</td><td>41</td><td>140</td><td>NULL</td><td>9</td><td>700</td><td>db</td><td>Sára</td><td>2016-07-28</td></tr><tr><td>07040102T</td><td>Filctoll supra fine</td><td>41</td><td>46</td><td>NULL</td><td>7</td><td>100</td><td>db</td><td>Sára</td><td>2016-07-28</td></tr><tr><td>07040127T</td><td>G. toll betét mini</td><td>145</td><td>30</td><td>NULL</td><td>9</td><td>100</td><td>db</td><td>Sára</td><td>2016-07-28</td></tr><tr><td>07040128T</td><td>G. toll betét mini fém</td><td>145</td><td>55</td><td>NULL</td><td>6</td><td>100</td><td>db</td><td>Béla</td><td>2016-07-31</td></tr><tr><td>07040129T</td><td>G. toll betét réz</td><td>145</td><td>30</td><td>NULL</td><td>5</td><td>200</td><td>db</td><td>Béla</td><td>2016-07-31</td></tr><tr><td>07040130T</td><td>G. toll betét S7S</td><td>145</td><td>80</td><td>NULL</td><td>6</td><td>200</td><td>db</td><td>Béla</td><td>2016-07-31</td></tr><tr><td>07040131T</td><td>G. toll betét UNI lachnok Fine SA-7C</td><td>145</td><td>85</td><td>NULL</td><td>9</td><td>1900</td><td>db</td><td>Mari</td><td>2016-08-02</td></tr><tr><td>07040132T</td><td>G.toll betét csavaros</td><td>145</td><td>55</td><td>NULL</td><td>8</td><td>500</td><td>db</td><td>Mari</td><td>2016-08-02</td></tr><tr><td>07040133T</td><td>G.toll betét görbe hegyű</td><td>145</td><td>39</td><td>NULL</td><td>5</td><td>200</td><td>db</td><td>Sára</td><td>2016-08-05</td></tr><tr><td>07040134T</td><td>G.toll betét illatos</td><td>145</td><td>44</td><td>NULL</td><td>7</td><td>3500</td><td>db</td><td>Béla</td><td>2016-08-04</td></tr><tr><td>07040135T</td><td>G.toll betét Parker </td><td>145</td><td>684</td><td>NULL</td><td>6</td><td>4300</td><td>db</td><td>Mari</td><td>2016-08-08</td></tr><tr><td>07040165T</td><td>Golyóstoll UNI laknock</td><td>52</td><td>218</td><td>NULL</td><td>9</td><td>100</td><td>db</td><td>Sára</td><td>2016-08-12</td></tr><tr><td>07040166T</td><td>Golyóstoll Zebra 301</td><td>52</td><td>455</td><td>NULL</td><td>8</td><td>1400</td><td>db</td><td>Béla</td><td>2016-08-10</td></tr><tr><td>07040167T</td><td>Golyóstoll Zebra mini</td><td>52</td><td>655</td><td>NULL</td><td>9</td><td>400</td><td>db</td><td>Béla</td><td>2016-08-10</td></tr><tr><td>07040168T</td><td>Golyóstoll Zebra new hard</td><td>52</td><td>189</td><td>NULL</td><td>8</td><td>400</td><td>db</td><td>Béla</td><td>2016-08-10</td></tr><tr><td>07040169T</td><td>Golyóstoll Zodiák</td><td>52</td><td>94</td><td>NULL</td><td>8</td><td>1200</td><td>db</td><td>Béla</td><td>2016-08-14</td></tr><tr><td>07040215T</td><td>Ironbél  2B ICO</td><td>76</td><td>74</td><td>NULL</td><td>7</td><td>200</td><td>db</td><td>Béla</td><td>2016-08-14</td></tr><tr><td>07040216T</td><td>Ironbél B 0,5</td><td>76</td><td>36</td><td>NULL</td><td>5</td><td>400</td><td>db</td><td>Mari</td><td>2016-08-10</td></tr><tr><td>07040217T</td><td>Ironbél H 0,5</td><td>76</td><td>59</td><td>NULL</td><td>6</td><td>200</td><td>db</td><td>Béla</td><td>2016-08-09</td></tr><tr><td>07040218T</td><td>Ironbél HB 0,5</td><td>76</td><td>23</td><td>NULL</td><td>6</td><td>200</td><td>db</td><td>Béla</td><td>2016-08-13</td></tr><tr><td>07040219T</td><td>Ironbél HI-POLIMER HB 0,7</td><td>76</td><td>78</td><td>NULL</td><td>6</td><td>100</td><td>db</td><td>Béla</td><td>2016-08-12</td></tr><tr><td>07040257T</td><td>Lakk filc Edding 750</td><td>41</td><td>434</td><td>NULL</td><td>8</td><td>100</td><td>db</td><td>Mari</td><td>2016-08-11</td></tr><tr><td>07040388T</td><td>Tintapatron /kék/</td><td>143</td><td>9</td><td>NULL</td><td>7</td><td>200</td><td>csomag</td><td>Mari</td><td>2016-08-11</td></tr><tr><td>07040389T</td><td>Tintapatron 30 db-os kék</td><td>143</td><td>360</td><td>NULL</td><td>7</td><td>200</td><td>db</td><td>Mari</td><td>2016-08-11</td></tr><tr><td>07040390T</td><td>Tintapatron színes</td><td>143</td><td>11</td><td>NULL</td><td>9</td><td>200</td><td>db</td><td>Mari</td><td>2016-08-11</td></tr><tr><td>07040391T</td><td>Toll Centropen roller</td><td>144</td><td>80</td><td>NULL</td><td>9</td><td>200</td><td>db</td><td>Mari</td><td>2016-08-11</td></tr><tr><td>07050462T</td><td>Töltőtoll tinta </td><td>148</td><td>493</td><td>NULL</td><td>5</td><td>300</td><td>üveg</td><td>Mari</td><td>2016-08-13</td></tr><tr><td>07050463T</td><td>Ceruzafogó</td><td>78</td><td>36</td><td>NULL</td><td>8</td><td>700</td><td>db</td><td>Sára</td><td>2016-08-13</td></tr><tr><td>07050464T</td><td>Szövegkiemelő Staedtler</td><td>138</td><td>140</td><td>NULL</td><td>7</td><td>900</td><td>db</td><td>Sára</td><td>2016-08-13</td></tr><tr><td>07080062T</td><td>Ceruza szén</td><td>19</td><td>146</td><td>NULL</td><td>5</td><td>200</td><td>db</td><td>Sára</td><td>2016-08-12</td></tr><tr><td>07080063T</td><td>Ceruza szorzótáblás</td><td>19</td><td>35</td><td>NULL</td><td>7</td><td>100</td><td>db</td><td>Sára</td><td>2016-08-12</td></tr><tr><td>07080064T</td><td>Ceruza zöld színű</td><td>19</td><td>40</td><td>NULL</td><td>6</td><td>200</td><td>db</td><td>Béla</td><td>2016-08-17</td></tr><tr><td>07080065T</td><td>Ceruza kínai</td><td>19</td><td>11</td><td>NULL</td><td>8</td><td>100</td><td>db</td><td>Béla</td><td>2016-08-17</td></tr><tr><td>07080150T</td><td>Golyóstoll</td><td>52</td><td>51</td><td>NULL</td><td>6</td><td>100</td><td>db</td><td>Béla</td><td>2016-08-17</td></tr><tr><td>07080151T</td><td>Golyóstoll + ceruza Twister 2in1</td><td>52</td><td>390</td><td>NULL</td><td>9</td><td>200</td><td>db</td><td>Béla</td><td>2016-08-17</td></tr><tr><td>07080152T</td><td>Golyóstoll 3 funkciós </td><td>52</td><td>1019</td><td>NULL</td><td>5</td><td>400</td><td>db</td><td>Béla</td><td>2016-08-20</td></tr><tr><td>07080153T</td><td>Golyóstoll illatos ICO</td><td>52</td><td>41</td><td>NULL</td><td>8</td><td>100</td><td>db</td><td>Béla</td><td>2016-08-20</td></tr><tr><td>07080154T</td><td>Golyóstoll INOXCROM</td><td>52</td><td>401</td><td>NULL</td><td>6</td><td>300</td><td>db</td><td>Béla</td><td>2016-08-20</td></tr><tr><td>07080155T</td><td>Golyóstoll</td><td>52</td><td>33</td><td>NULL</td><td>5</td><td>100</td><td>db</td><td>Béla</td><td>2016-08-20</td></tr><tr><td>07080156T</td><td>Golyóstoll kupakos piros</td><td>52</td><td>23</td><td>NULL</td><td>8</td><td>900</td><td>db</td><td>Béla</td><td>2016-08-20</td></tr><tr><td>07080157T</td><td>Golyóstoll Montex Hytone</td><td>52</td><td>93</td><td>NULL</td><td>7</td><td>500</td><td>db</td><td>Béla</td><td>2016-08-20</td></tr><tr><td>07080158T</td><td>Golyóstoll Parker tokban</td><td>52</td><td>773</td><td>NULL</td><td>5</td><td>2000</td><td>db</td><td>Béla</td><td>2016-08-20</td></tr><tr><td>07080159T</td><td>Golyóstoll Pax tip.</td><td>52</td><td>63</td><td>NULL</td><td>8</td><td>200</td><td>db</td><td>Béla</td><td>2016-08-20</td></tr><tr><td>07080160T</td><td>Golyóstoll penac</td><td>52</td><td>239</td><td>NULL</td><td>7</td><td>200</td><td>db</td><td>Béla</td><td>2016-08-15</td></tr><tr><td>07080161T</td><td>Golyóstoll kétszínű</td><td>52</td><td>44</td><td>NULL</td><td>9</td><td>100</td><td>db</td><td>Béla</td><td>2016-08-16</td></tr><tr><td>07080162T</td><td>Golyóstoll Stabilo piros</td><td>52</td><td>101</td><td>NULL</td><td>6</td><td>700</td><td>db</td><td>Mari</td><td>2016-08-19</td></tr><tr><td>07080163T</td><td>Golyóstoll UNI átlátszó</td><td>52</td><td>230</td><td>NULL</td><td>5</td><td>6000</td><td>db</td><td>Mari</td><td>2016-08-21</td></tr><tr><td>07080164T</td><td>Golyóstoll UNI gumis</td><td>52</td><td>231</td><td>NULL</td><td>6</td><td>30000</td><td>db</td><td>Mari</td><td>2016-08-21</td></tr><tr><td>07080311T</td><td>Pixiron  UNI</td><td>118</td><td>276</td><td>NULL</td><td>8</td><td>22000</td><td>db</td><td>Mari</td><td>2016-08-21</td></tr><tr><td>07080312T</td><td>Pixiron 0,7 Handy</td><td>118</td><td>125</td><td>NULL</td><td>5</td><td>2000</td><td>db</td><td>Mari</td><td>2016-08-21</td></tr><tr><td>07080313T</td><td>Pixiron Centrum</td><td>118</td><td>59</td><td>NULL</td><td>9</td><td>12500</td><td>db</td><td>Mari</td><td>2016-08-21</td></tr><tr><td>07080314T</td><td>Pixiron Handy fém</td><td>118</td><td>133</td><td>NULL</td><td>8</td><td>12000</td><td>db</td><td>Mari</td><td>2016-08-21</td></tr><tr><td>07080315T</td><td>Pixiron Handy műanyag</td><td>118</td><td>94</td><td>NULL</td><td>8</td><td>25000</td><td>db</td><td>Mari</td><td>2016-08-22</td></tr><tr><td>07080316T</td><td>Pixiron KOH-I-NOOR</td><td>118</td><td>468</td><td>NULL</td><td>8</td><td>700</td><td>db</td><td>Sára</td><td>2016-08-25</td></tr><tr><td>07080317T</td><td>Pixiron mini </td><td>118</td><td>59</td><td>NULL</td><td>5</td><td>2000</td><td>db</td><td>Béla</td><td>2016-08-26</td></tr><tr><td>07080318T</td><td>Pixiron Penac</td><td>118</td><td>235</td><td>NULL</td><td>5</td><td>8000</td><td>db</td><td>Béla</td><td>2016-08-26</td></tr><tr><td>07080319T</td><td>Pixiron Pentel színes</td><td>118</td><td>299</td><td>NULL</td><td>7</td><td>4000</td><td>db</td><td>Béla</td><td>2016-08-26</td></tr><tr><td>07080418T</td><td>Zselés toll </td><td>154</td><td>95</td><td>NULL</td><td>7</td><td>4000</td><td>db</td><td>Béla</td><td>2016-08-26</td></tr><tr><td>07080419T</td><td>Zselés toll MICRO</td><td>154</td><td>66</td><td>NULL</td><td>9</td><td>6000</td><td>db</td><td>Sára</td><td>2016-08-22</td></tr><tr><td>07080420T</td><td>Zselés toll Muhnwa</td><td>154</td><td>161</td><td>NULL</td><td>7</td><td>2000</td><td>db</td><td>Mari</td><td>2016-08-21</td></tr><tr><td>07080421T</td><td>Zseléstoll Lizzy Card</td><td>154</td><td>228</td><td>NULL</td><td>7</td><td>100</td><td>csomag</td><td>Mari</td><td>2016-08-21</td></tr><tr><td>07080466T</td><td>Golyóstoll Stabiló 308</td><td>52</td><td>81</td><td>NULL</td><td>9</td><td>1000</td><td>db</td><td>Sára</td><td>2016-08-26</td></tr><tr><td>07080467T</td><td>Golyóstoll kétfunkciós ICO</td><td>52</td><td>273</td><td>NULL</td><td>8</td><td>8000</td><td>db</td><td>Sára</td><td>2016-08-22</td></tr><tr><td>07080468T</td><td>Golyóstoll háromfunkciós</td><td>52</td><td>110</td><td>NULL</td><td>6</td><td>7200</td><td>db</td><td>Sára</td><td>2016-08-22</td></tr><tr><td>07080469T</td><td>Golyóstoll UNIBALL 07</td><td>52</td><td>364</td><td>NULL</td><td>8</td><td>35000</td><td>db</td><td>Sára</td><td>2016-08-22</td></tr><tr><td>07080470T</td><td>Golyóstoll háromszög</td><td>52</td><td>188</td><td>NULL</td><td>7</td><td>15000</td><td>db</td><td>Sára</td><td>2016-08-21</td></tr><tr><td>07080471T</td><td>Golyóstoll levélbontós</td><td>52</td><td>294</td><td>NULL</td><td>7</td><td>50000</td><td>db</td><td>Béla</td><td>2016-08-23</td></tr><tr><td>08070472T</td><td>A föld amelyen élünk - Európa földrajza</td><td>4</td><td>1089</td><td>NULL</td><td>8</td><td>100</td><td>db</td><td>Béla</td><td>2016-08-23</td></tr><tr><td>08070473T</td><td>A föld amelyen élünk - Távoli földrészek</td><td>4</td><td>1089</td><td>NULL</td><td>6</td><td>200</td><td>db</td><td>Mari</td><td>2016-08-27</td></tr><tr><td>08070474T</td><td>A föld amelyen élünk - Hazánk földrajza</td><td>4</td><td>1089</td><td>NULL</td><td>5</td><td>100</td><td>db</td><td>Béla</td><td>2016-08-29</td></tr><tr><td>08070475T</td><td>A föld amelyen élünk - munkafüzet</td><td>100</td><td>440</td><td>NULL</td><td>5</td><td>9000</td><td>db</td><td>Béla</td><td>2016-08-29</td></tr><tr><td>08070476T</td><td>Anyanyelvi gyakorló 2</td><td>100</td><td>293</td><td>NULL</td><td>6</td><td>3900</td><td>db</td><td>Béla</td><td>2016-08-29</td></tr><tr><td>08070477T</td><td>Anyanyelvi gyakorló 3</td><td>100</td><td>353</td><td>NULL</td><td>6</td><td>1400</td><td>db</td><td>Sára</td><td>2016-09-03</td></tr><tr><td>08070478T</td><td>Összefoglaló feladatgyüjtemény számtech.</td><td>100</td><td>785</td><td>NULL</td><td>8</td><td>900</td><td>db</td><td>Béla</td><td>2016-08-29</td></tr><tr><td>08070479T</td><td>Fizika</td><td>4</td><td>674</td><td>NULL</td><td>7</td><td>200</td><td>db</td><td>Béla</td><td>2016-08-29</td></tr><tr><td>08070480T</td><td>Fizika 13 éveseknek</td><td>4</td><td>308</td><td>NULL</td><td>8</td><td>5000</td><td>db</td><td>Béla</td><td>2016-08-29</td></tr><tr><td>08070481T</td><td>Fizika munkafüzet 13 év.</td><td>100</td><td>198</td><td>NULL</td><td>7</td><td>500</td><td>db</td><td>Béla</td><td>2016-08-24</td></tr><tr><td>08070482T</td><td>Fizika munkafüzet 14 év.</td><td>100</td><td>190</td><td>NULL</td><td>5</td><td>500</td><td>db</td><td>Mari</td><td>2016-08-28</td></tr><tr><td>08070483T</td><td>Fizikai feladatok és tévedések</td><td>4</td><td>324</td><td>NULL</td><td>5</td><td>100</td><td>db</td><td>Béla</td><td>2016-08-25</td></tr><tr><td>08070484T</td><td>Fogalmazás lépésről lépésre</td><td>4</td><td>345</td><td>NULL</td><td>8</td><td>100</td><td>db</td><td>Béla</td><td>2016-08-24</td></tr><tr><td>08070485T</td><td>Jól felkészültem-e - Fizika</td><td>4</td><td>291</td><td>NULL</td><td>6</td><td>200</td><td>db</td><td>Béla</td><td>2016-08-22</td></tr><tr><td>08070486T</td><td>Matematika gyakorló 2</td><td>100</td><td>403</td><td>NULL</td><td>6</td><td>100</td><td>db</td><td>Béla</td><td>2016-08-19</td></tr><tr><td>08070487T</td><td>Matematika gyakorló 3</td><td>100</td><td>403</td><td>NULL</td><td>6</td><td>200</td><td>db</td><td>Mari</td><td>2016-08-17</td></tr><tr><td>08070488T</td><td>Matematika gyakorló 4</td><td>100</td><td>403</td><td>NULL</td><td>9</td><td>2000</td><td>db</td><td>Mari</td><td>2016-08-17</td></tr><tr><td>08070489T</td><td>RAMba zárt világ</td><td>4</td><td>868</td><td>NULL</td><td>8</td><td>4400</td><td>db</td><td>Mari</td><td>2016-08-17</td></tr><tr><td>08070490T</td><td>Szövegszerkesztés</td><td>4</td><td>691</td><td>NULL</td><td>8</td><td>100</td><td>db</td><td>Sára</td><td>2016-08-20</td></tr><tr><td>08070491T</td><td>Szám.tech. kicsiknek</td><td>4</td><td>214</td><td>NULL</td><td>8</td><td>1300</td><td>db</td><td>Sára</td><td>2016-08-20</td></tr><tr><td>08070492T</td><td>Informatika</td><td>4</td><td>735</td><td>NULL</td><td>9</td><td>100</td><td>db</td><td>Sára</td><td>2016-08-20</td></tr><tr><td>08070493T</td><td>Érettségi felv. fel. Matematika</td><td>4</td><td>720</td><td>NULL</td><td>5</td><td>100</td><td>db</td><td>Sára</td><td>2016-08-20</td></tr><tr><td>08070494T</td><td>Érettségi felv. fel. Fizika</td><td>4</td><td>440</td><td>NULL</td><td>6</td><td>400</td><td>db</td><td>Sára</td><td>2016-08-20</td></tr><tr><td>08070495T</td><td>Érettségi felv. fel. Biológia</td><td>4</td><td>440</td><td>NULL</td><td>9</td><td>100</td><td>db</td><td>Sára</td><td>2016-08-18</td></tr><tr><td>F001-KB101</td><td>férfi szövet kabát</td><td>38</td><td>22000</td><td>fekete (szövet) </td><td>1</td><td>173</td><td>db</td><td>Sára</td><td>2016-08-13</td></tr><tr><td>F007-NA201</td><td>férfi farmer nadrág</td><td>39</td><td>7890</td><td>kék (farmer) </td><td>3</td><td>105</td><td>db</td><td>Sára</td><td>2016-08-13</td></tr><tr><td>F013-NA207</td><td>férfi szövet nadrág</td><td>39</td><td>11900</td><td>barna (szövet) </td><td>1</td><td>389</td><td>db</td><td>Sára</td><td>2016-08-13</td></tr><tr><td>F021-IN215</td><td>férfi ing</td><td>37</td><td>6490</td><td>kék (pamut) </td><td>1</td><td>381</td><td>db</td><td>Mari</td><td>2016-08-13</td></tr><tr><td>G001-KB101</td><td>gyermek kabát (fiú)</td><td>55</td><td>8900</td><td>NULL</td><td>1</td><td>396</td><td>db</td><td>Sára</td><td>2016-08-08</td></tr><tr><td>G013-NA201</td><td>gyermek farmer nadrág (fiú)</td><td>56</td><td>4990</td><td>farmer </td><td>3</td><td>200</td><td>db</td><td>Sára</td><td>2016-08-13</td></tr><tr><td>G019-NA207</td><td>gyermek pamut nadrág (fiú)</td><td>56</td><td>1290</td><td>pamut </td><td>3</td><td>182</td><td>db</td><td>Sára</td><td>2016-08-13</td></tr><tr><td>G023-FE301</td><td>fiú alsó</td><td>35</td><td>390</td><td>mintás (pamut) </td><td>3</td><td>328</td><td>db</td><td>Sára</td><td>2016-08-13</td></tr><tr><td>G029-FE307</td><td>fiú zokni</td><td>35</td><td>240</td><td>mintás (pamut) </td><td>4</td><td>468</td><td>db</td><td>Sára</td><td>2016-08-13</td></tr><tr><td>G038-FE316</td><td>fiú harisnya</td><td>35</td><td>990</td><td>pókemeberes  </td><td>3</td><td>205</td><td>db</td><td>Sára</td><td>2016-08-13</td></tr><tr><td>G041-AL211</td><td>fiú ünneplős ruha</td><td>8</td><td>16900</td><td>NULL</td><td>4</td><td>297</td><td>db</td><td>Mari</td><td>2016-08-10</td></tr><tr><td>G048-PO218</td><td>gyermek póló (fiú)</td><td>57</td><td>3900</td><td>pókemeberes (pamut) </td><td>3</td><td>355</td><td>db</td><td>Mari</td><td>2016-08-10</td></tr><tr><td>G064-CI401</td><td>gyermek szandál (fiú)</td><td>54</td><td>6900</td><td>NULL</td><td>1</td><td>376</td><td>db</td><td>Sára</td><td>2016-08-05</td></tr><tr><td>G073-CI410</td><td>gyermek cipő (fiú)</td><td>54</td><td>7900</td><td>NULL</td><td>2</td><td>406</td><td>db</td><td>Sára</td><td>2016-08-03</td></tr><tr><td>G082-CI419</td><td>gyermek csizma (fiú)</td><td>54</td><td>8000</td><td>NULL</td><td>3</td><td>229</td><td>db</td><td>Sára</td><td>2016-08-03</td></tr><tr><td>L001-KB101</td><td>gyermek kabát (lány)</td><td>55</td><td>8900</td><td>rózsaszín  </td><td>1</td><td>78</td><td>db</td><td>Sára</td><td>2016-08-03</td></tr><tr><td>L013-NA201</td><td>gyermek farmer nadrág (lány)</td><td>56</td><td>4990</td><td>kék (farmer) </td><td>3</td><td>449</td><td>db</td><td>Béla</td><td>2016-08-02</td></tr><tr><td>L019-NA207</td><td>gyermek pamut nadrág (lány)</td><td>56</td><td>1290</td><td>rózsaszín (pamut) </td><td>1</td><td>162</td><td>db</td><td>Mari</td><td>2016-07-29</td></tr><tr><td>L023-FE301</td><td>lány alsó</td><td>35</td><td>390</td><td>pamut </td><td>1</td><td>369</td><td>db</td><td>Béla</td><td>2016-07-26</td></tr><tr><td>L029-FE307</td><td>lány zokni</td><td>35</td><td>240</td><td>fehér (pamut) </td><td>4</td><td>470</td><td>db</td><td>Béla</td><td>2016-07-27</td></tr><tr><td>L033-FE311</td><td>lány harisnya</td><td>35</td><td>990</td><td>fehér  </td><td>3</td><td>373</td><td>db</td><td>Sára</td><td>2016-07-23</td></tr><tr><td>L041-AL211</td><td>lány ünneplős ruha</td><td>8</td><td>16900</td><td>NULL</td><td>3</td><td>325</td><td>db</td><td>Sára</td><td>2016-07-20</td></tr><tr><td>L048-PO218</td><td>gyermek póló (lány)</td><td>57</td><td>3900</td><td>hercegnős (pamut) </td><td>3</td><td>113</td><td>db</td><td>Sára</td><td>2016-07-20</td></tr><tr><td>L064-CI401</td><td>gyermek szandál (lány)</td><td>54</td><td>6900</td><td>NULL</td><td>3</td><td>119</td><td>db</td><td>Mari</td><td>2016-07-17</td></tr><tr><td>L073-CI410</td><td>gyermek cipő (lány)</td><td>54</td><td>7900</td><td>NULL</td><td>3</td><td>323</td><td>db</td><td>Sára</td><td>2016-07-19</td></tr><tr><td>L082-CI419</td><td>gyermek csizma (lány)</td><td>54</td><td>8000</td><td>NULL</td><td>1</td><td>264</td><td>db</td><td>Sára</td><td>2016-07-19</td></tr><tr><td>N001-KB101</td><td>női szövet kabát</td><td>107</td><td>24000</td><td>piros (szövet) </td><td>1</td><td>77</td><td>db</td><td>Béla</td><td>2016-07-18</td></tr><tr><td>N008-NA201</td><td>női farmer nadrág</td><td>108</td><td>8290</td><td>kék (farmer) </td><td>2</td><td>289</td><td>db</td><td>Mari</td><td>2016-07-18</td></tr><tr><td>N019-FE301</td><td>női alsó</td><td>35</td><td>690</td><td>fekete (pamut) </td><td>2</td><td>53</td><td>db</td><td>Mari</td><td>2016-07-18</td></tr><tr><td>N029-AL212</td><td>női koktélruha</td><td>8</td><td>32000</td><td>fekete  </td><td>4</td><td>283</td><td>db</td><td>Mari</td><td>2016-07-18</td></tr><tr><td>N035-AL218</td><td>kosztüm (rövid)</td><td>88</td><td>39000</td><td>szürke  </td><td>3</td><td>369</td><td>db</td><td>Sára</td><td>2016-07-15</td></tr><tr><td>N039-AL222</td><td>kosztüm (hosszú)</td><td>88</td><td>46000</td><td>tört fehér  </td><td>2</td><td>238</td><td>db</td><td>Mari</td><td>2016-07-20</td></tr><tr><td>U001-KI501</td><td>sál</td><td>130</td><td>1990</td><td>sárga (kötött) </td><td>1</td><td>77</td><td>db</td><td>Mari</td><td>2016-07-15</td></tr></table>"
                    },
                    "metadata": {}
                },
                {
                    "output_type": "execute_result",
                    "execution_count": 41,
                    "data": {
                        "application/vnd.dataresource+json": {
                            "schema": {
                                "fields": [
                                    {
                                        "name": "RAKTAR_KOD"
                                    },
                                    {
                                        "name": "RAKTAR_NEV"
                                    },
                                    {
                                        "name": "RAKTAR_CIM"
                                    }
                                ]
                            },
                            "data": [
                                {
                                    "0": "1",
                                    "1": "Kisfaludy",
                                    "2": "2135 Csörög Kisfaludy u. 55."
                                },
                                {
                                    "0": "2",
                                    "1": "Nagyszeben",
                                    "2": "1182 Budapest Nagyszeben u. 12."
                                },
                                {
                                    "0": "3",
                                    "1": "Toldy",
                                    "2": "1015 Budapest Toldy F. u. 58."
                                },
                                {
                                    "0": "4",
                                    "1": "KIS",
                                    "2": "1039 Budapest Madzsar J. u. 23."
                                },
                                {
                                    "0": "5",
                                    "1": "NAGY",
                                    "2": "2089 Telki Nefelejcs u. 27"
                                },
                                {
                                    "0": "6",
                                    "1": "Veresegyházi",
                                    "2": "2112 Veresegyház Új iskola u. 10."
                                },
                                {
                                    "0": "7",
                                    "1": "Báthory",
                                    "2": "1152 Budapest Báthory u. 2."
                                },
                                {
                                    "0": "8",
                                    "1": "Havanna",
                                    "2": "1181 Budapest Havanna u. 3"
                                },
                                {
                                    "0": "9",
                                    "1": "Lapos",
                                    "2": "1016 Budapest Krisztina krt. 87-89."
                                }
                            ]
                        },
                        "text/html": "<table><tr><th>RAKTAR_KOD</th><th>RAKTAR_NEV</th><th>RAKTAR_CIM</th></tr><tr><td>1</td><td>Kisfaludy</td><td>2135 Csörög Kisfaludy u. 55.</td></tr><tr><td>2</td><td>Nagyszeben</td><td>1182 Budapest Nagyszeben u. 12.</td></tr><tr><td>3</td><td>Toldy</td><td>1015 Budapest Toldy F. u. 58.</td></tr><tr><td>4</td><td>KIS</td><td>1039 Budapest Madzsar J. u. 23.</td></tr><tr><td>5</td><td>NAGY</td><td>2089 Telki Nefelejcs u. 27</td></tr><tr><td>6</td><td>Veresegyházi</td><td>2112 Veresegyház Új iskola u. 10.</td></tr><tr><td>7</td><td>Báthory</td><td>1152 Budapest Báthory u. 2.</td></tr><tr><td>8</td><td>Havanna</td><td>1181 Budapest Havanna u. 3</td></tr><tr><td>9</td><td>Lapos</td><td>1016 Budapest Krisztina krt. 87-89.</td></tr></table>"
                    },
                    "metadata": {}
                }
            ],
            "execution_count": 41
        },
        {
            "cell_type": "markdown",
            "source": [
                "6\\. Készítsünk listát arról, hogy ügyfelenként (LOGIN), azon belül\n",
                "\n",
                " szállítási módonként hány megrendelés történt! \n",
                "\n",
                " A lista tartalmazza a részösszegeket és a végösszeget is!\n",
                "\n",
                " Használjuk a ROLLUP záradékot!"
            ],
            "metadata": {
                "azdata_cell_guid": "3a9d813d-a3d4-40e5-816b-9c8ff9b37fc0"
            },
            "attachments": {}
        },
        {
            "cell_type": "code",
            "source": [
                "select login, szall_mod, count(1) \r\n",
                "from rendeles\r\n",
                "group by rollup(login, szall_mod) \r\n",
                ""
            ],
            "metadata": {
                "azdata_cell_guid": "9e8d489b-a146-422d-8611-2e8b095d130f"
            },
            "outputs": [
                {
                    "output_type": "display_data",
                    "data": {
                        "text/html": "(763 rows affected)"
                    },
                    "metadata": {}
                },
                {
                    "output_type": "display_data",
                    "data": {
                        "text/html": "Total execution time: 00:00:00.396"
                    },
                    "metadata": {}
                },
                {
                    "output_type": "execute_result",
                    "execution_count": 45,
                    "data": {
                        "application/vnd.dataresource+json": {
                            "schema": {
                                "fields": [
                                    {
                                        "name": "login"
                                    },
                                    {
                                        "name": "szall_mod"
                                    },
                                    {
                                        "name": "(No column name)"
                                    }
                                ]
                            },
                            "data": [
                                {
                                    "0": "adam1",
                                    "1": "GLS",
                                    "2": "129"
                                },
                                {
                                    "0": "adam1",
                                    "1": "Posta",
                                    "2": "132"
                                },
                                {
                                    "0": "adam1",
                                    "1": "Személyes átvétel",
                                    "2": "131"
                                },
                                {
                                    "0": "adam1",
                                    "1": "NULL",
                                    "2": "392"
                                },
                                {
                                    "0": "adam3",
                                    "1": "GLS",
                                    "2": "10"
                                },
                                {
                                    "0": "adam3",
                                    "1": "Posta",
                                    "2": "3"
                                },
                                {
                                    "0": "adam3",
                                    "1": "Személyes átvétel",
                                    "2": "2"
                                },
                                {
                                    "0": "adam3",
                                    "1": "NULL",
                                    "2": "15"
                                },
                                {
                                    "0": "adam4",
                                    "1": "GLS",
                                    "2": "12"
                                },
                                {
                                    "0": "adam4",
                                    "1": "Posta",
                                    "2": "6"
                                },
                                {
                                    "0": "adam4",
                                    "1": "Személyes átvétel",
                                    "2": "11"
                                },
                                {
                                    "0": "adam4",
                                    "1": "NULL",
                                    "2": "29"
                                },
                                {
                                    "0": "agnes",
                                    "1": "GLS",
                                    "2": "144"
                                },
                                {
                                    "0": "agnes",
                                    "1": "Posta",
                                    "2": "130"
                                },
                                {
                                    "0": "agnes",
                                    "1": "Személyes átvétel",
                                    "2": "144"
                                },
                                {
                                    "0": "agnes",
                                    "1": "NULL",
                                    "2": "418"
                                },
                                {
                                    "0": "agnes3",
                                    "1": "GLS",
                                    "2": "148"
                                },
                                {
                                    "0": "agnes3",
                                    "1": "Posta",
                                    "2": "146"
                                },
                                {
                                    "0": "agnes3",
                                    "1": "Személyes átvétel",
                                    "2": "136"
                                },
                                {
                                    "0": "agnes3",
                                    "1": "NULL",
                                    "2": "430"
                                },
                                {
                                    "0": "AGNESH",
                                    "1": "GLS",
                                    "2": "2"
                                },
                                {
                                    "0": "AGNESH",
                                    "1": "Posta",
                                    "2": "3"
                                },
                                {
                                    "0": "AGNESH",
                                    "1": "Személyes átvétel",
                                    "2": "6"
                                },
                                {
                                    "0": "AGNESH",
                                    "1": "NULL",
                                    "2": "11"
                                },
                                {
                                    "0": "AGNESK",
                                    "1": "GLS",
                                    "2": "1"
                                },
                                {
                                    "0": "AGNESK",
                                    "1": "Posta",
                                    "2": "7"
                                },
                                {
                                    "0": "AGNESK",
                                    "1": "Személyes átvétel",
                                    "2": "7"
                                },
                                {
                                    "0": "AGNESK",
                                    "1": "NULL",
                                    "2": "15"
                                },
                                {
                                    "0": "akos",
                                    "1": "GLS",
                                    "2": "146"
                                },
                                {
                                    "0": "akos",
                                    "1": "Posta",
                                    "2": "143"
                                },
                                {
                                    "0": "akos",
                                    "1": "Személyes átvétel",
                                    "2": "140"
                                },
                                {
                                    "0": "akos",
                                    "1": "NULL",
                                    "2": "429"
                                },
                                {
                                    "0": "aladar",
                                    "1": "GLS",
                                    "2": "156"
                                },
                                {
                                    "0": "aladar",
                                    "1": "Posta",
                                    "2": "134"
                                },
                                {
                                    "0": "aladar",
                                    "1": "Személyes átvétel",
                                    "2": "118"
                                },
                                {
                                    "0": "aladar",
                                    "1": "NULL",
                                    "2": "408"
                                },
                                {
                                    "0": "alexandra",
                                    "1": "GLS",
                                    "2": "5"
                                },
                                {
                                    "0": "alexandra",
                                    "1": "Posta",
                                    "2": "9"
                                },
                                {
                                    "0": "alexandra",
                                    "1": "Személyes átvétel",
                                    "2": "5"
                                },
                                {
                                    "0": "alexandra",
                                    "1": "NULL",
                                    "2": "19"
                                },
                                {
                                    "0": "andi",
                                    "1": "GLS",
                                    "2": "7"
                                },
                                {
                                    "0": "andi",
                                    "1": "Posta",
                                    "2": "4"
                                },
                                {
                                    "0": "andi",
                                    "1": "Személyes átvétel",
                                    "2": "7"
                                },
                                {
                                    "0": "andi",
                                    "1": "NULL",
                                    "2": "18"
                                },
                                {
                                    "0": "andras2",
                                    "1": "GLS",
                                    "2": "4"
                                },
                                {
                                    "0": "andras2",
                                    "1": "Posta",
                                    "2": "7"
                                },
                                {
                                    "0": "andras2",
                                    "1": "Személyes átvétel",
                                    "2": "11"
                                },
                                {
                                    "0": "andras2",
                                    "1": "NULL",
                                    "2": "22"
                                },
                                {
                                    "0": "andras21",
                                    "1": "GLS",
                                    "2": "140"
                                },
                                {
                                    "0": "andras21",
                                    "1": "Posta",
                                    "2": "124"
                                },
                                {
                                    "0": "andras21",
                                    "1": "Személyes átvétel",
                                    "2": "126"
                                },
                                {
                                    "0": "andras21",
                                    "1": "NULL",
                                    "2": "390"
                                },
                                {
                                    "0": "andras3",
                                    "1": "GLS",
                                    "2": "3"
                                },
                                {
                                    "0": "andras3",
                                    "1": "Posta",
                                    "2": "1"
                                },
                                {
                                    "0": "andras3",
                                    "1": "Személyes átvétel",
                                    "2": "5"
                                },
                                {
                                    "0": "andras3",
                                    "1": "NULL",
                                    "2": "9"
                                },
                                {
                                    "0": "andras4",
                                    "1": "GLS",
                                    "2": "4"
                                },
                                {
                                    "0": "andras4",
                                    "1": "Posta",
                                    "2": "4"
                                },
                                {
                                    "0": "andras4",
                                    "1": "Személyes átvétel",
                                    "2": "4"
                                },
                                {
                                    "0": "andras4",
                                    "1": "NULL",
                                    "2": "12"
                                },
                                {
                                    "0": "andras41",
                                    "1": "GLS",
                                    "2": "149"
                                },
                                {
                                    "0": "andras41",
                                    "1": "Posta",
                                    "2": "137"
                                },
                                {
                                    "0": "andras41",
                                    "1": "Személyes átvétel",
                                    "2": "133"
                                },
                                {
                                    "0": "andras41",
                                    "1": "NULL",
                                    "2": "419"
                                },
                                {
                                    "0": "ANDRASE",
                                    "1": "GLS",
                                    "2": "159"
                                },
                                {
                                    "0": "ANDRASE",
                                    "1": "Posta",
                                    "2": "141"
                                },
                                {
                                    "0": "ANDRASE",
                                    "1": "Személyes átvétel",
                                    "2": "136"
                                },
                                {
                                    "0": "ANDRASE",
                                    "1": "NULL",
                                    "2": "436"
                                },
                                {
                                    "0": "ANDRASN",
                                    "1": "GLS",
                                    "2": "10"
                                },
                                {
                                    "0": "ANDRASN",
                                    "1": "Posta",
                                    "2": "9"
                                },
                                {
                                    "0": "ANDRASN",
                                    "1": "Személyes átvétel",
                                    "2": "5"
                                },
                                {
                                    "0": "ANDRASN",
                                    "1": "NULL",
                                    "2": "24"
                                },
                                {
                                    "0": "andrea",
                                    "1": "GLS",
                                    "2": "12"
                                },
                                {
                                    "0": "andrea",
                                    "1": "Posta",
                                    "2": "4"
                                },
                                {
                                    "0": "andrea",
                                    "1": "Személyes átvétel",
                                    "2": "8"
                                },
                                {
                                    "0": "andrea",
                                    "1": "NULL",
                                    "2": "24"
                                },
                                {
                                    "0": "andrea3",
                                    "1": "GLS",
                                    "2": "131"
                                },
                                {
                                    "0": "andrea3",
                                    "1": "Posta",
                                    "2": "136"
                                },
                                {
                                    "0": "andrea3",
                                    "1": "Személyes átvétel",
                                    "2": "146"
                                },
                                {
                                    "0": "andrea3",
                                    "1": "NULL",
                                    "2": "413"
                                },
                                {
                                    "0": "andrea4",
                                    "1": "GLS",
                                    "2": "7"
                                },
                                {
                                    "0": "andrea4",
                                    "1": "Posta",
                                    "2": "4"
                                },
                                {
                                    "0": "andrea4",
                                    "1": "Személyes átvétel",
                                    "2": "7"
                                },
                                {
                                    "0": "andrea4",
                                    "1": "NULL",
                                    "2": "18"
                                },
                                {
                                    "0": "ANDREAT",
                                    "1": "GLS",
                                    "2": "3"
                                },
                                {
                                    "0": "ANDREAT",
                                    "1": "Posta",
                                    "2": "6"
                                },
                                {
                                    "0": "ANDREAT",
                                    "1": "Személyes átvétel",
                                    "2": "12"
                                },
                                {
                                    "0": "ANDREAT",
                                    "1": "NULL",
                                    "2": "21"
                                },
                                {
                                    "0": "anett3",
                                    "1": "GLS",
                                    "2": "3"
                                },
                                {
                                    "0": "anett3",
                                    "1": "Posta",
                                    "2": "6"
                                },
                                {
                                    "0": "anett3",
                                    "1": "Személyes átvétel",
                                    "2": "9"
                                },
                                {
                                    "0": "anett3",
                                    "1": "NULL",
                                    "2": "18"
                                },
                                {
                                    "0": "aniko",
                                    "1": "GLS",
                                    "2": "128"
                                },
                                {
                                    "0": "aniko",
                                    "1": "Posta",
                                    "2": "137"
                                },
                                {
                                    "0": "aniko",
                                    "1": "Személyes átvétel",
                                    "2": "138"
                                },
                                {
                                    "0": "aniko",
                                    "1": "NULL",
                                    "2": "403"
                                },
                                {
                                    "0": "aniko4",
                                    "1": "GLS",
                                    "2": "6"
                                },
                                {
                                    "0": "aniko4",
                                    "1": "Posta",
                                    "2": "6"
                                },
                                {
                                    "0": "aniko4",
                                    "1": "Személyes átvétel",
                                    "2": "3"
                                },
                                {
                                    "0": "aniko4",
                                    "1": "NULL",
                                    "2": "15"
                                },
                                {
                                    "0": "ANIKOS",
                                    "1": "GLS",
                                    "2": "128"
                                },
                                {
                                    "0": "ANIKOS",
                                    "1": "Posta",
                                    "2": "126"
                                },
                                {
                                    "0": "ANIKOS",
                                    "1": "Személyes átvétel",
                                    "2": "150"
                                },
                                {
                                    "0": "ANIKOS",
                                    "1": "NULL",
                                    "2": "404"
                                },
                                {
                                    "0": "anita",
                                    "1": "GLS",
                                    "2": "5"
                                },
                                {
                                    "0": "anita",
                                    "1": "Posta",
                                    "2": "2"
                                },
                                {
                                    "0": "anita",
                                    "1": "Személyes átvétel",
                                    "2": "5"
                                },
                                {
                                    "0": "anita",
                                    "1": "NULL",
                                    "2": "12"
                                },
                                {
                                    "0": "annamaria1",
                                    "1": "GLS",
                                    "2": "5"
                                },
                                {
                                    "0": "annamaria1",
                                    "1": "Posta",
                                    "2": "4"
                                },
                                {
                                    "0": "annamaria1",
                                    "1": "Személyes átvétel",
                                    "2": "7"
                                },
                                {
                                    "0": "annamaria1",
                                    "1": "NULL",
                                    "2": "16"
                                },
                                {
                                    "0": "ANNAMARIAR",
                                    "1": "GLS",
                                    "2": "8"
                                },
                                {
                                    "0": "ANNAMARIAR",
                                    "1": "Posta",
                                    "2": "2"
                                },
                                {
                                    "0": "ANNAMARIAR",
                                    "1": "Személyes átvétel",
                                    "2": "3"
                                },
                                {
                                    "0": "ANNAMARIAR",
                                    "1": "NULL",
                                    "2": "13"
                                },
                                {
                                    "0": "aron2",
                                    "1": "GLS",
                                    "2": "132"
                                },
                                {
                                    "0": "aron2",
                                    "1": "Posta",
                                    "2": "133"
                                },
                                {
                                    "0": "aron2",
                                    "1": "Személyes átvétel",
                                    "2": "144"
                                },
                                {
                                    "0": "aron2",
                                    "1": "NULL",
                                    "2": "409"
                                },
                                {
                                    "0": "ARONK",
                                    "1": "GLS",
                                    "2": "155"
                                },
                                {
                                    "0": "ARONK",
                                    "1": "Posta",
                                    "2": "120"
                                },
                                {
                                    "0": "ARONK",
                                    "1": "Személyes átvétel",
                                    "2": "155"
                                },
                                {
                                    "0": "ARONK",
                                    "1": "NULL",
                                    "2": "430"
                                },
                                {
                                    "0": "arpad2",
                                    "1": "GLS",
                                    "2": "6"
                                },
                                {
                                    "0": "arpad2",
                                    "1": "Posta",
                                    "2": "1"
                                },
                                {
                                    "0": "arpad2",
                                    "1": "Személyes átvétel",
                                    "2": "10"
                                },
                                {
                                    "0": "arpad2",
                                    "1": "NULL",
                                    "2": "17"
                                },
                                {
                                    "0": "ARPADH",
                                    "1": "GLS",
                                    "2": "6"
                                },
                                {
                                    "0": "ARPADH",
                                    "1": "Posta",
                                    "2": "3"
                                },
                                {
                                    "0": "ARPADH",
                                    "1": "Személyes átvétel",
                                    "2": "5"
                                },
                                {
                                    "0": "ARPADH",
                                    "1": "NULL",
                                    "2": "14"
                                },
                                {
                                    "0": "ARPADM",
                                    "1": "GLS",
                                    "2": "6"
                                },
                                {
                                    "0": "ARPADM",
                                    "1": "Posta",
                                    "2": "3"
                                },
                                {
                                    "0": "ARPADM",
                                    "1": "Személyes átvétel",
                                    "2": "7"
                                },
                                {
                                    "0": "ARPADM",
                                    "1": "NULL",
                                    "2": "16"
                                },
                                {
                                    "0": "attila1",
                                    "1": "GLS",
                                    "2": "5"
                                },
                                {
                                    "0": "attila1",
                                    "1": "Posta",
                                    "2": "7"
                                },
                                {
                                    "0": "attila1",
                                    "1": "Személyes átvétel",
                                    "2": "6"
                                },
                                {
                                    "0": "attila1",
                                    "1": "NULL",
                                    "2": "18"
                                },
                                {
                                    "0": "attila4",
                                    "1": "GLS",
                                    "2": "135"
                                },
                                {
                                    "0": "attila4",
                                    "1": "Posta",
                                    "2": "125"
                                },
                                {
                                    "0": "attila4",
                                    "1": "Személyes átvétel",
                                    "2": "141"
                                },
                                {
                                    "0": "attila4",
                                    "1": "NULL",
                                    "2": "401"
                                },
                                {
                                    "0": "ATTILAO",
                                    "1": "GLS",
                                    "2": "4"
                                },
                                {
                                    "0": "ATTILAO",
                                    "1": "Posta",
                                    "2": "4"
                                },
                                {
                                    "0": "ATTILAO",
                                    "1": "Személyes átvétel",
                                    "2": "6"
                                },
                                {
                                    "0": "ATTILAO",
                                    "1": "NULL",
                                    "2": "14"
                                },
                                {
                                    "0": "balazs1",
                                    "1": "GLS",
                                    "2": "128"
                                },
                                {
                                    "0": "balazs1",
                                    "1": "Posta",
                                    "2": "136"
                                },
                                {
                                    "0": "balazs1",
                                    "1": "Személyes átvétel",
                                    "2": "155"
                                },
                                {
                                    "0": "balazs1",
                                    "1": "NULL",
                                    "2": "419"
                                },
                                {
                                    "0": "balazs2",
                                    "1": "GLS",
                                    "2": "5"
                                },
                                {
                                    "0": "balazs2",
                                    "1": "Posta",
                                    "2": "7"
                                },
                                {
                                    "0": "balazs2",
                                    "1": "Személyes átvétel",
                                    "2": "5"
                                },
                                {
                                    "0": "balazs2",
                                    "1": "NULL",
                                    "2": "17"
                                },
                                {
                                    "0": "balazs3",
                                    "1": "GLS",
                                    "2": "6"
                                },
                                {
                                    "0": "balazs3",
                                    "1": "Posta",
                                    "2": "6"
                                },
                                {
                                    "0": "balazs3",
                                    "1": "Személyes átvétel",
                                    "2": "3"
                                },
                                {
                                    "0": "balazs3",
                                    "1": "NULL",
                                    "2": "15"
                                },
                                {
                                    "0": "balint",
                                    "1": "GLS",
                                    "2": "10"
                                },
                                {
                                    "0": "balint",
                                    "1": "Posta",
                                    "2": "4"
                                },
                                {
                                    "0": "balint",
                                    "1": "Személyes átvétel",
                                    "2": "2"
                                },
                                {
                                    "0": "balint",
                                    "1": "NULL",
                                    "2": "16"
                                },
                                {
                                    "0": "balint1",
                                    "1": "GLS",
                                    "2": "158"
                                },
                                {
                                    "0": "balint1",
                                    "1": "Posta",
                                    "2": "152"
                                },
                                {
                                    "0": "balint1",
                                    "1": "Személyes átvétel",
                                    "2": "152"
                                },
                                {
                                    "0": "balint1",
                                    "1": "NULL",
                                    "2": "462"
                                },
                                {
                                    "0": "balint2",
                                    "1": "GLS",
                                    "2": "8"
                                },
                                {
                                    "0": "balint2",
                                    "1": "Posta",
                                    "2": "6"
                                },
                                {
                                    "0": "balint2",
                                    "1": "Személyes átvétel",
                                    "2": "3"
                                },
                                {
                                    "0": "balint2",
                                    "1": "NULL",
                                    "2": "17"
                                },
                                {
                                    "0": "balu",
                                    "1": "GLS",
                                    "2": "127"
                                },
                                {
                                    "0": "balu",
                                    "1": "Posta",
                                    "2": "137"
                                },
                                {
                                    "0": "balu",
                                    "1": "Személyes átvétel",
                                    "2": "123"
                                },
                                {
                                    "0": "balu",
                                    "1": "NULL",
                                    "2": "387"
                                },
                                {
                                    "0": "BEATRIXK",
                                    "1": "GLS",
                                    "2": "135"
                                },
                                {
                                    "0": "BEATRIXK",
                                    "1": "Posta",
                                    "2": "155"
                                },
                                {
                                    "0": "BEATRIXK",
                                    "1": "Személyes átvétel",
                                    "2": "145"
                                },
                                {
                                    "0": "BEATRIXK",
                                    "1": "NULL",
                                    "2": "435"
                                },
                                {
                                    "0": "BEATRIXS",
                                    "1": "GLS",
                                    "2": "146"
                                },
                                {
                                    "0": "BEATRIXS",
                                    "1": "Posta",
                                    "2": "141"
                                },
                                {
                                    "0": "BEATRIXS",
                                    "1": "Személyes átvétel",
                                    "2": "133"
                                },
                                {
                                    "0": "BEATRIXS",
                                    "1": "NULL",
                                    "2": "420"
                                },
                                {
                                    "0": "BELAF",
                                    "1": "GLS",
                                    "2": "11"
                                },
                                {
                                    "0": "BELAF",
                                    "1": "Posta",
                                    "2": "2"
                                },
                                {
                                    "0": "BELAF",
                                    "1": "Személyes átvétel",
                                    "2": "5"
                                },
                                {
                                    "0": "BELAF",
                                    "1": "NULL",
                                    "2": "18"
                                },
                                {
                                    "0": "bence",
                                    "1": "GLS",
                                    "2": "4"
                                },
                                {
                                    "0": "bence",
                                    "1": "Posta",
                                    "2": "6"
                                },
                                {
                                    "0": "bence",
                                    "1": "Személyes átvétel",
                                    "2": "8"
                                },
                                {
                                    "0": "bence",
                                    "1": "NULL",
                                    "2": "18"
                                },
                                {
                                    "0": "BENCEB",
                                    "1": "GLS",
                                    "2": "5"
                                },
                                {
                                    "0": "BENCEB",
                                    "1": "Posta",
                                    "2": "7"
                                },
                                {
                                    "0": "BENCEB",
                                    "1": "Személyes átvétel",
                                    "2": "5"
                                },
                                {
                                    "0": "BENCEB",
                                    "1": "NULL",
                                    "2": "17"
                                },
                                {
                                    "0": "bernadett1",
                                    "1": "GLS",
                                    "2": "10"
                                },
                                {
                                    "0": "bernadett1",
                                    "1": "Posta",
                                    "2": "5"
                                },
                                {
                                    "0": "bernadett1",
                                    "1": "Személyes átvétel",
                                    "2": "5"
                                },
                                {
                                    "0": "bernadett1",
                                    "1": "NULL",
                                    "2": "20"
                                },
                                {
                                    "0": "bernadett2",
                                    "1": "GLS",
                                    "2": "6"
                                },
                                {
                                    "0": "bernadett2",
                                    "1": "Posta",
                                    "2": "2"
                                },
                                {
                                    "0": "bernadett2",
                                    "1": "Személyes átvétel",
                                    "2": "7"
                                },
                                {
                                    "0": "bernadett2",
                                    "1": "NULL",
                                    "2": "15"
                                },
                                {
                                    "0": "BERNADETTO",
                                    "1": "GLS",
                                    "2": "7"
                                },
                                {
                                    "0": "BERNADETTO",
                                    "1": "Posta",
                                    "2": "2"
                                },
                                {
                                    "0": "BERNADETTO",
                                    "1": "Személyes átvétel",
                                    "2": "7"
                                },
                                {
                                    "0": "BERNADETTO",
                                    "1": "NULL",
                                    "2": "16"
                                },
                                {
                                    "0": "bertalan",
                                    "1": "GLS",
                                    "2": "128"
                                },
                                {
                                    "0": "bertalan",
                                    "1": "Posta",
                                    "2": "124"
                                },
                                {
                                    "0": "bertalan",
                                    "1": "Személyes átvétel",
                                    "2": "101"
                                },
                                {
                                    "0": "bertalan",
                                    "1": "NULL",
                                    "2": "353"
                                },
                                {
                                    "0": "brigitta",
                                    "1": "GLS",
                                    "2": "137"
                                },
                                {
                                    "0": "brigitta",
                                    "1": "Posta",
                                    "2": "137"
                                },
                                {
                                    "0": "brigitta",
                                    "1": "Személyes átvétel",
                                    "2": "119"
                                },
                                {
                                    "0": "brigitta",
                                    "1": "NULL",
                                    "2": "393"
                                },
                                {
                                    "0": "brigitta3",
                                    "1": "GLS",
                                    "2": "144"
                                },
                                {
                                    "0": "brigitta3",
                                    "1": "Posta",
                                    "2": "130"
                                },
                                {
                                    "0": "brigitta3",
                                    "1": "Személyes átvétel",
                                    "2": "139"
                                },
                                {
                                    "0": "brigitta3",
                                    "1": "NULL",
                                    "2": "413"
                                },
                                {
                                    "0": "csongor3",
                                    "1": "GLS",
                                    "2": "5"
                                },
                                {
                                    "0": "csongor3",
                                    "1": "Posta",
                                    "2": "2"
                                },
                                {
                                    "0": "csongor3",
                                    "1": "Személyes átvétel",
                                    "2": "8"
                                },
                                {
                                    "0": "csongor3",
                                    "1": "NULL",
                                    "2": "15"
                                },
                                {
                                    "0": "dani",
                                    "1": "GLS",
                                    "2": "5"
                                },
                                {
                                    "0": "dani",
                                    "1": "Személyes átvétel",
                                    "2": "8"
                                },
                                {
                                    "0": "dani",
                                    "1": "NULL",
                                    "2": "13"
                                },
                                {
                                    "0": "daniel",
                                    "1": "GLS",
                                    "2": "7"
                                },
                                {
                                    "0": "daniel",
                                    "1": "Posta",
                                    "2": "2"
                                },
                                {
                                    "0": "daniel",
                                    "1": "Személyes átvétel",
                                    "2": "4"
                                },
                                {
                                    "0": "daniel",
                                    "1": "NULL",
                                    "2": "13"
                                },
                                {
                                    "0": "daniel1",
                                    "1": "GLS",
                                    "2": "156"
                                },
                                {
                                    "0": "daniel1",
                                    "1": "Posta",
                                    "2": "131"
                                },
                                {
                                    "0": "daniel1",
                                    "1": "Személyes átvétel",
                                    "2": "132"
                                },
                                {
                                    "0": "daniel1",
                                    "1": "NULL",
                                    "2": "419"
                                },
                                {
                                    "0": "david",
                                    "1": "GLS",
                                    "2": "161"
                                },
                                {
                                    "0": "david",
                                    "1": "Posta",
                                    "2": "144"
                                },
                                {
                                    "0": "david",
                                    "1": "Személyes átvétel",
                                    "2": "146"
                                },
                                {
                                    "0": "david",
                                    "1": "NULL",
                                    "2": "451"
                                },
                                {
                                    "0": "david1",
                                    "1": "GLS",
                                    "2": "8"
                                },
                                {
                                    "0": "david1",
                                    "1": "Posta",
                                    "2": "1"
                                },
                                {
                                    "0": "david1",
                                    "1": "Személyes átvétel",
                                    "2": "8"
                                },
                                {
                                    "0": "david1",
                                    "1": "NULL",
                                    "2": "17"
                                },
                                {
                                    "0": "david4",
                                    "1": "GLS",
                                    "2": "3"
                                },
                                {
                                    "0": "david4",
                                    "1": "Posta",
                                    "2": "8"
                                },
                                {
                                    "0": "david4",
                                    "1": "Személyes átvétel",
                                    "2": "10"
                                },
                                {
                                    "0": "david4",
                                    "1": "NULL",
                                    "2": "21"
                                },
                                {
                                    "0": "debora",
                                    "1": "GLS",
                                    "2": "7"
                                },
                                {
                                    "0": "debora",
                                    "1": "Posta",
                                    "2": "6"
                                },
                                {
                                    "0": "debora",
                                    "1": "Személyes átvétel",
                                    "2": "3"
                                },
                                {
                                    "0": "debora",
                                    "1": "NULL",
                                    "2": "16"
                                },
                                {
                                    "0": "denes",
                                    "1": "GLS",
                                    "2": "3"
                                },
                                {
                                    "0": "denes",
                                    "1": "Posta",
                                    "2": "2"
                                },
                                {
                                    "0": "denes",
                                    "1": "Személyes átvétel",
                                    "2": "4"
                                },
                                {
                                    "0": "denes",
                                    "1": "NULL",
                                    "2": "9"
                                },
                                {
                                    "0": "dora3",
                                    "1": "GLS",
                                    "2": "144"
                                },
                                {
                                    "0": "dora3",
                                    "1": "Posta",
                                    "2": "124"
                                },
                                {
                                    "0": "dora3",
                                    "1": "Személyes átvétel",
                                    "2": "164"
                                },
                                {
                                    "0": "dora3",
                                    "1": "NULL",
                                    "2": "432"
                                },
                                {
                                    "0": "edit",
                                    "1": "GLS",
                                    "2": "7"
                                },
                                {
                                    "0": "edit",
                                    "1": "Posta",
                                    "2": "2"
                                },
                                {
                                    "0": "edit",
                                    "1": "Személyes átvétel",
                                    "2": "4"
                                },
                                {
                                    "0": "edit",
                                    "1": "NULL",
                                    "2": "13"
                                },
                                {
                                    "0": "emese",
                                    "1": "GLS",
                                    "2": "128"
                                },
                                {
                                    "0": "emese",
                                    "1": "Posta",
                                    "2": "136"
                                },
                                {
                                    "0": "emese",
                                    "1": "Személyes átvétel",
                                    "2": "142"
                                },
                                {
                                    "0": "emese",
                                    "1": "NULL",
                                    "2": "406"
                                },
                                {
                                    "0": "eszter2",
                                    "1": "GLS",
                                    "2": "127"
                                },
                                {
                                    "0": "eszter2",
                                    "1": "Posta",
                                    "2": "136"
                                },
                                {
                                    "0": "eszter2",
                                    "1": "Személyes átvétel",
                                    "2": "152"
                                },
                                {
                                    "0": "eszter2",
                                    "1": "NULL",
                                    "2": "415"
                                },
                                {
                                    "0": "eszter4",
                                    "1": "GLS",
                                    "2": "141"
                                },
                                {
                                    "0": "eszter4",
                                    "1": "Posta",
                                    "2": "134"
                                },
                                {
                                    "0": "eszter4",
                                    "1": "Személyes átvétel",
                                    "2": "149"
                                },
                                {
                                    "0": "eszter4",
                                    "1": "NULL",
                                    "2": "424"
                                },
                                {
                                    "0": "ESZTERE",
                                    "1": "GLS",
                                    "2": "6"
                                },
                                {
                                    "0": "ESZTERE",
                                    "1": "Posta",
                                    "2": "9"
                                },
                                {
                                    "0": "ESZTERE",
                                    "1": "Személyes átvétel",
                                    "2": "7"
                                },
                                {
                                    "0": "ESZTERE",
                                    "1": "NULL",
                                    "2": "22"
                                },
                                {
                                    "0": "eva",
                                    "1": "GLS",
                                    "2": "125"
                                },
                                {
                                    "0": "eva",
                                    "1": "Posta",
                                    "2": "140"
                                },
                                {
                                    "0": "eva",
                                    "1": "Személyes átvétel",
                                    "2": "139"
                                },
                                {
                                    "0": "eva",
                                    "1": "NULL",
                                    "2": "404"
                                },
                                {
                                    "0": "eva2",
                                    "1": "GLS",
                                    "2": "154"
                                },
                                {
                                    "0": "eva2",
                                    "1": "Posta",
                                    "2": "138"
                                },
                                {
                                    "0": "eva2",
                                    "1": "Személyes átvétel",
                                    "2": "170"
                                },
                                {
                                    "0": "eva2",
                                    "1": "NULL",
                                    "2": "462"
                                },
                                {
                                    "0": "EVAV",
                                    "1": "GLS",
                                    "2": "2"
                                },
                                {
                                    "0": "EVAV",
                                    "1": "Posta",
                                    "2": "1"
                                },
                                {
                                    "0": "EVAV",
                                    "1": "Személyes átvétel",
                                    "2": "4"
                                },
                                {
                                    "0": "EVAV",
                                    "1": "NULL",
                                    "2": "7"
                                },
                                {
                                    "0": "ferenc1",
                                    "1": "GLS",
                                    "2": "144"
                                },
                                {
                                    "0": "ferenc1",
                                    "1": "Posta",
                                    "2": "158"
                                },
                                {
                                    "0": "ferenc1",
                                    "1": "Személyes átvétel",
                                    "2": "135"
                                },
                                {
                                    "0": "ferenc1",
                                    "1": "NULL",
                                    "2": "437"
                                },
                                {
                                    "0": "fruzsina4",
                                    "1": "GLS",
                                    "2": "8"
                                },
                                {
                                    "0": "fruzsina4",
                                    "1": "Posta",
                                    "2": "3"
                                },
                                {
                                    "0": "fruzsina4",
                                    "1": "Személyes átvétel",
                                    "2": "7"
                                },
                                {
                                    "0": "fruzsina4",
                                    "1": "NULL",
                                    "2": "18"
                                },
                                {
                                    "0": "gabor1",
                                    "1": "GLS",
                                    "2": "9"
                                },
                                {
                                    "0": "gabor1",
                                    "1": "Posta",
                                    "2": "5"
                                },
                                {
                                    "0": "gabor1",
                                    "1": "Személyes átvétel",
                                    "2": "5"
                                },
                                {
                                    "0": "gabor1",
                                    "1": "NULL",
                                    "2": "19"
                                },
                                {
                                    "0": "gabor4",
                                    "1": "GLS",
                                    "2": "7"
                                },
                                {
                                    "0": "gabor4",
                                    "1": "Posta",
                                    "2": "9"
                                },
                                {
                                    "0": "gabor4",
                                    "1": "Személyes átvétel",
                                    "2": "4"
                                },
                                {
                                    "0": "gabor4",
                                    "1": "NULL",
                                    "2": "20"
                                },
                                {
                                    "0": "GABORS",
                                    "1": "GLS",
                                    "2": "5"
                                },
                                {
                                    "0": "GABORS",
                                    "1": "Posta",
                                    "2": "6"
                                },
                                {
                                    "0": "GABORS",
                                    "1": "Személyes átvétel",
                                    "2": "4"
                                },
                                {
                                    "0": "GABORS",
                                    "1": "NULL",
                                    "2": "15"
                                },
                                {
                                    "0": "gabriella1",
                                    "1": "GLS",
                                    "2": "5"
                                },
                                {
                                    "0": "gabriella1",
                                    "1": "Posta",
                                    "2": "4"
                                },
                                {
                                    "0": "gabriella1",
                                    "1": "Személyes átvétel",
                                    "2": "5"
                                },
                                {
                                    "0": "gabriella1",
                                    "1": "NULL",
                                    "2": "14"
                                },
                                {
                                    "0": "gabriella10",
                                    "1": "GLS",
                                    "2": "4"
                                },
                                {
                                    "0": "gabriella10",
                                    "1": "Posta",
                                    "2": "5"
                                },
                                {
                                    "0": "gabriella10",
                                    "1": "Személyes átvétel",
                                    "2": "7"
                                },
                                {
                                    "0": "gabriella10",
                                    "1": "NULL",
                                    "2": "16"
                                },
                                {
                                    "0": "georgij",
                                    "1": "GLS",
                                    "2": "9"
                                },
                                {
                                    "0": "georgij",
                                    "1": "Posta",
                                    "2": "2"
                                },
                                {
                                    "0": "georgij",
                                    "1": "Személyes átvétel",
                                    "2": "10"
                                },
                                {
                                    "0": "georgij",
                                    "1": "NULL",
                                    "2": "21"
                                },
                                {
                                    "0": "gusztav",
                                    "1": "GLS",
                                    "2": "5"
                                },
                                {
                                    "0": "gusztav",
                                    "1": "Posta",
                                    "2": "4"
                                },
                                {
                                    "0": "gusztav",
                                    "1": "Személyes átvétel",
                                    "2": "5"
                                },
                                {
                                    "0": "gusztav",
                                    "1": "NULL",
                                    "2": "14"
                                },
                                {
                                    "0": "GYONGYIK",
                                    "1": "GLS",
                                    "2": "6"
                                },
                                {
                                    "0": "GYONGYIK",
                                    "1": "Posta",
                                    "2": "6"
                                },
                                {
                                    "0": "GYONGYIK",
                                    "1": "Személyes átvétel",
                                    "2": "3"
                                },
                                {
                                    "0": "GYONGYIK",
                                    "1": "NULL",
                                    "2": "15"
                                },
                                {
                                    "0": "GYORGYO",
                                    "1": "GLS",
                                    "2": "7"
                                },
                                {
                                    "0": "GYORGYO",
                                    "1": "Posta",
                                    "2": "4"
                                },
                                {
                                    "0": "GYORGYO",
                                    "1": "Személyes átvétel",
                                    "2": "5"
                                },
                                {
                                    "0": "GYORGYO",
                                    "1": "NULL",
                                    "2": "16"
                                },
                                {
                                    "0": "henrik3",
                                    "1": "GLS",
                                    "2": "7"
                                },
                                {
                                    "0": "henrik3",
                                    "1": "Posta",
                                    "2": "4"
                                },
                                {
                                    "0": "henrik3",
                                    "1": "Személyes átvétel",
                                    "2": "5"
                                },
                                {
                                    "0": "henrik3",
                                    "1": "NULL",
                                    "2": "16"
                                },
                                {
                                    "0": "IBOLYAA",
                                    "1": "GLS",
                                    "2": "140"
                                },
                                {
                                    "0": "IBOLYAA",
                                    "1": "Posta",
                                    "2": "125"
                                },
                                {
                                    "0": "IBOLYAA",
                                    "1": "Személyes átvétel",
                                    "2": "157"
                                },
                                {
                                    "0": "IBOLYAA",
                                    "1": "NULL",
                                    "2": "422"
                                },
                                {
                                    "0": "ilona3",
                                    "1": "GLS",
                                    "2": "9"
                                },
                                {
                                    "0": "ilona3",
                                    "1": "Posta",
                                    "2": "2"
                                },
                                {
                                    "0": "ilona3",
                                    "1": "Személyes átvétel",
                                    "2": "7"
                                },
                                {
                                    "0": "ilona3",
                                    "1": "NULL",
                                    "2": "18"
                                },
                                {
                                    "0": "imre",
                                    "1": "GLS",
                                    "2": "5"
                                },
                                {
                                    "0": "imre",
                                    "1": "Posta",
                                    "2": "4"
                                },
                                {
                                    "0": "imre",
                                    "1": "Személyes átvétel",
                                    "2": "6"
                                },
                                {
                                    "0": "imre",
                                    "1": "NULL",
                                    "2": "15"
                                },
                                {
                                    "0": "imre1",
                                    "1": "GLS",
                                    "2": "8"
                                },
                                {
                                    "0": "imre1",
                                    "1": "Posta",
                                    "2": "4"
                                },
                                {
                                    "0": "imre1",
                                    "1": "Személyes átvétel",
                                    "2": "3"
                                },
                                {
                                    "0": "imre1",
                                    "1": "NULL",
                                    "2": "15"
                                },
                                {
                                    "0": "istvan",
                                    "1": "GLS",
                                    "2": "3"
                                },
                                {
                                    "0": "istvan",
                                    "1": "Posta",
                                    "2": "4"
                                },
                                {
                                    "0": "istvan",
                                    "1": "Személyes átvétel",
                                    "2": "4"
                                },
                                {
                                    "0": "istvan",
                                    "1": "NULL",
                                    "2": "11"
                                },
                                {
                                    "0": "istvan1",
                                    "1": "GLS",
                                    "2": "8"
                                },
                                {
                                    "0": "istvan1",
                                    "1": "Posta",
                                    "2": "4"
                                },
                                {
                                    "0": "istvan1",
                                    "1": "Személyes átvétel",
                                    "2": "7"
                                },
                                {
                                    "0": "istvan1",
                                    "1": "NULL",
                                    "2": "19"
                                },
                                {
                                    "0": "ISTVANV",
                                    "1": "GLS",
                                    "2": "4"
                                },
                                {
                                    "0": "ISTVANV",
                                    "1": "Posta",
                                    "2": "9"
                                },
                                {
                                    "0": "ISTVANV",
                                    "1": "Személyes átvétel",
                                    "2": "8"
                                },
                                {
                                    "0": "ISTVANV",
                                    "1": "NULL",
                                    "2": "21"
                                },
                                {
                                    "0": "janos3",
                                    "1": "GLS",
                                    "2": "5"
                                },
                                {
                                    "0": "janos3",
                                    "1": "Posta",
                                    "2": "2"
                                },
                                {
                                    "0": "janos3",
                                    "1": "Személyes átvétel",
                                    "2": "6"
                                },
                                {
                                    "0": "janos3",
                                    "1": "NULL",
                                    "2": "13"
                                },
                                {
                                    "0": "JANOSG",
                                    "1": "GLS",
                                    "2": "3"
                                },
                                {
                                    "0": "JANOSG",
                                    "1": "Posta",
                                    "2": "3"
                                },
                                {
                                    "0": "JANOSG",
                                    "1": "Személyes átvétel",
                                    "2": "4"
                                },
                                {
                                    "0": "JANOSG",
                                    "1": "NULL",
                                    "2": "10"
                                },
                                {
                                    "0": "JANOSP",
                                    "1": "GLS",
                                    "2": "7"
                                },
                                {
                                    "0": "JANOSP",
                                    "1": "Posta",
                                    "2": "7"
                                },
                                {
                                    "0": "JANOSP",
                                    "1": "Személyes átvétel",
                                    "2": "3"
                                },
                                {
                                    "0": "JANOSP",
                                    "1": "NULL",
                                    "2": "17"
                                },
                                {
                                    "0": "jozsef",
                                    "1": "GLS",
                                    "2": "116"
                                },
                                {
                                    "0": "jozsef",
                                    "1": "Posta",
                                    "2": "132"
                                },
                                {
                                    "0": "jozsef",
                                    "1": "Személyes átvétel",
                                    "2": "134"
                                },
                                {
                                    "0": "jozsef",
                                    "1": "NULL",
                                    "2": "382"
                                },
                                {
                                    "0": "jozsef2",
                                    "1": "GLS",
                                    "2": "7"
                                },
                                {
                                    "0": "jozsef2",
                                    "1": "Posta",
                                    "2": "2"
                                },
                                {
                                    "0": "jozsef2",
                                    "1": "Személyes átvétel",
                                    "2": "4"
                                },
                                {
                                    "0": "jozsef2",
                                    "1": "NULL",
                                    "2": "13"
                                },
                                {
                                    "0": "JOZSEFG",
                                    "1": "GLS",
                                    "2": "11"
                                },
                                {
                                    "0": "JOZSEFG",
                                    "1": "Posta",
                                    "2": "1"
                                },
                                {
                                    "0": "JOZSEFG",
                                    "1": "Személyes átvétel",
                                    "2": "9"
                                },
                                {
                                    "0": "JOZSEFG",
                                    "1": "NULL",
                                    "2": "21"
                                },
                                {
                                    "0": "JUDITH",
                                    "1": "GLS",
                                    "2": "170"
                                },
                                {
                                    "0": "JUDITH",
                                    "1": "Posta",
                                    "2": "130"
                                },
                                {
                                    "0": "JUDITH",
                                    "1": "Személyes átvétel",
                                    "2": "150"
                                },
                                {
                                    "0": "JUDITH",
                                    "1": "NULL",
                                    "2": "450"
                                },
                                {
                                    "0": "julia",
                                    "1": "GLS",
                                    "2": "137"
                                },
                                {
                                    "0": "julia",
                                    "1": "Posta",
                                    "2": "160"
                                },
                                {
                                    "0": "julia",
                                    "1": "Személyes átvétel",
                                    "2": "138"
                                },
                                {
                                    "0": "julia",
                                    "1": "NULL",
                                    "2": "435"
                                },
                                {
                                    "0": "julia4",
                                    "1": "GLS",
                                    "2": "2"
                                },
                                {
                                    "0": "julia4",
                                    "1": "Posta",
                                    "2": "4"
                                },
                                {
                                    "0": "julia4",
                                    "1": "Személyes átvétel",
                                    "2": "8"
                                },
                                {
                                    "0": "julia4",
                                    "1": "NULL",
                                    "2": "14"
                                },
                                {
                                    "0": "julianna4",
                                    "1": "GLS",
                                    "2": "8"
                                },
                                {
                                    "0": "julianna4",
                                    "1": "Posta",
                                    "2": "12"
                                },
                                {
                                    "0": "julianna4",
                                    "1": "Személyes átvétel",
                                    "2": "7"
                                },
                                {
                                    "0": "julianna4",
                                    "1": "NULL",
                                    "2": "27"
                                },
                                {
                                    "0": "kata",
                                    "1": "GLS",
                                    "2": "5"
                                },
                                {
                                    "0": "kata",
                                    "1": "Posta",
                                    "2": "4"
                                },
                                {
                                    "0": "kata",
                                    "1": "Személyes átvétel",
                                    "2": "3"
                                },
                                {
                                    "0": "kata",
                                    "1": "NULL",
                                    "2": "12"
                                },
                                {
                                    "0": "katalin",
                                    "1": "GLS",
                                    "2": "7"
                                },
                                {
                                    "0": "katalin",
                                    "1": "Posta",
                                    "2": "7"
                                },
                                {
                                    "0": "katalin",
                                    "1": "Személyes átvétel",
                                    "2": "5"
                                },
                                {
                                    "0": "katalin",
                                    "1": "NULL",
                                    "2": "19"
                                },
                                {
                                    "0": "katalin4",
                                    "1": "GLS",
                                    "2": "7"
                                },
                                {
                                    "0": "katalin4",
                                    "1": "Posta",
                                    "2": "5"
                                },
                                {
                                    "0": "katalin4",
                                    "1": "Személyes átvétel",
                                    "2": "11"
                                },
                                {
                                    "0": "katalin4",
                                    "1": "NULL",
                                    "2": "23"
                                },
                                {
                                    "0": "kati",
                                    "1": "GLS",
                                    "2": "4"
                                },
                                {
                                    "0": "kati",
                                    "1": "Posta",
                                    "2": "5"
                                },
                                {
                                    "0": "kati",
                                    "1": "Személyes átvétel",
                                    "2": "4"
                                },
                                {
                                    "0": "kati",
                                    "1": "NULL",
                                    "2": "13"
                                },
                                {
                                    "0": "katka",
                                    "1": "GLS",
                                    "2": "6"
                                },
                                {
                                    "0": "katka",
                                    "1": "Posta",
                                    "2": "6"
                                },
                                {
                                    "0": "katka",
                                    "1": "Személyes átvétel",
                                    "2": "10"
                                },
                                {
                                    "0": "katka",
                                    "1": "NULL",
                                    "2": "22"
                                },
                                {
                                    "0": "klaudia2",
                                    "1": "GLS",
                                    "2": "3"
                                },
                                {
                                    "0": "klaudia2",
                                    "1": "Posta",
                                    "2": "9"
                                },
                                {
                                    "0": "klaudia2",
                                    "1": "Személyes átvétel",
                                    "2": "5"
                                },
                                {
                                    "0": "klaudia2",
                                    "1": "NULL",
                                    "2": "17"
                                },
                                {
                                    "0": "kornel4",
                                    "1": "GLS",
                                    "2": "3"
                                },
                                {
                                    "0": "kornel4",
                                    "1": "Posta",
                                    "2": "1"
                                },
                                {
                                    "0": "kornel4",
                                    "1": "Személyes átvétel",
                                    "2": "7"
                                },
                                {
                                    "0": "kornel4",
                                    "1": "NULL",
                                    "2": "11"
                                },
                                {
                                    "0": "kristof4",
                                    "1": "GLS",
                                    "2": "9"
                                },
                                {
                                    "0": "kristof4",
                                    "1": "Posta",
                                    "2": "4"
                                },
                                {
                                    "0": "kristof4",
                                    "1": "Személyes átvétel",
                                    "2": "8"
                                },
                                {
                                    "0": "kristof4",
                                    "1": "NULL",
                                    "2": "21"
                                },
                                {
                                    "0": "kriszti",
                                    "1": "GLS",
                                    "2": "3"
                                },
                                {
                                    "0": "kriszti",
                                    "1": "Posta",
                                    "2": "5"
                                },
                                {
                                    "0": "kriszti",
                                    "1": "Személyes átvétel",
                                    "2": "5"
                                },
                                {
                                    "0": "kriszti",
                                    "1": "NULL",
                                    "2": "13"
                                },
                                {
                                    "0": "krisztian4",
                                    "1": "GLS",
                                    "2": "5"
                                },
                                {
                                    "0": "krisztian4",
                                    "1": "Posta",
                                    "2": "6"
                                },
                                {
                                    "0": "krisztian4",
                                    "1": "Személyes átvétel",
                                    "2": "6"
                                },
                                {
                                    "0": "krisztian4",
                                    "1": "NULL",
                                    "2": "17"
                                },
                                {
                                    "0": "KRISZTIANM",
                                    "1": "GLS",
                                    "2": "118"
                                },
                                {
                                    "0": "KRISZTIANM",
                                    "1": "Posta",
                                    "2": "136"
                                },
                                {
                                    "0": "KRISZTIANM",
                                    "1": "Személyes átvétel",
                                    "2": "130"
                                },
                                {
                                    "0": "KRISZTIANM",
                                    "1": "NULL",
                                    "2": "384"
                                },
                                {
                                    "0": "krisztina",
                                    "1": "GLS",
                                    "2": "149"
                                },
                                {
                                    "0": "krisztina",
                                    "1": "Posta",
                                    "2": "150"
                                },
                                {
                                    "0": "krisztina",
                                    "1": "Személyes átvétel",
                                    "2": "157"
                                },
                                {
                                    "0": "krisztina",
                                    "1": "NULL",
                                    "2": "456"
                                },
                                {
                                    "0": "krisztina1",
                                    "1": "GLS",
                                    "2": "10"
                                },
                                {
                                    "0": "krisztina1",
                                    "1": "Posta",
                                    "2": "4"
                                },
                                {
                                    "0": "krisztina1",
                                    "1": "Személyes átvétel",
                                    "2": "8"
                                },
                                {
                                    "0": "krisztina1",
                                    "1": "NULL",
                                    "2": "22"
                                },
                                {
                                    "0": "KRISZTINAG",
                                    "1": "GLS",
                                    "2": "6"
                                },
                                {
                                    "0": "KRISZTINAG",
                                    "1": "Posta",
                                    "2": "6"
                                },
                                {
                                    "0": "KRISZTINAG",
                                    "1": "Személyes átvétel",
                                    "2": "10"
                                },
                                {
                                    "0": "KRISZTINAG",
                                    "1": "NULL",
                                    "2": "22"
                                },
                                {
                                    "0": "lajos",
                                    "1": "GLS",
                                    "2": "5"
                                },
                                {
                                    "0": "lajos",
                                    "1": "Posta",
                                    "2": "2"
                                },
                                {
                                    "0": "lajos",
                                    "1": "Személyes átvétel",
                                    "2": "9"
                                },
                                {
                                    "0": "lajos",
                                    "1": "NULL",
                                    "2": "16"
                                },
                                {
                                    "0": "lala",
                                    "1": "GLS",
                                    "2": "5"
                                },
                                {
                                    "0": "lala",
                                    "1": "Posta",
                                    "2": "3"
                                },
                                {
                                    "0": "lala",
                                    "1": "Személyes átvétel",
                                    "2": "9"
                                },
                                {
                                    "0": "lala",
                                    "1": "NULL",
                                    "2": "17"
                                },
                                {
                                    "0": "laszlo1",
                                    "1": "GLS",
                                    "2": "130"
                                },
                                {
                                    "0": "laszlo1",
                                    "1": "Posta",
                                    "2": "129"
                                },
                                {
                                    "0": "laszlo1",
                                    "1": "Személyes átvétel",
                                    "2": "135"
                                },
                                {
                                    "0": "laszlo1",
                                    "1": "NULL",
                                    "2": "394"
                                },
                                {
                                    "0": "laszlo2",
                                    "1": "GLS",
                                    "2": "12"
                                },
                                {
                                    "0": "laszlo2",
                                    "1": "Posta",
                                    "2": "6"
                                },
                                {
                                    "0": "laszlo2",
                                    "1": "Személyes átvétel",
                                    "2": "7"
                                },
                                {
                                    "0": "laszlo2",
                                    "1": "NULL",
                                    "2": "25"
                                },
                                {
                                    "0": "LASZLOA",
                                    "1": "GLS",
                                    "2": "156"
                                },
                                {
                                    "0": "LASZLOA",
                                    "1": "Posta",
                                    "2": "136"
                                },
                                {
                                    "0": "LASZLOA",
                                    "1": "Személyes átvétel",
                                    "2": "154"
                                },
                                {
                                    "0": "LASZLOA",
                                    "1": "NULL",
                                    "2": "446"
                                },
                                {
                                    "0": "LASZLON",
                                    "1": "GLS",
                                    "2": "126"
                                },
                                {
                                    "0": "LASZLON",
                                    "1": "Posta",
                                    "2": "131"
                                },
                                {
                                    "0": "LASZLON",
                                    "1": "Személyes átvétel",
                                    "2": "143"
                                },
                                {
                                    "0": "LASZLON",
                                    "1": "NULL",
                                    "2": "400"
                                },
                                {
                                    "0": "maria1",
                                    "1": "GLS",
                                    "2": "4"
                                },
                                {
                                    "0": "maria1",
                                    "1": "Posta",
                                    "2": "5"
                                },
                                {
                                    "0": "maria1",
                                    "1": "Személyes átvétel",
                                    "2": "1"
                                },
                                {
                                    "0": "maria1",
                                    "1": "NULL",
                                    "2": "10"
                                },
                                {
                                    "0": "MARKH",
                                    "1": "GLS",
                                    "2": "128"
                                },
                                {
                                    "0": "MARKH",
                                    "1": "Posta",
                                    "2": "142"
                                },
                                {
                                    "0": "MARKH",
                                    "1": "Személyes átvétel",
                                    "2": "142"
                                },
                                {
                                    "0": "MARKH",
                                    "1": "NULL",
                                    "2": "412"
                                },
                                {
                                    "0": "marton",
                                    "1": "GLS",
                                    "2": "5"
                                },
                                {
                                    "0": "marton",
                                    "1": "Posta",
                                    "2": "4"
                                },
                                {
                                    "0": "marton",
                                    "1": "Személyes átvétel",
                                    "2": "5"
                                },
                                {
                                    "0": "marton",
                                    "1": "NULL",
                                    "2": "14"
                                },
                                {
                                    "0": "MATEK",
                                    "1": "GLS",
                                    "2": "6"
                                },
                                {
                                    "0": "MATEK",
                                    "1": "Posta",
                                    "2": "10"
                                },
                                {
                                    "0": "MATEK",
                                    "1": "Személyes átvétel",
                                    "2": "9"
                                },
                                {
                                    "0": "MATEK",
                                    "1": "NULL",
                                    "2": "25"
                                },
                                {
                                    "0": "matyas2",
                                    "1": "GLS",
                                    "2": "138"
                                },
                                {
                                    "0": "matyas2",
                                    "1": "Posta",
                                    "2": "131"
                                },
                                {
                                    "0": "matyas2",
                                    "1": "Személyes átvétel",
                                    "2": "164"
                                },
                                {
                                    "0": "matyas2",
                                    "1": "NULL",
                                    "2": "433"
                                },
                                {
                                    "0": "MATYASS",
                                    "1": "GLS",
                                    "2": "4"
                                },
                                {
                                    "0": "MATYASS",
                                    "1": "Posta",
                                    "2": "5"
                                },
                                {
                                    "0": "MATYASS",
                                    "1": "Személyes átvétel",
                                    "2": "3"
                                },
                                {
                                    "0": "MATYASS",
                                    "1": "NULL",
                                    "2": "12"
                                },
                                {
                                    "0": "MIHALYJ",
                                    "1": "GLS",
                                    "2": "3"
                                },
                                {
                                    "0": "MIHALYJ",
                                    "1": "Posta",
                                    "2": "4"
                                },
                                {
                                    "0": "MIHALYJ",
                                    "1": "Személyes átvétel",
                                    "2": "6"
                                },
                                {
                                    "0": "MIHALYJ",
                                    "1": "NULL",
                                    "2": "13"
                                },
                                {
                                    "0": "miklos2",
                                    "1": "GLS",
                                    "2": "7"
                                },
                                {
                                    "0": "miklos2",
                                    "1": "Posta",
                                    "2": "4"
                                },
                                {
                                    "0": "miklos2",
                                    "1": "Személyes átvétel",
                                    "2": "2"
                                },
                                {
                                    "0": "miklos2",
                                    "1": "NULL",
                                    "2": "13"
                                },
                                {
                                    "0": "MIKLOSB",
                                    "1": "GLS",
                                    "2": "6"
                                },
                                {
                                    "0": "MIKLOSB",
                                    "1": "Posta",
                                    "2": "1"
                                },
                                {
                                    "0": "MIKLOSB",
                                    "1": "Személyes átvétel",
                                    "2": "8"
                                },
                                {
                                    "0": "MIKLOSB",
                                    "1": "NULL",
                                    "2": "15"
                                },
                                {
                                    "0": "MONIKAM",
                                    "1": "GLS",
                                    "2": "133"
                                },
                                {
                                    "0": "MONIKAM",
                                    "1": "Posta",
                                    "2": "151"
                                },
                                {
                                    "0": "MONIKAM",
                                    "1": "Személyes átvétel",
                                    "2": "123"
                                },
                                {
                                    "0": "MONIKAM",
                                    "1": "NULL",
                                    "2": "407"
                                },
                                {
                                    "0": "NANDORF",
                                    "1": "GLS",
                                    "2": "147"
                                },
                                {
                                    "0": "NANDORF",
                                    "1": "Posta",
                                    "2": "139"
                                },
                                {
                                    "0": "NANDORF",
                                    "1": "Személyes átvétel",
                                    "2": "134"
                                },
                                {
                                    "0": "NANDORF",
                                    "1": "NULL",
                                    "2": "420"
                                },
                                {
                                    "0": "nikolett3",
                                    "1": "GLS",
                                    "2": "4"
                                },
                                {
                                    "0": "nikolett3",
                                    "1": "Posta",
                                    "2": "3"
                                },
                                {
                                    "0": "nikolett3",
                                    "1": "Személyes átvétel",
                                    "2": "10"
                                },
                                {
                                    "0": "nikolett3",
                                    "1": "NULL",
                                    "2": "17"
                                },
                                {
                                    "0": "nikoletta4",
                                    "1": "GLS",
                                    "2": "137"
                                },
                                {
                                    "0": "nikoletta4",
                                    "1": "Posta",
                                    "2": "158"
                                },
                                {
                                    "0": "nikoletta4",
                                    "1": "Személyes átvétel",
                                    "2": "119"
                                },
                                {
                                    "0": "nikoletta4",
                                    "1": "NULL",
                                    "2": "414"
                                },
                                {
                                    "0": "NIKOLETTAT",
                                    "1": "GLS",
                                    "2": "13"
                                },
                                {
                                    "0": "NIKOLETTAT",
                                    "1": "Posta",
                                    "2": "7"
                                },
                                {
                                    "0": "NIKOLETTAT",
                                    "1": "Személyes átvétel",
                                    "2": "5"
                                },
                                {
                                    "0": "NIKOLETTAT",
                                    "1": "NULL",
                                    "2": "25"
                                },
                                {
                                    "0": "norbert2",
                                    "1": "GLS",
                                    "2": "7"
                                },
                                {
                                    "0": "norbert2",
                                    "1": "Posta",
                                    "2": "4"
                                },
                                {
                                    "0": "norbert2",
                                    "1": "NULL",
                                    "2": "11"
                                },
                                {
                                    "0": "norbert4",
                                    "1": "GLS",
                                    "2": "1"
                                },
                                {
                                    "0": "norbert4",
                                    "1": "Posta",
                                    "2": "3"
                                },
                                {
                                    "0": "norbert4",
                                    "1": "Személyes átvétel",
                                    "2": "9"
                                },
                                {
                                    "0": "norbert4",
                                    "1": "NULL",
                                    "2": "13"
                                },
                                {
                                    "0": "norbert5",
                                    "1": "GLS",
                                    "2": "1"
                                },
                                {
                                    "0": "norbert5",
                                    "1": "Posta",
                                    "2": "6"
                                },
                                {
                                    "0": "norbert5",
                                    "1": "Személyes átvétel",
                                    "2": "9"
                                },
                                {
                                    "0": "norbert5",
                                    "1": "NULL",
                                    "2": "16"
                                },
                                {
                                    "0": "pal",
                                    "1": "GLS",
                                    "2": "152"
                                },
                                {
                                    "0": "pal",
                                    "1": "Posta",
                                    "2": "132"
                                },
                                {
                                    "0": "pal",
                                    "1": "Személyes átvétel",
                                    "2": "154"
                                },
                                {
                                    "0": "pal",
                                    "1": "NULL",
                                    "2": "438"
                                },
                                {
                                    "0": "peter1",
                                    "1": "GLS",
                                    "2": "151"
                                },
                                {
                                    "0": "peter1",
                                    "1": "Posta",
                                    "2": "135"
                                },
                                {
                                    "0": "peter1",
                                    "1": "Személyes átvétel",
                                    "2": "126"
                                },
                                {
                                    "0": "peter1",
                                    "1": "NULL",
                                    "2": "412"
                                },
                                {
                                    "0": "peter2",
                                    "1": "GLS",
                                    "2": "7"
                                },
                                {
                                    "0": "peter2",
                                    "1": "Posta",
                                    "2": "4"
                                },
                                {
                                    "0": "peter2",
                                    "1": "Személyes átvétel",
                                    "2": "7"
                                },
                                {
                                    "0": "peter2",
                                    "1": "NULL",
                                    "2": "18"
                                },
                                {
                                    "0": "peter3",
                                    "1": "GLS",
                                    "2": "8"
                                },
                                {
                                    "0": "peter3",
                                    "1": "Posta",
                                    "2": "7"
                                },
                                {
                                    "0": "peter3",
                                    "1": "Személyes átvétel",
                                    "2": "10"
                                },
                                {
                                    "0": "peter3",
                                    "1": "NULL",
                                    "2": "25"
                                },
                                {
                                    "0": "peter4",
                                    "1": "GLS",
                                    "2": "266"
                                },
                                {
                                    "0": "peter4",
                                    "1": "Posta",
                                    "2": "293"
                                },
                                {
                                    "0": "peter4",
                                    "1": "Személyes átvétel",
                                    "2": "293"
                                },
                                {
                                    "0": "peter4",
                                    "1": "NULL",
                                    "2": "852"
                                },
                                {
                                    "0": "PETERB",
                                    "1": "GLS",
                                    "2": "2"
                                },
                                {
                                    "0": "PETERB",
                                    "1": "Posta",
                                    "2": "4"
                                },
                                {
                                    "0": "PETERB",
                                    "1": "Személyes átvétel",
                                    "2": "9"
                                },
                                {
                                    "0": "PETERB",
                                    "1": "NULL",
                                    "2": "15"
                                },
                                {
                                    "0": "polla",
                                    "1": "GLS",
                                    "2": "9"
                                },
                                {
                                    "0": "polla",
                                    "1": "Posta",
                                    "2": "6"
                                },
                                {
                                    "0": "polla",
                                    "1": "Személyes átvétel",
                                    "2": "7"
                                },
                                {
                                    "0": "polla",
                                    "1": "NULL",
                                    "2": "22"
                                },
                                {
                                    "0": "rajmond4",
                                    "1": "GLS",
                                    "2": "6"
                                },
                                {
                                    "0": "rajmond4",
                                    "1": "Posta",
                                    "2": "5"
                                },
                                {
                                    "0": "rajmond4",
                                    "1": "Személyes átvétel",
                                    "2": "6"
                                },
                                {
                                    "0": "rajmond4",
                                    "1": "NULL",
                                    "2": "17"
                                },
                                {
                                    "0": "reka4",
                                    "1": "GLS",
                                    "2": "5"
                                },
                                {
                                    "0": "reka4",
                                    "1": "Posta",
                                    "2": "4"
                                },
                                {
                                    "0": "reka4",
                                    "1": "Személyes átvétel",
                                    "2": "11"
                                },
                                {
                                    "0": "reka4",
                                    "1": "NULL",
                                    "2": "20"
                                },
                                {
                                    "0": "RENATAK",
                                    "1": "GLS",
                                    "2": "135"
                                },
                                {
                                    "0": "RENATAK",
                                    "1": "Posta",
                                    "2": "140"
                                },
                                {
                                    "0": "RENATAK",
                                    "1": "Személyes átvétel",
                                    "2": "147"
                                },
                                {
                                    "0": "RENATAK",
                                    "1": "NULL",
                                    "2": "422"
                                },
                                {
                                    "0": "RENATAS",
                                    "1": "GLS",
                                    "2": "6"
                                },
                                {
                                    "0": "RENATAS",
                                    "1": "Posta",
                                    "2": "5"
                                },
                                {
                                    "0": "RENATAS",
                                    "1": "Személyes átvétel",
                                    "2": "5"
                                },
                                {
                                    "0": "RENATAS",
                                    "1": "NULL",
                                    "2": "16"
                                },
                                {
                                    "0": "robert2",
                                    "1": "GLS",
                                    "2": "5"
                                },
                                {
                                    "0": "robert2",
                                    "1": "Posta",
                                    "2": "1"
                                },
                                {
                                    "0": "robert2",
                                    "1": "Személyes átvétel",
                                    "2": "7"
                                },
                                {
                                    "0": "robert2",
                                    "1": "NULL",
                                    "2": "13"
                                },
                                {
                                    "0": "ROBERTI",
                                    "1": "GLS",
                                    "2": "5"
                                },
                                {
                                    "0": "ROBERTI",
                                    "1": "Posta",
                                    "2": "3"
                                },
                                {
                                    "0": "ROBERTI",
                                    "1": "Személyes átvétel",
                                    "2": "5"
                                },
                                {
                                    "0": "ROBERTI",
                                    "1": "NULL",
                                    "2": "13"
                                },
                                {
                                    "0": "ROBERTP",
                                    "1": "GLS",
                                    "2": "8"
                                },
                                {
                                    "0": "ROBERTP",
                                    "1": "Posta",
                                    "2": "8"
                                },
                                {
                                    "0": "ROBERTP",
                                    "1": "Személyes átvétel",
                                    "2": "10"
                                },
                                {
                                    "0": "ROBERTP",
                                    "1": "NULL",
                                    "2": "26"
                                },
                                {
                                    "0": "roland",
                                    "1": "GLS",
                                    "2": "132"
                                },
                                {
                                    "0": "roland",
                                    "1": "Posta",
                                    "2": "157"
                                },
                                {
                                    "0": "roland",
                                    "1": "Személyes átvétel",
                                    "2": "125"
                                },
                                {
                                    "0": "roland",
                                    "1": "NULL",
                                    "2": "414"
                                },
                                {
                                    "0": "roland1",
                                    "1": "GLS",
                                    "2": "142"
                                },
                                {
                                    "0": "roland1",
                                    "1": "Posta",
                                    "2": "155"
                                },
                                {
                                    "0": "roland1",
                                    "1": "Személyes átvétel",
                                    "2": "135"
                                },
                                {
                                    "0": "roland1",
                                    "1": "NULL",
                                    "2": "432"
                                },
                                {
                                    "0": "roza2",
                                    "1": "GLS",
                                    "2": "3"
                                },
                                {
                                    "0": "roza2",
                                    "1": "Posta",
                                    "2": "2"
                                },
                                {
                                    "0": "roza2",
                                    "1": "Személyes átvétel",
                                    "2": "3"
                                },
                                {
                                    "0": "roza2",
                                    "1": "NULL",
                                    "2": "8"
                                },
                                {
                                    "0": "sandor",
                                    "1": "GLS",
                                    "2": "4"
                                },
                                {
                                    "0": "sandor",
                                    "1": "Posta",
                                    "2": "6"
                                },
                                {
                                    "0": "sandor",
                                    "1": "Személyes átvétel",
                                    "2": "7"
                                },
                                {
                                    "0": "sandor",
                                    "1": "NULL",
                                    "2": "17"
                                },
                                {
                                    "0": "sandor3",
                                    "1": "GLS",
                                    "2": "4"
                                },
                                {
                                    "0": "sandor3",
                                    "1": "Posta",
                                    "2": "4"
                                },
                                {
                                    "0": "sandor3",
                                    "1": "Személyes átvétel",
                                    "2": "6"
                                },
                                {
                                    "0": "sandor3",
                                    "1": "NULL",
                                    "2": "14"
                                },
                                {
                                    "0": "sandor4",
                                    "1": "GLS",
                                    "2": "4"
                                },
                                {
                                    "0": "sandor4",
                                    "1": "Posta",
                                    "2": "2"
                                },
                                {
                                    "0": "sandor4",
                                    "1": "Személyes átvétel",
                                    "2": "5"
                                },
                                {
                                    "0": "sandor4",
                                    "1": "NULL",
                                    "2": "11"
                                },
                                {
                                    "0": "sara",
                                    "1": "GLS",
                                    "2": "4"
                                },
                                {
                                    "0": "sara",
                                    "1": "Posta",
                                    "2": "7"
                                },
                                {
                                    "0": "sara",
                                    "1": "Személyes átvétel",
                                    "2": "9"
                                },
                                {
                                    "0": "sara",
                                    "1": "NULL",
                                    "2": "20"
                                },
                                {
                                    "0": "SEBASTIANF",
                                    "1": "GLS",
                                    "2": "6"
                                },
                                {
                                    "0": "SEBASTIANF",
                                    "1": "Posta",
                                    "2": "3"
                                },
                                {
                                    "0": "SEBASTIANF",
                                    "1": "Személyes átvétel",
                                    "2": "6"
                                },
                                {
                                    "0": "SEBASTIANF",
                                    "1": "NULL",
                                    "2": "15"
                                },
                                {
                                    "0": "sebestyen",
                                    "1": "GLS",
                                    "2": "4"
                                },
                                {
                                    "0": "sebestyen",
                                    "1": "Posta",
                                    "2": "6"
                                },
                                {
                                    "0": "sebestyen",
                                    "1": "Személyes átvétel",
                                    "2": "6"
                                },
                                {
                                    "0": "sebestyen",
                                    "1": "NULL",
                                    "2": "16"
                                },
                                {
                                    "0": "szabolcs",
                                    "1": "GLS",
                                    "2": "145"
                                },
                                {
                                    "0": "szabolcs",
                                    "1": "Posta",
                                    "2": "157"
                                },
                                {
                                    "0": "szabolcs",
                                    "1": "Személyes átvétel",
                                    "2": "169"
                                },
                                {
                                    "0": "szabolcs",
                                    "1": "NULL",
                                    "2": "471"
                                },
                                {
                                    "0": "SZABOLCSM",
                                    "1": "GLS",
                                    "2": "126"
                                },
                                {
                                    "0": "SZABOLCSM",
                                    "1": "Posta",
                                    "2": "153"
                                },
                                {
                                    "0": "SZABOLCSM",
                                    "1": "Személyes átvétel",
                                    "2": "129"
                                },
                                {
                                    "0": "SZABOLCSM",
                                    "1": "NULL",
                                    "2": "408"
                                },
                                {
                                    "0": "SZILARDS",
                                    "1": "GLS",
                                    "2": "144"
                                },
                                {
                                    "0": "SZILARDS",
                                    "1": "Posta",
                                    "2": "131"
                                },
                                {
                                    "0": "SZILARDS",
                                    "1": "Személyes átvétel",
                                    "2": "111"
                                },
                                {
                                    "0": "SZILARDS",
                                    "1": "NULL",
                                    "2": "386"
                                },
                                {
                                    "0": "szilvia1",
                                    "1": "GLS",
                                    "2": "156"
                                },
                                {
                                    "0": "szilvia1",
                                    "1": "Posta",
                                    "2": "151"
                                },
                                {
                                    "0": "szilvia1",
                                    "1": "Személyes átvétel",
                                    "2": "138"
                                },
                                {
                                    "0": "szilvia1",
                                    "1": "NULL",
                                    "2": "445"
                                },
                                {
                                    "0": "tamara2",
                                    "1": "GLS",
                                    "2": "6"
                                },
                                {
                                    "0": "tamara2",
                                    "1": "Posta",
                                    "2": "4"
                                },
                                {
                                    "0": "tamara2",
                                    "1": "Személyes átvétel",
                                    "2": "3"
                                },
                                {
                                    "0": "tamara2",
                                    "1": "NULL",
                                    "2": "13"
                                },
                                {
                                    "0": "tamas",
                                    "1": "GLS",
                                    "2": "143"
                                },
                                {
                                    "0": "tamas",
                                    "1": "Posta",
                                    "2": "156"
                                },
                                {
                                    "0": "tamas",
                                    "1": "Személyes átvétel",
                                    "2": "122"
                                },
                                {
                                    "0": "tamas",
                                    "1": "NULL",
                                    "2": "421"
                                },
                                {
                                    "0": "TAMASF",
                                    "1": "GLS",
                                    "2": "159"
                                },
                                {
                                    "0": "TAMASF",
                                    "1": "Posta",
                                    "2": "145"
                                },
                                {
                                    "0": "TAMASF",
                                    "1": "Személyes átvétel",
                                    "2": "129"
                                },
                                {
                                    "0": "TAMASF",
                                    "1": "NULL",
                                    "2": "433"
                                },
                                {
                                    "0": "tibor",
                                    "1": "GLS",
                                    "2": "115"
                                },
                                {
                                    "0": "tibor",
                                    "1": "Posta",
                                    "2": "129"
                                },
                                {
                                    "0": "tibor",
                                    "1": "Személyes átvétel",
                                    "2": "130"
                                },
                                {
                                    "0": "tibor",
                                    "1": "NULL",
                                    "2": "374"
                                },
                                {
                                    "0": "tibor2",
                                    "1": "GLS",
                                    "2": "7"
                                },
                                {
                                    "0": "tibor2",
                                    "1": "Posta",
                                    "2": "7"
                                },
                                {
                                    "0": "tibor2",
                                    "1": "Személyes átvétel",
                                    "2": "11"
                                },
                                {
                                    "0": "tibor2",
                                    "1": "NULL",
                                    "2": "25"
                                },
                                {
                                    "0": "tihamer",
                                    "1": "GLS",
                                    "2": "9"
                                },
                                {
                                    "0": "tihamer",
                                    "1": "Posta",
                                    "2": "6"
                                },
                                {
                                    "0": "tihamer",
                                    "1": "Személyes átvétel",
                                    "2": "5"
                                },
                                {
                                    "0": "tihamer",
                                    "1": "NULL",
                                    "2": "20"
                                },
                                {
                                    "0": "timea",
                                    "1": "GLS",
                                    "2": "14"
                                },
                                {
                                    "0": "timea",
                                    "1": "Posta",
                                    "2": "23"
                                },
                                {
                                    "0": "timea",
                                    "1": "Személyes átvétel",
                                    "2": "18"
                                },
                                {
                                    "0": "timea",
                                    "1": "NULL",
                                    "2": "55"
                                },
                                {
                                    "0": "timea2",
                                    "1": "GLS",
                                    "2": "1"
                                },
                                {
                                    "0": "timea2",
                                    "1": "Posta",
                                    "2": "5"
                                },
                                {
                                    "0": "timea2",
                                    "1": "Személyes átvétel",
                                    "2": "10"
                                },
                                {
                                    "0": "timea2",
                                    "1": "NULL",
                                    "2": "16"
                                },
                                {
                                    "0": "tunde",
                                    "1": "GLS",
                                    "2": "6"
                                },
                                {
                                    "0": "tunde",
                                    "1": "Posta",
                                    "2": "6"
                                },
                                {
                                    "0": "tunde",
                                    "1": "Személyes átvétel",
                                    "2": "4"
                                },
                                {
                                    "0": "tunde",
                                    "1": "NULL",
                                    "2": "16"
                                },
                                {
                                    "0": "valentin",
                                    "1": "GLS",
                                    "2": "5"
                                },
                                {
                                    "0": "valentin",
                                    "1": "Posta",
                                    "2": "5"
                                },
                                {
                                    "0": "valentin",
                                    "1": "Személyes átvétel",
                                    "2": "3"
                                },
                                {
                                    "0": "valentin",
                                    "1": "NULL",
                                    "2": "13"
                                },
                                {
                                    "0": "veronika4",
                                    "1": "GLS",
                                    "2": "5"
                                },
                                {
                                    "0": "veronika4",
                                    "1": "Posta",
                                    "2": "6"
                                },
                                {
                                    "0": "veronika4",
                                    "1": "Személyes átvétel",
                                    "2": "7"
                                },
                                {
                                    "0": "veronika4",
                                    "1": "NULL",
                                    "2": "18"
                                },
                                {
                                    "0": "VIKTORIAU",
                                    "1": "GLS",
                                    "2": "5"
                                },
                                {
                                    "0": "VIKTORIAU",
                                    "1": "Posta",
                                    "2": "4"
                                },
                                {
                                    "0": "VIKTORIAU",
                                    "1": "Személyes átvétel",
                                    "2": "5"
                                },
                                {
                                    "0": "VIKTORIAU",
                                    "1": "NULL",
                                    "2": "14"
                                },
                                {
                                    "0": "VIKTORK",
                                    "1": "GLS",
                                    "2": "8"
                                },
                                {
                                    "0": "VIKTORK",
                                    "1": "Posta",
                                    "2": "6"
                                },
                                {
                                    "0": "VIKTORK",
                                    "1": "Személyes átvétel",
                                    "2": "6"
                                },
                                {
                                    "0": "VIKTORK",
                                    "1": "NULL",
                                    "2": "20"
                                },
                                {
                                    "0": "vivien3",
                                    "1": "GLS",
                                    "2": "9"
                                },
                                {
                                    "0": "vivien3",
                                    "1": "Posta",
                                    "2": "6"
                                },
                                {
                                    "0": "vivien3",
                                    "1": "Személyes átvétel",
                                    "2": "7"
                                },
                                {
                                    "0": "vivien3",
                                    "1": "NULL",
                                    "2": "22"
                                },
                                {
                                    "0": "zoltan",
                                    "1": "GLS",
                                    "2": "5"
                                },
                                {
                                    "0": "zoltan",
                                    "1": "Posta",
                                    "2": "3"
                                },
                                {
                                    "0": "zoltan",
                                    "1": "Személyes átvétel",
                                    "2": "7"
                                },
                                {
                                    "0": "zoltan",
                                    "1": "NULL",
                                    "2": "15"
                                },
                                {
                                    "0": "zoltan4",
                                    "1": "GLS",
                                    "2": "129"
                                },
                                {
                                    "0": "zoltan4",
                                    "1": "Posta",
                                    "2": "124"
                                },
                                {
                                    "0": "zoltan4",
                                    "1": "Személyes átvétel",
                                    "2": "171"
                                },
                                {
                                    "0": "zoltan4",
                                    "1": "NULL",
                                    "2": "424"
                                },
                                {
                                    "0": "ZOLTANP",
                                    "1": "GLS",
                                    "2": "6"
                                },
                                {
                                    "0": "ZOLTANP",
                                    "1": "Posta",
                                    "2": "3"
                                },
                                {
                                    "0": "ZOLTANP",
                                    "1": "Személyes átvétel",
                                    "2": "4"
                                },
                                {
                                    "0": "ZOLTANP",
                                    "1": "NULL",
                                    "2": "13"
                                },
                                {
                                    "0": "ZOLTANT",
                                    "1": "GLS",
                                    "2": "127"
                                },
                                {
                                    "0": "ZOLTANT",
                                    "1": "Posta",
                                    "2": "107"
                                },
                                {
                                    "0": "ZOLTANT",
                                    "1": "Személyes átvétel",
                                    "2": "123"
                                },
                                {
                                    "0": "ZOLTANT",
                                    "1": "NULL",
                                    "2": "357"
                                },
                                {
                                    "0": "zsofi1",
                                    "1": "GLS",
                                    "2": "7"
                                },
                                {
                                    "0": "zsofi1",
                                    "1": "Posta",
                                    "2": "6"
                                },
                                {
                                    "0": "zsofi1",
                                    "1": "Személyes átvétel",
                                    "2": "6"
                                },
                                {
                                    "0": "zsofi1",
                                    "1": "NULL",
                                    "2": "19"
                                },
                                {
                                    "0": "zsolt1",
                                    "1": "GLS",
                                    "2": "11"
                                },
                                {
                                    "0": "zsolt1",
                                    "1": "Posta",
                                    "2": "6"
                                },
                                {
                                    "0": "zsolt1",
                                    "1": "Személyes átvétel",
                                    "2": "3"
                                },
                                {
                                    "0": "zsolt1",
                                    "1": "NULL",
                                    "2": "20"
                                },
                                {
                                    "0": "ZSOLTJ",
                                    "1": "GLS",
                                    "2": "1"
                                },
                                {
                                    "0": "ZSOLTJ",
                                    "1": "Posta",
                                    "2": "8"
                                },
                                {
                                    "0": "ZSOLTJ",
                                    "1": "Személyes átvétel",
                                    "2": "9"
                                },
                                {
                                    "0": "ZSOLTJ",
                                    "1": "NULL",
                                    "2": "18"
                                },
                                {
                                    "0": "zsuzsa",
                                    "1": "GLS",
                                    "2": "8"
                                },
                                {
                                    "0": "zsuzsa",
                                    "1": "Posta",
                                    "2": "5"
                                },
                                {
                                    "0": "zsuzsa",
                                    "1": "Személyes átvétel",
                                    "2": "3"
                                },
                                {
                                    "0": "zsuzsa",
                                    "1": "NULL",
                                    "2": "16"
                                },
                                {
                                    "0": "zsuzsa3",
                                    "1": "GLS",
                                    "2": "5"
                                },
                                {
                                    "0": "zsuzsa3",
                                    "1": "Posta",
                                    "2": "5"
                                },
                                {
                                    "0": "zsuzsa3",
                                    "1": "Személyes átvétel",
                                    "2": "6"
                                },
                                {
                                    "0": "zsuzsa3",
                                    "1": "NULL",
                                    "2": "16"
                                },
                                {
                                    "0": "zsuzsanna",
                                    "1": "GLS",
                                    "2": "7"
                                },
                                {
                                    "0": "zsuzsanna",
                                    "1": "Posta",
                                    "2": "5"
                                },
                                {
                                    "0": "zsuzsanna",
                                    "1": "Személyes átvétel",
                                    "2": "3"
                                },
                                {
                                    "0": "zsuzsanna",
                                    "1": "NULL",
                                    "2": "15"
                                },
                                {
                                    "0": "ZSUZSAV",
                                    "1": "GLS",
                                    "2": "139"
                                },
                                {
                                    "0": "ZSUZSAV",
                                    "1": "Posta",
                                    "2": "139"
                                },
                                {
                                    "0": "ZSUZSAV",
                                    "1": "Személyes átvétel",
                                    "2": "142"
                                },
                                {
                                    "0": "ZSUZSAV",
                                    "1": "NULL",
                                    "2": "420"
                                },
                                {
                                    "0": "NULL",
                                    "1": "NULL",
                                    "2": "28085"
                                }
                            ]
                        },
                        "text/html": "<table><tr><th>login</th><th>szall_mod</th><th>(No column name)</th></tr><tr><td>adam1</td><td>GLS</td><td>129</td></tr><tr><td>adam1</td><td>Posta</td><td>132</td></tr><tr><td>adam1</td><td>Személyes átvétel</td><td>131</td></tr><tr><td>adam1</td><td>NULL</td><td>392</td></tr><tr><td>adam3</td><td>GLS</td><td>10</td></tr><tr><td>adam3</td><td>Posta</td><td>3</td></tr><tr><td>adam3</td><td>Személyes átvétel</td><td>2</td></tr><tr><td>adam3</td><td>NULL</td><td>15</td></tr><tr><td>adam4</td><td>GLS</td><td>12</td></tr><tr><td>adam4</td><td>Posta</td><td>6</td></tr><tr><td>adam4</td><td>Személyes átvétel</td><td>11</td></tr><tr><td>adam4</td><td>NULL</td><td>29</td></tr><tr><td>agnes</td><td>GLS</td><td>144</td></tr><tr><td>agnes</td><td>Posta</td><td>130</td></tr><tr><td>agnes</td><td>Személyes átvétel</td><td>144</td></tr><tr><td>agnes</td><td>NULL</td><td>418</td></tr><tr><td>agnes3</td><td>GLS</td><td>148</td></tr><tr><td>agnes3</td><td>Posta</td><td>146</td></tr><tr><td>agnes3</td><td>Személyes átvétel</td><td>136</td></tr><tr><td>agnes3</td><td>NULL</td><td>430</td></tr><tr><td>AGNESH</td><td>GLS</td><td>2</td></tr><tr><td>AGNESH</td><td>Posta</td><td>3</td></tr><tr><td>AGNESH</td><td>Személyes átvétel</td><td>6</td></tr><tr><td>AGNESH</td><td>NULL</td><td>11</td></tr><tr><td>AGNESK</td><td>GLS</td><td>1</td></tr><tr><td>AGNESK</td><td>Posta</td><td>7</td></tr><tr><td>AGNESK</td><td>Személyes átvétel</td><td>7</td></tr><tr><td>AGNESK</td><td>NULL</td><td>15</td></tr><tr><td>akos</td><td>GLS</td><td>146</td></tr><tr><td>akos</td><td>Posta</td><td>143</td></tr><tr><td>akos</td><td>Személyes átvétel</td><td>140</td></tr><tr><td>akos</td><td>NULL</td><td>429</td></tr><tr><td>aladar</td><td>GLS</td><td>156</td></tr><tr><td>aladar</td><td>Posta</td><td>134</td></tr><tr><td>aladar</td><td>Személyes átvétel</td><td>118</td></tr><tr><td>aladar</td><td>NULL</td><td>408</td></tr><tr><td>alexandra</td><td>GLS</td><td>5</td></tr><tr><td>alexandra</td><td>Posta</td><td>9</td></tr><tr><td>alexandra</td><td>Személyes átvétel</td><td>5</td></tr><tr><td>alexandra</td><td>NULL</td><td>19</td></tr><tr><td>andi</td><td>GLS</td><td>7</td></tr><tr><td>andi</td><td>Posta</td><td>4</td></tr><tr><td>andi</td><td>Személyes átvétel</td><td>7</td></tr><tr><td>andi</td><td>NULL</td><td>18</td></tr><tr><td>andras2</td><td>GLS</td><td>4</td></tr><tr><td>andras2</td><td>Posta</td><td>7</td></tr><tr><td>andras2</td><td>Személyes átvétel</td><td>11</td></tr><tr><td>andras2</td><td>NULL</td><td>22</td></tr><tr><td>andras21</td><td>GLS</td><td>140</td></tr><tr><td>andras21</td><td>Posta</td><td>124</td></tr><tr><td>andras21</td><td>Személyes átvétel</td><td>126</td></tr><tr><td>andras21</td><td>NULL</td><td>390</td></tr><tr><td>andras3</td><td>GLS</td><td>3</td></tr><tr><td>andras3</td><td>Posta</td><td>1</td></tr><tr><td>andras3</td><td>Személyes átvétel</td><td>5</td></tr><tr><td>andras3</td><td>NULL</td><td>9</td></tr><tr><td>andras4</td><td>GLS</td><td>4</td></tr><tr><td>andras4</td><td>Posta</td><td>4</td></tr><tr><td>andras4</td><td>Személyes átvétel</td><td>4</td></tr><tr><td>andras4</td><td>NULL</td><td>12</td></tr><tr><td>andras41</td><td>GLS</td><td>149</td></tr><tr><td>andras41</td><td>Posta</td><td>137</td></tr><tr><td>andras41</td><td>Személyes átvétel</td><td>133</td></tr><tr><td>andras41</td><td>NULL</td><td>419</td></tr><tr><td>ANDRASE</td><td>GLS</td><td>159</td></tr><tr><td>ANDRASE</td><td>Posta</td><td>141</td></tr><tr><td>ANDRASE</td><td>Személyes átvétel</td><td>136</td></tr><tr><td>ANDRASE</td><td>NULL</td><td>436</td></tr><tr><td>ANDRASN</td><td>GLS</td><td>10</td></tr><tr><td>ANDRASN</td><td>Posta</td><td>9</td></tr><tr><td>ANDRASN</td><td>Személyes átvétel</td><td>5</td></tr><tr><td>ANDRASN</td><td>NULL</td><td>24</td></tr><tr><td>andrea</td><td>GLS</td><td>12</td></tr><tr><td>andrea</td><td>Posta</td><td>4</td></tr><tr><td>andrea</td><td>Személyes átvétel</td><td>8</td></tr><tr><td>andrea</td><td>NULL</td><td>24</td></tr><tr><td>andrea3</td><td>GLS</td><td>131</td></tr><tr><td>andrea3</td><td>Posta</td><td>136</td></tr><tr><td>andrea3</td><td>Személyes átvétel</td><td>146</td></tr><tr><td>andrea3</td><td>NULL</td><td>413</td></tr><tr><td>andrea4</td><td>GLS</td><td>7</td></tr><tr><td>andrea4</td><td>Posta</td><td>4</td></tr><tr><td>andrea4</td><td>Személyes átvétel</td><td>7</td></tr><tr><td>andrea4</td><td>NULL</td><td>18</td></tr><tr><td>ANDREAT</td><td>GLS</td><td>3</td></tr><tr><td>ANDREAT</td><td>Posta</td><td>6</td></tr><tr><td>ANDREAT</td><td>Személyes átvétel</td><td>12</td></tr><tr><td>ANDREAT</td><td>NULL</td><td>21</td></tr><tr><td>anett3</td><td>GLS</td><td>3</td></tr><tr><td>anett3</td><td>Posta</td><td>6</td></tr><tr><td>anett3</td><td>Személyes átvétel</td><td>9</td></tr><tr><td>anett3</td><td>NULL</td><td>18</td></tr><tr><td>aniko</td><td>GLS</td><td>128</td></tr><tr><td>aniko</td><td>Posta</td><td>137</td></tr><tr><td>aniko</td><td>Személyes átvétel</td><td>138</td></tr><tr><td>aniko</td><td>NULL</td><td>403</td></tr><tr><td>aniko4</td><td>GLS</td><td>6</td></tr><tr><td>aniko4</td><td>Posta</td><td>6</td></tr><tr><td>aniko4</td><td>Személyes átvétel</td><td>3</td></tr><tr><td>aniko4</td><td>NULL</td><td>15</td></tr><tr><td>ANIKOS</td><td>GLS</td><td>128</td></tr><tr><td>ANIKOS</td><td>Posta</td><td>126</td></tr><tr><td>ANIKOS</td><td>Személyes átvétel</td><td>150</td></tr><tr><td>ANIKOS</td><td>NULL</td><td>404</td></tr><tr><td>anita</td><td>GLS</td><td>5</td></tr><tr><td>anita</td><td>Posta</td><td>2</td></tr><tr><td>anita</td><td>Személyes átvétel</td><td>5</td></tr><tr><td>anita</td><td>NULL</td><td>12</td></tr><tr><td>annamaria1</td><td>GLS</td><td>5</td></tr><tr><td>annamaria1</td><td>Posta</td><td>4</td></tr><tr><td>annamaria1</td><td>Személyes átvétel</td><td>7</td></tr><tr><td>annamaria1</td><td>NULL</td><td>16</td></tr><tr><td>ANNAMARIAR</td><td>GLS</td><td>8</td></tr><tr><td>ANNAMARIAR</td><td>Posta</td><td>2</td></tr><tr><td>ANNAMARIAR</td><td>Személyes átvétel</td><td>3</td></tr><tr><td>ANNAMARIAR</td><td>NULL</td><td>13</td></tr><tr><td>aron2</td><td>GLS</td><td>132</td></tr><tr><td>aron2</td><td>Posta</td><td>133</td></tr><tr><td>aron2</td><td>Személyes átvétel</td><td>144</td></tr><tr><td>aron2</td><td>NULL</td><td>409</td></tr><tr><td>ARONK</td><td>GLS</td><td>155</td></tr><tr><td>ARONK</td><td>Posta</td><td>120</td></tr><tr><td>ARONK</td><td>Személyes átvétel</td><td>155</td></tr><tr><td>ARONK</td><td>NULL</td><td>430</td></tr><tr><td>arpad2</td><td>GLS</td><td>6</td></tr><tr><td>arpad2</td><td>Posta</td><td>1</td></tr><tr><td>arpad2</td><td>Személyes átvétel</td><td>10</td></tr><tr><td>arpad2</td><td>NULL</td><td>17</td></tr><tr><td>ARPADH</td><td>GLS</td><td>6</td></tr><tr><td>ARPADH</td><td>Posta</td><td>3</td></tr><tr><td>ARPADH</td><td>Személyes átvétel</td><td>5</td></tr><tr><td>ARPADH</td><td>NULL</td><td>14</td></tr><tr><td>ARPADM</td><td>GLS</td><td>6</td></tr><tr><td>ARPADM</td><td>Posta</td><td>3</td></tr><tr><td>ARPADM</td><td>Személyes átvétel</td><td>7</td></tr><tr><td>ARPADM</td><td>NULL</td><td>16</td></tr><tr><td>attila1</td><td>GLS</td><td>5</td></tr><tr><td>attila1</td><td>Posta</td><td>7</td></tr><tr><td>attila1</td><td>Személyes átvétel</td><td>6</td></tr><tr><td>attila1</td><td>NULL</td><td>18</td></tr><tr><td>attila4</td><td>GLS</td><td>135</td></tr><tr><td>attila4</td><td>Posta</td><td>125</td></tr><tr><td>attila4</td><td>Személyes átvétel</td><td>141</td></tr><tr><td>attila4</td><td>NULL</td><td>401</td></tr><tr><td>ATTILAO</td><td>GLS</td><td>4</td></tr><tr><td>ATTILAO</td><td>Posta</td><td>4</td></tr><tr><td>ATTILAO</td><td>Személyes átvétel</td><td>6</td></tr><tr><td>ATTILAO</td><td>NULL</td><td>14</td></tr><tr><td>balazs1</td><td>GLS</td><td>128</td></tr><tr><td>balazs1</td><td>Posta</td><td>136</td></tr><tr><td>balazs1</td><td>Személyes átvétel</td><td>155</td></tr><tr><td>balazs1</td><td>NULL</td><td>419</td></tr><tr><td>balazs2</td><td>GLS</td><td>5</td></tr><tr><td>balazs2</td><td>Posta</td><td>7</td></tr><tr><td>balazs2</td><td>Személyes átvétel</td><td>5</td></tr><tr><td>balazs2</td><td>NULL</td><td>17</td></tr><tr><td>balazs3</td><td>GLS</td><td>6</td></tr><tr><td>balazs3</td><td>Posta</td><td>6</td></tr><tr><td>balazs3</td><td>Személyes átvétel</td><td>3</td></tr><tr><td>balazs3</td><td>NULL</td><td>15</td></tr><tr><td>balint</td><td>GLS</td><td>10</td></tr><tr><td>balint</td><td>Posta</td><td>4</td></tr><tr><td>balint</td><td>Személyes átvétel</td><td>2</td></tr><tr><td>balint</td><td>NULL</td><td>16</td></tr><tr><td>balint1</td><td>GLS</td><td>158</td></tr><tr><td>balint1</td><td>Posta</td><td>152</td></tr><tr><td>balint1</td><td>Személyes átvétel</td><td>152</td></tr><tr><td>balint1</td><td>NULL</td><td>462</td></tr><tr><td>balint2</td><td>GLS</td><td>8</td></tr><tr><td>balint2</td><td>Posta</td><td>6</td></tr><tr><td>balint2</td><td>Személyes átvétel</td><td>3</td></tr><tr><td>balint2</td><td>NULL</td><td>17</td></tr><tr><td>balu</td><td>GLS</td><td>127</td></tr><tr><td>balu</td><td>Posta</td><td>137</td></tr><tr><td>balu</td><td>Személyes átvétel</td><td>123</td></tr><tr><td>balu</td><td>NULL</td><td>387</td></tr><tr><td>BEATRIXK</td><td>GLS</td><td>135</td></tr><tr><td>BEATRIXK</td><td>Posta</td><td>155</td></tr><tr><td>BEATRIXK</td><td>Személyes átvétel</td><td>145</td></tr><tr><td>BEATRIXK</td><td>NULL</td><td>435</td></tr><tr><td>BEATRIXS</td><td>GLS</td><td>146</td></tr><tr><td>BEATRIXS</td><td>Posta</td><td>141</td></tr><tr><td>BEATRIXS</td><td>Személyes átvétel</td><td>133</td></tr><tr><td>BEATRIXS</td><td>NULL</td><td>420</td></tr><tr><td>BELAF</td><td>GLS</td><td>11</td></tr><tr><td>BELAF</td><td>Posta</td><td>2</td></tr><tr><td>BELAF</td><td>Személyes átvétel</td><td>5</td></tr><tr><td>BELAF</td><td>NULL</td><td>18</td></tr><tr><td>bence</td><td>GLS</td><td>4</td></tr><tr><td>bence</td><td>Posta</td><td>6</td></tr><tr><td>bence</td><td>Személyes átvétel</td><td>8</td></tr><tr><td>bence</td><td>NULL</td><td>18</td></tr><tr><td>BENCEB</td><td>GLS</td><td>5</td></tr><tr><td>BENCEB</td><td>Posta</td><td>7</td></tr><tr><td>BENCEB</td><td>Személyes átvétel</td><td>5</td></tr><tr><td>BENCEB</td><td>NULL</td><td>17</td></tr><tr><td>bernadett1</td><td>GLS</td><td>10</td></tr><tr><td>bernadett1</td><td>Posta</td><td>5</td></tr><tr><td>bernadett1</td><td>Személyes átvétel</td><td>5</td></tr><tr><td>bernadett1</td><td>NULL</td><td>20</td></tr><tr><td>bernadett2</td><td>GLS</td><td>6</td></tr><tr><td>bernadett2</td><td>Posta</td><td>2</td></tr><tr><td>bernadett2</td><td>Személyes átvétel</td><td>7</td></tr><tr><td>bernadett2</td><td>NULL</td><td>15</td></tr><tr><td>BERNADETTO</td><td>GLS</td><td>7</td></tr><tr><td>BERNADETTO</td><td>Posta</td><td>2</td></tr><tr><td>BERNADETTO</td><td>Személyes átvétel</td><td>7</td></tr><tr><td>BERNADETTO</td><td>NULL</td><td>16</td></tr><tr><td>bertalan</td><td>GLS</td><td>128</td></tr><tr><td>bertalan</td><td>Posta</td><td>124</td></tr><tr><td>bertalan</td><td>Személyes átvétel</td><td>101</td></tr><tr><td>bertalan</td><td>NULL</td><td>353</td></tr><tr><td>brigitta</td><td>GLS</td><td>137</td></tr><tr><td>brigitta</td><td>Posta</td><td>137</td></tr><tr><td>brigitta</td><td>Személyes átvétel</td><td>119</td></tr><tr><td>brigitta</td><td>NULL</td><td>393</td></tr><tr><td>brigitta3</td><td>GLS</td><td>144</td></tr><tr><td>brigitta3</td><td>Posta</td><td>130</td></tr><tr><td>brigitta3</td><td>Személyes átvétel</td><td>139</td></tr><tr><td>brigitta3</td><td>NULL</td><td>413</td></tr><tr><td>csongor3</td><td>GLS</td><td>5</td></tr><tr><td>csongor3</td><td>Posta</td><td>2</td></tr><tr><td>csongor3</td><td>Személyes átvétel</td><td>8</td></tr><tr><td>csongor3</td><td>NULL</td><td>15</td></tr><tr><td>dani</td><td>GLS</td><td>5</td></tr><tr><td>dani</td><td>Személyes átvétel</td><td>8</td></tr><tr><td>dani</td><td>NULL</td><td>13</td></tr><tr><td>daniel</td><td>GLS</td><td>7</td></tr><tr><td>daniel</td><td>Posta</td><td>2</td></tr><tr><td>daniel</td><td>Személyes átvétel</td><td>4</td></tr><tr><td>daniel</td><td>NULL</td><td>13</td></tr><tr><td>daniel1</td><td>GLS</td><td>156</td></tr><tr><td>daniel1</td><td>Posta</td><td>131</td></tr><tr><td>daniel1</td><td>Személyes átvétel</td><td>132</td></tr><tr><td>daniel1</td><td>NULL</td><td>419</td></tr><tr><td>david</td><td>GLS</td><td>161</td></tr><tr><td>david</td><td>Posta</td><td>144</td></tr><tr><td>david</td><td>Személyes átvétel</td><td>146</td></tr><tr><td>david</td><td>NULL</td><td>451</td></tr><tr><td>david1</td><td>GLS</td><td>8</td></tr><tr><td>david1</td><td>Posta</td><td>1</td></tr><tr><td>david1</td><td>Személyes átvétel</td><td>8</td></tr><tr><td>david1</td><td>NULL</td><td>17</td></tr><tr><td>david4</td><td>GLS</td><td>3</td></tr><tr><td>david4</td><td>Posta</td><td>8</td></tr><tr><td>david4</td><td>Személyes átvétel</td><td>10</td></tr><tr><td>david4</td><td>NULL</td><td>21</td></tr><tr><td>debora</td><td>GLS</td><td>7</td></tr><tr><td>debora</td><td>Posta</td><td>6</td></tr><tr><td>debora</td><td>Személyes átvétel</td><td>3</td></tr><tr><td>debora</td><td>NULL</td><td>16</td></tr><tr><td>denes</td><td>GLS</td><td>3</td></tr><tr><td>denes</td><td>Posta</td><td>2</td></tr><tr><td>denes</td><td>Személyes átvétel</td><td>4</td></tr><tr><td>denes</td><td>NULL</td><td>9</td></tr><tr><td>dora3</td><td>GLS</td><td>144</td></tr><tr><td>dora3</td><td>Posta</td><td>124</td></tr><tr><td>dora3</td><td>Személyes átvétel</td><td>164</td></tr><tr><td>dora3</td><td>NULL</td><td>432</td></tr><tr><td>edit</td><td>GLS</td><td>7</td></tr><tr><td>edit</td><td>Posta</td><td>2</td></tr><tr><td>edit</td><td>Személyes átvétel</td><td>4</td></tr><tr><td>edit</td><td>NULL</td><td>13</td></tr><tr><td>emese</td><td>GLS</td><td>128</td></tr><tr><td>emese</td><td>Posta</td><td>136</td></tr><tr><td>emese</td><td>Személyes átvétel</td><td>142</td></tr><tr><td>emese</td><td>NULL</td><td>406</td></tr><tr><td>eszter2</td><td>GLS</td><td>127</td></tr><tr><td>eszter2</td><td>Posta</td><td>136</td></tr><tr><td>eszter2</td><td>Személyes átvétel</td><td>152</td></tr><tr><td>eszter2</td><td>NULL</td><td>415</td></tr><tr><td>eszter4</td><td>GLS</td><td>141</td></tr><tr><td>eszter4</td><td>Posta</td><td>134</td></tr><tr><td>eszter4</td><td>Személyes átvétel</td><td>149</td></tr><tr><td>eszter4</td><td>NULL</td><td>424</td></tr><tr><td>ESZTERE</td><td>GLS</td><td>6</td></tr><tr><td>ESZTERE</td><td>Posta</td><td>9</td></tr><tr><td>ESZTERE</td><td>Személyes átvétel</td><td>7</td></tr><tr><td>ESZTERE</td><td>NULL</td><td>22</td></tr><tr><td>eva</td><td>GLS</td><td>125</td></tr><tr><td>eva</td><td>Posta</td><td>140</td></tr><tr><td>eva</td><td>Személyes átvétel</td><td>139</td></tr><tr><td>eva</td><td>NULL</td><td>404</td></tr><tr><td>eva2</td><td>GLS</td><td>154</td></tr><tr><td>eva2</td><td>Posta</td><td>138</td></tr><tr><td>eva2</td><td>Személyes átvétel</td><td>170</td></tr><tr><td>eva2</td><td>NULL</td><td>462</td></tr><tr><td>EVAV</td><td>GLS</td><td>2</td></tr><tr><td>EVAV</td><td>Posta</td><td>1</td></tr><tr><td>EVAV</td><td>Személyes átvétel</td><td>4</td></tr><tr><td>EVAV</td><td>NULL</td><td>7</td></tr><tr><td>ferenc1</td><td>GLS</td><td>144</td></tr><tr><td>ferenc1</td><td>Posta</td><td>158</td></tr><tr><td>ferenc1</td><td>Személyes átvétel</td><td>135</td></tr><tr><td>ferenc1</td><td>NULL</td><td>437</td></tr><tr><td>fruzsina4</td><td>GLS</td><td>8</td></tr><tr><td>fruzsina4</td><td>Posta</td><td>3</td></tr><tr><td>fruzsina4</td><td>Személyes átvétel</td><td>7</td></tr><tr><td>fruzsina4</td><td>NULL</td><td>18</td></tr><tr><td>gabor1</td><td>GLS</td><td>9</td></tr><tr><td>gabor1</td><td>Posta</td><td>5</td></tr><tr><td>gabor1</td><td>Személyes átvétel</td><td>5</td></tr><tr><td>gabor1</td><td>NULL</td><td>19</td></tr><tr><td>gabor4</td><td>GLS</td><td>7</td></tr><tr><td>gabor4</td><td>Posta</td><td>9</td></tr><tr><td>gabor4</td><td>Személyes átvétel</td><td>4</td></tr><tr><td>gabor4</td><td>NULL</td><td>20</td></tr><tr><td>GABORS</td><td>GLS</td><td>5</td></tr><tr><td>GABORS</td><td>Posta</td><td>6</td></tr><tr><td>GABORS</td><td>Személyes átvétel</td><td>4</td></tr><tr><td>GABORS</td><td>NULL</td><td>15</td></tr><tr><td>gabriella1</td><td>GLS</td><td>5</td></tr><tr><td>gabriella1</td><td>Posta</td><td>4</td></tr><tr><td>gabriella1</td><td>Személyes átvétel</td><td>5</td></tr><tr><td>gabriella1</td><td>NULL</td><td>14</td></tr><tr><td>gabriella10</td><td>GLS</td><td>4</td></tr><tr><td>gabriella10</td><td>Posta</td><td>5</td></tr><tr><td>gabriella10</td><td>Személyes átvétel</td><td>7</td></tr><tr><td>gabriella10</td><td>NULL</td><td>16</td></tr><tr><td>georgij</td><td>GLS</td><td>9</td></tr><tr><td>georgij</td><td>Posta</td><td>2</td></tr><tr><td>georgij</td><td>Személyes átvétel</td><td>10</td></tr><tr><td>georgij</td><td>NULL</td><td>21</td></tr><tr><td>gusztav</td><td>GLS</td><td>5</td></tr><tr><td>gusztav</td><td>Posta</td><td>4</td></tr><tr><td>gusztav</td><td>Személyes átvétel</td><td>5</td></tr><tr><td>gusztav</td><td>NULL</td><td>14</td></tr><tr><td>GYONGYIK</td><td>GLS</td><td>6</td></tr><tr><td>GYONGYIK</td><td>Posta</td><td>6</td></tr><tr><td>GYONGYIK</td><td>Személyes átvétel</td><td>3</td></tr><tr><td>GYONGYIK</td><td>NULL</td><td>15</td></tr><tr><td>GYORGYO</td><td>GLS</td><td>7</td></tr><tr><td>GYORGYO</td><td>Posta</td><td>4</td></tr><tr><td>GYORGYO</td><td>Személyes átvétel</td><td>5</td></tr><tr><td>GYORGYO</td><td>NULL</td><td>16</td></tr><tr><td>henrik3</td><td>GLS</td><td>7</td></tr><tr><td>henrik3</td><td>Posta</td><td>4</td></tr><tr><td>henrik3</td><td>Személyes átvétel</td><td>5</td></tr><tr><td>henrik3</td><td>NULL</td><td>16</td></tr><tr><td>IBOLYAA</td><td>GLS</td><td>140</td></tr><tr><td>IBOLYAA</td><td>Posta</td><td>125</td></tr><tr><td>IBOLYAA</td><td>Személyes átvétel</td><td>157</td></tr><tr><td>IBOLYAA</td><td>NULL</td><td>422</td></tr><tr><td>ilona3</td><td>GLS</td><td>9</td></tr><tr><td>ilona3</td><td>Posta</td><td>2</td></tr><tr><td>ilona3</td><td>Személyes átvétel</td><td>7</td></tr><tr><td>ilona3</td><td>NULL</td><td>18</td></tr><tr><td>imre</td><td>GLS</td><td>5</td></tr><tr><td>imre</td><td>Posta</td><td>4</td></tr><tr><td>imre</td><td>Személyes átvétel</td><td>6</td></tr><tr><td>imre</td><td>NULL</td><td>15</td></tr><tr><td>imre1</td><td>GLS</td><td>8</td></tr><tr><td>imre1</td><td>Posta</td><td>4</td></tr><tr><td>imre1</td><td>Személyes átvétel</td><td>3</td></tr><tr><td>imre1</td><td>NULL</td><td>15</td></tr><tr><td>istvan</td><td>GLS</td><td>3</td></tr><tr><td>istvan</td><td>Posta</td><td>4</td></tr><tr><td>istvan</td><td>Személyes átvétel</td><td>4</td></tr><tr><td>istvan</td><td>NULL</td><td>11</td></tr><tr><td>istvan1</td><td>GLS</td><td>8</td></tr><tr><td>istvan1</td><td>Posta</td><td>4</td></tr><tr><td>istvan1</td><td>Személyes átvétel</td><td>7</td></tr><tr><td>istvan1</td><td>NULL</td><td>19</td></tr><tr><td>ISTVANV</td><td>GLS</td><td>4</td></tr><tr><td>ISTVANV</td><td>Posta</td><td>9</td></tr><tr><td>ISTVANV</td><td>Személyes átvétel</td><td>8</td></tr><tr><td>ISTVANV</td><td>NULL</td><td>21</td></tr><tr><td>janos3</td><td>GLS</td><td>5</td></tr><tr><td>janos3</td><td>Posta</td><td>2</td></tr><tr><td>janos3</td><td>Személyes átvétel</td><td>6</td></tr><tr><td>janos3</td><td>NULL</td><td>13</td></tr><tr><td>JANOSG</td><td>GLS</td><td>3</td></tr><tr><td>JANOSG</td><td>Posta</td><td>3</td></tr><tr><td>JANOSG</td><td>Személyes átvétel</td><td>4</td></tr><tr><td>JANOSG</td><td>NULL</td><td>10</td></tr><tr><td>JANOSP</td><td>GLS</td><td>7</td></tr><tr><td>JANOSP</td><td>Posta</td><td>7</td></tr><tr><td>JANOSP</td><td>Személyes átvétel</td><td>3</td></tr><tr><td>JANOSP</td><td>NULL</td><td>17</td></tr><tr><td>jozsef</td><td>GLS</td><td>116</td></tr><tr><td>jozsef</td><td>Posta</td><td>132</td></tr><tr><td>jozsef</td><td>Személyes átvétel</td><td>134</td></tr><tr><td>jozsef</td><td>NULL</td><td>382</td></tr><tr><td>jozsef2</td><td>GLS</td><td>7</td></tr><tr><td>jozsef2</td><td>Posta</td><td>2</td></tr><tr><td>jozsef2</td><td>Személyes átvétel</td><td>4</td></tr><tr><td>jozsef2</td><td>NULL</td><td>13</td></tr><tr><td>JOZSEFG</td><td>GLS</td><td>11</td></tr><tr><td>JOZSEFG</td><td>Posta</td><td>1</td></tr><tr><td>JOZSEFG</td><td>Személyes átvétel</td><td>9</td></tr><tr><td>JOZSEFG</td><td>NULL</td><td>21</td></tr><tr><td>JUDITH</td><td>GLS</td><td>170</td></tr><tr><td>JUDITH</td><td>Posta</td><td>130</td></tr><tr><td>JUDITH</td><td>Személyes átvétel</td><td>150</td></tr><tr><td>JUDITH</td><td>NULL</td><td>450</td></tr><tr><td>julia</td><td>GLS</td><td>137</td></tr><tr><td>julia</td><td>Posta</td><td>160</td></tr><tr><td>julia</td><td>Személyes átvétel</td><td>138</td></tr><tr><td>julia</td><td>NULL</td><td>435</td></tr><tr><td>julia4</td><td>GLS</td><td>2</td></tr><tr><td>julia4</td><td>Posta</td><td>4</td></tr><tr><td>julia4</td><td>Személyes átvétel</td><td>8</td></tr><tr><td>julia4</td><td>NULL</td><td>14</td></tr><tr><td>julianna4</td><td>GLS</td><td>8</td></tr><tr><td>julianna4</td><td>Posta</td><td>12</td></tr><tr><td>julianna4</td><td>Személyes átvétel</td><td>7</td></tr><tr><td>julianna4</td><td>NULL</td><td>27</td></tr><tr><td>kata</td><td>GLS</td><td>5</td></tr><tr><td>kata</td><td>Posta</td><td>4</td></tr><tr><td>kata</td><td>Személyes átvétel</td><td>3</td></tr><tr><td>kata</td><td>NULL</td><td>12</td></tr><tr><td>katalin</td><td>GLS</td><td>7</td></tr><tr><td>katalin</td><td>Posta</td><td>7</td></tr><tr><td>katalin</td><td>Személyes átvétel</td><td>5</td></tr><tr><td>katalin</td><td>NULL</td><td>19</td></tr><tr><td>katalin4</td><td>GLS</td><td>7</td></tr><tr><td>katalin4</td><td>Posta</td><td>5</td></tr><tr><td>katalin4</td><td>Személyes átvétel</td><td>11</td></tr><tr><td>katalin4</td><td>NULL</td><td>23</td></tr><tr><td>kati</td><td>GLS</td><td>4</td></tr><tr><td>kati</td><td>Posta</td><td>5</td></tr><tr><td>kati</td><td>Személyes átvétel</td><td>4</td></tr><tr><td>kati</td><td>NULL</td><td>13</td></tr><tr><td>katka</td><td>GLS</td><td>6</td></tr><tr><td>katka</td><td>Posta</td><td>6</td></tr><tr><td>katka</td><td>Személyes átvétel</td><td>10</td></tr><tr><td>katka</td><td>NULL</td><td>22</td></tr><tr><td>klaudia2</td><td>GLS</td><td>3</td></tr><tr><td>klaudia2</td><td>Posta</td><td>9</td></tr><tr><td>klaudia2</td><td>Személyes átvétel</td><td>5</td></tr><tr><td>klaudia2</td><td>NULL</td><td>17</td></tr><tr><td>kornel4</td><td>GLS</td><td>3</td></tr><tr><td>kornel4</td><td>Posta</td><td>1</td></tr><tr><td>kornel4</td><td>Személyes átvétel</td><td>7</td></tr><tr><td>kornel4</td><td>NULL</td><td>11</td></tr><tr><td>kristof4</td><td>GLS</td><td>9</td></tr><tr><td>kristof4</td><td>Posta</td><td>4</td></tr><tr><td>kristof4</td><td>Személyes átvétel</td><td>8</td></tr><tr><td>kristof4</td><td>NULL</td><td>21</td></tr><tr><td>kriszti</td><td>GLS</td><td>3</td></tr><tr><td>kriszti</td><td>Posta</td><td>5</td></tr><tr><td>kriszti</td><td>Személyes átvétel</td><td>5</td></tr><tr><td>kriszti</td><td>NULL</td><td>13</td></tr><tr><td>krisztian4</td><td>GLS</td><td>5</td></tr><tr><td>krisztian4</td><td>Posta</td><td>6</td></tr><tr><td>krisztian4</td><td>Személyes átvétel</td><td>6</td></tr><tr><td>krisztian4</td><td>NULL</td><td>17</td></tr><tr><td>KRISZTIANM</td><td>GLS</td><td>118</td></tr><tr><td>KRISZTIANM</td><td>Posta</td><td>136</td></tr><tr><td>KRISZTIANM</td><td>Személyes átvétel</td><td>130</td></tr><tr><td>KRISZTIANM</td><td>NULL</td><td>384</td></tr><tr><td>krisztina</td><td>GLS</td><td>149</td></tr><tr><td>krisztina</td><td>Posta</td><td>150</td></tr><tr><td>krisztina</td><td>Személyes átvétel</td><td>157</td></tr><tr><td>krisztina</td><td>NULL</td><td>456</td></tr><tr><td>krisztina1</td><td>GLS</td><td>10</td></tr><tr><td>krisztina1</td><td>Posta</td><td>4</td></tr><tr><td>krisztina1</td><td>Személyes átvétel</td><td>8</td></tr><tr><td>krisztina1</td><td>NULL</td><td>22</td></tr><tr><td>KRISZTINAG</td><td>GLS</td><td>6</td></tr><tr><td>KRISZTINAG</td><td>Posta</td><td>6</td></tr><tr><td>KRISZTINAG</td><td>Személyes átvétel</td><td>10</td></tr><tr><td>KRISZTINAG</td><td>NULL</td><td>22</td></tr><tr><td>lajos</td><td>GLS</td><td>5</td></tr><tr><td>lajos</td><td>Posta</td><td>2</td></tr><tr><td>lajos</td><td>Személyes átvétel</td><td>9</td></tr><tr><td>lajos</td><td>NULL</td><td>16</td></tr><tr><td>lala</td><td>GLS</td><td>5</td></tr><tr><td>lala</td><td>Posta</td><td>3</td></tr><tr><td>lala</td><td>Személyes átvétel</td><td>9</td></tr><tr><td>lala</td><td>NULL</td><td>17</td></tr><tr><td>laszlo1</td><td>GLS</td><td>130</td></tr><tr><td>laszlo1</td><td>Posta</td><td>129</td></tr><tr><td>laszlo1</td><td>Személyes átvétel</td><td>135</td></tr><tr><td>laszlo1</td><td>NULL</td><td>394</td></tr><tr><td>laszlo2</td><td>GLS</td><td>12</td></tr><tr><td>laszlo2</td><td>Posta</td><td>6</td></tr><tr><td>laszlo2</td><td>Személyes átvétel</td><td>7</td></tr><tr><td>laszlo2</td><td>NULL</td><td>25</td></tr><tr><td>LASZLOA</td><td>GLS</td><td>156</td></tr><tr><td>LASZLOA</td><td>Posta</td><td>136</td></tr><tr><td>LASZLOA</td><td>Személyes átvétel</td><td>154</td></tr><tr><td>LASZLOA</td><td>NULL</td><td>446</td></tr><tr><td>LASZLON</td><td>GLS</td><td>126</td></tr><tr><td>LASZLON</td><td>Posta</td><td>131</td></tr><tr><td>LASZLON</td><td>Személyes átvétel</td><td>143</td></tr><tr><td>LASZLON</td><td>NULL</td><td>400</td></tr><tr><td>maria1</td><td>GLS</td><td>4</td></tr><tr><td>maria1</td><td>Posta</td><td>5</td></tr><tr><td>maria1</td><td>Személyes átvétel</td><td>1</td></tr><tr><td>maria1</td><td>NULL</td><td>10</td></tr><tr><td>MARKH</td><td>GLS</td><td>128</td></tr><tr><td>MARKH</td><td>Posta</td><td>142</td></tr><tr><td>MARKH</td><td>Személyes átvétel</td><td>142</td></tr><tr><td>MARKH</td><td>NULL</td><td>412</td></tr><tr><td>marton</td><td>GLS</td><td>5</td></tr><tr><td>marton</td><td>Posta</td><td>4</td></tr><tr><td>marton</td><td>Személyes átvétel</td><td>5</td></tr><tr><td>marton</td><td>NULL</td><td>14</td></tr><tr><td>MATEK</td><td>GLS</td><td>6</td></tr><tr><td>MATEK</td><td>Posta</td><td>10</td></tr><tr><td>MATEK</td><td>Személyes átvétel</td><td>9</td></tr><tr><td>MATEK</td><td>NULL</td><td>25</td></tr><tr><td>matyas2</td><td>GLS</td><td>138</td></tr><tr><td>matyas2</td><td>Posta</td><td>131</td></tr><tr><td>matyas2</td><td>Személyes átvétel</td><td>164</td></tr><tr><td>matyas2</td><td>NULL</td><td>433</td></tr><tr><td>MATYASS</td><td>GLS</td><td>4</td></tr><tr><td>MATYASS</td><td>Posta</td><td>5</td></tr><tr><td>MATYASS</td><td>Személyes átvétel</td><td>3</td></tr><tr><td>MATYASS</td><td>NULL</td><td>12</td></tr><tr><td>MIHALYJ</td><td>GLS</td><td>3</td></tr><tr><td>MIHALYJ</td><td>Posta</td><td>4</td></tr><tr><td>MIHALYJ</td><td>Személyes átvétel</td><td>6</td></tr><tr><td>MIHALYJ</td><td>NULL</td><td>13</td></tr><tr><td>miklos2</td><td>GLS</td><td>7</td></tr><tr><td>miklos2</td><td>Posta</td><td>4</td></tr><tr><td>miklos2</td><td>Személyes átvétel</td><td>2</td></tr><tr><td>miklos2</td><td>NULL</td><td>13</td></tr><tr><td>MIKLOSB</td><td>GLS</td><td>6</td></tr><tr><td>MIKLOSB</td><td>Posta</td><td>1</td></tr><tr><td>MIKLOSB</td><td>Személyes átvétel</td><td>8</td></tr><tr><td>MIKLOSB</td><td>NULL</td><td>15</td></tr><tr><td>MONIKAM</td><td>GLS</td><td>133</td></tr><tr><td>MONIKAM</td><td>Posta</td><td>151</td></tr><tr><td>MONIKAM</td><td>Személyes átvétel</td><td>123</td></tr><tr><td>MONIKAM</td><td>NULL</td><td>407</td></tr><tr><td>NANDORF</td><td>GLS</td><td>147</td></tr><tr><td>NANDORF</td><td>Posta</td><td>139</td></tr><tr><td>NANDORF</td><td>Személyes átvétel</td><td>134</td></tr><tr><td>NANDORF</td><td>NULL</td><td>420</td></tr><tr><td>nikolett3</td><td>GLS</td><td>4</td></tr><tr><td>nikolett3</td><td>Posta</td><td>3</td></tr><tr><td>nikolett3</td><td>Személyes átvétel</td><td>10</td></tr><tr><td>nikolett3</td><td>NULL</td><td>17</td></tr><tr><td>nikoletta4</td><td>GLS</td><td>137</td></tr><tr><td>nikoletta4</td><td>Posta</td><td>158</td></tr><tr><td>nikoletta4</td><td>Személyes átvétel</td><td>119</td></tr><tr><td>nikoletta4</td><td>NULL</td><td>414</td></tr><tr><td>NIKOLETTAT</td><td>GLS</td><td>13</td></tr><tr><td>NIKOLETTAT</td><td>Posta</td><td>7</td></tr><tr><td>NIKOLETTAT</td><td>Személyes átvétel</td><td>5</td></tr><tr><td>NIKOLETTAT</td><td>NULL</td><td>25</td></tr><tr><td>norbert2</td><td>GLS</td><td>7</td></tr><tr><td>norbert2</td><td>Posta</td><td>4</td></tr><tr><td>norbert2</td><td>NULL</td><td>11</td></tr><tr><td>norbert4</td><td>GLS</td><td>1</td></tr><tr><td>norbert4</td><td>Posta</td><td>3</td></tr><tr><td>norbert4</td><td>Személyes átvétel</td><td>9</td></tr><tr><td>norbert4</td><td>NULL</td><td>13</td></tr><tr><td>norbert5</td><td>GLS</td><td>1</td></tr><tr><td>norbert5</td><td>Posta</td><td>6</td></tr><tr><td>norbert5</td><td>Személyes átvétel</td><td>9</td></tr><tr><td>norbert5</td><td>NULL</td><td>16</td></tr><tr><td>pal</td><td>GLS</td><td>152</td></tr><tr><td>pal</td><td>Posta</td><td>132</td></tr><tr><td>pal</td><td>Személyes átvétel</td><td>154</td></tr><tr><td>pal</td><td>NULL</td><td>438</td></tr><tr><td>peter1</td><td>GLS</td><td>151</td></tr><tr><td>peter1</td><td>Posta</td><td>135</td></tr><tr><td>peter1</td><td>Személyes átvétel</td><td>126</td></tr><tr><td>peter1</td><td>NULL</td><td>412</td></tr><tr><td>peter2</td><td>GLS</td><td>7</td></tr><tr><td>peter2</td><td>Posta</td><td>4</td></tr><tr><td>peter2</td><td>Személyes átvétel</td><td>7</td></tr><tr><td>peter2</td><td>NULL</td><td>18</td></tr><tr><td>peter3</td><td>GLS</td><td>8</td></tr><tr><td>peter3</td><td>Posta</td><td>7</td></tr><tr><td>peter3</td><td>Személyes átvétel</td><td>10</td></tr><tr><td>peter3</td><td>NULL</td><td>25</td></tr><tr><td>peter4</td><td>GLS</td><td>266</td></tr><tr><td>peter4</td><td>Posta</td><td>293</td></tr><tr><td>peter4</td><td>Személyes átvétel</td><td>293</td></tr><tr><td>peter4</td><td>NULL</td><td>852</td></tr><tr><td>PETERB</td><td>GLS</td><td>2</td></tr><tr><td>PETERB</td><td>Posta</td><td>4</td></tr><tr><td>PETERB</td><td>Személyes átvétel</td><td>9</td></tr><tr><td>PETERB</td><td>NULL</td><td>15</td></tr><tr><td>polla</td><td>GLS</td><td>9</td></tr><tr><td>polla</td><td>Posta</td><td>6</td></tr><tr><td>polla</td><td>Személyes átvétel</td><td>7</td></tr><tr><td>polla</td><td>NULL</td><td>22</td></tr><tr><td>rajmond4</td><td>GLS</td><td>6</td></tr><tr><td>rajmond4</td><td>Posta</td><td>5</td></tr><tr><td>rajmond4</td><td>Személyes átvétel</td><td>6</td></tr><tr><td>rajmond4</td><td>NULL</td><td>17</td></tr><tr><td>reka4</td><td>GLS</td><td>5</td></tr><tr><td>reka4</td><td>Posta</td><td>4</td></tr><tr><td>reka4</td><td>Személyes átvétel</td><td>11</td></tr><tr><td>reka4</td><td>NULL</td><td>20</td></tr><tr><td>RENATAK</td><td>GLS</td><td>135</td></tr><tr><td>RENATAK</td><td>Posta</td><td>140</td></tr><tr><td>RENATAK</td><td>Személyes átvétel</td><td>147</td></tr><tr><td>RENATAK</td><td>NULL</td><td>422</td></tr><tr><td>RENATAS</td><td>GLS</td><td>6</td></tr><tr><td>RENATAS</td><td>Posta</td><td>5</td></tr><tr><td>RENATAS</td><td>Személyes átvétel</td><td>5</td></tr><tr><td>RENATAS</td><td>NULL</td><td>16</td></tr><tr><td>robert2</td><td>GLS</td><td>5</td></tr><tr><td>robert2</td><td>Posta</td><td>1</td></tr><tr><td>robert2</td><td>Személyes átvétel</td><td>7</td></tr><tr><td>robert2</td><td>NULL</td><td>13</td></tr><tr><td>ROBERTI</td><td>GLS</td><td>5</td></tr><tr><td>ROBERTI</td><td>Posta</td><td>3</td></tr><tr><td>ROBERTI</td><td>Személyes átvétel</td><td>5</td></tr><tr><td>ROBERTI</td><td>NULL</td><td>13</td></tr><tr><td>ROBERTP</td><td>GLS</td><td>8</td></tr><tr><td>ROBERTP</td><td>Posta</td><td>8</td></tr><tr><td>ROBERTP</td><td>Személyes átvétel</td><td>10</td></tr><tr><td>ROBERTP</td><td>NULL</td><td>26</td></tr><tr><td>roland</td><td>GLS</td><td>132</td></tr><tr><td>roland</td><td>Posta</td><td>157</td></tr><tr><td>roland</td><td>Személyes átvétel</td><td>125</td></tr><tr><td>roland</td><td>NULL</td><td>414</td></tr><tr><td>roland1</td><td>GLS</td><td>142</td></tr><tr><td>roland1</td><td>Posta</td><td>155</td></tr><tr><td>roland1</td><td>Személyes átvétel</td><td>135</td></tr><tr><td>roland1</td><td>NULL</td><td>432</td></tr><tr><td>roza2</td><td>GLS</td><td>3</td></tr><tr><td>roza2</td><td>Posta</td><td>2</td></tr><tr><td>roza2</td><td>Személyes átvétel</td><td>3</td></tr><tr><td>roza2</td><td>NULL</td><td>8</td></tr><tr><td>sandor</td><td>GLS</td><td>4</td></tr><tr><td>sandor</td><td>Posta</td><td>6</td></tr><tr><td>sandor</td><td>Személyes átvétel</td><td>7</td></tr><tr><td>sandor</td><td>NULL</td><td>17</td></tr><tr><td>sandor3</td><td>GLS</td><td>4</td></tr><tr><td>sandor3</td><td>Posta</td><td>4</td></tr><tr><td>sandor3</td><td>Személyes átvétel</td><td>6</td></tr><tr><td>sandor3</td><td>NULL</td><td>14</td></tr><tr><td>sandor4</td><td>GLS</td><td>4</td></tr><tr><td>sandor4</td><td>Posta</td><td>2</td></tr><tr><td>sandor4</td><td>Személyes átvétel</td><td>5</td></tr><tr><td>sandor4</td><td>NULL</td><td>11</td></tr><tr><td>sara</td><td>GLS</td><td>4</td></tr><tr><td>sara</td><td>Posta</td><td>7</td></tr><tr><td>sara</td><td>Személyes átvétel</td><td>9</td></tr><tr><td>sara</td><td>NULL</td><td>20</td></tr><tr><td>SEBASTIANF</td><td>GLS</td><td>6</td></tr><tr><td>SEBASTIANF</td><td>Posta</td><td>3</td></tr><tr><td>SEBASTIANF</td><td>Személyes átvétel</td><td>6</td></tr><tr><td>SEBASTIANF</td><td>NULL</td><td>15</td></tr><tr><td>sebestyen</td><td>GLS</td><td>4</td></tr><tr><td>sebestyen</td><td>Posta</td><td>6</td></tr><tr><td>sebestyen</td><td>Személyes átvétel</td><td>6</td></tr><tr><td>sebestyen</td><td>NULL</td><td>16</td></tr><tr><td>szabolcs</td><td>GLS</td><td>145</td></tr><tr><td>szabolcs</td><td>Posta</td><td>157</td></tr><tr><td>szabolcs</td><td>Személyes átvétel</td><td>169</td></tr><tr><td>szabolcs</td><td>NULL</td><td>471</td></tr><tr><td>SZABOLCSM</td><td>GLS</td><td>126</td></tr><tr><td>SZABOLCSM</td><td>Posta</td><td>153</td></tr><tr><td>SZABOLCSM</td><td>Személyes átvétel</td><td>129</td></tr><tr><td>SZABOLCSM</td><td>NULL</td><td>408</td></tr><tr><td>SZILARDS</td><td>GLS</td><td>144</td></tr><tr><td>SZILARDS</td><td>Posta</td><td>131</td></tr><tr><td>SZILARDS</td><td>Személyes átvétel</td><td>111</td></tr><tr><td>SZILARDS</td><td>NULL</td><td>386</td></tr><tr><td>szilvia1</td><td>GLS</td><td>156</td></tr><tr><td>szilvia1</td><td>Posta</td><td>151</td></tr><tr><td>szilvia1</td><td>Személyes átvétel</td><td>138</td></tr><tr><td>szilvia1</td><td>NULL</td><td>445</td></tr><tr><td>tamara2</td><td>GLS</td><td>6</td></tr><tr><td>tamara2</td><td>Posta</td><td>4</td></tr><tr><td>tamara2</td><td>Személyes átvétel</td><td>3</td></tr><tr><td>tamara2</td><td>NULL</td><td>13</td></tr><tr><td>tamas</td><td>GLS</td><td>143</td></tr><tr><td>tamas</td><td>Posta</td><td>156</td></tr><tr><td>tamas</td><td>Személyes átvétel</td><td>122</td></tr><tr><td>tamas</td><td>NULL</td><td>421</td></tr><tr><td>TAMASF</td><td>GLS</td><td>159</td></tr><tr><td>TAMASF</td><td>Posta</td><td>145</td></tr><tr><td>TAMASF</td><td>Személyes átvétel</td><td>129</td></tr><tr><td>TAMASF</td><td>NULL</td><td>433</td></tr><tr><td>tibor</td><td>GLS</td><td>115</td></tr><tr><td>tibor</td><td>Posta</td><td>129</td></tr><tr><td>tibor</td><td>Személyes átvétel</td><td>130</td></tr><tr><td>tibor</td><td>NULL</td><td>374</td></tr><tr><td>tibor2</td><td>GLS</td><td>7</td></tr><tr><td>tibor2</td><td>Posta</td><td>7</td></tr><tr><td>tibor2</td><td>Személyes átvétel</td><td>11</td></tr><tr><td>tibor2</td><td>NULL</td><td>25</td></tr><tr><td>tihamer</td><td>GLS</td><td>9</td></tr><tr><td>tihamer</td><td>Posta</td><td>6</td></tr><tr><td>tihamer</td><td>Személyes átvétel</td><td>5</td></tr><tr><td>tihamer</td><td>NULL</td><td>20</td></tr><tr><td>timea</td><td>GLS</td><td>14</td></tr><tr><td>timea</td><td>Posta</td><td>23</td></tr><tr><td>timea</td><td>Személyes átvétel</td><td>18</td></tr><tr><td>timea</td><td>NULL</td><td>55</td></tr><tr><td>timea2</td><td>GLS</td><td>1</td></tr><tr><td>timea2</td><td>Posta</td><td>5</td></tr><tr><td>timea2</td><td>Személyes átvétel</td><td>10</td></tr><tr><td>timea2</td><td>NULL</td><td>16</td></tr><tr><td>tunde</td><td>GLS</td><td>6</td></tr><tr><td>tunde</td><td>Posta</td><td>6</td></tr><tr><td>tunde</td><td>Személyes átvétel</td><td>4</td></tr><tr><td>tunde</td><td>NULL</td><td>16</td></tr><tr><td>valentin</td><td>GLS</td><td>5</td></tr><tr><td>valentin</td><td>Posta</td><td>5</td></tr><tr><td>valentin</td><td>Személyes átvétel</td><td>3</td></tr><tr><td>valentin</td><td>NULL</td><td>13</td></tr><tr><td>veronika4</td><td>GLS</td><td>5</td></tr><tr><td>veronika4</td><td>Posta</td><td>6</td></tr><tr><td>veronika4</td><td>Személyes átvétel</td><td>7</td></tr><tr><td>veronika4</td><td>NULL</td><td>18</td></tr><tr><td>VIKTORIAU</td><td>GLS</td><td>5</td></tr><tr><td>VIKTORIAU</td><td>Posta</td><td>4</td></tr><tr><td>VIKTORIAU</td><td>Személyes átvétel</td><td>5</td></tr><tr><td>VIKTORIAU</td><td>NULL</td><td>14</td></tr><tr><td>VIKTORK</td><td>GLS</td><td>8</td></tr><tr><td>VIKTORK</td><td>Posta</td><td>6</td></tr><tr><td>VIKTORK</td><td>Személyes átvétel</td><td>6</td></tr><tr><td>VIKTORK</td><td>NULL</td><td>20</td></tr><tr><td>vivien3</td><td>GLS</td><td>9</td></tr><tr><td>vivien3</td><td>Posta</td><td>6</td></tr><tr><td>vivien3</td><td>Személyes átvétel</td><td>7</td></tr><tr><td>vivien3</td><td>NULL</td><td>22</td></tr><tr><td>zoltan</td><td>GLS</td><td>5</td></tr><tr><td>zoltan</td><td>Posta</td><td>3</td></tr><tr><td>zoltan</td><td>Személyes átvétel</td><td>7</td></tr><tr><td>zoltan</td><td>NULL</td><td>15</td></tr><tr><td>zoltan4</td><td>GLS</td><td>129</td></tr><tr><td>zoltan4</td><td>Posta</td><td>124</td></tr><tr><td>zoltan4</td><td>Személyes átvétel</td><td>171</td></tr><tr><td>zoltan4</td><td>NULL</td><td>424</td></tr><tr><td>ZOLTANP</td><td>GLS</td><td>6</td></tr><tr><td>ZOLTANP</td><td>Posta</td><td>3</td></tr><tr><td>ZOLTANP</td><td>Személyes átvétel</td><td>4</td></tr><tr><td>ZOLTANP</td><td>NULL</td><td>13</td></tr><tr><td>ZOLTANT</td><td>GLS</td><td>127</td></tr><tr><td>ZOLTANT</td><td>Posta</td><td>107</td></tr><tr><td>ZOLTANT</td><td>Személyes átvétel</td><td>123</td></tr><tr><td>ZOLTANT</td><td>NULL</td><td>357</td></tr><tr><td>zsofi1</td><td>GLS</td><td>7</td></tr><tr><td>zsofi1</td><td>Posta</td><td>6</td></tr><tr><td>zsofi1</td><td>Személyes átvétel</td><td>6</td></tr><tr><td>zsofi1</td><td>NULL</td><td>19</td></tr><tr><td>zsolt1</td><td>GLS</td><td>11</td></tr><tr><td>zsolt1</td><td>Posta</td><td>6</td></tr><tr><td>zsolt1</td><td>Személyes átvétel</td><td>3</td></tr><tr><td>zsolt1</td><td>NULL</td><td>20</td></tr><tr><td>ZSOLTJ</td><td>GLS</td><td>1</td></tr><tr><td>ZSOLTJ</td><td>Posta</td><td>8</td></tr><tr><td>ZSOLTJ</td><td>Személyes átvétel</td><td>9</td></tr><tr><td>ZSOLTJ</td><td>NULL</td><td>18</td></tr><tr><td>zsuzsa</td><td>GLS</td><td>8</td></tr><tr><td>zsuzsa</td><td>Posta</td><td>5</td></tr><tr><td>zsuzsa</td><td>Személyes átvétel</td><td>3</td></tr><tr><td>zsuzsa</td><td>NULL</td><td>16</td></tr><tr><td>zsuzsa3</td><td>GLS</td><td>5</td></tr><tr><td>zsuzsa3</td><td>Posta</td><td>5</td></tr><tr><td>zsuzsa3</td><td>Személyes átvétel</td><td>6</td></tr><tr><td>zsuzsa3</td><td>NULL</td><td>16</td></tr><tr><td>zsuzsanna</td><td>GLS</td><td>7</td></tr><tr><td>zsuzsanna</td><td>Posta</td><td>5</td></tr><tr><td>zsuzsanna</td><td>Személyes átvétel</td><td>3</td></tr><tr><td>zsuzsanna</td><td>NULL</td><td>15</td></tr><tr><td>ZSUZSAV</td><td>GLS</td><td>139</td></tr><tr><td>ZSUZSAV</td><td>Posta</td><td>139</td></tr><tr><td>ZSUZSAV</td><td>Személyes átvétel</td><td>142</td></tr><tr><td>ZSUZSAV</td><td>NULL</td><td>420</td></tr><tr><td>NULL</td><td>NULL</td><td>28085</td></tr></table>"
                    },
                    "metadata": {}
                }
            ],
            "execution_count": 45
        },
        {
            "cell_type": "markdown",
            "source": [
                "7\\. Készítsünk listát a termékek számáról a következő csoportosítási\n",
                "\n",
                " szempontok szerint: kategória azonosító, raktárkód, raktárkód+mennyiségi \n",
                "\n",
                " egység! A listát szűrjük azokra a csoportokra, ahol a termékek száma\n",
                "\n",
                " legalább 6!"
            ],
            "metadata": {
                "azdata_cell_guid": "edc0f472-826f-46e2-9b5f-1b7b5776e700"
            },
            "attachments": {}
        },
        {
            "cell_type": "code",
            "source": [
                "select kat_id, raktar_kod, megys, count(1) as db\r\n",
                "from Termek\r\n",
                "group by grouping sets(kat_id, raktar_kod, (raktar_kod, megys))\r\n",
                "having count(1) >= 6"
            ],
            "metadata": {
                "azdata_cell_guid": "547468b5-4077-48ca-92ea-363e9d27b48d"
            },
            "outputs": [
                {
                    "output_type": "display_data",
                    "data": {
                        "text/html": "(49 rows affected)"
                    },
                    "metadata": {}
                },
                {
                    "output_type": "display_data",
                    "data": {
                        "text/html": "Total execution time: 00:00:00.059"
                    },
                    "metadata": {}
                },
                {
                    "output_type": "execute_result",
                    "execution_count": 50,
                    "data": {
                        "application/vnd.dataresource+json": {
                            "schema": {
                                "fields": [
                                    {
                                        "name": "kat_id"
                                    },
                                    {
                                        "name": "raktar_kod"
                                    },
                                    {
                                        "name": "megys"
                                    },
                                    {
                                        "name": "db"
                                    }
                                ]
                            },
                            "data": [
                                {
                                    "0": "NULL",
                                    "1": "1",
                                    "2": "db",
                                    "3": "11"
                                },
                                {
                                    "0": "NULL",
                                    "1": "1",
                                    "2": "NULL",
                                    "3": "11"
                                },
                                {
                                    "0": "NULL",
                                    "1": "3",
                                    "2": "db",
                                    "3": "14"
                                },
                                {
                                    "0": "NULL",
                                    "1": "3",
                                    "2": "NULL",
                                    "3": "14"
                                },
                                {
                                    "0": "NULL",
                                    "1": "5",
                                    "2": "csomag",
                                    "3": "7"
                                },
                                {
                                    "0": "NULL",
                                    "1": "5",
                                    "2": "db",
                                    "3": "72"
                                },
                                {
                                    "0": "NULL",
                                    "1": "5",
                                    "2": "NULL",
                                    "3": "86"
                                },
                                {
                                    "0": "NULL",
                                    "1": "6",
                                    "2": "csomag",
                                    "3": "9"
                                },
                                {
                                    "0": "NULL",
                                    "1": "6",
                                    "2": "db",
                                    "3": "94"
                                },
                                {
                                    "0": "NULL",
                                    "1": "6",
                                    "2": "NULL",
                                    "3": "106"
                                },
                                {
                                    "0": "NULL",
                                    "1": "7",
                                    "2": "csomag",
                                    "3": "9"
                                },
                                {
                                    "0": "NULL",
                                    "1": "7",
                                    "2": "db",
                                    "3": "88"
                                },
                                {
                                    "0": "NULL",
                                    "1": "7",
                                    "2": "NULL",
                                    "3": "100"
                                },
                                {
                                    "0": "NULL",
                                    "1": "8",
                                    "2": "csomag",
                                    "3": "8"
                                },
                                {
                                    "0": "NULL",
                                    "1": "8",
                                    "2": "db",
                                    "3": "109"
                                },
                                {
                                    "0": "NULL",
                                    "1": "8",
                                    "2": "ív",
                                    "3": "6"
                                },
                                {
                                    "0": "NULL",
                                    "1": "8",
                                    "2": "NULL",
                                    "3": "123"
                                },
                                {
                                    "0": "NULL",
                                    "1": "9",
                                    "2": "csomag",
                                    "3": "11"
                                },
                                {
                                    "0": "NULL",
                                    "1": "9",
                                    "2": "db",
                                    "3": "86"
                                },
                                {
                                    "0": "NULL",
                                    "1": "9",
                                    "2": "NULL",
                                    "3": "102"
                                },
                                {
                                    "0": "4",
                                    "1": "NULL",
                                    "2": "NULL",
                                    "3": "15"
                                },
                                {
                                    "0": "6",
                                    "1": "NULL",
                                    "2": "NULL",
                                    "3": "20"
                                },
                                {
                                    "0": "16",
                                    "1": "NULL",
                                    "2": "NULL",
                                    "3": "7"
                                },
                                {
                                    "0": "19",
                                    "1": "NULL",
                                    "2": "NULL",
                                    "3": "19"
                                },
                                {
                                    "0": "24",
                                    "1": "NULL",
                                    "2": "NULL",
                                    "3": "7"
                                },
                                {
                                    "0": "30",
                                    "1": "NULL",
                                    "2": "NULL",
                                    "3": "7"
                                },
                                {
                                    "0": "35",
                                    "1": "NULL",
                                    "2": "NULL",
                                    "3": "7"
                                },
                                {
                                    "0": "41",
                                    "1": "NULL",
                                    "2": "NULL",
                                    "3": "13"
                                },
                                {
                                    "0": "45",
                                    "1": "NULL",
                                    "2": "NULL",
                                    "3": "11"
                                },
                                {
                                    "0": "46",
                                    "1": "NULL",
                                    "2": "NULL",
                                    "3": "7"
                                },
                                {
                                    "0": "52",
                                    "1": "NULL",
                                    "2": "NULL",
                                    "3": "26"
                                },
                                {
                                    "0": "54",
                                    "1": "NULL",
                                    "2": "NULL",
                                    "3": "6"
                                },
                                {
                                    "0": "66",
                                    "1": "NULL",
                                    "2": "NULL",
                                    "3": "7"
                                },
                                {
                                    "0": "78",
                                    "1": "NULL",
                                    "2": "NULL",
                                    "3": "24"
                                },
                                {
                                    "0": "83",
                                    "1": "NULL",
                                    "2": "NULL",
                                    "3": "6"
                                },
                                {
                                    "0": "85",
                                    "1": "NULL",
                                    "2": "NULL",
                                    "3": "16"
                                },
                                {
                                    "0": "91",
                                    "1": "NULL",
                                    "2": "NULL",
                                    "3": "7"
                                },
                                {
                                    "0": "93",
                                    "1": "NULL",
                                    "2": "NULL",
                                    "3": "7"
                                },
                                {
                                    "0": "96",
                                    "1": "NULL",
                                    "2": "NULL",
                                    "3": "9"
                                },
                                {
                                    "0": "97",
                                    "1": "NULL",
                                    "2": "NULL",
                                    "3": "10"
                                },
                                {
                                    "0": "100",
                                    "1": "NULL",
                                    "2": "NULL",
                                    "3": "9"
                                },
                                {
                                    "0": "118",
                                    "1": "NULL",
                                    "2": "NULL",
                                    "3": "9"
                                },
                                {
                                    "0": "122",
                                    "1": "NULL",
                                    "2": "NULL",
                                    "3": "7"
                                },
                                {
                                    "0": "124",
                                    "1": "NULL",
                                    "2": "NULL",
                                    "3": "10"
                                },
                                {
                                    "0": "133",
                                    "1": "NULL",
                                    "2": "NULL",
                                    "3": "6"
                                },
                                {
                                    "0": "145",
                                    "1": "NULL",
                                    "2": "NULL",
                                    "3": "18"
                                },
                                {
                                    "0": "146",
                                    "1": "NULL",
                                    "2": "NULL",
                                    "3": "7"
                                },
                                {
                                    "0": "149",
                                    "1": "NULL",
                                    "2": "NULL",
                                    "3": "6"
                                },
                                {
                                    "0": "152",
                                    "1": "NULL",
                                    "2": "NULL",
                                    "3": "6"
                                }
                            ]
                        },
                        "text/html": "<table><tr><th>kat_id</th><th>raktar_kod</th><th>megys</th><th>db</th></tr><tr><td>NULL</td><td>1</td><td>db</td><td>11</td></tr><tr><td>NULL</td><td>1</td><td>NULL</td><td>11</td></tr><tr><td>NULL</td><td>3</td><td>db</td><td>14</td></tr><tr><td>NULL</td><td>3</td><td>NULL</td><td>14</td></tr><tr><td>NULL</td><td>5</td><td>csomag</td><td>7</td></tr><tr><td>NULL</td><td>5</td><td>db</td><td>72</td></tr><tr><td>NULL</td><td>5</td><td>NULL</td><td>86</td></tr><tr><td>NULL</td><td>6</td><td>csomag</td><td>9</td></tr><tr><td>NULL</td><td>6</td><td>db</td><td>94</td></tr><tr><td>NULL</td><td>6</td><td>NULL</td><td>106</td></tr><tr><td>NULL</td><td>7</td><td>csomag</td><td>9</td></tr><tr><td>NULL</td><td>7</td><td>db</td><td>88</td></tr><tr><td>NULL</td><td>7</td><td>NULL</td><td>100</td></tr><tr><td>NULL</td><td>8</td><td>csomag</td><td>8</td></tr><tr><td>NULL</td><td>8</td><td>db</td><td>109</td></tr><tr><td>NULL</td><td>8</td><td>ív</td><td>6</td></tr><tr><td>NULL</td><td>8</td><td>NULL</td><td>123</td></tr><tr><td>NULL</td><td>9</td><td>csomag</td><td>11</td></tr><tr><td>NULL</td><td>9</td><td>db</td><td>86</td></tr><tr><td>NULL</td><td>9</td><td>NULL</td><td>102</td></tr><tr><td>4</td><td>NULL</td><td>NULL</td><td>15</td></tr><tr><td>6</td><td>NULL</td><td>NULL</td><td>20</td></tr><tr><td>16</td><td>NULL</td><td>NULL</td><td>7</td></tr><tr><td>19</td><td>NULL</td><td>NULL</td><td>19</td></tr><tr><td>24</td><td>NULL</td><td>NULL</td><td>7</td></tr><tr><td>30</td><td>NULL</td><td>NULL</td><td>7</td></tr><tr><td>35</td><td>NULL</td><td>NULL</td><td>7</td></tr><tr><td>41</td><td>NULL</td><td>NULL</td><td>13</td></tr><tr><td>45</td><td>NULL</td><td>NULL</td><td>11</td></tr><tr><td>46</td><td>NULL</td><td>NULL</td><td>7</td></tr><tr><td>52</td><td>NULL</td><td>NULL</td><td>26</td></tr><tr><td>54</td><td>NULL</td><td>NULL</td><td>6</td></tr><tr><td>66</td><td>NULL</td><td>NULL</td><td>7</td></tr><tr><td>78</td><td>NULL</td><td>NULL</td><td>24</td></tr><tr><td>83</td><td>NULL</td><td>NULL</td><td>6</td></tr><tr><td>85</td><td>NULL</td><td>NULL</td><td>16</td></tr><tr><td>91</td><td>NULL</td><td>NULL</td><td>7</td></tr><tr><td>93</td><td>NULL</td><td>NULL</td><td>7</td></tr><tr><td>96</td><td>NULL</td><td>NULL</td><td>9</td></tr><tr><td>97</td><td>NULL</td><td>NULL</td><td>10</td></tr><tr><td>100</td><td>NULL</td><td>NULL</td><td>9</td></tr><tr><td>118</td><td>NULL</td><td>NULL</td><td>9</td></tr><tr><td>122</td><td>NULL</td><td>NULL</td><td>7</td></tr><tr><td>124</td><td>NULL</td><td>NULL</td><td>10</td></tr><tr><td>133</td><td>NULL</td><td>NULL</td><td>6</td></tr><tr><td>145</td><td>NULL</td><td>NULL</td><td>18</td></tr><tr><td>146</td><td>NULL</td><td>NULL</td><td>7</td></tr><tr><td>149</td><td>NULL</td><td>NULL</td><td>6</td></tr><tr><td>152</td><td>NULL</td><td>NULL</td><td>6</td></tr></table>"
                    },
                    "metadata": {}
                }
            ],
            "execution_count": 50
        },
        {
            "cell_type": "markdown",
            "source": [
                "8\\. Készítsünk listát az egyes termékkategóriákban lévő termékek számáról!\n",
                "\n",
                " Elég megjeleníteni a kategóriák azonosítóit és a darabszámokat!\n",
                "\n",
                " A lista megfelelően jelölve tartalmazza a végösszeget is!\n",
                "\n",
                " Az oszlopokat nevezzük el értelemszerűen! A listát rendezzük a darabszám\n",
                "\n",
                " szerint növekvő sorrendbe!"
            ],
            "metadata": {
                "azdata_cell_guid": "e6fa5331-6bce-4cba-a4f8-4fb4295e022f"
            },
            "attachments": {}
        },
        {
            "cell_type": "code",
            "source": [
                "select iif(grouping_id(kat_id) = 1, 'Összesen', cast(kat_id as nvarchar(5))), count(1) as darabszam from Termek \r\n",
                "group by rollup(kat_id)\r\n",
                "order by count(1) asc\r\n",
                "\r\n",
                ""
            ],
            "metadata": {
                "azdata_cell_guid": "0fef7eba-e018-4f2c-883a-6fcceca146b3"
            },
            "outputs": [
                {
                    "output_type": "display_data",
                    "data": {
                        "text/html": "(144 rows affected)"
                    },
                    "metadata": {}
                },
                {
                    "output_type": "display_data",
                    "data": {
                        "text/html": "Total execution time: 00:00:00.058"
                    },
                    "metadata": {}
                },
                {
                    "output_type": "execute_result",
                    "execution_count": 57,
                    "data": {
                        "application/vnd.dataresource+json": {
                            "schema": {
                                "fields": [
                                    {
                                        "name": "(No column name)"
                                    },
                                    {
                                        "name": "darabszam"
                                    }
                                ]
                            },
                            "data": [
                                {
                                    "0": "10",
                                    "1": "1"
                                },
                                {
                                    "0": "11",
                                    "1": "1"
                                },
                                {
                                    "0": "12",
                                    "1": "1"
                                },
                                {
                                    "0": "15",
                                    "1": "1"
                                },
                                {
                                    "0": "17",
                                    "1": "1"
                                },
                                {
                                    "0": "26",
                                    "1": "1"
                                },
                                {
                                    "0": "29",
                                    "1": "1"
                                },
                                {
                                    "0": "31",
                                    "1": "1"
                                },
                                {
                                    "0": "33",
                                    "1": "1"
                                },
                                {
                                    "0": "34",
                                    "1": "1"
                                },
                                {
                                    "0": "37",
                                    "1": "1"
                                },
                                {
                                    "0": "38",
                                    "1": "1"
                                },
                                {
                                    "0": "40",
                                    "1": "1"
                                },
                                {
                                    "0": "42",
                                    "1": "1"
                                },
                                {
                                    "0": "44",
                                    "1": "1"
                                },
                                {
                                    "0": "50",
                                    "1": "1"
                                },
                                {
                                    "0": "53",
                                    "1": "1"
                                },
                                {
                                    "0": "61",
                                    "1": "1"
                                },
                                {
                                    "0": "74",
                                    "1": "1"
                                },
                                {
                                    "0": "80",
                                    "1": "1"
                                },
                                {
                                    "0": "82",
                                    "1": "1"
                                },
                                {
                                    "0": "84",
                                    "1": "1"
                                },
                                {
                                    "0": "86",
                                    "1": "1"
                                },
                                {
                                    "0": "99",
                                    "1": "1"
                                },
                                {
                                    "0": "101",
                                    "1": "1"
                                },
                                {
                                    "0": "103",
                                    "1": "1"
                                },
                                {
                                    "0": "105",
                                    "1": "1"
                                },
                                {
                                    "0": "107",
                                    "1": "1"
                                },
                                {
                                    "0": "108",
                                    "1": "1"
                                },
                                {
                                    "0": "109",
                                    "1": "1"
                                },
                                {
                                    "0": "114",
                                    "1": "1"
                                },
                                {
                                    "0": "115",
                                    "1": "1"
                                },
                                {
                                    "0": "126",
                                    "1": "1"
                                },
                                {
                                    "0": "130",
                                    "1": "1"
                                },
                                {
                                    "0": "131",
                                    "1": "1"
                                },
                                {
                                    "0": "132",
                                    "1": "1"
                                },
                                {
                                    "0": "135",
                                    "1": "1"
                                },
                                {
                                    "0": "139",
                                    "1": "1"
                                },
                                {
                                    "0": "140",
                                    "1": "1"
                                },
                                {
                                    "0": "142",
                                    "1": "1"
                                },
                                {
                                    "0": "147",
                                    "1": "1"
                                },
                                {
                                    "0": "148",
                                    "1": "1"
                                },
                                {
                                    "0": "153",
                                    "1": "1"
                                },
                                {
                                    "0": "155",
                                    "1": "1"
                                },
                                {
                                    "0": "150",
                                    "1": "2"
                                },
                                {
                                    "0": "144",
                                    "1": "2"
                                },
                                {
                                    "0": "141",
                                    "1": "2"
                                },
                                {
                                    "0": "136",
                                    "1": "2"
                                },
                                {
                                    "0": "123",
                                    "1": "2"
                                },
                                {
                                    "0": "134",
                                    "1": "2"
                                },
                                {
                                    "0": "127",
                                    "1": "2"
                                },
                                {
                                    "0": "128",
                                    "1": "2"
                                },
                                {
                                    "0": "129",
                                    "1": "2"
                                },
                                {
                                    "0": "116",
                                    "1": "2"
                                },
                                {
                                    "0": "117",
                                    "1": "2"
                                },
                                {
                                    "0": "112",
                                    "1": "2"
                                },
                                {
                                    "0": "121",
                                    "1": "2"
                                },
                                {
                                    "0": "110",
                                    "1": "2"
                                },
                                {
                                    "0": "104",
                                    "1": "2"
                                },
                                {
                                    "0": "94",
                                    "1": "2"
                                },
                                {
                                    "0": "95",
                                    "1": "2"
                                },
                                {
                                    "0": "88",
                                    "1": "2"
                                },
                                {
                                    "0": "90",
                                    "1": "2"
                                },
                                {
                                    "0": "92",
                                    "1": "2"
                                },
                                {
                                    "0": "71",
                                    "1": "2"
                                },
                                {
                                    "0": "72",
                                    "1": "2"
                                },
                                {
                                    "0": "73",
                                    "1": "2"
                                },
                                {
                                    "0": "75",
                                    "1": "2"
                                },
                                {
                                    "0": "62",
                                    "1": "2"
                                },
                                {
                                    "0": "55",
                                    "1": "2"
                                },
                                {
                                    "0": "65",
                                    "1": "2"
                                },
                                {
                                    "0": "67",
                                    "1": "2"
                                },
                                {
                                    "0": "68",
                                    "1": "2"
                                },
                                {
                                    "0": "57",
                                    "1": "2"
                                },
                                {
                                    "0": "48",
                                    "1": "2"
                                },
                                {
                                    "0": "49",
                                    "1": "2"
                                },
                                {
                                    "0": "39",
                                    "1": "2"
                                },
                                {
                                    "0": "22",
                                    "1": "2"
                                },
                                {
                                    "0": "18",
                                    "1": "2"
                                },
                                {
                                    "0": "9",
                                    "1": "2"
                                },
                                {
                                    "0": "13",
                                    "1": "2"
                                },
                                {
                                    "0": "5",
                                    "1": "3"
                                },
                                {
                                    "0": "7",
                                    "1": "3"
                                },
                                {
                                    "0": "8",
                                    "1": "3"
                                },
                                {
                                    "0": "20",
                                    "1": "3"
                                },
                                {
                                    "0": "27",
                                    "1": "3"
                                },
                                {
                                    "0": "32",
                                    "1": "3"
                                },
                                {
                                    "0": "43",
                                    "1": "3"
                                },
                                {
                                    "0": "58",
                                    "1": "3"
                                },
                                {
                                    "0": "51",
                                    "1": "3"
                                },
                                {
                                    "0": "70",
                                    "1": "3"
                                },
                                {
                                    "0": "89",
                                    "1": "3"
                                },
                                {
                                    "0": "111",
                                    "1": "3"
                                },
                                {
                                    "0": "119",
                                    "1": "3"
                                },
                                {
                                    "0": "137",
                                    "1": "3"
                                },
                                {
                                    "0": "143",
                                    "1": "3"
                                },
                                {
                                    "0": "151",
                                    "1": "4"
                                },
                                {
                                    "0": "154",
                                    "1": "4"
                                },
                                {
                                    "0": "125",
                                    "1": "4"
                                },
                                {
                                    "0": "79",
                                    "1": "4"
                                },
                                {
                                    "0": "98",
                                    "1": "4"
                                },
                                {
                                    "0": "56",
                                    "1": "4"
                                },
                                {
                                    "0": "64",
                                    "1": "4"
                                },
                                {
                                    "0": "59",
                                    "1": "4"
                                },
                                {
                                    "0": "47",
                                    "1": "4"
                                },
                                {
                                    "0": "25",
                                    "1": "4"
                                },
                                {
                                    "0": "14",
                                    "1": "4"
                                },
                                {
                                    "0": "21",
                                    "1": "5"
                                },
                                {
                                    "0": "36",
                                    "1": "5"
                                },
                                {
                                    "0": "28",
                                    "1": "5"
                                },
                                {
                                    "0": "60",
                                    "1": "5"
                                },
                                {
                                    "0": "76",
                                    "1": "5"
                                },
                                {
                                    "0": "106",
                                    "1": "5"
                                },
                                {
                                    "0": "138",
                                    "1": "5"
                                },
                                {
                                    "0": "133",
                                    "1": "6"
                                },
                                {
                                    "0": "152",
                                    "1": "6"
                                },
                                {
                                    "0": "149",
                                    "1": "6"
                                },
                                {
                                    "0": "83",
                                    "1": "6"
                                },
                                {
                                    "0": "54",
                                    "1": "6"
                                },
                                {
                                    "0": "46",
                                    "1": "7"
                                },
                                {
                                    "0": "66",
                                    "1": "7"
                                },
                                {
                                    "0": "24",
                                    "1": "7"
                                },
                                {
                                    "0": "30",
                                    "1": "7"
                                },
                                {
                                    "0": "35",
                                    "1": "7"
                                },
                                {
                                    "0": "16",
                                    "1": "7"
                                },
                                {
                                    "0": "146",
                                    "1": "7"
                                },
                                {
                                    "0": "122",
                                    "1": "7"
                                },
                                {
                                    "0": "93",
                                    "1": "7"
                                },
                                {
                                    "0": "91",
                                    "1": "7"
                                },
                                {
                                    "0": "100",
                                    "1": "9"
                                },
                                {
                                    "0": "96",
                                    "1": "9"
                                },
                                {
                                    "0": "118",
                                    "1": "9"
                                },
                                {
                                    "0": "97",
                                    "1": "10"
                                },
                                {
                                    "0": "124",
                                    "1": "10"
                                },
                                {
                                    "0": "45",
                                    "1": "11"
                                },
                                {
                                    "0": "41",
                                    "1": "13"
                                },
                                {
                                    "0": "4",
                                    "1": "15"
                                },
                                {
                                    "0": "85",
                                    "1": "16"
                                },
                                {
                                    "0": "145",
                                    "1": "18"
                                },
                                {
                                    "0": "19",
                                    "1": "19"
                                },
                                {
                                    "0": "6",
                                    "1": "20"
                                },
                                {
                                    "0": "78",
                                    "1": "24"
                                },
                                {
                                    "0": "52",
                                    "1": "26"
                                },
                                {
                                    "0": "Összesen",
                                    "1": "551"
                                }
                            ]
                        },
                        "text/html": "<table><tr><th>(No column name)</th><th>darabszam</th></tr><tr><td>10</td><td>1</td></tr><tr><td>11</td><td>1</td></tr><tr><td>12</td><td>1</td></tr><tr><td>15</td><td>1</td></tr><tr><td>17</td><td>1</td></tr><tr><td>26</td><td>1</td></tr><tr><td>29</td><td>1</td></tr><tr><td>31</td><td>1</td></tr><tr><td>33</td><td>1</td></tr><tr><td>34</td><td>1</td></tr><tr><td>37</td><td>1</td></tr><tr><td>38</td><td>1</td></tr><tr><td>40</td><td>1</td></tr><tr><td>42</td><td>1</td></tr><tr><td>44</td><td>1</td></tr><tr><td>50</td><td>1</td></tr><tr><td>53</td><td>1</td></tr><tr><td>61</td><td>1</td></tr><tr><td>74</td><td>1</td></tr><tr><td>80</td><td>1</td></tr><tr><td>82</td><td>1</td></tr><tr><td>84</td><td>1</td></tr><tr><td>86</td><td>1</td></tr><tr><td>99</td><td>1</td></tr><tr><td>101</td><td>1</td></tr><tr><td>103</td><td>1</td></tr><tr><td>105</td><td>1</td></tr><tr><td>107</td><td>1</td></tr><tr><td>108</td><td>1</td></tr><tr><td>109</td><td>1</td></tr><tr><td>114</td><td>1</td></tr><tr><td>115</td><td>1</td></tr><tr><td>126</td><td>1</td></tr><tr><td>130</td><td>1</td></tr><tr><td>131</td><td>1</td></tr><tr><td>132</td><td>1</td></tr><tr><td>135</td><td>1</td></tr><tr><td>139</td><td>1</td></tr><tr><td>140</td><td>1</td></tr><tr><td>142</td><td>1</td></tr><tr><td>147</td><td>1</td></tr><tr><td>148</td><td>1</td></tr><tr><td>153</td><td>1</td></tr><tr><td>155</td><td>1</td></tr><tr><td>150</td><td>2</td></tr><tr><td>144</td><td>2</td></tr><tr><td>141</td><td>2</td></tr><tr><td>136</td><td>2</td></tr><tr><td>123</td><td>2</td></tr><tr><td>134</td><td>2</td></tr><tr><td>127</td><td>2</td></tr><tr><td>128</td><td>2</td></tr><tr><td>129</td><td>2</td></tr><tr><td>116</td><td>2</td></tr><tr><td>117</td><td>2</td></tr><tr><td>112</td><td>2</td></tr><tr><td>121</td><td>2</td></tr><tr><td>110</td><td>2</td></tr><tr><td>104</td><td>2</td></tr><tr><td>94</td><td>2</td></tr><tr><td>95</td><td>2</td></tr><tr><td>88</td><td>2</td></tr><tr><td>90</td><td>2</td></tr><tr><td>92</td><td>2</td></tr><tr><td>71</td><td>2</td></tr><tr><td>72</td><td>2</td></tr><tr><td>73</td><td>2</td></tr><tr><td>75</td><td>2</td></tr><tr><td>62</td><td>2</td></tr><tr><td>55</td><td>2</td></tr><tr><td>65</td><td>2</td></tr><tr><td>67</td><td>2</td></tr><tr><td>68</td><td>2</td></tr><tr><td>57</td><td>2</td></tr><tr><td>48</td><td>2</td></tr><tr><td>49</td><td>2</td></tr><tr><td>39</td><td>2</td></tr><tr><td>22</td><td>2</td></tr><tr><td>18</td><td>2</td></tr><tr><td>9</td><td>2</td></tr><tr><td>13</td><td>2</td></tr><tr><td>5</td><td>3</td></tr><tr><td>7</td><td>3</td></tr><tr><td>8</td><td>3</td></tr><tr><td>20</td><td>3</td></tr><tr><td>27</td><td>3</td></tr><tr><td>32</td><td>3</td></tr><tr><td>43</td><td>3</td></tr><tr><td>58</td><td>3</td></tr><tr><td>51</td><td>3</td></tr><tr><td>70</td><td>3</td></tr><tr><td>89</td><td>3</td></tr><tr><td>111</td><td>3</td></tr><tr><td>119</td><td>3</td></tr><tr><td>137</td><td>3</td></tr><tr><td>143</td><td>3</td></tr><tr><td>151</td><td>4</td></tr><tr><td>154</td><td>4</td></tr><tr><td>125</td><td>4</td></tr><tr><td>79</td><td>4</td></tr><tr><td>98</td><td>4</td></tr><tr><td>56</td><td>4</td></tr><tr><td>64</td><td>4</td></tr><tr><td>59</td><td>4</td></tr><tr><td>47</td><td>4</td></tr><tr><td>25</td><td>4</td></tr><tr><td>14</td><td>4</td></tr><tr><td>21</td><td>5</td></tr><tr><td>36</td><td>5</td></tr><tr><td>28</td><td>5</td></tr><tr><td>60</td><td>5</td></tr><tr><td>76</td><td>5</td></tr><tr><td>106</td><td>5</td></tr><tr><td>138</td><td>5</td></tr><tr><td>133</td><td>6</td></tr><tr><td>152</td><td>6</td></tr><tr><td>149</td><td>6</td></tr><tr><td>83</td><td>6</td></tr><tr><td>54</td><td>6</td></tr><tr><td>46</td><td>7</td></tr><tr><td>66</td><td>7</td></tr><tr><td>24</td><td>7</td></tr><tr><td>30</td><td>7</td></tr><tr><td>35</td><td>7</td></tr><tr><td>16</td><td>7</td></tr><tr><td>146</td><td>7</td></tr><tr><td>122</td><td>7</td></tr><tr><td>93</td><td>7</td></tr><tr><td>91</td><td>7</td></tr><tr><td>100</td><td>9</td></tr><tr><td>96</td><td>9</td></tr><tr><td>118</td><td>9</td></tr><tr><td>97</td><td>10</td></tr><tr><td>124</td><td>10</td></tr><tr><td>45</td><td>11</td></tr><tr><td>41</td><td>13</td></tr><tr><td>4</td><td>15</td></tr><tr><td>85</td><td>16</td></tr><tr><td>145</td><td>18</td></tr><tr><td>19</td><td>19</td></tr><tr><td>6</td><td>20</td></tr><tr><td>78</td><td>24</td></tr><tr><td>52</td><td>26</td></tr><tr><td>Összesen</td><td>551</td></tr></table>"
                    },
                    "metadata": {}
                }
            ],
            "execution_count": 57
        },
        {
            "cell_type": "markdown",
            "source": [
                "9\\. Készítsünk listát az ügyfelek számáról születési év szerint, azon belül\n",
                "\n",
                " nem szerinti bontásban! A lista megfelelően jelölve tartalmazza a \n",
                "\n",
                " részösszegeket és a végösszeget is! Az oszlopoknak adjunk nevet értelemszerűen!"
            ],
            "metadata": {
                "azdata_cell_guid": "3b8ab22f-b343-4f26-a1ec-7dc3f6daf8ca"
            },
            "attachments": {}
        },
        {
            "cell_type": "code",
            "source": [
                ""
            ],
            "metadata": {
                "azdata_cell_guid": "49479cac-6de7-4303-acc1-f689fb69aac9"
            },
            "outputs": [],
            "execution_count": null
        },
        {
            "cell_type": "markdown",
            "source": [
                "10\\. Készítsünk listát a termékek számáról a felvitel hónapja, azon belül napja\n",
                "\n",
                "szerint csoportosítva. A lista csak a részösszegeket és a végösszeget\n",
                "\n",
                "tartalmazza! Az oszlopoknak adjunk megfelelő nevet!\n",
                "\n",
                "Ötlet: HAVING + GROUPING\\_ID fv együttes használata"
            ],
            "metadata": {
                "azdata_cell_guid": "ba612486-ab4e-4ba3-9ca3-1404083dde29"
            },
            "attachments": {}
        },
        {
            "cell_type": "code",
            "source": [
                "select month(felvitel), day(felvitel), count(1)\r\n",
                "from termek \r\n",
                "group by rollup(month(felvitel), day(felvitel))\r\n",
                "having grouping_id(month(felvitel), day(felvitel)) > 0 "
            ],
            "metadata": {
                "azdata_cell_guid": "a62abdba-a45e-4f24-9429-c11f8f83c8ae"
            },
            "outputs": [
                {
                    "output_type": "display_data",
                    "data": {
                        "text/html": "(5 rows affected)"
                    },
                    "metadata": {}
                },
                {
                    "output_type": "display_data",
                    "data": {
                        "text/html": "Total execution time: 00:00:00.042"
                    },
                    "metadata": {}
                },
                {
                    "output_type": "execute_result",
                    "execution_count": 63,
                    "data": {
                        "application/vnd.dataresource+json": {
                            "schema": {
                                "fields": [
                                    {
                                        "name": "(No column name)"
                                    },
                                    {
                                        "name": "(No column name)"
                                    },
                                    {
                                        "name": "(No column name)"
                                    }
                                ]
                            },
                            "data": [
                                {
                                    "0": "7",
                                    "1": "NULL",
                                    "2": "355"
                                },
                                {
                                    "0": "8",
                                    "1": "NULL",
                                    "2": "194"
                                },
                                {
                                    "0": "9",
                                    "1": "NULL",
                                    "2": "1"
                                },
                                {
                                    "0": "12",
                                    "1": "NULL",
                                    "2": "1"
                                },
                                {
                                    "0": "NULL",
                                    "1": "NULL",
                                    "2": "551"
                                }
                            ]
                        },
                        "text/html": "<table><tr><th>(No column name)</th><th>(No column name)</th><th>(No column name)</th></tr><tr><td>7</td><td>NULL</td><td>355</td></tr><tr><td>8</td><td>NULL</td><td>194</td></tr><tr><td>9</td><td>NULL</td><td>1</td></tr><tr><td>12</td><td>NULL</td><td>1</td></tr><tr><td>NULL</td><td>NULL</td><td>551</td></tr></table>"
                    },
                    "metadata": {}
                }
            ],
            "execution_count": 63
        },
        {
            "cell_type": "markdown",
            "source": [
                "11\\. Készítsünk listát éves bontásban norbert2 azonosítójú ügyfél\n",
                "\n",
                " rendeléseinek értékéről! A lista megfelelően jelölve tartalmazza\n",
                "\n",
                " a végösszeget is! Az oszlopokat nevezzük el\n",
                "\n",
                " értelemszerűen!"
            ],
            "metadata": {
                "azdata_cell_guid": "3c0b8fc8-bfea-4c89-ab19-50bf089575be"
            },
            "attachments": {}
        },
        {
            "cell_type": "code",
            "source": [
                ""
            ],
            "metadata": {
                "azdata_cell_guid": "50054288-3634-4b29-a343-f4ad521c8ae3"
            },
            "outputs": [],
            "execution_count": null
        },
        {
            "cell_type": "markdown",
            "source": [
                "12\\. Készítsünk listát szállítási dátumonként, azon belül szállítási módonkénkt\n",
                "\n",
                "az egyes rendelések összmennyiségéről!\n",
                "\n",
                "Csak azokat a termékeket vegyük figyelembe, amelyek mennyiségi egysége db!\n",
                "\n",
                "A listát szűrjük úgy, hogy az csak a részösszeg sorokat és a végösszeget tartalmazza!"
            ],
            "metadata": {
                "azdata_cell_guid": "d7b41881-e145-4258-81d8-9cddfc779e0d"
            },
            "attachments": {}
        },
        {
            "cell_type": "code",
            "source": [
                ""
            ],
            "metadata": {
                "azdata_cell_guid": "c9cd1c66-3475-46d6-a5a2-24d878b09287"
            },
            "outputs": [],
            "execution_count": null
        },
        {
            "cell_type": "markdown",
            "source": [
                "13\\. Készítsünk listát a termékek átlagos listaárairól!\n",
                "\n",
                " A lista legyen csoportosítva a következő szempontok alapján:\n",
                "\n",
                " kategórianév, kategórianév + raktárnév\n",
                "\n",
                " A lista tartalmazzon végösszeget (az átlagos árat minden termékre) is!\n",
                "\n",
                " Az átlagos értéke max. két tizedesjeggyel legyen megjelenítve!"
            ],
            "metadata": {
                "azdata_cell_guid": "3a3bcac2-4ac6-4ff9-8c31-bf0da1b69dd6"
            },
            "attachments": {}
        },
        {
            "cell_type": "code",
            "source": [
                ""
            ],
            "metadata": {
                "azdata_cell_guid": "2e544ae0-63e0-431f-8ff7-272d62328a92"
            },
            "outputs": [],
            "execution_count": null
        },
        {
            "cell_type": "markdown",
            "source": [
                "14\\. Hány olyan ügyfél van, aki még nem rendelt semmit?\n",
                "\n",
                "Csoportosítsuk őket nem szerint, azon belül életkor szerint!\n",
                "\n",
                "A lista tartalmazza a részösszegeket és a végösszeget is!"
            ],
            "metadata": {
                "azdata_cell_guid": "fe87b801-6db2-45bf-8596-eda982858f2e"
            },
            "attachments": {}
        },
        {
            "cell_type": "code",
            "source": [
                ""
            ],
            "metadata": {
                "azdata_cell_guid": "e158c15c-ee60-4a0a-812b-03e6130dab16"
            },
            "outputs": [],
            "execution_count": null
        },
        {
            "cell_type": "markdown",
            "source": [
                "15\\. Készítsünk listát arról, hogy évente hányszor rendelték meg\n",
                "\n",
                "azokat a termékeket, amelyek kategóriájukban a legdrágábbak!\n",
                "\n",
                "A lista jelenítse meg az évet, a termék nevét és a rendelés számát!\n",
                "\n",
                "Jelenjenek meg a részösszegek és a végösszeg is!"
            ],
            "metadata": {
                "azdata_cell_guid": "b42b866f-f932-463e-80eb-4e3ad73a9fe1"
            },
            "attachments": {}
        },
        {
            "cell_type": "code",
            "source": [
                ""
            ],
            "metadata": {
                "azdata_cell_guid": "374dfc38-959e-411d-90ed-e5d615bc467d"
            },
            "outputs": [],
            "execution_count": null
        }
    ]
}