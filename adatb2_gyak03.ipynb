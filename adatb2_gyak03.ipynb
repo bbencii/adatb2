{
    "metadata": {
        "kernelspec": {
            "name": "SQL",
            "display_name": "SQL",
            "language": "sql"
        },
        "language_info": {
            "name": "sql",
            "version": ""
        },
        "extensions": {
            "azuredatastudio": {
                "version": 1,
                "views": []
            }
        }
    },
    "nbformat_minor": 2,
    "nbformat": 4,
    "cells": [
        {
            "cell_type": "markdown",
            "source": [
                "1\\. Készítsünk sorszámozott listát a szálláshelyek adatairól! \n",
                "\n",
                "a. A lista legyen a szálláshely típusa szerint, azon belül hely szerint, majd a neve szerint növekvően rendezve! \n",
                "\n",
                "b. A számozás típusonként kezdődjön újra!"
            ],
            "metadata": {
                "azdata_cell_guid": "91080c69-3968-4119-a19b-7b080f7fcd64"
            },
            "attachments": {}
        },
        {
            "cell_type": "code",
            "source": [
                "select *, row_number() \r\n",
                "over(partition by tipus order by tipus,hely, szallas_nev)\r\n",
                "from szallashely"
            ],
            "metadata": {
                "azdata_cell_guid": "2671f677-5b21-4a8f-aa87-0d495a71c6b3"
            },
            "outputs": [],
            "execution_count": null
        },
        {
            "cell_type": "markdown",
            "source": [
                "3\\. Készítsük listát, amely megjeleníti az ügyfelek azonosítóját, nevét és a foglalásainak kezdő- és befejező dátumát, valamint azt, hogy a foglalás összesen hány főre történt! \n",
                "\n",
                "a. Egy új oszlopban jelenítsük meg azt is, hogy az ügyfél előző három foglalása összesen hány főre történt!"
            ],
            "metadata": {
                "azdata_cell_guid": "ca0cec3e-e6ee-41ad-8016-0a34ce43cfde"
            },
            "attachments": {}
        },
        {
            "cell_type": "code",
            "source": [
                "select u.[login], u.nev, f.mettol, f.meddig, f.felnott_szam, f.gyermek_szam, \r\n",
                "       sum(f.felnott_szam + f.gyermek_szam) over(partition by u.[login] order by f.mettol rows between 3 preceding and 1 preceding) \r\n",
                "from foglalas f \r\n",
                "inner join ugyfel u on f.ugyfel_fk = u.[login]"
            ],
            "metadata": {
                "azdata_cell_guid": "f0a59c58-0cf4-48c4-bd5d-7eba7628104f"
            },
            "outputs": [],
            "execution_count": null
        },
        {
            "cell_type": "markdown",
            "source": [
                "<span style=\"color: rgb(18, 38, 44); font-family: Arial; font-size: 15px; background-color: rgb(239, 249, 252);\">6. Alakítsa át a melléklet 1. pontjában lévő lekérdezést úgy, hogy JOIN helyett CROSS APPLY-t alkalmaz!</span>  \n",
                "<span style=\"color: rgb(18, 38, 44); font-family: Arial; font-size: 15px; background-color: rgb(239, 249, 252);\">a. Válaszként adja meg az átalakított lekérdezés kódját!</span>\n",
                "\n",
                "<span style=\"color: #0000ff;\">SELECT</span> rt.TERMEKKOD, \n",
                "\n",
                "       <span style=\"color: #795e26;\">AVG</span>(rt.EGYSEGAR) <span style=\"color: #0000ff;\">AS</span> <span style=\"color: #a31515;\">'Atlagos&nbsp;ar'</span>\n",
                "\n",
                "<span style=\"color: #0000ff;\">FROM</span> Rendeles\\_tetel rt <span style=\"color: #0000ff;\">JOIN</span> Rendeles r\n",
                "\n",
                "     <span style=\"color: #0000ff;\">ON</span> rt.SORSZAM <span style=\"color: #000000;\">=</span> r.SORSZAM\n",
                "\n",
                "<span style=\"color: #0000ff;\">GROUP&nbsp;BY</span> rt.TERMEKKOD"
            ],
            "metadata": {
                "azdata_cell_guid": "487ecab9-fe83-4422-ad4d-04fe07b5cddf"
            },
            "attachments": {}
        },
        {
            "cell_type": "code",
            "source": [
                "SELECT rt.TERMEKKOD, \r\n",
                "\r\n",
                "       AVG(rt.EGYSEGAR) AS 'Atlagos ar'\r\n",
                "\r\n",
                "FROM Rendeles_tetel rt CROSS APPLY\r\n",
                "(\r\n",
                "    select * from rendeles r\r\n",
                "    WHERE rt.SORSZAM = r.SORSZAM\r\n",
                ") r\r\n",
                "GROUP BY rt.TERMEKKOD"
            ],
            "metadata": {
                "azdata_cell_guid": "b8f5e95c-6f95-4483-8279-1ee2afb0371d"
            },
            "outputs": [],
            "execution_count": null
        },
        {
            "cell_type": "markdown",
            "source": [
                "<span style=\"color: rgb(18, 38, 44); font-family: Arial; font-size: 15px; background-color: rgb(239, 249, 252);\">7. Alakítsa át a melléklet 2. pontjában lévő lekérdezést úgy, hogy mindkét (INNER) JOIN részbe sorra beilleszti a tanult JOIN HINT-eket (először mindkét helyre MERGE, majd HASH, utána LOOP, végül REMOTE).</span>  \n",
                "<span style=\"color: rgb(18, 38, 44); font-family: Arial; font-size: 15px; background-color: rgb(239, 249, 252);\">a. Melyik hint használata adja a legjobb megoldást?</span>  \n",
                "<span style=\"color: rgb(18, 38, 44); font-family: Arial; font-size: 15px; background-color: rgb(239, 249, 252);\">b. Mi lesz ezt a hint-et tartalmazó lekérdezés kódja?</span>\n",
                "\n",
                "```\n",
                "SELECT rt.*,\n",
                "       u.nev,\n",
                "       SUM(rt.mennyiseg*rt.egysegar) \n",
                "\t   OVER(PARTITION BY r.LOGIN ORDER BY rt.SORSZAM, termekkod \n",
                "\t     RANGE BETWEEN UNBOUNDED PRECEDING AND CURRENT ROW) \n",
                "\t   AS 'Eddigi rendel�si t�telek �ssz�rt�ke'\n",
                "FROM Rendeles_tetel rt JOIN Rendeles r \n",
                "     ON rt.SORSZAM = r.SORSZAM\n",
                "\t JOIN Ugyfel u ON r.LOGIN = u.LOGIN\n",
                "```"
            ],
            "metadata": {
                "azdata_cell_guid": "465cb4a1-1850-471b-944e-7317f586d880"
            },
            "attachments": {}
        },
        {
            "cell_type": "code",
            "source": [
                "SELECT rt.*,\r\n",
                "       u.nev,\r\n",
                "       SUM(rt.mennyiseg*rt.egysegar) \r\n",
                "\t   OVER(PARTITION BY r.LOGIN ORDER BY rt.SORSZAM, termekkod \r\n",
                "\t     RANGE BETWEEN UNBOUNDED PRECEDING AND CURRENT ROW) \r\n",
                "\t   AS 'Eddigi rendel�si t�telek �ssz�rt�ke'\r\n",
                "FROM Rendeles_tetel rt INNER HASH JOIN Rendeles r \r\n",
                "     ON rt.SORSZAM = r.SORSZAM\r\n",
                "\t JOIN Ugyfel u ON r.LOGIN = u.LOGIN"
            ],
            "metadata": {
                "azdata_cell_guid": "5345292d-aa5c-4cb8-a98f-f27fd49e417d"
            },
            "outputs": [],
            "execution_count": null
        },
        {
            "cell_type": "markdown",
            "source": [
                "<span style=\"color: rgb(18, 38, 44); font-family: Arial; font-size: 15px; background-color: rgb(239, 249, 252);\">8. Készítsen non-clustered indexet a Rendeles_tetel táblához!</span>  \n",
                "<span style=\"color: rgb(18, 38, 44); font-family: Arial; font-size: 15px; background-color: rgb(239, 249, 252);\">a. Az index neve NCI_sorszam_termekkod legyen</span>  \n",
                "<span style=\"color: rgb(18, 38, 44); font-family: Arial; font-size: 15px; background-color: rgb(239, 249, 252);\">b. A sorszam legyen az index kulcs oszlop, a termékkód pedig az indexbe belefoglalt oszlop</span>  \n",
                "<span style=\"color: rgb(18, 38, 44); font-family: Arial; font-size: 15px; background-color: rgb(239, 249, 252);\">c. Válaszként adja meg az indexet generáló script-et!</span>"
            ],
            "metadata": {
                "azdata_cell_guid": "982473d2-0325-412a-b046-35c7f0914662"
            },
            "attachments": {}
        },
        {
            "cell_type": "code",
            "source": [
                ""
            ],
            "metadata": {
                "azdata_cell_guid": "c964cf9f-71a4-4a24-94fb-89c575ec577d"
            },
            "outputs": [],
            "execution_count": null
        }
    ]
}