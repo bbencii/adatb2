{
    "metadata": {
        "kernelspec": {
            "name": "SQL",
            "display_name": "SQL",
            "language": "sql"
        },
        "language_info": {
            "name": "sql",
            "version": ""
        },
        "extensions": {
            "azuredatastudio": {
                "version": 1,
                "views": []
            }
        }
    },
    "nbformat_minor": 2,
    "nbformat": 4,
    "cells": [
        {
            "cell_type": "markdown",
            "source": [
                "Készítsünk sorszámozott listát a szálláshelyek adatairól! \n",
                "\n",
                "a. A lista legyen a szálláshely típusa szerint, azon belül hely szerint, majd a neve szerint növekvően rendezve! \n",
                "\n",
                "b. A számozás típusonként kezdődjön újra!"
            ],
            "metadata": {
                "azdata_cell_guid": "91080c69-3968-4119-a19b-7b080f7fcd64"
            },
            "attachments": {}
        },
        {
            "cell_type": "code",
            "source": [
                "select *, row_number() \r\n",
                "over(partition by tipus order by tipus,hely, szallas_nev)\r\n",
                "from szallashely"
            ],
            "metadata": {
                "azdata_cell_guid": "2671f677-5b21-4a8f-aa87-0d495a71c6b3"
            },
            "outputs": [],
            "execution_count": null
        },
        {
            "cell_type": "markdown",
            "source": [
                ""
            ],
            "metadata": {
                "azdata_cell_guid": "ca0cec3e-e6ee-41ad-8016-0a34ce43cfde"
            }
        }
    ]
}