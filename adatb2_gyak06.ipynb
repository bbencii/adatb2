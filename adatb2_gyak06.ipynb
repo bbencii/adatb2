{
    "metadata": {
        "kernelspec": {
            "name": "SQL",
            "display_name": "SQL",
            "language": "sql"
        },
        "language_info": {
            "name": "sql",
            "version": ""
        },
        "extensions": {
            "azuredatastudio": {
                "version": 1,
                "views": []
            }
        }
    },
    "nbformat_minor": 2,
    "nbformat": 4,
    "cells": [
        {
            "cell_type": "code",
            "source": [
                "drop table if exists #Szervezet;\r\n",
                "\r\n",
                "create table #Szervezet\r\n",
                "(\r\n",
                "    Szint HIERARCHYID,\r\n",
                "    Beosztas NVARCHAR(100)\r\n",
                ");\r\n",
                "\r\n",
                "insert into #Szervezet values('/1/', 'vezerigazgato');\r\n",
                "insert into #Szervezet values('/1/1/', 'marketing igazgato');\r\n",
                "insert into #Szervezet values('/1/2/', 'penzugyi igazgato');\r\n",
                "insert into #Szervezet values('/1/3/', 'ugyvezeto igazgato');\r\n",
                "insert into #Szervezet values('/1/1/1/', 'marketing osztaly');\r\n",
                "insert into #Szervezet values('/1/2/1/', 'penzugyi osztaly');\r\n",
                "insert into #Szervezet values('/1/3/1/', 'termelesi osztaly');\r\n",
                "\r\n",
                "select cast(Szint as nvarchar(100)), Beosztas \r\n",
                "from #Szervezet;"
            ],
            "metadata": {
                "azdata_cell_guid": "78b51491-4513-4408-9d60-a988d90ef597"
            },
            "outputs": [
                {
                    "output_type": "display_data",
                    "data": {
                        "text/html": "(1 row affected)"
                    },
                    "metadata": {}
                },
                {
                    "output_type": "display_data",
                    "data": {
                        "text/html": "(1 row affected)"
                    },
                    "metadata": {}
                },
                {
                    "output_type": "display_data",
                    "data": {
                        "text/html": "(1 row affected)"
                    },
                    "metadata": {}
                },
                {
                    "output_type": "display_data",
                    "data": {
                        "text/html": "(1 row affected)"
                    },
                    "metadata": {}
                },
                {
                    "output_type": "display_data",
                    "data": {
                        "text/html": "(1 row affected)"
                    },
                    "metadata": {}
                },
                {
                    "output_type": "display_data",
                    "data": {
                        "text/html": "(1 row affected)"
                    },
                    "metadata": {}
                },
                {
                    "output_type": "display_data",
                    "data": {
                        "text/html": "(1 row affected)"
                    },
                    "metadata": {}
                },
                {
                    "output_type": "display_data",
                    "data": {
                        "text/html": "(7 rows affected)"
                    },
                    "metadata": {}
                },
                {
                    "output_type": "display_data",
                    "data": {
                        "text/html": "Total execution time: 00:00:00.080"
                    },
                    "metadata": {}
                },
                {
                    "output_type": "execute_result",
                    "metadata": {},
                    "execution_count": 2,
                    "data": {
                        "application/vnd.dataresource+json": {
                            "schema": {
                                "fields": [
                                    {
                                        "name": "(No column name)"
                                    },
                                    {
                                        "name": "Beosztas"
                                    }
                                ]
                            },
                            "data": [
                                {
                                    "0": "/1/",
                                    "1": "vezerigazgato"
                                },
                                {
                                    "0": "/1/1/",
                                    "1": "marketing igazgato"
                                },
                                {
                                    "0": "/1/2/",
                                    "1": "penzugyi igazgato"
                                },
                                {
                                    "0": "/1/3/",
                                    "1": "ugyvezeto igazgato"
                                },
                                {
                                    "0": "/1/1/1/",
                                    "1": "marketing osztaly"
                                },
                                {
                                    "0": "/1/2/1/",
                                    "1": "penzugyi osztaly"
                                },
                                {
                                    "0": "/1/3/1/",
                                    "1": "termelesi osztaly"
                                }
                            ]
                        },
                        "text/html": [
                            "<table>",
                            "<tr><th>(No column name)</th><th>Beosztas</th></tr>",
                            "<tr><td>/1/</td><td>vezerigazgato</td></tr>",
                            "<tr><td>/1/1/</td><td>marketing igazgato</td></tr>",
                            "<tr><td>/1/2/</td><td>penzugyi igazgato</td></tr>",
                            "<tr><td>/1/3/</td><td>ugyvezeto igazgato</td></tr>",
                            "<tr><td>/1/1/1/</td><td>marketing osztaly</td></tr>",
                            "<tr><td>/1/2/1/</td><td>penzugyi osztaly</td></tr>",
                            "<tr><td>/1/3/1/</td><td>termelesi osztaly</td></tr>",
                            "</table>"
                        ]
                    }
                }
            ],
            "execution_count": 2
        }
    ]
}