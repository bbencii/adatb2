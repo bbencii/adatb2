{
    "metadata": {
        "kernelspec": {
            "name": "SQL",
            "display_name": "SQL",
            "language": "sql"
        },
        "language_info": {
            "name": "sql",
            "version": ""
        },
        "extensions": {
            "azuredatastudio": {
                "version": 1,
                "views": []
            }
        }
    },
    "nbformat_minor": 2,
    "nbformat": 4,
    "cells": [
        {
            "cell_type": "code",
            "source": [
                "select * from Szallashely for xml auto"
            ],
            "metadata": {
                "azdata_cell_guid": "8d06e6ca-cddd-4c05-afd0-c7e13ce3829c"
            },
            "outputs": [],
            "execution_count": null
        },
        {
            "cell_type": "code",
            "source": [
                "select sz.szoba_id, sz.szoba_szama, szh.szallas_nev\r\n",
                "from Szallashely szh inner join Szoba sz on szh.szallas_id = sz.szallas_fk\r\n",
                "for xml auto, elements"
            ],
            "metadata": {
                "azdata_cell_guid": "83befc89-678c-4b22-9801-decb85fad3d0"
            },
            "outputs": [],
            "execution_count": null
        },
        {
            "cell_type": "code",
            "source": [
                "select f.foglalas_pk as [@azon], v.nev as [@nev], f.mettol, f.felnott_szam\r\n",
                "from Foglalas f inner join Vendeg v on f.ugyfel_fk = v.USERNEV\r\n",
                "order by f.foglalas_pk ASC\r\n",
                "for xml path('Foglalas'), root('Foglalasok')"
            ],
            "metadata": {
                "azdata_cell_guid": "b9d65cd3-a06e-4d94-85a3-174ba919da8c"
            },
            "outputs": [],
            "execution_count": null
        },
        {
            "cell_type": "code",
            "source": [
                "declare @xml XML\r\n",
                "set @xml = cast('<Foglalasok>\r\n",
                "\t<Foglalas azon=\"558\" nev=\"Fő Nándor\">\r\n",
                "\t\t<mettol>\r\n",
                "\t\t\t2016-04-06\r\n",
                "\t\t</mettol>\r\n",
                "\t\t<felnott_szam>\r\n",
                "\t\t\t2\r\n",
                "\t\t</felnott_szam>\r\n",
                "\t</Foglalas>\r\n",
                "    <Foglalas azon=\"559\" nev=\"Kelemen Áron\">\r\n",
                "\t\t<mettol>\r\n",
                "\t\t\t2016-04-06\r\n",
                "\t\t</mettol>\r\n",
                "\t\t<felnott_szam>\r\n",
                "\t\t\t2\r\n",
                "\t\t</felnott_szam>\r\n",
                "\t</Foglalas>\r\n",
                "    </Foglalasok>' as xml)\r\n",
                "\r\n",
                "select @xml.query('Foglalasok/Foglalas')"
            ],
            "metadata": {
                "azdata_cell_guid": "c484503e-7847-49ff-9993-623d441f99ac"
            },
            "outputs": [],
            "execution_count": null
        },
        {
            "cell_type": "code",
            "source": [
                "declare @xml XML\r\n",
                "set @xml = cast('<Foglalasok>\r\n",
                "\t<Foglalas azon=\"558\">\r\n",
                "    <Vendeg nev=\"Fő Nándor\" />\r\n",
                "\t\t<mettol>\r\n",
                "\t\t\t2016-04-06\r\n",
                "\t\t</mettol>\r\n",
                "\t\t<felnott_szam>\r\n",
                "\t\t\t2\r\n",
                "\t\t</felnott_szam>\r\n",
                "\t</Foglalas>\r\n",
                "    <Foglalas azon=\"559\">\r\n",
                "    <Vendeg nev=\"Kelemen Áron\" />\r\n",
                "\t\t<mettol>\r\n",
                "\t\t\t2016-04-06\r\n",
                "\t\t</mettol>\r\n",
                "\t\t<felnott_szam>\r\n",
                "\t\t\t2\r\n",
                "\t\t</felnott_szam>\r\n",
                "\t</Foglalas>\r\n",
                "    </Foglalasok>' as xml)\r\n",
                "\r\n",
                "    select @xml.value('(/Foglalasok/Foglalas/Vendeg/@nev)[1]','nvarchar')\r\n",
                "\r\n",
                "    select f.value('@foglalas_pk', 'int') as 'azonositok' \r\n",
                "    from @xml.nodes('/Foglalasok/Foglalas') as t(f)"
            ],
            "metadata": {
                "azdata_cell_guid": "8f87a7ed-de84-4437-a74e-3e6221fca6b3"
            },
            "outputs": [],
            "execution_count": null
        },
        {
            "cell_type": "code",
            "source": [
                "declare @idoc int\r\n",
                "declare @xml XML\r\n",
                "set @xml = cast('<Foglalasok>\r\n",
                "\t<Foglalas azon=\"558\">\r\n",
                "    <Vendeg nev=\"Fő Nándor\" />\r\n",
                "\t\t<mettol>\r\n",
                "\t\t\t2016-04-06\r\n",
                "\t\t</mettol>\r\n",
                "\t\t<felnott_szam>\r\n",
                "\t\t\t2\r\n",
                "\t\t</felnott_szam>\r\n",
                "\t</Foglalas>\r\n",
                "    <Foglalas azon=\"559\">\r\n",
                "    <Vendeg nev=\"Kelemen Áron\" />\r\n",
                "\t\t<mettol>\r\n",
                "\t\t\t2016-04-06\r\n",
                "\t\t</mettol>\r\n",
                "\t\t<felnott_szam>\r\n",
                "\t\t\t2\r\n",
                "\t\t</felnott_szam>\r\n",
                "\t</Foglalas>\r\n",
                "    </Foglalasok>' as xml)\r\n",
                "\r\n",
                "    -- xml betoltes\r\n",
                "    exec sp_xml_preparedocument @idoc OUTPUT, @xml\r\n",
                "\r\n",
                "    select * from OPENXML(@idoc, 'Fogalalasok/Foglalas', 2)\r\n",
                "    with(foglalas_pk int '@foglalas_pk', mettol date '@mettol', felnott_szam int '@felnott_szam')\r\n",
                "\r\n",
                "    -- memoriafelszabaditas\r\n",
                "    exec sp_xml_removedocument @idoc"
            ],
            "metadata": {
                "azdata_cell_guid": "b63020c4-1600-43b5-8aa7-f8883e01f929"
            },
            "outputs": [],
            "execution_count": null
        },
        {
            "cell_type": "code",
            "source": [
                "declare @i GEOGRAPHY\r\n",
                "declare @j GEOGRAPHY\r\n",
                "\r\n",
                "set @i = geography::STGeomFromText('POINT(-122.34900 47.65100)', 4326)\r\n",
                "set @j = geography::STGeomFromText('POINT(-100.10 55.35)', 4326)\r\n",
                "\r\n",
                "select @i.STDistance(@j)"
            ],
            "metadata": {
                "azdata_cell_guid": "674234cb-1dd8-46dd-8303-2cd69e8ff5f0"
            },
            "outputs": [
                {
                    "output_type": "display_data",
                    "data": {
                        "text/html": "(1 row affected)"
                    },
                    "metadata": {}
                },
                {
                    "output_type": "display_data",
                    "data": {
                        "text/html": "Total execution time: 00:00:00.049"
                    },
                    "metadata": {}
                },
                {
                    "output_type": "execute_result",
                    "metadata": {},
                    "execution_count": 30,
                    "data": {
                        "application/vnd.dataresource+json": {
                            "schema": {
                                "fields": [
                                    {
                                        "name": "(No column name)"
                                    }
                                ]
                            },
                            "data": [
                                {
                                    "0": "1755449.3151604538"
                                }
                            ]
                        },
                        "text/html": [
                            "<table>",
                            "<tr><th>(No column name)</th></tr>",
                            "<tr><td>1755449.3151604538</td></tr>",
                            "</table>"
                        ]
                    }
                }
            ],
            "execution_count": 30
        }
    ]
}