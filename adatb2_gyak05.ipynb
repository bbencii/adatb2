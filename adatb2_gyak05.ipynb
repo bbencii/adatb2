{
    "metadata": {
        "kernelspec": {
            "name": "SQL",
            "display_name": "SQL",
            "language": "sql"
        },
        "language_info": {
            "name": "sql",
            "version": ""
        },
        "extensions": {
            "azuredatastudio": {
                "version": 1,
                "views": []
            }
        }
    },
    "nbformat_minor": 2,
    "nbformat": 4,
    "cells": [
        {
            "cell_type": "code",
            "source": [
                "select * from Szallashely for xml auto"
            ],
            "metadata": {
                "azdata_cell_guid": "8d06e6ca-cddd-4c05-afd0-c7e13ce3829c"
            },
            "outputs": [],
            "execution_count": null
        },
        {
            "cell_type": "code",
            "source": [
                "select sz.szoba_id, sz.szoba_szama, szh.szallas_nev\r\n",
                "from Szallashely szh inner join Szoba sz on szh.szallas_id = sz.szallas_fk\r\n",
                "for xml auto, elements"
            ],
            "metadata": {
                "azdata_cell_guid": "83befc89-678c-4b22-9801-decb85fad3d0"
            },
            "outputs": [],
            "execution_count": null
        },
        {
            "cell_type": "code",
            "source": [
                "select f.foglalas_pk as [@azon], v.nev as [@nev], f.mettol, f.felnott_szam\r\n",
                "from Foglalas f inner join Vendeg v on f.ugyfel_fk = v.USERNEV\r\n",
                "order by f.foglalas_pk ASC\r\n",
                "for xml path('Foglalas'), root('Foglalasok')"
            ],
            "metadata": {
                "azdata_cell_guid": "b9d65cd3-a06e-4d94-85a3-174ba919da8c"
            },
            "outputs": [],
            "execution_count": null
        },
        {
            "cell_type": "code",
            "source": [
                "declare @xml XML\r\n",
                "set @xml = cast('<Foglalasok>\r\n",
                "\t<Foglalas azon=\"558\" nev=\"Fő Nándor\">\r\n",
                "\t\t<mettol>\r\n",
                "\t\t\t2016-04-06\r\n",
                "\t\t</mettol>\r\n",
                "\t\t<felnott_szam>\r\n",
                "\t\t\t2\r\n",
                "\t\t</felnott_szam>\r\n",
                "\t</Foglalas>\r\n",
                "    <Foglalas azon=\"559\" nev=\"Kelemen Áron\">\r\n",
                "\t\t<mettol>\r\n",
                "\t\t\t2016-04-06\r\n",
                "\t\t</mettol>\r\n",
                "\t\t<felnott_szam>\r\n",
                "\t\t\t2\r\n",
                "\t\t</felnott_szam>\r\n",
                "\t</Foglalas>\r\n",
                "    </Foglalasok>' as xml)\r\n",
                "\r\n",
                "select @xml.query('Foglalasok/Foglalas')"
            ],
            "metadata": {
                "azdata_cell_guid": "c484503e-7847-49ff-9993-623d441f99ac"
            },
            "outputs": [],
            "execution_count": null
        },
        {
            "cell_type": "code",
            "source": [
                "declare @xml XML\r\n",
                "set @xml = cast('<Foglalasok>\r\n",
                "\t<Foglalas azon=\"558\">\r\n",
                "    <Vendeg nev=\"Fő Nándor\" />\r\n",
                "\t\t<mettol>\r\n",
                "\t\t\t2016-04-06\r\n",
                "\t\t</mettol>\r\n",
                "\t\t<felnott_szam>\r\n",
                "\t\t\t2\r\n",
                "\t\t</felnott_szam>\r\n",
                "\t</Foglalas>\r\n",
                "    <Foglalas azon=\"559\">\r\n",
                "    <Vendeg nev=\"Kelemen Áron\" />\r\n",
                "\t\t<mettol>\r\n",
                "\t\t\t2016-04-06\r\n",
                "\t\t</mettol>\r\n",
                "\t\t<felnott_szam>\r\n",
                "\t\t\t2\r\n",
                "\t\t</felnott_szam>\r\n",
                "\t</Foglalas>\r\n",
                "    </Foglalasok>' as xml)\r\n",
                "\r\n",
                "    select @xml.value('(/Foglalasok/Foglalas/Vendeg/@nev)[1]','nvarchar')\r\n",
                "\r\n",
                "    select f.value('@foglalas_pk', 'int') as 'azonositok' \r\n",
                "    from @xml.nodes('/Foglalasok/Foglalas') as t(f)"
            ],
            "metadata": {
                "azdata_cell_guid": "8f87a7ed-de84-4437-a74e-3e6221fca6b3"
            },
            "outputs": [],
            "execution_count": null
        },
        {
            "cell_type": "code",
            "source": [
                "declare @idoc int\r\n",
                "declare @xml XML\r\n",
                "set @xml = cast('<Foglalasok>\r\n",
                "\t<Foglalas azon=\"558\">\r\n",
                "    <Vendeg nev=\"Fő Nándor\" />\r\n",
                "\t\t<mettol>\r\n",
                "\t\t\t2016-04-06\r\n",
                "\t\t</mettol>\r\n",
                "\t\t<felnott_szam>\r\n",
                "\t\t\t2\r\n",
                "\t\t</felnott_szam>\r\n",
                "\t</Foglalas>\r\n",
                "    <Foglalas azon=\"559\">\r\n",
                "    <Vendeg nev=\"Kelemen Áron\" />\r\n",
                "\t\t<mettol>\r\n",
                "\t\t\t2016-04-06\r\n",
                "\t\t</mettol>\r\n",
                "\t\t<felnott_szam>\r\n",
                "\t\t\t2\r\n",
                "\t\t</felnott_szam>\r\n",
                "\t</Foglalas>\r\n",
                "    </Foglalasok>' as xml)\r\n",
                "\r\n",
                "    -- xml betoltes\r\n",
                "    exec sp_xml_preparedocument @idoc OUTPUT, @xml\r\n",
                "\r\n",
                "    select * from OPENXML(@idoc, 'Fogalalasok/Foglalas', 2)\r\n",
                "    with(foglalas_pk int '@foglalas_pk', mettol date '@mettol', felnott_szam int '@felnott_szam')\r\n",
                "\r\n",
                "    -- memoriafelszabaditas\r\n",
                "    exec sp_xml_removedocument @idoc"
            ],
            "metadata": {
                "azdata_cell_guid": "b63020c4-1600-43b5-8aa7-f8883e01f929"
            },
            "outputs": [],
            "execution_count": null
        },
        {
            "cell_type": "code",
            "source": [
                "declare @i GEOGRAPHY\r\n",
                "declare @j GEOGRAPHY\r\n",
                "\r\n",
                "set @i = geography::STGeomFromText('POINT(-122.34900 47.65100)', 4326)\r\n",
                "set @j = geography::STGeomFromText('POINT(-100.10 55.35)', 4326)\r\n",
                "\r\n",
                "select @i.STDistance(@j)"
            ],
            "metadata": {
                "azdata_cell_guid": "674234cb-1dd8-46dd-8303-2cd69e8ff5f0"
            },
            "outputs": [],
            "execution_count": null
        },
        {
            "cell_type": "code",
            "source": [
                "/*Készítsen függvényt UDFFoglalasszam néven, amely a paraméterként megadott ügyfél azonosítót felhasználva visszaadja, hogy az adott ügyfél eddig hányszor foglalt! \r\n",
                "\ta) Teszteljük a fv. működését, pl: SELECT dbo.UDFFoglalasszam('kata')*/\r\n",
                "   \r\n",
                "CREATE OR ALTER FUNCTION UDFFoglalasszam(@ugyfel nvarchar(50))\r\n",
                "RETURNS INT\r\n",
                "AS\r\n",
                "BEGIN\r\n",
                "RETURN\r\n",
                "(\r\n",
                "  select count(1) \r\n",
                "  from Foglalas f INNER JOIN Vendeg v on f.ugyfel_fk = v.usernev \r\n",
                "  where v.usernev = @ugyfel\r\n",
                ")\r\n",
                "END"
            ],
            "metadata": {
                "azdata_cell_guid": "240b0a14-7420-43a5-9dc6-0b95d721fa90"
            },
            "outputs": [],
            "execution_count": null
        },
        {
            "cell_type": "code",
            "source": [
                "-- test function\r\n",
                "SELECT UDFFoglalasszam('kata')"
            ],
            "metadata": {
                "azdata_cell_guid": "35447d97-09a3-4361-a0ed-d523a34459bb"
            },
            "outputs": [],
            "execution_count": null
        },
        {
            "cell_type": "code",
            "source": [
                "/*Készítsen triggert a Vendég táblához tgCheckUser néven, amely új vendég rögzítésekor ellenőrzi, hogy van-e már ilyen azonosítójú (USERNEV) a rendszerben. \r\n",
                "\ta. Az új vendég adatait csak akkor rögzítsük, ha a megadott azonosító még nem létezik\r\n",
                "\tb. Ha már van ilyen, akkor adjunk róla hibaüzenetet!\r\n",
                "\tc.  Teszteljük a trigger működését a melléklet 1. pontjában lévő utasítással!*/\r\n",
                "\r\n",
                "CREATE OR ALTER TRIGGER tgCheckUser ON Vendeg\r\n",
                "INSTEAD OF INSERT\r\n",
                "AS\r\n",
                "BEGIN\r\n",
                "DECLARE @vendeg nvarchar(50)\r\n",
                "SELECT @vendeg = usernev\r\n",
                "FROM inserted\r\n",
                "\r\n",
                "IF @vendeg IN(SELECT usernev from Vendeg)\r\n",
                "\tBEGIN\r\n",
                "    RAISERROR('Mar van ilyen user..',16,1)\r\n",
                "\tEND\r\n",
                "ELSE\r\n",
                "\tBEGIN\r\n",
                "    INSERT INTO Vendeg SELECT * FROM inserted\r\n",
                "    END\r\n",
                "END"
            ],
            "metadata": {
                "azdata_cell_guid": "6927d331-a067-4bc1-8341-4349593f203c"
            },
            "outputs": [],
            "execution_count": null
        },
        {
            "cell_type": "code",
            "source": [
                "-- test trigger\r\n",
                "INSERT [dbo].[Vendeg] ([USERNEV], [NEV], [EMAIL], [SZAML_CIM], [SZUL_DAT]) VALUES (N'adam1', N'Kiss Ádám', N'ádám.kiss@mail.hu', N'5630 Békés Szolnoki út 8.', CAST(N'1991-12-28' AS Date))\r\n",
                ""
            ],
            "metadata": {
                "azdata_cell_guid": "e212af4c-bc28-4d1e-bdc0-919e077de62e"
            },
            "outputs": [],
            "execution_count": null
        },
        {
            "cell_type": "code",
            "source": [
                "declare @xml XML\r\n",
                "set @xml = N'<CustomersOrders>\r\n",
                " <Customer custid=\"1\">\r\n",
                " <!-- Comment 111 -->\r\n",
                " <companyname>Customer NRZBB</companyname>\r\n",
                " <Order orderid=\"10692\">\r\n",
                " <orderdate>2007-10-03T00:00:00</orderdate>\r\n",
                " </Order>\r\n",
                " <Order orderid=\"10702\">\r\n",
                " <orderdate>2007-10-13T00:00:00</orderdate>\r\n",
                " </Order>\r\n",
                " <Order orderid=\"10952\">\r\n",
                " <orderdate>2008-03-16T00:00:00</orderdate>\r\n",
                " </Order>\r\n",
                " </Customer>\r\n",
                " <Customer custid=\"2\">\r\n",
                " <!-- Comment 222 --> \r\n",
                " <companyname>Customer MLTDN</companyname>\r\n",
                " <Order orderid=\"10308\">\r\n",
                " <orderdate>2006-09-18T00:00:00</orderdate>\r\n",
                " </Order>\r\n",
                " <Order orderid=\"10952\">\r\n",
                " <orderdate>2008-03-04T00:00:00</orderdate>\r\n",
                " </Order>\r\n",
                " </Customer>\r\n",
                "</CustomersOrders>'\r\n",
                "\r\n",
                "select @xml.query('/CustomersOrders/Customer/Order')"
            ],
            "metadata": {
                "azdata_cell_guid": "0c9c5e34-bec5-4677-9d9d-8ead0e7e3fee"
            },
            "outputs": [
                {
                    "output_type": "display_data",
                    "data": {
                        "text/html": "(1 row affected)"
                    },
                    "metadata": {}
                },
                {
                    "output_type": "display_data",
                    "data": {
                        "text/html": "Total execution time: 00:00:00.052"
                    },
                    "metadata": {}
                },
                {
                    "output_type": "execute_result",
                    "metadata": {},
                    "execution_count": 2,
                    "data": {
                        "application/vnd.dataresource+json": {
                            "schema": {
                                "fields": [
                                    {
                                        "name": "(No column name)"
                                    }
                                ]
                            },
                            "data": [
                                {
                                    "0": "<Order orderid=\"10692\"><orderdate>2007-10-03T00:00:00</orderdate></Order><Order orderid=\"10702\"><orderdate>2007-10-13T00:00:00</orderdate></Order><Order orderid=\"10952\"><orderdate>2008-03-16T00:00:00</orderdate></Order><Order orderid=\"10308\"><orderdate>2006-09-18T00:00:00</orderdate></Order><Order orderid=\"10952\"><orderdate>2008-03-04T00:00:00</orderdate></Order>"
                                }
                            ]
                        },
                        "text/html": [
                            "<table>",
                            "<tr><th>(No column name)</th></tr>",
                            "<tr><td>&lt;Order orderid=&quot;10692&quot;&gt;&lt;orderdate&gt;2007-10-03T00:00:00&lt;/orderdate&gt;&lt;/Order&gt;&lt;Order orderid=&quot;10702&quot;&gt;&lt;orderdate&gt;2007-10-13T00:00:00&lt;/orderdate&gt;&lt;/Order&gt;&lt;Order orderid=&quot;10952&quot;&gt;&lt;orderdate&gt;2008-03-16T00:00:00&lt;/orderdate&gt;&lt;/Order&gt;&lt;Order orderid=&quot;10308&quot;&gt;&lt;orderdate&gt;2006-09-18T00:00:00&lt;/orderdate&gt;&lt;/Order&gt;&lt;Order orderid=&quot;10952&quot;&gt;&lt;orderdate&gt;2008-03-04T00:00:00&lt;/orderdate&gt;&lt;/Order&gt;</td></tr>",
                            "</table>"
                        ]
                    }
                }
            ],
            "execution_count": 2
        },
        {
            "cell_type": "code",
            "source": [
                "/*Készítsen lekérdezést, amely megjeleníti azon klímás szobák azonosítóját és számát, amelyek pótággyal együtt 4-nél több fő számára biztosítanak helyet!\r\n",
                "    a. A lekérdezés eredménye XML formátumban jelenjen meg a melléklet 3. pontjában látható elrendezésben!*/\r\n",
                "\r\n",
                "select szoba_id, szoba_szama from Szoba where klimas='i' and ferohely + potagy >= 4\r\n",
                "for xml auto, elements \r\n",
                ""
            ],
            "metadata": {
                "azdata_cell_guid": "3f39a3dc-2fe5-476d-b6b1-af8957b9e184"
            },
            "outputs": [
                {
                    "output_type": "display_data",
                    "data": {
                        "text/html": "(53 rows affected)"
                    },
                    "metadata": {}
                },
                {
                    "output_type": "display_data",
                    "data": {
                        "text/html": "Total execution time: 00:00:00.086"
                    },
                    "metadata": {}
                },
                {
                    "output_type": "execute_result",
                    "metadata": {},
                    "execution_count": 4,
                    "data": {
                        "application/vnd.dataresource+json": {
                            "schema": {
                                "fields": [
                                    {
                                        "name": "XML_F52E2B61-18A1-11d1-B105-00805F49916B"
                                    }
                                ]
                            },
                            "data": [
                                {
                                    "0": "<Szoba><szoba_id>2</szoba_id><szoba_szama>2</szoba_szama></Szoba><Szoba><szoba_id>3</szoba_id><szoba_szama>3</szoba_szama></Szoba><Szoba><szoba_id>9</szoba_id><szoba_szama>9</szoba_szama></Szoba><Szoba><szoba_id>14</szoba_id><szoba_szama>2</szoba_szama></Szoba><Szoba><szoba_id>16</szoba_id><szoba_szama>4</szoba_szama></Szoba><Szoba><szoba_id>17</szoba_id><szoba_szama>1</szoba_szama></Szoba><Szoba><szoba_id>24</szoba_id><szoba_szama>8</szoba_szama></Szoba><Szoba><szoba_id>30</szoba_id><szoba_szama>6</szoba_szama></Szoba><Szoba><szoba_id>31</szoba_id><szoba_szama>7</szoba_szama></Szoba><Szoba><szoba_id>33</szoba_id><szoba_szama>9</szoba_szama></Szoba><Szoba><szoba_id>34</szoba_id><szoba_szama>10</szoba_szama></Szoba><Szoba><szoba_id>36</szoba_id><szoba_szama>12</szoba_szama></Szoba><Szoba><szoba_id>51</szoba_id><szoba_szama>2</szoba_szama></Szoba><Szoba><szoba_id>67</szoba_id><szoba_szama>18</szoba_szama></Szoba><Szoba><szoba_id>68</szoba_id><szoba_szama>19</szoba_szama></Szoba><Szoba><szoba_id>77</szoba_id><szoba_szama>28</szoba_szama></Szoba><Szoba><szoba_id>92</szoba_id><szoba_szama>2</szoba_szama></Szoba><Szoba><szoba_id>93</szoba_id><szoba_szama>3</szoba_szama></Szoba><Szoba><szoba_id>95</szoba_id><szoba_szama>5</szoba_szama></Szoba><Szoba><szoba_id>113</szoba_id><szoba_szama>23</szoba_szama></Szoba><Szoba><szoba_id>117</szoba_id><szoba_szama>27</szoba_szama></Szoba><Szoba><szoba_id>120</szoba_id><szoba_szama>30</szoba_szama></Szoba><Szoba><szoba_id>122</szoba_id><szoba_szama>32</szoba_szama></Szoba><Szoba><szoba_id>138</szoba_id><szoba_szama>4</szoba_szama></Szoba><Szoba><szoba_id>143</szoba_id><szoba_szama>9</szoba_szama></Szoba><Szoba><szoba_id>145</szoba_id><szoba_szama>11</szoba_szama></Szoba><Szoba><szoba_id>156</szoba_id><szoba_szama>22</szoba_szama></Szoba><Szoba><szoba_id>160</szoba_id><szoba_szama>1</szoba_szama></Szoba><Szoba><szoba_id>161</szoba_id><szoba_szama>2</szoba_szama></Szoba><Szoba><szoba_id>168</szoba_id><szoba_szama>4</szoba_szama></Szoba><Szoba><szoba_id>176</szoba_id><szoba_szama>12</szoba_szama></Szoba><Szoba><szoba_id>177</szoba_id><szoba_szama>13</szoba_szama></Szoba><Szoba><szoba_id>179</szoba_id><szoba_szama>15</szoba_szama></Szoba><Szoba><szoba_id>180</szoba_id><szoba_szama>16</szoba_szama></Szoba><Szoba><szoba_id>186</szoba_id><szoba_szama>22</szoba_szama></Szoba><Szoba><szoba_id>187</szoba_id><szoba_szama>23</szoba_szama></Szoba><Szoba><szoba_id>189</szoba_id><szoba_szama>25</szoba_szama></Szoba><Szoba><szoba_id>199</szoba_id><szoba_szama>35</szoba_szama></Szoba><Szoba><szoba_id>202</szoba_id><szoba_szama>38</szoba_szama></Szoba><Szoba><szoba_id>204</szoba_id><szoba_szama>40</szoba_szama></Szoba><Szoba><szoba_id>214</szoba_id><szoba_szama>50</szoba_szama></Szoba><Szoba><szoba_id>216</szoba_id><szoba_szama>2</szoba_szama></Szoba><Szoba><szoba_id>230</szoba_id><szoba_szama>4</szoba_szama></Szoba><Szoba><szoba_id>234</szoba_id><szoba_szama>4</szoba_szama></Szoba><Szoba><szoba_id>238</szoba_id><szoba_szama>8</szoba_szama></Szoba><Szoba><szoba_id>239</szoba_id><szoba_szama>9</szoba_szama></Szoba><Szoba><szoba_id>248</szoba_id><szoba_szama>6</szoba_szama></Szoba><Szoba><szoba_id>252</szoba_id><szoba_szama>10</szoba_szama></Szoba><Szoba><szoba_id>256</szoba_id><szoba_szama>14</szoba_szama></Szoba><Szoba><szoba_id>263</szoba_id><szoba_szama>1</szoba_szama></Szoba><Szoba><szoba_id>274</szoba_id><szoba_szama>12</szoba_szama></Szoba><Szoba><szoba_id>278</szoba_id><szoba_szama>1</szoba_szama></Szoba><Szoba><szoba_id>284</szoba_id><szoba_szama>4</szoba_szama></Szoba>"
                                }
                            ]
                        },
                        "text/html": [
                            "<table>",
                            "<tr><th>XML_F52E2B61-18A1-11d1-B105-00805F49916B</th></tr>",
                            "<tr><td>&lt;Szoba&gt;&lt;szoba_id&gt;2&lt;/szoba_id&gt;&lt;szoba_szama&gt;2&lt;/szoba_szama&gt;&lt;/Szoba&gt;&lt;Szoba&gt;&lt;szoba_id&gt;3&lt;/szoba_id&gt;&lt;szoba_szama&gt;3&lt;/szoba_szama&gt;&lt;/Szoba&gt;&lt;Szoba&gt;&lt;szoba_id&gt;9&lt;/szoba_id&gt;&lt;szoba_szama&gt;9&lt;/szoba_szama&gt;&lt;/Szoba&gt;&lt;Szoba&gt;&lt;szoba_id&gt;14&lt;/szoba_id&gt;&lt;szoba_szama&gt;2&lt;/szoba_szama&gt;&lt;/Szoba&gt;&lt;Szoba&gt;&lt;szoba_id&gt;16&lt;/szoba_id&gt;&lt;szoba_szama&gt;4&lt;/szoba_szama&gt;&lt;/Szoba&gt;&lt;Szoba&gt;&lt;szoba_id&gt;17&lt;/szoba_id&gt;&lt;szoba_szama&gt;1&lt;/szoba_szama&gt;&lt;/Szoba&gt;&lt;Szoba&gt;&lt;szoba_id&gt;24&lt;/szoba_id&gt;&lt;szoba_szama&gt;8&lt;/szoba_szama&gt;&lt;/Szoba&gt;&lt;Szoba&gt;&lt;szoba_id&gt;30&lt;/szoba_id&gt;&lt;szoba_szama&gt;6&lt;/szoba_szama&gt;&lt;/Szoba&gt;&lt;Szoba&gt;&lt;szoba_id&gt;31&lt;/szoba_id&gt;&lt;szoba_szama&gt;7&lt;/szoba_szama&gt;&lt;/Szoba&gt;&lt;Szoba&gt;&lt;szoba_id&gt;33&lt;/szoba_id&gt;&lt;szoba_szama&gt;9&lt;/szoba_szama&gt;&lt;/Szoba&gt;&lt;Szoba&gt;&lt;szoba_id&gt;34&lt;/szoba_id&gt;&lt;szoba_szama&gt;10&lt;/szoba_szama&gt;&lt;/Szoba&gt;&lt;Szoba&gt;&lt;szoba_id&gt;36&lt;/szoba_id&gt;&lt;szoba_szama&gt;12&lt;/szoba_szama&gt;&lt;/Szoba&gt;&lt;Szoba&gt;&lt;szoba_id&gt;51&lt;/szoba_id&gt;&lt;szoba_szama&gt;2&lt;/szoba_szama&gt;&lt;/Szoba&gt;&lt;Szoba&gt;&lt;szoba_id&gt;67&lt;/szoba_id&gt;&lt;szoba_szama&gt;18&lt;/szoba_szama&gt;&lt;/Szoba&gt;&lt;Szoba&gt;&lt;szoba_id&gt;68&lt;/szoba_id&gt;&lt;szoba_szama&gt;19&lt;/szoba_szama&gt;&lt;/Szoba&gt;&lt;Szoba&gt;&lt;szoba_id&gt;77&lt;/szoba_id&gt;&lt;szoba_szama&gt;28&lt;/szoba_szama&gt;&lt;/Szoba&gt;&lt;Szoba&gt;&lt;szoba_id&gt;92&lt;/szoba_id&gt;&lt;szoba_szama&gt;2&lt;/szoba_szama&gt;&lt;/Szoba&gt;&lt;Szoba&gt;&lt;szoba_id&gt;93&lt;/szoba_id&gt;&lt;szoba_szama&gt;3&lt;/szoba_szama&gt;&lt;/Szoba&gt;&lt;Szoba&gt;&lt;szoba_id&gt;95&lt;/szoba_id&gt;&lt;szoba_szama&gt;5&lt;/szoba_szama&gt;&lt;/Szoba&gt;&lt;Szoba&gt;&lt;szoba_id&gt;113&lt;/szoba_id&gt;&lt;szoba_szama&gt;23&lt;/szoba_szama&gt;&lt;/Szoba&gt;&lt;Szoba&gt;&lt;szoba_id&gt;117&lt;/szoba_id&gt;&lt;szoba_szama&gt;27&lt;/szoba_szama&gt;&lt;/Szoba&gt;&lt;Szoba&gt;&lt;szoba_id&gt;120&lt;/szoba_id&gt;&lt;szoba_szama&gt;30&lt;/szoba_szama&gt;&lt;/Szoba&gt;&lt;Szoba&gt;&lt;szoba_id&gt;122&lt;/szoba_id&gt;&lt;szoba_szama&gt;32&lt;/szoba_szama&gt;&lt;/Szoba&gt;&lt;Szoba&gt;&lt;szoba_id&gt;138&lt;/szoba_id&gt;&lt;szoba_szama&gt;4&lt;/szoba_szama&gt;&lt;/Szoba&gt;&lt;Szoba&gt;&lt;szoba_id&gt;143&lt;/szoba_id&gt;&lt;szoba_szama&gt;9&lt;/szoba_szama&gt;&lt;/Szoba&gt;&lt;Szoba&gt;&lt;szoba_id&gt;145&lt;/szoba_id&gt;&lt;szoba_szama&gt;11&lt;/szoba_szama&gt;&lt;/Szoba&gt;&lt;Szoba&gt;&lt;szoba_id&gt;156&lt;/szoba_id&gt;&lt;szoba_szama&gt;22&lt;/szoba_szama&gt;&lt;/Szoba&gt;&lt;Szoba&gt;&lt;szoba_id&gt;160&lt;/szoba_id&gt;&lt;szoba_szama&gt;1&lt;/szoba_szama&gt;&lt;/Szoba&gt;&lt;Szoba&gt;&lt;szoba_id&gt;161&lt;/szoba_id&gt;&lt;szoba_szama&gt;2&lt;/szoba_szama&gt;&lt;/Szoba&gt;&lt;Szoba&gt;&lt;szoba_id&gt;168&lt;/szoba_id&gt;&lt;szoba_szama&gt;4&lt;/szoba_szama&gt;&lt;/Szoba&gt;&lt;Szoba&gt;&lt;szoba_id&gt;176&lt;/szoba_id&gt;&lt;szoba_szama&gt;12&lt;/szoba_szama&gt;&lt;/Szoba&gt;&lt;Szoba&gt;&lt;szoba_id&gt;177&lt;/szoba_id&gt;&lt;szoba_szama&gt;13&lt;/szoba_szama&gt;&lt;/Szoba&gt;&lt;Szoba&gt;&lt;szoba_id&gt;179&lt;/szoba_id&gt;&lt;szoba_szama&gt;15&lt;/szoba_szama&gt;&lt;/Szoba&gt;&lt;Szoba&gt;&lt;szoba_id&gt;180&lt;/szoba_id&gt;&lt;szoba_szama&gt;16&lt;/szoba_szama&gt;&lt;/Szoba&gt;&lt;Szoba&gt;&lt;szoba_id&gt;186&lt;/szoba_id&gt;&lt;szoba_szama&gt;22&lt;/szoba_szama&gt;&lt;/Szoba&gt;&lt;Szoba&gt;&lt;szoba_id&gt;187&lt;/szoba_id&gt;&lt;szoba_szama&gt;23&lt;/szoba_szama&gt;&lt;/Szoba&gt;&lt;Szoba&gt;&lt;szoba_id&gt;189&lt;/szoba_id&gt;&lt;szoba_szama&gt;25&lt;/szoba_szama&gt;&lt;/Szoba&gt;&lt;Szoba&gt;&lt;szoba_id&gt;199&lt;/szoba_id&gt;&lt;szoba_szama&gt;35&lt;/szoba_szama&gt;&lt;/Szoba&gt;&lt;Szoba&gt;&lt;szoba_id&gt;202&lt;/szoba_id&gt;&lt;szoba_szama&gt;38&lt;/szoba_szama&gt;&lt;/Szoba&gt;&lt;Szoba&gt;&lt;szoba_id&gt;204&lt;/szoba_id&gt;&lt;szoba_szama&gt;40&lt;/szoba_szama&gt;&lt;/Szoba&gt;&lt;Szoba&gt;&lt;szoba_id&gt;214&lt;/szoba_id&gt;&lt;szoba_szama&gt;50&lt;/szoba_szama&gt;&lt;/Szoba&gt;&lt;Szoba&gt;&lt;szoba_id&gt;216&lt;/szoba_id&gt;&lt;szoba_szama&gt;2&lt;/szoba_szama&gt;&lt;/Szoba&gt;&lt;Szoba&gt;&lt;szoba_id&gt;230&lt;/szoba_id&gt;&lt;szoba_szama&gt;4&lt;/szoba_szama&gt;&lt;/Szoba&gt;&lt;Szoba&gt;&lt;szoba_id&gt;234&lt;/szoba_id&gt;&lt;szoba_szama&gt;4&lt;/szoba_szama&gt;&lt;/Szoba&gt;&lt;Szoba&gt;&lt;szoba_id&gt;238&lt;/szoba_id&gt;&lt;szoba_szama&gt;8&lt;/szoba_szama&gt;&lt;/Szoba&gt;&lt;Szoba&gt;&lt;szoba_id&gt;239&lt;/szoba_id&gt;&lt;szoba_szama&gt;9&lt;/szoba_szama&gt;&lt;/Szoba&gt;&lt;Szoba&gt;&lt;szoba_id&gt;248&lt;/szoba_id&gt;&lt;szoba_szama&gt;6&lt;/szoba_szama&gt;&lt;/Szoba&gt;&lt;Szoba&gt;&lt;szoba_id&gt;252&lt;/szoba_id&gt;&lt;szoba_szama&gt;10&lt;/szoba_szama&gt;&lt;/Szoba&gt;&lt;Szoba&gt;&lt;szoba_id&gt;256&lt;/szoba_id&gt;&lt;szoba_szama&gt;14&lt;/szoba_szama&gt;&lt;/Szoba&gt;&lt;Szoba&gt;&lt;szoba_id&gt;263&lt;/szoba_id&gt;&lt;szoba_szama&gt;1&lt;/szoba_szama&gt;&lt;/Szoba&gt;&lt;Szoba&gt;&lt;szoba_id&gt;274&lt;/szoba_id&gt;&lt;szoba_szama&gt;12&lt;/szoba_szama&gt;&lt;/Szoba&gt;&lt;Szoba&gt;&lt;szoba_id&gt;278&lt;/szoba_id&gt;&lt;szoba_szama&gt;1&lt;/szoba_szama&gt;&lt;/Szoba&gt;&lt;Szoba&gt;&lt;szoba_id&gt;284&lt;/szoba_id&gt;&lt;szoba_szama&gt;4&lt;/szoba_szama&gt;&lt;/Szoba&gt;</td></tr>",
                            "</table>"
                        ]
                    }
                }
            ],
            "execution_count": 4
        }
    ]
}