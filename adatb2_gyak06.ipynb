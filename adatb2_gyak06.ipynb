{
    "metadata": {
        "kernelspec": {
            "name": "SQL",
            "display_name": "SQL",
            "language": "sql"
        },
        "language_info": {
            "name": "sql",
            "version": ""
        },
        "extensions": {
            "azuredatastudio": {
                "version": 1,
                "views": []
            }
        }
    },
    "nbformat_minor": 2,
    "nbformat": 4,
    "cells": [
        {
            "cell_type": "code",
            "source": [
                "create table #Szervezet\r\n",
                "(\r\n",
                "    Szint HIERARCHYID,\r\n",
                "    Beosztas NVARCHAR(100)\r\n",
                ")\r\n",
                "\r\n",
                "insert into #Szervezet values('/1/', 'vezerigazgato');\r\n",
                "insert into #Szervezet values('/1/1/', 'marketing igazgato');\r\n",
                "insert into #Szervezet values('/1/2/', 'penzugyi igazgato');\r\n",
                "insert into #Szervezet values('/1/3/', 'ugyvezeto igazgato');\r\n",
                "insert into #Szervezet values('/1/1/1/', 'marketing osztaly');\r\n",
                "insert into #Szervezet values('/1/2/1/', 'penzugyi osztaly');\r\n",
                "insert into #Szervezet values('/1/3/1/', 'termelesi osztaly');\r\n",
                "\r\n",
                "select * from #Szervezet;"
            ],
            "metadata": {
                "azdata_cell_guid": "78b51491-4513-4408-9d60-a988d90ef597"
            },
            "outputs": [
                {
                    "output_type": "display_data",
                    "data": {
                        "text/html": "(1 row affected)"
                    },
                    "metadata": {}
                },
                {
                    "output_type": "display_data",
                    "data": {
                        "text/html": "(1 row affected)"
                    },
                    "metadata": {}
                },
                {
                    "output_type": "display_data",
                    "data": {
                        "text/html": "(1 row affected)"
                    },
                    "metadata": {}
                },
                {
                    "output_type": "display_data",
                    "data": {
                        "text/html": "(1 row affected)"
                    },
                    "metadata": {}
                },
                {
                    "output_type": "display_data",
                    "data": {
                        "text/html": "(1 row affected)"
                    },
                    "metadata": {}
                },
                {
                    "output_type": "display_data",
                    "data": {
                        "text/html": "(1 row affected)"
                    },
                    "metadata": {}
                },
                {
                    "output_type": "display_data",
                    "data": {
                        "text/html": "(1 row affected)"
                    },
                    "metadata": {}
                },
                {
                    "output_type": "display_data",
                    "data": {
                        "text/html": "(7 rows affected)"
                    },
                    "metadata": {}
                },
                {
                    "output_type": "display_data",
                    "data": {
                        "text/html": "Total execution time: 00:00:00.142"
                    },
                    "metadata": {}
                },
                {
                    "output_type": "execute_result",
                    "metadata": {},
                    "execution_count": 1,
                    "data": {
                        "application/vnd.dataresource+json": {
                            "schema": {
                                "fields": [
                                    {
                                        "name": "Szint"
                                    },
                                    {
                                        "name": "Beosztas"
                                    }
                                ]
                            },
                            "data": [
                                {
                                    "0": "0x58",
                                    "1": "vezerigazgato"
                                },
                                {
                                    "0": "0x5AC0",
                                    "1": "marketing igazgato"
                                },
                                {
                                    "0": "0x5B40",
                                    "1": "penzugyi igazgato"
                                },
                                {
                                    "0": "0x5BC0",
                                    "1": "ugyvezeto igazgato"
                                },
                                {
                                    "0": "0x5AD6",
                                    "1": "marketing osztaly"
                                },
                                {
                                    "0": "0x5B56",
                                    "1": "penzugyi osztaly"
                                },
                                {
                                    "0": "0x5BD6",
                                    "1": "termelesi osztaly"
                                }
                            ]
                        },
                        "text/html": [
                            "<table>",
                            "<tr><th>Szint</th><th>Beosztas</th></tr>",
                            "<tr><td>0x58</td><td>vezerigazgato</td></tr>",
                            "<tr><td>0x5AC0</td><td>marketing igazgato</td></tr>",
                            "<tr><td>0x5B40</td><td>penzugyi igazgato</td></tr>",
                            "<tr><td>0x5BC0</td><td>ugyvezeto igazgato</td></tr>",
                            "<tr><td>0x5AD6</td><td>marketing osztaly</td></tr>",
                            "<tr><td>0x5B56</td><td>penzugyi osztaly</td></tr>",
                            "<tr><td>0x5BD6</td><td>termelesi osztaly</td></tr>",
                            "</table>"
                        ]
                    }
                }
            ],
            "execution_count": 1
        }
    ]
}