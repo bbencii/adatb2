{
    "metadata": {
        "kernelspec": {
            "name": "SQL",
            "display_name": "SQL",
            "language": "sql"
        },
        "language_info": {
            "name": "sql",
            "version": ""
        },
        "extensions": {
            "azuredatastudio": {
                "version": 1,
                "views": []
            }
        }
    },
    "nbformat_minor": 2,
    "nbformat": 4,
    "cells": [
        {
            "cell_type": "markdown",
            "source": [
                "<span style=\"color: rgb(18, 38, 44); font-family: Arial; font-size: 15px; background-color: rgb(239, 249, 252);\">1. Számítsa ki, hogy átlagosan hány napig tartottak a foglalások&nbsp;</span> <span style=\"box-sizing: border-box; color: rgb(18, 38, 44); font-family: Arial; font-size: 0.9375rem; background-color: rgb(239, 249, 252);\">szállásonként, illetve ügyfelenként (külön-külön)!<br style=\"box-sizing: border-box;\">&nbsp; &nbsp; A szállás,&nbsp;</span> <span style=\"box-sizing: border-box; color: rgb(18, 38, 44); font-family: Arial; font-size: 0.9375rem; background-color: rgb(239, 249, 252);\">illetve az ügyfél esetén elég az azonosítójukat megadni.&nbsp;</span>"
            ],
            "metadata": {
                "azdata_cell_guid": "e063e1b1-2e89-4dc2-b826-6ce5c318470c"
            },
            "attachments": {}
        },
        {
            "cell_type": "code",
            "source": [
                "select sz.szallas_fk, f.ugyfel_fk, avg(datediff(day,mettol,meddig)) \r\n",
                "from Foglalas f inner join Szoba sz on f.szoba_fk = sz.SZOBA_ID\r\n",
                "group by GROUPING SETS(sz.szallas_fk, f.ugyfel_fk)"
            ],
            "metadata": {
                "azdata_cell_guid": "15dd0d73-acb6-4695-82a9-ad58d47a40b9"
            },
            "outputs": [],
            "execution_count": null
        },
        {
            "cell_type": "markdown",
            "source": [
                "2\\. Készítsünk lekérdezést, amely megadja, hogy szállás típusonként, <span style=\"box-sizing: border-box; font-size: 0.9375rem;\">azon belül szálláshely kategóriánként (csillagok_szama) hány&nbsp;</span> <span style=\"box-sizing: border-box; font-size: 0.9375rem;\">db szálláshely van!&nbsp;</span> \n",
                "\n",
                " <span style=\"box-sizing: border-box; font-size: 0.9375rem;\">&nbsp; &nbsp; a. A lista jelenítse&nbsp; meg a részösszegeket és&nbsp;</span> <span style=\"box-sizing: border-box; font-size: 0.9375rem;\">a végösszeget is (csak a végösszeget kell külön elnevezni)</span>"
            ],
            "metadata": {
                "azdata_cell_guid": "1e20e375-bef9-49f1-9293-1d541e0fcf8a"
            },
            "attachments": {}
        },
        {
            "cell_type": "code",
            "source": [
                "select ISNULL(sz.tipus,'Végösszeg'), sz.csillagok_szama, count(1) \r\n",
                "from Szallashely sz\r\n",
                "group by rollup(sz.tipus, sz.csillagok_szama) "
            ],
            "metadata": {
                "azdata_cell_guid": "21a8b410-3ecd-49f8-80e6-23636a6b3940"
            },
            "outputs": [],
            "execution_count": null
        },
        {
            "cell_type": "markdown",
            "source": [
                "3\\. Jelenítsük meg az ügyfelek nevét, minden egyes foglalásuk <span style=\"box-sizing: border-box; font-size: 0.9375rem;\">kezdő dátumát, és azt, hogy a foglalás összesen hány főre&nbsp;</span> <span style=\"box-sizing: border-box; font-size: 0.9375rem;\">történt.&nbsp;</span> \n",
                "\n",
                " <span style=\"box-sizing: border-box; font-size: 0.9375rem;\">&nbsp; &nbsp; a. Egy új oszlopban mindig jelenjen meg az előző foglalás&nbsp;</span> <span style=\"box-sizing: border-box; font-size: 0.9375rem;\">kezdő dátuma is!</span>"
            ],
            "metadata": {
                "azdata_cell_guid": "8d6d1126-0370-47fd-bf0c-d4d115683aa1"
            },
            "attachments": {}
        },
        {
            "cell_type": "code",
            "source": [
                "select v.nev, f.mettol, f.gyermek_szam + f.felnott_szam as osszes_fo, lag(f.mettol)\r\n",
                "       over(order by f.mettol) \r\n",
                "from Vendeg v inner join Foglalas f on f.ugyfel_fk = v.usernev"
            ],
            "metadata": {
                "azdata_cell_guid": "16614acd-4b1d-4484-8bdb-64922ac18a3a",
                "tags": []
            },
            "outputs": [],
            "execution_count": null
        },
        {
            "cell_type": "markdown",
            "source": [
                "5\\. A mellékletben lévő 3-as lekérdezésben a táblák összekapcsolását <span style=\"box-sizing: border-box; font-size: 0.9375rem;\">a WHERE feltételben megfogalmazott egyenlőségek helyett oldjuk&nbsp;</span> <span style=\"box-sizing: border-box; font-size: 0.9375rem;\">meg JOIN-ok segítségével egy új ablakban.&nbsp;</span> \n",
                "\n",
                " <span style=\"box-sizing: border-box; font-size: 0.9375rem;\">&nbsp; &nbsp; a. Hasonlítsuk össze&nbsp;</span> <span style=\"box-sizing: border-box; font-size: 0.9375rem;\">a lekérdezések becsült végrehajtási terveit (Estimated Execution&nbsp;</span> <span style=\"box-sizing: border-box; font-size: 0.9375rem;\">Plan), majd az átlagos futási idejüket 3-3 futtatás után. Mit&nbsp;</span> <span style=\"box-sizing: border-box; font-size: 0.9375rem;\">tapasztalunk?</span>"
            ],
            "metadata": {
                "azdata_cell_guid": "f14badf1-c9ca-4ee0-8551-26ac7b4865a6"
            },
            "attachments": {}
        },
        {
            "cell_type": "code",
            "source": [
                "SELECT szh.SZALLAS_ID, szh.SZALLAS_NEV\r\n",
                "FROM Foglalas f\r\n",
                "INNER JOIN Szoba sz on f.SZOBA_FK = sz.SZOBA_ID\r\n",
                "INNER JOIN Szallashely szh on szh.szallas_id = sz.szallas_fk\r\n",
                "GROUP BY szh.SZALLAS_ID, szh.SZALLAS_NEV\r\n",
                "ORDER BY COUNT(*) DESC"
            ],
            "metadata": {
                "azdata_cell_guid": "ddca3fa4-2a38-4177-bbda-a9ddec33e5a4"
            },
            "outputs": [
                {
                    "output_type": "display_data",
                    "data": {
                        "text/html": "(12 rows affected)"
                    },
                    "metadata": {}
                },
                {
                    "output_type": "display_data",
                    "data": {
                        "text/html": "Total execution time: 00:00:00.051"
                    },
                    "metadata": {}
                },
                {
                    "output_type": "execute_result",
                    "metadata": {},
                    "execution_count": 21,
                    "data": {
                        "application/vnd.dataresource+json": {
                            "schema": {
                                "fields": [
                                    {
                                        "name": "SZALLAS_ID"
                                    },
                                    {
                                        "name": "SZALLAS_NEV"
                                    }
                                ]
                            },
                            "data": [
                                {
                                    "0": "8",
                                    "1": "Hotel Három Hattyú"
                                },
                                {
                                    "0": "12",
                                    "1": "Gold Hotel"
                                },
                                {
                                    "0": "6",
                                    "1": "Kentaur Hotel"
                                },
                                {
                                    "0": "10",
                                    "1": "Lagúna Hotel"
                                },
                                {
                                    "0": "4",
                                    "1": "Fortuna panzió"
                                },
                                {
                                    "0": "1",
                                    "1": "Sába-Ház"
                                },
                                {
                                    "0": "5",
                                    "1": "Fortuna Panzió"
                                },
                                {
                                    "0": "3",
                                    "1": "Fortuna Apartman"
                                },
                                {
                                    "0": "7",
                                    "1": "Szieszta Apartmanház"
                                },
                                {
                                    "0": "9",
                                    "1": "Jáde panzió"
                                },
                                {
                                    "0": "11",
                                    "1": "Partiszél Vendégház"
                                },
                                {
                                    "0": "2",
                                    "1": "Családi Ház"
                                }
                            ]
                        },
                        "text/html": [
                            "<table>",
                            "<tr><th>SZALLAS_ID</th><th>SZALLAS_NEV</th></tr>",
                            "<tr><td>8</td><td>Hotel Három Hattyú</td></tr>",
                            "<tr><td>12</td><td>Gold Hotel</td></tr>",
                            "<tr><td>6</td><td>Kentaur Hotel</td></tr>",
                            "<tr><td>10</td><td>Lagúna Hotel</td></tr>",
                            "<tr><td>4</td><td>Fortuna panzió</td></tr>",
                            "<tr><td>1</td><td>Sába-Ház</td></tr>",
                            "<tr><td>5</td><td>Fortuna Panzió</td></tr>",
                            "<tr><td>3</td><td>Fortuna Apartman</td></tr>",
                            "<tr><td>7</td><td>Szieszta Apartmanház</td></tr>",
                            "<tr><td>9</td><td>Jáde panzió</td></tr>",
                            "<tr><td>11</td><td>Partiszél Vendégház</td></tr>",
                            "<tr><td>2</td><td>Családi Ház</td></tr>",
                            "</table>"
                        ]
                    }
                }
            ],
            "execution_count": 21
        }
    ]
}